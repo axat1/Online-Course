{
  "nbformat": 4,
  "nbformat_minor": 0,
  "metadata": {
    "kernelspec": {
      "display_name": "Python 3",
      "language": "python",
      "name": "python3"
    },
    "language_info": {
      "codemirror_mode": {
        "name": "ipython",
        "version": 3
      },
      "file_extension": ".py",
      "mimetype": "text/x-python",
      "name": "python",
      "nbconvert_exporter": "python",
      "pygments_lexer": "ipython3",
      "version": "3.6.0"
    },
    "colab": {
      "name": "Logistic Regression.ipynb",
      "provenance": [],
      "collapsed_sections": [
        "eyvtlE9_qqbf",
        "X6Iu673mqqby",
        "Rvdik6LSqqb4",
        "dg4RWISeqqb_",
        "HKtJ-0cwqqcI"
      ],
      "toc_visible": true
    }
  },
  "cells": [
    {
      "cell_type": "markdown",
      "metadata": {
        "id": "XZmFvJp3qqZZ",
        "colab_type": "text"
      },
      "source": [
        "# Implementing logistic regression from scratch\n",
        "\n",
        "The goal of this notebook is to implement your own logistic regression classifier. You will:\n",
        "\n",
        " * Extract features from Amazon product reviews.\n",
        " * Convert an SFrame into a NumPy array.\n",
        " * Implement the link function for logistic regression.\n",
        " * Write a function to compute the derivative of the log likelihood function with respect to a single coefficient.\n",
        " * Implement gradient ascent.\n",
        " * Given a set of coefficients, predict sentiments.\n",
        " * Compute classification accuracy for the logistic regression model.\n",
        " \n",
        "Let's get started!\n",
        "    \n",
        "## Fire up Turi Create\n",
        "\n",
        "Make sure you have the latest version of Turi Create."
      ]
    },
    {
      "cell_type": "code",
      "metadata": {
        "id": "odlHxRw3q5oP",
        "colab_type": "code",
        "colab": {
          "base_uri": "https://localhost:8080/",
          "height": 1000
        },
        "outputId": "8616f3a6-23a2-4802-df9f-0e98adcb6672"
      },
      "source": [
        "!pip install turicreate"
      ],
      "execution_count": 2,
      "outputs": [
        {
          "output_type": "stream",
          "text": [
            "Collecting turicreate\n",
            "\u001b[?25l  Downloading https://files.pythonhosted.org/packages/e4/76/76c624d7ae1116b22cd559288596a1f9aa7a50f8f43f4481033fc047f5e9/turicreate-6.3-cp36-cp36m-manylinux1_x86_64.whl (91.9MB)\n",
            "\u001b[K     |████████████████████████████████| 91.9MB 83kB/s \n",
            "\u001b[?25hRequirement already satisfied: scipy>=1.1.0 in /usr/local/lib/python3.6/dist-packages (from turicreate) (1.4.1)\n",
            "Collecting coremltools==3.3\n",
            "\u001b[?25l  Downloading https://files.pythonhosted.org/packages/77/19/611916d1ef326d38857d93af5ba184f6ad7491642e0fa4f9082e7d82f034/coremltools-3.3-cp36-none-manylinux1_x86_64.whl (3.4MB)\n",
            "\u001b[K     |████████████████████████████████| 3.4MB 43.1MB/s \n",
            "\u001b[?25hRequirement already satisfied: pillow>=5.2.0 in /usr/local/lib/python3.6/dist-packages (from turicreate) (7.0.0)\n",
            "Collecting tensorflow<=2.0.1,>=2.0.0\n",
            "\u001b[?25l  Downloading https://files.pythonhosted.org/packages/43/16/b07e3f7a4a024b47918f7018967eb984b0c542458a6141d8c48515aa81d4/tensorflow-2.0.1-cp36-cp36m-manylinux2010_x86_64.whl (86.3MB)\n",
            "\u001b[K     |████████████████████████████████| 86.3MB 50kB/s \n",
            "\u001b[?25hRequirement already satisfied: six>=1.10.0 in /usr/local/lib/python3.6/dist-packages (from turicreate) (1.12.0)\n",
            "Requirement already satisfied: prettytable==0.7.2 in /usr/local/lib/python3.6/dist-packages (from turicreate) (0.7.2)\n",
            "Collecting resampy==0.2.1\n",
            "\u001b[?25l  Downloading https://files.pythonhosted.org/packages/14/b6/66a06d85474190b50aee1a6c09cdc95bb405ac47338b27e9b21409da1760/resampy-0.2.1.tar.gz (322kB)\n",
            "\u001b[K     |████████████████████████████████| 327kB 46.9MB/s \n",
            "\u001b[?25hRequirement already satisfied: decorator>=4.0.9 in /usr/local/lib/python3.6/dist-packages (from turicreate) (4.4.2)\n",
            "Requirement already satisfied: numpy in /usr/local/lib/python3.6/dist-packages (from turicreate) (1.18.5)\n",
            "Requirement already satisfied: requests>=2.9.1 in /usr/local/lib/python3.6/dist-packages (from turicreate) (2.23.0)\n",
            "Requirement already satisfied: pandas>=0.23.2 in /usr/local/lib/python3.6/dist-packages (from turicreate) (1.0.4)\n",
            "Requirement already satisfied: protobuf>=3.1.0 in /usr/local/lib/python3.6/dist-packages (from coremltools==3.3->turicreate) (3.10.0)\n",
            "Collecting gast==0.2.2\n",
            "  Downloading https://files.pythonhosted.org/packages/4e/35/11749bf99b2d4e3cceb4d55ca22590b0d7c2c62b9de38ac4a4a7f4687421/gast-0.2.2.tar.gz\n",
            "Requirement already satisfied: grpcio>=1.8.6 in /usr/local/lib/python3.6/dist-packages (from tensorflow<=2.0.1,>=2.0.0->turicreate) (1.29.0)\n",
            "Requirement already satisfied: termcolor>=1.1.0 in /usr/local/lib/python3.6/dist-packages (from tensorflow<=2.0.1,>=2.0.0->turicreate) (1.1.0)\n",
            "Requirement already satisfied: google-pasta>=0.1.6 in /usr/local/lib/python3.6/dist-packages (from tensorflow<=2.0.1,>=2.0.0->turicreate) (0.2.0)\n",
            "Requirement already satisfied: keras-preprocessing>=1.0.5 in /usr/local/lib/python3.6/dist-packages (from tensorflow<=2.0.1,>=2.0.0->turicreate) (1.1.2)\n",
            "Requirement already satisfied: opt-einsum>=2.3.2 in /usr/local/lib/python3.6/dist-packages (from tensorflow<=2.0.1,>=2.0.0->turicreate) (3.2.1)\n",
            "Requirement already satisfied: astor>=0.6.0 in /usr/local/lib/python3.6/dist-packages (from tensorflow<=2.0.1,>=2.0.0->turicreate) (0.8.1)\n",
            "Requirement already satisfied: keras-applications>=1.0.8 in /usr/local/lib/python3.6/dist-packages (from tensorflow<=2.0.1,>=2.0.0->turicreate) (1.0.8)\n",
            "Requirement already satisfied: absl-py>=0.7.0 in /usr/local/lib/python3.6/dist-packages (from tensorflow<=2.0.1,>=2.0.0->turicreate) (0.9.0)\n",
            "Collecting tensorboard<2.1.0,>=2.0.0\n",
            "\u001b[?25l  Downloading https://files.pythonhosted.org/packages/76/54/99b9d5d52d5cb732f099baaaf7740403e83fe6b0cedde940fabd2b13d75a/tensorboard-2.0.2-py3-none-any.whl (3.8MB)\n",
            "\u001b[K     |████████████████████████████████| 3.8MB 36.3MB/s \n",
            "\u001b[?25hRequirement already satisfied: wrapt>=1.11.1 in /usr/local/lib/python3.6/dist-packages (from tensorflow<=2.0.1,>=2.0.0->turicreate) (1.12.1)\n",
            "Requirement already satisfied: wheel>=0.26; python_version >= \"3\" in /usr/local/lib/python3.6/dist-packages (from tensorflow<=2.0.1,>=2.0.0->turicreate) (0.34.2)\n",
            "Collecting tensorflow-estimator<2.1.0,>=2.0.0\n",
            "\u001b[?25l  Downloading https://files.pythonhosted.org/packages/fc/08/8b927337b7019c374719145d1dceba21a8bb909b93b1ad6f8fb7d22c1ca1/tensorflow_estimator-2.0.1-py2.py3-none-any.whl (449kB)\n",
            "\u001b[K     |████████████████████████████████| 450kB 48.6MB/s \n",
            "\u001b[?25hRequirement already satisfied: numba>=0.32 in /usr/local/lib/python3.6/dist-packages (from resampy==0.2.1->turicreate) (0.48.0)\n",
            "Requirement already satisfied: idna<3,>=2.5 in /usr/local/lib/python3.6/dist-packages (from requests>=2.9.1->turicreate) (2.9)\n",
            "Requirement already satisfied: chardet<4,>=3.0.2 in /usr/local/lib/python3.6/dist-packages (from requests>=2.9.1->turicreate) (3.0.4)\n",
            "Requirement already satisfied: certifi>=2017.4.17 in /usr/local/lib/python3.6/dist-packages (from requests>=2.9.1->turicreate) (2020.4.5.2)\n",
            "Requirement already satisfied: urllib3!=1.25.0,!=1.25.1,<1.26,>=1.21.1 in /usr/local/lib/python3.6/dist-packages (from requests>=2.9.1->turicreate) (1.24.3)\n",
            "Requirement already satisfied: python-dateutil>=2.6.1 in /usr/local/lib/python3.6/dist-packages (from pandas>=0.23.2->turicreate) (2.8.1)\n",
            "Requirement already satisfied: pytz>=2017.2 in /usr/local/lib/python3.6/dist-packages (from pandas>=0.23.2->turicreate) (2018.9)\n",
            "Requirement already satisfied: setuptools in /usr/local/lib/python3.6/dist-packages (from protobuf>=3.1.0->coremltools==3.3->turicreate) (47.3.1)\n",
            "Requirement already satisfied: h5py in /usr/local/lib/python3.6/dist-packages (from keras-applications>=1.0.8->tensorflow<=2.0.1,>=2.0.0->turicreate) (2.10.0)\n",
            "Requirement already satisfied: google-auth<2,>=1.6.3 in /usr/local/lib/python3.6/dist-packages (from tensorboard<2.1.0,>=2.0.0->tensorflow<=2.0.1,>=2.0.0->turicreate) (1.17.2)\n",
            "Requirement already satisfied: markdown>=2.6.8 in /usr/local/lib/python3.6/dist-packages (from tensorboard<2.1.0,>=2.0.0->tensorflow<=2.0.1,>=2.0.0->turicreate) (3.2.2)\n",
            "Requirement already satisfied: werkzeug>=0.11.15 in /usr/local/lib/python3.6/dist-packages (from tensorboard<2.1.0,>=2.0.0->tensorflow<=2.0.1,>=2.0.0->turicreate) (1.0.1)\n",
            "Requirement already satisfied: google-auth-oauthlib<0.5,>=0.4.1 in /usr/local/lib/python3.6/dist-packages (from tensorboard<2.1.0,>=2.0.0->tensorflow<=2.0.1,>=2.0.0->turicreate) (0.4.1)\n",
            "Requirement already satisfied: llvmlite<0.32.0,>=0.31.0dev0 in /usr/local/lib/python3.6/dist-packages (from numba>=0.32->resampy==0.2.1->turicreate) (0.31.0)\n",
            "Requirement already satisfied: cachetools<5.0,>=2.0.0 in /usr/local/lib/python3.6/dist-packages (from google-auth<2,>=1.6.3->tensorboard<2.1.0,>=2.0.0->tensorflow<=2.0.1,>=2.0.0->turicreate) (4.1.0)\n",
            "Requirement already satisfied: pyasn1-modules>=0.2.1 in /usr/local/lib/python3.6/dist-packages (from google-auth<2,>=1.6.3->tensorboard<2.1.0,>=2.0.0->tensorflow<=2.0.1,>=2.0.0->turicreate) (0.2.8)\n",
            "Requirement already satisfied: rsa<5,>=3.1.4; python_version >= \"3\" in /usr/local/lib/python3.6/dist-packages (from google-auth<2,>=1.6.3->tensorboard<2.1.0,>=2.0.0->tensorflow<=2.0.1,>=2.0.0->turicreate) (4.6)\n",
            "Requirement already satisfied: importlib-metadata; python_version < \"3.8\" in /usr/local/lib/python3.6/dist-packages (from markdown>=2.6.8->tensorboard<2.1.0,>=2.0.0->tensorflow<=2.0.1,>=2.0.0->turicreate) (1.6.1)\n",
            "Requirement already satisfied: requests-oauthlib>=0.7.0 in /usr/local/lib/python3.6/dist-packages (from google-auth-oauthlib<0.5,>=0.4.1->tensorboard<2.1.0,>=2.0.0->tensorflow<=2.0.1,>=2.0.0->turicreate) (1.3.0)\n",
            "Requirement already satisfied: pyasn1<0.5.0,>=0.4.6 in /usr/local/lib/python3.6/dist-packages (from pyasn1-modules>=0.2.1->google-auth<2,>=1.6.3->tensorboard<2.1.0,>=2.0.0->tensorflow<=2.0.1,>=2.0.0->turicreate) (0.4.8)\n",
            "Requirement already satisfied: zipp>=0.5 in /usr/local/lib/python3.6/dist-packages (from importlib-metadata; python_version < \"3.8\"->markdown>=2.6.8->tensorboard<2.1.0,>=2.0.0->tensorflow<=2.0.1,>=2.0.0->turicreate) (3.1.0)\n",
            "Requirement already satisfied: oauthlib>=3.0.0 in /usr/local/lib/python3.6/dist-packages (from requests-oauthlib>=0.7.0->google-auth-oauthlib<0.5,>=0.4.1->tensorboard<2.1.0,>=2.0.0->tensorflow<=2.0.1,>=2.0.0->turicreate) (3.1.0)\n",
            "Building wheels for collected packages: resampy, gast\n",
            "  Building wheel for resampy (setup.py) ... \u001b[?25l\u001b[?25hdone\n",
            "  Created wheel for resampy: filename=resampy-0.2.1-cp36-none-any.whl size=320850 sha256=465122c2dfc0ac8994f9e06d60343b1c83a0a6ebbe4ef62175df5e77781129b0\n",
            "  Stored in directory: /root/.cache/pip/wheels/ff/4f/ed/2e6c676c23efe5394bb40ade50662e90eb46e29b48324c5f9b\n",
            "  Building wheel for gast (setup.py) ... \u001b[?25l\u001b[?25hdone\n",
            "  Created wheel for gast: filename=gast-0.2.2-cp36-none-any.whl size=7540 sha256=e1b4b1437456d5395f9d12d003dfcbf3450a1b8003cd97dec801fc538a01e05a\n",
            "  Stored in directory: /root/.cache/pip/wheels/5c/2e/7e/a1d4d4fcebe6c381f378ce7743a3ced3699feb89bcfbdadadd\n",
            "Successfully built resampy gast\n",
            "\u001b[31mERROR: tensorflow-probability 0.10.0 has requirement gast>=0.3.2, but you'll have gast 0.2.2 which is incompatible.\u001b[0m\n",
            "Installing collected packages: coremltools, gast, tensorboard, tensorflow-estimator, tensorflow, resampy, turicreate\n",
            "  Found existing installation: gast 0.3.3\n",
            "    Uninstalling gast-0.3.3:\n",
            "      Successfully uninstalled gast-0.3.3\n",
            "  Found existing installation: tensorboard 2.2.2\n",
            "    Uninstalling tensorboard-2.2.2:\n",
            "      Successfully uninstalled tensorboard-2.2.2\n",
            "  Found existing installation: tensorflow-estimator 2.2.0\n",
            "    Uninstalling tensorflow-estimator-2.2.0:\n",
            "      Successfully uninstalled tensorflow-estimator-2.2.0\n",
            "  Found existing installation: tensorflow 2.2.0\n",
            "    Uninstalling tensorflow-2.2.0:\n",
            "      Successfully uninstalled tensorflow-2.2.0\n",
            "  Found existing installation: resampy 0.2.2\n",
            "    Uninstalling resampy-0.2.2:\n",
            "      Successfully uninstalled resampy-0.2.2\n",
            "Successfully installed coremltools-3.3 gast-0.2.2 resampy-0.2.1 tensorboard-2.0.2 tensorflow-2.0.1 tensorflow-estimator-2.0.1 turicreate-6.3\n"
          ],
          "name": "stdout"
        }
      ]
    },
    {
      "cell_type": "code",
      "metadata": {
        "id": "h_vLtrveq8TT",
        "colab_type": "code",
        "colab": {
          "base_uri": "https://localhost:8080/",
          "height": 122
        },
        "outputId": "ec5867a4-306c-4ac3-f435-838b3ca650fd"
      },
      "source": [
        "from google.colab import drive\n",
        "drive.mount('/content/drive')"
      ],
      "execution_count": 1,
      "outputs": [
        {
          "output_type": "stream",
          "text": [
            "Go to this URL in a browser: https://accounts.google.com/o/oauth2/auth?client_id=947318989803-6bn6qk8qdgf4n4g3pfee6491hc0brc4i.apps.googleusercontent.com&redirect_uri=urn%3aietf%3awg%3aoauth%3a2.0%3aoob&response_type=code&scope=email%20https%3a%2f%2fwww.googleapis.com%2fauth%2fdocs.test%20https%3a%2f%2fwww.googleapis.com%2fauth%2fdrive%20https%3a%2f%2fwww.googleapis.com%2fauth%2fdrive.photos.readonly%20https%3a%2f%2fwww.googleapis.com%2fauth%2fpeopleapi.readonly\n",
            "\n",
            "Enter your authorization code:\n",
            "··········\n",
            "Mounted at /content/drive\n"
          ],
          "name": "stdout"
        }
      ]
    },
    {
      "cell_type": "code",
      "metadata": {
        "id": "KvpoB_HyqqZb",
        "colab_type": "code",
        "colab": {}
      },
      "source": [
        "import turicreate"
      ],
      "execution_count": 3,
      "outputs": []
    },
    {
      "cell_type": "markdown",
      "metadata": {
        "id": "Q_oK-c2hqqZi",
        "colab_type": "text"
      },
      "source": [
        "## Load review dataset"
      ]
    },
    {
      "cell_type": "markdown",
      "metadata": {
        "id": "Qnhz-B29qqZk",
        "colab_type": "text"
      },
      "source": [
        "For this assignment, we will use a subset of the Amazon product review dataset. The subset was chosen to contain similar numbers of positive and negative reviews, as the original dataset consisted primarily of positive reviews."
      ]
    },
    {
      "cell_type": "code",
      "metadata": {
        "id": "oS_p6r9AqqZl",
        "colab_type": "code",
        "colab": {}
      },
      "source": [
        "products = turicreate.SFrame('/content/drive/My Drive/Colab Notebooks/Machine Learning/Course 3 Machine Learning Classification/Week2/Logistic Regression/amazon_baby_subset.sframe')"
      ],
      "execution_count": 6,
      "outputs": []
    },
    {
      "cell_type": "markdown",
      "metadata": {
        "id": "V_oi_M31qqZr",
        "colab_type": "text"
      },
      "source": [
        "One column of this dataset is 'sentiment', corresponding to the class label with +1 indicating a review with positive sentiment and -1 indicating one with negative sentiment."
      ]
    },
    {
      "cell_type": "code",
      "metadata": {
        "id": "YeGsslvqqqZr",
        "colab_type": "code",
        "colab": {
          "base_uri": "https://localhost:8080/",
          "height": 88
        },
        "outputId": "1c96e60b-20fc-41eb-cc22-c2ac14b97826"
      },
      "source": [
        "products['sentiment']"
      ],
      "execution_count": 7,
      "outputs": [
        {
          "output_type": "execute_result",
          "data": {
            "text/plain": [
              "dtype: int\n",
              "Rows: 53072\n",
              "[1, 1, 1, 1, 1, 1, 1, 1, 1, 1, 1, 1, 1, 1, 1, 1, 1, 1, 1, 1, 1, 1, 1, 1, 1, 1, 1, 1, 1, 1, 1, 1, 1, 1, 1, 1, 1, 1, 1, 1, 1, 1, 1, 1, 1, 1, 1, 1, 1, 1, 1, 1, 1, 1, 1, 1, 1, 1, 1, 1, 1, 1, 1, 1, 1, 1, 1, 1, 1, 1, 1, 1, 1, 1, 1, 1, 1, 1, 1, 1, 1, 1, 1, 1, 1, 1, 1, 1, 1, 1, 1, 1, 1, 1, 1, 1, 1, 1, 1, 1, ... ]"
            ]
          },
          "metadata": {
            "tags": []
          },
          "execution_count": 7
        }
      ]
    },
    {
      "cell_type": "markdown",
      "metadata": {
        "id": "J4EFX4plqqZw",
        "colab_type": "text"
      },
      "source": [
        "Let us quickly explore more of this dataset.  The 'name' column indicates the name of the product.  Here we list the first 10 products in the dataset.  We then count the number of positive and negative reviews."
      ]
    },
    {
      "cell_type": "code",
      "metadata": {
        "id": "IWi7A5KfqqZx",
        "colab_type": "code",
        "colab": {
          "base_uri": "https://localhost:8080/",
          "height": 88
        },
        "outputId": "027cedd3-9d26-42be-c59c-8a020d8745fd"
      },
      "source": [
        "products.head(10)['name']"
      ],
      "execution_count": 8,
      "outputs": [
        {
          "output_type": "execute_result",
          "data": {
            "text/plain": [
              "dtype: str\n",
              "Rows: 10\n",
              "[\"Stop Pacifier Sucking without tears with Thumbuddy To Love's Binky Fairy Puppet and Adorable Book\", \"Nature's Lullabies Second Year Sticker Calendar\", \"Nature's Lullabies Second Year Sticker Calendar\", 'Lamaze Peekaboo, I Love You', \"SoftPlay Peek-A-Boo Where's Elmo A Children's Book\", 'Our Baby Girl Memory Book', 'Hunnt&reg; Falling Flowers and Birds Kids Nursery Home Decor Vinyl Mural Art Wall Paper Stickers', 'Blessed By Pope Benedict XVI Divine Mercy Full Color Medal', 'Cloth Diaper Pins Stainless Steel Traditional Safety Pin (Black)', 'Cloth Diaper Pins Stainless Steel Traditional Safety Pin (Black)']"
            ]
          },
          "metadata": {
            "tags": []
          },
          "execution_count": 8
        }
      ]
    },
    {
      "cell_type": "code",
      "metadata": {
        "id": "nksrwI1RqqZ1",
        "colab_type": "code",
        "colab": {
          "base_uri": "https://localhost:8080/",
          "height": 51
        },
        "outputId": "49d086bb-56e0-4ad7-933d-1301f08c4026"
      },
      "source": [
        "print('# of positive reviews =', len(products[products['sentiment']==1]))\n",
        "print('# of negative reviews =', len(products[products['sentiment']==-1]))"
      ],
      "execution_count": 9,
      "outputs": [
        {
          "output_type": "stream",
          "text": [
            "# of positive reviews = 26579\n",
            "# of negative reviews = 26493\n"
          ],
          "name": "stdout"
        }
      ]
    },
    {
      "cell_type": "markdown",
      "metadata": {
        "id": "3mPOcmpRqqZ6",
        "colab_type": "text"
      },
      "source": [
        "**Note:** For this assignment, we eliminated class imbalance by choosing \n",
        "a subset of the data with a similar number of positive and negative reviews. \n",
        "\n",
        "## Apply text cleaning on the review data\n",
        "\n",
        "In this section, we will perform some simple feature cleaning using **SFrames**. The last assignment used all words in building bag-of-words features, but here we limit ourselves to 193 words (for simplicity). We compiled a list of 193 most frequent words into a JSON file. \n",
        "\n",
        "Now, we will load these words from this JSON file:"
      ]
    },
    {
      "cell_type": "code",
      "metadata": {
        "id": "xjikMtkHqqZ7",
        "colab_type": "code",
        "colab": {}
      },
      "source": [
        "import json\n",
        "with open('/content/drive/My Drive/Colab Notebooks/Machine Learning/Course 3 Machine Learning Classification/Week2/Logistic Regression/important_words.json', 'r') as f: # Reads the list of most frequent words\n",
        "    important_words = json.load(f)\n",
        "important_words = [str(s) for s in important_words]"
      ],
      "execution_count": 10,
      "outputs": []
    },
    {
      "cell_type": "code",
      "metadata": {
        "id": "9vHH3rpmqqaA",
        "colab_type": "code",
        "colab": {
          "base_uri": "https://localhost:8080/",
          "height": 54
        },
        "outputId": "163b4ae7-57a6-4a7f-df5e-7cfd3a45ee7a"
      },
      "source": [
        "print(important_words)"
      ],
      "execution_count": 11,
      "outputs": [
        {
          "output_type": "stream",
          "text": [
            "['baby', 'one', 'great', 'love', 'use', 'would', 'like', 'easy', 'little', 'seat', 'old', 'well', 'get', 'also', 'really', 'son', 'time', 'bought', 'product', 'good', 'daughter', 'much', 'loves', 'stroller', 'put', 'months', 'car', 'still', 'back', 'used', 'recommend', 'first', 'even', 'perfect', 'nice', 'bag', 'two', 'using', 'got', 'fit', 'around', 'diaper', 'enough', 'month', 'price', 'go', 'could', 'soft', 'since', 'buy', 'room', 'works', 'made', 'child', 'keep', 'size', 'small', 'need', 'year', 'big', 'make', 'take', 'easily', 'think', 'crib', 'clean', 'way', 'quality', 'thing', 'better', 'without', 'set', 'new', 'every', 'cute', 'best', 'bottles', 'work', 'purchased', 'right', 'lot', 'side', 'happy', 'comfortable', 'toy', 'able', 'kids', 'bit', 'night', 'long', 'fits', 'see', 'us', 'another', 'play', 'day', 'money', 'monitor', 'tried', 'thought', 'never', 'item', 'hard', 'plastic', 'however', 'disappointed', 'reviews', 'something', 'going', 'pump', 'bottle', 'cup', 'waste', 'return', 'amazon', 'different', 'top', 'want', 'problem', 'know', 'water', 'try', 'received', 'sure', 'times', 'chair', 'find', 'hold', 'gate', 'open', 'bottom', 'away', 'actually', 'cheap', 'worked', 'getting', 'ordered', 'came', 'milk', 'bad', 'part', 'worth', 'found', 'cover', 'many', 'design', 'looking', 'weeks', 'say', 'wanted', 'look', 'place', 'purchase', 'looks', 'second', 'piece', 'box', 'pretty', 'trying', 'difficult', 'together', 'though', 'give', 'started', 'anything', 'last', 'company', 'come', 'returned', 'maybe', 'took', 'broke', 'makes', 'stay', 'instead', 'idea', 'head', 'said', 'less', 'went', 'working', 'high', 'unit', 'seems', 'picture', 'completely', 'wish', 'buying', 'babies', 'won', 'tub', 'almost', 'either']\n"
          ],
          "name": "stdout"
        }
      ]
    },
    {
      "cell_type": "markdown",
      "metadata": {
        "id": "kCaB5MsLqqaF",
        "colab_type": "text"
      },
      "source": [
        "Now, we will perform 2 simple data transformations:\n",
        "\n",
        "1. Remove punctuation using [Python's built-in](https://docs.python.org/2/library/string.html) string functionality.\n",
        "2. Compute word counts (only for **important_words**)\n",
        "\n",
        "We start with *Step 1* which can be done as follows:"
      ]
    },
    {
      "cell_type": "code",
      "metadata": {
        "id": "_dkl5kL-qqaG",
        "colab_type": "code",
        "colab": {}
      },
      "source": [
        "import string \n",
        "def remove_punctuation(text):\n",
        "    try: # python 2.x\n",
        "        text = text.translate(None, string.punctuation) \n",
        "    except: # python 3.x\n",
        "        translator = text.maketrans('', '', string.punctuation)\n",
        "        text = text.translate(translator)\n",
        "    return text\n",
        "\n",
        "products['review_clean'] = products['review'].apply(remove_punctuation)"
      ],
      "execution_count": 12,
      "outputs": []
    },
    {
      "cell_type": "markdown",
      "metadata": {
        "id": "75DAygBJqqaL",
        "colab_type": "text"
      },
      "source": [
        "Now we proceed with *Step 2*. For each word in **important_words**, we compute a count for the number of times the word occurs in the review. We will store this count in a separate column (one for each word). The result of this feature processing is a single column for each word in **important_words** which keeps a count of the number of times the respective word occurs in the review text.\n",
        "\n",
        "\n",
        "**Note:** There are several ways of doing this. In this assignment, we use the built-in *count* function for Python lists. Each review string is first split into individual words and the number of occurances of a given word is counted."
      ]
    },
    {
      "cell_type": "code",
      "metadata": {
        "id": "T0mxih-YqqaL",
        "colab_type": "code",
        "colab": {}
      },
      "source": [
        "for word in important_words:\n",
        "    products[word] = products['review_clean'].apply(lambda s : s.split().count(word))"
      ],
      "execution_count": 13,
      "outputs": []
    },
    {
      "cell_type": "markdown",
      "metadata": {
        "id": "dCczE0o2qqaQ",
        "colab_type": "text"
      },
      "source": [
        "The SFrame **products** now contains one column for each of the 193 **important_words**. As an example, the column **perfect** contains a count of the number of times the word **perfect** occurs in each of the reviews."
      ]
    },
    {
      "cell_type": "code",
      "metadata": {
        "id": "9RlYS2K0qqaR",
        "colab_type": "code",
        "colab": {
          "base_uri": "https://localhost:8080/",
          "height": 88
        },
        "outputId": "f0f9c2f3-3eaa-4662-a617-3a8e422a7cfe"
      },
      "source": [
        "products['perfect']"
      ],
      "execution_count": 14,
      "outputs": [
        {
          "output_type": "execute_result",
          "data": {
            "text/plain": [
              "dtype: int\n",
              "Rows: 53072\n",
              "[0, 0, 0, 1, 0, 0, 0, 0, 0, 0, 0, 1, 0, 0, 0, 0, 0, 0, 0, 0, 0, 0, 1, 0, 1, 0, 0, 1, 0, 0, 0, 0, 0, 0, 0, 0, 0, 0, 0, 0, 0, 0, 0, 0, 0, 0, 0, 0, 0, 0, 0, 0, 0, 0, 0, 0, 0, 0, 0, 0, 0, 0, 0, 0, 0, 0, 0, 0, 0, 0, 0, 0, 0, 0, 0, 0, 0, 0, 0, 0, 0, 0, 0, 0, 0, 0, 0, 0, 0, 0, 0, 0, 0, 0, 0, 0, 0, 0, 0, 0, ... ]"
            ]
          },
          "metadata": {
            "tags": []
          },
          "execution_count": 14
        }
      ]
    },
    {
      "cell_type": "markdown",
      "metadata": {
        "id": "zwFx8SZUqqaV",
        "colab_type": "text"
      },
      "source": [
        "Now, write some code to compute the number of product reviews that contain the word **perfect**.\n",
        "\n",
        "**Hint**: \n",
        "* First create a column called `contains_perfect` which is set to 1 if the count of the word **perfect** (stored in column **perfect**) is >= 1.\n",
        "* Sum the number of 1s in the column `contains_perfect`."
      ]
    },
    {
      "cell_type": "code",
      "metadata": {
        "id": "iibNUyG8qqaW",
        "colab_type": "code",
        "colab": {}
      },
      "source": [
        "products['contains_perfect'] = products['perfect'].apply(lambda x: 1 if x >= 1 else 0)"
      ],
      "execution_count": 20,
      "outputs": []
    },
    {
      "cell_type": "code",
      "metadata": {
        "id": "3rg6yxYBwdal",
        "colab_type": "code",
        "colab": {
          "base_uri": "https://localhost:8080/",
          "height": 34
        },
        "outputId": "961b97a7-b7bc-48df-bfd0-8def1841ef5d"
      },
      "source": [
        "print('#column contains perfect ', (products['contains_perfect']).sum())"
      ],
      "execution_count": 21,
      "outputs": [
        {
          "output_type": "stream",
          "text": [
            "#column contains perfect  2955\n"
          ],
          "name": "stdout"
        }
      ]
    },
    {
      "cell_type": "markdown",
      "metadata": {
        "id": "b2pGuRL2qqaZ",
        "colab_type": "text"
      },
      "source": [
        "**Quiz Question**. How many reviews contain the word **perfect**?"
      ]
    },
    {
      "cell_type": "markdown",
      "metadata": {
        "id": "m-aeOVkuqqaa",
        "colab_type": "text"
      },
      "source": [
        "## Convert SFrame to NumPy array\n",
        "\n",
        "As you have seen previously, NumPy is a powerful library for doing matrix manipulation. Let us convert our data to matrices and then implement our algorithms with matrices.\n",
        "\n",
        "First, make sure you can perform the following import. If it doesn't work, you need to go back to the terminal and run\n",
        "\n",
        "`pip install numpy`."
      ]
    },
    {
      "cell_type": "code",
      "metadata": {
        "id": "1YQxD1iyqqab",
        "colab_type": "code",
        "colab": {}
      },
      "source": [
        "import numpy as np"
      ],
      "execution_count": 22,
      "outputs": []
    },
    {
      "cell_type": "markdown",
      "metadata": {
        "id": "IZ9gq-8Vqqaf",
        "colab_type": "text"
      },
      "source": [
        "We now provide you with a function that extracts columns from an SFrame and converts them into a NumPy array. Two arrays are returned: one representing features and another representing class labels. Note that the feature matrix includes an additional column 'intercept' to take account of the intercept term."
      ]
    },
    {
      "cell_type": "code",
      "metadata": {
        "id": "bUJ41Iwtqqaf",
        "colab_type": "code",
        "colab": {}
      },
      "source": [
        "def get_numpy_data(data_sframe, features, label):\n",
        "    data_sframe['intercept'] = 1\n",
        "    features = ['intercept'] + features\n",
        "    features_sframe = data_sframe[features]\n",
        "    feature_matrix = features_sframe.to_numpy()\n",
        "    label_sarray = data_sframe[label]\n",
        "    label_array = label_sarray.to_numpy()\n",
        "    return(feature_matrix, label_array)"
      ],
      "execution_count": 23,
      "outputs": []
    },
    {
      "cell_type": "markdown",
      "metadata": {
        "id": "vwA7P6Deqqaj",
        "colab_type": "text"
      },
      "source": [
        "Let us convert the data into NumPy arrays."
      ]
    },
    {
      "cell_type": "code",
      "metadata": {
        "id": "Ekuh1eprqqak",
        "colab_type": "code",
        "colab": {}
      },
      "source": [
        "# Warning: This may take a few minutes...\n",
        "feature_matrix, sentiment = get_numpy_data(products, important_words, 'sentiment') "
      ],
      "execution_count": 24,
      "outputs": []
    },
    {
      "cell_type": "markdown",
      "metadata": {
        "id": "kSC83nDKqqat",
        "colab_type": "text"
      },
      "source": [
        "**Are you running this notebook on an Amazon EC2 t2.micro instance?** (If you are using your own machine, please skip this section)\n",
        "\n",
        "It has been reported that t2.micro instances do not provide sufficient power to complete the conversion in acceptable amount of time. For interest of time, please refrain from running `get_numpy_data` function. Instead, download the [binary file](https://s3.amazonaws.com/static.dato.com/files/coursera/course-3/numpy-arrays/module-3-assignment-numpy-arrays.npz) containing the four NumPy arrays you'll need for the assignment. To load the arrays, run the following commands:\n",
        "```\n",
        "arrays = np.load('module-3-assignment-numpy-arrays.npz')\n",
        "feature_matrix, sentiment = arrays['feature_matrix'], arrays['sentiment']\n",
        "```"
      ]
    },
    {
      "cell_type": "code",
      "metadata": {
        "id": "QMPpl8Qmqqau",
        "colab_type": "code",
        "colab": {
          "base_uri": "https://localhost:8080/",
          "height": 34
        },
        "outputId": "f29398e9-c0b0-45ab-d101-dcc17122cb9b"
      },
      "source": [
        "feature_matrix.shape"
      ],
      "execution_count": 25,
      "outputs": [
        {
          "output_type": "execute_result",
          "data": {
            "text/plain": [
              "(53072, 194)"
            ]
          },
          "metadata": {
            "tags": []
          },
          "execution_count": 25
        }
      ]
    },
    {
      "cell_type": "markdown",
      "metadata": {
        "id": "N22OrK4Tqqaz",
        "colab_type": "text"
      },
      "source": [
        "**Quiz Question:** How many features are there in the **feature_matrix**?\n",
        "\n",
        "**Quiz Question:** Assuming that the intercept is present, how does the number of features in **feature_matrix** relate to the number of features in the logistic regression model?"
      ]
    },
    {
      "cell_type": "markdown",
      "metadata": {
        "id": "8MOoqpHhqqaz",
        "colab_type": "text"
      },
      "source": [
        "Now, let us see what the **sentiment** column looks like:"
      ]
    },
    {
      "cell_type": "code",
      "metadata": {
        "id": "u_mLSUBtqqa0",
        "colab_type": "code",
        "colab": {
          "base_uri": "https://localhost:8080/",
          "height": 34
        },
        "outputId": "5651747c-0a66-478a-d45c-76a650b56242"
      },
      "source": [
        "sentiment"
      ],
      "execution_count": 26,
      "outputs": [
        {
          "output_type": "execute_result",
          "data": {
            "text/plain": [
              "array([ 1,  1,  1, ..., -1, -1, -1])"
            ]
          },
          "metadata": {
            "tags": []
          },
          "execution_count": 26
        }
      ]
    },
    {
      "cell_type": "markdown",
      "metadata": {
        "id": "bpQDvyVXqqa4",
        "colab_type": "text"
      },
      "source": [
        "## Estimating conditional probability with link function"
      ]
    },
    {
      "cell_type": "markdown",
      "metadata": {
        "id": "mKsv8Qgfqqa5",
        "colab_type": "text"
      },
      "source": [
        "Recall from lecture that the link function is given by:\n",
        "$$\n",
        "P(y_i = +1 | \\mathbf{x}_i,\\mathbf{w}) = \\frac{1}{1 + \\exp(-\\mathbf{w}^T h(\\mathbf{x}_i))},\n",
        "$$\n",
        "\n",
        "where the feature vector $h(\\mathbf{x}_i)$ represents the word counts of **important_words** in the review  $\\mathbf{x}_i$. Complete the following function that implements the link function:"
      ]
    },
    {
      "cell_type": "code",
      "metadata": {
        "id": "35xddeU2qqa6",
        "colab_type": "code",
        "colab": {}
      },
      "source": [
        "'''\n",
        "produces probablistic estimate for P(y_i = +1 | x_i, w).\n",
        "estimate ranges between 0 and 1.\n",
        "'''\n",
        "def predict_probability(feature_matrix, coefficients):\n",
        "    # Take dot product of feature_matrix and coefficients  \n",
        "    # YOUR CODE HERE\n",
        "    product = np.dot(feature_matrix, coefficients)\n",
        "    \n",
        "    # Compute P(y_i = +1 | x_i, w) using the link function\n",
        "    # YOUR CODE HERE\n",
        "    predictions = 1/(1 + np.exp(-product))\n",
        "    \n",
        "    # return predictions\n",
        "    return predictions"
      ],
      "execution_count": 29,
      "outputs": []
    },
    {
      "cell_type": "markdown",
      "metadata": {
        "id": "prehUx2Tqqa9",
        "colab_type": "text"
      },
      "source": [
        "**Aside**. How the link function works with matrix algebra\n",
        "\n",
        "Since the word counts are stored as columns in **feature_matrix**, each $i$-th row of the matrix corresponds to the feature vector $h(\\mathbf{x}_i)$:\n",
        "$$\n",
        "[\\text{feature_matrix}] =\n",
        "\\left[\n",
        "\\begin{array}{c}\n",
        "h(\\mathbf{x}_1)^T \\\\\n",
        "h(\\mathbf{x}_2)^T \\\\\n",
        "\\vdots \\\\\n",
        "h(\\mathbf{x}_N)^T\n",
        "\\end{array}\n",
        "\\right] =\n",
        "\\left[\n",
        "\\begin{array}{cccc}\n",
        "h_0(\\mathbf{x}_1) & h_1(\\mathbf{x}_1) & \\cdots & h_D(\\mathbf{x}_1) \\\\\n",
        "h_0(\\mathbf{x}_2) & h_1(\\mathbf{x}_2) & \\cdots & h_D(\\mathbf{x}_2) \\\\\n",
        "\\vdots & \\vdots & \\ddots & \\vdots \\\\\n",
        "h_0(\\mathbf{x}_N) & h_1(\\mathbf{x}_N) & \\cdots & h_D(\\mathbf{x}_N)\n",
        "\\end{array}\n",
        "\\right]\n",
        "$$\n",
        "\n",
        "By the rules of matrix multiplication, the score vector containing elements $\\mathbf{w}^T h(\\mathbf{x}_i)$ is obtained by multiplying **feature_matrix** and the coefficient vector $\\mathbf{w}$.\n",
        "$$\n",
        "[\\text{score}] =\n",
        "[\\text{feature_matrix}]\\mathbf{w} =\n",
        "\\left[\n",
        "\\begin{array}{c}\n",
        "h(\\mathbf{x}_1)^T \\\\\n",
        "h(\\mathbf{x}_2)^T \\\\\n",
        "\\vdots \\\\\n",
        "h(\\mathbf{x}_N)^T\n",
        "\\end{array}\n",
        "\\right]\n",
        "\\mathbf{w}\n",
        "= \\left[\n",
        "\\begin{array}{c}\n",
        "h(\\mathbf{x}_1)^T\\mathbf{w} \\\\\n",
        "h(\\mathbf{x}_2)^T\\mathbf{w} \\\\\n",
        "\\vdots \\\\\n",
        "h(\\mathbf{x}_N)^T\\mathbf{w}\n",
        "\\end{array}\n",
        "\\right]\n",
        "= \\left[\n",
        "\\begin{array}{c}\n",
        "\\mathbf{w}^T h(\\mathbf{x}_1) \\\\\n",
        "\\mathbf{w}^T h(\\mathbf{x}_2) \\\\\n",
        "\\vdots \\\\\n",
        "\\mathbf{w}^T h(\\mathbf{x}_N)\n",
        "\\end{array}\n",
        "\\right]\n",
        "$$"
      ]
    },
    {
      "cell_type": "markdown",
      "metadata": {
        "id": "xK0z2ERFqqa9",
        "colab_type": "text"
      },
      "source": [
        "**Checkpoint**\n",
        "\n",
        "Just to make sure you are on the right track, we have provided a few examples. If your `predict_probability` function is implemented correctly, then the outputs will match:"
      ]
    },
    {
      "cell_type": "code",
      "metadata": {
        "id": "sD6UKfODqqa-",
        "colab_type": "code",
        "colab": {
          "base_uri": "https://localhost:8080/",
          "height": 85
        },
        "outputId": "63ce3f17-83c1-4856-a35a-c7ead4de5df7"
      },
      "source": [
        "dummy_feature_matrix = np.array([[1.,2.,3.], [1.,-1.,-1]])\n",
        "dummy_coefficients = np.array([1., 3., -1.])\n",
        "\n",
        "correct_scores      = np.array( [ 1.*1. + 2.*3. + 3.*(-1.),          1.*1. + (-1.)*3. + (-1.)*(-1.) ] )\n",
        "correct_predictions = np.array( [ 1./(1+np.exp(-correct_scores[0])), 1./(1+np.exp(-correct_scores[1])) ] )\n",
        "\n",
        "print('The following outputs must match ')\n",
        "print('------------------------------------------------')\n",
        "print('correct_predictions           =', correct_predictions)\n",
        "print('output of predict_probability =', predict_probability(dummy_feature_matrix, dummy_coefficients))"
      ],
      "execution_count": 30,
      "outputs": [
        {
          "output_type": "stream",
          "text": [
            "The following outputs must match \n",
            "------------------------------------------------\n",
            "correct_predictions           = [0.98201379 0.26894142]\n",
            "output of predict_probability = [0.98201379 0.26894142]\n"
          ],
          "name": "stdout"
        }
      ]
    },
    {
      "cell_type": "markdown",
      "metadata": {
        "id": "LSfPAvQ_qqbC",
        "colab_type": "text"
      },
      "source": [
        "## Compute derivative of log likelihood with respect to a single coefficient\n",
        "\n",
        "Recall from lecture:\n",
        "$$\n",
        "\\frac{\\partial\\ell}{\\partial w_j} = \\sum_{i=1}^N h_j(\\mathbf{x}_i)\\left(\\mathbf{1}[y_i = +1] - P(y_i = +1 | \\mathbf{x}_i, \\mathbf{w})\\right)\n",
        "$$\n",
        "\n",
        "We will now write a function that computes the derivative of log likelihood with respect to a single coefficient $w_j$. The function accepts two arguments:\n",
        "* `errors` vector containing $\\mathbf{1}[y_i = +1] - P(y_i = +1 | \\mathbf{x}_i, \\mathbf{w})$ for all $i$.\n",
        "* `feature` vector containing $h_j(\\mathbf{x}_i)$  for all $i$. \n",
        "\n",
        "Complete the following code block:"
      ]
    },
    {
      "cell_type": "code",
      "metadata": {
        "id": "wUfYn94aqqbD",
        "colab_type": "code",
        "colab": {}
      },
      "source": [
        "def feature_derivative(errors, feature):     \n",
        "    # Compute the dot product of errors and feature\n",
        "    derivative = np.dot(feature, errors)\n",
        "    \n",
        "    # Return the derivative\n",
        "    return derivative"
      ],
      "execution_count": 31,
      "outputs": []
    },
    {
      "cell_type": "markdown",
      "metadata": {
        "id": "xXAXz0apqqbH",
        "colab_type": "text"
      },
      "source": [
        "In the main lecture, our focus was on the likelihood.  In the advanced optional video, however, we introduced a transformation of this likelihood---called the log likelihood---that simplifies the derivation of the gradient and is more numerically stable.  Due to its numerical stability, we will use the log likelihood instead of the likelihood to assess the algorithm.\n",
        "\n",
        "The log likelihood is computed using the following formula (see the advanced optional video if you are curious about the derivation of this equation):\n",
        "\n",
        "$$\\ell\\ell(\\mathbf{w}) = \\sum_{i=1}^N \\Big( (\\mathbf{1}[y_i = +1] - 1)\\mathbf{w}^T h(\\mathbf{x}_i) - \\ln\\left(1 + \\exp(-\\mathbf{w}^T h(\\mathbf{x}_i))\\right) \\Big) $$\n",
        "\n",
        "We provide a function to compute the log likelihood for the entire dataset. "
      ]
    },
    {
      "cell_type": "code",
      "metadata": {
        "id": "1N67YHtnqqbI",
        "colab_type": "code",
        "colab": {}
      },
      "source": [
        "def compute_log_likelihood(feature_matrix, sentiment, coefficients):\n",
        "    indicator = (sentiment==+1)\n",
        "    scores = np.dot(feature_matrix, coefficients)\n",
        "    logexp = np.log(1. + np.exp(-scores))\n",
        "    \n",
        "    # Simple check to prevent overflow\n",
        "    mask = np.isinf(logexp)\n",
        "    logexp[mask] = -scores[mask]\n",
        "    \n",
        "    lp = np.sum((indicator-1)*scores - logexp)\n",
        "    return lp"
      ],
      "execution_count": 32,
      "outputs": []
    },
    {
      "cell_type": "markdown",
      "metadata": {
        "id": "VVaZhGmWqqbN",
        "colab_type": "text"
      },
      "source": [
        "**Checkpoint**\n",
        "\n",
        "Just to make sure we are on the same page, run the following code block and check that the outputs match."
      ]
    },
    {
      "cell_type": "code",
      "metadata": {
        "id": "x-MRTyZ9qqbO",
        "colab_type": "code",
        "colab": {
          "base_uri": "https://localhost:8080/",
          "height": 85
        },
        "outputId": "bbf9dfda-a0d0-468f-c727-e02dfd5d5968"
      },
      "source": [
        "dummy_feature_matrix = np.array([[1.,2.,3.], [1.,-1.,-1]])\n",
        "dummy_coefficients = np.array([1., 3., -1.])\n",
        "dummy_sentiment = np.array([-1, 1])\n",
        "\n",
        "correct_indicators  = np.array( [ -1==+1,                                       1==+1 ] )\n",
        "correct_scores      = np.array( [ 1.*1. + 2.*3. + 3.*(-1.),                     1.*1. + (-1.)*3. + (-1.)*(-1.) ] )\n",
        "correct_first_term  = np.array( [ (correct_indicators[0]-1)*correct_scores[0],  (correct_indicators[1]-1)*correct_scores[1] ] )\n",
        "correct_second_term = np.array( [ np.log(1. + np.exp(-correct_scores[0])),      np.log(1. + np.exp(-correct_scores[1])) ] )\n",
        "\n",
        "correct_ll          =      sum( [ correct_first_term[0]-correct_second_term[0], correct_first_term[1]-correct_second_term[1] ] ) \n",
        "\n",
        "print('The following outputs must match ')\n",
        "print('------------------------------------------------')\n",
        "print('correct_log_likelihood           =', correct_ll)\n",
        "print('output of compute_log_likelihood =', compute_log_likelihood(dummy_feature_matrix, dummy_sentiment, dummy_coefficients))"
      ],
      "execution_count": 33,
      "outputs": [
        {
          "output_type": "stream",
          "text": [
            "The following outputs must match \n",
            "------------------------------------------------\n",
            "correct_log_likelihood           = -5.331411615436032\n",
            "output of compute_log_likelihood = -5.331411615436032\n"
          ],
          "name": "stdout"
        }
      ]
    },
    {
      "cell_type": "markdown",
      "metadata": {
        "id": "HdC9HLCrqqbU",
        "colab_type": "text"
      },
      "source": [
        "## Taking gradient steps"
      ]
    },
    {
      "cell_type": "markdown",
      "metadata": {
        "id": "Niv51UjDqqbV",
        "colab_type": "text"
      },
      "source": [
        "Now we are ready to implement our own logistic regression. All we have to do is to write a gradient ascent function that takes gradient steps towards the optimum. \n",
        "\n",
        "Complete the following function to solve the logistic regression model using gradient ascent:"
      ]
    },
    {
      "cell_type": "code",
      "metadata": {
        "id": "O4PRZNBFqqbW",
        "colab_type": "code",
        "colab": {}
      },
      "source": [
        "from math import sqrt\n",
        "\n",
        "def logistic_regression(feature_matrix, sentiment, initial_coefficients, step_size, max_iter):\n",
        "    coefficients = np.array(initial_coefficients) # make sure it's a numpy array\n",
        "    for itr in range(max_iter):\n",
        "\n",
        "        # Predict P(y_i = +1|x_i,w) using your predict_probability() function\n",
        "        # YOUR CODE HERE\n",
        "        predictions = predict_probability(feature_matrix, coefficients)\n",
        "        \n",
        "        # Compute indicator value for (y_i = +1)\n",
        "        indicator = (sentiment==+1)\n",
        "        \n",
        "        # Compute the errors as indicator - predictions\n",
        "        errors = indicator - predictions\n",
        "        for j in range(len(coefficients)): # loop over each coefficient\n",
        "            \n",
        "            # Recall that feature_matrix[:,j] is the feature column associated with coefficients[j].\n",
        "            # Compute the derivative for coefficients[j]. Save it in a variable called derivative\n",
        "            # YOUR CODE HERE\n",
        "            derivative = feature_derivative(errors, feature_matrix[:, j])\n",
        "            \n",
        "            # add the step size times the derivative to the current coefficient\n",
        "            ## YOUR CODE HERE\n",
        "            coefficients[j] += step_size*derivative\n",
        "        \n",
        "        # Checking whether log likelihood is increasing\n",
        "        if itr <= 15 or (itr <= 100 and itr % 10 == 0) or (itr <= 1000 and itr % 100 == 0) \\\n",
        "        or (itr <= 10000 and itr % 1000 == 0) or itr % 10000 == 0:\n",
        "            lp = compute_log_likelihood(feature_matrix, sentiment, coefficients)\n",
        "            print('iteration %*d: log likelihood of observed labels = %.8f' % \\\n",
        "                (int(np.ceil(np.log10(max_iter))), itr, lp))\n",
        "    return coefficients"
      ],
      "execution_count": 35,
      "outputs": []
    },
    {
      "cell_type": "markdown",
      "metadata": {
        "id": "PsXpEEJSqqbZ",
        "colab_type": "text"
      },
      "source": [
        "Now, let us run the logistic regression solver."
      ]
    },
    {
      "cell_type": "code",
      "metadata": {
        "id": "hq8S2lBHqqba",
        "colab_type": "code",
        "colab": {
          "base_uri": "https://localhost:8080/",
          "height": 476
        },
        "outputId": "092f90fd-05e8-4188-efb3-3bb4c8534cb3"
      },
      "source": [
        "coefficients = logistic_regression(feature_matrix, sentiment, initial_coefficients=np.zeros(194),\n",
        "                                   step_size=1e-7, max_iter=301)"
      ],
      "execution_count": 36,
      "outputs": [
        {
          "output_type": "stream",
          "text": [
            "iteration   0: log likelihood of observed labels = -36780.91768478\n",
            "iteration   1: log likelihood of observed labels = -36775.13434712\n",
            "iteration   2: log likelihood of observed labels = -36769.35713564\n",
            "iteration   3: log likelihood of observed labels = -36763.58603240\n",
            "iteration   4: log likelihood of observed labels = -36757.82101962\n",
            "iteration   5: log likelihood of observed labels = -36752.06207964\n",
            "iteration   6: log likelihood of observed labels = -36746.30919497\n",
            "iteration   7: log likelihood of observed labels = -36740.56234821\n",
            "iteration   8: log likelihood of observed labels = -36734.82152213\n",
            "iteration   9: log likelihood of observed labels = -36729.08669961\n",
            "iteration  10: log likelihood of observed labels = -36723.35786366\n",
            "iteration  11: log likelihood of observed labels = -36717.63499744\n",
            "iteration  12: log likelihood of observed labels = -36711.91808422\n",
            "iteration  13: log likelihood of observed labels = -36706.20710739\n",
            "iteration  14: log likelihood of observed labels = -36700.50205049\n",
            "iteration  15: log likelihood of observed labels = -36694.80289716\n",
            "iteration  20: log likelihood of observed labels = -36666.39512033\n",
            "iteration  30: log likelihood of observed labels = -36610.01327118\n",
            "iteration  40: log likelihood of observed labels = -36554.19728365\n",
            "iteration  50: log likelihood of observed labels = -36498.93316099\n",
            "iteration  60: log likelihood of observed labels = -36444.20783914\n",
            "iteration  70: log likelihood of observed labels = -36390.00909449\n",
            "iteration  80: log likelihood of observed labels = -36336.32546144\n",
            "iteration  90: log likelihood of observed labels = -36283.14615871\n",
            "iteration 100: log likelihood of observed labels = -36230.46102347\n",
            "iteration 200: log likelihood of observed labels = -35728.89418769\n",
            "iteration 300: log likelihood of observed labels = -35268.51212683\n"
          ],
          "name": "stdout"
        }
      ]
    },
    {
      "cell_type": "markdown",
      "metadata": {
        "id": "0Qstk1Faqqbe",
        "colab_type": "text"
      },
      "source": [
        "**Quiz Question:** As each iteration of gradient ascent passes, does the log likelihood increase or decrease?"
      ]
    },
    {
      "cell_type": "markdown",
      "metadata": {
        "id": "eyvtlE9_qqbf",
        "colab_type": "text"
      },
      "source": [
        "## Predicting sentiments"
      ]
    },
    {
      "cell_type": "markdown",
      "metadata": {
        "id": "JIphv-Lvqqbg",
        "colab_type": "text"
      },
      "source": [
        "Recall from lecture that class predictions for a data point $\\mathbf{x}$ can be computed from the coefficients $\\mathbf{w}$ using the following formula:\n",
        "$$\n",
        "\\hat{y}_i = \n",
        "\\left\\{\n",
        "\\begin{array}{ll}\n",
        "      +1 & \\mathbf{x}_i^T\\mathbf{w} > 0 \\\\\n",
        "      -1 & \\mathbf{x}_i^T\\mathbf{w} \\leq 0 \\\\\n",
        "\\end{array} \n",
        "\\right.\n",
        "$$\n",
        "\n",
        "Now, we will write some code to compute class predictions. We will do this in two steps:\n",
        "* **Step 1**: First compute the **scores** using **feature_matrix** and **coefficients** using a dot product.\n",
        "* **Step 2**: Using the formula above, compute the class predictions from the scores.\n",
        "\n",
        "Step 1 can be implemented as follows:"
      ]
    },
    {
      "cell_type": "code",
      "metadata": {
        "id": "xzgtRoJNqqbg",
        "colab_type": "code",
        "colab": {}
      },
      "source": [
        "# Compute the scores as a dot product between feature_matrix and coefficients.\n",
        "scores = np.dot(feature_matrix, coefficients)"
      ],
      "execution_count": 37,
      "outputs": []
    },
    {
      "cell_type": "markdown",
      "metadata": {
        "id": "RfxwL10wqqbk",
        "colab_type": "text"
      },
      "source": [
        "Now, complete the following code block for **Step 2** to compute the class predictions using the **scores** obtained above:"
      ]
    },
    {
      "cell_type": "code",
      "metadata": {
        "id": "z6twrwyXqqbl",
        "colab_type": "code",
        "colab": {}
      },
      "source": [
        "step2_prediction = []\n",
        "for sc in scores:\n",
        "  if sc > 0:\n",
        "    step2_prediction.append(1)\n",
        "  else:\n",
        "    step2_prediction.append(-1) "
      ],
      "execution_count": 39,
      "outputs": []
    },
    {
      "cell_type": "markdown",
      "metadata": {
        "id": "kF45ap9Rqqbt",
        "colab_type": "text"
      },
      "source": [
        "**Quiz Question:** How many reviews were predicted to have positive sentiment?"
      ]
    },
    {
      "cell_type": "code",
      "metadata": {
        "id": "OBz5oe7aqqbu",
        "colab_type": "code",
        "colab": {
          "base_uri": "https://localhost:8080/",
          "height": 1000
        },
        "outputId": "6387fbf8-75db-4d23-d566-658e1b8c8da4"
      },
      "source": [
        "step2_prediction"
      ],
      "execution_count": 40,
      "outputs": [
        {
          "output_type": "execute_result",
          "data": {
            "text/plain": [
              "[1,\n",
              " -1,\n",
              " 1,\n",
              " 1,\n",
              " 1,\n",
              " 1,\n",
              " 1,\n",
              " 1,\n",
              " 1,\n",
              " -1,\n",
              " -1,\n",
              " 1,\n",
              " 1,\n",
              " -1,\n",
              " 1,\n",
              " -1,\n",
              " -1,\n",
              " 1,\n",
              " -1,\n",
              " 1,\n",
              " 1,\n",
              " 1,\n",
              " 1,\n",
              " 1,\n",
              " 1,\n",
              " 1,\n",
              " 1,\n",
              " 1,\n",
              " 1,\n",
              " 1,\n",
              " 1,\n",
              " 1,\n",
              " 1,\n",
              " -1,\n",
              " -1,\n",
              " 1,\n",
              " 1,\n",
              " -1,\n",
              " 1,\n",
              " -1,\n",
              " -1,\n",
              " 1,\n",
              " 1,\n",
              " 1,\n",
              " 1,\n",
              " -1,\n",
              " 1,\n",
              " 1,\n",
              " 1,\n",
              " -1,\n",
              " -1,\n",
              " -1,\n",
              " -1,\n",
              " -1,\n",
              " 1,\n",
              " -1,\n",
              " 1,\n",
              " -1,\n",
              " 1,\n",
              " 1,\n",
              " 1,\n",
              " -1,\n",
              " 1,\n",
              " -1,\n",
              " -1,\n",
              " -1,\n",
              " -1,\n",
              " -1,\n",
              " 1,\n",
              " 1,\n",
              " 1,\n",
              " 1,\n",
              " 1,\n",
              " -1,\n",
              " 1,\n",
              " 1,\n",
              " 1,\n",
              " 1,\n",
              " 1,\n",
              " -1,\n",
              " -1,\n",
              " -1,\n",
              " 1,\n",
              " 1,\n",
              " 1,\n",
              " -1,\n",
              " 1,\n",
              " 1,\n",
              " 1,\n",
              " 1,\n",
              " 1,\n",
              " -1,\n",
              " 1,\n",
              " 1,\n",
              " 1,\n",
              " -1,\n",
              " -1,\n",
              " 1,\n",
              " 1,\n",
              " -1,\n",
              " -1,\n",
              " -1,\n",
              " 1,\n",
              " 1,\n",
              " -1,\n",
              " 1,\n",
              " -1,\n",
              " 1,\n",
              " 1,\n",
              " -1,\n",
              " 1,\n",
              " 1,\n",
              " -1,\n",
              " -1,\n",
              " 1,\n",
              " -1,\n",
              " 1,\n",
              " 1,\n",
              " -1,\n",
              " 1,\n",
              " -1,\n",
              " 1,\n",
              " -1,\n",
              " 1,\n",
              " -1,\n",
              " -1,\n",
              " -1,\n",
              " 1,\n",
              " -1,\n",
              " -1,\n",
              " 1,\n",
              " 1,\n",
              " 1,\n",
              " -1,\n",
              " 1,\n",
              " 1,\n",
              " 1,\n",
              " 1,\n",
              " -1,\n",
              " 1,\n",
              " 1,\n",
              " 1,\n",
              " -1,\n",
              " -1,\n",
              " 1,\n",
              " 1,\n",
              " -1,\n",
              " 1,\n",
              " -1,\n",
              " 1,\n",
              " -1,\n",
              " -1,\n",
              " 1,\n",
              " 1,\n",
              " -1,\n",
              " 1,\n",
              " 1,\n",
              " -1,\n",
              " -1,\n",
              " 1,\n",
              " 1,\n",
              " 1,\n",
              " 1,\n",
              " -1,\n",
              " 1,\n",
              " 1,\n",
              " 1,\n",
              " 1,\n",
              " 1,\n",
              " 1,\n",
              " 1,\n",
              " 1,\n",
              " 1,\n",
              " -1,\n",
              " 1,\n",
              " 1,\n",
              " 1,\n",
              " 1,\n",
              " 1,\n",
              " 1,\n",
              " -1,\n",
              " 1,\n",
              " -1,\n",
              " -1,\n",
              " 1,\n",
              " 1,\n",
              " 1,\n",
              " 1,\n",
              " 1,\n",
              " 1,\n",
              " 1,\n",
              " -1,\n",
              " 1,\n",
              " 1,\n",
              " 1,\n",
              " 1,\n",
              " 1,\n",
              " -1,\n",
              " -1,\n",
              " 1,\n",
              " 1,\n",
              " -1,\n",
              " 1,\n",
              " 1,\n",
              " 1,\n",
              " 1,\n",
              " 1,\n",
              " 1,\n",
              " -1,\n",
              " -1,\n",
              " 1,\n",
              " -1,\n",
              " 1,\n",
              " -1,\n",
              " 1,\n",
              " 1,\n",
              " 1,\n",
              " 1,\n",
              " 1,\n",
              " 1,\n",
              " 1,\n",
              " 1,\n",
              " -1,\n",
              " 1,\n",
              " -1,\n",
              " -1,\n",
              " 1,\n",
              " 1,\n",
              " 1,\n",
              " 1,\n",
              " 1,\n",
              " 1,\n",
              " 1,\n",
              " 1,\n",
              " -1,\n",
              " -1,\n",
              " -1,\n",
              " -1,\n",
              " 1,\n",
              " 1,\n",
              " 1,\n",
              " 1,\n",
              " 1,\n",
              " -1,\n",
              " 1,\n",
              " 1,\n",
              " 1,\n",
              " 1,\n",
              " -1,\n",
              " 1,\n",
              " 1,\n",
              " 1,\n",
              " 1,\n",
              " 1,\n",
              " -1,\n",
              " 1,\n",
              " -1,\n",
              " -1,\n",
              " 1,\n",
              " -1,\n",
              " -1,\n",
              " 1,\n",
              " -1,\n",
              " 1,\n",
              " -1,\n",
              " -1,\n",
              " 1,\n",
              " 1,\n",
              " 1,\n",
              " 1,\n",
              " 1,\n",
              " -1,\n",
              " 1,\n",
              " -1,\n",
              " -1,\n",
              " 1,\n",
              " 1,\n",
              " -1,\n",
              " -1,\n",
              " 1,\n",
              " -1,\n",
              " 1,\n",
              " 1,\n",
              " -1,\n",
              " -1,\n",
              " -1,\n",
              " 1,\n",
              " -1,\n",
              " -1,\n",
              " -1,\n",
              " 1,\n",
              " 1,\n",
              " -1,\n",
              " -1,\n",
              " 1,\n",
              " 1,\n",
              " 1,\n",
              " -1,\n",
              " 1,\n",
              " -1,\n",
              " 1,\n",
              " -1,\n",
              " 1,\n",
              " 1,\n",
              " 1,\n",
              " -1,\n",
              " 1,\n",
              " -1,\n",
              " -1,\n",
              " -1,\n",
              " -1,\n",
              " 1,\n",
              " 1,\n",
              " -1,\n",
              " -1,\n",
              " 1,\n",
              " 1,\n",
              " 1,\n",
              " 1,\n",
              " 1,\n",
              " 1,\n",
              " -1,\n",
              " 1,\n",
              " 1,\n",
              " 1,\n",
              " -1,\n",
              " 1,\n",
              " -1,\n",
              " -1,\n",
              " 1,\n",
              " 1,\n",
              " 1,\n",
              " 1,\n",
              " -1,\n",
              " -1,\n",
              " -1,\n",
              " 1,\n",
              " 1,\n",
              " -1,\n",
              " 1,\n",
              " 1,\n",
              " 1,\n",
              " 1,\n",
              " 1,\n",
              " 1,\n",
              " 1,\n",
              " 1,\n",
              " 1,\n",
              " 1,\n",
              " 1,\n",
              " 1,\n",
              " 1,\n",
              " 1,\n",
              " 1,\n",
              " 1,\n",
              " 1,\n",
              " -1,\n",
              " 1,\n",
              " 1,\n",
              " -1,\n",
              " 1,\n",
              " 1,\n",
              " 1,\n",
              " 1,\n",
              " 1,\n",
              " -1,\n",
              " -1,\n",
              " 1,\n",
              " -1,\n",
              " 1,\n",
              " -1,\n",
              " 1,\n",
              " 1,\n",
              " 1,\n",
              " 1,\n",
              " 1,\n",
              " 1,\n",
              " 1,\n",
              " 1,\n",
              " 1,\n",
              " 1,\n",
              " 1,\n",
              " -1,\n",
              " 1,\n",
              " -1,\n",
              " 1,\n",
              " 1,\n",
              " 1,\n",
              " -1,\n",
              " 1,\n",
              " -1,\n",
              " 1,\n",
              " -1,\n",
              " -1,\n",
              " -1,\n",
              " 1,\n",
              " 1,\n",
              " -1,\n",
              " 1,\n",
              " 1,\n",
              " 1,\n",
              " 1,\n",
              " 1,\n",
              " -1,\n",
              " 1,\n",
              " 1,\n",
              " -1,\n",
              " -1,\n",
              " 1,\n",
              " -1,\n",
              " -1,\n",
              " 1,\n",
              " 1,\n",
              " -1,\n",
              " -1,\n",
              " 1,\n",
              " -1,\n",
              " 1,\n",
              " 1,\n",
              " 1,\n",
              " 1,\n",
              " 1,\n",
              " -1,\n",
              " 1,\n",
              " -1,\n",
              " 1,\n",
              " -1,\n",
              " 1,\n",
              " 1,\n",
              " 1,\n",
              " 1,\n",
              " 1,\n",
              " 1,\n",
              " 1,\n",
              " 1,\n",
              " -1,\n",
              " 1,\n",
              " 1,\n",
              " -1,\n",
              " 1,\n",
              " -1,\n",
              " -1,\n",
              " -1,\n",
              " 1,\n",
              " -1,\n",
              " 1,\n",
              " 1,\n",
              " -1,\n",
              " -1,\n",
              " 1,\n",
              " 1,\n",
              " 1,\n",
              " 1,\n",
              " -1,\n",
              " 1,\n",
              " 1,\n",
              " 1,\n",
              " -1,\n",
              " -1,\n",
              " -1,\n",
              " 1,\n",
              " -1,\n",
              " 1,\n",
              " 1,\n",
              " -1,\n",
              " 1,\n",
              " 1,\n",
              " -1,\n",
              " -1,\n",
              " 1,\n",
              " 1,\n",
              " 1,\n",
              " -1,\n",
              " -1,\n",
              " -1,\n",
              " -1,\n",
              " -1,\n",
              " -1,\n",
              " 1,\n",
              " 1,\n",
              " 1,\n",
              " 1,\n",
              " -1,\n",
              " 1,\n",
              " 1,\n",
              " 1,\n",
              " -1,\n",
              " 1,\n",
              " -1,\n",
              " 1,\n",
              " 1,\n",
              " -1,\n",
              " 1,\n",
              " 1,\n",
              " -1,\n",
              " 1,\n",
              " -1,\n",
              " -1,\n",
              " 1,\n",
              " -1,\n",
              " 1,\n",
              " -1,\n",
              " -1,\n",
              " -1,\n",
              " 1,\n",
              " 1,\n",
              " 1,\n",
              " 1,\n",
              " 1,\n",
              " 1,\n",
              " 1,\n",
              " 1,\n",
              " 1,\n",
              " 1,\n",
              " -1,\n",
              " 1,\n",
              " 1,\n",
              " 1,\n",
              " -1,\n",
              " -1,\n",
              " -1,\n",
              " 1,\n",
              " -1,\n",
              " -1,\n",
              " -1,\n",
              " 1,\n",
              " 1,\n",
              " 1,\n",
              " 1,\n",
              " 1,\n",
              " -1,\n",
              " 1,\n",
              " -1,\n",
              " 1,\n",
              " -1,\n",
              " -1,\n",
              " -1,\n",
              " 1,\n",
              " -1,\n",
              " -1,\n",
              " -1,\n",
              " 1,\n",
              " 1,\n",
              " -1,\n",
              " 1,\n",
              " 1,\n",
              " 1,\n",
              " -1,\n",
              " 1,\n",
              " -1,\n",
              " -1,\n",
              " -1,\n",
              " -1,\n",
              " 1,\n",
              " 1,\n",
              " 1,\n",
              " -1,\n",
              " -1,\n",
              " -1,\n",
              " 1,\n",
              " 1,\n",
              " -1,\n",
              " -1,\n",
              " 1,\n",
              " -1,\n",
              " 1,\n",
              " -1,\n",
              " -1,\n",
              " -1,\n",
              " 1,\n",
              " 1,\n",
              " -1,\n",
              " 1,\n",
              " 1,\n",
              " 1,\n",
              " -1,\n",
              " 1,\n",
              " 1,\n",
              " 1,\n",
              " 1,\n",
              " 1,\n",
              " -1,\n",
              " -1,\n",
              " -1,\n",
              " 1,\n",
              " 1,\n",
              " -1,\n",
              " 1,\n",
              " -1,\n",
              " 1,\n",
              " -1,\n",
              " 1,\n",
              " -1,\n",
              " 1,\n",
              " 1,\n",
              " -1,\n",
              " -1,\n",
              " 1,\n",
              " -1,\n",
              " 1,\n",
              " -1,\n",
              " 1,\n",
              " 1,\n",
              " 1,\n",
              " -1,\n",
              " -1,\n",
              " 1,\n",
              " 1,\n",
              " 1,\n",
              " -1,\n",
              " 1,\n",
              " -1,\n",
              " -1,\n",
              " 1,\n",
              " 1,\n",
              " -1,\n",
              " 1,\n",
              " 1,\n",
              " 1,\n",
              " 1,\n",
              " -1,\n",
              " 1,\n",
              " -1,\n",
              " -1,\n",
              " 1,\n",
              " -1,\n",
              " -1,\n",
              " 1,\n",
              " -1,\n",
              " -1,\n",
              " 1,\n",
              " -1,\n",
              " 1,\n",
              " -1,\n",
              " 1,\n",
              " -1,\n",
              " -1,\n",
              " 1,\n",
              " 1,\n",
              " -1,\n",
              " 1,\n",
              " 1,\n",
              " -1,\n",
              " 1,\n",
              " 1,\n",
              " 1,\n",
              " -1,\n",
              " 1,\n",
              " 1,\n",
              " -1,\n",
              " 1,\n",
              " -1,\n",
              " 1,\n",
              " 1,\n",
              " -1,\n",
              " -1,\n",
              " 1,\n",
              " -1,\n",
              " 1,\n",
              " 1,\n",
              " 1,\n",
              " 1,\n",
              " 1,\n",
              " -1,\n",
              " 1,\n",
              " 1,\n",
              " 1,\n",
              " 1,\n",
              " 1,\n",
              " 1,\n",
              " 1,\n",
              " 1,\n",
              " 1,\n",
              " -1,\n",
              " 1,\n",
              " -1,\n",
              " 1,\n",
              " -1,\n",
              " -1,\n",
              " 1,\n",
              " -1,\n",
              " 1,\n",
              " -1,\n",
              " -1,\n",
              " -1,\n",
              " 1,\n",
              " -1,\n",
              " 1,\n",
              " -1,\n",
              " -1,\n",
              " 1,\n",
              " -1,\n",
              " 1,\n",
              " 1,\n",
              " 1,\n",
              " -1,\n",
              " 1,\n",
              " 1,\n",
              " 1,\n",
              " 1,\n",
              " 1,\n",
              " 1,\n",
              " 1,\n",
              " 1,\n",
              " 1,\n",
              " 1,\n",
              " 1,\n",
              " 1,\n",
              " 1,\n",
              " -1,\n",
              " 1,\n",
              " -1,\n",
              " 1,\n",
              " 1,\n",
              " 1,\n",
              " -1,\n",
              " -1,\n",
              " -1,\n",
              " -1,\n",
              " 1,\n",
              " -1,\n",
              " -1,\n",
              " 1,\n",
              " -1,\n",
              " -1,\n",
              " 1,\n",
              " 1,\n",
              " -1,\n",
              " 1,\n",
              " 1,\n",
              " -1,\n",
              " -1,\n",
              " -1,\n",
              " -1,\n",
              " -1,\n",
              " -1,\n",
              " 1,\n",
              " -1,\n",
              " -1,\n",
              " -1,\n",
              " -1,\n",
              " -1,\n",
              " 1,\n",
              " -1,\n",
              " -1,\n",
              " -1,\n",
              " -1,\n",
              " -1,\n",
              " -1,\n",
              " 1,\n",
              " -1,\n",
              " 1,\n",
              " -1,\n",
              " 1,\n",
              " -1,\n",
              " 1,\n",
              " 1,\n",
              " 1,\n",
              " 1,\n",
              " 1,\n",
              " 1,\n",
              " -1,\n",
              " 1,\n",
              " -1,\n",
              " 1,\n",
              " 1,\n",
              " 1,\n",
              " 1,\n",
              " 1,\n",
              " 1,\n",
              " 1,\n",
              " -1,\n",
              " 1,\n",
              " -1,\n",
              " -1,\n",
              " -1,\n",
              " -1,\n",
              " -1,\n",
              " 1,\n",
              " -1,\n",
              " 1,\n",
              " -1,\n",
              " -1,\n",
              " -1,\n",
              " 1,\n",
              " -1,\n",
              " 1,\n",
              " 1,\n",
              " 1,\n",
              " 1,\n",
              " 1,\n",
              " 1,\n",
              " 1,\n",
              " 1,\n",
              " 1,\n",
              " 1,\n",
              " -1,\n",
              " 1,\n",
              " 1,\n",
              " 1,\n",
              " 1,\n",
              " 1,\n",
              " -1,\n",
              " 1,\n",
              " -1,\n",
              " 1,\n",
              " 1,\n",
              " 1,\n",
              " -1,\n",
              " 1,\n",
              " 1,\n",
              " -1,\n",
              " 1,\n",
              " -1,\n",
              " 1,\n",
              " 1,\n",
              " -1,\n",
              " -1,\n",
              " 1,\n",
              " 1,\n",
              " 1,\n",
              " -1,\n",
              " 1,\n",
              " 1,\n",
              " -1,\n",
              " 1,\n",
              " 1,\n",
              " -1,\n",
              " 1,\n",
              " 1,\n",
              " -1,\n",
              " 1,\n",
              " 1,\n",
              " 1,\n",
              " 1,\n",
              " -1,\n",
              " 1,\n",
              " 1,\n",
              " 1,\n",
              " 1,\n",
              " -1,\n",
              " 1,\n",
              " 1,\n",
              " 1,\n",
              " -1,\n",
              " 1,\n",
              " -1,\n",
              " 1,\n",
              " -1,\n",
              " 1,\n",
              " 1,\n",
              " -1,\n",
              " -1,\n",
              " -1,\n",
              " 1,\n",
              " -1,\n",
              " -1,\n",
              " 1,\n",
              " 1,\n",
              " 1,\n",
              " 1,\n",
              " 1,\n",
              " 1,\n",
              " 1,\n",
              " 1,\n",
              " -1,\n",
              " -1,\n",
              " 1,\n",
              " 1,\n",
              " 1,\n",
              " -1,\n",
              " -1,\n",
              " 1,\n",
              " -1,\n",
              " 1,\n",
              " -1,\n",
              " 1,\n",
              " -1,\n",
              " 1,\n",
              " 1,\n",
              " 1,\n",
              " -1,\n",
              " 1,\n",
              " -1,\n",
              " 1,\n",
              " -1,\n",
              " 1,\n",
              " -1,\n",
              " -1,\n",
              " 1,\n",
              " -1,\n",
              " -1,\n",
              " 1,\n",
              " -1,\n",
              " -1,\n",
              " 1,\n",
              " 1,\n",
              " -1,\n",
              " -1,\n",
              " -1,\n",
              " -1,\n",
              " -1,\n",
              " -1,\n",
              " 1,\n",
              " 1,\n",
              " 1,\n",
              " 1,\n",
              " 1,\n",
              " 1,\n",
              " -1,\n",
              " -1,\n",
              " 1,\n",
              " 1,\n",
              " 1,\n",
              " -1,\n",
              " -1,\n",
              " 1,\n",
              " 1,\n",
              " 1,\n",
              " 1,\n",
              " -1,\n",
              " -1,\n",
              " -1,\n",
              " -1,\n",
              " 1,\n",
              " 1,\n",
              " 1,\n",
              " -1,\n",
              " -1,\n",
              " 1,\n",
              " -1,\n",
              " -1,\n",
              " -1,\n",
              " 1,\n",
              " -1,\n",
              " 1,\n",
              " -1,\n",
              " 1,\n",
              " 1,\n",
              " 1,\n",
              " -1,\n",
              " -1,\n",
              " 1,\n",
              " -1,\n",
              " -1,\n",
              " -1,\n",
              " 1,\n",
              " -1,\n",
              " 1,\n",
              " 1,\n",
              " 1,\n",
              " -1,\n",
              " 1,\n",
              " 1,\n",
              " -1,\n",
              " -1,\n",
              " 1,\n",
              " 1,\n",
              " 1,\n",
              " -1,\n",
              " -1,\n",
              " 1,\n",
              " -1,\n",
              " -1,\n",
              " 1,\n",
              " 1,\n",
              " -1,\n",
              " 1,\n",
              " -1,\n",
              " -1,\n",
              " 1,\n",
              " 1,\n",
              " 1,\n",
              " -1,\n",
              " -1,\n",
              " 1,\n",
              " 1,\n",
              " -1,\n",
              " 1,\n",
              " 1,\n",
              " 1,\n",
              " 1,\n",
              " 1,\n",
              " 1,\n",
              " -1,\n",
              " -1,\n",
              " 1,\n",
              " 1,\n",
              " -1,\n",
              " 1,\n",
              " -1,\n",
              " -1,\n",
              " 1,\n",
              " 1,\n",
              " 1,\n",
              " 1,\n",
              " 1,\n",
              " 1,\n",
              " 1,\n",
              " 1,\n",
              " ...]"
            ]
          },
          "metadata": {
            "tags": []
          },
          "execution_count": 40
        }
      ]
    },
    {
      "cell_type": "code",
      "metadata": {
        "id": "j3Fy7NQF4TUj",
        "colab_type": "code",
        "colab": {
          "base_uri": "https://localhost:8080/",
          "height": 51
        },
        "outputId": "d6793ed0-eb58-47a3-ef66-f78666b74d07"
      },
      "source": [
        "# unique, counts = np.unique(step2_prediction, return_counts=True)\n",
        "# print(unique, counts)\n",
        "print('# positive', (step2_prediction.count(1)))\n",
        "print('# negataive', (step2_prediction.count(-1)))"
      ],
      "execution_count": 44,
      "outputs": [
        {
          "output_type": "stream",
          "text": [
            "# positive 25126\n",
            "# negataive 27946\n"
          ],
          "name": "stdout"
        }
      ]
    },
    {
      "cell_type": "code",
      "metadata": {
        "id": "Jbr-Hayr5BVy",
        "colab_type": "code",
        "colab": {
          "base_uri": "https://localhost:8080/",
          "height": 34
        },
        "outputId": "1293ec24-4398-45fe-c051-4c8869241539"
      },
      "source": [
        "len(sentiment)"
      ],
      "execution_count": 45,
      "outputs": [
        {
          "output_type": "execute_result",
          "data": {
            "text/plain": [
              "53072"
            ]
          },
          "metadata": {
            "tags": []
          },
          "execution_count": 45
        }
      ]
    },
    {
      "cell_type": "markdown",
      "metadata": {
        "id": "X6Iu673mqqby",
        "colab_type": "text"
      },
      "source": [
        "## Measuring accuracy\n",
        "\n",
        "We will now measure the classification accuracy of the model. Recall from the lecture that the classification accuracy can be computed as follows:\n",
        "\n",
        "$$\n",
        "\\mbox{accuracy} = \\frac{\\mbox{# correctly classified data points}}{\\mbox{# total data points}}\n",
        "$$\n",
        "\n",
        "Complete the following code block to compute the accuracy of the model."
      ]
    },
    {
      "cell_type": "code",
      "metadata": {
        "id": "DhBVlkfjqqbz",
        "colab_type": "code",
        "colab": {
          "base_uri": "https://localhost:8080/",
          "height": 119
        },
        "outputId": "5fd6c6e8-f90f-43e2-e3c4-56bc0fa2f561"
      },
      "source": [
        "num_mistakes = (step2_prediction != sentiment).sum()\n",
        "num_correct = len(sentiment) - num_mistakes\n",
        "accuracy = num_correct/len(sentiment)\n",
        "print(\"-----------------------------------------------------\")\n",
        "print('# Reviews   correctly classified =', len(products) - num_mistakes)\n",
        "print('# Reviews incorrectly classified =', num_mistakes)\n",
        "print('# Reviews total                  =', len(products))\n",
        "print(\"-----------------------------------------------------\")\n",
        "print('Accuracy = %.2f' % accuracy)"
      ],
      "execution_count": 46,
      "outputs": [
        {
          "output_type": "stream",
          "text": [
            "-----------------------------------------------------\n",
            "# Reviews   correctly classified = 39903\n",
            "# Reviews incorrectly classified = 13169\n",
            "# Reviews total                  = 53072\n",
            "-----------------------------------------------------\n",
            "Accuracy = 0.75\n"
          ],
          "name": "stdout"
        }
      ]
    },
    {
      "cell_type": "markdown",
      "metadata": {
        "id": "Xs_A2nREqqb3",
        "colab_type": "text"
      },
      "source": [
        "**Quiz Question**: What is the accuracy of the model on predictions made above? (round to 2 digits of accuracy)"
      ]
    },
    {
      "cell_type": "markdown",
      "metadata": {
        "id": "Rvdik6LSqqb4",
        "colab_type": "text"
      },
      "source": [
        "## Which words contribute most to positive & negative sentiments?"
      ]
    },
    {
      "cell_type": "markdown",
      "metadata": {
        "id": "LuWE1g6mqqb4",
        "colab_type": "text"
      },
      "source": [
        "Recall that in Module 2 assignment, we were able to compute the \"**most positive words**\". These are words that correspond most strongly with positive reviews. In order to do this, we will first do the following:\n",
        "* Treat each coefficient as a tuple, i.e. (**word**, **coefficient_value**).\n",
        "* Sort all the (**word**, **coefficient_value**) tuples by **coefficient_value** in descending order."
      ]
    },
    {
      "cell_type": "code",
      "metadata": {
        "scrolled": true,
        "id": "_xbR9KVEqqb5",
        "colab_type": "code",
        "colab": {}
      },
      "source": [
        "coefficients = list(coefficients[1:]) # exclude intercept\n",
        "word_coefficient_tuples = [(word, coefficient) for word, coefficient in zip(important_words, coefficients)]\n",
        "word_coefficient_tuples = sorted(word_coefficient_tuples, key=lambda x:x[1], reverse=True)"
      ],
      "execution_count": 47,
      "outputs": []
    },
    {
      "cell_type": "markdown",
      "metadata": {
        "id": "mDn7HPYCqqb8",
        "colab_type": "text"
      },
      "source": [
        "Now, **word_coefficient_tuples** contains a sorted list of (**word**, **coefficient_value**) tuples. The first 10 elements in this list correspond to the words that are most positive."
      ]
    },
    {
      "cell_type": "markdown",
      "metadata": {
        "id": "dg4RWISeqqb_",
        "colab_type": "text"
      },
      "source": [
        "### Ten \"most positive\" words\n",
        "\n",
        "Now, we compute the 10 words that have the most positive coefficient values. These words are associated with positive sentiment."
      ]
    },
    {
      "cell_type": "code",
      "metadata": {
        "id": "wmXiQjFxqqcA",
        "colab_type": "code",
        "colab": {
          "base_uri": "https://localhost:8080/",
          "height": 187
        },
        "outputId": "fbe8139d-ba59-4a6a-923f-3f2e4948e83c"
      },
      "source": [
        "word_coefficient_tuples[0:10]"
      ],
      "execution_count": 48,
      "outputs": [
        {
          "output_type": "execute_result",
          "data": {
            "text/plain": [
              "[('great', 0.0665460841704577),\n",
              " ('love', 0.06589076292212327),\n",
              " ('easy', 0.0647945868025784),\n",
              " ('little', 0.04543562630842137),\n",
              " ('loves', 0.04497640139490604),\n",
              " ('well', 0.030135001092107084),\n",
              " ('perfect', 0.02973993710496846),\n",
              " ('old', 0.020077541034775385),\n",
              " ('nice', 0.018408707995268992),\n",
              " ('daughter', 0.017703199905701694)]"
            ]
          },
          "metadata": {
            "tags": []
          },
          "execution_count": 48
        }
      ]
    },
    {
      "cell_type": "markdown",
      "metadata": {
        "id": "EA4dB3THqqcH",
        "colab_type": "text"
      },
      "source": [
        "**Quiz Question:** Which word is **not** present in the top 10 \"most positive\" words?\n",
        "\n",
        "- love\n",
        "- easy\n",
        "- great\n",
        "- perfect\n",
        "- cheap"
      ]
    },
    {
      "cell_type": "markdown",
      "metadata": {
        "id": "HKtJ-0cwqqcI",
        "colab_type": "text"
      },
      "source": [
        "### Ten \"most negative\" words\n",
        "\n",
        "Next, we repeat this exercise on the 10 most negative words.  That is, we compute the 10 words that have the most negative coefficient values. These words are associated with negative sentiment."
      ]
    },
    {
      "cell_type": "code",
      "metadata": {
        "id": "c5ppv0UEqqcI",
        "colab_type": "code",
        "colab": {
          "base_uri": "https://localhost:8080/",
          "height": 187
        },
        "outputId": "e060dafa-0c1f-4c0b-b4a0-e64cd66d6634"
      },
      "source": [
        "word_coefficient_tuples[-10:]"
      ],
      "execution_count": 51,
      "outputs": [
        {
          "output_type": "execute_result",
          "data": {
            "text/plain": [
              "[('monitor', -0.024482100545891717),\n",
              " ('return', -0.026592778462247283),\n",
              " ('back', -0.027742697230661334),\n",
              " ('get', -0.02871155298019258),\n",
              " ('disappointed', -0.028978976142317068),\n",
              " ('even', -0.030051249236035804),\n",
              " ('work', -0.03306951529475273),\n",
              " ('money', -0.038982037286487116),\n",
              " ('product', -0.041511033392108904),\n",
              " ('would', -0.05386014844520314)]"
            ]
          },
          "metadata": {
            "tags": []
          },
          "execution_count": 51
        }
      ]
    },
    {
      "cell_type": "markdown",
      "metadata": {
        "id": "JLlV1_ILqqcM",
        "colab_type": "text"
      },
      "source": [
        "**Quiz Question:** Which word is **not** present in the top 10 \"most negative\" words?\n",
        "\n",
        "- need\n",
        "- work\n",
        "- disappointed\n",
        "- even\n",
        "- return"
      ]
    },
    {
      "cell_type": "code",
      "metadata": {
        "id": "cEqQEdNQqqcN",
        "colab_type": "code",
        "colab": {}
      },
      "source": [
        ""
      ],
      "execution_count": null,
      "outputs": []
    }
  ]
}