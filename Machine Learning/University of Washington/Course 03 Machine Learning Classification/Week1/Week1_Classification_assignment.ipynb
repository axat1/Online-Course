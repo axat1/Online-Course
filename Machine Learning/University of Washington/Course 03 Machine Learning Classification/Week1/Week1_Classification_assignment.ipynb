{
  "nbformat": 4,
  "nbformat_minor": 0,
  "metadata": {
    "kernelspec": {
      "display_name": "Python 3",
      "language": "python",
      "name": "python3"
    },
    "language_info": {
      "codemirror_mode": {
        "name": "ipython",
        "version": 3
      },
      "file_extension": ".py",
      "mimetype": "text/x-python",
      "name": "python",
      "nbconvert_exporter": "python",
      "pygments_lexer": "ipython3",
      "version": "3.6.0"
    },
    "colab": {
      "name": "Week1 Classification assignment.ipynb",
      "provenance": [],
      "collapsed_sections": [
        "ACPLAWwoGREG",
        "GKH_js_UGREi",
        "C8ScsO3eGRFc"
      ],
      "toc_visible": true
    }
  },
  "cells": [
    {
      "cell_type": "markdown",
      "metadata": {
        "id": "wJellOMxGRBz",
        "colab_type": "text"
      },
      "source": [
        "# Predicting sentiment from product reviews\n",
        "\n",
        "\n",
        "The goal of this first notebook is to explore logistic regression and feature engineering with existing Turi Create functions.\n",
        "\n",
        "In this notebook you will use product review data from Amazon.com to predict whether the sentiments about a product (from its reviews) are positive or negative.\n",
        "\n",
        "* Use SFrames to do some feature engineering\n",
        "* Train a logistic regression model to predict the sentiment of product reviews.\n",
        "* Inspect the weights (coefficients) of a trained logistic regression model.\n",
        "* Make a prediction (both class and probability) of sentiment for a new product review.\n",
        "* Given the logistic regression weights, predictors and ground truth labels, write a function to compute the **accuracy** of the model.\n",
        "* Inspect the coefficients of the logistic regression model and interpret their meanings.\n",
        "* Compare multiple logistic regression models.\n",
        "\n",
        "Let's get started!\n",
        "    \n",
        "## Fire up Turi Create"
      ]
    },
    {
      "cell_type": "markdown",
      "metadata": {
        "id": "jQR6s_gtGRB1",
        "colab_type": "text"
      },
      "source": [
        "Make sure you have the latest version of Turi Create."
      ]
    },
    {
      "cell_type": "code",
      "metadata": {
        "id": "Bu5JzR_qGuun",
        "colab_type": "code",
        "colab": {
          "base_uri": "https://localhost:8080/",
          "height": 1000
        },
        "outputId": "85eabd6f-5dd4-4f02-fb00-d10ad709908c"
      },
      "source": [
        "!pip install turicreate"
      ],
      "execution_count": 1,
      "outputs": [
        {
          "output_type": "stream",
          "text": [
            "Collecting turicreate\n",
            "\u001b[?25l  Downloading https://files.pythonhosted.org/packages/e4/76/76c624d7ae1116b22cd559288596a1f9aa7a50f8f43f4481033fc047f5e9/turicreate-6.3-cp36-cp36m-manylinux1_x86_64.whl (91.9MB)\n",
            "\u001b[K     |████████████████████████████████| 91.9MB 49kB/s \n",
            "\u001b[?25hCollecting coremltools==3.3\n",
            "\u001b[?25l  Downloading https://files.pythonhosted.org/packages/77/19/611916d1ef326d38857d93af5ba184f6ad7491642e0fa4f9082e7d82f034/coremltools-3.3-cp36-none-manylinux1_x86_64.whl (3.4MB)\n",
            "\u001b[K     |████████████████████████████████| 3.4MB 45.2MB/s \n",
            "\u001b[?25hRequirement already satisfied: pandas>=0.23.2 in /usr/local/lib/python3.6/dist-packages (from turicreate) (1.0.4)\n",
            "Requirement already satisfied: numpy in /usr/local/lib/python3.6/dist-packages (from turicreate) (1.18.5)\n",
            "Requirement already satisfied: prettytable==0.7.2 in /usr/local/lib/python3.6/dist-packages (from turicreate) (0.7.2)\n",
            "Requirement already satisfied: decorator>=4.0.9 in /usr/local/lib/python3.6/dist-packages (from turicreate) (4.4.2)\n",
            "Requirement already satisfied: pillow>=5.2.0 in /usr/local/lib/python3.6/dist-packages (from turicreate) (7.0.0)\n",
            "Requirement already satisfied: requests>=2.9.1 in /usr/local/lib/python3.6/dist-packages (from turicreate) (2.23.0)\n",
            "Collecting resampy==0.2.1\n",
            "\u001b[?25l  Downloading https://files.pythonhosted.org/packages/14/b6/66a06d85474190b50aee1a6c09cdc95bb405ac47338b27e9b21409da1760/resampy-0.2.1.tar.gz (322kB)\n",
            "\u001b[K     |████████████████████████████████| 327kB 46.5MB/s \n",
            "\u001b[?25hRequirement already satisfied: scipy>=1.1.0 in /usr/local/lib/python3.6/dist-packages (from turicreate) (1.4.1)\n",
            "Collecting tensorflow<=2.0.1,>=2.0.0\n",
            "\u001b[?25l  Downloading https://files.pythonhosted.org/packages/43/16/b07e3f7a4a024b47918f7018967eb984b0c542458a6141d8c48515aa81d4/tensorflow-2.0.1-cp36-cp36m-manylinux2010_x86_64.whl (86.3MB)\n",
            "\u001b[K     |████████████████████████████████| 86.3MB 49kB/s \n",
            "\u001b[?25hRequirement already satisfied: six>=1.10.0 in /usr/local/lib/python3.6/dist-packages (from turicreate) (1.12.0)\n",
            "Requirement already satisfied: protobuf>=3.1.0 in /usr/local/lib/python3.6/dist-packages (from coremltools==3.3->turicreate) (3.10.0)\n",
            "Requirement already satisfied: python-dateutil>=2.6.1 in /usr/local/lib/python3.6/dist-packages (from pandas>=0.23.2->turicreate) (2.8.1)\n",
            "Requirement already satisfied: pytz>=2017.2 in /usr/local/lib/python3.6/dist-packages (from pandas>=0.23.2->turicreate) (2018.9)\n",
            "Requirement already satisfied: chardet<4,>=3.0.2 in /usr/local/lib/python3.6/dist-packages (from requests>=2.9.1->turicreate) (3.0.4)\n",
            "Requirement already satisfied: urllib3!=1.25.0,!=1.25.1,<1.26,>=1.21.1 in /usr/local/lib/python3.6/dist-packages (from requests>=2.9.1->turicreate) (1.24.3)\n",
            "Requirement already satisfied: certifi>=2017.4.17 in /usr/local/lib/python3.6/dist-packages (from requests>=2.9.1->turicreate) (2020.4.5.2)\n",
            "Requirement already satisfied: idna<3,>=2.5 in /usr/local/lib/python3.6/dist-packages (from requests>=2.9.1->turicreate) (2.9)\n",
            "Requirement already satisfied: numba>=0.32 in /usr/local/lib/python3.6/dist-packages (from resampy==0.2.1->turicreate) (0.48.0)\n",
            "Requirement already satisfied: keras-applications>=1.0.8 in /usr/local/lib/python3.6/dist-packages (from tensorflow<=2.0.1,>=2.0.0->turicreate) (1.0.8)\n",
            "Collecting tensorboard<2.1.0,>=2.0.0\n",
            "\u001b[?25l  Downloading https://files.pythonhosted.org/packages/76/54/99b9d5d52d5cb732f099baaaf7740403e83fe6b0cedde940fabd2b13d75a/tensorboard-2.0.2-py3-none-any.whl (3.8MB)\n",
            "\u001b[K     |████████████████████████████████| 3.8MB 47.2MB/s \n",
            "\u001b[?25hRequirement already satisfied: wheel>=0.26; python_version >= \"3\" in /usr/local/lib/python3.6/dist-packages (from tensorflow<=2.0.1,>=2.0.0->turicreate) (0.34.2)\n",
            "Requirement already satisfied: termcolor>=1.1.0 in /usr/local/lib/python3.6/dist-packages (from tensorflow<=2.0.1,>=2.0.0->turicreate) (1.1.0)\n",
            "Requirement already satisfied: keras-preprocessing>=1.0.5 in /usr/local/lib/python3.6/dist-packages (from tensorflow<=2.0.1,>=2.0.0->turicreate) (1.1.2)\n",
            "Collecting tensorflow-estimator<2.1.0,>=2.0.0\n",
            "\u001b[?25l  Downloading https://files.pythonhosted.org/packages/fc/08/8b927337b7019c374719145d1dceba21a8bb909b93b1ad6f8fb7d22c1ca1/tensorflow_estimator-2.0.1-py2.py3-none-any.whl (449kB)\n",
            "\u001b[K     |████████████████████████████████| 450kB 47.8MB/s \n",
            "\u001b[?25hRequirement already satisfied: opt-einsum>=2.3.2 in /usr/local/lib/python3.6/dist-packages (from tensorflow<=2.0.1,>=2.0.0->turicreate) (3.2.1)\n",
            "Requirement already satisfied: google-pasta>=0.1.6 in /usr/local/lib/python3.6/dist-packages (from tensorflow<=2.0.1,>=2.0.0->turicreate) (0.2.0)\n",
            "Collecting gast==0.2.2\n",
            "  Downloading https://files.pythonhosted.org/packages/4e/35/11749bf99b2d4e3cceb4d55ca22590b0d7c2c62b9de38ac4a4a7f4687421/gast-0.2.2.tar.gz\n",
            "Requirement already satisfied: absl-py>=0.7.0 in /usr/local/lib/python3.6/dist-packages (from tensorflow<=2.0.1,>=2.0.0->turicreate) (0.9.0)\n",
            "Requirement already satisfied: wrapt>=1.11.1 in /usr/local/lib/python3.6/dist-packages (from tensorflow<=2.0.1,>=2.0.0->turicreate) (1.12.1)\n",
            "Requirement already satisfied: grpcio>=1.8.6 in /usr/local/lib/python3.6/dist-packages (from tensorflow<=2.0.1,>=2.0.0->turicreate) (1.29.0)\n",
            "Requirement already satisfied: astor>=0.6.0 in /usr/local/lib/python3.6/dist-packages (from tensorflow<=2.0.1,>=2.0.0->turicreate) (0.8.1)\n",
            "Requirement already satisfied: setuptools in /usr/local/lib/python3.6/dist-packages (from protobuf>=3.1.0->coremltools==3.3->turicreate) (47.3.1)\n",
            "Requirement already satisfied: llvmlite<0.32.0,>=0.31.0dev0 in /usr/local/lib/python3.6/dist-packages (from numba>=0.32->resampy==0.2.1->turicreate) (0.31.0)\n",
            "Requirement already satisfied: h5py in /usr/local/lib/python3.6/dist-packages (from keras-applications>=1.0.8->tensorflow<=2.0.1,>=2.0.0->turicreate) (2.10.0)\n",
            "Requirement already satisfied: werkzeug>=0.11.15 in /usr/local/lib/python3.6/dist-packages (from tensorboard<2.1.0,>=2.0.0->tensorflow<=2.0.1,>=2.0.0->turicreate) (1.0.1)\n",
            "Requirement already satisfied: markdown>=2.6.8 in /usr/local/lib/python3.6/dist-packages (from tensorboard<2.1.0,>=2.0.0->tensorflow<=2.0.1,>=2.0.0->turicreate) (3.2.2)\n",
            "Requirement already satisfied: google-auth<2,>=1.6.3 in /usr/local/lib/python3.6/dist-packages (from tensorboard<2.1.0,>=2.0.0->tensorflow<=2.0.1,>=2.0.0->turicreate) (1.17.2)\n",
            "Requirement already satisfied: google-auth-oauthlib<0.5,>=0.4.1 in /usr/local/lib/python3.6/dist-packages (from tensorboard<2.1.0,>=2.0.0->tensorflow<=2.0.1,>=2.0.0->turicreate) (0.4.1)\n",
            "Requirement already satisfied: importlib-metadata; python_version < \"3.8\" in /usr/local/lib/python3.6/dist-packages (from markdown>=2.6.8->tensorboard<2.1.0,>=2.0.0->tensorflow<=2.0.1,>=2.0.0->turicreate) (1.6.1)\n",
            "Requirement already satisfied: pyasn1-modules>=0.2.1 in /usr/local/lib/python3.6/dist-packages (from google-auth<2,>=1.6.3->tensorboard<2.1.0,>=2.0.0->tensorflow<=2.0.1,>=2.0.0->turicreate) (0.2.8)\n",
            "Requirement already satisfied: rsa<5,>=3.1.4; python_version >= \"3\" in /usr/local/lib/python3.6/dist-packages (from google-auth<2,>=1.6.3->tensorboard<2.1.0,>=2.0.0->tensorflow<=2.0.1,>=2.0.0->turicreate) (4.6)\n",
            "Requirement already satisfied: cachetools<5.0,>=2.0.0 in /usr/local/lib/python3.6/dist-packages (from google-auth<2,>=1.6.3->tensorboard<2.1.0,>=2.0.0->tensorflow<=2.0.1,>=2.0.0->turicreate) (4.1.0)\n",
            "Requirement already satisfied: requests-oauthlib>=0.7.0 in /usr/local/lib/python3.6/dist-packages (from google-auth-oauthlib<0.5,>=0.4.1->tensorboard<2.1.0,>=2.0.0->tensorflow<=2.0.1,>=2.0.0->turicreate) (1.3.0)\n",
            "Requirement already satisfied: zipp>=0.5 in /usr/local/lib/python3.6/dist-packages (from importlib-metadata; python_version < \"3.8\"->markdown>=2.6.8->tensorboard<2.1.0,>=2.0.0->tensorflow<=2.0.1,>=2.0.0->turicreate) (3.1.0)\n",
            "Requirement already satisfied: pyasn1<0.5.0,>=0.4.6 in /usr/local/lib/python3.6/dist-packages (from pyasn1-modules>=0.2.1->google-auth<2,>=1.6.3->tensorboard<2.1.0,>=2.0.0->tensorflow<=2.0.1,>=2.0.0->turicreate) (0.4.8)\n",
            "Requirement already satisfied: oauthlib>=3.0.0 in /usr/local/lib/python3.6/dist-packages (from requests-oauthlib>=0.7.0->google-auth-oauthlib<0.5,>=0.4.1->tensorboard<2.1.0,>=2.0.0->tensorflow<=2.0.1,>=2.0.0->turicreate) (3.1.0)\n",
            "Building wheels for collected packages: resampy, gast\n",
            "  Building wheel for resampy (setup.py) ... \u001b[?25l\u001b[?25hdone\n",
            "  Created wheel for resampy: filename=resampy-0.2.1-cp36-none-any.whl size=320850 sha256=dba67987615fe5b140979e5bcc07e49d15c1f2f32af5fe19c766e88621f9eed1\n",
            "  Stored in directory: /root/.cache/pip/wheels/ff/4f/ed/2e6c676c23efe5394bb40ade50662e90eb46e29b48324c5f9b\n",
            "  Building wheel for gast (setup.py) ... \u001b[?25l\u001b[?25hdone\n",
            "  Created wheel for gast: filename=gast-0.2.2-cp36-none-any.whl size=7540 sha256=145deb69f56dba5b715dbbd0999d419acaa25872c9e9bb19c1464e55ffa34b2f\n",
            "  Stored in directory: /root/.cache/pip/wheels/5c/2e/7e/a1d4d4fcebe6c381f378ce7743a3ced3699feb89bcfbdadadd\n",
            "Successfully built resampy gast\n",
            "\u001b[31mERROR: tensorflow-probability 0.10.0 has requirement gast>=0.3.2, but you'll have gast 0.2.2 which is incompatible.\u001b[0m\n",
            "Installing collected packages: coremltools, resampy, tensorboard, tensorflow-estimator, gast, tensorflow, turicreate\n",
            "  Found existing installation: resampy 0.2.2\n",
            "    Uninstalling resampy-0.2.2:\n",
            "      Successfully uninstalled resampy-0.2.2\n",
            "  Found existing installation: tensorboard 2.2.2\n",
            "    Uninstalling tensorboard-2.2.2:\n",
            "      Successfully uninstalled tensorboard-2.2.2\n",
            "  Found existing installation: tensorflow-estimator 2.2.0\n",
            "    Uninstalling tensorflow-estimator-2.2.0:\n",
            "      Successfully uninstalled tensorflow-estimator-2.2.0\n",
            "  Found existing installation: gast 0.3.3\n",
            "    Uninstalling gast-0.3.3:\n",
            "      Successfully uninstalled gast-0.3.3\n",
            "  Found existing installation: tensorflow 2.2.0\n",
            "    Uninstalling tensorflow-2.2.0:\n",
            "      Successfully uninstalled tensorflow-2.2.0\n",
            "Successfully installed coremltools-3.3 gast-0.2.2 resampy-0.2.1 tensorboard-2.0.2 tensorflow-2.0.1 tensorflow-estimator-2.0.1 turicreate-6.3\n"
          ],
          "name": "stdout"
        }
      ]
    },
    {
      "cell_type": "code",
      "metadata": {
        "id": "_3v0UlHlGRB3",
        "colab_type": "code",
        "colab": {}
      },
      "source": [
        "from __future__ import division\n",
        "import turicreate\n",
        "import math\n",
        "import string"
      ],
      "execution_count": 2,
      "outputs": []
    },
    {
      "cell_type": "markdown",
      "metadata": {
        "id": "aZ6_7s6OGRB_",
        "colab_type": "text"
      },
      "source": [
        "# Data preparation\n",
        "\n",
        "We will use a dataset consisting of baby product reviews on Amazon.com."
      ]
    },
    {
      "cell_type": "code",
      "metadata": {
        "id": "H9tWp2c-HtDj",
        "colab_type": "code",
        "colab": {
          "base_uri": "https://localhost:8080/",
          "height": 122
        },
        "outputId": "f602dac4-fb37-4add-b5da-40b48c8da0b1"
      },
      "source": [
        "from google.colab import drive\n",
        "drive.mount('/content/drive')"
      ],
      "execution_count": 4,
      "outputs": [
        {
          "output_type": "stream",
          "text": [
            "Go to this URL in a browser: https://accounts.google.com/o/oauth2/auth?client_id=947318989803-6bn6qk8qdgf4n4g3pfee6491hc0brc4i.apps.googleusercontent.com&redirect_uri=urn%3aietf%3awg%3aoauth%3a2.0%3aoob&response_type=code&scope=email%20https%3a%2f%2fwww.googleapis.com%2fauth%2fdocs.test%20https%3a%2f%2fwww.googleapis.com%2fauth%2fdrive%20https%3a%2f%2fwww.googleapis.com%2fauth%2fdrive.photos.readonly%20https%3a%2f%2fwww.googleapis.com%2fauth%2fpeopleapi.readonly\n",
            "\n",
            "Enter your authorization code:\n",
            "··········\n",
            "Mounted at /content/drive\n"
          ],
          "name": "stdout"
        }
      ]
    },
    {
      "cell_type": "code",
      "metadata": {
        "id": "y7tzLXwmGRCB",
        "colab_type": "code",
        "colab": {}
      },
      "source": [
        "products = turicreate.SFrame('/content/drive/My Drive/Colab Notebooks/Machine Learning/Course 3 Machine Learning Classification/Week1/amazon_baby.sframe')"
      ],
      "execution_count": 20,
      "outputs": []
    },
    {
      "cell_type": "markdown",
      "metadata": {
        "id": "zjyiLNpEGRCG",
        "colab_type": "text"
      },
      "source": [
        "Now, let us see a preview of what the dataset looks like."
      ]
    },
    {
      "cell_type": "code",
      "metadata": {
        "id": "ERhkmN6LGRCH",
        "colab_type": "code",
        "colab": {
          "base_uri": "https://localhost:8080/",
          "height": 449
        },
        "outputId": "e8cffb5c-0845-4bd3-e9c7-84dd99a45c82"
      },
      "source": [
        "products"
      ],
      "execution_count": 21,
      "outputs": [
        {
          "output_type": "execute_result",
          "data": {
            "text/html": [
              "<div style=\"max-height:1000px;max-width:1500px;overflow:auto;\"><table frame=\"box\" rules=\"cols\">\n",
              "    <tr>\n",
              "        <th style=\"padding-left: 1em; padding-right: 1em; text-align: center\">name</th>\n",
              "        <th style=\"padding-left: 1em; padding-right: 1em; text-align: center\">review</th>\n",
              "        <th style=\"padding-left: 1em; padding-right: 1em; text-align: center\">rating</th>\n",
              "    </tr>\n",
              "    <tr>\n",
              "        <td style=\"padding-left: 1em; padding-right: 1em; text-align: center; vertical-align: top\">Planetwise Flannel Wipes</td>\n",
              "        <td style=\"padding-left: 1em; padding-right: 1em; text-align: center; vertical-align: top\">These flannel wipes are<br>OK, but in my opinion ...</td>\n",
              "        <td style=\"padding-left: 1em; padding-right: 1em; text-align: center; vertical-align: top\">3.0</td>\n",
              "    </tr>\n",
              "    <tr>\n",
              "        <td style=\"padding-left: 1em; padding-right: 1em; text-align: center; vertical-align: top\">Planetwise Wipe Pouch</td>\n",
              "        <td style=\"padding-left: 1em; padding-right: 1em; text-align: center; vertical-align: top\">it came early and was not<br>disappointed. i love ...</td>\n",
              "        <td style=\"padding-left: 1em; padding-right: 1em; text-align: center; vertical-align: top\">5.0</td>\n",
              "    </tr>\n",
              "    <tr>\n",
              "        <td style=\"padding-left: 1em; padding-right: 1em; text-align: center; vertical-align: top\">Annas Dream Full Quilt<br>with 2 Shams ...</td>\n",
              "        <td style=\"padding-left: 1em; padding-right: 1em; text-align: center; vertical-align: top\">Very soft and comfortable<br>and warmer than it ...</td>\n",
              "        <td style=\"padding-left: 1em; padding-right: 1em; text-align: center; vertical-align: top\">5.0</td>\n",
              "    </tr>\n",
              "    <tr>\n",
              "        <td style=\"padding-left: 1em; padding-right: 1em; text-align: center; vertical-align: top\">Stop Pacifier Sucking<br>without tears with ...</td>\n",
              "        <td style=\"padding-left: 1em; padding-right: 1em; text-align: center; vertical-align: top\">This is a product well<br>worth the purchase.  I ...</td>\n",
              "        <td style=\"padding-left: 1em; padding-right: 1em; text-align: center; vertical-align: top\">5.0</td>\n",
              "    </tr>\n",
              "    <tr>\n",
              "        <td style=\"padding-left: 1em; padding-right: 1em; text-align: center; vertical-align: top\">Stop Pacifier Sucking<br>without tears with ...</td>\n",
              "        <td style=\"padding-left: 1em; padding-right: 1em; text-align: center; vertical-align: top\">All of my kids have cried<br>non-stop when I tried to ...</td>\n",
              "        <td style=\"padding-left: 1em; padding-right: 1em; text-align: center; vertical-align: top\">5.0</td>\n",
              "    </tr>\n",
              "    <tr>\n",
              "        <td style=\"padding-left: 1em; padding-right: 1em; text-align: center; vertical-align: top\">Stop Pacifier Sucking<br>without tears with ...</td>\n",
              "        <td style=\"padding-left: 1em; padding-right: 1em; text-align: center; vertical-align: top\">When the Binky Fairy came<br>to our house, we didn&#x27;t ...</td>\n",
              "        <td style=\"padding-left: 1em; padding-right: 1em; text-align: center; vertical-align: top\">5.0</td>\n",
              "    </tr>\n",
              "    <tr>\n",
              "        <td style=\"padding-left: 1em; padding-right: 1em; text-align: center; vertical-align: top\">A Tale of Baby&#x27;s Days<br>with Peter Rabbit ...</td>\n",
              "        <td style=\"padding-left: 1em; padding-right: 1em; text-align: center; vertical-align: top\">Lovely book, it&#x27;s bound<br>tightly so you may no ...</td>\n",
              "        <td style=\"padding-left: 1em; padding-right: 1em; text-align: center; vertical-align: top\">4.0</td>\n",
              "    </tr>\n",
              "    <tr>\n",
              "        <td style=\"padding-left: 1em; padding-right: 1em; text-align: center; vertical-align: top\">Baby Tracker&amp;reg; - Daily<br>Childcare Journal, ...</td>\n",
              "        <td style=\"padding-left: 1em; padding-right: 1em; text-align: center; vertical-align: top\">Perfect for new parents.<br>We were able to keep ...</td>\n",
              "        <td style=\"padding-left: 1em; padding-right: 1em; text-align: center; vertical-align: top\">5.0</td>\n",
              "    </tr>\n",
              "    <tr>\n",
              "        <td style=\"padding-left: 1em; padding-right: 1em; text-align: center; vertical-align: top\">Baby Tracker&amp;reg; - Daily<br>Childcare Journal, ...</td>\n",
              "        <td style=\"padding-left: 1em; padding-right: 1em; text-align: center; vertical-align: top\">A friend of mine pinned<br>this product on Pinte ...</td>\n",
              "        <td style=\"padding-left: 1em; padding-right: 1em; text-align: center; vertical-align: top\">5.0</td>\n",
              "    </tr>\n",
              "    <tr>\n",
              "        <td style=\"padding-left: 1em; padding-right: 1em; text-align: center; vertical-align: top\">Baby Tracker&amp;reg; - Daily<br>Childcare Journal, ...</td>\n",
              "        <td style=\"padding-left: 1em; padding-right: 1em; text-align: center; vertical-align: top\">This has been an easy way<br>for my nanny to record ...</td>\n",
              "        <td style=\"padding-left: 1em; padding-right: 1em; text-align: center; vertical-align: top\">4.0</td>\n",
              "    </tr>\n",
              "</table>\n",
              "[183531 rows x 3 columns]<br/>Note: Only the head of the SFrame is printed.<br/>You can use print_rows(num_rows=m, num_columns=n) to print more rows and columns.\n",
              "</div>"
            ],
            "text/plain": [
              "Columns:\n",
              "\tname\tstr\n",
              "\treview\tstr\n",
              "\trating\tfloat\n",
              "\n",
              "Rows: 183531\n",
              "\n",
              "Data:\n",
              "+-------------------------------+-------------------------------+--------+\n",
              "|              name             |             review            | rating |\n",
              "+-------------------------------+-------------------------------+--------+\n",
              "|    Planetwise Flannel Wipes   | These flannel wipes are OK... |  3.0   |\n",
              "|     Planetwise Wipe Pouch     | it came early and was not ... |  5.0   |\n",
              "| Annas Dream Full Quilt wit... | Very soft and comfortable ... |  5.0   |\n",
              "| Stop Pacifier Sucking with... | This is a product well wor... |  5.0   |\n",
              "| Stop Pacifier Sucking with... | All of my kids have cried ... |  5.0   |\n",
              "| Stop Pacifier Sucking with... | When the Binky Fairy came ... |  5.0   |\n",
              "| A Tale of Baby's Days with... | Lovely book, it's bound ti... |  4.0   |\n",
              "| Baby Tracker&reg; - Daily ... | Perfect for new parents. W... |  5.0   |\n",
              "| Baby Tracker&reg; - Daily ... | A friend of mine pinned th... |  5.0   |\n",
              "| Baby Tracker&reg; - Daily ... | This has been an easy way ... |  4.0   |\n",
              "+-------------------------------+-------------------------------+--------+\n",
              "[183531 rows x 3 columns]\n",
              "Note: Only the head of the SFrame is printed.\n",
              "You can use print_rows(num_rows=m, num_columns=n) to print more rows and columns."
            ]
          },
          "metadata": {
            "tags": []
          },
          "execution_count": 21
        }
      ]
    },
    {
      "cell_type": "markdown",
      "metadata": {
        "id": "bpCn-hoeGRCM",
        "colab_type": "text"
      },
      "source": [
        "## Build the word count vector for each review"
      ]
    },
    {
      "cell_type": "markdown",
      "metadata": {
        "id": "wLeMYeWUGRCM",
        "colab_type": "text"
      },
      "source": [
        "Let us explore a specific example of a baby product.\n"
      ]
    },
    {
      "cell_type": "code",
      "metadata": {
        "id": "TNFcktdKGRCN",
        "colab_type": "code",
        "colab": {
          "base_uri": "https://localhost:8080/",
          "height": 68
        },
        "outputId": "60df8dbd-e4a2-4eea-8c2c-ac9be7dc518a"
      },
      "source": [
        "products[269]"
      ],
      "execution_count": 22,
      "outputs": [
        {
          "output_type": "execute_result",
          "data": {
            "text/plain": [
              "{'name': 'The First Years Massaging Action Teether',\n",
              " 'rating': 5.0,\n",
              " 'review': 'A favorite in our house!'}"
            ]
          },
          "metadata": {
            "tags": []
          },
          "execution_count": 22
        }
      ]
    },
    {
      "cell_type": "markdown",
      "metadata": {
        "id": "uiAK0fcWGRCS",
        "colab_type": "text"
      },
      "source": [
        "Now, we will perform 2 simple data transformations:\n",
        "\n",
        "1. Remove punctuation using [Python's built-in](https://docs.python.org/2/library/string.html) string functionality.\n",
        "2. Transform the reviews into word-counts.\n",
        "\n",
        "**Aside**. In this notebook, we remove all punctuations for the sake of simplicity. A smarter approach to punctuations would preserve phrases such as \"I'd\", \"would've\", \"hadn't\" and so forth. See [this page](https://www.cis.upenn.edu/~treebank/tokenization.html) for an example of smart handling of punctuations."
      ]
    },
    {
      "cell_type": "code",
      "metadata": {
        "id": "WtUgAGb2GRCT",
        "colab_type": "code",
        "colab": {}
      },
      "source": [
        "import string \n",
        "def remove_punctuation(text):\n",
        "    try: # python 2.x\n",
        "        text = text.translate(None, string.punctuation) \n",
        "    except: # python 3.x\n",
        "        translator = text.maketrans('', '', string.punctuation)\n",
        "        text = text.translate(translator)\n",
        "    return text\n",
        "\n",
        "review_without_punctuation = products['review'].apply(remove_punctuation)\n",
        "products['word_count'] = turicreate.text_analytics.count_words(review_without_punctuation)"
      ],
      "execution_count": 23,
      "outputs": []
    },
    {
      "cell_type": "markdown",
      "metadata": {
        "id": "LsmSG87RGRCX",
        "colab_type": "text"
      },
      "source": [
        "Now, let us explore what the sample example above looks like after these 2 transformations. Here, each entry in the **word_count** column is a dictionary where the key is the word and the value is a count of the number of times the word occurs."
      ]
    },
    {
      "cell_type": "code",
      "metadata": {
        "id": "Gy9eb_JOGRCY",
        "colab_type": "code",
        "colab": {
          "base_uri": "https://localhost:8080/",
          "height": 34
        },
        "outputId": "e6121c19-fcef-49b1-d401-af1aac45419b"
      },
      "source": [
        "products[269]['word_count']"
      ],
      "execution_count": 24,
      "outputs": [
        {
          "output_type": "execute_result",
          "data": {
            "text/plain": [
              "{'a': 1.0, 'favorite': 1.0, 'house': 1.0, 'in': 1.0, 'our': 1.0}"
            ]
          },
          "metadata": {
            "tags": []
          },
          "execution_count": 24
        }
      ]
    },
    {
      "cell_type": "markdown",
      "metadata": {
        "id": "xLHaNgGtGRCe",
        "colab_type": "text"
      },
      "source": [
        "## Extract sentiments\n",
        "\n",
        "We will **ignore** all reviews with *rating = 3*, since they tend to have a neutral sentiment."
      ]
    },
    {
      "cell_type": "code",
      "metadata": {
        "id": "bhd4jzp0GRCf",
        "colab_type": "code",
        "colab": {
          "base_uri": "https://localhost:8080/",
          "height": 34
        },
        "outputId": "38063b74-5784-4e96-ce0b-c9153e69b292"
      },
      "source": [
        "products = products[products['rating'] != 3]\n",
        "len(products)"
      ],
      "execution_count": 25,
      "outputs": [
        {
          "output_type": "execute_result",
          "data": {
            "text/plain": [
              "166752"
            ]
          },
          "metadata": {
            "tags": []
          },
          "execution_count": 25
        }
      ]
    },
    {
      "cell_type": "markdown",
      "metadata": {
        "id": "YR5HcQM1GRCi",
        "colab_type": "text"
      },
      "source": [
        "Now, we will assign reviews with a rating of 4 or higher to be *positive* reviews, while the ones with rating of 2 or lower are *negative*. For the sentiment column, we use +1 for the positive class label and -1 for the negative class label."
      ]
    },
    {
      "cell_type": "code",
      "metadata": {
        "id": "NEaiUnphGRCj",
        "colab_type": "code",
        "colab": {
          "base_uri": "https://localhost:8080/",
          "height": 449
        },
        "outputId": "6af68107-e57e-49df-b033-aa49d212870f"
      },
      "source": [
        "products['sentiment'] = products['rating'].apply(lambda rating : +1 if rating > 3 else -1)\n",
        "products"
      ],
      "execution_count": 26,
      "outputs": [
        {
          "output_type": "execute_result",
          "data": {
            "text/html": [
              "<div style=\"max-height:1000px;max-width:1500px;overflow:auto;\"><table frame=\"box\" rules=\"cols\">\n",
              "    <tr>\n",
              "        <th style=\"padding-left: 1em; padding-right: 1em; text-align: center\">name</th>\n",
              "        <th style=\"padding-left: 1em; padding-right: 1em; text-align: center\">review</th>\n",
              "        <th style=\"padding-left: 1em; padding-right: 1em; text-align: center\">rating</th>\n",
              "        <th style=\"padding-left: 1em; padding-right: 1em; text-align: center\">word_count</th>\n",
              "        <th style=\"padding-left: 1em; padding-right: 1em; text-align: center\">sentiment</th>\n",
              "    </tr>\n",
              "    <tr>\n",
              "        <td style=\"padding-left: 1em; padding-right: 1em; text-align: center; vertical-align: top\">Planetwise Wipe Pouch</td>\n",
              "        <td style=\"padding-left: 1em; padding-right: 1em; text-align: center; vertical-align: top\">it came early and was not<br>disappointed. i love ...</td>\n",
              "        <td style=\"padding-left: 1em; padding-right: 1em; text-align: center; vertical-align: top\">5.0</td>\n",
              "        <td style=\"padding-left: 1em; padding-right: 1em; text-align: center; vertical-align: top\">{&#x27;recommend&#x27;: 1.0,<br>&#x27;highly&#x27;: 1.0, ...</td>\n",
              "        <td style=\"padding-left: 1em; padding-right: 1em; text-align: center; vertical-align: top\">1</td>\n",
              "    </tr>\n",
              "    <tr>\n",
              "        <td style=\"padding-left: 1em; padding-right: 1em; text-align: center; vertical-align: top\">Annas Dream Full Quilt<br>with 2 Shams ...</td>\n",
              "        <td style=\"padding-left: 1em; padding-right: 1em; text-align: center; vertical-align: top\">Very soft and comfortable<br>and warmer than it ...</td>\n",
              "        <td style=\"padding-left: 1em; padding-right: 1em; text-align: center; vertical-align: top\">5.0</td>\n",
              "        <td style=\"padding-left: 1em; padding-right: 1em; text-align: center; vertical-align: top\">{&#x27;quilt&#x27;: 1.0, &#x27;this&#x27;:<br>1.0, &#x27;for&#x27;: 1.0, ...</td>\n",
              "        <td style=\"padding-left: 1em; padding-right: 1em; text-align: center; vertical-align: top\">1</td>\n",
              "    </tr>\n",
              "    <tr>\n",
              "        <td style=\"padding-left: 1em; padding-right: 1em; text-align: center; vertical-align: top\">Stop Pacifier Sucking<br>without tears with ...</td>\n",
              "        <td style=\"padding-left: 1em; padding-right: 1em; text-align: center; vertical-align: top\">This is a product well<br>worth the purchase.  I ...</td>\n",
              "        <td style=\"padding-left: 1em; padding-right: 1em; text-align: center; vertical-align: top\">5.0</td>\n",
              "        <td style=\"padding-left: 1em; padding-right: 1em; text-align: center; vertical-align: top\">{&#x27;tool&#x27;: 1.0, &#x27;clever&#x27;:<br>1.0, &#x27;approach&#x27;: 2.0, ...</td>\n",
              "        <td style=\"padding-left: 1em; padding-right: 1em; text-align: center; vertical-align: top\">1</td>\n",
              "    </tr>\n",
              "    <tr>\n",
              "        <td style=\"padding-left: 1em; padding-right: 1em; text-align: center; vertical-align: top\">Stop Pacifier Sucking<br>without tears with ...</td>\n",
              "        <td style=\"padding-left: 1em; padding-right: 1em; text-align: center; vertical-align: top\">All of my kids have cried<br>non-stop when I tried to ...</td>\n",
              "        <td style=\"padding-left: 1em; padding-right: 1em; text-align: center; vertical-align: top\">5.0</td>\n",
              "        <td style=\"padding-left: 1em; padding-right: 1em; text-align: center; vertical-align: top\">{&#x27;rock&#x27;: 1.0,<br>&#x27;headachesthanks&#x27;: 1.0, ...</td>\n",
              "        <td style=\"padding-left: 1em; padding-right: 1em; text-align: center; vertical-align: top\">1</td>\n",
              "    </tr>\n",
              "    <tr>\n",
              "        <td style=\"padding-left: 1em; padding-right: 1em; text-align: center; vertical-align: top\">Stop Pacifier Sucking<br>without tears with ...</td>\n",
              "        <td style=\"padding-left: 1em; padding-right: 1em; text-align: center; vertical-align: top\">When the Binky Fairy came<br>to our house, we didn&#x27;t ...</td>\n",
              "        <td style=\"padding-left: 1em; padding-right: 1em; text-align: center; vertical-align: top\">5.0</td>\n",
              "        <td style=\"padding-left: 1em; padding-right: 1em; text-align: center; vertical-align: top\">{&#x27;thumb&#x27;: 1.0, &#x27;or&#x27;: 1.0,<br>&#x27;break&#x27;: 1.0, &#x27;trying&#x27;: ...</td>\n",
              "        <td style=\"padding-left: 1em; padding-right: 1em; text-align: center; vertical-align: top\">1</td>\n",
              "    </tr>\n",
              "    <tr>\n",
              "        <td style=\"padding-left: 1em; padding-right: 1em; text-align: center; vertical-align: top\">A Tale of Baby&#x27;s Days<br>with Peter Rabbit ...</td>\n",
              "        <td style=\"padding-left: 1em; padding-right: 1em; text-align: center; vertical-align: top\">Lovely book, it&#x27;s bound<br>tightly so you may no ...</td>\n",
              "        <td style=\"padding-left: 1em; padding-right: 1em; text-align: center; vertical-align: top\">4.0</td>\n",
              "        <td style=\"padding-left: 1em; padding-right: 1em; text-align: center; vertical-align: top\">{&#x27;2995&#x27;: 1.0, &#x27;for&#x27;: 1.0,<br>&#x27;barnes&#x27;: 1.0, &#x27;at&#x27;:  ...</td>\n",
              "        <td style=\"padding-left: 1em; padding-right: 1em; text-align: center; vertical-align: top\">1</td>\n",
              "    </tr>\n",
              "    <tr>\n",
              "        <td style=\"padding-left: 1em; padding-right: 1em; text-align: center; vertical-align: top\">Baby Tracker&amp;reg; - Daily<br>Childcare Journal, ...</td>\n",
              "        <td style=\"padding-left: 1em; padding-right: 1em; text-align: center; vertical-align: top\">Perfect for new parents.<br>We were able to keep ...</td>\n",
              "        <td style=\"padding-left: 1em; padding-right: 1em; text-align: center; vertical-align: top\">5.0</td>\n",
              "        <td style=\"padding-left: 1em; padding-right: 1em; text-align: center; vertical-align: top\">{&#x27;right&#x27;: 1.0, &#x27;because&#x27;:<br>1.0, &#x27;questions&#x27;: 1.0, ...</td>\n",
              "        <td style=\"padding-left: 1em; padding-right: 1em; text-align: center; vertical-align: top\">1</td>\n",
              "    </tr>\n",
              "    <tr>\n",
              "        <td style=\"padding-left: 1em; padding-right: 1em; text-align: center; vertical-align: top\">Baby Tracker&amp;reg; - Daily<br>Childcare Journal, ...</td>\n",
              "        <td style=\"padding-left: 1em; padding-right: 1em; text-align: center; vertical-align: top\">A friend of mine pinned<br>this product on Pinte ...</td>\n",
              "        <td style=\"padding-left: 1em; padding-right: 1em; text-align: center; vertical-align: top\">5.0</td>\n",
              "        <td style=\"padding-left: 1em; padding-right: 1em; text-align: center; vertical-align: top\">{&#x27;like&#x27;: 1.0, &#x27;and&#x27;: 1.0,<br>&#x27;changes&#x27;: 1.0, &#x27;the&#x27;: ...</td>\n",
              "        <td style=\"padding-left: 1em; padding-right: 1em; text-align: center; vertical-align: top\">1</td>\n",
              "    </tr>\n",
              "    <tr>\n",
              "        <td style=\"padding-left: 1em; padding-right: 1em; text-align: center; vertical-align: top\">Baby Tracker&amp;reg; - Daily<br>Childcare Journal, ...</td>\n",
              "        <td style=\"padding-left: 1em; padding-right: 1em; text-align: center; vertical-align: top\">This has been an easy way<br>for my nanny to record ...</td>\n",
              "        <td style=\"padding-left: 1em; padding-right: 1em; text-align: center; vertical-align: top\">4.0</td>\n",
              "        <td style=\"padding-left: 1em; padding-right: 1em; text-align: center; vertical-align: top\">{&#x27;in&#x27;: 1.0, &#x27;pages&#x27;: 1.0,<br>&#x27;out&#x27;: 1.0, &#x27;run&#x27;: 1.0, ...</td>\n",
              "        <td style=\"padding-left: 1em; padding-right: 1em; text-align: center; vertical-align: top\">1</td>\n",
              "    </tr>\n",
              "    <tr>\n",
              "        <td style=\"padding-left: 1em; padding-right: 1em; text-align: center; vertical-align: top\">Baby Tracker&amp;reg; - Daily<br>Childcare Journal, ...</td>\n",
              "        <td style=\"padding-left: 1em; padding-right: 1em; text-align: center; vertical-align: top\">I love this journal and<br>our nanny uses it ...</td>\n",
              "        <td style=\"padding-left: 1em; padding-right: 1em; text-align: center; vertical-align: top\">4.0</td>\n",
              "        <td style=\"padding-left: 1em; padding-right: 1em; text-align: center; vertical-align: top\">{&#x27;tracker&#x27;: 1.0, &#x27;now&#x27;:<br>1.0, &#x27;postits&#x27;: 1.0, ...</td>\n",
              "        <td style=\"padding-left: 1em; padding-right: 1em; text-align: center; vertical-align: top\">1</td>\n",
              "    </tr>\n",
              "</table>\n",
              "[166752 rows x 5 columns]<br/>Note: Only the head of the SFrame is printed.<br/>You can use print_rows(num_rows=m, num_columns=n) to print more rows and columns.\n",
              "</div>"
            ],
            "text/plain": [
              "Columns:\n",
              "\tname\tstr\n",
              "\treview\tstr\n",
              "\trating\tfloat\n",
              "\tword_count\tdict\n",
              "\tsentiment\tint\n",
              "\n",
              "Rows: 166752\n",
              "\n",
              "Data:\n",
              "+-------------------------------+-------------------------------+--------+\n",
              "|              name             |             review            | rating |\n",
              "+-------------------------------+-------------------------------+--------+\n",
              "|     Planetwise Wipe Pouch     | it came early and was not ... |  5.0   |\n",
              "| Annas Dream Full Quilt wit... | Very soft and comfortable ... |  5.0   |\n",
              "| Stop Pacifier Sucking with... | This is a product well wor... |  5.0   |\n",
              "| Stop Pacifier Sucking with... | All of my kids have cried ... |  5.0   |\n",
              "| Stop Pacifier Sucking with... | When the Binky Fairy came ... |  5.0   |\n",
              "| A Tale of Baby's Days with... | Lovely book, it's bound ti... |  4.0   |\n",
              "| Baby Tracker&reg; - Daily ... | Perfect for new parents. W... |  5.0   |\n",
              "| Baby Tracker&reg; - Daily ... | A friend of mine pinned th... |  5.0   |\n",
              "| Baby Tracker&reg; - Daily ... | This has been an easy way ... |  4.0   |\n",
              "| Baby Tracker&reg; - Daily ... | I love this journal and ou... |  4.0   |\n",
              "+-------------------------------+-------------------------------+--------+\n",
              "+-------------------------------+-----------+\n",
              "|           word_count          | sentiment |\n",
              "+-------------------------------+-----------+\n",
              "| {'recommend': 1.0, 'highly... |     1     |\n",
              "| {'quilt': 1.0, 'this': 1.0... |     1     |\n",
              "| {'tool': 1.0, 'clever': 1.... |     1     |\n",
              "| {'rock': 1.0, 'headachesth... |     1     |\n",
              "| {'thumb': 1.0, 'or': 1.0, ... |     1     |\n",
              "| {'2995': 1.0, 'for': 1.0, ... |     1     |\n",
              "| {'right': 1.0, 'because': ... |     1     |\n",
              "| {'like': 1.0, 'and': 1.0, ... |     1     |\n",
              "| {'in': 1.0, 'pages': 1.0, ... |     1     |\n",
              "| {'tracker': 1.0, 'now': 1.... |     1     |\n",
              "+-------------------------------+-----------+\n",
              "[166752 rows x 5 columns]\n",
              "Note: Only the head of the SFrame is printed.\n",
              "You can use print_rows(num_rows=m, num_columns=n) to print more rows and columns."
            ]
          },
          "metadata": {
            "tags": []
          },
          "execution_count": 26
        }
      ]
    },
    {
      "cell_type": "markdown",
      "metadata": {
        "id": "kqOGRpz0GRCn",
        "colab_type": "text"
      },
      "source": [
        "Now, we can see that the dataset contains an extra column called **sentiment** which is either positive (+1) or negative (-1)."
      ]
    },
    {
      "cell_type": "markdown",
      "metadata": {
        "id": "GdAvHAoPGRCo",
        "colab_type": "text"
      },
      "source": [
        "## Split data into training and test sets"
      ]
    },
    {
      "cell_type": "markdown",
      "metadata": {
        "id": "1SeSKNUsGRCp",
        "colab_type": "text"
      },
      "source": [
        "Let's perform a train/test split with 80% of the data in the training set and 20% of the data in the test set. We use `seed=1` so that everyone gets the same result."
      ]
    },
    {
      "cell_type": "code",
      "metadata": {
        "id": "gMgzQWhJGRCq",
        "colab_type": "code",
        "colab": {
          "base_uri": "https://localhost:8080/",
          "height": 51
        },
        "outputId": "211ddf3b-3d07-4c69-d1d6-2f0a4db865aa"
      },
      "source": [
        "train_data, test_data = products.random_split(.8, seed=1)\n",
        "print(len(train_data))\n",
        "print(len(test_data))"
      ],
      "execution_count": 27,
      "outputs": [
        {
          "output_type": "stream",
          "text": [
            "133416\n",
            "33336\n"
          ],
          "name": "stdout"
        }
      ]
    },
    {
      "cell_type": "markdown",
      "metadata": {
        "id": "VxPAlC1JGRCu",
        "colab_type": "text"
      },
      "source": [
        "# Train a sentiment classifier with logistic regression\n",
        "\n",
        "We will now use logistic regression to create a sentiment classifier on the training data. This model will use the column **word_count** as a feature and the column **sentiment** as the target. We will use `validation_set=None` to obtain same results as everyone else.\n",
        "\n",
        "**Note:** This line may take 1-2 minutes."
      ]
    },
    {
      "cell_type": "code",
      "metadata": {
        "id": "CxN0PJzPGRCv",
        "colab_type": "code",
        "colab": {
          "base_uri": "https://localhost:8080/",
          "height": 340
        },
        "outputId": "ebb5c704-eb76-4882-bfd5-9a6d5e90a1eb"
      },
      "source": [
        "sentiment_model = turicreate.logistic_classifier.create(train_data,\n",
        "                                                        target = 'sentiment',\n",
        "                                                        features=['word_count'],\n",
        "                                                        validation_set=None)"
      ],
      "execution_count": 28,
      "outputs": [
        {
          "output_type": "display_data",
          "data": {
            "text/html": [
              "<pre>Logistic regression:</pre>"
            ],
            "text/plain": [
              "Logistic regression:"
            ]
          },
          "metadata": {
            "tags": []
          }
        },
        {
          "output_type": "display_data",
          "data": {
            "text/html": [
              "<pre>--------------------------------------------------------</pre>"
            ],
            "text/plain": [
              "--------------------------------------------------------"
            ]
          },
          "metadata": {
            "tags": []
          }
        },
        {
          "output_type": "display_data",
          "data": {
            "text/html": [
              "<pre>Number of examples          : 133416</pre>"
            ],
            "text/plain": [
              "Number of examples          : 133416"
            ]
          },
          "metadata": {
            "tags": []
          }
        },
        {
          "output_type": "display_data",
          "data": {
            "text/html": [
              "<pre>Number of classes           : 2</pre>"
            ],
            "text/plain": [
              "Number of classes           : 2"
            ]
          },
          "metadata": {
            "tags": []
          }
        },
        {
          "output_type": "display_data",
          "data": {
            "text/html": [
              "<pre>Number of feature columns   : 1</pre>"
            ],
            "text/plain": [
              "Number of feature columns   : 1"
            ]
          },
          "metadata": {
            "tags": []
          }
        },
        {
          "output_type": "display_data",
          "data": {
            "text/html": [
              "<pre>Number of unpacked features : 121712</pre>"
            ],
            "text/plain": [
              "Number of unpacked features : 121712"
            ]
          },
          "metadata": {
            "tags": []
          }
        },
        {
          "output_type": "display_data",
          "data": {
            "text/html": [
              "<pre>Number of coefficients      : 121713</pre>"
            ],
            "text/plain": [
              "Number of coefficients      : 121713"
            ]
          },
          "metadata": {
            "tags": []
          }
        },
        {
          "output_type": "display_data",
          "data": {
            "text/html": [
              "<pre>Starting L-BFGS</pre>"
            ],
            "text/plain": [
              "Starting L-BFGS"
            ]
          },
          "metadata": {
            "tags": []
          }
        },
        {
          "output_type": "display_data",
          "data": {
            "text/html": [
              "<pre>--------------------------------------------------------</pre>"
            ],
            "text/plain": [
              "--------------------------------------------------------"
            ]
          },
          "metadata": {
            "tags": []
          }
        },
        {
          "output_type": "display_data",
          "data": {
            "text/html": [
              "<pre>+-----------+----------+-----------+--------------+-------------------+</pre>"
            ],
            "text/plain": [
              "+-----------+----------+-----------+--------------+-------------------+"
            ]
          },
          "metadata": {
            "tags": []
          }
        },
        {
          "output_type": "display_data",
          "data": {
            "text/html": [
              "<pre>| Iteration | Passes   | Step size | Elapsed Time | Training Accuracy |</pre>"
            ],
            "text/plain": [
              "| Iteration | Passes   | Step size | Elapsed Time | Training Accuracy |"
            ]
          },
          "metadata": {
            "tags": []
          }
        },
        {
          "output_type": "display_data",
          "data": {
            "text/html": [
              "<pre>+-----------+----------+-----------+--------------+-------------------+</pre>"
            ],
            "text/plain": [
              "+-----------+----------+-----------+--------------+-------------------+"
            ]
          },
          "metadata": {
            "tags": []
          }
        },
        {
          "output_type": "display_data",
          "data": {
            "text/html": [
              "<pre>| 0         | 4        | 0.250000  | 1.428941     | 0.840754          |</pre>"
            ],
            "text/plain": [
              "| 0         | 4        | 0.250000  | 1.428941     | 0.840754          |"
            ]
          },
          "metadata": {
            "tags": []
          }
        },
        {
          "output_type": "display_data",
          "data": {
            "text/html": [
              "<pre>| 1         | 9        | 3.250000  | 3.349487     | 0.941514          |</pre>"
            ],
            "text/plain": [
              "| 1         | 9        | 3.250000  | 3.349487     | 0.941514          |"
            ]
          },
          "metadata": {
            "tags": []
          }
        },
        {
          "output_type": "display_data",
          "data": {
            "text/html": [
              "<pre>| 2         | 11       | 2.778177  | 4.252272     | 0.942638          |</pre>"
            ],
            "text/plain": [
              "| 2         | 11       | 2.778177  | 4.252272     | 0.942638          |"
            ]
          },
          "metadata": {
            "tags": []
          }
        },
        {
          "output_type": "display_data",
          "data": {
            "text/html": [
              "<pre>| 3         | 12       | 2.778177  | 4.830541     | 0.967822          |</pre>"
            ],
            "text/plain": [
              "| 3         | 12       | 2.778177  | 4.830541     | 0.967822          |"
            ]
          },
          "metadata": {
            "tags": []
          }
        },
        {
          "output_type": "display_data",
          "data": {
            "text/html": [
              "<pre>| 4         | 13       | 2.778177  | 5.400262     | 0.976495          |</pre>"
            ],
            "text/plain": [
              "| 4         | 13       | 2.778177  | 5.400262     | 0.976495          |"
            ]
          },
          "metadata": {
            "tags": []
          }
        },
        {
          "output_type": "display_data",
          "data": {
            "text/html": [
              "<pre>| 5         | 14       | 2.778177  | 5.963007     | 0.976495          |</pre>"
            ],
            "text/plain": [
              "| 5         | 14       | 2.778177  | 5.963007     | 0.976495          |"
            ]
          },
          "metadata": {
            "tags": []
          }
        },
        {
          "output_type": "display_data",
          "data": {
            "text/html": [
              "<pre>+-----------+----------+-----------+--------------+-------------------+</pre>"
            ],
            "text/plain": [
              "+-----------+----------+-----------+--------------+-------------------+"
            ]
          },
          "metadata": {
            "tags": []
          }
        }
      ]
    },
    {
      "cell_type": "code",
      "metadata": {
        "scrolled": true,
        "id": "eHpJu2y5GRCz",
        "colab_type": "code",
        "colab": {
          "base_uri": "https://localhost:8080/",
          "height": 714
        },
        "outputId": "e04e8b1a-daf5-4246-c49a-8c358b768849"
      },
      "source": [
        "sentiment_model"
      ],
      "execution_count": 29,
      "outputs": [
        {
          "output_type": "execute_result",
          "data": {
            "text/plain": [
              "Class                          : LogisticClassifier\n",
              "\n",
              "Schema\n",
              "------\n",
              "Number of coefficients         : 121713\n",
              "Number of examples             : 133416\n",
              "Number of classes              : 2\n",
              "Number of feature columns      : 1\n",
              "Number of unpacked features    : 121712\n",
              "\n",
              "Hyperparameters\n",
              "---------------\n",
              "L1 penalty                     : 0.0\n",
              "L2 penalty                     : 0.01\n",
              "\n",
              "Training Summary\n",
              "----------------\n",
              "Solver                         : lbfgs\n",
              "Solver iterations              : 5\n",
              "Solver status                  : TERMINATED: Terminated due to numerical difficulties.\n",
              "Training time (sec)            : 4.8181\n",
              "\n",
              "Settings\n",
              "--------\n",
              "Log-likelihood                 : inf\n",
              "\n",
              "Highest Positive Coefficients\n",
              "-----------------------------\n",
              "word_count[offsi]              : 21.7657\n",
              "word_count[conclusions]        : 21.6818\n",
              "word_count[torsional]          : 21.6818\n",
              "word_count[geeeezzz]           : 21.6818\n",
              "word_count[articletest]        : 21.6818\n",
              "\n",
              "Lowest Negative Coefficients\n",
              "----------------------------\n",
              "word_count[wahwah]             : -21.8302\n",
              "word_count[timesopros]         : -21.8302\n",
              "word_count[pumpabout]          : -21.8302\n",
              "word_count[lactinai]           : -21.8302\n",
              "word_count[nonclogged]         : -21.8302"
            ]
          },
          "metadata": {
            "tags": []
          },
          "execution_count": 29
        }
      ]
    },
    {
      "cell_type": "markdown",
      "metadata": {
        "id": "e09MATRZGRC3",
        "colab_type": "text"
      },
      "source": [
        "**Aside**. You may get a warning to the effect of \"Terminated due to numerical difficulties --- this model may not be ideal\". It means that the quality metric (to be covered in Module 3) failed to improve in the last iteration of the run. The difficulty arises as the sentiment model puts too much weight on extremely rare words. A way to rectify this is to apply regularization, to be covered in Module 4. Regularization lessens the effect of extremely rare words. For the purpose of this assignment, however, please proceed with the model above."
      ]
    },
    {
      "cell_type": "markdown",
      "metadata": {
        "id": "yXJUHwNzGRC4",
        "colab_type": "text"
      },
      "source": [
        "Now that we have fitted the model, we can extract the weights (coefficients) as an SFrame as follows:"
      ]
    },
    {
      "cell_type": "code",
      "metadata": {
        "id": "jefx-aOkGRC5",
        "colab_type": "code",
        "colab": {
          "base_uri": "https://localhost:8080/",
          "height": 34
        },
        "outputId": "ade3b468-0300-41d2-ac5e-220866b6ded8"
      },
      "source": [
        "weights = sentiment_model.coefficients\n",
        "weights.column_names()"
      ],
      "execution_count": 30,
      "outputs": [
        {
          "output_type": "execute_result",
          "data": {
            "text/plain": [
              "['name', 'index', 'class', 'value', 'stderr']"
            ]
          },
          "metadata": {
            "tags": []
          },
          "execution_count": 30
        }
      ]
    },
    {
      "cell_type": "code",
      "metadata": {
        "id": "XvBTtFPMK1FT",
        "colab_type": "code",
        "colab": {
          "base_uri": "https://localhost:8080/",
          "height": 34
        },
        "outputId": "a89e6f0d-d0e9-47fa-83d4-00be0eb61a8e"
      },
      "source": [
        "len(weights['value'])"
      ],
      "execution_count": 31,
      "outputs": [
        {
          "output_type": "execute_result",
          "data": {
            "text/plain": [
              "121713"
            ]
          },
          "metadata": {
            "tags": []
          },
          "execution_count": 31
        }
      ]
    },
    {
      "cell_type": "markdown",
      "metadata": {
        "id": "hYNvOHpEGRC9",
        "colab_type": "text"
      },
      "source": [
        "There are a total of `121713` coefficients in the model. Recall from the lecture that positive weights $w_j$ correspond to weights that cause positive sentiment, while negative weights correspond to negative sentiment. \n",
        "\n",
        "Fill in the following block of code to calculate how many *weights* are positive ( >= 0). (**Hint**: The `'value'` column in SFrame *weights* must be positive ( >= 0))."
      ]
    },
    {
      "cell_type": "code",
      "metadata": {
        "id": "aBhrzXYMGRC-",
        "colab_type": "code",
        "colab": {
          "base_uri": "https://localhost:8080/",
          "height": 51
        },
        "outputId": "43938462-37ce-4ea6-ed19-9a7fd558883a"
      },
      "source": [
        "num_positive_weights = (weights['value'] >= 0).sum()\n",
        "num_negative_weights = (weights['value'] <0 ).sum()\n",
        "\n",
        "print(\"Number of positive weights: %s \" % num_positive_weights)\n",
        "print(\"Number of negative weights: %s \" % num_negative_weights)"
      ],
      "execution_count": 32,
      "outputs": [
        {
          "output_type": "stream",
          "text": [
            "Number of positive weights: 91073 \n",
            "Number of negative weights: 30640 \n"
          ],
          "name": "stdout"
        }
      ]
    },
    {
      "cell_type": "markdown",
      "metadata": {
        "id": "GWg7z1pMGRDB",
        "colab_type": "text"
      },
      "source": [
        "**Quiz Question:** How many weights are >= 0?"
      ]
    },
    {
      "cell_type": "markdown",
      "metadata": {
        "id": "_Jg1BWRNGRDC",
        "colab_type": "text"
      },
      "source": [
        "## Making predictions with logistic regression\n",
        "\n",
        "Now that a model is trained, we can make predictions on the **test data**. In this section, we will explore this in the context of 3 examples in the test dataset.  We refer to this set of 3 examples as the **sample_test_data**."
      ]
    },
    {
      "cell_type": "code",
      "metadata": {
        "id": "ySdZP8SKGRDD",
        "colab_type": "code",
        "colab": {
          "base_uri": "https://localhost:8080/",
          "height": 180
        },
        "outputId": "b20fa5ac-0610-4084-f544-734d3fcb83f7"
      },
      "source": [
        "sample_test_data = test_data[10:13]\n",
        "print(sample_test_data['rating'])\n",
        "sample_test_data"
      ],
      "execution_count": 33,
      "outputs": [
        {
          "output_type": "stream",
          "text": [
            "[5.0, 2.0, 1.0]\n"
          ],
          "name": "stdout"
        },
        {
          "output_type": "execute_result",
          "data": {
            "text/html": [
              "<div style=\"max-height:1000px;max-width:1500px;overflow:auto;\"><table frame=\"box\" rules=\"cols\">\n",
              "    <tr>\n",
              "        <th style=\"padding-left: 1em; padding-right: 1em; text-align: center\">name</th>\n",
              "        <th style=\"padding-left: 1em; padding-right: 1em; text-align: center\">review</th>\n",
              "        <th style=\"padding-left: 1em; padding-right: 1em; text-align: center\">rating</th>\n",
              "        <th style=\"padding-left: 1em; padding-right: 1em; text-align: center\">word_count</th>\n",
              "        <th style=\"padding-left: 1em; padding-right: 1em; text-align: center\">sentiment</th>\n",
              "    </tr>\n",
              "    <tr>\n",
              "        <td style=\"padding-left: 1em; padding-right: 1em; text-align: center; vertical-align: top\">Our Baby Girl Memory Book</td>\n",
              "        <td style=\"padding-left: 1em; padding-right: 1em; text-align: center; vertical-align: top\">Absolutely love it and<br>all of the Scripture in ...</td>\n",
              "        <td style=\"padding-left: 1em; padding-right: 1em; text-align: center; vertical-align: top\">5.0</td>\n",
              "        <td style=\"padding-left: 1em; padding-right: 1em; text-align: center; vertical-align: top\">{&#x27;again&#x27;: 1.0, &#x27;book&#x27;:<br>1.0, &#x27;same&#x27;: 1.0, ...</td>\n",
              "        <td style=\"padding-left: 1em; padding-right: 1em; text-align: center; vertical-align: top\">1</td>\n",
              "    </tr>\n",
              "    <tr>\n",
              "        <td style=\"padding-left: 1em; padding-right: 1em; text-align: center; vertical-align: top\">Wall Decor Removable<br>Decal Sticker - Colorful ...</td>\n",
              "        <td style=\"padding-left: 1em; padding-right: 1em; text-align: center; vertical-align: top\">Would not purchase again<br>or recommend. The decals ...</td>\n",
              "        <td style=\"padding-left: 1em; padding-right: 1em; text-align: center; vertical-align: top\">2.0</td>\n",
              "        <td style=\"padding-left: 1em; padding-right: 1em; text-align: center; vertical-align: top\">{&#x27;peeling&#x27;: 1.0, &#x27;5&#x27;:<br>1.0, &#x27;about&#x27;: 1.0, &#x27;f ...</td>\n",
              "        <td style=\"padding-left: 1em; padding-right: 1em; text-align: center; vertical-align: top\">-1</td>\n",
              "    </tr>\n",
              "    <tr>\n",
              "        <td style=\"padding-left: 1em; padding-right: 1em; text-align: center; vertical-align: top\">New Style Trailing Cherry<br>Blossom Tree Decal ...</td>\n",
              "        <td style=\"padding-left: 1em; padding-right: 1em; text-align: center; vertical-align: top\">Was so excited to get<br>this product for my baby ...</td>\n",
              "        <td style=\"padding-left: 1em; padding-right: 1em; text-align: center; vertical-align: top\">1.0</td>\n",
              "        <td style=\"padding-left: 1em; padding-right: 1em; text-align: center; vertical-align: top\">{&#x27;on&#x27;: 1.0, &#x27;waste&#x27;: 1.0,<br>&#x27;wouldnt&#x27;: 1.0, ...</td>\n",
              "        <td style=\"padding-left: 1em; padding-right: 1em; text-align: center; vertical-align: top\">-1</td>\n",
              "    </tr>\n",
              "</table>\n",
              "[3 rows x 5 columns]<br/>\n",
              "</div>"
            ],
            "text/plain": [
              "Columns:\n",
              "\tname\tstr\n",
              "\treview\tstr\n",
              "\trating\tfloat\n",
              "\tword_count\tdict\n",
              "\tsentiment\tint\n",
              "\n",
              "Rows: 3\n",
              "\n",
              "Data:\n",
              "+-------------------------------+-------------------------------+--------+\n",
              "|              name             |             review            | rating |\n",
              "+-------------------------------+-------------------------------+--------+\n",
              "|   Our Baby Girl Memory Book   | Absolutely love it and all... |  5.0   |\n",
              "| Wall Decor Removable Decal... | Would not purchase again o... |  2.0   |\n",
              "| New Style Trailing Cherry ... | Was so excited to get this... |  1.0   |\n",
              "+-------------------------------+-------------------------------+--------+\n",
              "+-------------------------------+-----------+\n",
              "|           word_count          | sentiment |\n",
              "+-------------------------------+-----------+\n",
              "| {'again': 1.0, 'book': 1.0... |     1     |\n",
              "| {'peeling': 1.0, '5': 1.0,... |     -1    |\n",
              "| {'on': 1.0, 'waste': 1.0, ... |     -1    |\n",
              "+-------------------------------+-----------+\n",
              "[3 rows x 5 columns]"
            ]
          },
          "metadata": {
            "tags": []
          },
          "execution_count": 33
        }
      ]
    },
    {
      "cell_type": "markdown",
      "metadata": {
        "id": "yVJ8kRaVGRDH",
        "colab_type": "text"
      },
      "source": [
        "Let's dig deeper into the first row of the **sample_test_data**. Here's the full review:"
      ]
    },
    {
      "cell_type": "code",
      "metadata": {
        "id": "0wY0pbt5GRDI",
        "colab_type": "code",
        "colab": {
          "base_uri": "https://localhost:8080/",
          "height": 54
        },
        "outputId": "43c53f1e-84f3-4003-f3fe-cbf0079a6828"
      },
      "source": [
        "sample_test_data[0]['review']"
      ],
      "execution_count": 34,
      "outputs": [
        {
          "output_type": "execute_result",
          "data": {
            "text/plain": [
              "'Absolutely love it and all of the Scripture in it.  I purchased the Baby Boy version for my grandson when he was born and my daughter-in-law was thrilled to receive the same book again.'"
            ]
          },
          "metadata": {
            "tags": []
          },
          "execution_count": 34
        }
      ]
    },
    {
      "cell_type": "markdown",
      "metadata": {
        "id": "Sv5kaQalGRDL",
        "colab_type": "text"
      },
      "source": [
        "That review seems pretty positive.\n",
        "\n",
        "Now, let's see what the next row of the **sample_test_data** looks like. As we could guess from the sentiment (-1), the review is quite negative."
      ]
    },
    {
      "cell_type": "code",
      "metadata": {
        "id": "ZSaz_8gEGRDM",
        "colab_type": "code",
        "colab": {
          "base_uri": "https://localhost:8080/",
          "height": 54
        },
        "outputId": "fdc16a55-9d90-473c-dfd7-dd42c97b2897"
      },
      "source": [
        "sample_test_data[1]['review']"
      ],
      "execution_count": 35,
      "outputs": [
        {
          "output_type": "execute_result",
          "data": {
            "text/plain": [
              "'Would not purchase again or recommend. The decals were thick almost plastic like and were coming off the wall as I was applying them! The would NOT stick! Literally stayed stuck for about 5 minutes then started peeling off.'"
            ]
          },
          "metadata": {
            "tags": []
          },
          "execution_count": 35
        }
      ]
    },
    {
      "cell_type": "markdown",
      "metadata": {
        "id": "YXwj-H0FGRDQ",
        "colab_type": "text"
      },
      "source": [
        "We will now make a **class** prediction for the **sample_test_data**. The `sentiment_model` should predict **+1** if the sentiment is positive and **-1** if the sentiment is negative. Recall from the lecture that the **score** (sometimes called **margin**) for the logistic regression model  is defined as:\n",
        "\n",
        "$$\n",
        "\\mbox{score}_i = \\mathbf{w}^T h(\\mathbf{x}_i)\n",
        "$$ \n",
        "\n",
        "where $h(\\mathbf{x}_i)$ represents the features for example $i$.  We will write some code to obtain the **scores** using Turi Create. For each row, the **score** (or margin) is a number in the range **[-inf, inf]**."
      ]
    },
    {
      "cell_type": "code",
      "metadata": {
        "id": "9m_IvKxmGRDQ",
        "colab_type": "code",
        "colab": {
          "base_uri": "https://localhost:8080/",
          "height": 34
        },
        "outputId": "e35ca86b-f28c-4a18-feb0-da3999feefea"
      },
      "source": [
        "scores = sentiment_model.predict(sample_test_data, output_type='margin')\n",
        "print(scores)"
      ],
      "execution_count": 36,
      "outputs": [
        {
          "output_type": "stream",
          "text": [
            "[4.788907309204973, -3.0007822224214706, -8.188501360764487]\n"
          ],
          "name": "stdout"
        }
      ]
    },
    {
      "cell_type": "markdown",
      "metadata": {
        "id": "BSY3GMD8GRDU",
        "colab_type": "text"
      },
      "source": [
        "### Predicting sentiment\n",
        "\n",
        "These scores can be used to make class predictions as follows:\n",
        "\n",
        "$$\n",
        "\\hat{y} = \n",
        "\\left\\{\n",
        "\\begin{array}{ll}\n",
        "      +1 & \\mathbf{w}^T h(\\mathbf{x}_i) > 0 \\\\\n",
        "      -1 & \\mathbf{w}^T h(\\mathbf{x}_i) \\leq 0 \\\\\n",
        "\\end{array} \n",
        "\\right.\n",
        "$$\n",
        "\n",
        "Using scores, write code to calculate $\\hat{y}$, the class predictions:"
      ]
    },
    {
      "cell_type": "code",
      "metadata": {
        "id": "AKHM6dluGRDU",
        "colab_type": "code",
        "colab": {}
      },
      "source": [
        "def class_prediction(scores):\n",
        "  pred = []\n",
        "  for sc in scores:\n",
        "    if sc >= 0:\n",
        "      pred.append(1)\n",
        "    else:\n",
        "      pred.append(-1) \n",
        "  return pred"
      ],
      "execution_count": 40,
      "outputs": []
    },
    {
      "cell_type": "code",
      "metadata": {
        "id": "qgbONgFOPQo_",
        "colab_type": "code",
        "colab": {
          "base_uri": "https://localhost:8080/",
          "height": 34
        },
        "outputId": "102fa08a-bee8-4936-bee8-3d37644b5248"
      },
      "source": [
        "print('Class Prediction using manual class', class_prediction(scores))"
      ],
      "execution_count": 43,
      "outputs": [
        {
          "output_type": "stream",
          "text": [
            "Class Prediction using manual class [1, -1, -1]\n"
          ],
          "name": "stdout"
        }
      ]
    },
    {
      "cell_type": "markdown",
      "metadata": {
        "id": "cysGSUC8GRDY",
        "colab_type": "text"
      },
      "source": [
        "Run the following code to verify that the class predictions obtained by your calculations are the same as that obtained from Turi Create."
      ]
    },
    {
      "cell_type": "code",
      "metadata": {
        "id": "pA5M3NL3GRDY",
        "colab_type": "code",
        "colab": {
          "base_uri": "https://localhost:8080/",
          "height": 51
        },
        "outputId": "ffcf645b-cea3-4025-af7d-4dc23e70daf7"
      },
      "source": [
        "print(\"Class predictions according to Turi Create:\")\n",
        "print(sentiment_model.predict(sample_test_data))"
      ],
      "execution_count": 42,
      "outputs": [
        {
          "output_type": "stream",
          "text": [
            "Class predictions according to Turi Create:\n",
            "[1, -1, -1]\n"
          ],
          "name": "stdout"
        }
      ]
    },
    {
      "cell_type": "markdown",
      "metadata": {
        "id": "swwY8bJhGRDc",
        "colab_type": "text"
      },
      "source": [
        "**Checkpoint**: Make sure your class predictions match with the one obtained from Turi Create.\n",
        "\n",
        "### Probability predictions\n",
        "\n",
        "Recall from the lectures that we can also calculate the probability predictions from the scores using:\n",
        "$$\n",
        "P(y_i = +1 | \\mathbf{x}_i,\\mathbf{w}) = \\frac{1}{1 + \\exp(-\\mathbf{w}^T h(\\mathbf{x}_i))}.\n",
        "$$\n",
        "\n",
        "Using the variable **scores** calculated previously, write code to calculate the probability that a sentiment is positive using the above formula. For each row, the probabilities should be a number in the range **[0, 1]**."
      ]
    },
    {
      "cell_type": "code",
      "metadata": {
        "id": "-_xLvczjGRDc",
        "colab_type": "code",
        "colab": {
          "base_uri": "https://localhost:8080/",
          "height": 34
        },
        "outputId": "e58a3af8-8f3a-45ee-858e-165e95fdfeaa"
      },
      "source": [
        "import math\n",
        "probability_class = []\n",
        "def calculate_prob(scores):\n",
        "  for sc in scores:\n",
        "    probability = 1/(1+math.exp(-sc))\n",
        "    probability_class.append(probability)\n",
        "  return probability_class\n",
        "\n",
        "calculate_prob(scores)"
      ],
      "execution_count": 47,
      "outputs": [
        {
          "output_type": "execute_result",
          "data": {
            "text/plain": [
              "[0.9917471313286145, 0.04739054748897457, 0.0002777527712167838]"
            ]
          },
          "metadata": {
            "tags": []
          },
          "execution_count": 47
        }
      ]
    },
    {
      "cell_type": "markdown",
      "metadata": {
        "id": "cDippwQuGRDj",
        "colab_type": "text"
      },
      "source": [
        "**Checkpoint**: Make sure your probability predictions match the ones obtained from Turi Create."
      ]
    },
    {
      "cell_type": "code",
      "metadata": {
        "id": "tUzBCH6bGRDk",
        "colab_type": "code",
        "colab": {
          "base_uri": "https://localhost:8080/",
          "height": 51
        },
        "outputId": "f571126a-9f0e-441a-d757-73b6a06eb52c"
      },
      "source": [
        "print(\"Class predictions according to Turi Create:\")\n",
        "print(sentiment_model.predict(sample_test_data, output_type='probability'))"
      ],
      "execution_count": 48,
      "outputs": [
        {
          "output_type": "stream",
          "text": [
            "Class predictions according to Turi Create:\n",
            "[0.9917471313286145, 0.04739054748897456, 0.0002777527712167837]\n"
          ],
          "name": "stdout"
        }
      ]
    },
    {
      "cell_type": "markdown",
      "metadata": {
        "id": "_6KstjzwGRDq",
        "colab_type": "text"
      },
      "source": [
        "** Quiz Question:** Of the three data points in **sample_test_data**, which one (first, second, or third) has the **lowest probability** of being classified as a positive review?"
      ]
    },
    {
      "cell_type": "markdown",
      "metadata": {
        "id": "-HeSn6LuGRDr",
        "colab_type": "text"
      },
      "source": [
        "# Find the most positive (and negative) review"
      ]
    },
    {
      "cell_type": "markdown",
      "metadata": {
        "id": "GCO53kcXGRDr",
        "colab_type": "text"
      },
      "source": [
        "We now turn to examining the full test dataset, **test_data**, and use Turi Create to form predictions on all of the test data points for faster performance.\n",
        "\n",
        "Using the `sentiment_model`, find the 20 reviews in the entire **test_data** with the **highest probability** of being classified as a **positive review**. We refer to these as the \"most positive reviews.\"\n",
        "\n",
        "To calculate these top-20 reviews, use the following steps:\n",
        "1.  Make probability predictions on **test_data** using the `sentiment_model`. (**Hint:** When you call `.predict` to make predictions on the test data, use option `output_type='probability'` to output the probability rather than just the most likely class.)\n",
        "2.  Sort the data according to those predictions and pick the top 20. (**Hint:** You can use the `.topk` method on an SFrame to find the top k rows sorted according to the value of a specified column.)"
      ]
    },
    {
      "cell_type": "code",
      "metadata": {
        "id": "t4z_-o5GGRDs",
        "colab_type": "code",
        "colab": {
          "base_uri": "https://localhost:8080/",
          "height": 660
        },
        "outputId": "e361aa0a-6a38-4d5a-ce26-53867fd5218e"
      },
      "source": [
        "test_data['probability_prediction'] = sentiment_model.predict(test_data, output_type='probability')\n",
        "test_data"
      ],
      "execution_count": 49,
      "outputs": [
        {
          "output_type": "execute_result",
          "data": {
            "text/html": [
              "<div style=\"max-height:1000px;max-width:1500px;overflow:auto;\"><table frame=\"box\" rules=\"cols\">\n",
              "    <tr>\n",
              "        <th style=\"padding-left: 1em; padding-right: 1em; text-align: center\">name</th>\n",
              "        <th style=\"padding-left: 1em; padding-right: 1em; text-align: center\">review</th>\n",
              "        <th style=\"padding-left: 1em; padding-right: 1em; text-align: center\">rating</th>\n",
              "        <th style=\"padding-left: 1em; padding-right: 1em; text-align: center\">word_count</th>\n",
              "        <th style=\"padding-left: 1em; padding-right: 1em; text-align: center\">sentiment</th>\n",
              "    </tr>\n",
              "    <tr>\n",
              "        <td style=\"padding-left: 1em; padding-right: 1em; text-align: center; vertical-align: top\">Baby Tracker&amp;reg; - Daily<br>Childcare Journal, ...</td>\n",
              "        <td style=\"padding-left: 1em; padding-right: 1em; text-align: center; vertical-align: top\">This has been an easy way<br>for my nanny to record ...</td>\n",
              "        <td style=\"padding-left: 1em; padding-right: 1em; text-align: center; vertical-align: top\">4.0</td>\n",
              "        <td style=\"padding-left: 1em; padding-right: 1em; text-align: center; vertical-align: top\">{&#x27;in&#x27;: 1.0, &#x27;pages&#x27;: 1.0,<br>&#x27;out&#x27;: 1.0, &#x27;run&#x27;: 1.0, ...</td>\n",
              "        <td style=\"padding-left: 1em; padding-right: 1em; text-align: center; vertical-align: top\">1</td>\n",
              "    </tr>\n",
              "    <tr>\n",
              "        <td style=\"padding-left: 1em; padding-right: 1em; text-align: center; vertical-align: top\">Baby Tracker&amp;reg; - Daily<br>Childcare Journal, ...</td>\n",
              "        <td style=\"padding-left: 1em; padding-right: 1em; text-align: center; vertical-align: top\">I love this journal and<br>our nanny uses it ...</td>\n",
              "        <td style=\"padding-left: 1em; padding-right: 1em; text-align: center; vertical-align: top\">4.0</td>\n",
              "        <td style=\"padding-left: 1em; padding-right: 1em; text-align: center; vertical-align: top\">{&#x27;tracker&#x27;: 1.0, &#x27;now&#x27;:<br>1.0, &#x27;postits&#x27;: 1.0, ...</td>\n",
              "        <td style=\"padding-left: 1em; padding-right: 1em; text-align: center; vertical-align: top\">1</td>\n",
              "    </tr>\n",
              "    <tr>\n",
              "        <td style=\"padding-left: 1em; padding-right: 1em; text-align: center; vertical-align: top\">Nature&#x27;s Lullabies First<br>Year Sticker Calendar ...</td>\n",
              "        <td style=\"padding-left: 1em; padding-right: 1em; text-align: center; vertical-align: top\">I love this little<br>calender, you can keep ...</td>\n",
              "        <td style=\"padding-left: 1em; padding-right: 1em; text-align: center; vertical-align: top\">5.0</td>\n",
              "        <td style=\"padding-left: 1em; padding-right: 1em; text-align: center; vertical-align: top\">{&#x27;too&#x27;: 1.0, &#x27;stickers&#x27;:<br>1.0, &#x27;illustrations&#x27;: ...</td>\n",
              "        <td style=\"padding-left: 1em; padding-right: 1em; text-align: center; vertical-align: top\">1</td>\n",
              "    </tr>\n",
              "    <tr>\n",
              "        <td style=\"padding-left: 1em; padding-right: 1em; text-align: center; vertical-align: top\">Nature&#x27;s Lullabies Second<br>Year Sticker Calendar ...</td>\n",
              "        <td style=\"padding-left: 1em; padding-right: 1em; text-align: center; vertical-align: top\">I had a hard time finding<br>a second year calendar, ...</td>\n",
              "        <td style=\"padding-left: 1em; padding-right: 1em; text-align: center; vertical-align: top\">5.0</td>\n",
              "        <td style=\"padding-left: 1em; padding-right: 1em; text-align: center; vertical-align: top\">{&#x27;reference&#x27;: 1.0,<br>&#x27;have&#x27;: 1.0, &#x27;out&#x27;: 1.0, ...</td>\n",
              "        <td style=\"padding-left: 1em; padding-right: 1em; text-align: center; vertical-align: top\">1</td>\n",
              "    </tr>\n",
              "    <tr>\n",
              "        <td style=\"padding-left: 1em; padding-right: 1em; text-align: center; vertical-align: top\">Lamaze Peekaboo, I Love<br>You ...</td>\n",
              "        <td style=\"padding-left: 1em; padding-right: 1em; text-align: center; vertical-align: top\">One of baby&#x27;s first and<br>favorite books, and i ...</td>\n",
              "        <td style=\"padding-left: 1em; padding-right: 1em; text-align: center; vertical-align: top\">4.0</td>\n",
              "        <td style=\"padding-left: 1em; padding-right: 1em; text-align: center; vertical-align: top\">{&#x27;typical&#x27;: 1.0, &#x27;your&#x27;:<br>1.0, &#x27;the&#x27;: 1.0, ...</td>\n",
              "        <td style=\"padding-left: 1em; padding-right: 1em; text-align: center; vertical-align: top\">1</td>\n",
              "    </tr>\n",
              "    <tr>\n",
              "        <td style=\"padding-left: 1em; padding-right: 1em; text-align: center; vertical-align: top\">Lamaze Peekaboo, I Love<br>You ...</td>\n",
              "        <td style=\"padding-left: 1em; padding-right: 1em; text-align: center; vertical-align: top\">My son loved this book as<br>an infant.  It was ...</td>\n",
              "        <td style=\"padding-left: 1em; padding-right: 1em; text-align: center; vertical-align: top\">5.0</td>\n",
              "        <td style=\"padding-left: 1em; padding-right: 1em; text-align: center; vertical-align: top\">{&#x27;farm&#x27;: 1.0, &#x27;out&#x27;: 1.0,<br>&#x27;say&#x27;: 1.0, &#x27;again&#x27;:  ...</td>\n",
              "        <td style=\"padding-left: 1em; padding-right: 1em; text-align: center; vertical-align: top\">1</td>\n",
              "    </tr>\n",
              "    <tr>\n",
              "        <td style=\"padding-left: 1em; padding-right: 1em; text-align: center; vertical-align: top\">Lamaze Peekaboo, I Love<br>You ...</td>\n",
              "        <td style=\"padding-left: 1em; padding-right: 1em; text-align: center; vertical-align: top\">Our baby loves this book<br>&amp; has loved it for a ...</td>\n",
              "        <td style=\"padding-left: 1em; padding-right: 1em; text-align: center; vertical-align: top\">5.0</td>\n",
              "        <td style=\"padding-left: 1em; padding-right: 1em; text-align: center; vertical-align: top\">{&#x27;own&#x27;: 1.0, &#x27;his&#x27;: 1.0,<br>&#x27;on&#x27;: 1.0, &#x27;a&#x27;: 1.0, ...</td>\n",
              "        <td style=\"padding-left: 1em; padding-right: 1em; text-align: center; vertical-align: top\">1</td>\n",
              "    </tr>\n",
              "    <tr>\n",
              "        <td style=\"padding-left: 1em; padding-right: 1em; text-align: center; vertical-align: top\">SoftPlay Giggle Jiggle<br>Funbook, Happy Bear ...</td>\n",
              "        <td style=\"padding-left: 1em; padding-right: 1em; text-align: center; vertical-align: top\">This bear is absolutely<br>adorable and I would  ...</td>\n",
              "        <td style=\"padding-left: 1em; padding-right: 1em; text-align: center; vertical-align: top\">2.0</td>\n",
              "        <td style=\"padding-left: 1em; padding-right: 1em; text-align: center; vertical-align: top\">{&#x27;kenzie&#x27;: 1.0, &#x27;my&#x27;:<br>1.0, &#x27;down&#x27;: 1.0, &#x27;gi ...</td>\n",
              "        <td style=\"padding-left: 1em; padding-right: 1em; text-align: center; vertical-align: top\">-1</td>\n",
              "    </tr>\n",
              "    <tr>\n",
              "        <td style=\"padding-left: 1em; padding-right: 1em; text-align: center; vertical-align: top\">SoftPlay Peek-A-Boo<br>Where&#x27;s Elmo A Childr ...</td>\n",
              "        <td style=\"padding-left: 1em; padding-right: 1em; text-align: center; vertical-align: top\">I bought two for recent<br>baby showers!  The book ...</td>\n",
              "        <td style=\"padding-left: 1em; padding-right: 1em; text-align: center; vertical-align: top\">5.0</td>\n",
              "        <td style=\"padding-left: 1em; padding-right: 1em; text-align: center; vertical-align: top\">{&#x27;book&#x27;: 1.0, &#x27;elmo&#x27;:<br>1.0, &#x27;love&#x27;: 1.0, &#x27;for&#x27;: ...</td>\n",
              "        <td style=\"padding-left: 1em; padding-right: 1em; text-align: center; vertical-align: top\">1</td>\n",
              "    </tr>\n",
              "    <tr>\n",
              "        <td style=\"padding-left: 1em; padding-right: 1em; text-align: center; vertical-align: top\">Baby&#x27;s First Year Undated<br>Wall Calendar with ...</td>\n",
              "        <td style=\"padding-left: 1em; padding-right: 1em; text-align: center; vertical-align: top\">I searched high and low<br>for a first year cale ...</td>\n",
              "        <td style=\"padding-left: 1em; padding-right: 1em; text-align: center; vertical-align: top\">5.0</td>\n",
              "        <td style=\"padding-left: 1em; padding-right: 1em; text-align: center; vertical-align: top\">{&#x27;pictures&#x27;: 1.0,<br>&#x27;personalization&#x27;: 1.0, ...</td>\n",
              "        <td style=\"padding-left: 1em; padding-right: 1em; text-align: center; vertical-align: top\">1</td>\n",
              "    </tr>\n",
              "</table>\n",
              "<table frame=\"box\" rules=\"cols\">\n",
              "    <tr>\n",
              "        <th style=\"padding-left: 1em; padding-right: 1em; text-align: center\">probability_prediction</th>\n",
              "    </tr>\n",
              "    <tr>\n",
              "        <td style=\"padding-left: 1em; padding-right: 1em; text-align: center; vertical-align: top\">0.8837450374304943</td>\n",
              "    </tr>\n",
              "    <tr>\n",
              "        <td style=\"padding-left: 1em; padding-right: 1em; text-align: center; vertical-align: top\">0.9999999795969259</td>\n",
              "    </tr>\n",
              "    <tr>\n",
              "        <td style=\"padding-left: 1em; padding-right: 1em; text-align: center; vertical-align: top\">0.7214046198508188</td>\n",
              "    </tr>\n",
              "    <tr>\n",
              "        <td style=\"padding-left: 1em; padding-right: 1em; text-align: center; vertical-align: top\">0.9999702405005497</td>\n",
              "    </tr>\n",
              "    <tr>\n",
              "        <td style=\"padding-left: 1em; padding-right: 1em; text-align: center; vertical-align: top\">0.9698462672321279</td>\n",
              "    </tr>\n",
              "    <tr>\n",
              "        <td style=\"padding-left: 1em; padding-right: 1em; text-align: center; vertical-align: top\">0.9999953253994286</td>\n",
              "    </tr>\n",
              "    <tr>\n",
              "        <td style=\"padding-left: 1em; padding-right: 1em; text-align: center; vertical-align: top\">0.9970314926061214</td>\n",
              "    </tr>\n",
              "    <tr>\n",
              "        <td style=\"padding-left: 1em; padding-right: 1em; text-align: center; vertical-align: top\">0.9721442926338506</td>\n",
              "    </tr>\n",
              "    <tr>\n",
              "        <td style=\"padding-left: 1em; padding-right: 1em; text-align: center; vertical-align: top\">0.9969355527911798</td>\n",
              "    </tr>\n",
              "    <tr>\n",
              "        <td style=\"padding-left: 1em; padding-right: 1em; text-align: center; vertical-align: top\">0.9973467019063258</td>\n",
              "    </tr>\n",
              "</table>\n",
              "[33336 rows x 6 columns]<br/>Note: Only the head of the SFrame is printed.<br/>You can use print_rows(num_rows=m, num_columns=n) to print more rows and columns.\n",
              "</div>"
            ],
            "text/plain": [
              "Columns:\n",
              "\tname\tstr\n",
              "\treview\tstr\n",
              "\trating\tfloat\n",
              "\tword_count\tdict\n",
              "\tsentiment\tint\n",
              "\tprobability_prediction\tfloat\n",
              "\n",
              "Rows: 33336\n",
              "\n",
              "Data:\n",
              "+-------------------------------+-------------------------------+--------+\n",
              "|              name             |             review            | rating |\n",
              "+-------------------------------+-------------------------------+--------+\n",
              "| Baby Tracker&reg; - Daily ... | This has been an easy way ... |  4.0   |\n",
              "| Baby Tracker&reg; - Daily ... | I love this journal and ou... |  4.0   |\n",
              "| Nature's Lullabies First Y... | I love this little calende... |  5.0   |\n",
              "| Nature's Lullabies Second ... | I had a hard time finding ... |  5.0   |\n",
              "|  Lamaze Peekaboo, I Love You  | One of baby's first and fa... |  4.0   |\n",
              "|  Lamaze Peekaboo, I Love You  | My son loved this book as ... |  5.0   |\n",
              "|  Lamaze Peekaboo, I Love You  | Our baby loves this book &... |  5.0   |\n",
              "| SoftPlay Giggle Jiggle Fun... | This bear is absolutely ad... |  2.0   |\n",
              "| SoftPlay Peek-A-Boo Where'... | I bought two for recent ba... |  5.0   |\n",
              "| Baby's First Year Undated ... | I searched high and low fo... |  5.0   |\n",
              "+-------------------------------+-------------------------------+--------+\n",
              "+-------------------------------+-----------+------------------------+\n",
              "|           word_count          | sentiment | probability_prediction |\n",
              "+-------------------------------+-----------+------------------------+\n",
              "| {'in': 1.0, 'pages': 1.0, ... |     1     |   0.8837450374304943   |\n",
              "| {'tracker': 1.0, 'now': 1.... |     1     |   0.9999999795969259   |\n",
              "| {'too': 1.0, 'stickers': 1... |     1     |   0.7214046198508188   |\n",
              "| {'reference': 1.0, 'have':... |     1     |   0.9999702405005497   |\n",
              "| {'typical': 1.0, 'your': 1... |     1     |   0.9698462672321279   |\n",
              "| {'farm': 1.0, 'out': 1.0, ... |     1     |   0.9999953253994286   |\n",
              "| {'own': 1.0, 'his': 1.0, '... |     1     |   0.9970314926061214   |\n",
              "| {'kenzie': 1.0, 'my': 1.0,... |     -1    |   0.9721442926338506   |\n",
              "| {'book': 1.0, 'elmo': 1.0,... |     1     |   0.9969355527911798   |\n",
              "| {'pictures': 1.0, 'persona... |     1     |   0.9973467019063258   |\n",
              "+-------------------------------+-----------+------------------------+\n",
              "[33336 rows x 6 columns]\n",
              "Note: Only the head of the SFrame is printed.\n",
              "You can use print_rows(num_rows=m, num_columns=n) to print more rows and columns."
            ]
          },
          "metadata": {
            "tags": []
          },
          "execution_count": 49
        }
      ]
    },
    {
      "cell_type": "code",
      "metadata": {
        "id": "Qa7Ztp_BRwJ-",
        "colab_type": "code",
        "colab": {
          "base_uri": "https://localhost:8080/",
          "height": 459
        },
        "outputId": "84ebb891-248d-40c9-bea8-9739d6036708"
      },
      "source": [
        "test_data['name', 'probability_prediction'].topk('probability_prediction', 20).print_rows(20)"
      ],
      "execution_count": 50,
      "outputs": [
        {
          "output_type": "stream",
          "text": [
            "+-------------------------------+------------------------+\n",
            "|              name             | probability_prediction |\n",
            "+-------------------------------+------------------------+\n",
            "| Maxi-Cosi Pria 70 with Tin... |          1.0           |\n",
            "| Mamas &amp; Papas 2014 Urb... |          1.0           |\n",
            "| Barin Toys Teething Pendan... |          1.0           |\n",
            "| CTA Digital 2-in-1 iPotty ... |          1.0           |\n",
            "| Alva Baby One Size Washabl... |          1.0           |\n",
            "| Graco FastAction Fold Jogg... |          1.0           |\n",
            "| Britax Boulevard 70-G3 Con... |          1.0           |\n",
            "| The Original CJ's BuTTer (... |          1.0           |\n",
            "| Diono RadianRXT Convertibl... |          1.0           |\n",
            "| Diono RadianRXT Convertibl... |          1.0           |\n",
            "| Britax Decathlon Convertib... |          1.0           |\n",
            "| Quinny 2012 Buzz Stroller,... |          1.0           |\n",
            "| Roan Rocco Classic Pram St... |          1.0           |\n",
            "| Baby Einstein Around The W... |          1.0           |\n",
            "| Britax Frontier Booster Ca... |          1.0           |\n",
            "| Evenflo X Sport Plus Conve... |          1.0           |\n",
            "| P'Kolino Silly Soft Seatin... |          1.0           |\n",
            "| Peg Perego Aria Light Weig... |          1.0           |\n",
            "| Fisher-Price Rainforest Me... |          1.0           |\n",
            "| Lilly Gold Sit 'n' Stroll ... |          1.0           |\n",
            "+-------------------------------+------------------------+\n",
            "[20 rows x 2 columns]\n",
            "\n"
          ],
          "name": "stdout"
        }
      ]
    },
    {
      "cell_type": "markdown",
      "metadata": {
        "id": "iwxhduvGGRD3",
        "colab_type": "text"
      },
      "source": [
        "**Quiz Question**: Which of the following products are represented in the 20 most positive reviews? [multiple choice]\n",
        "\n",
        "\n",
        "Now, let us repeat this exercise to find the \"most negative reviews.\" Use the prediction probabilities to find the  20 reviews in the **test_data** with the **lowest probability** of being classified as a **positive review**. Repeat the same steps above but make sure you **sort in the opposite order**."
      ]
    },
    {
      "cell_type": "code",
      "metadata": {
        "scrolled": true,
        "id": "vd2ld1PhGRD4",
        "colab_type": "code",
        "colab": {
          "base_uri": "https://localhost:8080/",
          "height": 459
        },
        "outputId": "9c4afb0b-1ffb-4b02-d580-216f3aca4edd"
      },
      "source": [
        "test_data['name', 'probability_prediction'].topk('probability_prediction', 20, reverse = True).print_rows(20)"
      ],
      "execution_count": 51,
      "outputs": [
        {
          "output_type": "stream",
          "text": [
            "+-------------------------------+------------------------+\n",
            "|              name             | probability_prediction |\n",
            "+-------------------------------+------------------------+\n",
            "| Luna Lullaby Bosom Baby Nu... | 3.2297908371729783e-63 |\n",
            "| The First Years True Choic... | 1.6322823186412881e-24 |\n",
            "| Jolly Jumper Arctic Sneak ... | 8.110311376800161e-20  |\n",
            "| Motorola MBP36 Remote Wire... | 7.797281600630254e-16  |\n",
            "| VTech Communications Safe ... | 1.8411614785269837e-14 |\n",
            "| Fisher-Price Ocean Wonders... | 6.345094942115024e-14  |\n",
            "| Levana Safe N'See Digital ... | 6.578528511902153e-14  |\n",
            "| Safety 1st High-Def Digita... | 1.5408410008556885e-13 |\n",
            "| Snuza Portable Baby Moveme... | 6.301835284296934e-13  |\n",
            "| Adiri BPA Free Natural Nur... |  9.31456091110897e-13  |\n",
            "| Samsung SEW-3037W Wireless... | 5.920602966713016e-12  |\n",
            "| Motorola Digital Video Bab... | 5.9862008461799185e-12 |\n",
            "| Cloth Diaper Sprayer--styl... | 1.0091402074341832e-11 |\n",
            "| Munchkin Nursery Projector... | 3.455183274229389e-11  |\n",
            "| VTech Communications Safe ... |  4.43280171427922e-11  |\n",
            "| Carter's Monkey Bars Music... | 4.669455333912475e-11  |\n",
            "| Safety 1st Lift Lock and S... | 1.038333745504662e-10  |\n",
            "| MyLine Eco baby play mat-A... | 2.0250237915185848e-10 |\n",
            "|    Fisher-Price Royal Potty   | 3.935257303680992e-10  |\n",
            "| Evenflo Take Me Too Premie... | 4.829851675486641e-10  |\n",
            "+-------------------------------+------------------------+\n",
            "[20 rows x 2 columns]\n",
            "\n"
          ],
          "name": "stdout"
        }
      ]
    },
    {
      "cell_type": "markdown",
      "metadata": {
        "collapsed": true,
        "id": "pl8LeuxvGRD7",
        "colab_type": "text"
      },
      "source": [
        "**Quiz Question**: Which of the following products are represented in the 20 most negative reviews?  [multiple choice]"
      ]
    },
    {
      "cell_type": "markdown",
      "metadata": {
        "id": "AWdRProTGRD8",
        "colab_type": "text"
      },
      "source": [
        "## Compute accuracy of the classifier\n",
        "\n",
        "We will now evaluate the accuracy of the trained classifier. Recall that the accuracy is given by\n",
        "\n",
        "\n",
        "$$\n",
        "\\mbox{accuracy} = \\frac{\\mbox{# correctly classified examples}}{\\mbox{# total examples}}\n",
        "$$\n",
        "\n",
        "This can be computed as follows:\n",
        "\n",
        "* **Step 1:** Use the trained model to compute class predictions (**Hint:** Use the `predict` method)\n",
        "* **Step 2:** Count the number of data points when the predicted class labels match the ground truth labels (called `true_labels` below).\n",
        "* **Step 3:** Divide the total number of correct predictions by the total number of data points in the dataset.\n",
        "\n",
        "Complete the function below to compute the classification accuracy:"
      ]
    },
    {
      "cell_type": "code",
      "metadata": {
        "scrolled": true,
        "id": "YTkNQzEMGRD9",
        "colab_type": "code",
        "colab": {}
      },
      "source": [
        "def get_classification_accuracy(model, data, true_labels):\n",
        "    # First get the predictions\n",
        "    ## YOUR CODE HERE\n",
        "    class_prediction = model.predict(data)\n",
        "    \n",
        "    # Compute the number of correctly classified examples\n",
        "    ## YOUR CODE HERE\n",
        "    num_classified = sum(class_prediction == true_labels)\n",
        "\n",
        "    # Then compute accuracy by dividing num_correct by total number of examples\n",
        "    ## YOUR CODE HERE\n",
        "    accuracy = num_classified/len(data)\n",
        "    \n",
        "    return accuracy"
      ],
      "execution_count": 55,
      "outputs": []
    },
    {
      "cell_type": "markdown",
      "metadata": {
        "id": "jyivSuUdGREB",
        "colab_type": "text"
      },
      "source": [
        "Now, let's compute the classification accuracy of the **sentiment_model** on the **test_data**."
      ]
    },
    {
      "cell_type": "code",
      "metadata": {
        "id": "o7ISkEYpGREC",
        "colab_type": "code",
        "colab": {
          "base_uri": "https://localhost:8080/",
          "height": 34
        },
        "outputId": "d1e4997e-56a3-4627-d6f6-970a7cb147e4"
      },
      "source": [
        "get_classification_accuracy(sentiment_model, test_data, test_data['sentiment'])"
      ],
      "execution_count": 56,
      "outputs": [
        {
          "output_type": "execute_result",
          "data": {
            "text/plain": [
              "0.9221862251019919"
            ]
          },
          "metadata": {
            "tags": []
          },
          "execution_count": 56
        }
      ]
    },
    {
      "cell_type": "markdown",
      "metadata": {
        "id": "4tRnwP1RGREG",
        "colab_type": "text"
      },
      "source": [
        "**Quiz Question**: What is the accuracy of the **sentiment_model** on the **test_data**? Round your answer to 2 decimal places (e.g. 0.76).\n",
        "\n",
        "**Quiz Question**: Does a higher accuracy value on the **training_data** always imply that the classifier is better?"
      ]
    },
    {
      "cell_type": "markdown",
      "metadata": {
        "id": "ACPLAWwoGREG",
        "colab_type": "text"
      },
      "source": [
        "## Learn another classifier with fewer words\n",
        "\n",
        "There were a lot of words in the model we trained above. We will now train a simpler logistic regression model using only a subset of words that occur in the reviews. For this assignment, we selected a 20 words to work with. These are:"
      ]
    },
    {
      "cell_type": "code",
      "metadata": {
        "id": "FsZTwcPqGREH",
        "colab_type": "code",
        "colab": {}
      },
      "source": [
        "significant_words = ['love', 'great', 'easy', 'old', 'little', 'perfect', 'loves', \n",
        "      'well', 'able', 'car', 'broke', 'less', 'even', 'waste', 'disappointed', \n",
        "      'work', 'product', 'money', 'would', 'return']"
      ],
      "execution_count": 57,
      "outputs": []
    },
    {
      "cell_type": "code",
      "metadata": {
        "id": "x3J8RtCfGREK",
        "colab_type": "code",
        "colab": {
          "base_uri": "https://localhost:8080/",
          "height": 34
        },
        "outputId": "ffe17400-7890-47d5-bbca-8ceaed9cb340"
      },
      "source": [
        "len(significant_words)"
      ],
      "execution_count": 58,
      "outputs": [
        {
          "output_type": "execute_result",
          "data": {
            "text/plain": [
              "20"
            ]
          },
          "metadata": {
            "tags": []
          },
          "execution_count": 58
        }
      ]
    },
    {
      "cell_type": "markdown",
      "metadata": {
        "id": "Wg1a0zFLGREO",
        "colab_type": "text"
      },
      "source": [
        "For each review, we will use the **word_count** column and trim out all words that are **not** in the **significant_words** list above. We will use the [SArray dictionary trim by keys functionality]( https://dato.com/products/create/docs/generated/graphlab.SArray.dict_trim_by_keys.html). Note that we are performing this on both the training and test set."
      ]
    },
    {
      "cell_type": "code",
      "metadata": {
        "id": "TDiHcE_vGREO",
        "colab_type": "code",
        "colab": {}
      },
      "source": [
        "train_data['word_count_subset'] = train_data['word_count'].dict_trim_by_keys(significant_words, exclude=False)\n",
        "test_data['word_count_subset'] = test_data['word_count'].dict_trim_by_keys(significant_words, exclude=False)"
      ],
      "execution_count": 59,
      "outputs": []
    },
    {
      "cell_type": "markdown",
      "metadata": {
        "id": "ie2NmuezGRES",
        "colab_type": "text"
      },
      "source": [
        "Let's see what the first example of the dataset looks like:"
      ]
    },
    {
      "cell_type": "code",
      "metadata": {
        "id": "8cbtzK3mGRES",
        "colab_type": "code",
        "colab": {
          "base_uri": "https://localhost:8080/",
          "height": 54
        },
        "outputId": "2c1b0166-d8a9-4fbb-ae24-e92d47e52c76"
      },
      "source": [
        "train_data[0]['review']"
      ],
      "execution_count": 60,
      "outputs": [
        {
          "output_type": "execute_result",
          "data": {
            "text/plain": [
              "'it came early and was not disappointed. i love planet wise bags and now my wipe holder. it keps my osocozy wipes moist and does not leak. highly recommend it.'"
            ]
          },
          "metadata": {
            "tags": []
          },
          "execution_count": 60
        }
      ]
    },
    {
      "cell_type": "markdown",
      "metadata": {
        "id": "RDVQz7D3GREW",
        "colab_type": "text"
      },
      "source": [
        "The **word_count** column had been working with before looks like the following:"
      ]
    },
    {
      "cell_type": "code",
      "metadata": {
        "id": "HnUZKAkcGREX",
        "colab_type": "code",
        "colab": {
          "base_uri": "https://localhost:8080/",
          "height": 54
        },
        "outputId": "901c1773-9c42-4380-fe7a-b6bddcfc548d"
      },
      "source": [
        "print(train_data[0]['word_count'])"
      ],
      "execution_count": 61,
      "outputs": [
        {
          "output_type": "stream",
          "text": [
            "{'recommend': 1.0, 'highly': 1.0, 'disappointed': 1.0, 'love': 1.0, 'it': 3.0, 'planet': 1.0, 'and': 3.0, 'bags': 1.0, 'wipes': 1.0, 'not': 2.0, 'early': 1.0, 'came': 1.0, 'i': 1.0, 'does': 1.0, 'wise': 1.0, 'my': 2.0, 'was': 1.0, 'now': 1.0, 'wipe': 1.0, 'holder': 1.0, 'leak': 1.0, 'keps': 1.0, 'osocozy': 1.0, 'moist': 1.0}\n"
          ],
          "name": "stdout"
        }
      ]
    },
    {
      "cell_type": "markdown",
      "metadata": {
        "id": "YuOu2Lm_GREe",
        "colab_type": "text"
      },
      "source": [
        "Since we are only working with a subset of these words, the column **word_count_subset** is a subset of the above dictionary. In this example, only 2 `significant words` are present in this review."
      ]
    },
    {
      "cell_type": "code",
      "metadata": {
        "id": "tUCB0yTMGREe",
        "colab_type": "code",
        "colab": {
          "base_uri": "https://localhost:8080/",
          "height": 34
        },
        "outputId": "bb951914-d315-43f4-eb8e-79a5499c58db"
      },
      "source": [
        "print(train_data[0]['word_count_subset'])"
      ],
      "execution_count": 62,
      "outputs": [
        {
          "output_type": "stream",
          "text": [
            "{'disappointed': 1.0, 'love': 1.0}\n"
          ],
          "name": "stdout"
        }
      ]
    },
    {
      "cell_type": "markdown",
      "metadata": {
        "id": "GKH_js_UGREi",
        "colab_type": "text"
      },
      "source": [
        "## Train a logistic regression model on a subset of data"
      ]
    },
    {
      "cell_type": "markdown",
      "metadata": {
        "id": "-dyu95toGREj",
        "colab_type": "text"
      },
      "source": [
        "We will now build a classifier with **word_count_subset** as the feature and **sentiment** as the target. "
      ]
    },
    {
      "cell_type": "code",
      "metadata": {
        "id": "IRgK7L1RGREj",
        "colab_type": "code",
        "colab": {
          "base_uri": "https://localhost:8080/",
          "height": 1000
        },
        "outputId": "f7025ca7-f798-4015-b080-5ea25e04579f"
      },
      "source": [
        "simple_model = turicreate.logistic_classifier.create(train_data,\n",
        "                                                     target = 'sentiment',\n",
        "                                                     features=['word_count_subset'],\n",
        "                                                     validation_set=None)\n",
        "simple_model"
      ],
      "execution_count": 63,
      "outputs": [
        {
          "output_type": "display_data",
          "data": {
            "text/html": [
              "<pre>Logistic regression:</pre>"
            ],
            "text/plain": [
              "Logistic regression:"
            ]
          },
          "metadata": {
            "tags": []
          }
        },
        {
          "output_type": "display_data",
          "data": {
            "text/html": [
              "<pre>--------------------------------------------------------</pre>"
            ],
            "text/plain": [
              "--------------------------------------------------------"
            ]
          },
          "metadata": {
            "tags": []
          }
        },
        {
          "output_type": "display_data",
          "data": {
            "text/html": [
              "<pre>Number of examples          : 133416</pre>"
            ],
            "text/plain": [
              "Number of examples          : 133416"
            ]
          },
          "metadata": {
            "tags": []
          }
        },
        {
          "output_type": "display_data",
          "data": {
            "text/html": [
              "<pre>Number of classes           : 2</pre>"
            ],
            "text/plain": [
              "Number of classes           : 2"
            ]
          },
          "metadata": {
            "tags": []
          }
        },
        {
          "output_type": "display_data",
          "data": {
            "text/html": [
              "<pre>Number of feature columns   : 1</pre>"
            ],
            "text/plain": [
              "Number of feature columns   : 1"
            ]
          },
          "metadata": {
            "tags": []
          }
        },
        {
          "output_type": "display_data",
          "data": {
            "text/html": [
              "<pre>Number of unpacked features : 20</pre>"
            ],
            "text/plain": [
              "Number of unpacked features : 20"
            ]
          },
          "metadata": {
            "tags": []
          }
        },
        {
          "output_type": "display_data",
          "data": {
            "text/html": [
              "<pre>Number of coefficients      : 21</pre>"
            ],
            "text/plain": [
              "Number of coefficients      : 21"
            ]
          },
          "metadata": {
            "tags": []
          }
        },
        {
          "output_type": "display_data",
          "data": {
            "text/html": [
              "<pre>Starting Newton Method</pre>"
            ],
            "text/plain": [
              "Starting Newton Method"
            ]
          },
          "metadata": {
            "tags": []
          }
        },
        {
          "output_type": "display_data",
          "data": {
            "text/html": [
              "<pre>--------------------------------------------------------</pre>"
            ],
            "text/plain": [
              "--------------------------------------------------------"
            ]
          },
          "metadata": {
            "tags": []
          }
        },
        {
          "output_type": "display_data",
          "data": {
            "text/html": [
              "<pre>+-----------+----------+--------------+-------------------+</pre>"
            ],
            "text/plain": [
              "+-----------+----------+--------------+-------------------+"
            ]
          },
          "metadata": {
            "tags": []
          }
        },
        {
          "output_type": "display_data",
          "data": {
            "text/html": [
              "<pre>| Iteration | Passes   | Elapsed Time | Training Accuracy |</pre>"
            ],
            "text/plain": [
              "| Iteration | Passes   | Elapsed Time | Training Accuracy |"
            ]
          },
          "metadata": {
            "tags": []
          }
        },
        {
          "output_type": "display_data",
          "data": {
            "text/html": [
              "<pre>+-----------+----------+--------------+-------------------+</pre>"
            ],
            "text/plain": [
              "+-----------+----------+--------------+-------------------+"
            ]
          },
          "metadata": {
            "tags": []
          }
        },
        {
          "output_type": "display_data",
          "data": {
            "text/html": [
              "<pre>| 1         | 2        | 0.392354     | 0.862917          |</pre>"
            ],
            "text/plain": [
              "| 1         | 2        | 0.392354     | 0.862917          |"
            ]
          },
          "metadata": {
            "tags": []
          }
        },
        {
          "output_type": "display_data",
          "data": {
            "text/html": [
              "<pre>| 2         | 3        | 0.614355     | 0.865713          |</pre>"
            ],
            "text/plain": [
              "| 2         | 3        | 0.614355     | 0.865713          |"
            ]
          },
          "metadata": {
            "tags": []
          }
        },
        {
          "output_type": "display_data",
          "data": {
            "text/html": [
              "<pre>| 3         | 4        | 0.832832     | 0.866478          |</pre>"
            ],
            "text/plain": [
              "| 3         | 4        | 0.832832     | 0.866478          |"
            ]
          },
          "metadata": {
            "tags": []
          }
        },
        {
          "output_type": "display_data",
          "data": {
            "text/html": [
              "<pre>| 4         | 5        | 1.049652     | 0.866748          |</pre>"
            ],
            "text/plain": [
              "| 4         | 5        | 1.049652     | 0.866748          |"
            ]
          },
          "metadata": {
            "tags": []
          }
        },
        {
          "output_type": "display_data",
          "data": {
            "text/html": [
              "<pre>| 5         | 6        | 1.267203     | 0.866815          |</pre>"
            ],
            "text/plain": [
              "| 5         | 6        | 1.267203     | 0.866815          |"
            ]
          },
          "metadata": {
            "tags": []
          }
        },
        {
          "output_type": "display_data",
          "data": {
            "text/html": [
              "<pre>| 6         | 7        | 1.482761     | 0.866815          |</pre>"
            ],
            "text/plain": [
              "| 6         | 7        | 1.482761     | 0.866815          |"
            ]
          },
          "metadata": {
            "tags": []
          }
        },
        {
          "output_type": "display_data",
          "data": {
            "text/html": [
              "<pre>+-----------+----------+--------------+-------------------+</pre>"
            ],
            "text/plain": [
              "+-----------+----------+--------------+-------------------+"
            ]
          },
          "metadata": {
            "tags": []
          }
        },
        {
          "output_type": "display_data",
          "data": {
            "text/html": [
              "<pre>SUCCESS: Optimal solution found.</pre>"
            ],
            "text/plain": [
              "SUCCESS: Optimal solution found."
            ]
          },
          "metadata": {
            "tags": []
          }
        },
        {
          "output_type": "display_data",
          "data": {
            "text/html": [
              "<pre></pre>"
            ],
            "text/plain": [
              ""
            ]
          },
          "metadata": {
            "tags": []
          }
        },
        {
          "output_type": "execute_result",
          "data": {
            "text/plain": [
              "Class                          : LogisticClassifier\n",
              "\n",
              "Schema\n",
              "------\n",
              "Number of coefficients         : 21\n",
              "Number of examples             : 133416\n",
              "Number of classes              : 2\n",
              "Number of feature columns      : 1\n",
              "Number of unpacked features    : 20\n",
              "\n",
              "Hyperparameters\n",
              "---------------\n",
              "L1 penalty                     : 0.0\n",
              "L2 penalty                     : 0.01\n",
              "\n",
              "Training Summary\n",
              "----------------\n",
              "Solver                         : newton\n",
              "Solver iterations              : 6\n",
              "Solver status                  : SUCCESS: Optimal solution found.\n",
              "Training time (sec)            : 1.5201\n",
              "\n",
              "Settings\n",
              "--------\n",
              "Log-likelihood                 : 44323.7254\n",
              "\n",
              "Highest Positive Coefficients\n",
              "-----------------------------\n",
              "word_count_subset[loves]       : 1.6773\n",
              "word_count_subset[perfect]     : 1.5145\n",
              "word_count_subset[love]        : 1.3654\n",
              "(intercept)                    : 1.2995\n",
              "word_count_subset[easy]        : 1.1937\n",
              "\n",
              "Lowest Negative Coefficients\n",
              "----------------------------\n",
              "word_count_subset[disappointed] : -2.3551\n",
              "word_count_subset[return]      : -2.1173\n",
              "word_count_subset[waste]       : -2.0428\n",
              "word_count_subset[broke]       : -1.658\n",
              "word_count_subset[money]       : -0.8979"
            ]
          },
          "metadata": {
            "tags": []
          },
          "execution_count": 63
        }
      ]
    },
    {
      "cell_type": "markdown",
      "metadata": {
        "id": "2xkJ_sbDGREn",
        "colab_type": "text"
      },
      "source": [
        "We can compute the classification accuracy using the `get_classification_accuracy` function you implemented earlier."
      ]
    },
    {
      "cell_type": "code",
      "metadata": {
        "id": "ABpV7LEMGREo",
        "colab_type": "code",
        "colab": {
          "base_uri": "https://localhost:8080/",
          "height": 34
        },
        "outputId": "73d0ce8e-9475-4959-b9ec-4b8b88aa04ab"
      },
      "source": [
        "get_classification_accuracy(simple_model, test_data, test_data['sentiment'])"
      ],
      "execution_count": 64,
      "outputs": [
        {
          "output_type": "execute_result",
          "data": {
            "text/plain": [
              "0.8693004559635229"
            ]
          },
          "metadata": {
            "tags": []
          },
          "execution_count": 64
        }
      ]
    },
    {
      "cell_type": "markdown",
      "metadata": {
        "id": "lVb-BmnjGREy",
        "colab_type": "text"
      },
      "source": [
        "Now, we will inspect the weights (coefficients) of the **simple_model**:"
      ]
    },
    {
      "cell_type": "code",
      "metadata": {
        "id": "cCu1l7EhGREz",
        "colab_type": "code",
        "colab": {
          "base_uri": "https://localhost:8080/",
          "height": 279
        },
        "outputId": "8ced5a95-c538-4325-8d98-e3f3fb4ad922"
      },
      "source": [
        "simple_model.coefficients"
      ],
      "execution_count": 65,
      "outputs": [
        {
          "output_type": "execute_result",
          "data": {
            "text/html": [
              "<div style=\"max-height:1000px;max-width:1500px;overflow:auto;\"><table frame=\"box\" rules=\"cols\">\n",
              "    <tr>\n",
              "        <th style=\"padding-left: 1em; padding-right: 1em; text-align: center\">name</th>\n",
              "        <th style=\"padding-left: 1em; padding-right: 1em; text-align: center\">index</th>\n",
              "        <th style=\"padding-left: 1em; padding-right: 1em; text-align: center\">class</th>\n",
              "        <th style=\"padding-left: 1em; padding-right: 1em; text-align: center\">value</th>\n",
              "        <th style=\"padding-left: 1em; padding-right: 1em; text-align: center\">stderr</th>\n",
              "    </tr>\n",
              "    <tr>\n",
              "        <td style=\"padding-left: 1em; padding-right: 1em; text-align: center; vertical-align: top\">(intercept)</td>\n",
              "        <td style=\"padding-left: 1em; padding-right: 1em; text-align: center; vertical-align: top\">None</td>\n",
              "        <td style=\"padding-left: 1em; padding-right: 1em; text-align: center; vertical-align: top\">1</td>\n",
              "        <td style=\"padding-left: 1em; padding-right: 1em; text-align: center; vertical-align: top\">1.299544955202694</td>\n",
              "        <td style=\"padding-left: 1em; padding-right: 1em; text-align: center; vertical-align: top\">0.01208885413305366</td>\n",
              "    </tr>\n",
              "    <tr>\n",
              "        <td style=\"padding-left: 1em; padding-right: 1em; text-align: center; vertical-align: top\">word_count_subset</td>\n",
              "        <td style=\"padding-left: 1em; padding-right: 1em; text-align: center; vertical-align: top\">disappointed</td>\n",
              "        <td style=\"padding-left: 1em; padding-right: 1em; text-align: center; vertical-align: top\">1</td>\n",
              "        <td style=\"padding-left: 1em; padding-right: 1em; text-align: center; vertical-align: top\">-2.3550925006107213</td>\n",
              "        <td style=\"padding-left: 1em; padding-right: 1em; text-align: center; vertical-align: top\">0.050414988855697916</td>\n",
              "    </tr>\n",
              "    <tr>\n",
              "        <td style=\"padding-left: 1em; padding-right: 1em; text-align: center; vertical-align: top\">word_count_subset</td>\n",
              "        <td style=\"padding-left: 1em; padding-right: 1em; text-align: center; vertical-align: top\">love</td>\n",
              "        <td style=\"padding-left: 1em; padding-right: 1em; text-align: center; vertical-align: top\">1</td>\n",
              "        <td style=\"padding-left: 1em; padding-right: 1em; text-align: center; vertical-align: top\">1.3654354936790394</td>\n",
              "        <td style=\"padding-left: 1em; padding-right: 1em; text-align: center; vertical-align: top\">0.030354629510904802</td>\n",
              "    </tr>\n",
              "    <tr>\n",
              "        <td style=\"padding-left: 1em; padding-right: 1em; text-align: center; vertical-align: top\">word_count_subset</td>\n",
              "        <td style=\"padding-left: 1em; padding-right: 1em; text-align: center; vertical-align: top\">well</td>\n",
              "        <td style=\"padding-left: 1em; padding-right: 1em; text-align: center; vertical-align: top\">1</td>\n",
              "        <td style=\"padding-left: 1em; padding-right: 1em; text-align: center; vertical-align: top\">0.5042567463979325</td>\n",
              "        <td style=\"padding-left: 1em; padding-right: 1em; text-align: center; vertical-align: top\">0.021381300630990332</td>\n",
              "    </tr>\n",
              "    <tr>\n",
              "        <td style=\"padding-left: 1em; padding-right: 1em; text-align: center; vertical-align: top\">word_count_subset</td>\n",
              "        <td style=\"padding-left: 1em; padding-right: 1em; text-align: center; vertical-align: top\">product</td>\n",
              "        <td style=\"padding-left: 1em; padding-right: 1em; text-align: center; vertical-align: top\">1</td>\n",
              "        <td style=\"padding-left: 1em; padding-right: 1em; text-align: center; vertical-align: top\">-0.32055549299557207</td>\n",
              "        <td style=\"padding-left: 1em; padding-right: 1em; text-align: center; vertical-align: top\">0.015431132136201484</td>\n",
              "    </tr>\n",
              "    <tr>\n",
              "        <td style=\"padding-left: 1em; padding-right: 1em; text-align: center; vertical-align: top\">word_count_subset</td>\n",
              "        <td style=\"padding-left: 1em; padding-right: 1em; text-align: center; vertical-align: top\">loves</td>\n",
              "        <td style=\"padding-left: 1em; padding-right: 1em; text-align: center; vertical-align: top\">1</td>\n",
              "        <td style=\"padding-left: 1em; padding-right: 1em; text-align: center; vertical-align: top\">1.677271455559297</td>\n",
              "        <td style=\"padding-left: 1em; padding-right: 1em; text-align: center; vertical-align: top\">0.04823282753835112</td>\n",
              "    </tr>\n",
              "    <tr>\n",
              "        <td style=\"padding-left: 1em; padding-right: 1em; text-align: center; vertical-align: top\">word_count_subset</td>\n",
              "        <td style=\"padding-left: 1em; padding-right: 1em; text-align: center; vertical-align: top\">little</td>\n",
              "        <td style=\"padding-left: 1em; padding-right: 1em; text-align: center; vertical-align: top\">1</td>\n",
              "        <td style=\"padding-left: 1em; padding-right: 1em; text-align: center; vertical-align: top\">0.5206286360250221</td>\n",
              "        <td style=\"padding-left: 1em; padding-right: 1em; text-align: center; vertical-align: top\">0.02146914756649044</td>\n",
              "    </tr>\n",
              "    <tr>\n",
              "        <td style=\"padding-left: 1em; padding-right: 1em; text-align: center; vertical-align: top\">word_count_subset</td>\n",
              "        <td style=\"padding-left: 1em; padding-right: 1em; text-align: center; vertical-align: top\">work</td>\n",
              "        <td style=\"padding-left: 1em; padding-right: 1em; text-align: center; vertical-align: top\">1</td>\n",
              "        <td style=\"padding-left: 1em; padding-right: 1em; text-align: center; vertical-align: top\">-0.6217000124253117</td>\n",
              "        <td style=\"padding-left: 1em; padding-right: 1em; text-align: center; vertical-align: top\">0.023033059794584844</td>\n",
              "    </tr>\n",
              "    <tr>\n",
              "        <td style=\"padding-left: 1em; padding-right: 1em; text-align: center; vertical-align: top\">word_count_subset</td>\n",
              "        <td style=\"padding-left: 1em; padding-right: 1em; text-align: center; vertical-align: top\">easy</td>\n",
              "        <td style=\"padding-left: 1em; padding-right: 1em; text-align: center; vertical-align: top\">1</td>\n",
              "        <td style=\"padding-left: 1em; padding-right: 1em; text-align: center; vertical-align: top\">1.1936618983284684</td>\n",
              "        <td style=\"padding-left: 1em; padding-right: 1em; text-align: center; vertical-align: top\">0.029288869202029347</td>\n",
              "    </tr>\n",
              "    <tr>\n",
              "        <td style=\"padding-left: 1em; padding-right: 1em; text-align: center; vertical-align: top\">word_count_subset</td>\n",
              "        <td style=\"padding-left: 1em; padding-right: 1em; text-align: center; vertical-align: top\">great</td>\n",
              "        <td style=\"padding-left: 1em; padding-right: 1em; text-align: center; vertical-align: top\">1</td>\n",
              "        <td style=\"padding-left: 1em; padding-right: 1em; text-align: center; vertical-align: top\">0.9446912694798406</td>\n",
              "        <td style=\"padding-left: 1em; padding-right: 1em; text-align: center; vertical-align: top\">0.02095099265905039</td>\n",
              "    </tr>\n",
              "</table>\n",
              "[21 rows x 5 columns]<br/>Note: Only the head of the SFrame is printed.<br/>You can use print_rows(num_rows=m, num_columns=n) to print more rows and columns.\n",
              "</div>"
            ],
            "text/plain": [
              "Columns:\n",
              "\tname\tstr\n",
              "\tindex\tstr\n",
              "\tclass\tint\n",
              "\tvalue\tfloat\n",
              "\tstderr\tfloat\n",
              "\n",
              "Rows: 21\n",
              "\n",
              "Data:\n",
              "+-------------------+--------------+-------+----------------------+\n",
              "|        name       |    index     | class |        value         |\n",
              "+-------------------+--------------+-------+----------------------+\n",
              "|    (intercept)    |     None     |   1   |  1.299544955202694   |\n",
              "| word_count_subset | disappointed |   1   | -2.3550925006107213  |\n",
              "| word_count_subset |     love     |   1   |  1.3654354936790394  |\n",
              "| word_count_subset |     well     |   1   |  0.5042567463979325  |\n",
              "| word_count_subset |   product    |   1   | -0.32055549299557207 |\n",
              "| word_count_subset |    loves     |   1   |  1.677271455559297   |\n",
              "| word_count_subset |    little    |   1   |  0.5206286360250221  |\n",
              "| word_count_subset |     work     |   1   | -0.6217000124253117  |\n",
              "| word_count_subset |     easy     |   1   |  1.1936618983284684  |\n",
              "| word_count_subset |    great     |   1   |  0.9446912694798406  |\n",
              "+-------------------+--------------+-------+----------------------+\n",
              "+----------------------+\n",
              "|        stderr        |\n",
              "+----------------------+\n",
              "| 0.01208885413305366  |\n",
              "| 0.050414988855697916 |\n",
              "| 0.030354629510904802 |\n",
              "| 0.021381300630990332 |\n",
              "| 0.015431132136201484 |\n",
              "| 0.04823282753835112  |\n",
              "| 0.02146914756649044  |\n",
              "| 0.023033059794584844 |\n",
              "| 0.029288869202029347 |\n",
              "| 0.02095099265905039  |\n",
              "+----------------------+\n",
              "[21 rows x 5 columns]\n",
              "Note: Only the head of the SFrame is printed.\n",
              "You can use print_rows(num_rows=m, num_columns=n) to print more rows and columns."
            ]
          },
          "metadata": {
            "tags": []
          },
          "execution_count": 65
        }
      ]
    },
    {
      "cell_type": "markdown",
      "metadata": {
        "id": "yVR50KhPGRE5",
        "colab_type": "text"
      },
      "source": [
        "Let's sort the coefficients (in descending order) by the **value** to obtain the coefficients with the most positive effect on the sentiment."
      ]
    },
    {
      "cell_type": "code",
      "metadata": {
        "id": "R6iT2_OHGRE6",
        "colab_type": "code",
        "colab": {
          "base_uri": "https://localhost:8080/",
          "height": 901
        },
        "outputId": "bdf23593-6253-4094-a3c3-dd4b89ec4075"
      },
      "source": [
        "simple_model.coefficients.sort('value', ascending=False).print_rows(num_rows=21)"
      ],
      "execution_count": 66,
      "outputs": [
        {
          "output_type": "stream",
          "text": [
            "+-------------------+--------------+-------+----------------------+\n",
            "|        name       |    index     | class |        value         |\n",
            "+-------------------+--------------+-------+----------------------+\n",
            "| word_count_subset |    loves     |   1   |  1.677271455559297   |\n",
            "| word_count_subset |   perfect    |   1   |  1.514486267027139   |\n",
            "| word_count_subset |     love     |   1   |  1.3654354936790394  |\n",
            "|    (intercept)    |     None     |   1   |  1.299544955202694   |\n",
            "| word_count_subset |     easy     |   1   |  1.1936618983284684  |\n",
            "| word_count_subset |    great     |   1   |  0.9446912694798406  |\n",
            "| word_count_subset |    little    |   1   |  0.5206286360250221  |\n",
            "| word_count_subset |     well     |   1   |  0.5042567463979325  |\n",
            "| word_count_subset |     able     |   1   | 0.19143830229475226  |\n",
            "| word_count_subset |     old      |   1   | 0.08539618866781937  |\n",
            "| word_count_subset |     car      |   1   | 0.058834990068021176 |\n",
            "| word_count_subset |     less     |   1   | -0.20970981521595478 |\n",
            "| word_count_subset |   product    |   1   | -0.32055549299557207 |\n",
            "| word_count_subset |    would     |   1   | -0.36230894771099903 |\n",
            "| word_count_subset |     even     |   1   |  -0.511738551270054  |\n",
            "| word_count_subset |     work     |   1   | -0.6217000124253117  |\n",
            "| word_count_subset |    money     |   1   | -0.8978841557762782  |\n",
            "| word_count_subset |    broke     |   1   | -1.6579644783802732  |\n",
            "| word_count_subset |    waste     |   1   | -2.0427736110037205  |\n",
            "| word_count_subset |    return    |   1   | -2.1172965971846316  |\n",
            "| word_count_subset | disappointed |   1   | -2.3550925006107213  |\n",
            "+-------------------+--------------+-------+----------------------+\n",
            "+----------------------+\n",
            "|        stderr        |\n",
            "+----------------------+\n",
            "| 0.04823282753835112  |\n",
            "| 0.04986195229399467  |\n",
            "| 0.030354629510904802 |\n",
            "| 0.01208885413305366  |\n",
            "| 0.029288869202029347 |\n",
            "| 0.02095099265905039  |\n",
            "| 0.02146914756649044  |\n",
            "| 0.021381300630990332 |\n",
            "| 0.03375819556973349  |\n",
            "| 0.02008634230245765  |\n",
            "| 0.016829153209087445 |\n",
            "| 0.040505735953990527 |\n",
            "| 0.015431132136201484 |\n",
            "| 0.012754475198474172 |\n",
            "| 0.019961276026101222 |\n",
            "| 0.023033059794584844 |\n",
            "| 0.03399367328357394  |\n",
            "| 0.05808789071659968  |\n",
            "| 0.06447029324442459  |\n",
            "| 0.05786508072405462  |\n",
            "| 0.050414988855697916 |\n",
            "+----------------------+\n",
            "[21 rows x 5 columns]\n",
            "\n"
          ],
          "name": "stdout"
        }
      ]
    },
    {
      "cell_type": "markdown",
      "metadata": {
        "id": "bNy9gK8NGRFC",
        "colab_type": "text"
      },
      "source": [
        "**Quiz Question**: Consider the coefficients of **simple_model**. There should be 21 of them, an intercept term + one for each word in **significant_words**. How many of the 20 coefficients (corresponding to the 20 **significant_words** and *excluding the intercept term*) are positive for the `simple_model`?"
      ]
    },
    {
      "cell_type": "code",
      "metadata": {
        "id": "TKI7_fOtGRFD",
        "colab_type": "code",
        "colab": {
          "base_uri": "https://localhost:8080/",
          "height": 51
        },
        "outputId": "efe35519-12f0-4cd2-b8ff-f82cb2d22314"
      },
      "source": [
        "simple_weights = simple_model.coefficients\n",
        "positive_significant_words = simple_weights[(simple_weights['value'] > 0) & (simple_weights['name'] == \"word_count_subset\")]['index']\n",
        "print(len(positive_significant_words))\n",
        "print(positive_significant_words)"
      ],
      "execution_count": 67,
      "outputs": [
        {
          "output_type": "stream",
          "text": [
            "10\n",
            "['love', 'well', 'loves', 'little', 'easy', 'great', 'able', 'perfect', 'old', 'car']\n"
          ],
          "name": "stdout"
        }
      ]
    },
    {
      "cell_type": "markdown",
      "metadata": {
        "id": "2rMNAnaJGRFG",
        "colab_type": "text"
      },
      "source": [
        "**Quiz Question**: Are the positive words in the **simple_model** (let us call them `positive_significant_words`) also positive words in the **sentiment_model**?"
      ]
    },
    {
      "cell_type": "code",
      "metadata": {
        "id": "iFeewhStGRFG",
        "colab_type": "code",
        "colab": {
          "base_uri": "https://localhost:8080/",
          "height": 34
        },
        "outputId": "6ec503e6-7b0d-4868-8159-e60569ff1192"
      },
      "source": [
        "get_classification_accuracy(sentiment_model, train_data, train_data['sentiment'])"
      ],
      "execution_count": 69,
      "outputs": [
        {
          "output_type": "execute_result",
          "data": {
            "text/plain": [
              "0.976494573364514"
            ]
          },
          "metadata": {
            "tags": []
          },
          "execution_count": 69
        }
      ]
    },
    {
      "cell_type": "code",
      "metadata": {
        "id": "mq1nSBrvVNFH",
        "colab_type": "code",
        "colab": {
          "base_uri": "https://localhost:8080/",
          "height": 34
        },
        "outputId": "80cf48f1-d8ed-4d5d-b329-9b6b50c78097"
      },
      "source": [
        "get_classification_accuracy(simple_model, train_data, train_data['sentiment'])"
      ],
      "execution_count": 70,
      "outputs": [
        {
          "output_type": "execute_result",
          "data": {
            "text/plain": [
              "0.8668150746537147"
            ]
          },
          "metadata": {
            "tags": []
          },
          "execution_count": 70
        }
      ]
    },
    {
      "cell_type": "code",
      "metadata": {
        "id": "yKEd4TmcVQY8",
        "colab_type": "code",
        "colab": {
          "base_uri": "https://localhost:8080/",
          "height": 34
        },
        "outputId": "6a508442-0af3-463b-ef70-a306d546b064"
      },
      "source": [
        "get_classification_accuracy(sentiment_model, test_data, test_data['sentiment'])"
      ],
      "execution_count": 71,
      "outputs": [
        {
          "output_type": "execute_result",
          "data": {
            "text/plain": [
              "0.9221862251019919"
            ]
          },
          "metadata": {
            "tags": []
          },
          "execution_count": 71
        }
      ]
    },
    {
      "cell_type": "code",
      "metadata": {
        "id": "ibaktmuvVM54",
        "colab_type": "code",
        "colab": {
          "base_uri": "https://localhost:8080/",
          "height": 34
        },
        "outputId": "ab0677e0-5f72-47de-9d20-173dc954f39e"
      },
      "source": [
        "get_classification_accuracy(simple_model, test_data, test_data['sentiment'])"
      ],
      "execution_count": 72,
      "outputs": [
        {
          "output_type": "execute_result",
          "data": {
            "text/plain": [
              "0.8693004559635229"
            ]
          },
          "metadata": {
            "tags": []
          },
          "execution_count": 72
        }
      ]
    },
    {
      "cell_type": "markdown",
      "metadata": {
        "id": "h4HQSZIqGRFL",
        "colab_type": "text"
      },
      "source": [
        "# Comparing models"
      ]
    },
    {
      "cell_type": "markdown",
      "metadata": {
        "id": "3qsvl0dAGRFM",
        "colab_type": "text"
      },
      "source": [
        "We will now compare the accuracy of the **sentiment_model** and the **simple_model** using the `get_classification_accuracy` method you implemented above.\n",
        "\n",
        "First, compute the classification accuracy of the **sentiment_model** on the **train_data**:"
      ]
    },
    {
      "cell_type": "code",
      "metadata": {
        "id": "tOzv8KMeGRFM",
        "colab_type": "code",
        "colab": {
          "base_uri": "https://localhost:8080/",
          "height": 34
        },
        "outputId": "f19b7c0a-a366-4148-ed3f-b3aae40eaa9c"
      },
      "source": [
        "get_classification_accuracy(sentiment_model, train_data, train_data['sentiment'])"
      ],
      "execution_count": 73,
      "outputs": [
        {
          "output_type": "execute_result",
          "data": {
            "text/plain": [
              "0.976494573364514"
            ]
          },
          "metadata": {
            "tags": []
          },
          "execution_count": 73
        }
      ]
    },
    {
      "cell_type": "markdown",
      "metadata": {
        "id": "dza0VIW1GRFQ",
        "colab_type": "text"
      },
      "source": [
        "Now, compute the classification accuracy of the **simple_model** on the **train_data**:"
      ]
    },
    {
      "cell_type": "code",
      "metadata": {
        "id": "Psfb5Gj6GRFR",
        "colab_type": "code",
        "colab": {
          "base_uri": "https://localhost:8080/",
          "height": 34
        },
        "outputId": "691dc41f-c037-42ac-df07-c928051e0cb6"
      },
      "source": [
        "get_classification_accuracy(simple_model, train_data, train_data['sentiment'])"
      ],
      "execution_count": 75,
      "outputs": [
        {
          "output_type": "execute_result",
          "data": {
            "text/plain": [
              "0.8668150746537147"
            ]
          },
          "metadata": {
            "tags": []
          },
          "execution_count": 75
        }
      ]
    },
    {
      "cell_type": "markdown",
      "metadata": {
        "id": "yJTMHupHGRFT",
        "colab_type": "text"
      },
      "source": [
        "**Quiz Question**: Which model (**sentiment_model** or **simple_model**) has higher accuracy on the TRAINING set?"
      ]
    },
    {
      "cell_type": "markdown",
      "metadata": {
        "id": "QPauoseAGRFU",
        "colab_type": "text"
      },
      "source": [
        "Now, we will repeat this exercise on the **test_data**. Start by computing the classification accuracy of the **sentiment_model** on the **test_data**:"
      ]
    },
    {
      "cell_type": "code",
      "metadata": {
        "id": "A7zMIm6YGRFU",
        "colab_type": "code",
        "colab": {
          "base_uri": "https://localhost:8080/",
          "height": 34
        },
        "outputId": "22cc623d-fead-437a-928f-29226aec91a2"
      },
      "source": [
        "get_classification_accuracy(sentiment_model, test_data, test_data['sentiment'])"
      ],
      "execution_count": 76,
      "outputs": [
        {
          "output_type": "execute_result",
          "data": {
            "text/plain": [
              "0.9221862251019919"
            ]
          },
          "metadata": {
            "tags": []
          },
          "execution_count": 76
        }
      ]
    },
    {
      "cell_type": "markdown",
      "metadata": {
        "id": "kbnoYHVCGRFX",
        "colab_type": "text"
      },
      "source": [
        "Next, we will compute the classification accuracy of the **simple_model** on the **test_data**:"
      ]
    },
    {
      "cell_type": "code",
      "metadata": {
        "id": "XI4ot18UGRFX",
        "colab_type": "code",
        "colab": {}
      },
      "source": [
        ""
      ],
      "execution_count": null,
      "outputs": []
    },
    {
      "cell_type": "markdown",
      "metadata": {
        "id": "XIck64_sGRFb",
        "colab_type": "text"
      },
      "source": [
        "**Quiz Question**: Which model (**sentiment_model** or **simple_model**) has higher accuracy on the TEST set?"
      ]
    },
    {
      "cell_type": "markdown",
      "metadata": {
        "id": "C8ScsO3eGRFc",
        "colab_type": "text"
      },
      "source": [
        "## Baseline: Majority class prediction\n",
        "\n",
        "It is quite common to use the **majority class classifier** as the a baseline (or reference) model for comparison with your classifier model. The majority classifier model predicts the majority class for all data points. At the very least, you should healthily beat the majority class classifier, otherwise, the model is (usually) pointless.\n",
        "\n",
        "What is the majority class in the **train_data**?"
      ]
    },
    {
      "cell_type": "code",
      "metadata": {
        "id": "twNVKE72GRFc",
        "colab_type": "code",
        "colab": {
          "base_uri": "https://localhost:8080/",
          "height": 51
        },
        "outputId": "378bcbff-d782-4ddd-f22b-800aa6bb40ab"
      },
      "source": [
        "num_positive  = (train_data['sentiment'] == +1).sum()\n",
        "num_negative = (train_data['sentiment'] == -1).sum()\n",
        "print(num_positive)\n",
        "print(num_negative)"
      ],
      "execution_count": 77,
      "outputs": [
        {
          "output_type": "stream",
          "text": [
            "112164\n",
            "21252\n"
          ],
          "name": "stdout"
        }
      ]
    },
    {
      "cell_type": "markdown",
      "metadata": {
        "id": "8-KPYRjSGRFh",
        "colab_type": "text"
      },
      "source": [
        "Now compute the accuracy of the majority class classifier on **test_data**.\n",
        "\n",
        "**Quiz Question**: Enter the accuracy of the majority class classifier model on the **test_data**. Round your answer to two decimal places (e.g. 0.76)."
      ]
    },
    {
      "cell_type": "code",
      "metadata": {
        "scrolled": true,
        "id": "_1C7EYqDGRFh",
        "colab_type": "code",
        "colab": {
          "base_uri": "https://localhost:8080/",
          "height": 34
        },
        "outputId": "f28fb4dc-a23c-4062-e7fc-5fbd3688fe02"
      },
      "source": [
        "print(((test_data['sentiment'] == +1).sum())/len(test_data['sentiment']))"
      ],
      "execution_count": 79,
      "outputs": [
        {
          "output_type": "stream",
          "text": [
            "0.8427825773938085\n"
          ],
          "name": "stdout"
        }
      ]
    },
    {
      "cell_type": "markdown",
      "metadata": {
        "id": "jgqIWiGCGRFm",
        "colab_type": "text"
      },
      "source": [
        "**Quiz Question**: Is the **sentiment_model** definitely better than the majority class classifier (the baseline)?"
      ]
    }
  ]
}