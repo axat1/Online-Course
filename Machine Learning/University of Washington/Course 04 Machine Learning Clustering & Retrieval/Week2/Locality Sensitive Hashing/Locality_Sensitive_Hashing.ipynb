{
  "nbformat": 4,
  "nbformat_minor": 0,
  "metadata": {
    "kernelspec": {
      "display_name": "Python 3",
      "language": "python",
      "name": "python3"
    },
    "language_info": {
      "codemirror_mode": {
        "name": "ipython",
        "version": 3
      },
      "file_extension": ".py",
      "mimetype": "text/x-python",
      "name": "python",
      "nbconvert_exporter": "python",
      "pygments_lexer": "ipython3",
      "version": "3.6.8"
    },
    "colab": {
      "name": "Locality Sensitive Hashing.ipynb",
      "provenance": [],
      "toc_visible": true
    }
  },
  "cells": [
    {
      "cell_type": "markdown",
      "metadata": {
        "id": "mf_bGnBvrKxG",
        "colab_type": "text"
      },
      "source": [
        "# Locality Sensitive Hashing"
      ]
    },
    {
      "cell_type": "markdown",
      "metadata": {
        "id": "TPi2xQyXrKxI",
        "colab_type": "text"
      },
      "source": [
        "Locality Sensitive Hashing (LSH) provides for a fast, efficient approximate nearest neighbor search. The algorithm scales well with respect to the number of data points as well as dimensions.\n",
        "\n",
        "In this assignment, you will\n",
        "* Implement the LSH algorithm for approximate nearest neighbor search\n",
        "* Examine the accuracy for different documents by comparing against brute force search, and also contrast runtimes\n",
        "* Explore the role of the algorithm’s tuning parameters in the accuracy of the method"
      ]
    },
    {
      "cell_type": "markdown",
      "metadata": {
        "id": "BjLrWlsPrKxJ",
        "colab_type": "text"
      },
      "source": [
        "## Import necessary packages"
      ]
    },
    {
      "cell_type": "code",
      "metadata": {
        "id": "3kh4ipgkrR93",
        "colab_type": "code",
        "colab": {
          "base_uri": "https://localhost:8080/",
          "height": 122
        },
        "outputId": "f660580b-bc99-473d-c7bd-718b7c4cc9eb"
      },
      "source": [
        "from google.colab import drive\n",
        "drive.mount('/content/drive')"
      ],
      "execution_count": 1,
      "outputs": [
        {
          "output_type": "stream",
          "text": [
            "Go to this URL in a browser: https://accounts.google.com/o/oauth2/auth?client_id=947318989803-6bn6qk8qdgf4n4g3pfee6491hc0brc4i.apps.googleusercontent.com&redirect_uri=urn%3aietf%3awg%3aoauth%3a2.0%3aoob&response_type=code&scope=email%20https%3a%2f%2fwww.googleapis.com%2fauth%2fdocs.test%20https%3a%2f%2fwww.googleapis.com%2fauth%2fdrive%20https%3a%2f%2fwww.googleapis.com%2fauth%2fdrive.photos.readonly%20https%3a%2f%2fwww.googleapis.com%2fauth%2fpeopleapi.readonly\n",
            "\n",
            "Enter your authorization code:\n",
            "··········\n",
            "Mounted at /content/drive\n"
          ],
          "name": "stdout"
        }
      ]
    },
    {
      "cell_type": "code",
      "metadata": {
        "id": "5YRNPj7-rcDG",
        "colab_type": "code",
        "colab": {
          "base_uri": "https://localhost:8080/",
          "height": 1000
        },
        "outputId": "2d418f21-c4d4-4d16-ae08-c2e7b49004bf"
      },
      "source": [
        "!pip install turicreate"
      ],
      "execution_count": 2,
      "outputs": [
        {
          "output_type": "stream",
          "text": [
            "Collecting turicreate\n",
            "\u001b[?25l  Downloading https://files.pythonhosted.org/packages/e4/76/76c624d7ae1116b22cd559288596a1f9aa7a50f8f43f4481033fc047f5e9/turicreate-6.3-cp36-cp36m-manylinux1_x86_64.whl (91.9MB)\n",
            "\u001b[K     |████████████████████████████████| 91.9MB 84kB/s \n",
            "\u001b[?25hCollecting resampy==0.2.1\n",
            "\u001b[?25l  Downloading https://files.pythonhosted.org/packages/14/b6/66a06d85474190b50aee1a6c09cdc95bb405ac47338b27e9b21409da1760/resampy-0.2.1.tar.gz (322kB)\n",
            "\u001b[K     |████████████████████████████████| 327kB 49.4MB/s \n",
            "\u001b[?25hRequirement already satisfied: requests>=2.9.1 in /usr/local/lib/python3.6/dist-packages (from turicreate) (2.23.0)\n",
            "Requirement already satisfied: pandas>=0.23.2 in /usr/local/lib/python3.6/dist-packages (from turicreate) (1.0.5)\n",
            "Requirement already satisfied: numpy in /usr/local/lib/python3.6/dist-packages (from turicreate) (1.18.5)\n",
            "Collecting tensorflow<=2.0.1,>=2.0.0\n",
            "\u001b[?25l  Downloading https://files.pythonhosted.org/packages/43/16/b07e3f7a4a024b47918f7018967eb984b0c542458a6141d8c48515aa81d4/tensorflow-2.0.1-cp36-cp36m-manylinux2010_x86_64.whl (86.3MB)\n",
            "\u001b[K     |████████████████████████████████| 86.3MB 49kB/s \n",
            "\u001b[?25hRequirement already satisfied: scipy>=1.1.0 in /usr/local/lib/python3.6/dist-packages (from turicreate) (1.4.1)\n",
            "Requirement already satisfied: decorator>=4.0.9 in /usr/local/lib/python3.6/dist-packages (from turicreate) (4.4.2)\n",
            "Requirement already satisfied: pillow>=5.2.0 in /usr/local/lib/python3.6/dist-packages (from turicreate) (7.0.0)\n",
            "Requirement already satisfied: six>=1.10.0 in /usr/local/lib/python3.6/dist-packages (from turicreate) (1.12.0)\n",
            "Collecting coremltools==3.3\n",
            "\u001b[?25l  Downloading https://files.pythonhosted.org/packages/77/19/611916d1ef326d38857d93af5ba184f6ad7491642e0fa4f9082e7d82f034/coremltools-3.3-cp36-none-manylinux1_x86_64.whl (3.4MB)\n",
            "\u001b[K     |████████████████████████████████| 3.4MB 45.5MB/s \n",
            "\u001b[?25hRequirement already satisfied: prettytable==0.7.2 in /usr/local/lib/python3.6/dist-packages (from turicreate) (0.7.2)\n",
            "Requirement already satisfied: numba>=0.32 in /usr/local/lib/python3.6/dist-packages (from resampy==0.2.1->turicreate) (0.48.0)\n",
            "Requirement already satisfied: urllib3!=1.25.0,!=1.25.1,<1.26,>=1.21.1 in /usr/local/lib/python3.6/dist-packages (from requests>=2.9.1->turicreate) (1.24.3)\n",
            "Requirement already satisfied: chardet<4,>=3.0.2 in /usr/local/lib/python3.6/dist-packages (from requests>=2.9.1->turicreate) (3.0.4)\n",
            "Requirement already satisfied: certifi>=2017.4.17 in /usr/local/lib/python3.6/dist-packages (from requests>=2.9.1->turicreate) (2020.6.20)\n",
            "Requirement already satisfied: idna<3,>=2.5 in /usr/local/lib/python3.6/dist-packages (from requests>=2.9.1->turicreate) (2.9)\n",
            "Requirement already satisfied: python-dateutil>=2.6.1 in /usr/local/lib/python3.6/dist-packages (from pandas>=0.23.2->turicreate) (2.8.1)\n",
            "Requirement already satisfied: pytz>=2017.2 in /usr/local/lib/python3.6/dist-packages (from pandas>=0.23.2->turicreate) (2018.9)\n",
            "Requirement already satisfied: keras-applications>=1.0.8 in /usr/local/lib/python3.6/dist-packages (from tensorflow<=2.0.1,>=2.0.0->turicreate) (1.0.8)\n",
            "Requirement already satisfied: opt-einsum>=2.3.2 in /usr/local/lib/python3.6/dist-packages (from tensorflow<=2.0.1,>=2.0.0->turicreate) (3.2.1)\n",
            "Collecting tensorflow-estimator<2.1.0,>=2.0.0\n",
            "\u001b[?25l  Downloading https://files.pythonhosted.org/packages/fc/08/8b927337b7019c374719145d1dceba21a8bb909b93b1ad6f8fb7d22c1ca1/tensorflow_estimator-2.0.1-py2.py3-none-any.whl (449kB)\n",
            "\u001b[K     |████████████████████████████████| 450kB 44.4MB/s \n",
            "\u001b[?25hRequirement already satisfied: termcolor>=1.1.0 in /usr/local/lib/python3.6/dist-packages (from tensorflow<=2.0.1,>=2.0.0->turicreate) (1.1.0)\n",
            "Requirement already satisfied: wrapt>=1.11.1 in /usr/local/lib/python3.6/dist-packages (from tensorflow<=2.0.1,>=2.0.0->turicreate) (1.12.1)\n",
            "Requirement already satisfied: absl-py>=0.7.0 in /usr/local/lib/python3.6/dist-packages (from tensorflow<=2.0.1,>=2.0.0->turicreate) (0.9.0)\n",
            "Requirement already satisfied: astor>=0.6.0 in /usr/local/lib/python3.6/dist-packages (from tensorflow<=2.0.1,>=2.0.0->turicreate) (0.8.1)\n",
            "Collecting gast==0.2.2\n",
            "  Downloading https://files.pythonhosted.org/packages/4e/35/11749bf99b2d4e3cceb4d55ca22590b0d7c2c62b9de38ac4a4a7f4687421/gast-0.2.2.tar.gz\n",
            "Requirement already satisfied: google-pasta>=0.1.6 in /usr/local/lib/python3.6/dist-packages (from tensorflow<=2.0.1,>=2.0.0->turicreate) (0.2.0)\n",
            "Requirement already satisfied: keras-preprocessing>=1.0.5 in /usr/local/lib/python3.6/dist-packages (from tensorflow<=2.0.1,>=2.0.0->turicreate) (1.1.2)\n",
            "Requirement already satisfied: grpcio>=1.8.6 in /usr/local/lib/python3.6/dist-packages (from tensorflow<=2.0.1,>=2.0.0->turicreate) (1.30.0)\n",
            "Requirement already satisfied: wheel>=0.26; python_version >= \"3\" in /usr/local/lib/python3.6/dist-packages (from tensorflow<=2.0.1,>=2.0.0->turicreate) (0.34.2)\n",
            "Requirement already satisfied: protobuf>=3.6.1 in /usr/local/lib/python3.6/dist-packages (from tensorflow<=2.0.1,>=2.0.0->turicreate) (3.10.0)\n",
            "Collecting tensorboard<2.1.0,>=2.0.0\n",
            "\u001b[?25l  Downloading https://files.pythonhosted.org/packages/76/54/99b9d5d52d5cb732f099baaaf7740403e83fe6b0cedde940fabd2b13d75a/tensorboard-2.0.2-py3-none-any.whl (3.8MB)\n",
            "\u001b[K     |████████████████████████████████| 3.8MB 41.5MB/s \n",
            "\u001b[?25hRequirement already satisfied: llvmlite<0.32.0,>=0.31.0dev0 in /usr/local/lib/python3.6/dist-packages (from numba>=0.32->resampy==0.2.1->turicreate) (0.31.0)\n",
            "Requirement already satisfied: setuptools in /usr/local/lib/python3.6/dist-packages (from numba>=0.32->resampy==0.2.1->turicreate) (47.3.1)\n",
            "Requirement already satisfied: h5py in /usr/local/lib/python3.6/dist-packages (from keras-applications>=1.0.8->tensorflow<=2.0.1,>=2.0.0->turicreate) (2.10.0)\n",
            "Requirement already satisfied: google-auth<2,>=1.6.3 in /usr/local/lib/python3.6/dist-packages (from tensorboard<2.1.0,>=2.0.0->tensorflow<=2.0.1,>=2.0.0->turicreate) (1.17.2)\n",
            "Requirement already satisfied: werkzeug>=0.11.15 in /usr/local/lib/python3.6/dist-packages (from tensorboard<2.1.0,>=2.0.0->tensorflow<=2.0.1,>=2.0.0->turicreate) (1.0.1)\n",
            "Requirement already satisfied: google-auth-oauthlib<0.5,>=0.4.1 in /usr/local/lib/python3.6/dist-packages (from tensorboard<2.1.0,>=2.0.0->tensorflow<=2.0.1,>=2.0.0->turicreate) (0.4.1)\n",
            "Requirement already satisfied: markdown>=2.6.8 in /usr/local/lib/python3.6/dist-packages (from tensorboard<2.1.0,>=2.0.0->tensorflow<=2.0.1,>=2.0.0->turicreate) (3.2.2)\n",
            "Requirement already satisfied: cachetools<5.0,>=2.0.0 in /usr/local/lib/python3.6/dist-packages (from google-auth<2,>=1.6.3->tensorboard<2.1.0,>=2.0.0->tensorflow<=2.0.1,>=2.0.0->turicreate) (4.1.0)\n",
            "Requirement already satisfied: pyasn1-modules>=0.2.1 in /usr/local/lib/python3.6/dist-packages (from google-auth<2,>=1.6.3->tensorboard<2.1.0,>=2.0.0->tensorflow<=2.0.1,>=2.0.0->turicreate) (0.2.8)\n",
            "Requirement already satisfied: rsa<5,>=3.1.4; python_version >= \"3\" in /usr/local/lib/python3.6/dist-packages (from google-auth<2,>=1.6.3->tensorboard<2.1.0,>=2.0.0->tensorflow<=2.0.1,>=2.0.0->turicreate) (4.6)\n",
            "Requirement already satisfied: requests-oauthlib>=0.7.0 in /usr/local/lib/python3.6/dist-packages (from google-auth-oauthlib<0.5,>=0.4.1->tensorboard<2.1.0,>=2.0.0->tensorflow<=2.0.1,>=2.0.0->turicreate) (1.3.0)\n",
            "Requirement already satisfied: importlib-metadata; python_version < \"3.8\" in /usr/local/lib/python3.6/dist-packages (from markdown>=2.6.8->tensorboard<2.1.0,>=2.0.0->tensorflow<=2.0.1,>=2.0.0->turicreate) (1.6.1)\n",
            "Requirement already satisfied: pyasn1<0.5.0,>=0.4.6 in /usr/local/lib/python3.6/dist-packages (from pyasn1-modules>=0.2.1->google-auth<2,>=1.6.3->tensorboard<2.1.0,>=2.0.0->tensorflow<=2.0.1,>=2.0.0->turicreate) (0.4.8)\n",
            "Requirement already satisfied: oauthlib>=3.0.0 in /usr/local/lib/python3.6/dist-packages (from requests-oauthlib>=0.7.0->google-auth-oauthlib<0.5,>=0.4.1->tensorboard<2.1.0,>=2.0.0->tensorflow<=2.0.1,>=2.0.0->turicreate) (3.1.0)\n",
            "Requirement already satisfied: zipp>=0.5 in /usr/local/lib/python3.6/dist-packages (from importlib-metadata; python_version < \"3.8\"->markdown>=2.6.8->tensorboard<2.1.0,>=2.0.0->tensorflow<=2.0.1,>=2.0.0->turicreate) (3.1.0)\n",
            "Building wheels for collected packages: resampy, gast\n",
            "  Building wheel for resampy (setup.py) ... \u001b[?25l\u001b[?25hdone\n",
            "  Created wheel for resampy: filename=resampy-0.2.1-cp36-none-any.whl size=320850 sha256=43ac1eeb7c16c9860844475afe9be28b8597a801587ba95dc84dda8d608ed8bf\n",
            "  Stored in directory: /root/.cache/pip/wheels/ff/4f/ed/2e6c676c23efe5394bb40ade50662e90eb46e29b48324c5f9b\n",
            "  Building wheel for gast (setup.py) ... \u001b[?25l\u001b[?25hdone\n",
            "  Created wheel for gast: filename=gast-0.2.2-cp36-none-any.whl size=7540 sha256=357caa6043fb85fd9c0ab75ace8dfd70b5ccf07f99899ebafcbeecace9701951\n",
            "  Stored in directory: /root/.cache/pip/wheels/5c/2e/7e/a1d4d4fcebe6c381f378ce7743a3ced3699feb89bcfbdadadd\n",
            "Successfully built resampy gast\n",
            "\u001b[31mERROR: tensorflow-probability 0.10.0 has requirement gast>=0.3.2, but you'll have gast 0.2.2 which is incompatible.\u001b[0m\n",
            "Installing collected packages: resampy, tensorflow-estimator, gast, tensorboard, tensorflow, coremltools, turicreate\n",
            "  Found existing installation: resampy 0.2.2\n",
            "    Uninstalling resampy-0.2.2:\n",
            "      Successfully uninstalled resampy-0.2.2\n",
            "  Found existing installation: tensorflow-estimator 2.2.0\n",
            "    Uninstalling tensorflow-estimator-2.2.0:\n",
            "      Successfully uninstalled tensorflow-estimator-2.2.0\n",
            "  Found existing installation: gast 0.3.3\n",
            "    Uninstalling gast-0.3.3:\n",
            "      Successfully uninstalled gast-0.3.3\n",
            "  Found existing installation: tensorboard 2.2.2\n",
            "    Uninstalling tensorboard-2.2.2:\n",
            "      Successfully uninstalled tensorboard-2.2.2\n",
            "  Found existing installation: tensorflow 2.2.0\n",
            "    Uninstalling tensorflow-2.2.0:\n",
            "      Successfully uninstalled tensorflow-2.2.0\n",
            "Successfully installed coremltools-3.3 gast-0.2.2 resampy-0.2.1 tensorboard-2.0.2 tensorflow-2.0.1 tensorflow-estimator-2.0.1 turicreate-6.3\n"
          ],
          "name": "stdout"
        }
      ]
    },
    {
      "cell_type": "code",
      "metadata": {
        "id": "j-3986lbrKxK",
        "colab_type": "code",
        "colab": {}
      },
      "source": [
        "from __future__ import print_function # to conform python 2.x print to python 3.x\n",
        "import numpy as np\n",
        "import turicreate\n",
        "from scipy.sparse import csr_matrix\n",
        "from sklearn.metrics.pairwise import pairwise_distances\n",
        "import time\n",
        "from copy import copy\n",
        "import matplotlib.pyplot as plt\n",
        "%matplotlib inline\n",
        "\n",
        "'''compute norm of a sparse vector\n",
        "   Thanks to: Jaiyam Sharma'''\n",
        "def norm(x):\n",
        "    sum_sq=x.dot(x.T)\n",
        "    norm=np.sqrt(sum_sq)\n",
        "    return(norm)"
      ],
      "execution_count": 3,
      "outputs": []
    },
    {
      "cell_type": "markdown",
      "metadata": {
        "id": "jUpDfouVrKxQ",
        "colab_type": "text"
      },
      "source": [
        "## Load in the Wikipedia dataset"
      ]
    },
    {
      "cell_type": "code",
      "metadata": {
        "id": "XoptdcwsrKxR",
        "colab_type": "code",
        "colab": {}
      },
      "source": [
        "wiki = turicreate.SFrame('/content/drive/My Drive/Colab Notebooks/Machine Learning/Course 1 Machine Learning Foundation/Week4/Practice/people_wiki.sframe')"
      ],
      "execution_count": 4,
      "outputs": []
    },
    {
      "cell_type": "markdown",
      "metadata": {
        "id": "0MX15EnfrKxX",
        "colab_type": "text"
      },
      "source": [
        "For this assignment, let us assign a unique ID to each document."
      ]
    },
    {
      "cell_type": "code",
      "metadata": {
        "id": "7u5pV8rRrKxY",
        "colab_type": "code",
        "colab": {}
      },
      "source": [
        "wiki = wiki.add_row_number()"
      ],
      "execution_count": 5,
      "outputs": []
    },
    {
      "cell_type": "markdown",
      "metadata": {
        "id": "jQ8HYxoBrKxc",
        "colab_type": "text"
      },
      "source": [
        "## Extract TF-IDF matrix"
      ]
    },
    {
      "cell_type": "markdown",
      "metadata": {
        "id": "AYyV09jmrKxd",
        "colab_type": "text"
      },
      "source": [
        "We first use Turi Create to compute a TF-IDF representation for each document."
      ]
    },
    {
      "cell_type": "code",
      "metadata": {
        "id": "7nDUbnV6rKxe",
        "colab_type": "code",
        "colab": {
          "base_uri": "https://localhost:8080/",
          "height": 415
        },
        "outputId": "f9aaa96f-9851-4284-ef7e-adadf201709b"
      },
      "source": [
        "wiki['tf_idf'] = turicreate.text_analytics.tf_idf(wiki['text'])\n",
        "wiki.head()"
      ],
      "execution_count": 6,
      "outputs": [
        {
          "output_type": "execute_result",
          "data": {
            "text/html": [
              "<div style=\"max-height:1000px;max-width:1500px;overflow:auto;\"><table frame=\"box\" rules=\"cols\">\n",
              "    <tr>\n",
              "        <th style=\"padding-left: 1em; padding-right: 1em; text-align: center\">id</th>\n",
              "        <th style=\"padding-left: 1em; padding-right: 1em; text-align: center\">URI</th>\n",
              "        <th style=\"padding-left: 1em; padding-right: 1em; text-align: center\">name</th>\n",
              "        <th style=\"padding-left: 1em; padding-right: 1em; text-align: center\">text</th>\n",
              "        <th style=\"padding-left: 1em; padding-right: 1em; text-align: center\">tf_idf</th>\n",
              "    </tr>\n",
              "    <tr>\n",
              "        <td style=\"padding-left: 1em; padding-right: 1em; text-align: center; vertical-align: top\">0</td>\n",
              "        <td style=\"padding-left: 1em; padding-right: 1em; text-align: center; vertical-align: top\">&lt;http://dbpedia.org/resou<br>rce/Digby_Morrell&gt; ...</td>\n",
              "        <td style=\"padding-left: 1em; padding-right: 1em; text-align: center; vertical-align: top\">Digby Morrell</td>\n",
              "        <td style=\"padding-left: 1em; padding-right: 1em; text-align: center; vertical-align: top\">digby morrell born 10<br>october 1979 is a former ...</td>\n",
              "        <td style=\"padding-left: 1em; padding-right: 1em; text-align: center; vertical-align: top\">{&#x27;melbourne&#x27;:<br>3.8914310119380633, ...</td>\n",
              "    </tr>\n",
              "    <tr>\n",
              "        <td style=\"padding-left: 1em; padding-right: 1em; text-align: center; vertical-align: top\">1</td>\n",
              "        <td style=\"padding-left: 1em; padding-right: 1em; text-align: center; vertical-align: top\">&lt;http://dbpedia.org/resou<br>rce/Alfred_J._Lewy&gt; ...</td>\n",
              "        <td style=\"padding-left: 1em; padding-right: 1em; text-align: center; vertical-align: top\">Alfred J. Lewy</td>\n",
              "        <td style=\"padding-left: 1em; padding-right: 1em; text-align: center; vertical-align: top\">alfred j lewy aka sandy<br>lewy graduated from ...</td>\n",
              "        <td style=\"padding-left: 1em; padding-right: 1em; text-align: center; vertical-align: top\">{&#x27;time&#x27;:<br>1.3253342074200498, ...</td>\n",
              "    </tr>\n",
              "    <tr>\n",
              "        <td style=\"padding-left: 1em; padding-right: 1em; text-align: center; vertical-align: top\">2</td>\n",
              "        <td style=\"padding-left: 1em; padding-right: 1em; text-align: center; vertical-align: top\">&lt;http://dbpedia.org/resou<br>rce/Harpdog_Brown&gt; ...</td>\n",
              "        <td style=\"padding-left: 1em; padding-right: 1em; text-align: center; vertical-align: top\">Harpdog Brown</td>\n",
              "        <td style=\"padding-left: 1em; padding-right: 1em; text-align: center; vertical-align: top\">harpdog brown is a singer<br>and harmonica player who ...</td>\n",
              "        <td style=\"padding-left: 1em; padding-right: 1em; text-align: center; vertical-align: top\">{&#x27;society&#x27;:<br>2.4448047262085693, ...</td>\n",
              "    </tr>\n",
              "    <tr>\n",
              "        <td style=\"padding-left: 1em; padding-right: 1em; text-align: center; vertical-align: top\">3</td>\n",
              "        <td style=\"padding-left: 1em; padding-right: 1em; text-align: center; vertical-align: top\">&lt;http://dbpedia.org/resou<br>rce/Franz_Rottensteiner&gt; ...</td>\n",
              "        <td style=\"padding-left: 1em; padding-right: 1em; text-align: center; vertical-align: top\">Franz Rottensteiner</td>\n",
              "        <td style=\"padding-left: 1em; padding-right: 1em; text-align: center; vertical-align: top\">franz rottensteiner born<br>in waidmannsfeld lower ...</td>\n",
              "        <td style=\"padding-left: 1em; padding-right: 1em; text-align: center; vertical-align: top\">{&#x27;kurdlawitzpreis&#x27;:<br>10.986495389225194, ...</td>\n",
              "    </tr>\n",
              "    <tr>\n",
              "        <td style=\"padding-left: 1em; padding-right: 1em; text-align: center; vertical-align: top\">4</td>\n",
              "        <td style=\"padding-left: 1em; padding-right: 1em; text-align: center; vertical-align: top\">&lt;http://dbpedia.org/resou<br>rce/G-Enka&gt; ...</td>\n",
              "        <td style=\"padding-left: 1em; padding-right: 1em; text-align: center; vertical-align: top\">G-Enka</td>\n",
              "        <td style=\"padding-left: 1em; padding-right: 1em; text-align: center; vertical-align: top\">henry krvits born 30<br>december 1974 in tallinn ...</td>\n",
              "        <td style=\"padding-left: 1em; padding-right: 1em; text-align: center; vertical-align: top\">{&#x27;curtis&#x27;:<br>5.299520032885375, ...</td>\n",
              "    </tr>\n",
              "    <tr>\n",
              "        <td style=\"padding-left: 1em; padding-right: 1em; text-align: center; vertical-align: top\">5</td>\n",
              "        <td style=\"padding-left: 1em; padding-right: 1em; text-align: center; vertical-align: top\">&lt;http://dbpedia.org/resou<br>rce/Sam_Henderson&gt; ...</td>\n",
              "        <td style=\"padding-left: 1em; padding-right: 1em; text-align: center; vertical-align: top\">Sam Henderson</td>\n",
              "        <td style=\"padding-left: 1em; padding-right: 1em; text-align: center; vertical-align: top\">sam henderson born<br>october 18 1969 is an ...</td>\n",
              "        <td style=\"padding-left: 1em; padding-right: 1em; text-align: center; vertical-align: top\">{&#x27;asses&#x27;:<br>9.600201028105303, &#x27;s ...</td>\n",
              "    </tr>\n",
              "    <tr>\n",
              "        <td style=\"padding-left: 1em; padding-right: 1em; text-align: center; vertical-align: top\">6</td>\n",
              "        <td style=\"padding-left: 1em; padding-right: 1em; text-align: center; vertical-align: top\">&lt;http://dbpedia.org/resou<br>rce/Aaron_LaCrate&gt; ...</td>\n",
              "        <td style=\"padding-left: 1em; padding-right: 1em; text-align: center; vertical-align: top\">Aaron LaCrate</td>\n",
              "        <td style=\"padding-left: 1em; padding-right: 1em; text-align: center; vertical-align: top\">aaron lacrate is an<br>american music producer ...</td>\n",
              "        <td style=\"padding-left: 1em; padding-right: 1em; text-align: center; vertical-align: top\">{&#x27;streamz&#x27;:<br>10.986495389225194, ...</td>\n",
              "    </tr>\n",
              "    <tr>\n",
              "        <td style=\"padding-left: 1em; padding-right: 1em; text-align: center; vertical-align: top\">7</td>\n",
              "        <td style=\"padding-left: 1em; padding-right: 1em; text-align: center; vertical-align: top\">&lt;http://dbpedia.org/resou<br>rce/Trevor_Ferguson&gt; ...</td>\n",
              "        <td style=\"padding-left: 1em; padding-right: 1em; text-align: center; vertical-align: top\">Trevor Ferguson</td>\n",
              "        <td style=\"padding-left: 1em; padding-right: 1em; text-align: center; vertical-align: top\">trevor ferguson aka john<br>farrow born 11 november ...</td>\n",
              "        <td style=\"padding-left: 1em; padding-right: 1em; text-align: center; vertical-align: top\">{&#x27;concordia&#x27;:<br>6.250296940830698, ...</td>\n",
              "    </tr>\n",
              "    <tr>\n",
              "        <td style=\"padding-left: 1em; padding-right: 1em; text-align: center; vertical-align: top\">8</td>\n",
              "        <td style=\"padding-left: 1em; padding-right: 1em; text-align: center; vertical-align: top\">&lt;http://dbpedia.org/resou<br>rce/Grant_Nelson&gt; ...</td>\n",
              "        <td style=\"padding-left: 1em; padding-right: 1em; text-align: center; vertical-align: top\">Grant Nelson</td>\n",
              "        <td style=\"padding-left: 1em; padding-right: 1em; text-align: center; vertical-align: top\">grant nelson born 27<br>april 1971 in london  ...</td>\n",
              "        <td style=\"padding-left: 1em; padding-right: 1em; text-align: center; vertical-align: top\">{&#x27;heavies&#x27;:<br>8.907053847545358, &#x27;n ...</td>\n",
              "    </tr>\n",
              "    <tr>\n",
              "        <td style=\"padding-left: 1em; padding-right: 1em; text-align: center; vertical-align: top\">9</td>\n",
              "        <td style=\"padding-left: 1em; padding-right: 1em; text-align: center; vertical-align: top\">&lt;http://dbpedia.org/resou<br>rce/Cathy_Caruth&gt; ...</td>\n",
              "        <td style=\"padding-left: 1em; padding-right: 1em; text-align: center; vertical-align: top\">Cathy Caruth</td>\n",
              "        <td style=\"padding-left: 1em; padding-right: 1em; text-align: center; vertical-align: top\">cathy caruth born 1955 is<br>frank h t rhodes ...</td>\n",
              "        <td style=\"padding-left: 1em; padding-right: 1em; text-align: center; vertical-align: top\">{&#x27;2002&#x27;:<br>1.8753125887822302, ...</td>\n",
              "    </tr>\n",
              "</table>\n",
              "[10 rows x 5 columns]<br/>\n",
              "</div>"
            ],
            "text/plain": [
              "Columns:\n",
              "\tid\tint\n",
              "\tURI\tstr\n",
              "\tname\tstr\n",
              "\ttext\tstr\n",
              "\ttf_idf\tdict\n",
              "\n",
              "Rows: 10\n",
              "\n",
              "Data:\n",
              "+----+-------------------------------+---------------------+\n",
              "| id |              URI              |         name        |\n",
              "+----+-------------------------------+---------------------+\n",
              "| 0  | <http://dbpedia.org/resour... |    Digby Morrell    |\n",
              "| 1  | <http://dbpedia.org/resour... |    Alfred J. Lewy   |\n",
              "| 2  | <http://dbpedia.org/resour... |    Harpdog Brown    |\n",
              "| 3  | <http://dbpedia.org/resour... | Franz Rottensteiner |\n",
              "| 4  | <http://dbpedia.org/resour... |        G-Enka       |\n",
              "| 5  | <http://dbpedia.org/resour... |    Sam Henderson    |\n",
              "| 6  | <http://dbpedia.org/resour... |    Aaron LaCrate    |\n",
              "| 7  | <http://dbpedia.org/resour... |   Trevor Ferguson   |\n",
              "| 8  | <http://dbpedia.org/resour... |     Grant Nelson    |\n",
              "| 9  | <http://dbpedia.org/resour... |     Cathy Caruth    |\n",
              "+----+-------------------------------+---------------------+\n",
              "+-------------------------------+-------------------------------+\n",
              "|              text             |             tf_idf            |\n",
              "+-------------------------------+-------------------------------+\n",
              "| digby morrell born 10 octo... | {'melbourne': 3.8914310119... |\n",
              "| alfred j lewy aka sandy le... | {'time': 1.325334207420049... |\n",
              "| harpdog brown is a singer ... | {'society': 2.444804726208... |\n",
              "| franz rottensteiner born i... | {'kurdlawitzpreis': 10.986... |\n",
              "| henry krvits born 30 decem... | {'curtis': 5.2995200328853... |\n",
              "| sam henderson born october... | {'asses': 9.60020102810530... |\n",
              "| aaron lacrate is an americ... | {'streamz': 10.98649538922... |\n",
              "| trevor ferguson aka john f... | {'concordia': 6.2502969408... |\n",
              "| grant nelson born 27 april... | {'heavies': 8.907053847545... |\n",
              "| cathy caruth born 1955 is ... | {'2002': 1.875312588782230... |\n",
              "+-------------------------------+-------------------------------+\n",
              "[10 rows x 5 columns]"
            ]
          },
          "metadata": {
            "tags": []
          },
          "execution_count": 6
        }
      ]
    },
    {
      "cell_type": "markdown",
      "metadata": {
        "id": "cg2qU4lyrKxi",
        "colab_type": "text"
      },
      "source": [
        "For the remainder of the assignment, we will use sparse matrices. Sparse matrices are matrices) that have a small number of nonzero entries. A good data structure for sparse matrices would only store the nonzero entries to save space and speed up computation. SciPy provides a highly-optimized library for sparse matrices. Many matrix operations available for NumPy arrays are also available for SciPy sparse matrices.We first convert the TF-IDF column (in dictionary format) into the SciPy sparse matrix format."
      ]
    },
    {
      "cell_type": "code",
      "metadata": {
        "id": "3J9cC4eArKxj",
        "colab_type": "code",
        "colab": {}
      },
      "source": [
        "def sframe_to_scipy(x, column_name):\n",
        "    '''\n",
        "    Convert a dictionary column of an SFrame into a sparse matrix format where\n",
        "    each (row_id, column_id, value) triple corresponds to the value of\n",
        "    x[row_id][column_id], where column_id is a key in the dictionary.\n",
        "       \n",
        "    Example\n",
        "    >>> sparse_matrix, map_key_to_index = sframe_to_scipy(sframe, column_name)\n",
        "    '''\n",
        "    assert type(x[column_name][0]) == dict, \\\n",
        "        'The chosen column must be dict type, representing sparse data.'\n",
        "    \n",
        "    # Stack will transform x to have a row for each unique (row, key) pair.\n",
        "    x = x.stack(column_name, ['feature', 'value'])\n",
        "    \n",
        "    # Map feature words to integers \n",
        "    unique_words = sorted(x['feature'].unique())\n",
        "    mapping = {word:i for i, word in enumerate(unique_words)}\n",
        "    x['feature_id'] = x['feature'].apply(lambda x: mapping[x])\n",
        "    \n",
        "    # Create numpy arrays that contain the data for the sparse matrix.\n",
        "    row_id = np.array(x['id'])\n",
        "    col_id = np.array(x['feature_id'])\n",
        "    data = np.array(x['value'])\n",
        "    \n",
        "    width = x['id'].max() + 1\n",
        "    height = x['feature_id'].max() + 1\n",
        "    \n",
        "    # Create a sparse matrix.\n",
        "    mat = csr_matrix((data, (row_id, col_id)), shape=(width, height))\n",
        "    return mat, mapping"
      ],
      "execution_count": 7,
      "outputs": []
    },
    {
      "cell_type": "code",
      "metadata": {
        "id": "qamhTyGwrKxn",
        "colab_type": "code",
        "colab": {
          "base_uri": "https://localhost:8080/",
          "height": 51
        },
        "outputId": "12fd48b6-dc74-4922-bd1d-f2f080cf1fbf"
      },
      "source": [
        "%%time\n",
        "corpus, mapping = sframe_to_scipy(wiki, 'tf_idf')"
      ],
      "execution_count": 8,
      "outputs": [
        {
          "output_type": "stream",
          "text": [
            "CPU times: user 2min 1s, sys: 4.51 s, total: 2min 6s\n",
            "Wall time: 1min 29s\n"
          ],
          "name": "stdout"
        }
      ]
    },
    {
      "cell_type": "code",
      "metadata": {
        "id": "K2ot-3morKxt",
        "colab_type": "code",
        "colab": {
          "base_uri": "https://localhost:8080/",
          "height": 34
        },
        "outputId": "95934467-9f83-48d4-e5bf-79d729ee5a96"
      },
      "source": [
        "assert corpus.shape == (59071, 547979)\n",
        "print('Check passed correctly!')"
      ],
      "execution_count": 9,
      "outputs": [
        {
          "output_type": "stream",
          "text": [
            "Check passed correctly!\n"
          ],
          "name": "stdout"
        }
      ]
    },
    {
      "cell_type": "markdown",
      "metadata": {
        "id": "B1EnNl4NrKxx",
        "colab_type": "text"
      },
      "source": [
        "## Train an LSH model"
      ]
    },
    {
      "cell_type": "markdown",
      "metadata": {
        "id": "hkF0JiHTrKxy",
        "colab_type": "text"
      },
      "source": [
        "The idea behind LSH is to translate the sign of our tf-idf scores into a binary index (1 or 0) by using seeing if our score falls above or below a randomly defined line. This <a href=\"http://ethen8181.github.io/machine-learning/recsys/content_based/lsh_text.html\">link</a> is helpful for understanding LSH and our code in more detail.\n",
        "\n",
        "\n",
        "LSH performs an efficient neighbor search by randomly partitioning all reference data points into different bins. Today we will build a popular variant of LSH known as <strong>random binary projection</strong>, which approximates cosine distance. There are other variants we could use for other choices of distance metrics.\n",
        "\n",
        "The first step is to generate a collection of random vectors from the standard Gaussian distribution."
      ]
    },
    {
      "cell_type": "code",
      "metadata": {
        "id": "APxpECstrKxy",
        "colab_type": "code",
        "colab": {}
      },
      "source": [
        "def generate_random_vectors(dim, n_vectors):\n",
        "    return np.random.randn(dim, n_vectors)"
      ],
      "execution_count": 10,
      "outputs": []
    },
    {
      "cell_type": "markdown",
      "metadata": {
        "id": "WU4sGB2OrKx2",
        "colab_type": "text"
      },
      "source": [
        "To visualize these Gaussian random vectors, let's look at an example in low-dimensions.  Below, we generate 3 random vectors each of dimension 5."
      ]
    },
    {
      "cell_type": "code",
      "metadata": {
        "id": "QmjoTvjVrKx3",
        "colab_type": "code",
        "colab": {
          "base_uri": "https://localhost:8080/",
          "height": 102
        },
        "outputId": "617d54f5-4c26-4cde-95a9-451dd84bb3da"
      },
      "source": [
        "# Generate 3 random vectors of dimension 5, arranged into a single 5 x 3 matrix.\n",
        "generate_random_vectors(n_vectors=3, dim=5)"
      ],
      "execution_count": 11,
      "outputs": [
        {
          "output_type": "execute_result",
          "data": {
            "text/plain": [
              "array([[-2.77834017,  0.20038517, -0.29620201],\n",
              "       [-0.73531117, -1.28319994, -0.52703931],\n",
              "       [ 1.08116919, -1.54559424,  1.00223595],\n",
              "       [ 0.59669282, -0.6894962 ,  1.63114101],\n",
              "       [-1.54590945,  0.3534481 , -0.50459253]])"
            ]
          },
          "metadata": {
            "tags": []
          },
          "execution_count": 11
        }
      ]
    },
    {
      "cell_type": "markdown",
      "metadata": {
        "id": "sHG1E1y_rKx7",
        "colab_type": "text"
      },
      "source": [
        "We now generate random vectors of the same dimensionality as our vocubulary size (547979).  Each vector can be used to compute one bit in the bin encoding.  We generate 16 vectors, leading to a 16-bit encoding of the bin index for each document."
      ]
    },
    {
      "cell_type": "code",
      "metadata": {
        "id": "USAN_GyvrKx9",
        "colab_type": "code",
        "colab": {
          "base_uri": "https://localhost:8080/",
          "height": 34
        },
        "outputId": "4415fb85-7ff3-47e0-94ab-d54aaa770aba"
      },
      "source": [
        "# Generate 16 random vectors of dimension 547979\n",
        "np.random.seed(0)\n",
        "n_vectors = 16\n",
        "random_vectors = generate_random_vectors(corpus.shape[1], n_vectors)\n",
        "random_vectors.shape"
      ],
      "execution_count": 12,
      "outputs": [
        {
          "output_type": "execute_result",
          "data": {
            "text/plain": [
              "(547979, 16)"
            ]
          },
          "metadata": {
            "tags": []
          },
          "execution_count": 12
        }
      ]
    },
    {
      "cell_type": "markdown",
      "metadata": {
        "id": "n7NUWgc7rKyH",
        "colab_type": "text"
      },
      "source": [
        "Next, we partition data points into bins. Instead of using explicit loops, we'd like to utilize matrix operations for greater efficiency. Let's walk through the construction step by step.\n",
        "\n",
        "We'd like to decide which bin document 0 should go. Since 16 random vectors were generated in the previous cell, we have 16 bits to represent the bin index. The first bit is given by the sign of the dot product between the first random vector and the document's TF-IDF vector."
      ]
    },
    {
      "cell_type": "code",
      "metadata": {
        "id": "2hxG_F3mrKyI",
        "colab_type": "code",
        "colab": {
          "base_uri": "https://localhost:8080/",
          "height": 34
        },
        "outputId": "d60b3606-209e-46c0-ea77-ead09f6aa085"
      },
      "source": [
        "sample = corpus[0] # vector of tf-idf values for document 0\n",
        "bin_indices_bits = sample.dot(random_vectors[:,0]) >= 0\n",
        "bin_indices_bits"
      ],
      "execution_count": 13,
      "outputs": [
        {
          "output_type": "execute_result",
          "data": {
            "text/plain": [
              "array([ True])"
            ]
          },
          "metadata": {
            "tags": []
          },
          "execution_count": 13
        }
      ]
    },
    {
      "cell_type": "markdown",
      "metadata": {
        "id": "cDc5xAbvrKyM",
        "colab_type": "text"
      },
      "source": [
        "Similarly, the second bit is computed as the sign of the dot product between the second random vector and the document vector."
      ]
    },
    {
      "cell_type": "code",
      "metadata": {
        "id": "LGP9q4sQrKyN",
        "colab_type": "code",
        "colab": {
          "base_uri": "https://localhost:8080/",
          "height": 34
        },
        "outputId": "648b73d0-5d0f-428d-c4f9-d9bcd2128c70"
      },
      "source": [
        "sample.dot(random_vectors[:, 1]) >= 0 # True if positive sign; False if negative sign"
      ],
      "execution_count": 14,
      "outputs": [
        {
          "output_type": "execute_result",
          "data": {
            "text/plain": [
              "array([False])"
            ]
          },
          "metadata": {
            "tags": []
          },
          "execution_count": 14
        }
      ]
    },
    {
      "cell_type": "markdown",
      "metadata": {
        "id": "Ovu3n7RDrKyR",
        "colab_type": "text"
      },
      "source": [
        "We can compute all of the bin index bits at once as follows. Note the absence of the explicit `for` loop over the 16 vectors. Matrix operations let us batch dot-product computation in a highly efficent manner, unlike the `for` loop construction. Given the relative inefficiency of loops in Python, the advantage of matrix operations is even greater."
      ]
    },
    {
      "cell_type": "code",
      "metadata": {
        "id": "MGWjjiN9rKyS",
        "colab_type": "code",
        "colab": {
          "base_uri": "https://localhost:8080/",
          "height": 51
        },
        "outputId": "2d73cd4a-68c0-4fc4-d7b8-5e31b66d46e2"
      },
      "source": [
        "sample.dot(random_vectors) >= 0 # should return an array of 16 True/False bits"
      ],
      "execution_count": 15,
      "outputs": [
        {
          "output_type": "execute_result",
          "data": {
            "text/plain": [
              "array([[ True, False, False, False,  True, False,  True, False,  True,\n",
              "         True,  True, False,  True,  True, False,  True]])"
            ]
          },
          "metadata": {
            "tags": []
          },
          "execution_count": 15
        }
      ]
    },
    {
      "cell_type": "code",
      "metadata": {
        "id": "SYEcW92xrKyW",
        "colab_type": "code",
        "colab": {
          "base_uri": "https://localhost:8080/",
          "height": 34
        },
        "outputId": "6099c50d-e1fa-463c-826d-1d6c67792296"
      },
      "source": [
        "np.array(sample.dot(random_vectors) >= 0, dtype=int) # display index bits in 0/1's"
      ],
      "execution_count": 16,
      "outputs": [
        {
          "output_type": "execute_result",
          "data": {
            "text/plain": [
              "array([[1, 0, 0, 0, 1, 0, 1, 0, 1, 1, 1, 0, 1, 1, 0, 1]])"
            ]
          },
          "metadata": {
            "tags": []
          },
          "execution_count": 16
        }
      ]
    },
    {
      "cell_type": "markdown",
      "metadata": {
        "id": "mNdbKWBFrKyZ",
        "colab_type": "text"
      },
      "source": [
        "All documents that obtain exactly this vector will be assigned to the same bin. We'd like to repeat the identical operation on all documents in the Wikipedia dataset and compute the corresponding bin indices. Again, we use matrix operations  so that no explicit loop is needed."
      ]
    },
    {
      "cell_type": "code",
      "metadata": {
        "id": "kjzjwParrKya",
        "colab_type": "code",
        "colab": {
          "base_uri": "https://localhost:8080/",
          "height": 85
        },
        "outputId": "2009754e-a852-48e7-db9b-a2f1abefa2a1"
      },
      "source": [
        "corpus[0:2].dot(random_vectors) >= 0 # compute bit indices of first two documents"
      ],
      "execution_count": 17,
      "outputs": [
        {
          "output_type": "execute_result",
          "data": {
            "text/plain": [
              "array([[ True, False, False, False,  True, False,  True, False,  True,\n",
              "         True,  True, False,  True,  True, False,  True],\n",
              "       [False, False, False, False,  True, False, False, False,  True,\n",
              "         True,  True, False, False,  True, False,  True]])"
            ]
          },
          "metadata": {
            "tags": []
          },
          "execution_count": 17
        }
      ]
    },
    {
      "cell_type": "code",
      "metadata": {
        "id": "sjJs2UvPrKyf",
        "colab_type": "code",
        "colab": {
          "base_uri": "https://localhost:8080/",
          "height": 136
        },
        "outputId": "026d0125-045d-454a-d66b-9cd9d100724c"
      },
      "source": [
        "corpus.dot(random_vectors) >= 0 # compute bit indices of ALL documents"
      ],
      "execution_count": 18,
      "outputs": [
        {
          "output_type": "execute_result",
          "data": {
            "text/plain": [
              "array([[ True, False, False, ...,  True, False,  True],\n",
              "       [False, False, False, ...,  True, False,  True],\n",
              "       [ True,  True,  True, ...,  True,  True,  True],\n",
              "       ...,\n",
              "       [False, False, False, ..., False, False,  True],\n",
              "       [ True,  True, False, ...,  True,  True, False],\n",
              "       [ True,  True,  True, ...,  True, False,  True]])"
            ]
          },
          "metadata": {
            "tags": []
          },
          "execution_count": 18
        }
      ]
    },
    {
      "cell_type": "markdown",
      "metadata": {
        "id": "Jc8fQRVxrKyj",
        "colab_type": "text"
      },
      "source": [
        "We're almost done! To make it convenient to refer to individual bins, we convert each binary bin index into a single integer: \n",
        "```\n",
        "Bin index                      integer\n",
        "[0,0,0,0,0,0,0,0,0,0,0,0]   => 0\n",
        "[0,0,0,0,0,0,0,0,0,0,0,1]   => 1\n",
        "[0,0,0,0,0,0,0,0,0,0,1,0]   => 2\n",
        "[0,0,0,0,0,0,0,0,0,0,1,1]   => 3\n",
        "...\n",
        "[1,1,1,1,1,1,1,1,1,1,0,0]   => 65532\n",
        "[1,1,1,1,1,1,1,1,1,1,0,1]   => 65533\n",
        "[1,1,1,1,1,1,1,1,1,1,1,0]   => 65534\n",
        "[1,1,1,1,1,1,1,1,1,1,1,1]   => 65535 (= 2^16-1)\n",
        "```\n",
        "By the [rules of binary number representation](https://en.wikipedia.org/wiki/Binary_number#Decimal), we just need to compute the dot product between the document vector and the vector consisting of powers of 2:"
      ]
    },
    {
      "cell_type": "code",
      "metadata": {
        "id": "Lwhcf8CJrKyj",
        "colab_type": "code",
        "colab": {
          "base_uri": "https://localhost:8080/",
          "height": 102
        },
        "outputId": "a14d4c2f-3875-4318-b706-7bcd97cebc17"
      },
      "source": [
        "index_bits = (sample.dot(random_vectors) >= 0)\n",
        "powers_of_two = (1 << np.arange(15, -1, -1))\n",
        "print(index_bits)\n",
        "print(powers_of_two)\n",
        "print(index_bits.dot(powers_of_two))"
      ],
      "execution_count": 19,
      "outputs": [
        {
          "output_type": "stream",
          "text": [
            "[[ True False False False  True False  True False  True  True  True False\n",
            "   True  True False  True]]\n",
            "[32768 16384  8192  4096  2048  1024   512   256   128    64    32    16\n",
            "     8     4     2     1]\n",
            "[35565]\n"
          ],
          "name": "stdout"
        }
      ]
    },
    {
      "cell_type": "markdown",
      "metadata": {
        "id": "VvlZBHjcrKyn",
        "colab_type": "text"
      },
      "source": [
        "Since it's the dot product again, we batch it with a matrix operation:"
      ]
    },
    {
      "cell_type": "code",
      "metadata": {
        "id": "cObla6dUrKyo",
        "colab_type": "code",
        "colab": {
          "base_uri": "https://localhost:8080/",
          "height": 34
        },
        "outputId": "87adb277-ddac-4092-8422-591b03572b02"
      },
      "source": [
        "index_bits = sample.dot(random_vectors) >= 0\n",
        "index_bits.dot(powers_of_two)"
      ],
      "execution_count": 20,
      "outputs": [
        {
          "output_type": "execute_result",
          "data": {
            "text/plain": [
              "array([35565])"
            ]
          },
          "metadata": {
            "tags": []
          },
          "execution_count": 20
        }
      ]
    },
    {
      "cell_type": "markdown",
      "metadata": {
        "id": "jKoqgbWnrKyr",
        "colab_type": "text"
      },
      "source": [
        "This array gives us the integer index of the bins for all documents.\n",
        "\n",
        "Now we are ready to complete the following function. Given the integer bin indices for the documents, you should compile a list of document IDs that belong to each bin. Since a list is to be maintained for each unique bin index, a dictionary of lists is used.\n",
        "\n",
        "1. Compute the integer bin indices. This step is already completed.\n",
        "2. For each document in the dataset, do the following:\n",
        "   * Get the integer bin index for the document.\n",
        "   * Fetch the list of document ids associated with the bin; if no list yet exists for this bin, assign the bin an empty list.\n",
        "   * Add the document id to the end of the list.\n"
      ]
    },
    {
      "cell_type": "code",
      "metadata": {
        "id": "gRMLP7F1rKys",
        "colab_type": "code",
        "colab": {}
      },
      "source": [
        "from collections import defaultdict \n",
        "\n",
        "def train_lsh(data, n_vectors, seed=None):    \n",
        "    if seed is not None:\n",
        "        np.random.seed(seed)\n",
        "\n",
        "    dim = data.shape[1]\n",
        "    random_vectors = generate_random_vectors(dim, n_vectors)  \n",
        "\n",
        "    # Partition data points into bins,\n",
        "    # and encode bin index bits into integers\n",
        "    bin_indices_bits = data.dot(random_vectors) >= 0\n",
        "    powers_of_two = 1 << np.arange(n_vectors - 1, -1, step=-1)\n",
        "    bin_indices = bin_indices_bits.dot(powers_of_two)\n",
        "      \n",
        "    table = {}\n",
        "    # Update `table` so that `table[i]` is the list of document ids with bin index equal to i\n",
        "    table = defaultdict(list)\n",
        "    for idx, bin_index in enumerate(bin_indices):\n",
        "        if bin_index not in table:\n",
        "            # If no list yet exists for this bin, assign the bin an empty list.\n",
        "            table[bin_index] = [] # YOUR CODE HERE\n",
        "        # Fetch the list of document ids associated with the bin and add the document id to the end.\n",
        "        # data_index: document ids\n",
        "        # append() will add a list of document ids to table dict() with key as bin_index\n",
        "        table[bin_index].append(idx)   # YOUR CODE HERE\n",
        "    \n",
        "    # Note that we're storing the bin_indices here\n",
        "    # so we can do some ad-hoc checking with it,\n",
        "    # this isn't actually required\n",
        "    model = {'data': data,\n",
        "             'table': table,\n",
        "             'random_vectors': random_vectors,\n",
        "             'bin_indices': bin_indices,\n",
        "             'bin_indices_bits': bin_indices_bits}\n",
        "    return model"
      ],
      "execution_count": 30,
      "outputs": []
    },
    {
      "cell_type": "markdown",
      "metadata": {
        "id": "kFcbaVomrKyv",
        "colab_type": "text"
      },
      "source": [
        "**Checkpoint**. "
      ]
    },
    {
      "cell_type": "code",
      "metadata": {
        "id": "15tKyuK-rKyw",
        "colab_type": "code",
        "colab": {}
      },
      "source": [
        "def compare_bits(model, id_1, id_2):\n",
        "    bits1 = model['bin_indices_bits'][id_1]\n",
        "    bits2 = model['bin_indices_bits'][id_2]\n",
        "    print('Number of agreed bits: ', np.sum(bits1 == bits2))\n",
        "    return np.sum(bits1 == bits2)"
      ],
      "execution_count": 66,
      "outputs": []
    },
    {
      "cell_type": "code",
      "metadata": {
        "id": "guqMmgJorKyz",
        "colab_type": "code",
        "colab": {
          "base_uri": "https://localhost:8080/",
          "height": 34
        },
        "outputId": "e8524ae4-2500-4791-b161-477205be108b"
      },
      "source": [
        "model = train_lsh(corpus, 16, seed=475)\n",
        "obama_id = wiki[wiki['name'] == 'Barack Obama']['id'][0]\n",
        "biden_id = wiki[wiki['name'] == 'Joe Biden']['id'][0]\n",
        "similariy = compare_bits(model, obama_id, biden_id)"
      ],
      "execution_count": 32,
      "outputs": [
        {
          "output_type": "stream",
          "text": [
            "Number of agreed bits:  15\n"
          ],
          "name": "stdout"
        }
      ]
    },
    {
      "cell_type": "markdown",
      "metadata": {
        "id": "qhM8tLpTrKy3",
        "colab_type": "text"
      },
      "source": [
        "**Note.** We will be using the model trained here in the following sections, unless otherwise indicated."
      ]
    },
    {
      "cell_type": "markdown",
      "metadata": {
        "id": "RKUQ0qVirKy3",
        "colab_type": "text"
      },
      "source": [
        "## Inspect bins"
      ]
    },
    {
      "cell_type": "markdown",
      "metadata": {
        "id": "v6KokkbDrKy4",
        "colab_type": "text"
      },
      "source": [
        "After generating our LSH model, let's examine the generated bins to get a deeper understanding of them. Here, we will look at these similar products' bins to see if the result matches intuition. Remember the idea behind LSH is that similar data points will tend to fall into nearby bins."
      ]
    },
    {
      "cell_type": "code",
      "metadata": {
        "id": "qxEdYfh5rKy5",
        "colab_type": "code",
        "colab": {}
      },
      "source": [
        "# This function will help us get similar items, given the id\n",
        "def get_similarity_items(X_tfidf, item_id, topn=5):\n",
        "    \"\"\"\n",
        "    Get the top similar items for a given item id.\n",
        "    The similarity measure here is based on cosine distance.\n",
        "    \"\"\"\n",
        "    query = X_tfidf[item_id]\n",
        "    scores = X_tfidf.dot(query.T).toarray().ravel()\n",
        "    best = np.argpartition(scores, -topn)[-topn:]\n",
        "    similar_items = sorted(zip(best, scores[best]), key=lambda x: -x[1])\n",
        "    similar_item_ids = [similar_item for similar_item, _ in similar_items]\n",
        "    print(\"Similar items to id: {}\".format(item_id))\n",
        "    for _id in similar_item_ids:\n",
        "        print(wiki[_id]['name'])\n",
        "    print('\\n')\n",
        "    return similar_item_ids"
      ],
      "execution_count": 33,
      "outputs": []
    },
    {
      "cell_type": "markdown",
      "metadata": {
        "id": "-N19yDmYrKy9",
        "colab_type": "text"
      },
      "source": [
        "Let us look at some documents and see which bins they fall into."
      ]
    },
    {
      "cell_type": "code",
      "metadata": {
        "id": "9kRljtdSrKy-",
        "colab_type": "code",
        "colab": {
          "base_uri": "https://localhost:8080/",
          "height": 125
        },
        "outputId": "397d0f6f-4236-4937-88ad-f60ce0acb43c"
      },
      "source": [
        "wiki[wiki['name'] == 'Barack Obama']"
      ],
      "execution_count": 34,
      "outputs": [
        {
          "output_type": "execute_result",
          "data": {
            "text/html": [
              "<div style=\"max-height:1000px;max-width:1500px;overflow:auto;\"><table frame=\"box\" rules=\"cols\">\n",
              "    <tr>\n",
              "        <th style=\"padding-left: 1em; padding-right: 1em; text-align: center\">id</th>\n",
              "        <th style=\"padding-left: 1em; padding-right: 1em; text-align: center\">URI</th>\n",
              "        <th style=\"padding-left: 1em; padding-right: 1em; text-align: center\">name</th>\n",
              "        <th style=\"padding-left: 1em; padding-right: 1em; text-align: center\">text</th>\n",
              "        <th style=\"padding-left: 1em; padding-right: 1em; text-align: center\">tf_idf</th>\n",
              "    </tr>\n",
              "    <tr>\n",
              "        <td style=\"padding-left: 1em; padding-right: 1em; text-align: center; vertical-align: top\">35817</td>\n",
              "        <td style=\"padding-left: 1em; padding-right: 1em; text-align: center; vertical-align: top\">&lt;http://dbpedia.org/resou<br>rce/Barack_Obama&gt; ...</td>\n",
              "        <td style=\"padding-left: 1em; padding-right: 1em; text-align: center; vertical-align: top\">Barack Obama</td>\n",
              "        <td style=\"padding-left: 1em; padding-right: 1em; text-align: center; vertical-align: top\">barack hussein obama ii<br>brk husen bm born august ...</td>\n",
              "        <td style=\"padding-left: 1em; padding-right: 1em; text-align: center; vertical-align: top\">{&#x27;normalize&#x27;:<br>10.293348208665249, ...</td>\n",
              "    </tr>\n",
              "</table>\n",
              "[? rows x 5 columns]<br/>Note: Only the head of the SFrame is printed. This SFrame is lazily evaluated.<br/>You can use sf.materialize() to force materialization.\n",
              "</div>"
            ],
            "text/plain": [
              "Columns:\n",
              "\tid\tint\n",
              "\tURI\tstr\n",
              "\tname\tstr\n",
              "\ttext\tstr\n",
              "\ttf_idf\tdict\n",
              "\n",
              "Rows: Unknown\n",
              "\n",
              "Data:\n",
              "+-------+-------------------------------+--------------+\n",
              "|   id  |              URI              |     name     |\n",
              "+-------+-------------------------------+--------------+\n",
              "| 35817 | <http://dbpedia.org/resour... | Barack Obama |\n",
              "+-------+-------------------------------+--------------+\n",
              "+-------------------------------+-------------------------------+\n",
              "|              text             |             tf_idf            |\n",
              "+-------------------------------+-------------------------------+\n",
              "| barack hussein obama ii br... | {'normalize': 10.293348208... |\n",
              "+-------------------------------+-------------------------------+\n",
              "[? rows x 5 columns]\n",
              "Note: Only the head of the SFrame is printed. This SFrame is lazily evaluated.\n",
              "You can use sf.materialize() to force materialization."
            ]
          },
          "metadata": {
            "tags": []
          },
          "execution_count": 34
        }
      ]
    },
    {
      "cell_type": "markdown",
      "metadata": {
        "id": "qWQpZFE0rKzB",
        "colab_type": "text"
      },
      "source": [
        "**Quiz Question**. What is the document `id` of Barack Obama's article?\n",
        "\n",
        "**Quiz Question**. Which bin contains Barack Obama's article? Enter its integer index."
      ]
    },
    {
      "cell_type": "code",
      "metadata": {
        "id": "zMQg_qckrKzC",
        "colab_type": "code",
        "colab": {
          "base_uri": "https://localhost:8080/",
          "height": 1000
        },
        "outputId": "f3e9307f-e021-4514-d2be-81a48d4bf4a3"
      },
      "source": [
        "model"
      ],
      "execution_count": 35,
      "outputs": [
        {
          "output_type": "execute_result",
          "data": {
            "text/plain": [
              "{'bin_indices': array([ 7550, 57114, 44055, ..., 13482,  9032, 50995]),\n",
              " 'bin_indices_bits': array([[False, False, False, ...,  True,  True, False],\n",
              "        [ True,  True, False, ..., False,  True, False],\n",
              "        [ True, False,  True, ...,  True,  True,  True],\n",
              "        ...,\n",
              "        [False, False,  True, ..., False,  True, False],\n",
              "        [False, False,  True, ..., False, False, False],\n",
              "        [ True,  True, False, ..., False,  True,  True]]),\n",
              " 'data': <59071x547979 sparse matrix of type '<class 'numpy.float64'>'\n",
              " \twith 10379283 stored elements in Compressed Sparse Row format>,\n",
              " 'random_vectors': array([[-2.15143728,  0.02783261,  0.38243811, ..., -2.11707479,\n",
              "          0.79834636, -0.80541899],\n",
              "        [ 0.51706814, -1.39814807,  0.92391892, ..., -0.68004077,\n",
              "          1.40668639,  0.07679353],\n",
              "        [ 0.9859271 , -0.14548825, -0.26746177, ..., -0.68699142,\n",
              "          1.08835536, -0.07787168],\n",
              "        ...,\n",
              "        [ 0.41840544, -1.12753186,  0.02680532, ..., -1.15002205,\n",
              "         -1.49542005,  0.41649856],\n",
              "        [ 0.03053719, -2.05798579,  0.58959085, ...,  0.19214145,\n",
              "         -0.14087651, -1.97694814],\n",
              "        [ 0.46575862, -0.89445383, -0.01989479, ...,  0.31588345,\n",
              "         -0.66408213, -0.95861284]]),\n",
              " 'table': defaultdict(list,\n",
              "             {7550: [0, 38791],\n",
              "              57114: [1],\n",
              "              44055: [2, 6061, 29663, 57653],\n",
              "              32148: [3, 19846],\n",
              "              21601: [4],\n",
              "              49947: [5, 23414],\n",
              "              36934: [6, 25331, 25740],\n",
              "              34407: [7, 6059],\n",
              "              38736: [8, 15771, 32529],\n",
              "              42710: [9, 9758, 58710],\n",
              "              13708: [10, 21166],\n",
              "              36837: [11],\n",
              "              13512: [12],\n",
              "              3127: [13, 6694, 43573, 48197, 48359, 58485],\n",
              "              64659: [14, 27921, 36058, 53553, 58758],\n",
              "              6641: [15],\n",
              "              37063: [16, 1793, 9355, 32504],\n",
              "              3482: [17, 16403, 43893],\n",
              "              11861: [18, 3430, 51088],\n",
              "              11720: [19, 56485],\n",
              "              50192: [20],\n",
              "              30120: [21, 10339],\n",
              "              39205: [22],\n",
              "              19973: [23],\n",
              "              36730: [24, 23443],\n",
              "              6395: [25],\n",
              "              14293: [26, 2924, 39849],\n",
              "              39602: [27, 58429],\n",
              "              22877: [28, 15649],\n",
              "              41309: [29, 58704],\n",
              "              47428: [30],\n",
              "              12481: [31],\n",
              "              14101: [32, 19822, 40692],\n",
              "              4369: [33, 5751],\n",
              "              4722: [34, 12594],\n",
              "              10359: [35],\n",
              "              35941: [36, 8216],\n",
              "              2316: [37, 50482],\n",
              "              149: [38],\n",
              "              6775: [39, 24539, 33561],\n",
              "              57240: [40],\n",
              "              47322: [41],\n",
              "              51068: [42],\n",
              "              44436: [43, 49782],\n",
              "              32736: [44],\n",
              "              11770: [45],\n",
              "              46330: [46, 50578],\n",
              "              61394: [47],\n",
              "              40034: [48],\n",
              "              59289: [49, 56192],\n",
              "              53716: [50],\n",
              "              34859: [51, 20671, 23085],\n",
              "              21514: [52, 3556],\n",
              "              44056: [53, 20810, 21863, 51302],\n",
              "              55384: [54],\n",
              "              9297: [55],\n",
              "              33411: [56],\n",
              "              5492: [57, 50326],\n",
              "              43070: [58, 21582, 56397],\n",
              "              25489: [59, 58526],\n",
              "              38098: [60, 7478, 10370],\n",
              "              38559: [61, 38001, 39863],\n",
              "              63756: [62, 39888],\n",
              "              1114: [63, 45959],\n",
              "              8088: [64, 16908, 27027],\n",
              "              45412: [65],\n",
              "              41712: [66, 52341],\n",
              "              14723: [67],\n",
              "              41844: [68],\n",
              "              31985: [69, 9200, 41132],\n",
              "              10520: [70],\n",
              "              26178: [71, 9030, 39369],\n",
              "              13535: [72, 31174, 32000, 42536, 44713, 57953],\n",
              "              28242: [73, 995, 3122, 56718],\n",
              "              64567: [74],\n",
              "              43572: [75, 46480],\n",
              "              9829: [76, 35922],\n",
              "              46419: [77, 1792, 11069],\n",
              "              56880: [78],\n",
              "              7270: [79],\n",
              "              39186: [80, 31612],\n",
              "              7692: [81],\n",
              "              42916: [82, 8363, 41387],\n",
              "              41624: [83],\n",
              "              18705: [84, 26079, 28872],\n",
              "              23701: [85, 2048, 10547, 18801, 28808],\n",
              "              16798: [86, 33522, 36230],\n",
              "              16164: [87, 51883, 52812],\n",
              "              57028: [88, 26137],\n",
              "              21004: [89],\n",
              "              19616: [90, 9797],\n",
              "              45669: [91],\n",
              "              1782: [92, 10914],\n",
              "              14158: [93],\n",
              "              15828: [94],\n",
              "              64422: [95],\n",
              "              15970: [96],\n",
              "              39138: [97],\n",
              "              23740: [98],\n",
              "              10138: [99, 22541, 30735],\n",
              "              46847: [100, 40561],\n",
              "              35419: [101],\n",
              "              17021: [102, 5785, 12320],\n",
              "              7837: [103, 28600, 29489],\n",
              "              39773: [104, 53678],\n",
              "              4079: [105, 19545, 25726, 27252],\n",
              "              52035: [106],\n",
              "              1306: [107, 12901, 39769],\n",
              "              3326: [108],\n",
              "              52254: [109, 43786],\n",
              "              54896: [110, 4644, 28763],\n",
              "              26123: [111, 46620, 51346],\n",
              "              32446: [112, 10800],\n",
              "              13862: [113],\n",
              "              62470: [114, 36837],\n",
              "              51189: [115, 3704],\n",
              "              15588: [116, 7632, 41324],\n",
              "              38983: [117],\n",
              "              586: [118],\n",
              "              26149: [119],\n",
              "              38758: [120],\n",
              "              38552: [121, 25773, 28034],\n",
              "              18367: [122],\n",
              "              42574: [123],\n",
              "              34178: [124],\n",
              "              26604: [125, 32586],\n",
              "              14636: [126],\n",
              "              7894: [127, 5048, 53523],\n",
              "              65446: [128, 41889],\n",
              "              3303: [129],\n",
              "              48368: [130],\n",
              "              59196: [131, 3548, 17503],\n",
              "              42532: [132, 41772, 58914],\n",
              "              58864: [133],\n",
              "              32791: [134, 58217],\n",
              "              59187: [135],\n",
              "              11136: [136, 40630],\n",
              "              31320: [137, 5833, 36337, 40752],\n",
              "              29069: [138, 33296],\n",
              "              33902: [139, 16139, 41770],\n",
              "              16215: [140, 39563],\n",
              "              44936: [141],\n",
              "              3701: [142, 9372, 23137, 29948, 32587],\n",
              "              43923: [143],\n",
              "              42998: [144, 19530],\n",
              "              52791: [145, 30063, 53126],\n",
              "              3363: [146],\n",
              "              40572: [147, 40563],\n",
              "              14215: [148, 52306],\n",
              "              61911: [149],\n",
              "              47654: [150, 4674, 5050],\n",
              "              29481: [151],\n",
              "              9122: [152, 51550],\n",
              "              26282: [153, 29199, 35529],\n",
              "              8171: [154, 37125],\n",
              "              55752: [155, 43902],\n",
              "              55224: [156, 27629, 58949],\n",
              "              1540: [157, 3370, 12772],\n",
              "              61889: [158],\n",
              "              10375: [159, 15071, 46158],\n",
              "              17590: [160],\n",
              "              35555: [161],\n",
              "              55956: [162],\n",
              "              11309: [163],\n",
              "              13410: [164],\n",
              "              9479: [165],\n",
              "              36501: [166, 24734],\n",
              "              22326: [167, 28170],\n",
              "              54925: [168, 9820, 47772, 55256],\n",
              "              6175: [169, 6569, 13198, 31374],\n",
              "              21531: [170, 15509],\n",
              "              4629: [171],\n",
              "              4024: [172, 19603, 36060, 42153],\n",
              "              36382: [173, 41179],\n",
              "              22863: [174],\n",
              "              28830: [175, 12277],\n",
              "              9414: [176, 3153],\n",
              "              40321: [177, 52557],\n",
              "              44306: [178, 17632],\n",
              "              52372: [179],\n",
              "              38827: [180],\n",
              "              13759: [181],\n",
              "              30402: [182, 48261],\n",
              "              54526: [183],\n",
              "              44467: [184],\n",
              "              58419: [185, 2516, 19898],\n",
              "              7957: [186, 9813, 10187, 10912, 37883],\n",
              "              58960: [187, 13577],\n",
              "              59156: [188, 22269, 43318],\n",
              "              57093: [189, 18742],\n",
              "              28289: [190, 15142],\n",
              "              30006: [191, 49636],\n",
              "              63556: [192, 43707],\n",
              "              13543: [193],\n",
              "              36148: [194, 32209, 58555],\n",
              "              28238: [195, 21105, 35608],\n",
              "              2365: [196, 58671],\n",
              "              29176: [197],\n",
              "              11369: [198],\n",
              "              2373: [199, 36616],\n",
              "              4909: [200, 15043, 54578],\n",
              "              39231: [201],\n",
              "              56595: [202, 12730],\n",
              "              4659: [203],\n",
              "              3992: [204, 27346, 38737],\n",
              "              41476: [205, 2230],\n",
              "              14124: [206, 25770],\n",
              "              14296: [207],\n",
              "              11936: [208],\n",
              "              58743: [209, 11821, 12871],\n",
              "              6093: [210, 17278, 57037],\n",
              "              65310: [211, 41456],\n",
              "              26452: [212, 22039],\n",
              "              30300: [213, 53849],\n",
              "              1887: [214, 28972, 32677],\n",
              "              38602: [215],\n",
              "              12863: [216, 6853, 8246, 33879],\n",
              "              11604: [217, 9235, 12940, 13205],\n",
              "              20151: [218, 55611],\n",
              "              56772: [219, 7031, 58137],\n",
              "              56965: [220, 14084],\n",
              "              30331: [221, 16439],\n",
              "              9727: [222, 23860, 29834, 33642],\n",
              "              16392: [223, 13171],\n",
              "              46622: [224, 49982],\n",
              "              13750: [225, 12276],\n",
              "              29188: [226],\n",
              "              57557: [227, 31850, 51569],\n",
              "              19404: [228, 32133],\n",
              "              14851: [229, 57310],\n",
              "              40925: [230, 24275],\n",
              "              7716: [231, 26689, 41746, 49837],\n",
              "              27967: [232],\n",
              "              16313: [233, 57333],\n",
              "              31102: [234],\n",
              "              3069: [235, 42551],\n",
              "              4748: [236],\n",
              "              33318: [237, 5741, 20360, 51224],\n",
              "              42814: [238, 32889, 58718],\n",
              "              11141: [239, 27912],\n",
              "              1582: [240, 42176, 45365],\n",
              "              14854: [241, 51963],\n",
              "              65109: [242],\n",
              "              31935: [243, 1300],\n",
              "              17482: [244, 10831, 47849, 50558],\n",
              "              40529: [245, 7441, 11919, 39666, 55734],\n",
              "              48408: [246, 29296],\n",
              "              30163: [247],\n",
              "              64589: [248, 26595],\n",
              "              17463: [249],\n",
              "              46033: [250],\n",
              "              28384: [251],\n",
              "              8898: [252, 48615],\n",
              "              44588: [253, 17778],\n",
              "              1621: [254],\n",
              "              46680: [255, 787, 18311],\n",
              "              24519: [256],\n",
              "              3888: [257, 13660],\n",
              "              58961: [258],\n",
              "              2587: [259],\n",
              "              15744: [260, 38693],\n",
              "              8952: [261],\n",
              "              5883: [262],\n",
              "              47055: [263, 41907],\n",
              "              20530: [264, 582],\n",
              "              36194: [265],\n",
              "              28078: [266, 16833],\n",
              "              1719: [267],\n",
              "              9493: [268, 26795, 28505],\n",
              "              7868: [269, 8071, 9920, 28869],\n",
              "              7281: [270, 25609, 55768],\n",
              "              30352: [271],\n",
              "              6482: [272, 10890],\n",
              "              35913: [273, 2219],\n",
              "              22154: [274, 9286],\n",
              "              42981: [275],\n",
              "              40304: [276, 15704],\n",
              "              63100: [277, 45997],\n",
              "              42582: [278, 13919, 17481, 27122, 49105, 51615, 58277],\n",
              "              10340: [279],\n",
              "              50361: [280],\n",
              "              39321: [281],\n",
              "              25881: [282, 43545],\n",
              "              12365: [283, 19823, 34176],\n",
              "              40540: [284, 3444],\n",
              "              25437: [285, 15568],\n",
              "              26436: [286, 16957, 50431],\n",
              "              7169: [287, 57059],\n",
              "              15881: [288, 723, 55458],\n",
              "              29877: [289, 14530],\n",
              "              21081: [290],\n",
              "              2734: [291],\n",
              "              17981: [292],\n",
              "              64080: [293],\n",
              "              50051: [294],\n",
              "              10438: [295],\n",
              "              41685: [296, 16096],\n",
              "              51130: [297, 26100],\n",
              "              15197: [298],\n",
              "              47905: [299],\n",
              "              47123: [300, 18617],\n",
              "              45253: [301, 19324, 38251, 44470],\n",
              "              58785: [302],\n",
              "              60030: [303],\n",
              "              41631: [304, 9520],\n",
              "              25765: [305],\n",
              "              57812: [306, 34815],\n",
              "              12136: [307],\n",
              "              5417: [308, 33072],\n",
              "              18292: [309],\n",
              "              60119: [310, 50144],\n",
              "              14225: [311, 48640],\n",
              "              16262: [312, 14564],\n",
              "              38498: [313],\n",
              "              16242: [314],\n",
              "              17389: [315, 22150],\n",
              "              21133: [316, 34291],\n",
              "              38438: [317, 10811, 43041],\n",
              "              31971: [318, 51607],\n",
              "              59940: [319, 45056],\n",
              "              3114: [320, 32569, 50864],\n",
              "              53247: [321, 22906, 34282],\n",
              "              9247: [322, 35832],\n",
              "              48724: [323],\n",
              "              48133: [324, 21052],\n",
              "              35386: [325],\n",
              "              57769: [326],\n",
              "              1351: [327],\n",
              "              21131: [328],\n",
              "              7797: [329, 20886, 24877, 38771],\n",
              "              20239: [330],\n",
              "              21330: [331, 8723, 45310, 54779],\n",
              "              44616: [332],\n",
              "              46854: [333, 1607, 34475, 37408],\n",
              "              33388: [334, 23612],\n",
              "              31894: [335, 23943, 44417, 47528, 51682],\n",
              "              48932: [336, 29327],\n",
              "              21903: [337],\n",
              "              7370: [338],\n",
              "              52664: [339],\n",
              "              45573: [340, 3731],\n",
              "              20233: [341, 42753],\n",
              "              15262: [342, 2018, 9941],\n",
              "              10584: [343, 37216],\n",
              "              54167: [344],\n",
              "              63355: [345, 1879, 20480, 57147],\n",
              "              8542: [346],\n",
              "              22390: [347, 6929],\n",
              "              39609: [348, 53721],\n",
              "              11946: [349, 9852],\n",
              "              55563: [350],\n",
              "              10075: [351, 28165, 33785],\n",
              "              2067: [352, 39162, 45655, 50020],\n",
              "              48543: [353],\n",
              "              62854: [354, 5718, 36539, 42696],\n",
              "              18268: [355, 8409],\n",
              "              38998: [356, 12044],\n",
              "              53634: [357],\n",
              "              53382: [358],\n",
              "              49809: [359],\n",
              "              58882: [360, 37852, 47888, 57818],\n",
              "              7103: [361, 39436, 45267],\n",
              "              45146: [362],\n",
              "              57757: [363],\n",
              "              63002: [364],\n",
              "              57829: [365, 5034],\n",
              "              44872: [366, 23170, 47542, 57948],\n",
              "              41796: [367, 22419],\n",
              "              1285: [368],\n",
              "              26444: [369],\n",
              "              35604: [370],\n",
              "              26173: [371, 43632, 45112],\n",
              "              61534: [372],\n",
              "              46562: [373, 9725],\n",
              "              34007: [374, 22790, 57474],\n",
              "              7949: [375, 48570],\n",
              "              49816: [376],\n",
              "              33060: [377],\n",
              "              25262: [378, 20202],\n",
              "              46021: [379, 5548],\n",
              "              30664: [380],\n",
              "              40755: [381],\n",
              "              3543: [382, 26765],\n",
              "              47453: [383],\n",
              "              9574: [384, 5950, 52505],\n",
              "              20613: [385, 21720],\n",
              "              42739: [386, 3700, 32461, 43904],\n",
              "              35485: [387, 13823, 18618],\n",
              "              44621: [388],\n",
              "              14258: [389, 6671],\n",
              "              20464: [390, 9882],\n",
              "              42231: [391, 40913, 55727],\n",
              "              32409: [392],\n",
              "              56361: [393],\n",
              "              47038: [394, 35505],\n",
              "              5115: [395, 8961],\n",
              "              16240: [396, 15016, 50889],\n",
              "              12573: [397],\n",
              "              26576: [398, 17605],\n",
              "              33578: [399],\n",
              "              33951: [400],\n",
              "              67: [401],\n",
              "              31758: [402],\n",
              "              21468: [403, 40526],\n",
              "              743: [404, 28276, 28299],\n",
              "              41652: [405, 6604, 26748],\n",
              "              20221: [406],\n",
              "              22576: [407, 599],\n",
              "              59281: [408],\n",
              "              35412: [409],\n",
              "              38833: [410, 5831, 15090, 15139, 19548, 30903],\n",
              "              38832: [411, 16307, 22919, 33269],\n",
              "              13584: [412, 39139, 52248],\n",
              "              6680: [413, 21868],\n",
              "              25182: [414, 19096, 30109],\n",
              "              5905: [415],\n",
              "              37155: [416],\n",
              "              16607: [417],\n",
              "              55468: [418],\n",
              "              56975: [419, 23801, 35610, 47800],\n",
              "              15506: [420],\n",
              "              13064: [421, 5508, 35840],\n",
              "              46619: [422, 32259],\n",
              "              14472: [423, 34243, 45546],\n",
              "              51743: [424, 6067, 58204],\n",
              "              2190: [425],\n",
              "              40115: [426, 16461, 37896, 51542],\n",
              "              36006: [427, 21778, 42376],\n",
              "              4410: [428],\n",
              "              62704: [429],\n",
              "              8838: [430, 22244],\n",
              "              13382: [431, 3232, 19884, 34127],\n",
              "              63885: [432, 35546],\n",
              "              13018: [433, 12071, 14528],\n",
              "              64814: [434, 38926, 43317, 46908],\n",
              "              34551: [435],\n",
              "              8325: [436],\n",
              "              46214: [437, 26835, 53658, 57017],\n",
              "              6452: [438],\n",
              "              48643: [439, 32317],\n",
              "              5234: [440, 11621, 22370, 30605, 37356, 52618],\n",
              "              14072: [441],\n",
              "              27049: [442, 27501, 45570],\n",
              "              38743: [443, 47649],\n",
              "              44999: [444],\n",
              "              17732: [445],\n",
              "              21057: [446, 6403],\n",
              "              23889: [447],\n",
              "              10074: [448],\n",
              "              45899: [449, 21031],\n",
              "              42805: [450, 28029],\n",
              "              42000: [451, 20347, 38557, 50159],\n",
              "              26801: [452],\n",
              "              47048: [453, 21739, 33503, 45237],\n",
              "              14099: [454, 43538],\n",
              "              1829: [455],\n",
              "              43119: [456],\n",
              "              43806: [457, 51287],\n",
              "              65355: [458],\n",
              "              43384: [459, 40745],\n",
              "              54878: [460, 58631],\n",
              "              13522: [461, 20346, 50493],\n",
              "              3633: [462, 1621],\n",
              "              32931: [463],\n",
              "              54692: [464],\n",
              "              5166: [465, 25314, 32176, 41755, 42794],\n",
              "              31053: [466, 37680, 44830],\n",
              "              7836: [467],\n",
              "              62475: [468],\n",
              "              53446: [469, 51922],\n",
              "              3111: [470],\n",
              "              17218: [471, 50378],\n",
              "              7909: [472],\n",
              "              11196: [473, 1764, 33760],\n",
              "              14919: [474, 5282, 15848],\n",
              "              7904: [475],\n",
              "              6106: [476, 30777],\n",
              "              23144: [477],\n",
              "              65032: [478, 20045, 28887],\n",
              "              57018: [479, 13174, 14003],\n",
              "              46286: [480, 16889],\n",
              "              41566: [481, 1768, 2119],\n",
              "              40057: [482],\n",
              "              54426: [483, 32540],\n",
              "              8676: [484],\n",
              "              53560: [485],\n",
              "              59668: [486, 25859],\n",
              "              59190: [487],\n",
              "              38588: [488, 2428, 49160],\n",
              "              32468: [489, 13677],\n",
              "              30144: [490, 20851],\n",
              "              9204: [491, 29868, 55077],\n",
              "              60748: [492, 12424, 21663],\n",
              "              11349: [493, 4978, 33590],\n",
              "              46204: [494, 28050, 28056, 42040, 52249],\n",
              "              19653: [495, 37638],\n",
              "              1811: [496, 40892],\n",
              "              21516: [497, 41011],\n",
              "              49262: [498, 48739],\n",
              "              58731: [499],\n",
              "              50988: [500],\n",
              "              9962: [501],\n",
              "              49592: [502],\n",
              "              366: [503, 11636, 18907],\n",
              "              2213: [504, 6256, 21340],\n",
              "              64541: [505, 42186, 49079, 53550],\n",
              "              17986: [506],\n",
              "              39048: [507, 4485, 4820, 16921],\n",
              "              25149: [508],\n",
              "              6792: [509, 52548],\n",
              "              11950: [510],\n",
              "              59988: [511],\n",
              "              54215: [512],\n",
              "              4087: [513, 9565],\n",
              "              9354: [514, 13903, 23121],\n",
              "              19999: [515, 10486, 42070, 42314],\n",
              "              6241: [516],\n",
              "              16137: [517, 56521],\n",
              "              38489: [518, 35132],\n",
              "              11798: [519, 4472],\n",
              "              21132: [520, 11815],\n",
              "              16639: [521],\n",
              "              43906: [522],\n",
              "              937: [523, 20845],\n",
              "              44114: [524, 22074, 52333],\n",
              "              37001: [525],\n",
              "              12374: [526],\n",
              "              36742: [527, 36593],\n",
              "              24496: [528],\n",
              "              40988: [529, 16754, 17230, 19340],\n",
              "              11708: [530, 28337, 31063],\n",
              "              19325: [531, 5039],\n",
              "              31255: [532, 35687],\n",
              "              31636: [533, 1289, 13161, 55132],\n",
              "              4795: [534, 17256, 17835, 53482],\n",
              "              7441: [535, 26091],\n",
              "              3605: [536],\n",
              "              19792: [537, 8412, 28462],\n",
              "              54280: [538, 9497],\n",
              "              34556: [539, 13275, 43708],\n",
              "              61388: [540],\n",
              "              49727: [541],\n",
              "              62522: [542, 22925],\n",
              "              46934: [543, 38063],\n",
              "              27391: [544],\n",
              "              41982: [545, 13453],\n",
              "              34746: [546],\n",
              "              28149: [547],\n",
              "              54082: [548],\n",
              "              14169: [549],\n",
              "              19612: [550, 25645],\n",
              "              36223: [551, 43784],\n",
              "              28486: [552],\n",
              "              38374: [553],\n",
              "              15978: [554, 50010],\n",
              "              45929: [555, 22532],\n",
              "              41056: [556, 50352],\n",
              "              23283: [557],\n",
              "              16168: [558, 34962],\n",
              "              28519: [559, 34482],\n",
              "              6383: [560],\n",
              "              20865: [561],\n",
              "              18424: [562],\n",
              "              57905: [563, 2349],\n",
              "              32276: [564, 41297],\n",
              "              53083: [565],\n",
              "              43167: [566, 40105],\n",
              "              11993: [567],\n",
              "              61327: [568],\n",
              "              38443: [569, 38728],\n",
              "              29983: [570, 27008, 51687],\n",
              "              43668: [571, 12524, 54302],\n",
              "              59348: [572, 24169],\n",
              "              26526: [573],\n",
              "              34712: [574],\n",
              "              27735: [575, 8515],\n",
              "              11815: [576],\n",
              "              9733: [577, 7207, 26613],\n",
              "              28262: [578],\n",
              "              47148: [579],\n",
              "              37607: [580],\n",
              "              54436: [581, 32013, 39688],\n",
              "              19372: [583, 40252],\n",
              "              29447: [584, 31738],\n",
              "              46548: [585, 44801],\n",
              "              51862: [586, 26153],\n",
              "              24075: [587, 28084],\n",
              "              52330: [588, 31582],\n",
              "              61888: [589],\n",
              "              57040: [590, 5934],\n",
              "              14869: [591, 50169],\n",
              "              63281: [592, 54953],\n",
              "              43139: [593],\n",
              "              3777: [594],\n",
              "              15389: [595, 3545, 13661, 19720, 28053],\n",
              "              50301: [596],\n",
              "              32327: [597],\n",
              "              31628: [598, 28907, 48238],\n",
              "              22010: [600, 13399],\n",
              "              64786: [601, 15022, 31771, 56556],\n",
              "              25887: [602],\n",
              "              53499: [603, 24238],\n",
              "              1183: [604, 8491, 22559, 40627],\n",
              "              4901: [605],\n",
              "              8068: [606, 9766, 30812],\n",
              "              26846: [607, 37937],\n",
              "              42342: [608],\n",
              "              13026: [609],\n",
              "              9630: [610, 29552],\n",
              "              59908: [611, 5128],\n",
              "              23239: [612],\n",
              "              38658: [613, 8217],\n",
              "              32990: [614, 5120],\n",
              "              38417: [615, 57763],\n",
              "              3600: [616, 11924, 46463, 49407, 55732],\n",
              "              36406: [617, 53639],\n",
              "              58514: [618, 13768],\n",
              "              49980: [619, 8265, 16162],\n",
              "              48633: [620],\n",
              "              6188: [621, 38799, 56441],\n",
              "              6935: [622, 34762, 39871],\n",
              "              50012: [623, 39014],\n",
              "              18498: [624, 35712, 57606],\n",
              "              65284: [625, 9265],\n",
              "              26691: [626],\n",
              "              1842: [627, 16549, 44255],\n",
              "              6174: [628, 30672],\n",
              "              7912: [629, 4478, 10884],\n",
              "              36017: [630, 1065],\n",
              "              30410: [631, 3119],\n",
              "              4583: [632, 23683, 26922, 39361, 43418],\n",
              "              8506: [633, 15733],\n",
              "              35089: [634],\n",
              "              9263: [635],\n",
              "              3297: [636, 16211, 34173, 46971],\n",
              "              38206: [637, 16552, 20966, 57428],\n",
              "              45725: [638, 24161, 43803, 45662],\n",
              "              29852: [639, 6935],\n",
              "              17652: [640, 18471],\n",
              "              3766: [641, 28232],\n",
              "              52639: [642],\n",
              "              9741: [643, 33440, 45178],\n",
              "              9633: [644],\n",
              "              34452: [645, 6129, 8099, 8197, 43321],\n",
              "              9322: [646],\n",
              "              38215: [647, 2386, 45316],\n",
              "              29527: [648, 44693],\n",
              "              64957: [649, 36095],\n",
              "              52124: [650],\n",
              "              14948: [651],\n",
              "              55113: [652],\n",
              "              47897: [653, 55139],\n",
              "              61658: [654],\n",
              "              58584: [655],\n",
              "              7463: [656, 20090],\n",
              "              4138: [657],\n",
              "              61244: [658, 35246],\n",
              "              42143: [659, 46716, 55891],\n",
              "              64959: [660, 10116, 43826],\n",
              "              34878: [661, 16858],\n",
              "              25450: [662],\n",
              "              39770: [663, 7167],\n",
              "              15281: [664],\n",
              "              21120: [665],\n",
              "              22155: [666],\n",
              "              879: [667, 6986],\n",
              "              54706: [668],\n",
              "              28525: [669],\n",
              "              32686: [670],\n",
              "              58104: [671],\n",
              "              62487: [672, 25451, 30594],\n",
              "              4518: [673, 27223],\n",
              "              44670: [674, 2155],\n",
              "              3391: [675, 27867, 34565, 51650],\n",
              "              7736: [676, 43491],\n",
              "              54859: [677, 22033],\n",
              "              54311: [678, 28924, 46198],\n",
              "              47763: [679, 15446, 40965],\n",
              "              26334: [680],\n",
              "              52317: [681, 28747, 39748],\n",
              "              19649: [682],\n",
              "              21021: [683, 43363, 53901],\n",
              "              30263: [684, 19193],\n",
              "              45247: [685],\n",
              "              38303: [686, 52294],\n",
              "              18109: [687, 1002],\n",
              "              16881: [688, 29884],\n",
              "              14654: [689, 21902],\n",
              "              23567: [690],\n",
              "              21190: [691, 7745],\n",
              "              8863: [692, 22945, 36658, 41885],\n",
              "              31900: [693, 23589],\n",
              "              47673: [694],\n",
              "              13609: [695, 6981, 39767],\n",
              "              62064: [696, 14074, 27421],\n",
              "              46461: [697, 48387],\n",
              "              56579: [698, 44889],\n",
              "              22089: [699, 19247],\n",
              "              7416: [700, 11685],\n",
              "              47990: [701, 18917, 31110, 37077, 37859],\n",
              "              62909: [702],\n",
              "              11130: [703],\n",
              "              33638: [704, 20226],\n",
              "              43819: [705],\n",
              "              5639: [706],\n",
              "              23101: [707, 5144, 35062],\n",
              "              13369: [708, 2240, 35501, 50796],\n",
              "              32599: [709, 4321, 20725, 37639, 37825],\n",
              "              6173: [710, 10621],\n",
              "              41748: [711, 22641, 30832],\n",
              "              36518: [712],\n",
              "              46161: [713, 22617, 56225],\n",
              "              34758: [714],\n",
              "              42705: [715],\n",
              "              37985: [716],\n",
              "              43723: [717, 26280],\n",
              "              56060: [718],\n",
              "              21817: [719, 34164],\n",
              "              59094: [720],\n",
              "              37631: [721, 25595],\n",
              "              5428: [722],\n",
              "              9816: [724, 17337, 45654],\n",
              "              58903: [725, 2444],\n",
              "              45820: [726, 17109, 53085],\n",
              "              11021: [727],\n",
              "              26153: [728],\n",
              "              11872: [729],\n",
              "              21467: [730],\n",
              "              10368: [731, 37615],\n",
              "              20440: [732],\n",
              "              56219: [733],\n",
              "              4310: [734],\n",
              "              47291: [735, 12694],\n",
              "              48775: [736, 20242, 23724],\n",
              "              58532: [737, 36735, 40362],\n",
              "              30453: [738, 16194, 28192],\n",
              "              39936: [739, 7824, 9111],\n",
              "              4522: [740, 10930, 39912],\n",
              "              12961: [741, 29187],\n",
              "              30405: [742],\n",
              "              58652: [743],\n",
              "              47082: [744, 36785, 50528, 52466],\n",
              "              45298: [745],\n",
              "              60820: [746],\n",
              "              61189: [747, 16677],\n",
              "              10110: [748],\n",
              "              11475: [749, 27341, 37151],\n",
              "              14553: [750, 27870],\n",
              "              47432: [751],\n",
              "              44986: [752, 50714],\n",
              "              2220: [753, 35121],\n",
              "              39244: [754],\n",
              "              32670: [755],\n",
              "              46322: [756],\n",
              "              60413: [757],\n",
              "              2971: [758, 9968],\n",
              "              41021: [759],\n",
              "              25170: [760, 27110, 34248],\n",
              "              5582: [761, 42304, 43969],\n",
              "              40156: [762, 28386, 28971, 38672, 47767],\n",
              "              41114: [763],\n",
              "              34041: [764],\n",
              "              64608: [765],\n",
              "              5059: [766, 7090],\n",
              "              60494: [767, 12722],\n",
              "              9173: [768],\n",
              "              42547: [769, 13360, 26796, 44947],\n",
              "              1867: [770, 22123],\n",
              "              35635: [771, 23504, 51379],\n",
              "              34364: [772, 3519, 3834, 11544, 31908],\n",
              "              42221: [773],\n",
              "              16349: [774, 11417, 25865, 55730, 58158],\n",
              "              19357: [775],\n",
              "              43405: [776],\n",
              "              37722: [777, 48131],\n",
              "              58140: [778, 9774, 52787],\n",
              "              35996: [779, 8952],\n",
              "              34533: [780],\n",
              "              29996: [781, 33109],\n",
              "              3512: [782, 28267, 34053, 37712],\n",
              "              2643: [783, 22547],\n",
              "              62802: [784, 40201],\n",
              "              46755: [785, 18994],\n",
              "              20245: [786, 34760],\n",
              "              43424: [788],\n",
              "              34358: [789, 21167, 36900],\n",
              "              51200: [790, 39543],\n",
              "              44116: [791, 6153, 20458],\n",
              "              5790: [792, 21009],\n",
              "              30399: [793, 29979],\n",
              "              7960: [794, 46423],\n",
              "              36675: [795, 39376],\n",
              "              18375: [796, 33159],\n",
              "              25547: [797, 27345],\n",
              "              59216: [798],\n",
              "              33276: [799],\n",
              "              62260: [800],\n",
              "              60052: [801],\n",
              "              51858: [802, 1087],\n",
              "              39956: [803, 3553, 14754],\n",
              "              3971: [804],\n",
              "              21047: [805, 26649],\n",
              "              6979: [806, 34254],\n",
              "              22213: [807],\n",
              "              61120: [808, 45471],\n",
              "              43140: [809],\n",
              "              41390: [810],\n",
              "              23686: [811],\n",
              "              37197: [812, 18990],\n",
              "              52819: [813, 4851, 11317],\n",
              "              40100: [814, 49931],\n",
              "              24212: [815],\n",
              "              35526: [816],\n",
              "              65171: [817, 16022, 21292, 45755, 48441],\n",
              "              3585: [818, 11241, 22406],\n",
              "              44314: [819, 51085],\n",
              "              42823: [820],\n",
              "              55108: [821, 9643],\n",
              "              30003: [822, 58320],\n",
              "              38393: [823],\n",
              "              3304: [824],\n",
              "              34146: [825],\n",
              "              21277: [826],\n",
              "              27368: [827],\n",
              "              49875: [828, 53522],\n",
              "              22541: [829],\n",
              "              40011: [830],\n",
              "              50276: [831],\n",
              "              10494: [832, 36442],\n",
              "              9807: [833, 33761, 37600, 43499, 48417],\n",
              "              11857: [834],\n",
              "              16732: [835, 7286],\n",
              "              45681: [836, 30381],\n",
              "              4324: [837, 3952, 32743],\n",
              "              57719: [838],\n",
              "              61514: [839],\n",
              "              13269: [840],\n",
              "              6679: [841],\n",
              "              46775: [842, 6296, 39522],\n",
              "              36664: [843, 12608],\n",
              "              29271: [844, 21405, 50182],\n",
              "              15984: [845, 1166],\n",
              "              50500: [846],\n",
              "              47132: [847, 46139, 56799],\n",
              "              3121: [848, 53088],\n",
              "              26588: [849],\n",
              "              36599: [850, 16291, 39259, 40793],\n",
              "              38402: [851, 2933, 43344],\n",
              "              50953: [852, 24356],\n",
              "              16064: [853, 1920, 27858, 42494],\n",
              "              28179: [854],\n",
              "              63958: [855],\n",
              "              2101: [856, 30297],\n",
              "              15924: [857, 28953, 32473, 45698],\n",
              "              55696: [858],\n",
              "              30227: [859],\n",
              "              14045: [860, 44899, 53635, 55841],\n",
              "              6498: [861, 7516],\n",
              "              25560: [862, 15637],\n",
              "              13548: [863],\n",
              "              13206: [864],\n",
              "              46740: [865, 25482, 39756],\n",
              "              39427: [866, 5698],\n",
              "              3658: [867, 1690, 23325],\n",
              "              7926: [868, 53243],\n",
              "              2256: [869],\n",
              "              22162: [870, 17814],\n",
              "              11181: [871],\n",
              "              26363: [872, 25330, 37301],\n",
              "              41483: [873, 6518, 7132],\n",
              "              12561: [874],\n",
              "              53367: [875],\n",
              "              51882: [876],\n",
              "              43874: [877],\n",
              "              48216: [878, 6789],\n",
              "              5434: [879],\n",
              "              31552: [880, 24265],\n",
              "              4377: [881, 17861],\n",
              "              17643: [882, 8122],\n",
              "              57791: [883],\n",
              "              7875: [884, 49895],\n",
              "              11869: [885, 15967, 53063],\n",
              "              54797: [886, 45729],\n",
              "              8356: [887],\n",
              "              19146: [888],\n",
              "              1560: [889, 44262, 46905],\n",
              "              41513: [890],\n",
              "              5750: [891, 961],\n",
              "              34106: [892],\n",
              "              24173: [893, 12958, 36275],\n",
              "              1198: [894, 57547],\n",
              "              50498: [895, 7020, 34659],\n",
              "              48823: [896, 11972, 16360, 17826, 46391],\n",
              "              51739: [897, 10462, 23047],\n",
              "              31343: [898],\n",
              "              6143: [899, 37099, 58919],\n",
              "              51523: [900],\n",
              "              22246: [901],\n",
              "              9870: [902],\n",
              "              29253: [903],\n",
              "              7008: [904, 51907],\n",
              "              59046: [905, 26620],\n",
              "              26407: [906, 58620],\n",
              "              30292: [907, 18196, 36619, 48474, 48514],\n",
              "              24200: [908],\n",
              "              62544: [909, 31077, 31913],\n",
              "              13341: [910, 12585, 13561],\n",
              "              22603: [911],\n",
              "              59365: [912, 17832],\n",
              "              41285: [913],\n",
              "              21111: [914, 18381, 21420, 30681],\n",
              "              25669: [915, 31295, 52241],\n",
              "              18475: [916],\n",
              "              28475: [917],\n",
              "              57954: [918],\n",
              "              3681: [919, 30171],\n",
              "              50023: [920, 13089],\n",
              "              6135: [921, 20943, 42372],\n",
              "              1638: [922, 19943, 36056],\n",
              "              36384: [923, 36536, 55471],\n",
              "              47179: [924],\n",
              "              58337: [925],\n",
              "              49766: [926, 6841],\n",
              "              32457: [927],\n",
              "              13544: [928, 1337, 4474, 49505],\n",
              "              49571: [929, 21544],\n",
              "              58055: [930, 1813, 6038],\n",
              "              213: [931],\n",
              "              44370: [932, 15070],\n",
              "              41050: [933],\n",
              "              26830: [934, 50448],\n",
              "              10032: [935, 25572, 47721],\n",
              "              9817: [936, 23101, 58259],\n",
              "              43580: [937],\n",
              "              1570: [938, 3628, 46153, 56459, 58256],\n",
              "              20797: [939, 27515],\n",
              "              930: [940, 38511],\n",
              "              12018: [941],\n",
              "              38344: [942, 40696],\n",
              "              36710: [943, 24719, 52770],\n",
              "              16528: [944, 51361],\n",
              "              48277: [945, 15073, 49828, 51910],\n",
              "              42158: [946, 27690],\n",
              "              21688: [947, 31799],\n",
              "              47850: [948],\n",
              "              26591: [949, 53326],\n",
              "              23708: [950, 26281, 31869],\n",
              "              14411: [951, 24873],\n",
              "              53969: [952, 5725, 26282, 40144],\n",
              "              41934: [953, 6152],\n",
              "              25628: [954, 1480, 39775, 58295],\n",
              "              46046: [955],\n",
              "              10782: [956],\n",
              "              42339: [957, 53286],\n",
              "              52302: [958, 10088],\n",
              "              2576: [959, 50653],\n",
              "              64108: [960, 23028],\n",
              "              57095: [962, 9475],\n",
              "              25023: [963],\n",
              "              53202: [964],\n",
              "              42880: [965, 48259],\n",
              "              63362: [966],\n",
              "              35463: [967, 13626],\n",
              "              13511: [968, 2952, 22825],\n",
              "              16289: [969, 7570, 15094],\n",
              "              62277: [970, 13190, 24200, 39515],\n",
              "              8701: [971, 37871],\n",
              "              1238: [972, 10128, 41549],\n",
              "              54100: [973, 14241],\n",
              "              10303: [974, 11615, 39395],\n",
              "              45570: [975, 16779],\n",
              "              12511: [976, 28897, 35723],\n",
              "              55821: [977],\n",
              "              2529: [978, 1881],\n",
              "              39941: [979],\n",
              "              56862: [980],\n",
              "              15175: [981, 34785],\n",
              "              64005: [982],\n",
              "              48219: [983],\n",
              "              5144: [984, 37625],\n",
              "              46923: [985],\n",
              "              2909: [986, 15253, 43421],\n",
              "              38649: [987, 26308, 32074],\n",
              "              9876: [988],\n",
              "              15869: [989, 27480, 56138, 57825],\n",
              "              15258: [990, 45672],\n",
              "              28965: [991],\n",
              "              8089: [992, 2960, 20688],\n",
              "              12158: [993],\n",
              "              56920: [994, 1077, 2417, 8975, 16428, 37820, 48318],\n",
              "              51329: [996],\n",
              "              15544: [997, 13959, 54088],\n",
              "              112: [998, 53040],\n",
              "              34794: [999, 29507],\n",
              "              15182: [1000],\n",
              "              46107: [1001, 9678, 28253],\n",
              "              44158: [1003, 44065, 45684],\n",
              "              11302: [1004, 30853],\n",
              "              8563: [1005],\n",
              "              50582: [1006],\n",
              "              ...})}"
            ]
          },
          "metadata": {
            "tags": []
          },
          "execution_count": 35
        }
      ]
    },
    {
      "cell_type": "markdown",
      "metadata": {
        "id": "K9zTC_WGrKzF",
        "colab_type": "text"
      },
      "source": [
        "Recall from the previous assignment that Joe Biden was a close neighbor of Barack Obama."
      ]
    },
    {
      "cell_type": "code",
      "metadata": {
        "id": "TYp7uLDuymbv",
        "colab_type": "code",
        "colab": {
          "base_uri": "https://localhost:8080/",
          "height": 125
        },
        "outputId": "e5d9c51d-a43c-458f-cad6-7e733f75648b"
      },
      "source": [
        "wiki[wiki['name'] == 'Joe Biden']"
      ],
      "execution_count": 39,
      "outputs": [
        {
          "output_type": "execute_result",
          "data": {
            "text/html": [
              "<div style=\"max-height:1000px;max-width:1500px;overflow:auto;\"><table frame=\"box\" rules=\"cols\">\n",
              "    <tr>\n",
              "        <th style=\"padding-left: 1em; padding-right: 1em; text-align: center\">id</th>\n",
              "        <th style=\"padding-left: 1em; padding-right: 1em; text-align: center\">URI</th>\n",
              "        <th style=\"padding-left: 1em; padding-right: 1em; text-align: center\">name</th>\n",
              "        <th style=\"padding-left: 1em; padding-right: 1em; text-align: center\">text</th>\n",
              "        <th style=\"padding-left: 1em; padding-right: 1em; text-align: center\">tf_idf</th>\n",
              "    </tr>\n",
              "    <tr>\n",
              "        <td style=\"padding-left: 1em; padding-right: 1em; text-align: center; vertical-align: top\">24478</td>\n",
              "        <td style=\"padding-left: 1em; padding-right: 1em; text-align: center; vertical-align: top\">&lt;http://dbpedia.org/resou<br>rce/Joe_Biden&gt; ...</td>\n",
              "        <td style=\"padding-left: 1em; padding-right: 1em; text-align: center; vertical-align: top\">Joe Biden</td>\n",
              "        <td style=\"padding-left: 1em; padding-right: 1em; text-align: center; vertical-align: top\">joseph robinette joe<br>biden jr dosf rbnt badn ...</td>\n",
              "        <td style=\"padding-left: 1em; padding-right: 1em; text-align: center; vertical-align: top\">{&#x27;were&#x27;:<br>1.521978023354629, ...</td>\n",
              "    </tr>\n",
              "</table>\n",
              "[? rows x 5 columns]<br/>Note: Only the head of the SFrame is printed. This SFrame is lazily evaluated.<br/>You can use sf.materialize() to force materialization.\n",
              "</div>"
            ],
            "text/plain": [
              "Columns:\n",
              "\tid\tint\n",
              "\tURI\tstr\n",
              "\tname\tstr\n",
              "\ttext\tstr\n",
              "\ttf_idf\tdict\n",
              "\n",
              "Rows: Unknown\n",
              "\n",
              "Data:\n",
              "+-------+-------------------------------+-----------+\n",
              "|   id  |              URI              |    name   |\n",
              "+-------+-------------------------------+-----------+\n",
              "| 24478 | <http://dbpedia.org/resour... | Joe Biden |\n",
              "+-------+-------------------------------+-----------+\n",
              "+-------------------------------+-------------------------------+\n",
              "|              text             |             tf_idf            |\n",
              "+-------------------------------+-------------------------------+\n",
              "| joseph robinette joe biden... | {'were': 1.521978023354629... |\n",
              "+-------------------------------+-------------------------------+\n",
              "[? rows x 5 columns]\n",
              "Note: Only the head of the SFrame is printed. This SFrame is lazily evaluated.\n",
              "You can use sf.materialize() to force materialization."
            ]
          },
          "metadata": {
            "tags": []
          },
          "execution_count": 39
        }
      ]
    },
    {
      "cell_type": "markdown",
      "metadata": {
        "id": "-xt789dQrKzJ",
        "colab_type": "text"
      },
      "source": [
        "**Quiz Question**. Examine the bit representations of the bins containing Barack Obama and Joe Biden. In how many places do they agree?\n",
        "\n",
        "1. 16 out of 16 places (Barack Obama and Joe Biden fall into the same bin)\n",
        "2. 15 out of 16 places\n",
        "3. 13 out of 16 places\n",
        "4. 11 out of 16 places\n",
        "5. 9 out of 16 places"
      ]
    },
    {
      "cell_type": "code",
      "metadata": {
        "id": "YTrHa0XmrKzJ",
        "colab_type": "code",
        "colab": {
          "base_uri": "https://localhost:8080/",
          "height": 34
        },
        "outputId": "d948b8b6-532c-4ccd-ca8e-f50726b88f2b"
      },
      "source": [
        "wiki[wiki['name'] == 'Joe Biden']['id'][0]"
      ],
      "execution_count": 40,
      "outputs": [
        {
          "output_type": "execute_result",
          "data": {
            "text/plain": [
              "24478"
            ]
          },
          "metadata": {
            "tags": []
          },
          "execution_count": 40
        }
      ]
    },
    {
      "cell_type": "code",
      "metadata": {
        "id": "huSApJSG1xpQ",
        "colab_type": "code",
        "colab": {
          "base_uri": "https://localhost:8080/",
          "height": 34
        },
        "outputId": "fc2f6783-9923-4e74-b57f-5c13c5b93cf2"
      },
      "source": [
        "# sum of bits agree between Barack Obama and Joe Biden\n",
        "sum(model['bin_indices_bits'][35817] == model['bin_indices_bits'][24478])"
      ],
      "execution_count": 67,
      "outputs": [
        {
          "output_type": "execute_result",
          "data": {
            "text/plain": [
              "14"
            ]
          },
          "metadata": {
            "tags": []
          },
          "execution_count": 67
        }
      ]
    },
    {
      "cell_type": "markdown",
      "metadata": {
        "id": "5cafYRs-rKzQ",
        "colab_type": "text"
      },
      "source": [
        "Compare the result with a former British diplomat"
      ]
    },
    {
      "cell_type": "code",
      "metadata": {
        "id": "J8jpTlBdrKzR",
        "colab_type": "code",
        "colab": {
          "base_uri": "https://localhost:8080/",
          "height": 51
        },
        "outputId": "3848f6a9-0016-464a-f2c1-b13550646667"
      },
      "source": [
        "jones_id = wiki[wiki['name']=='Wynn Normington Hugh-Jones']['id'][0]\n",
        "compare_bits(model, obama_id, jones_id)"
      ],
      "execution_count": 43,
      "outputs": [
        {
          "output_type": "stream",
          "text": [
            "Number of agreed bits:  8\n"
          ],
          "name": "stdout"
        },
        {
          "output_type": "execute_result",
          "data": {
            "text/plain": [
              "8"
            ]
          },
          "metadata": {
            "tags": []
          },
          "execution_count": 43
        }
      ]
    },
    {
      "cell_type": "markdown",
      "metadata": {
        "id": "lX0fxAfGrKzU",
        "colab_type": "text"
      },
      "source": [
        "How about the documents in the same bin as Barack Obama? Are they necessarily more similar to Obama than Biden?  Let's look at which documents are in the same bin as the Barack Obama article."
      ]
    },
    {
      "cell_type": "code",
      "metadata": {
        "id": "mN48WoeurKzV",
        "colab_type": "code",
        "colab": {
          "base_uri": "https://localhost:8080/",
          "height": 34
        },
        "outputId": "4e77888a-6e3a-4718-e2aa-bd3174e088ea"
      },
      "source": [
        "model['table'][model['bin_indices'][35817]]"
      ],
      "execution_count": 44,
      "outputs": [
        {
          "output_type": "execute_result",
          "data": {
            "text/plain": [
              "[35817, 54743]"
            ]
          },
          "metadata": {
            "tags": []
          },
          "execution_count": 44
        }
      ]
    },
    {
      "cell_type": "markdown",
      "metadata": {
        "id": "NVgI5EmCrKzY",
        "colab_type": "text"
      },
      "source": [
        "There is one more document in the same bin. Which document is it?"
      ]
    },
    {
      "cell_type": "code",
      "metadata": {
        "id": "ablnLNIIrKzZ",
        "colab_type": "code",
        "colab": {
          "base_uri": "https://localhost:8080/",
          "height": 91
        },
        "outputId": "d9e2fbe6-e752-46d2-c333-a79c4e54b195"
      },
      "source": [
        "doc_ids = list(model['table'][model['bin_indices'][35817]])\n",
        "doc_ids.remove(35817) # display documents other than Obama\n",
        "\n",
        "docs = wiki.filter_by(values=doc_ids, column_name='id') # filter by id column\n",
        "docs"
      ],
      "execution_count": 45,
      "outputs": [
        {
          "output_type": "execute_result",
          "data": {
            "text/html": [
              "<div style=\"max-height:1000px;max-width:1500px;overflow:auto;\"><table frame=\"box\" rules=\"cols\">\n",
              "    <tr>\n",
              "        <th style=\"padding-left: 1em; padding-right: 1em; text-align: center\">id</th>\n",
              "        <th style=\"padding-left: 1em; padding-right: 1em; text-align: center\">URI</th>\n",
              "        <th style=\"padding-left: 1em; padding-right: 1em; text-align: center\">name</th>\n",
              "        <th style=\"padding-left: 1em; padding-right: 1em; text-align: center\">text</th>\n",
              "        <th style=\"padding-left: 1em; padding-right: 1em; text-align: center\">tf_idf</th>\n",
              "    </tr>\n",
              "    <tr>\n",
              "        <td style=\"padding-left: 1em; padding-right: 1em; text-align: center; vertical-align: top\">54743</td>\n",
              "        <td style=\"padding-left: 1em; padding-right: 1em; text-align: center; vertical-align: top\">&lt;http://dbpedia.org/resou<br>rce/Radovan_%C5%BDerjav&gt; ...</td>\n",
              "        <td style=\"padding-left: 1em; padding-right: 1em; text-align: center; vertical-align: top\">Radovan %C5%BDerjav</td>\n",
              "        <td style=\"padding-left: 1em; padding-right: 1em; text-align: center; vertical-align: top\">radovan erjav born 2<br>december 1968 is a ...</td>\n",
              "        <td style=\"padding-left: 1em; padding-right: 1em; text-align: center; vertical-align: top\">{&#x27;hungarian&#x27;:<br>5.299520032885375, ...</td>\n",
              "    </tr>\n",
              "</table>\n",
              "[1 rows x 5 columns]<br/>\n",
              "</div>"
            ],
            "text/plain": [
              "Columns:\n",
              "\tid\tint\n",
              "\tURI\tstr\n",
              "\tname\tstr\n",
              "\ttext\tstr\n",
              "\ttf_idf\tdict\n",
              "\n",
              "Rows: 1\n",
              "\n",
              "Data:\n",
              "+-------+-------------------------------+---------------------+\n",
              "|   id  |              URI              |         name        |\n",
              "+-------+-------------------------------+---------------------+\n",
              "| 54743 | <http://dbpedia.org/resour... | Radovan %C5%BDerjav |\n",
              "+-------+-------------------------------+---------------------+\n",
              "+-------------------------------+-------------------------------+\n",
              "|              text             |             tf_idf            |\n",
              "+-------------------------------+-------------------------------+\n",
              "| radovan erjav born 2 decem... | {'hungarian': 5.2995200328... |\n",
              "+-------------------------------+-------------------------------+\n",
              "[1 rows x 5 columns]"
            ]
          },
          "metadata": {
            "tags": []
          },
          "execution_count": 45
        }
      ]
    },
    {
      "cell_type": "code",
      "metadata": {
        "id": "t6beKUAxrKzc",
        "colab_type": "code",
        "colab": {
          "base_uri": "https://localhost:8080/",
          "height": 51
        },
        "outputId": "2671896f-025b-45a9-e493-57d774c44fa6"
      },
      "source": [
        "res = compare_bits(model, obama_id, docs[0]['id']), compare_bits(model, obama_id, biden_id)"
      ],
      "execution_count": 46,
      "outputs": [
        {
          "output_type": "stream",
          "text": [
            "Number of agreed bits:  16\n",
            "Number of agreed bits:  15\n"
          ],
          "name": "stdout"
        }
      ]
    },
    {
      "cell_type": "markdown",
      "metadata": {
        "id": "cwVvrK0YrKzf",
        "colab_type": "text"
      },
      "source": [
        "**In summary**, similar data points will in general _tend to_ fall into _nearby_ bins, but that's all we can say about LSH. In a high-dimensional space such as text features, we often get unlucky with our selection of only a few random vectors such that dissimilar data points go into the same bin while similar data points fall into different bins. **Given a query document, we must consider all documents in the nearby bins and sort them according to their actual distances from the query.**"
      ]
    },
    {
      "cell_type": "markdown",
      "metadata": {
        "id": "IJjGTYthrKzg",
        "colab_type": "text"
      },
      "source": [
        "## Query the LSH model"
      ]
    },
    {
      "cell_type": "markdown",
      "metadata": {
        "id": "F0E4knBPrKzg",
        "colab_type": "text"
      },
      "source": [
        "Let us first implement the logic for searching nearby neighbors, which goes like this:\n",
        "```\n",
        "1. Let L be the bit representation of the bin that contains the query documents.\n",
        "2. Consider all documents in bin L.\n",
        "3. Consider documents in the bins whose bit representation differs from L by 1 bit.\n",
        "4. Consider documents in the bins whose bit representation differs from L by 2 bits.\n",
        "...\n",
        "```"
      ]
    },
    {
      "cell_type": "markdown",
      "metadata": {
        "id": "ExbDtCUqrKzh",
        "colab_type": "text"
      },
      "source": [
        "To obtain candidate bins that differ from the query bin by some number of bits, we use `itertools.combinations`, which produces all possible subsets of a given list. See [this documentation](https://docs.python.org/3/library/itertools.html#itertools.combinations) for details.\n",
        "```\n",
        "1. Decide on the search radius r. This will determine the number of different bits between the two vectors.\n",
        "2. For each subset (n_1, n_2, ..., n_r) of the list [0, 1, 2, ..., num_vector-1], do the following:\n",
        "   * Flip the bits (n_1, n_2, ..., n_r) of the query bin to produce a new bit vector.\n",
        "   * Fetch the list of documents belonging to the bin indexed by the new bit vector.\n",
        "   * Add those documents to the candidate set.\n",
        "```\n",
        "\n",
        "Each line of output from the following cell is a 3-tuple indicating where the candidate bin would differ from the query bin. For instance,\n",
        "```\n",
        "(0, 1, 3)\n",
        "```\n",
        "indicates that the candiate bin differs from the query bin in first, second, and fourth bits."
      ]
    },
    {
      "cell_type": "code",
      "metadata": {
        "id": "MtJyTjHKrKzi",
        "colab_type": "code",
        "colab": {}
      },
      "source": [
        "from itertools import combinations"
      ],
      "execution_count": 47,
      "outputs": []
    },
    {
      "cell_type": "code",
      "metadata": {
        "scrolled": true,
        "id": "IAe4NiMNrKzl",
        "colab_type": "code",
        "colab": {
          "base_uri": "https://localhost:8080/",
          "height": 1000
        },
        "outputId": "bb0bbb5b-42c5-4070-8e8a-2ba950530aa2"
      },
      "source": [
        "num_vector = 16\n",
        "search_radius = 3\n",
        "\n",
        "for diff in combinations(range(num_vector), search_radius):\n",
        "    print(diff)"
      ],
      "execution_count": 48,
      "outputs": [
        {
          "output_type": "stream",
          "text": [
            "(0, 1, 2)\n",
            "(0, 1, 3)\n",
            "(0, 1, 4)\n",
            "(0, 1, 5)\n",
            "(0, 1, 6)\n",
            "(0, 1, 7)\n",
            "(0, 1, 8)\n",
            "(0, 1, 9)\n",
            "(0, 1, 10)\n",
            "(0, 1, 11)\n",
            "(0, 1, 12)\n",
            "(0, 1, 13)\n",
            "(0, 1, 14)\n",
            "(0, 1, 15)\n",
            "(0, 2, 3)\n",
            "(0, 2, 4)\n",
            "(0, 2, 5)\n",
            "(0, 2, 6)\n",
            "(0, 2, 7)\n",
            "(0, 2, 8)\n",
            "(0, 2, 9)\n",
            "(0, 2, 10)\n",
            "(0, 2, 11)\n",
            "(0, 2, 12)\n",
            "(0, 2, 13)\n",
            "(0, 2, 14)\n",
            "(0, 2, 15)\n",
            "(0, 3, 4)\n",
            "(0, 3, 5)\n",
            "(0, 3, 6)\n",
            "(0, 3, 7)\n",
            "(0, 3, 8)\n",
            "(0, 3, 9)\n",
            "(0, 3, 10)\n",
            "(0, 3, 11)\n",
            "(0, 3, 12)\n",
            "(0, 3, 13)\n",
            "(0, 3, 14)\n",
            "(0, 3, 15)\n",
            "(0, 4, 5)\n",
            "(0, 4, 6)\n",
            "(0, 4, 7)\n",
            "(0, 4, 8)\n",
            "(0, 4, 9)\n",
            "(0, 4, 10)\n",
            "(0, 4, 11)\n",
            "(0, 4, 12)\n",
            "(0, 4, 13)\n",
            "(0, 4, 14)\n",
            "(0, 4, 15)\n",
            "(0, 5, 6)\n",
            "(0, 5, 7)\n",
            "(0, 5, 8)\n",
            "(0, 5, 9)\n",
            "(0, 5, 10)\n",
            "(0, 5, 11)\n",
            "(0, 5, 12)\n",
            "(0, 5, 13)\n",
            "(0, 5, 14)\n",
            "(0, 5, 15)\n",
            "(0, 6, 7)\n",
            "(0, 6, 8)\n",
            "(0, 6, 9)\n",
            "(0, 6, 10)\n",
            "(0, 6, 11)\n",
            "(0, 6, 12)\n",
            "(0, 6, 13)\n",
            "(0, 6, 14)\n",
            "(0, 6, 15)\n",
            "(0, 7, 8)\n",
            "(0, 7, 9)\n",
            "(0, 7, 10)\n",
            "(0, 7, 11)\n",
            "(0, 7, 12)\n",
            "(0, 7, 13)\n",
            "(0, 7, 14)\n",
            "(0, 7, 15)\n",
            "(0, 8, 9)\n",
            "(0, 8, 10)\n",
            "(0, 8, 11)\n",
            "(0, 8, 12)\n",
            "(0, 8, 13)\n",
            "(0, 8, 14)\n",
            "(0, 8, 15)\n",
            "(0, 9, 10)\n",
            "(0, 9, 11)\n",
            "(0, 9, 12)\n",
            "(0, 9, 13)\n",
            "(0, 9, 14)\n",
            "(0, 9, 15)\n",
            "(0, 10, 11)\n",
            "(0, 10, 12)\n",
            "(0, 10, 13)\n",
            "(0, 10, 14)\n",
            "(0, 10, 15)\n",
            "(0, 11, 12)\n",
            "(0, 11, 13)\n",
            "(0, 11, 14)\n",
            "(0, 11, 15)\n",
            "(0, 12, 13)\n",
            "(0, 12, 14)\n",
            "(0, 12, 15)\n",
            "(0, 13, 14)\n",
            "(0, 13, 15)\n",
            "(0, 14, 15)\n",
            "(1, 2, 3)\n",
            "(1, 2, 4)\n",
            "(1, 2, 5)\n",
            "(1, 2, 6)\n",
            "(1, 2, 7)\n",
            "(1, 2, 8)\n",
            "(1, 2, 9)\n",
            "(1, 2, 10)\n",
            "(1, 2, 11)\n",
            "(1, 2, 12)\n",
            "(1, 2, 13)\n",
            "(1, 2, 14)\n",
            "(1, 2, 15)\n",
            "(1, 3, 4)\n",
            "(1, 3, 5)\n",
            "(1, 3, 6)\n",
            "(1, 3, 7)\n",
            "(1, 3, 8)\n",
            "(1, 3, 9)\n",
            "(1, 3, 10)\n",
            "(1, 3, 11)\n",
            "(1, 3, 12)\n",
            "(1, 3, 13)\n",
            "(1, 3, 14)\n",
            "(1, 3, 15)\n",
            "(1, 4, 5)\n",
            "(1, 4, 6)\n",
            "(1, 4, 7)\n",
            "(1, 4, 8)\n",
            "(1, 4, 9)\n",
            "(1, 4, 10)\n",
            "(1, 4, 11)\n",
            "(1, 4, 12)\n",
            "(1, 4, 13)\n",
            "(1, 4, 14)\n",
            "(1, 4, 15)\n",
            "(1, 5, 6)\n",
            "(1, 5, 7)\n",
            "(1, 5, 8)\n",
            "(1, 5, 9)\n",
            "(1, 5, 10)\n",
            "(1, 5, 11)\n",
            "(1, 5, 12)\n",
            "(1, 5, 13)\n",
            "(1, 5, 14)\n",
            "(1, 5, 15)\n",
            "(1, 6, 7)\n",
            "(1, 6, 8)\n",
            "(1, 6, 9)\n",
            "(1, 6, 10)\n",
            "(1, 6, 11)\n",
            "(1, 6, 12)\n",
            "(1, 6, 13)\n",
            "(1, 6, 14)\n",
            "(1, 6, 15)\n",
            "(1, 7, 8)\n",
            "(1, 7, 9)\n",
            "(1, 7, 10)\n",
            "(1, 7, 11)\n",
            "(1, 7, 12)\n",
            "(1, 7, 13)\n",
            "(1, 7, 14)\n",
            "(1, 7, 15)\n",
            "(1, 8, 9)\n",
            "(1, 8, 10)\n",
            "(1, 8, 11)\n",
            "(1, 8, 12)\n",
            "(1, 8, 13)\n",
            "(1, 8, 14)\n",
            "(1, 8, 15)\n",
            "(1, 9, 10)\n",
            "(1, 9, 11)\n",
            "(1, 9, 12)\n",
            "(1, 9, 13)\n",
            "(1, 9, 14)\n",
            "(1, 9, 15)\n",
            "(1, 10, 11)\n",
            "(1, 10, 12)\n",
            "(1, 10, 13)\n",
            "(1, 10, 14)\n",
            "(1, 10, 15)\n",
            "(1, 11, 12)\n",
            "(1, 11, 13)\n",
            "(1, 11, 14)\n",
            "(1, 11, 15)\n",
            "(1, 12, 13)\n",
            "(1, 12, 14)\n",
            "(1, 12, 15)\n",
            "(1, 13, 14)\n",
            "(1, 13, 15)\n",
            "(1, 14, 15)\n",
            "(2, 3, 4)\n",
            "(2, 3, 5)\n",
            "(2, 3, 6)\n",
            "(2, 3, 7)\n",
            "(2, 3, 8)\n",
            "(2, 3, 9)\n",
            "(2, 3, 10)\n",
            "(2, 3, 11)\n",
            "(2, 3, 12)\n",
            "(2, 3, 13)\n",
            "(2, 3, 14)\n",
            "(2, 3, 15)\n",
            "(2, 4, 5)\n",
            "(2, 4, 6)\n",
            "(2, 4, 7)\n",
            "(2, 4, 8)\n",
            "(2, 4, 9)\n",
            "(2, 4, 10)\n",
            "(2, 4, 11)\n",
            "(2, 4, 12)\n",
            "(2, 4, 13)\n",
            "(2, 4, 14)\n",
            "(2, 4, 15)\n",
            "(2, 5, 6)\n",
            "(2, 5, 7)\n",
            "(2, 5, 8)\n",
            "(2, 5, 9)\n",
            "(2, 5, 10)\n",
            "(2, 5, 11)\n",
            "(2, 5, 12)\n",
            "(2, 5, 13)\n",
            "(2, 5, 14)\n",
            "(2, 5, 15)\n",
            "(2, 6, 7)\n",
            "(2, 6, 8)\n",
            "(2, 6, 9)\n",
            "(2, 6, 10)\n",
            "(2, 6, 11)\n",
            "(2, 6, 12)\n",
            "(2, 6, 13)\n",
            "(2, 6, 14)\n",
            "(2, 6, 15)\n",
            "(2, 7, 8)\n",
            "(2, 7, 9)\n",
            "(2, 7, 10)\n",
            "(2, 7, 11)\n",
            "(2, 7, 12)\n",
            "(2, 7, 13)\n",
            "(2, 7, 14)\n",
            "(2, 7, 15)\n",
            "(2, 8, 9)\n",
            "(2, 8, 10)\n",
            "(2, 8, 11)\n",
            "(2, 8, 12)\n",
            "(2, 8, 13)\n",
            "(2, 8, 14)\n",
            "(2, 8, 15)\n",
            "(2, 9, 10)\n",
            "(2, 9, 11)\n",
            "(2, 9, 12)\n",
            "(2, 9, 13)\n",
            "(2, 9, 14)\n",
            "(2, 9, 15)\n",
            "(2, 10, 11)\n",
            "(2, 10, 12)\n",
            "(2, 10, 13)\n",
            "(2, 10, 14)\n",
            "(2, 10, 15)\n",
            "(2, 11, 12)\n",
            "(2, 11, 13)\n",
            "(2, 11, 14)\n",
            "(2, 11, 15)\n",
            "(2, 12, 13)\n",
            "(2, 12, 14)\n",
            "(2, 12, 15)\n",
            "(2, 13, 14)\n",
            "(2, 13, 15)\n",
            "(2, 14, 15)\n",
            "(3, 4, 5)\n",
            "(3, 4, 6)\n",
            "(3, 4, 7)\n",
            "(3, 4, 8)\n",
            "(3, 4, 9)\n",
            "(3, 4, 10)\n",
            "(3, 4, 11)\n",
            "(3, 4, 12)\n",
            "(3, 4, 13)\n",
            "(3, 4, 14)\n",
            "(3, 4, 15)\n",
            "(3, 5, 6)\n",
            "(3, 5, 7)\n",
            "(3, 5, 8)\n",
            "(3, 5, 9)\n",
            "(3, 5, 10)\n",
            "(3, 5, 11)\n",
            "(3, 5, 12)\n",
            "(3, 5, 13)\n",
            "(3, 5, 14)\n",
            "(3, 5, 15)\n",
            "(3, 6, 7)\n",
            "(3, 6, 8)\n",
            "(3, 6, 9)\n",
            "(3, 6, 10)\n",
            "(3, 6, 11)\n",
            "(3, 6, 12)\n",
            "(3, 6, 13)\n",
            "(3, 6, 14)\n",
            "(3, 6, 15)\n",
            "(3, 7, 8)\n",
            "(3, 7, 9)\n",
            "(3, 7, 10)\n",
            "(3, 7, 11)\n",
            "(3, 7, 12)\n",
            "(3, 7, 13)\n",
            "(3, 7, 14)\n",
            "(3, 7, 15)\n",
            "(3, 8, 9)\n",
            "(3, 8, 10)\n",
            "(3, 8, 11)\n",
            "(3, 8, 12)\n",
            "(3, 8, 13)\n",
            "(3, 8, 14)\n",
            "(3, 8, 15)\n",
            "(3, 9, 10)\n",
            "(3, 9, 11)\n",
            "(3, 9, 12)\n",
            "(3, 9, 13)\n",
            "(3, 9, 14)\n",
            "(3, 9, 15)\n",
            "(3, 10, 11)\n",
            "(3, 10, 12)\n",
            "(3, 10, 13)\n",
            "(3, 10, 14)\n",
            "(3, 10, 15)\n",
            "(3, 11, 12)\n",
            "(3, 11, 13)\n",
            "(3, 11, 14)\n",
            "(3, 11, 15)\n",
            "(3, 12, 13)\n",
            "(3, 12, 14)\n",
            "(3, 12, 15)\n",
            "(3, 13, 14)\n",
            "(3, 13, 15)\n",
            "(3, 14, 15)\n",
            "(4, 5, 6)\n",
            "(4, 5, 7)\n",
            "(4, 5, 8)\n",
            "(4, 5, 9)\n",
            "(4, 5, 10)\n",
            "(4, 5, 11)\n",
            "(4, 5, 12)\n",
            "(4, 5, 13)\n",
            "(4, 5, 14)\n",
            "(4, 5, 15)\n",
            "(4, 6, 7)\n",
            "(4, 6, 8)\n",
            "(4, 6, 9)\n",
            "(4, 6, 10)\n",
            "(4, 6, 11)\n",
            "(4, 6, 12)\n",
            "(4, 6, 13)\n",
            "(4, 6, 14)\n",
            "(4, 6, 15)\n",
            "(4, 7, 8)\n",
            "(4, 7, 9)\n",
            "(4, 7, 10)\n",
            "(4, 7, 11)\n",
            "(4, 7, 12)\n",
            "(4, 7, 13)\n",
            "(4, 7, 14)\n",
            "(4, 7, 15)\n",
            "(4, 8, 9)\n",
            "(4, 8, 10)\n",
            "(4, 8, 11)\n",
            "(4, 8, 12)\n",
            "(4, 8, 13)\n",
            "(4, 8, 14)\n",
            "(4, 8, 15)\n",
            "(4, 9, 10)\n",
            "(4, 9, 11)\n",
            "(4, 9, 12)\n",
            "(4, 9, 13)\n",
            "(4, 9, 14)\n",
            "(4, 9, 15)\n",
            "(4, 10, 11)\n",
            "(4, 10, 12)\n",
            "(4, 10, 13)\n",
            "(4, 10, 14)\n",
            "(4, 10, 15)\n",
            "(4, 11, 12)\n",
            "(4, 11, 13)\n",
            "(4, 11, 14)\n",
            "(4, 11, 15)\n",
            "(4, 12, 13)\n",
            "(4, 12, 14)\n",
            "(4, 12, 15)\n",
            "(4, 13, 14)\n",
            "(4, 13, 15)\n",
            "(4, 14, 15)\n",
            "(5, 6, 7)\n",
            "(5, 6, 8)\n",
            "(5, 6, 9)\n",
            "(5, 6, 10)\n",
            "(5, 6, 11)\n",
            "(5, 6, 12)\n",
            "(5, 6, 13)\n",
            "(5, 6, 14)\n",
            "(5, 6, 15)\n",
            "(5, 7, 8)\n",
            "(5, 7, 9)\n",
            "(5, 7, 10)\n",
            "(5, 7, 11)\n",
            "(5, 7, 12)\n",
            "(5, 7, 13)\n",
            "(5, 7, 14)\n",
            "(5, 7, 15)\n",
            "(5, 8, 9)\n",
            "(5, 8, 10)\n",
            "(5, 8, 11)\n",
            "(5, 8, 12)\n",
            "(5, 8, 13)\n",
            "(5, 8, 14)\n",
            "(5, 8, 15)\n",
            "(5, 9, 10)\n",
            "(5, 9, 11)\n",
            "(5, 9, 12)\n",
            "(5, 9, 13)\n",
            "(5, 9, 14)\n",
            "(5, 9, 15)\n",
            "(5, 10, 11)\n",
            "(5, 10, 12)\n",
            "(5, 10, 13)\n",
            "(5, 10, 14)\n",
            "(5, 10, 15)\n",
            "(5, 11, 12)\n",
            "(5, 11, 13)\n",
            "(5, 11, 14)\n",
            "(5, 11, 15)\n",
            "(5, 12, 13)\n",
            "(5, 12, 14)\n",
            "(5, 12, 15)\n",
            "(5, 13, 14)\n",
            "(5, 13, 15)\n",
            "(5, 14, 15)\n",
            "(6, 7, 8)\n",
            "(6, 7, 9)\n",
            "(6, 7, 10)\n",
            "(6, 7, 11)\n",
            "(6, 7, 12)\n",
            "(6, 7, 13)\n",
            "(6, 7, 14)\n",
            "(6, 7, 15)\n",
            "(6, 8, 9)\n",
            "(6, 8, 10)\n",
            "(6, 8, 11)\n",
            "(6, 8, 12)\n",
            "(6, 8, 13)\n",
            "(6, 8, 14)\n",
            "(6, 8, 15)\n",
            "(6, 9, 10)\n",
            "(6, 9, 11)\n",
            "(6, 9, 12)\n",
            "(6, 9, 13)\n",
            "(6, 9, 14)\n",
            "(6, 9, 15)\n",
            "(6, 10, 11)\n",
            "(6, 10, 12)\n",
            "(6, 10, 13)\n",
            "(6, 10, 14)\n",
            "(6, 10, 15)\n",
            "(6, 11, 12)\n",
            "(6, 11, 13)\n",
            "(6, 11, 14)\n",
            "(6, 11, 15)\n",
            "(6, 12, 13)\n",
            "(6, 12, 14)\n",
            "(6, 12, 15)\n",
            "(6, 13, 14)\n",
            "(6, 13, 15)\n",
            "(6, 14, 15)\n",
            "(7, 8, 9)\n",
            "(7, 8, 10)\n",
            "(7, 8, 11)\n",
            "(7, 8, 12)\n",
            "(7, 8, 13)\n",
            "(7, 8, 14)\n",
            "(7, 8, 15)\n",
            "(7, 9, 10)\n",
            "(7, 9, 11)\n",
            "(7, 9, 12)\n",
            "(7, 9, 13)\n",
            "(7, 9, 14)\n",
            "(7, 9, 15)\n",
            "(7, 10, 11)\n",
            "(7, 10, 12)\n",
            "(7, 10, 13)\n",
            "(7, 10, 14)\n",
            "(7, 10, 15)\n",
            "(7, 11, 12)\n",
            "(7, 11, 13)\n",
            "(7, 11, 14)\n",
            "(7, 11, 15)\n",
            "(7, 12, 13)\n",
            "(7, 12, 14)\n",
            "(7, 12, 15)\n",
            "(7, 13, 14)\n",
            "(7, 13, 15)\n",
            "(7, 14, 15)\n",
            "(8, 9, 10)\n",
            "(8, 9, 11)\n",
            "(8, 9, 12)\n",
            "(8, 9, 13)\n",
            "(8, 9, 14)\n",
            "(8, 9, 15)\n",
            "(8, 10, 11)\n",
            "(8, 10, 12)\n",
            "(8, 10, 13)\n",
            "(8, 10, 14)\n",
            "(8, 10, 15)\n",
            "(8, 11, 12)\n",
            "(8, 11, 13)\n",
            "(8, 11, 14)\n",
            "(8, 11, 15)\n",
            "(8, 12, 13)\n",
            "(8, 12, 14)\n",
            "(8, 12, 15)\n",
            "(8, 13, 14)\n",
            "(8, 13, 15)\n",
            "(8, 14, 15)\n",
            "(9, 10, 11)\n",
            "(9, 10, 12)\n",
            "(9, 10, 13)\n",
            "(9, 10, 14)\n",
            "(9, 10, 15)\n",
            "(9, 11, 12)\n",
            "(9, 11, 13)\n",
            "(9, 11, 14)\n",
            "(9, 11, 15)\n",
            "(9, 12, 13)\n",
            "(9, 12, 14)\n",
            "(9, 12, 15)\n",
            "(9, 13, 14)\n",
            "(9, 13, 15)\n",
            "(9, 14, 15)\n",
            "(10, 11, 12)\n",
            "(10, 11, 13)\n",
            "(10, 11, 14)\n",
            "(10, 11, 15)\n",
            "(10, 12, 13)\n",
            "(10, 12, 14)\n",
            "(10, 12, 15)\n",
            "(10, 13, 14)\n",
            "(10, 13, 15)\n",
            "(10, 14, 15)\n",
            "(11, 12, 13)\n",
            "(11, 12, 14)\n",
            "(11, 12, 15)\n",
            "(11, 13, 14)\n",
            "(11, 13, 15)\n",
            "(11, 14, 15)\n",
            "(12, 13, 14)\n",
            "(12, 13, 15)\n",
            "(12, 14, 15)\n",
            "(13, 14, 15)\n"
          ],
          "name": "stdout"
        }
      ]
    },
    {
      "cell_type": "markdown",
      "metadata": {
        "id": "Ns-YRiUurKzp",
        "colab_type": "text"
      },
      "source": [
        "With this output in mind, implement the logic for nearby bin search:"
      ]
    },
    {
      "cell_type": "code",
      "metadata": {
        "id": "rixh0HDZrKzp",
        "colab_type": "code",
        "colab": {}
      },
      "source": [
        "def search_nearby_bins(query_bin_bits, table, search_radius=2, initial_candidates=set()):\n",
        "    \"\"\"\n",
        "    For a given query vector and trained LSH model, return all candidate neighbors for\n",
        "    the query among all bins within the given search radius.\n",
        "    \n",
        "    Example usage\n",
        "    -------------\n",
        "    >>> model = train_lsh(corpus, num_vector=16, seed=143)\n",
        "    >>> q = model['bin_index_bits'][0]  # vector for the first document\n",
        "  \n",
        "    >>> candidates = search_nearby_bins(q, model['table'])\n",
        "    \"\"\"\n",
        "    num_vector = len(query_bin_bits)\n",
        "    powers_of_two = 1 << np.arange(num_vector-1, -1, -1)\n",
        "    \n",
        "    # Allow the user to provide an initial set of candidates.\n",
        "    candidate_set = copy(initial_candidates)\n",
        "    \n",
        "    for different_bits in combinations(range(num_vector), search_radius):       \n",
        "        # Flip the bits (n_1,n_2,...,n_r) of the query bin to produce a new bit vector.\n",
        "        ## Hint: you can iterate over a tuple like a list\n",
        "        alternate_bits = copy(query_bin_bits)\n",
        "        for i in different_bits:\n",
        "            alternate_bits[i] = ~alternate_bits[i] # YOUR CODE HERE \n",
        "        \n",
        "        # Convert the new bit vector to an integer index\n",
        "        nearby_bin = alternate_bits.dot(powers_of_two)\n",
        "        \n",
        "        # Fetch the list of documents belonging to the bin indexed by the new bit vector.\n",
        "        # Then add those documents to candidate_set\n",
        "        # Make sure that the bin exists in the table!\n",
        "        # Hint: update() method for sets lets you add an entire list to the set\n",
        "        if nearby_bin in table:\n",
        "            more_docs = table[nearby_bin] # Get all document_ids of the bin\n",
        "            candidate_set.update(more_docs)  # YOUR CODE HERE: Update candidate_set with the documents in this bin.\n",
        "            \n",
        "    return candidate_set"
      ],
      "execution_count": 49,
      "outputs": []
    },
    {
      "cell_type": "markdown",
      "metadata": {
        "id": "_dYCa9FjrKzu",
        "colab_type": "text"
      },
      "source": [
        "**Checkpoint**. Running the function with `search_radius=0` should yield the list of documents belonging to the same bin as the query."
      ]
    },
    {
      "cell_type": "code",
      "metadata": {
        "id": "9Zg85nOBrKzv",
        "colab_type": "code",
        "colab": {
          "base_uri": "https://localhost:8080/",
          "height": 51
        },
        "outputId": "b4ab1b64-0dae-410f-f2a2-f023bcbacbae"
      },
      "source": [
        "obama_bin_index = model['bin_indices_bits'][35817] # bin index of Barack Obama\n",
        "candidate_set = search_nearby_bins(obama_bin_index, model['table'], search_radius=0)\n",
        "if candidate_set == set({35817, 54743}):\n",
        "    print('Passed test')\n",
        "else:\n",
        "    print('Check your code')\n",
        "print('List of documents in the same bin as Obama: {}'.format(candidate_set))"
      ],
      "execution_count": 50,
      "outputs": [
        {
          "output_type": "stream",
          "text": [
            "Passed test\n",
            "List of documents in the same bin as Obama: {35817, 54743}\n"
          ],
          "name": "stdout"
        }
      ]
    },
    {
      "cell_type": "markdown",
      "metadata": {
        "id": "Vxb3kuVVrKzy",
        "colab_type": "text"
      },
      "source": [
        "**Checkpoint**. Running the function with `search_radius=1` adds more documents to the fore."
      ]
    },
    {
      "cell_type": "code",
      "metadata": {
        "id": "8jn9VfAlrKzz",
        "colab_type": "code",
        "colab": {
          "base_uri": "https://localhost:8080/",
          "height": 71
        },
        "outputId": "b7190ddf-3b15-4c7a-dd60-0d6fb91181bc"
      },
      "source": [
        "candidate_set = search_nearby_bins(obama_bin_index, model['table'], search_radius=1, initial_candidates=candidate_set)\n",
        "if candidate_set == set({42243, 28804, 1810, 48919, 24478, 31010, 7331, 23716, 51108, 48040, 36266, 33200, 25023, 23617, 54743, 34910, 35817, 34159, 14451, 23926, 39032, 12028, 43775}):\n",
        "    print('Passed test')\n",
        "else:\n",
        "    print('Check your code')\n",
        "print(candidate_set)"
      ],
      "execution_count": 51,
      "outputs": [
        {
          "output_type": "stream",
          "text": [
            "Passed test\n",
            "{42243, 28804, 1810, 48919, 24478, 31010, 7331, 23716, 51108, 48040, 36266, 33200, 25023, 23617, 54743, 34910, 35817, 34159, 14451, 23926, 39032, 12028, 43775}\n"
          ],
          "name": "stdout"
        }
      ]
    },
    {
      "cell_type": "markdown",
      "metadata": {
        "id": "JDYkBU4rrKz4",
        "colab_type": "text"
      },
      "source": [
        "**Note**. Don't be surprised if few of the candidates look similar to Obama. This is why we add as many candidates as our computational budget allows and sort them by their distance to the query."
      ]
    },
    {
      "cell_type": "markdown",
      "metadata": {
        "id": "nIB4rDqSrKz5",
        "colab_type": "text"
      },
      "source": [
        "Now we have a function that can return all the candidates from neighboring bins. Next we write a function to collect all candidates and compute their true distance to the query."
      ]
    },
    {
      "cell_type": "code",
      "metadata": {
        "scrolled": true,
        "id": "ysG-RXe3rKz6",
        "colab_type": "code",
        "colab": {}
      },
      "source": [
        "def query(vec, model, k, max_search_radius):\n",
        "  \n",
        "    data = model['data']\n",
        "    table = model['table']\n",
        "    random_vectors = model['random_vectors']\n",
        "    num_vector = random_vectors.shape[1]\n",
        "    \n",
        "    \n",
        "    # Compute bin index for the query vector, in bit representation.\n",
        "    bin_index_bits = (vec.dot(random_vectors) >= 0).flatten()\n",
        "    \n",
        "    # Search nearby bins and collect candidates\n",
        "    candidate_set = set()\n",
        "    for search_radius in range(max_search_radius+1):\n",
        "        candidate_set = search_nearby_bins(bin_index_bits, table, search_radius, initial_candidates=candidate_set)\n",
        "    \n",
        "    # Sort candidates by their true distances from the query\n",
        "    nearest_neighbors = turicreate.SFrame({'id':candidate_set})\n",
        "    candidates = data[np.array(list(candidate_set)),:]\n",
        "    nearest_neighbors['distance'] = pairwise_distances(candidates, vec, metric='cosine').flatten()\n",
        "    \n",
        "    return nearest_neighbors.topk('distance', k, reverse=True), len(candidate_set)"
      ],
      "execution_count": 52,
      "outputs": []
    },
    {
      "cell_type": "markdown",
      "metadata": {
        "id": "J2F8GlvsrKz9",
        "colab_type": "text"
      },
      "source": [
        "Let's try it out with Obama:"
      ]
    },
    {
      "cell_type": "code",
      "metadata": {
        "id": "s2eWZYW4rKz-",
        "colab_type": "code",
        "colab": {
          "base_uri": "https://localhost:8080/",
          "height": 391
        },
        "outputId": "0b2f2f25-c290-4a6d-bdc4-3988847c2cca"
      },
      "source": [
        "query(corpus[35817,:], model, k=10, max_search_radius=3)"
      ],
      "execution_count": 53,
      "outputs": [
        {
          "output_type": "execute_result",
          "data": {
            "text/plain": [
              "(Columns:\n",
              " \tid\tint\n",
              " \tdistance\tfloat\n",
              " \n",
              " Rows: 10\n",
              " \n",
              " Data:\n",
              " +-------+------------------------+\n",
              " |   id  |        distance        |\n",
              " +-------+------------------------+\n",
              " | 35817 | 1.1102230246251565e-16 |\n",
              " | 24478 |   0.703138676733575    |\n",
              " | 38376 |   0.7429819023278823   |\n",
              " |  4032 |   0.8145547486714284   |\n",
              " | 43155 |   0.8408390074837325   |\n",
              " | 20159 |   0.844036884280093    |\n",
              " | 11517 |   0.8483420107162964   |\n",
              " | 46332 |   0.8897020225435585   |\n",
              " | 22063 |   0.8946710479694914   |\n",
              " | 10437 |   0.9001571479475322   |\n",
              " +-------+------------------------+\n",
              " [10 rows x 2 columns], 771)"
            ]
          },
          "metadata": {
            "tags": []
          },
          "execution_count": 53
        }
      ]
    },
    {
      "cell_type": "markdown",
      "metadata": {
        "id": "A1BtBZpSrK0C",
        "colab_type": "text"
      },
      "source": [
        "To identify the documents, it's helpful to join this table with the Wikipedia table:"
      ]
    },
    {
      "cell_type": "code",
      "metadata": {
        "id": "uG0o25n-rK0D",
        "colab_type": "code",
        "colab": {
          "base_uri": "https://localhost:8080/",
          "height": 245
        },
        "outputId": "a86237e0-a398-43e1-bd84-af1f5e685669"
      },
      "source": [
        "query(corpus[35817,:], model, k=10, max_search_radius=3)[0].join(wiki[['id', 'name']], on='id').sort('distance')"
      ],
      "execution_count": 54,
      "outputs": [
        {
          "output_type": "execute_result",
          "data": {
            "text/html": [
              "<div style=\"max-height:1000px;max-width:1500px;overflow:auto;\"><table frame=\"box\" rules=\"cols\">\n",
              "    <tr>\n",
              "        <th style=\"padding-left: 1em; padding-right: 1em; text-align: center\">id</th>\n",
              "        <th style=\"padding-left: 1em; padding-right: 1em; text-align: center\">distance</th>\n",
              "        <th style=\"padding-left: 1em; padding-right: 1em; text-align: center\">name</th>\n",
              "    </tr>\n",
              "    <tr>\n",
              "        <td style=\"padding-left: 1em; padding-right: 1em; text-align: center; vertical-align: top\">35817</td>\n",
              "        <td style=\"padding-left: 1em; padding-right: 1em; text-align: center; vertical-align: top\">1.1102230246251565e-16</td>\n",
              "        <td style=\"padding-left: 1em; padding-right: 1em; text-align: center; vertical-align: top\">Barack Obama</td>\n",
              "    </tr>\n",
              "    <tr>\n",
              "        <td style=\"padding-left: 1em; padding-right: 1em; text-align: center; vertical-align: top\">24478</td>\n",
              "        <td style=\"padding-left: 1em; padding-right: 1em; text-align: center; vertical-align: top\">0.703138676733575</td>\n",
              "        <td style=\"padding-left: 1em; padding-right: 1em; text-align: center; vertical-align: top\">Joe Biden</td>\n",
              "    </tr>\n",
              "    <tr>\n",
              "        <td style=\"padding-left: 1em; padding-right: 1em; text-align: center; vertical-align: top\">38376</td>\n",
              "        <td style=\"padding-left: 1em; padding-right: 1em; text-align: center; vertical-align: top\">0.7429819023278823</td>\n",
              "        <td style=\"padding-left: 1em; padding-right: 1em; text-align: center; vertical-align: top\">Samantha Power</td>\n",
              "    </tr>\n",
              "    <tr>\n",
              "        <td style=\"padding-left: 1em; padding-right: 1em; text-align: center; vertical-align: top\">4032</td>\n",
              "        <td style=\"padding-left: 1em; padding-right: 1em; text-align: center; vertical-align: top\">0.8145547486714284</td>\n",
              "        <td style=\"padding-left: 1em; padding-right: 1em; text-align: center; vertical-align: top\">Kenneth D. Thompson</td>\n",
              "    </tr>\n",
              "    <tr>\n",
              "        <td style=\"padding-left: 1em; padding-right: 1em; text-align: center; vertical-align: top\">43155</td>\n",
              "        <td style=\"padding-left: 1em; padding-right: 1em; text-align: center; vertical-align: top\">0.8408390074837325</td>\n",
              "        <td style=\"padding-left: 1em; padding-right: 1em; text-align: center; vertical-align: top\">Goodwin Liu</td>\n",
              "    </tr>\n",
              "    <tr>\n",
              "        <td style=\"padding-left: 1em; padding-right: 1em; text-align: center; vertical-align: top\">20159</td>\n",
              "        <td style=\"padding-left: 1em; padding-right: 1em; text-align: center; vertical-align: top\">0.844036884280093</td>\n",
              "        <td style=\"padding-left: 1em; padding-right: 1em; text-align: center; vertical-align: top\">Charlie Crist</td>\n",
              "    </tr>\n",
              "    <tr>\n",
              "        <td style=\"padding-left: 1em; padding-right: 1em; text-align: center; vertical-align: top\">11517</td>\n",
              "        <td style=\"padding-left: 1em; padding-right: 1em; text-align: center; vertical-align: top\">0.8483420107162964</td>\n",
              "        <td style=\"padding-left: 1em; padding-right: 1em; text-align: center; vertical-align: top\">Louis Susman</td>\n",
              "    </tr>\n",
              "    <tr>\n",
              "        <td style=\"padding-left: 1em; padding-right: 1em; text-align: center; vertical-align: top\">46332</td>\n",
              "        <td style=\"padding-left: 1em; padding-right: 1em; text-align: center; vertical-align: top\">0.8897020225435585</td>\n",
              "        <td style=\"padding-left: 1em; padding-right: 1em; text-align: center; vertical-align: top\">Tom Tancredo</td>\n",
              "    </tr>\n",
              "    <tr>\n",
              "        <td style=\"padding-left: 1em; padding-right: 1em; text-align: center; vertical-align: top\">22063</td>\n",
              "        <td style=\"padding-left: 1em; padding-right: 1em; text-align: center; vertical-align: top\">0.8946710479694914</td>\n",
              "        <td style=\"padding-left: 1em; padding-right: 1em; text-align: center; vertical-align: top\">Kathryn Troutman</td>\n",
              "    </tr>\n",
              "    <tr>\n",
              "        <td style=\"padding-left: 1em; padding-right: 1em; text-align: center; vertical-align: top\">10437</td>\n",
              "        <td style=\"padding-left: 1em; padding-right: 1em; text-align: center; vertical-align: top\">0.9001571479475322</td>\n",
              "        <td style=\"padding-left: 1em; padding-right: 1em; text-align: center; vertical-align: top\">David J. Hayes</td>\n",
              "    </tr>\n",
              "</table>\n",
              "[10 rows x 3 columns]<br/>\n",
              "</div>"
            ],
            "text/plain": [
              "Columns:\n",
              "\tid\tint\n",
              "\tdistance\tfloat\n",
              "\tname\tstr\n",
              "\n",
              "Rows: 10\n",
              "\n",
              "Data:\n",
              "+-------+------------------------+---------------------+\n",
              "|   id  |        distance        |         name        |\n",
              "+-------+------------------------+---------------------+\n",
              "| 35817 | 1.1102230246251565e-16 |     Barack Obama    |\n",
              "| 24478 |   0.703138676733575    |      Joe Biden      |\n",
              "| 38376 |   0.7429819023278823   |    Samantha Power   |\n",
              "|  4032 |   0.8145547486714284   | Kenneth D. Thompson |\n",
              "| 43155 |   0.8408390074837325   |     Goodwin Liu     |\n",
              "| 20159 |   0.844036884280093    |    Charlie Crist    |\n",
              "| 11517 |   0.8483420107162964   |     Louis Susman    |\n",
              "| 46332 |   0.8897020225435585   |     Tom Tancredo    |\n",
              "| 22063 |   0.8946710479694914   |   Kathryn Troutman  |\n",
              "| 10437 |   0.9001571479475322   |    David J. Hayes   |\n",
              "+-------+------------------------+---------------------+\n",
              "[10 rows x 3 columns]"
            ]
          },
          "metadata": {
            "tags": []
          },
          "execution_count": 54
        }
      ]
    },
    {
      "cell_type": "markdown",
      "metadata": {
        "id": "hI3-Wp_BrK0G",
        "colab_type": "text"
      },
      "source": [
        "We have shown that we have a working LSH implementation!"
      ]
    },
    {
      "cell_type": "markdown",
      "metadata": {
        "id": "y96XA1jirK0G",
        "colab_type": "text"
      },
      "source": [
        "# Experimenting with your LSH implementation"
      ]
    },
    {
      "cell_type": "markdown",
      "metadata": {
        "id": "Wn6IZJkqrK0I",
        "colab_type": "text"
      },
      "source": [
        "In the following sections we have implemented a few experiments so that you can gain intuition for how your LSH implementation behaves in different situations. This will help you understand the effect of searching nearby bins and the performance of LSH versus computing nearest neighbors using a brute force search."
      ]
    },
    {
      "cell_type": "markdown",
      "metadata": {
        "id": "VfzC47XorK0J",
        "colab_type": "text"
      },
      "source": [
        "## Effect of nearby bin search"
      ]
    },
    {
      "cell_type": "markdown",
      "metadata": {
        "id": "KasEpRMbrK0J",
        "colab_type": "text"
      },
      "source": [
        "How does nearby bin search affect the outcome of LSH? There are three variables that are affected by the search radius:\n",
        "* Number of candidate documents considered\n",
        "* Query time\n",
        "* Distance of approximate neighbors from the query"
      ]
    },
    {
      "cell_type": "markdown",
      "metadata": {
        "id": "FSEPoGqjrK0K",
        "colab_type": "text"
      },
      "source": [
        "Let us run LSH multiple times, each with different radii for nearby bin search. We will measure the three variables as discussed above."
      ]
    },
    {
      "cell_type": "code",
      "metadata": {
        "id": "KX7N-sCcrK0L",
        "colab_type": "code",
        "colab": {
          "base_uri": "https://localhost:8080/",
          "height": 125
        },
        "outputId": "4773ecab-d693-4dad-e1b8-2ba445368616"
      },
      "source": [
        "wiki[wiki['name']=='Barack Obama']"
      ],
      "execution_count": 55,
      "outputs": [
        {
          "output_type": "execute_result",
          "data": {
            "text/html": [
              "<div style=\"max-height:1000px;max-width:1500px;overflow:auto;\"><table frame=\"box\" rules=\"cols\">\n",
              "    <tr>\n",
              "        <th style=\"padding-left: 1em; padding-right: 1em; text-align: center\">id</th>\n",
              "        <th style=\"padding-left: 1em; padding-right: 1em; text-align: center\">URI</th>\n",
              "        <th style=\"padding-left: 1em; padding-right: 1em; text-align: center\">name</th>\n",
              "        <th style=\"padding-left: 1em; padding-right: 1em; text-align: center\">text</th>\n",
              "        <th style=\"padding-left: 1em; padding-right: 1em; text-align: center\">tf_idf</th>\n",
              "    </tr>\n",
              "    <tr>\n",
              "        <td style=\"padding-left: 1em; padding-right: 1em; text-align: center; vertical-align: top\">35817</td>\n",
              "        <td style=\"padding-left: 1em; padding-right: 1em; text-align: center; vertical-align: top\">&lt;http://dbpedia.org/resou<br>rce/Barack_Obama&gt; ...</td>\n",
              "        <td style=\"padding-left: 1em; padding-right: 1em; text-align: center; vertical-align: top\">Barack Obama</td>\n",
              "        <td style=\"padding-left: 1em; padding-right: 1em; text-align: center; vertical-align: top\">barack hussein obama ii<br>brk husen bm born august ...</td>\n",
              "        <td style=\"padding-left: 1em; padding-right: 1em; text-align: center; vertical-align: top\">{&#x27;normalize&#x27;:<br>10.293348208665249, ...</td>\n",
              "    </tr>\n",
              "</table>\n",
              "[? rows x 5 columns]<br/>Note: Only the head of the SFrame is printed. This SFrame is lazily evaluated.<br/>You can use sf.materialize() to force materialization.\n",
              "</div>"
            ],
            "text/plain": [
              "Columns:\n",
              "\tid\tint\n",
              "\tURI\tstr\n",
              "\tname\tstr\n",
              "\ttext\tstr\n",
              "\ttf_idf\tdict\n",
              "\n",
              "Rows: Unknown\n",
              "\n",
              "Data:\n",
              "+-------+-------------------------------+--------------+\n",
              "|   id  |              URI              |     name     |\n",
              "+-------+-------------------------------+--------------+\n",
              "| 35817 | <http://dbpedia.org/resour... | Barack Obama |\n",
              "+-------+-------------------------------+--------------+\n",
              "+-------------------------------+-------------------------------+\n",
              "|              text             |             tf_idf            |\n",
              "+-------------------------------+-------------------------------+\n",
              "| barack hussein obama ii br... | {'normalize': 10.293348208... |\n",
              "+-------------------------------+-------------------------------+\n",
              "[? rows x 5 columns]\n",
              "Note: Only the head of the SFrame is printed. This SFrame is lazily evaluated.\n",
              "You can use sf.materialize() to force materialization."
            ]
          },
          "metadata": {
            "tags": []
          },
          "execution_count": 55
        }
      ]
    },
    {
      "cell_type": "code",
      "metadata": {
        "scrolled": true,
        "id": "UHvfT68drK0O",
        "colab_type": "code",
        "colab": {
          "base_uri": "https://localhost:8080/",
          "height": 1000
        },
        "outputId": "5afb3d57-671d-4ec0-8834-f34cbc4b2274"
      },
      "source": [
        "%%time\n",
        "num_candidates_history = []\n",
        "query_time_history = []\n",
        "max_distance_from_query_history = []\n",
        "min_distance_from_query_history = []\n",
        "average_distance_from_query_history = []\n",
        "\n",
        "for max_search_radius in range(17):\n",
        "    start=time.time()\n",
        "    result, num_candidates = query(corpus[35817,:], model, k=10,\n",
        "                                   max_search_radius=max_search_radius)\n",
        "    end=time.time()\n",
        "    query_time = end-start\n",
        "    \n",
        "    print('Radius:', max_search_radius)\n",
        "    print(result.join(wiki[['id', 'name']], on='id').sort('distance'))\n",
        "    \n",
        "    average_distance_from_query = result['distance'][1:].mean()\n",
        "    max_distance_from_query = result['distance'][1:].max()\n",
        "    min_distance_from_query = result['distance'][1:].min()\n",
        "    \n",
        "    num_candidates_history.append(num_candidates)\n",
        "    query_time_history.append(query_time)\n",
        "    average_distance_from_query_history.append(average_distance_from_query)\n",
        "    max_distance_from_query_history.append(max_distance_from_query)\n",
        "    min_distance_from_query_history.append(min_distance_from_query)\n"
      ],
      "execution_count": 56,
      "outputs": [
        {
          "output_type": "stream",
          "text": [
            "Radius: 0\n",
            "+-------+------------------------+---------------------+\n",
            "|   id  |        distance        |         name        |\n",
            "+-------+------------------------+---------------------+\n",
            "| 35817 | 1.1102230246251565e-16 |     Barack Obama    |\n",
            "| 54743 |    0.97334561058472    | Radovan %C5%BDerjav |\n",
            "+-------+------------------------+---------------------+\n",
            "[2 rows x 3 columns]\n",
            "\n",
            "Radius: 1\n",
            "+-------+------------------------+------------------------------+\n",
            "|   id  |        distance        |             name             |\n",
            "+-------+------------------------+------------------------------+\n",
            "| 35817 | 1.1102230246251565e-16 |         Barack Obama         |\n",
            "| 24478 |   0.703138676733575    |          Joe Biden           |\n",
            "| 34159 |   0.9430865736846581   |       Jennifer Hudson        |\n",
            "| 23926 |   0.9608039657958866   | Se%C3%A1n Power (politician) |\n",
            "| 36266 |   0.9615994281067699   |         Ralph Weber          |\n",
            "| 33200 |    0.97101213334657    |         Emrah Yucel          |\n",
            "| 28804 |   0.9729856623983864   |     Matthew McConaughey      |\n",
            "| 54743 |    0.97334561058472    |     Radovan %C5%BDerjav      |\n",
            "|  7331 |   0.9735542076945761   |       Joselo D%C3%ADaz       |\n",
            "| 43775 |   0.9790856334914729   |       Carly Rae Jepsen       |\n",
            "+-------+------------------------+------------------------------+\n",
            "[10 rows x 3 columns]\n",
            "\n",
            "Radius: 2\n",
            "+-------+------------------------+--------------------------------+\n",
            "|   id  |        distance        |              name              |\n",
            "+-------+------------------------+--------------------------------+\n",
            "| 35817 | 1.1102230246251565e-16 |          Barack Obama          |\n",
            "| 24478 |   0.703138676733575    |           Joe Biden            |\n",
            "|  9051 |   0.9008406076426497   |         Newt Gingrich          |\n",
            "| 46253 |   0.9158128432084635   |        Francisco Rezek         |\n",
            "|  110  |   0.9346379007684388   |      Abdel Fattah el-Sisi      |\n",
            "| 40837 |   0.9370458058764901   |    Dovey Johnson Roundtree     |\n",
            "| 34159 |   0.9430865736846581   |        Jennifer Hudson         |\n",
            "| 28320 |   0.9460512776474829   |          Robert Reich          |\n",
            "| 33070 |   0.9466276757770745   |          Claude Allen          |\n",
            "|  3818 |   0.9484009651426074   | Tom Sawyer (Kansas politician) |\n",
            "+-------+------------------------+--------------------------------+\n",
            "[10 rows x 3 columns]\n",
            "\n",
            "Radius: 3\n",
            "+-------+------------------------+---------------------+\n",
            "|   id  |        distance        |         name        |\n",
            "+-------+------------------------+---------------------+\n",
            "| 35817 | 1.1102230246251565e-16 |     Barack Obama    |\n",
            "| 24478 |   0.703138676733575    |      Joe Biden      |\n",
            "| 38376 |   0.7429819023278823   |    Samantha Power   |\n",
            "|  4032 |   0.8145547486714284   | Kenneth D. Thompson |\n",
            "| 43155 |   0.8408390074837325   |     Goodwin Liu     |\n",
            "| 20159 |   0.844036884280093    |    Charlie Crist    |\n",
            "| 11517 |   0.8483420107162964   |     Louis Susman    |\n",
            "| 46332 |   0.8897020225435585   |     Tom Tancredo    |\n",
            "| 22063 |   0.8946710479694914   |   Kathryn Troutman  |\n",
            "| 10437 |   0.9001571479475322   |    David J. Hayes   |\n",
            "+-------+------------------------+---------------------+\n",
            "[10 rows x 3 columns]\n",
            "\n",
            "Radius: 4\n",
            "+-------+------------------------+---------------------+\n",
            "|   id  |        distance        |         name        |\n",
            "+-------+------------------------+---------------------+\n",
            "| 35817 | 1.1102230246251565e-16 |     Barack Obama    |\n",
            "| 24478 |   0.703138676733575    |      Joe Biden      |\n",
            "| 38376 |   0.7429819023278823   |    Samantha Power   |\n",
            "| 23737 |   0.8101646334648858   |  John D. McCormick  |\n",
            "|  4032 |   0.8145547486714284   | Kenneth D. Thompson |\n",
            "| 14754 |   0.826854025896727    |     Mitt Romney     |\n",
            "| 43155 |   0.8408390074837325   |     Goodwin Liu     |\n",
            "| 20159 |   0.844036884280093    |    Charlie Crist    |\n",
            "| 11517 |   0.8483420107162964   |     Louis Susman    |\n",
            "| 40184 |   0.8601570123329991   |     Chuck Hagel     |\n",
            "+-------+------------------------+---------------------+\n",
            "[10 rows x 3 columns]\n",
            "\n",
            "Radius: 5\n",
            "+-------+------------------------+-------------------------+\n",
            "|   id  |        distance        |           name          |\n",
            "+-------+------------------------+-------------------------+\n",
            "| 35817 | 1.1102230246251565e-16 |       Barack Obama      |\n",
            "| 24478 |   0.703138676733575    |        Joe Biden        |\n",
            "| 38376 |   0.7429819023278823   |      Samantha Power     |\n",
            "| 38714 |   0.7705612276009974   | Eric Stern (politician) |\n",
            "| 44681 |   0.790926415366316    |  Jesse Lee (politician) |\n",
            "|  2412 |   0.799466360041952    |     Joe the Plumber     |\n",
            "| 23737 |   0.8101646334648858   |    John D. McCormick    |\n",
            "|  4032 |   0.8145547486714284   |   Kenneth D. Thompson   |\n",
            "| 14754 |   0.826854025896727    |       Mitt Romney       |\n",
            "| 24848 |   0.8394067356676752   |     John C. Eastman     |\n",
            "+-------+------------------------+-------------------------+\n",
            "[10 rows x 3 columns]\n",
            "\n",
            "Radius: 6\n",
            "+-------+------------------------+-------------------------+\n",
            "|   id  |        distance        |           name          |\n",
            "+-------+------------------------+-------------------------+\n",
            "| 35817 | 1.1102230246251565e-16 |       Barack Obama      |\n",
            "| 24478 |   0.703138676733575    |        Joe Biden        |\n",
            "| 38376 |   0.7429819023278823   |      Samantha Power     |\n",
            "| 57108 |   0.7583583978869675   |  Hillary Rodham Clinton |\n",
            "| 38714 |   0.7705612276009974   | Eric Stern (politician) |\n",
            "|  6796 |   0.7880390729434776   |       Eric Holder       |\n",
            "| 44681 |   0.790926415366316    |  Jesse Lee (politician) |\n",
            "| 18827 |   0.7983226028934733   |       Henry Waxman      |\n",
            "|  2412 |   0.799466360041952    |     Joe the Plumber     |\n",
            "| 23737 |   0.8101646334648858   |    John D. McCormick    |\n",
            "+-------+------------------------+-------------------------+\n",
            "[10 rows x 3 columns]\n",
            "\n",
            "Radius: 7\n",
            "+-------+------------------------+-------------------------+\n",
            "|   id  |        distance        |           name          |\n",
            "+-------+------------------------+-------------------------+\n",
            "| 35817 | 1.1102230246251565e-16 |       Barack Obama      |\n",
            "| 24478 |   0.703138676733575    |        Joe Biden        |\n",
            "| 38376 |   0.7429819023278823   |      Samantha Power     |\n",
            "| 57108 |   0.7583583978869675   |  Hillary Rodham Clinton |\n",
            "| 38714 |   0.7705612276009974   | Eric Stern (politician) |\n",
            "| 46140 |    0.78467750475065    |       Robert Gibbs      |\n",
            "|  6796 |   0.7880390729434776   |       Eric Holder       |\n",
            "| 44681 |   0.790926415366316    |  Jesse Lee (politician) |\n",
            "| 18827 |   0.7983226028934733   |       Henry Waxman      |\n",
            "|  2412 |   0.799466360041952    |     Joe the Plumber     |\n",
            "+-------+------------------------+-------------------------+\n",
            "[10 rows x 3 columns]\n",
            "\n",
            "Radius: 8\n",
            "+-------+------------------------+-------------------------+\n",
            "|   id  |        distance        |           name          |\n",
            "+-------+------------------------+-------------------------+\n",
            "| 35817 | 1.1102230246251565e-16 |       Barack Obama      |\n",
            "| 24478 |   0.703138676733575    |        Joe Biden        |\n",
            "| 38376 |   0.7429819023278823   |      Samantha Power     |\n",
            "| 57108 |   0.7583583978869675   |  Hillary Rodham Clinton |\n",
            "| 38714 |   0.7705612276009974   | Eric Stern (politician) |\n",
            "| 46140 |    0.78467750475065    |       Robert Gibbs      |\n",
            "|  6796 |   0.7880390729434776   |       Eric Holder       |\n",
            "| 44681 |   0.790926415366316    |  Jesse Lee (politician) |\n",
            "| 18827 |   0.7983226028934733   |       Henry Waxman      |\n",
            "|  2412 |   0.799466360041952    |     Joe the Plumber     |\n",
            "+-------+------------------------+-------------------------+\n",
            "[10 rows x 3 columns]\n",
            "\n",
            "Radius: 9\n",
            "+-------+------------------------+-------------------------+\n",
            "|   id  |        distance        |           name          |\n",
            "+-------+------------------------+-------------------------+\n",
            "| 35817 | 1.1102230246251565e-16 |       Barack Obama      |\n",
            "| 24478 |   0.703138676733575    |        Joe Biden        |\n",
            "| 38376 |   0.7429819023278823   |      Samantha Power     |\n",
            "| 57108 |   0.7583583978869675   |  Hillary Rodham Clinton |\n",
            "| 38714 |   0.7705612276009974   | Eric Stern (politician) |\n",
            "| 46140 |    0.78467750475065    |       Robert Gibbs      |\n",
            "|  6796 |   0.7880390729434776   |       Eric Holder       |\n",
            "| 44681 |   0.790926415366316    |  Jesse Lee (politician) |\n",
            "| 18827 |   0.7983226028934733   |       Henry Waxman      |\n",
            "|  2412 |   0.799466360041952    |     Joe the Plumber     |\n",
            "+-------+------------------------+-------------------------+\n",
            "[10 rows x 3 columns]\n",
            "\n",
            "Radius: 10\n",
            "+-------+------------------------+-------------------------+\n",
            "|   id  |        distance        |           name          |\n",
            "+-------+------------------------+-------------------------+\n",
            "| 35817 | 1.1102230246251565e-16 |       Barack Obama      |\n",
            "| 24478 |   0.703138676733575    |        Joe Biden        |\n",
            "| 38376 |   0.7429819023278823   |      Samantha Power     |\n",
            "| 57108 |   0.7583583978869675   |  Hillary Rodham Clinton |\n",
            "| 38714 |   0.7705612276009974   | Eric Stern (politician) |\n",
            "| 46140 |    0.78467750475065    |       Robert Gibbs      |\n",
            "|  6796 |   0.7880390729434776   |       Eric Holder       |\n",
            "| 44681 |   0.790926415366316    |  Jesse Lee (politician) |\n",
            "| 18827 |   0.7983226028934733   |       Henry Waxman      |\n",
            "|  2412 |   0.799466360041952    |     Joe the Plumber     |\n",
            "+-------+------------------------+-------------------------+\n",
            "[10 rows x 3 columns]\n",
            "\n",
            "Radius: 11\n",
            "+-------+------------------------+-------------------------+\n",
            "|   id  |        distance        |           name          |\n",
            "+-------+------------------------+-------------------------+\n",
            "| 35817 | 1.1102230246251565e-16 |       Barack Obama      |\n",
            "| 24478 |   0.703138676733575    |        Joe Biden        |\n",
            "| 38376 |   0.7429819023278823   |      Samantha Power     |\n",
            "| 57108 |   0.7583583978869675   |  Hillary Rodham Clinton |\n",
            "| 38714 |   0.7705612276009974   | Eric Stern (politician) |\n",
            "| 46140 |    0.78467750475065    |       Robert Gibbs      |\n",
            "|  6796 |   0.7880390729434776   |       Eric Holder       |\n",
            "| 44681 |   0.790926415366316    |  Jesse Lee (politician) |\n",
            "| 18827 |   0.7983226028934733   |       Henry Waxman      |\n",
            "|  2412 |   0.799466360041952    |     Joe the Plumber     |\n",
            "+-------+------------------------+-------------------------+\n",
            "[10 rows x 3 columns]\n",
            "\n",
            "Radius: 12\n",
            "+-------+------------------------+-------------------------+\n",
            "|   id  |        distance        |           name          |\n",
            "+-------+------------------------+-------------------------+\n",
            "| 35817 | 1.1102230246251565e-16 |       Barack Obama      |\n",
            "| 24478 |   0.703138676733575    |        Joe Biden        |\n",
            "| 38376 |   0.7429819023278823   |      Samantha Power     |\n",
            "| 57108 |   0.7583583978869675   |  Hillary Rodham Clinton |\n",
            "| 38714 |   0.7705612276009974   | Eric Stern (politician) |\n",
            "| 46140 |    0.78467750475065    |       Robert Gibbs      |\n",
            "|  6796 |   0.7880390729434776   |       Eric Holder       |\n",
            "| 44681 |   0.790926415366316    |  Jesse Lee (politician) |\n",
            "| 18827 |   0.7983226028934733   |       Henry Waxman      |\n",
            "|  2412 |   0.799466360041952    |     Joe the Plumber     |\n",
            "+-------+------------------------+-------------------------+\n",
            "[10 rows x 3 columns]\n",
            "\n",
            "Radius: 13\n",
            "+-------+------------------------+-------------------------+\n",
            "|   id  |        distance        |           name          |\n",
            "+-------+------------------------+-------------------------+\n",
            "| 35817 | 1.1102230246251565e-16 |       Barack Obama      |\n",
            "| 24478 |   0.703138676733575    |        Joe Biden        |\n",
            "| 38376 |   0.7429819023278823   |      Samantha Power     |\n",
            "| 57108 |   0.7583583978869675   |  Hillary Rodham Clinton |\n",
            "| 38714 |   0.7705612276009974   | Eric Stern (politician) |\n",
            "| 46140 |    0.78467750475065    |       Robert Gibbs      |\n",
            "|  6796 |   0.7880390729434776   |       Eric Holder       |\n",
            "| 44681 |   0.790926415366316    |  Jesse Lee (politician) |\n",
            "| 18827 |   0.7983226028934733   |       Henry Waxman      |\n",
            "|  2412 |   0.799466360041952    |     Joe the Plumber     |\n",
            "+-------+------------------------+-------------------------+\n",
            "[10 rows x 3 columns]\n",
            "\n",
            "Radius: 14\n",
            "+-------+------------------------+-------------------------+\n",
            "|   id  |        distance        |           name          |\n",
            "+-------+------------------------+-------------------------+\n",
            "| 35817 | 1.1102230246251565e-16 |       Barack Obama      |\n",
            "| 24478 |   0.703138676733575    |        Joe Biden        |\n",
            "| 38376 |   0.7429819023278823   |      Samantha Power     |\n",
            "| 57108 |   0.7583583978869675   |  Hillary Rodham Clinton |\n",
            "| 38714 |   0.7705612276009974   | Eric Stern (politician) |\n",
            "| 46140 |    0.78467750475065    |       Robert Gibbs      |\n",
            "|  6796 |   0.7880390729434776   |       Eric Holder       |\n",
            "| 44681 |   0.790926415366316    |  Jesse Lee (politician) |\n",
            "| 18827 |   0.7983226028934733   |       Henry Waxman      |\n",
            "|  2412 |   0.799466360041952    |     Joe the Plumber     |\n",
            "+-------+------------------------+-------------------------+\n",
            "[10 rows x 3 columns]\n",
            "\n",
            "Radius: 15\n",
            "+-------+------------------------+-------------------------+\n",
            "|   id  |        distance        |           name          |\n",
            "+-------+------------------------+-------------------------+\n",
            "| 35817 | 1.1102230246251565e-16 |       Barack Obama      |\n",
            "| 24478 |   0.703138676733575    |        Joe Biden        |\n",
            "| 38376 |   0.7429819023278823   |      Samantha Power     |\n",
            "| 57108 |   0.7583583978869675   |  Hillary Rodham Clinton |\n",
            "| 38714 |   0.7705612276009974   | Eric Stern (politician) |\n",
            "| 46140 |    0.78467750475065    |       Robert Gibbs      |\n",
            "|  6796 |   0.7880390729434776   |       Eric Holder       |\n",
            "| 44681 |   0.790926415366316    |  Jesse Lee (politician) |\n",
            "| 18827 |   0.7983226028934733   |       Henry Waxman      |\n",
            "|  2412 |   0.799466360041952    |     Joe the Plumber     |\n",
            "+-------+------------------------+-------------------------+\n",
            "[10 rows x 3 columns]\n",
            "\n",
            "Radius: 16\n",
            "+-------+------------------------+-------------------------+\n",
            "|   id  |        distance        |           name          |\n",
            "+-------+------------------------+-------------------------+\n",
            "| 35817 | 1.1102230246251565e-16 |       Barack Obama      |\n",
            "| 24478 |   0.703138676733575    |        Joe Biden        |\n",
            "| 38376 |   0.7429819023278823   |      Samantha Power     |\n",
            "| 57108 |   0.7583583978869675   |  Hillary Rodham Clinton |\n",
            "| 38714 |   0.7705612276009974   | Eric Stern (politician) |\n",
            "| 46140 |    0.78467750475065    |       Robert Gibbs      |\n",
            "|  6796 |   0.7880390729434776   |       Eric Holder       |\n",
            "| 44681 |   0.790926415366316    |  Jesse Lee (politician) |\n",
            "| 18827 |   0.7983226028934733   |       Henry Waxman      |\n",
            "|  2412 |   0.799466360041952    |     Joe the Plumber     |\n",
            "+-------+------------------------+-------------------------+\n",
            "[10 rows x 3 columns]\n",
            "\n",
            "CPU times: user 9.08 s, sys: 157 ms, total: 9.24 s\n",
            "Wall time: 9.08 s\n"
          ],
          "name": "stdout"
        }
      ]
    },
    {
      "cell_type": "markdown",
      "metadata": {
        "id": "-wER5HvirK0R",
        "colab_type": "text"
      },
      "source": [
        "Notice that the top 10 query results become more relevant as the search radius grows. Let's plot the three variables:"
      ]
    },
    {
      "cell_type": "code",
      "metadata": {
        "id": "ediMN8LhrK0R",
        "colab_type": "code",
        "colab": {
          "base_uri": "https://localhost:8080/",
          "height": 926
        },
        "outputId": "4839fa5a-8f12-4b04-8da7-996c0b7fd330"
      },
      "source": [
        "plt.figure(figsize=(7,4.5))\n",
        "plt.plot(num_candidates_history, linewidth=4)\n",
        "plt.xlabel('Search radius')\n",
        "plt.ylabel('# of documents searched')\n",
        "plt.rcParams.update({'font.size':16})\n",
        "plt.tight_layout()\n",
        "\n",
        "plt.figure(figsize=(7,4.5))\n",
        "plt.plot(query_time_history, linewidth=4)\n",
        "plt.xlabel('Search radius')\n",
        "plt.ylabel('Query time (seconds)')\n",
        "plt.rcParams.update({'font.size':16})\n",
        "plt.tight_layout()\n",
        "\n",
        "plt.figure(figsize=(7,4.5))\n",
        "plt.plot(average_distance_from_query_history, linewidth=4, label='Average of 10 neighbors')\n",
        "plt.plot(max_distance_from_query_history, linewidth=4, label='Farthest of 10 neighbors')\n",
        "plt.plot(min_distance_from_query_history, linewidth=4, label='Closest of 10 neighbors')\n",
        "plt.xlabel('Search radius')\n",
        "plt.ylabel('Cosine distance of neighbors')\n",
        "plt.legend(loc='best', prop={'size':15})\n",
        "plt.rcParams.update({'font.size':16})\n",
        "plt.tight_layout()"
      ],
      "execution_count": 57,
      "outputs": [
        {
          "output_type": "display_data",
          "data": {
            "image/png": "[encoded data removed]",
            "text/plain": [
              "<Figure size 504x324 with 1 Axes>"
            ]
          },
          "metadata": {
            "tags": [],
            "needs_background": "light"
          }
        },
        {
          "output_type": "display_data",
          "data": {
            "image/png": "[encoded data removed]",
            "text/plain": [
              "<Figure size 504x324 with 1 Axes>"
            ]
          },
          "metadata": {
            "tags": [],
            "needs_background": "light"
          }
        },
        {
          "output_type": "display_data",
          "data": {
            "image/png": "[encoded data removed]",
            "text/plain": [
              "<Figure size 504x324 with 1 Axes>"
            ]
          },
          "metadata": {
            "tags": [],
            "needs_background": "light"
          }
        }
      ]
    },
    {
      "cell_type": "markdown",
      "metadata": {
        "id": "VpCUxI5rrK0V",
        "colab_type": "text"
      },
      "source": [
        "Some observations:\n",
        "* As we increase the search radius, we find more neighbors that are a smaller distance away.\n",
        "* With increased search radius comes a greater number documents that have to be searched. Query time is higher as a consequence.\n",
        "* With sufficiently high search radius, the results of LSH begin to resemble the results of brute-force search."
      ]
    },
    {
      "cell_type": "markdown",
      "metadata": {
        "id": "zP_yBNNBrK0W",
        "colab_type": "text"
      },
      "source": [
        "**Quiz Question**. What was the smallest search radius that yielded the correct nearest neighbor, namely Joe Biden?\n",
        "\n",
        "**Quiz Question**. Suppose our goal was to produce 10 approximate nearest neighbors whose average distance from the query document is within 0.01 of the average for the true 10 nearest neighbors. For Barack Obama, the true 10 nearest neighbors are on average about 0.77. What was the smallest search radius for Barack Obama that produced an average distance of 0.78 or better?"
      ]
    },
    {
      "cell_type": "markdown",
      "metadata": {
        "id": "1yo9tAhWz8ys",
        "colab_type": "text"
      },
      "source": [
        "**Answer:** What was the smallest search radius that yielded the correct nearest neighbor, namely Joe Biden?\n",
        "\n",
        "*   Based on result table, the answer is: Radius: 2\n",
        "\n",
        "**Answer:** Suppose our goal was to produce 10 approximate nearest neighbors whose average distance from the query document is within 0.01 of the average for the true 10 nearest neighbors. For Barack Obama, the true 10 nearest neighbors are on average about 0.77. What was the smallest search radius for Barack Obama that produced an average distance of 0.78 or better?\n",
        "\n",
        "*   Clearly, the smallest search radius is 7"
      ]
    },
    {
      "cell_type": "code",
      "metadata": {
        "id": "wHcWZZ4TrK0W",
        "colab_type": "code",
        "colab": {
          "base_uri": "https://localhost:8080/",
          "height": 204
        },
        "outputId": "cb5baab4-1778-49bb-91dc-a5cf0a5f8d27"
      },
      "source": [
        "for i, v in enumerate(average_distance_from_query_history):\n",
        "    if v <= 0.78:\n",
        "        print(i, v)"
      ],
      "execution_count": 59,
      "outputs": [
        {
          "output_type": "stream",
          "text": [
            "6 0.7735510321399475\n",
            "7 0.7707191289494768\n",
            "8 0.7707191289494768\n",
            "9 0.7707191289494768\n",
            "10 0.7707191289494768\n",
            "11 0.7707191289494768\n",
            "12 0.7707191289494768\n",
            "13 0.7707191289494768\n",
            "14 0.7707191289494768\n",
            "15 0.7707191289494768\n",
            "16 0.7707191289494768\n"
          ],
          "name": "stdout"
        }
      ]
    },
    {
      "cell_type": "markdown",
      "metadata": {
        "id": "qVgQ5r_4rK0b",
        "colab_type": "text"
      },
      "source": [
        "## Quality metrics for neighbors"
      ]
    },
    {
      "cell_type": "markdown",
      "metadata": {
        "id": "qcaxC-M7rK0b",
        "colab_type": "text"
      },
      "source": [
        "The above analysis is limited by the fact that it was run with a single query, namely Barack Obama. We should repeat the analysis for the entirety of data. Iterating over all documents would take a long time, so let us randomly choose 10 documents for our analysis.\n",
        "\n",
        "For each document, we first compute the true 25 nearest neighbors, and then run LSH multiple times. We look at two metrics:\n",
        "\n",
        "* Precision@10: How many of the 10 neighbors given by LSH are among the true 25 nearest neighbors?\n",
        "* Average cosine distance of the neighbors from the query\n",
        "\n",
        "Then we run LSH multiple times with different search radii."
      ]
    },
    {
      "cell_type": "code",
      "metadata": {
        "id": "yxytA0TQrK0d",
        "colab_type": "code",
        "colab": {}
      },
      "source": [
        "def brute_force_query(vec, data, k):\n",
        "    num_data_points = data.shape[0]\n",
        "    \n",
        "    # Compute distances for ALL data points in training set\n",
        "    nearest_neighbors = turicreate.SFrame({'id':range(num_data_points)})\n",
        "    nearest_neighbors['distance'] = pairwise_distances(data, vec, metric='cosine').flatten()\n",
        "    \n",
        "    return nearest_neighbors.topk('distance', k, reverse=True)"
      ],
      "execution_count": 60,
      "outputs": []
    },
    {
      "cell_type": "markdown",
      "metadata": {
        "id": "4Wa4gi_MrK0g",
        "colab_type": "text"
      },
      "source": [
        "The following cell will run LSH with multiple search radii and compute the quality metrics for each run. Allow a few minutes to complete."
      ]
    },
    {
      "cell_type": "code",
      "metadata": {
        "id": "mbNnkfMOrK0h",
        "colab_type": "code",
        "colab": {
          "base_uri": "https://localhost:8080/",
          "height": 221
        },
        "outputId": "b2bccf1e-5bdd-4508-a56a-b076ac07f5df"
      },
      "source": [
        "%%time\n",
        "max_radius = 17\n",
        "precision = {i:[] for i in range(max_radius)}\n",
        "average_distance  = {i:[] for i in range(max_radius)}\n",
        "query_time  = {i:[] for i in range(max_radius)}\n",
        "\n",
        "num_queries = 10\n",
        "for i, ix in enumerate(np.random.choice(corpus.shape[0], num_queries, replace=False)):\n",
        "    print('%s / %s' % (i, num_queries))\n",
        "    ground_truth = set(brute_force_query(corpus[ix,:], corpus, k=25)['id'])\n",
        "    # Get the set of 25 true nearest neighbors\n",
        "    \n",
        "    for r in range(1,max_radius):\n",
        "        start = time.time()\n",
        "        result, num_candidates = query(corpus[ix,:], model, k=10, max_search_radius=r)\n",
        "        end = time.time()\n",
        "\n",
        "        query_time[r].append(end-start)\n",
        "        # precision = (# of neighbors both in result and ground_truth)/10.0\n",
        "        precision[r].append(len(set(result['id']) & ground_truth)/10.0)\n",
        "        average_distance[r].append(result['distance'][1:].mean())"
      ],
      "execution_count": 61,
      "outputs": [
        {
          "output_type": "stream",
          "text": [
            "0 / 10\n",
            "1 / 10\n",
            "2 / 10\n",
            "3 / 10\n",
            "4 / 10\n",
            "5 / 10\n",
            "6 / 10\n",
            "7 / 10\n",
            "8 / 10\n",
            "9 / 10\n",
            "CPU times: user 1min 21s, sys: 436 ms, total: 1min 21s\n",
            "Wall time: 1min 20s\n"
          ],
          "name": "stdout"
        }
      ]
    },
    {
      "cell_type": "code",
      "metadata": {
        "id": "XgI59avgrK0l",
        "colab_type": "code",
        "colab": {
          "base_uri": "https://localhost:8080/",
          "height": 926
        },
        "outputId": "c9786010-4f06-467a-b37e-1ba7292e3987"
      },
      "source": [
        "plt.figure(figsize=(7,4.5))\n",
        "plt.plot(range(1,17), [np.mean(average_distance[i]) for i in range(1,17)], linewidth=4, label='Average over 10 neighbors')\n",
        "plt.xlabel('Search radius')\n",
        "plt.ylabel('Cosine distance')\n",
        "plt.legend(loc='best', prop={'size':15})\n",
        "plt.rcParams.update({'font.size':16})\n",
        "plt.tight_layout()\n",
        "\n",
        "plt.figure(figsize=(7,4.5))\n",
        "plt.plot(range(1,17), [np.mean(precision[i]) for i in range(1,17)], linewidth=4, label='Precison@10')\n",
        "plt.xlabel('Search radius')\n",
        "plt.ylabel('Precision')\n",
        "plt.legend(loc='best', prop={'size':15})\n",
        "plt.rcParams.update({'font.size':16})\n",
        "plt.tight_layout()\n",
        "\n",
        "plt.figure(figsize=(7,4.5))\n",
        "plt.plot(range(1,17), [np.mean(query_time[i]) for i in range(1,17)], linewidth=4, label='Query time')\n",
        "plt.xlabel('Search radius')\n",
        "plt.ylabel('Query time (seconds)')\n",
        "plt.legend(loc='best', prop={'size':15})\n",
        "plt.rcParams.update({'font.size':16})\n",
        "plt.tight_layout()"
      ],
      "execution_count": 62,
      "outputs": [
        {
          "output_type": "display_data",
          "data": {
            "image/png": "[encoded data removed]",
            "text/plain": [
              "<Figure size 504x324 with 1 Axes>"
            ]
          },
          "metadata": {
            "tags": [],
            "needs_background": "light"
          }
        },
        {
          "output_type": "display_data",
          "data": {
            "image/png": "[encoded data removed]",
            "text/plain": [
              "<Figure size 504x324 with 1 Axes>"
            ]
          },
          "metadata": {
            "tags": [],
            "needs_background": "light"
          }
        },
        {
          "output_type": "display_data",
          "data": {
            "image/png": "[encoded data removed]",
            "text/plain": [
              "<Figure size 504x324 with 1 Axes>"
            ]
          },
          "metadata": {
            "tags": [],
            "needs_background": "light"
          }
        }
      ]
    },
    {
      "cell_type": "markdown",
      "metadata": {
        "id": "LCkNRnDrrK0t",
        "colab_type": "text"
      },
      "source": [
        "The observations for Barack Obama generalize to the entire dataset."
      ]
    },
    {
      "cell_type": "markdown",
      "metadata": {
        "id": "16Kt6yGMrK0t",
        "colab_type": "text"
      },
      "source": [
        "## Effect of number of random vectors"
      ]
    },
    {
      "cell_type": "markdown",
      "metadata": {
        "id": "qsuzpY0erK0u",
        "colab_type": "text"
      },
      "source": [
        "Let us now turn our focus to the remaining parameter: the number of random vectors. We run LSH with different number of random vectors, ranging from 5 to 20. We fix the search radius to 3.\n",
        "\n",
        "Allow a few minutes for the following cell to complete."
      ]
    },
    {
      "cell_type": "code",
      "metadata": {
        "id": "xym2QT5urK0u",
        "colab_type": "code",
        "colab": {
          "base_uri": "https://localhost:8080/",
          "height": 272
        },
        "outputId": "6dd4b554-7fe8-4f7b-9459-a745c09dce64"
      },
      "source": [
        "precision = {i:[] for i in range(5,20)}\n",
        "average_distance  = {i:[] for i in range(5,20)}\n",
        "query_time = {i:[] for i in range(5,20)}\n",
        "num_candidates_history = {i:[] for i in range(5,20)}\n",
        "ground_truth = {}\n",
        "\n",
        "num_queries = 10\n",
        "docs = np.random.choice(corpus.shape[0], num_queries, replace=False)\n",
        "\n",
        "for i, ix in enumerate(docs):\n",
        "    ground_truth[ix] = set(brute_force_query(corpus[ix,:], corpus, k=25)['id'])\n",
        "    # Get the set of 25 true nearest neighbors\n",
        "\n",
        "for num_vector in range(5,20):\n",
        "    print('num_vector = %s' % (num_vector))\n",
        "    model = train_lsh(corpus, num_vector, seed=143)\n",
        "    \n",
        "    for i, ix in enumerate(docs):\n",
        "        start = time.time()\n",
        "        result, num_candidates = query(corpus[ix,:], model, k=10, max_search_radius=3)\n",
        "        end = time.time()\n",
        "        \n",
        "        query_time[num_vector].append(end-start)\n",
        "        precision[num_vector].append(len(set(result['id']) & ground_truth[ix])/10.0)\n",
        "        average_distance[num_vector].append(result['distance'][1:].mean())\n",
        "        num_candidates_history[num_vector].append(num_candidates)"
      ],
      "execution_count": 63,
      "outputs": [
        {
          "output_type": "stream",
          "text": [
            "num_vector = 5\n",
            "num_vector = 6\n",
            "num_vector = 7\n",
            "num_vector = 8\n",
            "num_vector = 9\n",
            "num_vector = 10\n",
            "num_vector = 11\n",
            "num_vector = 12\n",
            "num_vector = 13\n",
            "num_vector = 14\n",
            "num_vector = 15\n",
            "num_vector = 16\n",
            "num_vector = 17\n",
            "num_vector = 18\n",
            "num_vector = 19\n"
          ],
          "name": "stdout"
        }
      ]
    },
    {
      "cell_type": "code",
      "metadata": {
        "id": "n9F5gUehrK0x",
        "colab_type": "code",
        "colab": {
          "base_uri": "https://localhost:8080/",
          "height": 1000
        },
        "outputId": "4c07e49f-5ded-4a7f-c298-da5050e7a5b8"
      },
      "source": [
        "plt.figure(figsize=(7,4.5))\n",
        "plt.plot(range(5,20), [np.mean(average_distance[i]) for i in range(5,20)], linewidth=4, label='Average over 10 neighbors')\n",
        "plt.xlabel('# of random vectors')\n",
        "plt.ylabel('Cosine distance')\n",
        "plt.legend(loc='best', prop={'size':15})\n",
        "plt.rcParams.update({'font.size':16})\n",
        "plt.tight_layout()\n",
        "\n",
        "plt.figure(figsize=(7,4.5))\n",
        "plt.plot(range(5,20), [np.mean(precision[i]) for i in range(5,20)], linewidth=4, label='Precison@10')\n",
        "plt.xlabel('# of random vectors')\n",
        "plt.ylabel('Precision')\n",
        "plt.legend(loc='best', prop={'size':15})\n",
        "plt.rcParams.update({'font.size':16})\n",
        "plt.tight_layout()\n",
        "\n",
        "plt.figure(figsize=(7,4.5))\n",
        "plt.plot(range(5,20), [np.mean(query_time[i]) for i in range(5,20)], linewidth=4, label='Query time (seconds)')\n",
        "plt.xlabel('# of random vectors')\n",
        "plt.ylabel('Query time (seconds)')\n",
        "plt.legend(loc='best', prop={'size':15})\n",
        "plt.rcParams.update({'font.size':16})\n",
        "plt.tight_layout()\n",
        "\n",
        "plt.figure(figsize=(7,4.5))\n",
        "plt.plot(range(5,20), [np.mean(num_candidates_history[i]) for i in range(5,20)], linewidth=4,\n",
        "         label='# of documents searched')\n",
        "plt.xlabel('# of random vectors')\n",
        "plt.ylabel('# of documents searched')\n",
        "plt.legend(loc='best', prop={'size':15})\n",
        "plt.rcParams.update({'font.size':16})\n",
        "plt.tight_layout()"
      ],
      "execution_count": 64,
      "outputs": [
        {
          "output_type": "display_data",
          "data": {
            "image/png": "[encoded data removed]",
            "text/plain": [
              "<Figure size 504x324 with 1 Axes>"
            ]
          },
          "metadata": {
            "tags": [],
            "needs_background": "light"
          }
        },
        {
          "output_type": "display_data",
          "data": {
            "image/png": "[encoded data removed]",
            "text/plain": [
              "<Figure size 504x324 with 1 Axes>"
            ]
          },
          "metadata": {
            "tags": [],
            "needs_background": "light"
          }
        },
        {
          "output_type": "display_data",
          "data": {
            "image/png": "[encoded data removed]",
            "text/plain": [
              "<Figure size 504x324 with 1 Axes>"
            ]
          },
          "metadata": {
            "tags": [],
            "needs_background": "light"
          }
        },
        {
          "output_type": "display_data",
          "data": {
            "image/png": "[encoded data removed]",
            "text/plain": [
              "<Figure size 504x324 with 1 Axes>"
            ]
          },
          "metadata": {
            "tags": [],
            "needs_background": "light"
          }
        }
      ]
    },
    {
      "cell_type": "markdown",
      "metadata": {
        "id": "1t_AOBlKrK00",
        "colab_type": "text"
      },
      "source": [
        "We see a similar trade-off between quality and performance: as the number of random vectors increases, the query time goes down as each bin contains fewer documents on average, but on average the neighbors are likewise placed farther from the query. On the other hand, when using a small enough number of random vectors, LSH becomes very similar brute-force search: Many documents appear in a single bin, so searching the query bin alone covers a lot of the corpus; then, including neighboring bins might result in searching all documents, just as in the brute-force approach."
      ]
    }
  ]
}