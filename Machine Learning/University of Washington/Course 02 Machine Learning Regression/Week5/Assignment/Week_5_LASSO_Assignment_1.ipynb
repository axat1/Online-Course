{
  "nbformat": 4,
  "nbformat_minor": 0,
  "metadata": {
    "colab": {
      "name": "Week 5: LASSO Assignment 1.ipynb",
      "provenance": [],
      "collapsed_sections": []
    },
    "kernelspec": {
      "name": "python3",
      "display_name": "Python 3"
    }
  },
  "cells": [
    {
      "cell_type": "code",
      "metadata": {
        "id": "paPfm6vlxjc2",
        "colab_type": "code",
        "colab": {
          "base_uri": "https://localhost:8080/",
          "height": 1000
        },
        "outputId": "5f22cd50-2e2f-4714-b450-12097c28ed69"
      },
      "source": [
        "!pip install turicreate"
      ],
      "execution_count": 1,
      "outputs": [
        {
          "output_type": "stream",
          "text": [
            "Collecting turicreate\n",
            "\u001b[?25l  Downloading https://files.pythonhosted.org/packages/e4/76/76c624d7ae1116b22cd559288596a1f9aa7a50f8f43f4481033fc047f5e9/turicreate-6.3-cp36-cp36m-manylinux1_x86_64.whl (91.9MB)\n",
            "\u001b[K     |████████████████████████████████| 91.9MB 1.2MB/s \n",
            "\u001b[?25hRequirement already satisfied: numpy in /usr/local/lib/python3.6/dist-packages (from turicreate) (1.18.5)\n",
            "Requirement already satisfied: decorator>=4.0.9 in /usr/local/lib/python3.6/dist-packages (from turicreate) (4.4.2)\n",
            "Requirement already satisfied: pillow>=5.2.0 in /usr/local/lib/python3.6/dist-packages (from turicreate) (7.0.0)\n",
            "Collecting coremltools==3.3\n",
            "\u001b[?25l  Downloading https://files.pythonhosted.org/packages/77/19/611916d1ef326d38857d93af5ba184f6ad7491642e0fa4f9082e7d82f034/coremltools-3.3-cp36-none-manylinux1_x86_64.whl (3.4MB)\n",
            "\u001b[K     |████████████████████████████████| 3.4MB 47.4MB/s \n",
            "\u001b[?25hRequirement already satisfied: prettytable==0.7.2 in /usr/local/lib/python3.6/dist-packages (from turicreate) (0.7.2)\n",
            "Requirement already satisfied: six>=1.10.0 in /usr/local/lib/python3.6/dist-packages (from turicreate) (1.12.0)\n",
            "Requirement already satisfied: pandas>=0.23.2 in /usr/local/lib/python3.6/dist-packages (from turicreate) (1.0.4)\n",
            "Requirement already satisfied: scipy>=1.1.0 in /usr/local/lib/python3.6/dist-packages (from turicreate) (1.4.1)\n",
            "Requirement already satisfied: requests>=2.9.1 in /usr/local/lib/python3.6/dist-packages (from turicreate) (2.23.0)\n",
            "Collecting tensorflow<=2.0.1,>=2.0.0\n",
            "\u001b[?25l  Downloading https://files.pythonhosted.org/packages/43/16/b07e3f7a4a024b47918f7018967eb984b0c542458a6141d8c48515aa81d4/tensorflow-2.0.1-cp36-cp36m-manylinux2010_x86_64.whl (86.3MB)\n",
            "\u001b[K     |████████████████████████████████| 86.3MB 133kB/s \n",
            "\u001b[?25hCollecting resampy==0.2.1\n",
            "\u001b[?25l  Downloading https://files.pythonhosted.org/packages/14/b6/66a06d85474190b50aee1a6c09cdc95bb405ac47338b27e9b21409da1760/resampy-0.2.1.tar.gz (322kB)\n",
            "\u001b[K     |████████████████████████████████| 327kB 48.2MB/s \n",
            "\u001b[?25hRequirement already satisfied: protobuf>=3.1.0 in /usr/local/lib/python3.6/dist-packages (from coremltools==3.3->turicreate) (3.10.0)\n",
            "Requirement already satisfied: python-dateutil>=2.6.1 in /usr/local/lib/python3.6/dist-packages (from pandas>=0.23.2->turicreate) (2.8.1)\n",
            "Requirement already satisfied: pytz>=2017.2 in /usr/local/lib/python3.6/dist-packages (from pandas>=0.23.2->turicreate) (2018.9)\n",
            "Requirement already satisfied: urllib3!=1.25.0,!=1.25.1,<1.26,>=1.21.1 in /usr/local/lib/python3.6/dist-packages (from requests>=2.9.1->turicreate) (1.24.3)\n",
            "Requirement already satisfied: idna<3,>=2.5 in /usr/local/lib/python3.6/dist-packages (from requests>=2.9.1->turicreate) (2.9)\n",
            "Requirement already satisfied: chardet<4,>=3.0.2 in /usr/local/lib/python3.6/dist-packages (from requests>=2.9.1->turicreate) (3.0.4)\n",
            "Requirement already satisfied: certifi>=2017.4.17 in /usr/local/lib/python3.6/dist-packages (from requests>=2.9.1->turicreate) (2020.4.5.1)\n",
            "Requirement already satisfied: astor>=0.6.0 in /usr/local/lib/python3.6/dist-packages (from tensorflow<=2.0.1,>=2.0.0->turicreate) (0.8.1)\n",
            "Requirement already satisfied: termcolor>=1.1.0 in /usr/local/lib/python3.6/dist-packages (from tensorflow<=2.0.1,>=2.0.0->turicreate) (1.1.0)\n",
            "Requirement already satisfied: keras-applications>=1.0.8 in /usr/local/lib/python3.6/dist-packages (from tensorflow<=2.0.1,>=2.0.0->turicreate) (1.0.8)\n",
            "Collecting tensorflow-estimator<2.1.0,>=2.0.0\n",
            "\u001b[?25l  Downloading https://files.pythonhosted.org/packages/fc/08/8b927337b7019c374719145d1dceba21a8bb909b93b1ad6f8fb7d22c1ca1/tensorflow_estimator-2.0.1-py2.py3-none-any.whl (449kB)\n",
            "\u001b[K     |████████████████████████████████| 450kB 41.7MB/s \n",
            "\u001b[?25hRequirement already satisfied: google-pasta>=0.1.6 in /usr/local/lib/python3.6/dist-packages (from tensorflow<=2.0.1,>=2.0.0->turicreate) (0.2.0)\n",
            "Collecting gast==0.2.2\n",
            "  Downloading https://files.pythonhosted.org/packages/4e/35/11749bf99b2d4e3cceb4d55ca22590b0d7c2c62b9de38ac4a4a7f4687421/gast-0.2.2.tar.gz\n",
            "Requirement already satisfied: absl-py>=0.7.0 in /usr/local/lib/python3.6/dist-packages (from tensorflow<=2.0.1,>=2.0.0->turicreate) (0.9.0)\n",
            "Requirement already satisfied: wrapt>=1.11.1 in /usr/local/lib/python3.6/dist-packages (from tensorflow<=2.0.1,>=2.0.0->turicreate) (1.12.1)\n",
            "Requirement already satisfied: grpcio>=1.8.6 in /usr/local/lib/python3.6/dist-packages (from tensorflow<=2.0.1,>=2.0.0->turicreate) (1.29.0)\n",
            "Requirement already satisfied: keras-preprocessing>=1.0.5 in /usr/local/lib/python3.6/dist-packages (from tensorflow<=2.0.1,>=2.0.0->turicreate) (1.1.2)\n",
            "Requirement already satisfied: opt-einsum>=2.3.2 in /usr/local/lib/python3.6/dist-packages (from tensorflow<=2.0.1,>=2.0.0->turicreate) (3.2.1)\n",
            "Requirement already satisfied: wheel>=0.26; python_version >= \"3\" in /usr/local/lib/python3.6/dist-packages (from tensorflow<=2.0.1,>=2.0.0->turicreate) (0.34.2)\n",
            "Collecting tensorboard<2.1.0,>=2.0.0\n",
            "\u001b[?25l  Downloading https://files.pythonhosted.org/packages/76/54/99b9d5d52d5cb732f099baaaf7740403e83fe6b0cedde940fabd2b13d75a/tensorboard-2.0.2-py3-none-any.whl (3.8MB)\n",
            "\u001b[K     |████████████████████████████████| 3.8MB 40.0MB/s \n",
            "\u001b[?25hRequirement already satisfied: numba>=0.32 in /usr/local/lib/python3.6/dist-packages (from resampy==0.2.1->turicreate) (0.48.0)\n",
            "Requirement already satisfied: setuptools in /usr/local/lib/python3.6/dist-packages (from protobuf>=3.1.0->coremltools==3.3->turicreate) (47.1.1)\n",
            "Requirement already satisfied: h5py in /usr/local/lib/python3.6/dist-packages (from keras-applications>=1.0.8->tensorflow<=2.0.1,>=2.0.0->turicreate) (2.10.0)\n",
            "Requirement already satisfied: werkzeug>=0.11.15 in /usr/local/lib/python3.6/dist-packages (from tensorboard<2.1.0,>=2.0.0->tensorflow<=2.0.1,>=2.0.0->turicreate) (1.0.1)\n",
            "Requirement already satisfied: markdown>=2.6.8 in /usr/local/lib/python3.6/dist-packages (from tensorboard<2.1.0,>=2.0.0->tensorflow<=2.0.1,>=2.0.0->turicreate) (3.2.2)\n",
            "Requirement already satisfied: google-auth<2,>=1.6.3 in /usr/local/lib/python3.6/dist-packages (from tensorboard<2.1.0,>=2.0.0->tensorflow<=2.0.1,>=2.0.0->turicreate) (1.7.2)\n",
            "Requirement already satisfied: google-auth-oauthlib<0.5,>=0.4.1 in /usr/local/lib/python3.6/dist-packages (from tensorboard<2.1.0,>=2.0.0->tensorflow<=2.0.1,>=2.0.0->turicreate) (0.4.1)\n",
            "Requirement already satisfied: llvmlite<0.32.0,>=0.31.0dev0 in /usr/local/lib/python3.6/dist-packages (from numba>=0.32->resampy==0.2.1->turicreate) (0.31.0)\n",
            "Requirement already satisfied: importlib-metadata; python_version < \"3.8\" in /usr/local/lib/python3.6/dist-packages (from markdown>=2.6.8->tensorboard<2.1.0,>=2.0.0->tensorflow<=2.0.1,>=2.0.0->turicreate) (1.6.0)\n",
            "Requirement already satisfied: cachetools<3.2,>=2.0.0 in /usr/local/lib/python3.6/dist-packages (from google-auth<2,>=1.6.3->tensorboard<2.1.0,>=2.0.0->tensorflow<=2.0.1,>=2.0.0->turicreate) (3.1.1)\n",
            "Requirement already satisfied: rsa<4.1,>=3.1.4 in /usr/local/lib/python3.6/dist-packages (from google-auth<2,>=1.6.3->tensorboard<2.1.0,>=2.0.0->tensorflow<=2.0.1,>=2.0.0->turicreate) (4.0)\n",
            "Requirement already satisfied: pyasn1-modules>=0.2.1 in /usr/local/lib/python3.6/dist-packages (from google-auth<2,>=1.6.3->tensorboard<2.1.0,>=2.0.0->tensorflow<=2.0.1,>=2.0.0->turicreate) (0.2.8)\n",
            "Requirement already satisfied: requests-oauthlib>=0.7.0 in /usr/local/lib/python3.6/dist-packages (from google-auth-oauthlib<0.5,>=0.4.1->tensorboard<2.1.0,>=2.0.0->tensorflow<=2.0.1,>=2.0.0->turicreate) (1.3.0)\n",
            "Requirement already satisfied: zipp>=0.5 in /usr/local/lib/python3.6/dist-packages (from importlib-metadata; python_version < \"3.8\"->markdown>=2.6.8->tensorboard<2.1.0,>=2.0.0->tensorflow<=2.0.1,>=2.0.0->turicreate) (3.1.0)\n",
            "Requirement already satisfied: pyasn1>=0.1.3 in /usr/local/lib/python3.6/dist-packages (from rsa<4.1,>=3.1.4->google-auth<2,>=1.6.3->tensorboard<2.1.0,>=2.0.0->tensorflow<=2.0.1,>=2.0.0->turicreate) (0.4.8)\n",
            "Requirement already satisfied: oauthlib>=3.0.0 in /usr/local/lib/python3.6/dist-packages (from requests-oauthlib>=0.7.0->google-auth-oauthlib<0.5,>=0.4.1->tensorboard<2.1.0,>=2.0.0->tensorflow<=2.0.1,>=2.0.0->turicreate) (3.1.0)\n",
            "Building wheels for collected packages: resampy, gast\n",
            "  Building wheel for resampy (setup.py) ... \u001b[?25l\u001b[?25hdone\n",
            "  Created wheel for resampy: filename=resampy-0.2.1-cp36-none-any.whl size=320850 sha256=2fb8832d479d1e7dad1d021b8eee393e8c2a1a4abc0b2a3429d042a5971139dc\n",
            "  Stored in directory: /root/.cache/pip/wheels/ff/4f/ed/2e6c676c23efe5394bb40ade50662e90eb46e29b48324c5f9b\n",
            "  Building wheel for gast (setup.py) ... \u001b[?25l\u001b[?25hdone\n",
            "  Created wheel for gast: filename=gast-0.2.2-cp36-none-any.whl size=7540 sha256=581bd2a23548d9d7ea5ce29ca53d3b4c52686f5496e0efb684d3176fd0b3e37a\n",
            "  Stored in directory: /root/.cache/pip/wheels/5c/2e/7e/a1d4d4fcebe6c381f378ce7743a3ced3699feb89bcfbdadadd\n",
            "Successfully built resampy gast\n",
            "\u001b[31mERROR: tensorflow-probability 0.10.0 has requirement gast>=0.3.2, but you'll have gast 0.2.2 which is incompatible.\u001b[0m\n",
            "Installing collected packages: coremltools, tensorflow-estimator, gast, tensorboard, tensorflow, resampy, turicreate\n",
            "  Found existing installation: tensorflow-estimator 2.2.0\n",
            "    Uninstalling tensorflow-estimator-2.2.0:\n",
            "      Successfully uninstalled tensorflow-estimator-2.2.0\n",
            "  Found existing installation: gast 0.3.3\n",
            "    Uninstalling gast-0.3.3:\n",
            "      Successfully uninstalled gast-0.3.3\n",
            "  Found existing installation: tensorboard 2.2.2\n",
            "    Uninstalling tensorboard-2.2.2:\n",
            "      Successfully uninstalled tensorboard-2.2.2\n",
            "  Found existing installation: tensorflow 2.2.0\n",
            "    Uninstalling tensorflow-2.2.0:\n",
            "      Successfully uninstalled tensorflow-2.2.0\n",
            "  Found existing installation: resampy 0.2.2\n",
            "    Uninstalling resampy-0.2.2:\n",
            "      Successfully uninstalled resampy-0.2.2\n",
            "Successfully installed coremltools-3.3 gast-0.2.2 resampy-0.2.1 tensorboard-2.0.2 tensorflow-2.0.1 tensorflow-estimator-2.0.1 turicreate-6.3\n"
          ],
          "name": "stdout"
        }
      ]
    },
    {
      "cell_type": "code",
      "metadata": {
        "id": "2K6o9axhxnvG",
        "colab_type": "code",
        "colab": {}
      },
      "source": [
        "import turicreate\n",
        "import numpy as np\n",
        "import matplotlib.pyplot as plt\n",
        "%matplotlib inline"
      ],
      "execution_count": 2,
      "outputs": []
    },
    {
      "cell_type": "markdown",
      "metadata": {
        "id": "gFziJwesyF_S",
        "colab_type": "text"
      },
      "source": [
        "#Load in house sales data"
      ]
    },
    {
      "cell_type": "code",
      "metadata": {
        "id": "U7JKlmui4sjJ",
        "colab_type": "code",
        "colab": {}
      },
      "source": [
        "sales = turicreate.SFrame('/content/drive/My Drive/Colab Notebooks/Machine Learning/Course 2 Machine Learning Regression/Week2/Assignment1/home_data.sframe')"
      ],
      "execution_count": 27,
      "outputs": []
    },
    {
      "cell_type": "code",
      "metadata": {
        "id": "4cySG7Rtx8z4",
        "colab_type": "code",
        "colab": {}
      },
      "source": [
        "# import pandas as pd\n",
        "\n",
        "# dtype_dict = {'bathrooms':float, 'waterfront':int, 'sqft_above':int, 'sqft_living15':float, 'grade':int, 'yr_renovated':int, 'price':float, 'bedrooms':float, 'zipcode':str, 'long':float, 'sqft_lot15':float, 'sqft_living':float, 'floors':float, 'condition':int, 'lat':float, 'date':str, 'sqft_basement':int, 'yr_built':int, 'id':str, 'sqft_lot':int, 'view':int}\n",
        "\n",
        "# sales = pd.read_csv('/content/drive/My Drive/Colab Notebooks/Machine Learning/Course 2 Machine Learning Regression/Week5/Assignment/kc_house_data.csv', dtype=dtype_dict)"
      ],
      "execution_count": 6,
      "outputs": []
    },
    {
      "cell_type": "markdown",
      "metadata": {
        "id": "LynE2OZ0yZ4n",
        "colab_type": "text"
      },
      "source": [
        "1. Create new features by performing following transformation on inputs:\n",
        "\n",
        "          from math import log, sqrt\n",
        "          sales['sqft_living_sqrt'] = sales['sqft_living'].apply(sqrt)\n",
        "          sales['sqft_lot_sqrt'] = sales['sqft_lot'].apply(sqrt)\n",
        "          sales['bedrooms_square'] = sales['bedrooms']*sales['bedrooms']\n",
        "          sales['floors_square'] = sales['floors']*sales['floors']\n",
        "\n",
        "\n",
        "\n",
        "*   Squaring bedrooms will increase the separation between not many bedrooms (e.g. 1) and lots of bedrooms (e.g. 4) since 1^2 = 1 but 4^2 = 16. Consequently this variable will mostly affect houses with many bedrooms.\n",
        "*   On the other hand, taking square root of sqft_living will decrease the separation between big house and small house. The owner may not be exactly twice as happy for getting a house that is twice as big.\n",
        "\n",
        "\n",
        "\n"
      ]
    },
    {
      "cell_type": "code",
      "metadata": {
        "id": "BjqLf81vyP9l",
        "colab_type": "code",
        "colab": {}
      },
      "source": [
        "from math import log, sqrt\n",
        "sales['sqft_living_sqrt'] = sales['sqft_living'].apply(sqrt)\n",
        "sales['sqft_lot_sqrt'] = sales['sqft_lot'].apply(sqrt)\n",
        "sales['bedrooms_square'] = sales['bedrooms']*sales['bedrooms']\n",
        "sales['floors_square'] = sales['floors']*sales['floors']"
      ],
      "execution_count": 28,
      "outputs": []
    },
    {
      "cell_type": "markdown",
      "metadata": {
        "id": "GZ0HBzzPy9ZM",
        "colab_type": "text"
      },
      "source": [
        "2. Using the entire house dataset, learn regression weights using an L1 penalty of 5e2. Make sure to add \"normalize=True\" when creating the Lasso object. Refer to the following code snippet for the list of features.\n",
        "**Note :** From here on, the list 'all_features' refers to the list defined in this snippet.\n",
        "from sklearn import linear_model  # using scikit-learn\n",
        "\n",
        "    all_features = ['bedrooms', 'bedrooms_square',\n",
        "                'bathrooms',\n",
        "                'sqft_living', 'sqft_living_sqrt',\n",
        "                'sqft_lot', 'sqft_lot_sqrt',\n",
        "                'floors', 'floors_square',\n",
        "                'waterfront', 'view', 'condition', 'grade',\n",
        "                'sqft_above',\n",
        "                'sqft_basement',\n",
        "                'yr_built', 'yr_renovated']\n",
        "\n",
        "    model_all = linear_model.Lasso(alpha=5e2, normalize=True) # set parameters\n",
        "    model_all.fit(sales[all_features], sales['price']) # learn weights"
      ]
    },
    {
      "cell_type": "code",
      "metadata": {
        "id": "Le8Cg2Juyy8G",
        "colab_type": "code",
        "colab": {}
      },
      "source": [
        "#from sklearn import linear_model  # using scikit-learn\n",
        "\n",
        "all_features = ['bedrooms', 'bedrooms_square',\n",
        "            'bathrooms',\n",
        "            'sqft_living', 'sqft_living_sqrt',\n",
        "            'sqft_lot', 'sqft_lot_sqrt',\n",
        "            'floors', 'floors_square',\n",
        "            'waterfront', 'view', 'condition', 'grade',\n",
        "            'sqft_above',\n",
        "            'sqft_basement',\n",
        "            'yr_built', 'yr_renovated']\n",
        "\n",
        "# model_all = linear_model.Lasso(alpha=5e2, normalize=True) # set parameters\n",
        "# model_all.fit(sales[all_features], sales['price']) # learn weights"
      ],
      "execution_count": 40,
      "outputs": []
    },
    {
      "cell_type": "code",
      "metadata": {
        "id": "utXaUBg73BNK",
        "colab_type": "code",
        "colab": {
          "base_uri": "https://localhost:8080/",
          "height": 391
        },
        "outputId": "e4c5124f-9af5-4e2e-be7c-b922a1431445"
      },
      "source": [
        "model_all = turicreate.linear_regression.create(sales, target='price', features=all_features,\n",
        "                                              validation_set=None, \n",
        "                                              l2_penalty=0., l1_penalty=1e10)"
      ],
      "execution_count": 43,
      "outputs": [
        {
          "output_type": "display_data",
          "data": {
            "text/html": [
              "<pre>Linear regression:</pre>"
            ],
            "text/plain": [
              "Linear regression:"
            ]
          },
          "metadata": {
            "tags": []
          }
        },
        {
          "output_type": "display_data",
          "data": {
            "text/html": [
              "<pre>--------------------------------------------------------</pre>"
            ],
            "text/plain": [
              "--------------------------------------------------------"
            ]
          },
          "metadata": {
            "tags": []
          }
        },
        {
          "output_type": "display_data",
          "data": {
            "text/html": [
              "<pre>Number of examples          : 21613</pre>"
            ],
            "text/plain": [
              "Number of examples          : 21613"
            ]
          },
          "metadata": {
            "tags": []
          }
        },
        {
          "output_type": "display_data",
          "data": {
            "text/html": [
              "<pre>Number of features          : 17</pre>"
            ],
            "text/plain": [
              "Number of features          : 17"
            ]
          },
          "metadata": {
            "tags": []
          }
        },
        {
          "output_type": "display_data",
          "data": {
            "text/html": [
              "<pre>Number of unpacked features : 17</pre>"
            ],
            "text/plain": [
              "Number of unpacked features : 17"
            ]
          },
          "metadata": {
            "tags": []
          }
        },
        {
          "output_type": "display_data",
          "data": {
            "text/html": [
              "<pre>Number of coefficients    : 18</pre>"
            ],
            "text/plain": [
              "Number of coefficients    : 18"
            ]
          },
          "metadata": {
            "tags": []
          }
        },
        {
          "output_type": "display_data",
          "data": {
            "text/html": [
              "<pre>Starting Accelerated Gradient (FISTA)</pre>"
            ],
            "text/plain": [
              "Starting Accelerated Gradient (FISTA)"
            ]
          },
          "metadata": {
            "tags": []
          }
        },
        {
          "output_type": "display_data",
          "data": {
            "text/html": [
              "<pre>--------------------------------------------------------</pre>"
            ],
            "text/plain": [
              "--------------------------------------------------------"
            ]
          },
          "metadata": {
            "tags": []
          }
        },
        {
          "output_type": "display_data",
          "data": {
            "text/html": [
              "<pre>Tuning step size. First iteration could take longer than subsequent iterations.</pre>"
            ],
            "text/plain": [
              "Tuning step size. First iteration could take longer than subsequent iterations."
            ]
          },
          "metadata": {
            "tags": []
          }
        },
        {
          "output_type": "display_data",
          "data": {
            "text/html": [
              "<pre>+-----------+----------+-----------+--------------+--------------------+---------------------------------+</pre>"
            ],
            "text/plain": [
              "+-----------+----------+-----------+--------------+--------------------+---------------------------------+"
            ]
          },
          "metadata": {
            "tags": []
          }
        },
        {
          "output_type": "display_data",
          "data": {
            "text/html": [
              "<pre>| Iteration | Passes   | Step size | Elapsed Time | Training Max Error | Training Root-Mean-Square Error |</pre>"
            ],
            "text/plain": [
              "| Iteration | Passes   | Step size | Elapsed Time | Training Max Error | Training Root-Mean-Square Error |"
            ]
          },
          "metadata": {
            "tags": []
          }
        },
        {
          "output_type": "display_data",
          "data": {
            "text/html": [
              "<pre>+-----------+----------+-----------+--------------+--------------------+---------------------------------+</pre>"
            ],
            "text/plain": [
              "+-----------+----------+-----------+--------------+--------------------+---------------------------------+"
            ]
          },
          "metadata": {
            "tags": []
          }
        },
        {
          "output_type": "display_data",
          "data": {
            "text/html": [
              "<pre>| 0         | 1        | 1.000000  | 0.030846     | 7700000.000000     | 653047.733994                   |</pre>"
            ],
            "text/plain": [
              "| 0         | 1        | 1.000000  | 0.030846     | 7700000.000000     | 653047.733994                   |"
            ]
          },
          "metadata": {
            "tags": []
          }
        },
        {
          "output_type": "display_data",
          "data": {
            "text/html": [
              "<pre>| 1         | 2        | 0.000002  | 0.488606     | 6962915.603493     | 426631.749026                   |</pre>"
            ],
            "text/plain": [
              "| 1         | 2        | 0.000002  | 0.488606     | 6962915.603493     | 426631.749026                   |"
            ]
          },
          "metadata": {
            "tags": []
          }
        },
        {
          "output_type": "display_data",
          "data": {
            "text/html": [
              "<pre>| 2         | 3        | 0.000002  | 0.533793     | 6843144.200219     | 392488.929838                   |</pre>"
            ],
            "text/plain": [
              "| 2         | 3        | 0.000002  | 0.533793     | 6843144.200219     | 392488.929838                   |"
            ]
          },
          "metadata": {
            "tags": []
          }
        },
        {
          "output_type": "display_data",
          "data": {
            "text/html": [
              "<pre>| 3         | 4        | 0.000002  | 0.567638     | 6831900.032123     | 385340.166783                   |</pre>"
            ],
            "text/plain": [
              "| 3         | 4        | 0.000002  | 0.567638     | 6831900.032123     | 385340.166783                   |"
            ]
          },
          "metadata": {
            "tags": []
          }
        },
        {
          "output_type": "display_data",
          "data": {
            "text/html": [
              "<pre>| 4         | 5        | 0.000002  | 0.606840     | 6847166.848958     | 384842.383767                   |</pre>"
            ],
            "text/plain": [
              "| 4         | 5        | 0.000002  | 0.606840     | 6847166.848958     | 384842.383767                   |"
            ]
          },
          "metadata": {
            "tags": []
          }
        },
        {
          "output_type": "display_data",
          "data": {
            "text/html": [
              "<pre>| 5         | 6        | 0.000002  | 0.646070     | 6869667.895833     | 385998.458623                   |</pre>"
            ],
            "text/plain": [
              "| 5         | 6        | 0.000002  | 0.646070     | 6869667.895833     | 385998.458623                   |"
            ]
          },
          "metadata": {
            "tags": []
          }
        },
        {
          "output_type": "display_data",
          "data": {
            "text/html": [
              "<pre>| 10        | 11       | 0.000002  | 0.836864     | 6842123.232651     | 364204.576180                   |</pre>"
            ],
            "text/plain": [
              "| 10        | 11       | 0.000002  | 0.836864     | 6842123.232651     | 364204.576180                   |"
            ]
          },
          "metadata": {
            "tags": []
          }
        },
        {
          "output_type": "display_data",
          "data": {
            "text/html": [
              "<pre>+-----------+----------+-----------+--------------+--------------------+---------------------------------+</pre>"
            ],
            "text/plain": [
              "+-----------+----------+-----------+--------------+--------------------+---------------------------------+"
            ]
          },
          "metadata": {
            "tags": []
          }
        },
        {
          "output_type": "display_data",
          "data": {
            "text/html": [
              "<pre>Completed (Iteration limit reached).</pre>"
            ],
            "text/plain": [
              "Completed (Iteration limit reached)."
            ]
          },
          "metadata": {
            "tags": []
          }
        },
        {
          "output_type": "display_data",
          "data": {
            "text/html": [
              "<pre>This model may not be optimal. To improve it, consider increasing `max_iterations`.</pre>"
            ],
            "text/plain": [
              "This model may not be optimal. To improve it, consider increasing `max_iterations`."
            ]
          },
          "metadata": {
            "tags": []
          }
        }
      ]
    },
    {
      "cell_type": "code",
      "metadata": {
        "id": "_nvpgTGr49Vh",
        "colab_type": "code",
        "colab": {
          "base_uri": "https://localhost:8080/",
          "height": 34
        },
        "outputId": "9681859d-37fa-483c-ade1-c74ce0c5248d"
      },
      "source": [
        "print((model_all.coefficients['value']).nnz())"
      ],
      "execution_count": 44,
      "outputs": [
        {
          "output_type": "stream",
          "text": [
            "6\n"
          ],
          "name": "stdout"
        }
      ]
    },
    {
      "cell_type": "code",
      "metadata": {
        "id": "TObbSR045chX",
        "colab_type": "code",
        "colab": {
          "base_uri": "https://localhost:8080/",
          "height": 425
        },
        "outputId": "c8dcd6d7-f8f8-4425-f9d0-4cc1523685dc"
      },
      "source": [
        "model_all.coefficients.print_rows(num_rows=30)"
      ],
      "execution_count": 143,
      "outputs": [
        {
          "output_type": "stream",
          "text": [
            "+------------------+-------+--------------------+--------+\n",
            "|       name       | index |       value        | stderr |\n",
            "+------------------+-------+--------------------+--------+\n",
            "|   (intercept)    |  None | 274873.05595049594 |  None  |\n",
            "|     bedrooms     |  None |        0.0         |  None  |\n",
            "| bedrooms_square  |  None |        0.0         |  None  |\n",
            "|    bathrooms     |  None | 8468.531086910027  |  None  |\n",
            "|   sqft_living    |  None | 24.420720982446056 |  None  |\n",
            "| sqft_living_sqrt |  None | 350.0605533860446  |  None  |\n",
            "|     sqft_lot     |  None |        0.0         |  None  |\n",
            "|  sqft_lot_sqrt   |  None |        0.0         |  None  |\n",
            "|      floors      |  None |        0.0         |  None  |\n",
            "|  floors_square   |  None |        0.0         |  None  |\n",
            "|    waterfront    |  None |        0.0         |  None  |\n",
            "|       view       |  None |        0.0         |  None  |\n",
            "|    condition     |  None |        0.0         |  None  |\n",
            "|      grade       |  None | 842.0680348975227  |  None  |\n",
            "|    sqft_above    |  None | 20.024722417090935 |  None  |\n",
            "|  sqft_basement   |  None |        0.0         |  None  |\n",
            "|     yr_built     |  None |        0.0         |  None  |\n",
            "|   yr_renovated   |  None |        0.0         |  None  |\n",
            "+------------------+-------+--------------------+--------+\n",
            "[18 rows x 4 columns]\n",
            "\n"
          ],
          "name": "stdout"
        }
      ]
    },
    {
      "cell_type": "markdown",
      "metadata": {
        "id": "SmsfBTf42kkk",
        "colab_type": "text"
      },
      "source": [
        "3. **Quiz Question:** Which features have been chosen by LASSO, i.e. which features were assigned nonzero weights?"
      ]
    },
    {
      "cell_type": "markdown",
      "metadata": {
        "id": "oO29Wo8168Ce",
        "colab_type": "text"
      },
      "source": [
        "4. To find a good L1 penalty, we will explore multiple values using a validation set. Let us do three way split into train, validation, and test sets."
      ]
    },
    {
      "cell_type": "code",
      "metadata": {
        "id": "FaMMkeJv1kUW",
        "colab_type": "code",
        "colab": {}
      },
      "source": [
        "(training_and_validation, testing) = sales.random_split(.9,seed=1) \n",
        "(training, validation) = training_and_validation.random_split(0.5, seed=1) "
      ],
      "execution_count": 46,
      "outputs": []
    },
    {
      "cell_type": "code",
      "metadata": {
        "id": "Drs1Yk_27Ayf",
        "colab_type": "code",
        "colab": {}
      },
      "source": [
        "# testing['sqft_living_sqrt'] = testing['sqft_living'].apply(sqrt)\n",
        "# testing['sqft_lot_sqrt'] = testing['sqft_lot'].apply(sqrt)\n",
        "# testing['bedrooms_square'] = testing['bedrooms']*testing['bedrooms']\n",
        "# testing['floors_square'] = testing['floors']*testing['floors']\n",
        "\n",
        "# training['sqft_living_sqrt'] = training['sqft_living'].apply(sqrt)\n",
        "# training['sqft_lot_sqrt'] = training['sqft_lot'].apply(sqrt)\n",
        "# training['bedrooms_square'] = training['bedrooms']*training['bedrooms']\n",
        "# training['floors_square'] = training['floors']*training['floors']\n",
        "\n",
        "# validation['sqft_living_sqrt'] = validation['sqft_living'].apply(sqrt)\n",
        "# validation['sqft_lot_sqrt'] = validation['sqft_lot'].apply(sqrt)\n",
        "# validation['bedrooms_square'] = validation['bedrooms']*validation['bedrooms']\n",
        "# validation['floors_square'] = validation['floors']*validation['floors']"
      ],
      "execution_count": null,
      "outputs": []
    },
    {
      "cell_type": "markdown",
      "metadata": {
        "id": "XBZWk2k77ZXk",
        "colab_type": "text"
      },
      "source": [
        "Next, we write a loop that does the following:\n",
        "\n",
        "For l1_penalty in [10^1, 10^1.5, 10^2, 10^2.5, ..., 10^7] (to get this in Python, type np.logspace(1, 7, num=13).)\n",
        "\n",
        "Fit a regression model with a given l1_penalty on TRAIN data. Specify l1_penalty=l1_penalty and l2_penalty=0. in the parameter list.\n",
        "\n",
        "Compute the RSS on VALIDATION data (here you will want to use .predict()) for that l1_penalty\n",
        "\n",
        "Report which l1_penalty produced the lowest RSS on validation data.\n",
        "\n",
        "When you call linear_regression.create() make sure you set validation_set = None.\n",
        "\n",
        "Note: you can turn off the print out of linear_regression.create() with verbose = False"
      ]
    },
    {
      "cell_type": "code",
      "metadata": {
        "id": "m_EizhvQ7SoM",
        "colab_type": "code",
        "colab": {
          "base_uri": "https://localhost:8080/",
          "height": 34
        },
        "outputId": "6ba35229-f321-4269-8640-ecd96248c135"
      },
      "source": [
        "l1_penalty = np.logspace(1, 7, 13)\n",
        "\n",
        "validation_RSS = {}\n",
        "for i in l1_penalty:\n",
        "  model = turicreate.linear_regression.create(training,\n",
        "                                              target='price',\n",
        "                                              features = all_features,\n",
        "                                              l2_penalty = 0,\n",
        "                                              l1_penalty = i,\n",
        "                                              validation_set = None,\n",
        "                                              verbose = False)\n",
        "  prediction = model.predict(validation)\n",
        "  residual = validation['price'] - prediction\n",
        "  RSS = (residual**2).sum()\n",
        "  validation_RSS[i] = RSS\n",
        "\n",
        "print(min(validation_RSS.items(), key=lambda x: x[1]))\n"
      ],
      "execution_count": 49,
      "outputs": [
        {
          "output_type": "stream",
          "text": [
            "(10.0, 625766285142458.5)\n"
          ],
          "name": "stdout"
        }
      ]
    },
    {
      "cell_type": "markdown",
      "metadata": {
        "id": "Y7pLd0t39Sfs",
        "colab_type": "text"
      },
      "source": [
        "6. **Quiz Question:** Which was the best value for the l1_penalty, i.e. which value of l1_penalty produced the lowest RSS on VALIDATION data?"
      ]
    },
    {
      "cell_type": "markdown",
      "metadata": {
        "id": "SGTMRuKZ9XQM",
        "colab_type": "text"
      },
      "source": [
        "7. Now that you have selected an L1 penalty, compute the RSS on TEST data for the model with the best L1 penalty."
      ]
    },
    {
      "cell_type": "code",
      "metadata": {
        "id": "Iee1u7qw9DhW",
        "colab_type": "code",
        "colab": {
          "base_uri": "https://localhost:8080/",
          "height": 34
        },
        "outputId": "0d064c62-4d43-449f-e465-b512a044a06d"
      },
      "source": [
        "best_penalty_model = turicreate.linear_regression.create(training,\n",
        "                                                         target = 'price',\n",
        "                                                         features = all_features,\n",
        "                                                         l2_penalty=0,\n",
        "                                                         l1_penalty = 10,\n",
        "                                                         validation_set = None,\n",
        "                                                         verbose = False)\n",
        "\n",
        "prediction_on_penalty = best_penalty_model.predict(testing)\n",
        "residual_of_penalty = testing['price'] - prediction_on_penalty\n",
        "RSS_of_penalty = (residual_of_penalty**2).sum()\n",
        "print(RSS_of_penalty)  "
      ],
      "execution_count": 52,
      "outputs": [
        {
          "output_type": "stream",
          "text": [
            "156983602381664.0\n"
          ],
          "name": "stdout"
        }
      ]
    },
    {
      "cell_type": "code",
      "metadata": {
        "id": "XNrZMKds-hwg",
        "colab_type": "code",
        "colab": {
          "base_uri": "https://localhost:8080/",
          "height": 663
        },
        "outputId": "21f11b3e-d14e-494e-9e70-3953c6557e78"
      },
      "source": [
        "print((best_penalty_model.coefficients[\"value\"]).nnz())\n",
        "\n",
        "best_penalty_model"
      ],
      "execution_count": 58,
      "outputs": [
        {
          "output_type": "stream",
          "text": [
            "18\n"
          ],
          "name": "stdout"
        },
        {
          "output_type": "execute_result",
          "data": {
            "text/plain": [
              "Class                          : LinearRegression\n",
              "\n",
              "Schema\n",
              "------\n",
              "Number of coefficients         : 18\n",
              "Number of examples             : 9761\n",
              "Number of feature columns      : 17\n",
              "Number of unpacked features    : 17\n",
              "\n",
              "Hyperparameters\n",
              "---------------\n",
              "L1 penalty                     : 10.0\n",
              "L2 penalty                     : 0.0\n",
              "\n",
              "Training Summary\n",
              "----------------\n",
              "Solver                         : fista\n",
              "Solver iterations              : 10\n",
              "Solver status                  : Completed (Iteration limit reached).\n",
              "Training time (sec)            : 0.299\n",
              "\n",
              "Settings\n",
              "--------\n",
              "Residual sum of squares        : 722122268408182.8\n",
              "Training RMSE                  : 273608.5865\n",
              "\n",
              "Highest Positive Coefficients\n",
              "-----------------------------\n",
              "waterfront                     : 601905.5945\n",
              "view                           : 93312.8573\n",
              "bathrooms                      : 25409.5889\n",
              "floors                         : 21204.3355\n",
              "(intercept)                    : 18993.4272\n",
              "\n",
              "Lowest Negative Coefficients\n",
              "----------------------------\n",
              "No Negative Coefficients       : "
            ]
          },
          "metadata": {
            "tags": []
          },
          "execution_count": 58
        }
      ]
    },
    {
      "cell_type": "markdown",
      "metadata": {
        "id": "Q4gWkbeq_gex",
        "colab_type": "text"
      },
      "source": [
        "8. **Quiz Question:** Using the best L1 penalty, how many nonzero weights do you have? Count the number of nonzero coefficients first, and add 1 if the intercept is also nonzero. A succinct way to do this is"
      ]
    },
    {
      "cell_type": "code",
      "metadata": {
        "id": "PTcnl3Dm-6bV",
        "colab_type": "code",
        "colab": {
          "base_uri": "https://localhost:8080/",
          "height": 34
        },
        "outputId": "f7b8370e-7396-4b1e-c0b5-ef127d45e63c"
      },
      "source": [
        "np.count_nonzero(best_penalty_model.coefficients) "
      ],
      "execution_count": 62,
      "outputs": [
        {
          "output_type": "execute_result",
          "data": {
            "text/plain": [
              "18"
            ]
          },
          "metadata": {
            "tags": []
          },
          "execution_count": 62
        }
      ]
    },
    {
      "cell_type": "markdown",
      "metadata": {
        "id": "477Gt99-ABCS",
        "colab_type": "text"
      },
      "source": [
        "9. What if we absolutely wanted to limit ourselves to, say, 7 features? This may be important if we want to derive \"a rule of thumb\" --- an interpretable model that has only a few features in them.\n",
        "\n",
        "You are going to implement a simple, two phase procedure to achieve this goal:\n",
        "\n",
        "\n",
        "\n",
        "*   Explore a large range of ‘l1_penalty’ values to find a narrow region of ‘l1_penalty’ values where models are likely to have the desired number of non-zero weights.\n",
        "\n",
        "\n",
        "*   Further explore the narrow region you found to find a good value for ‘l1_penalty’ that achieves the desired sparsity. Here, we will again use a validation set to choose the best value for ‘l1_penalty’.\n",
        "\n",
        "\n",
        "10. Assign 7 to the variable ‘max_nonzeros’.\n",
        "\n",
        "11. Exploring large range of l1_penalty\n",
        "\n",
        "For l1_penalty in np.logspace(1, 4, num=20): \n",
        "          \n",
        "    instead this take np.logspace(8, 10, 20)\n",
        "\n",
        "Fit a regression model with a given l1_penalty on TRAIN data. Add \"alpha=l1_penalty\" and \"normalize=True\" to the parameter list.\n"
      ]
    },
    {
      "cell_type": "code",
      "metadata": {
        "id": "T7bcXkJw_uB7",
        "colab_type": "code",
        "colab": {}
      },
      "source": [
        "max_nonzeros = 7"
      ],
      "execution_count": 63,
      "outputs": []
    },
    {
      "cell_type": "code",
      "metadata": {
        "id": "HxgEbJW1JUIi",
        "colab_type": "code",
        "colab": {
          "base_uri": "https://localhost:8080/",
          "height": 391
        },
        "outputId": "a873fc69-a567-40ad-b1f0-c4bda7307c1a"
      },
      "source": [
        "min_error = None\n",
        "best_l1_penalty = None\n",
        "nz_penalty =[]\n",
        "validation_errors = []\n",
        "for l1_penalty in np.logspace(8, 10, 20):\n",
        "    print(l1_penalty)\n",
        "    model = turicreate.linear_regression.create(training, target='price', features=all_features,\n",
        "                                              validation_set=None, verbose=None,\n",
        "                                              l2_penalty=0., l1_penalty=l1_penalty)\n",
        "    # print(\"# Non-zeros : \" + str(model['coefficients']['value'].nnz()))\n",
        "    nz_penalty.append((l1_penalty, (model.coefficients['value']).nnz()))\n",
        "    price_predicted = model.predict(validation)\n",
        "    RSS = ((price_predicted-validation['price'])**2).sum()\n",
        "    validation_errors.append(RSS)\n",
        "    if min_error is None or RSS < min_error:\n",
        "        min_error = RSS\n",
        "        best_l1_penalty = l1_penalty\n",
        "\n",
        "print(\"Best l1_penalty: \" + str(best_l1_penalty))\n",
        "print(\"Best RSS: \" + str('{0:f}'.format(min_error)))"
      ],
      "execution_count": 114,
      "outputs": [
        {
          "output_type": "stream",
          "text": [
            "100000000.0\n",
            "127427498.57031322\n",
            "162377673.91887242\n",
            "206913808.111479\n",
            "263665089.87303555\n",
            "335981828.6283788\n",
            "428133239.8719396\n",
            "545559478.1168514\n",
            "695192796.1775591\n",
            "885866790.4100832\n",
            "1128837891.6846883\n",
            "1438449888.2876658\n",
            "1832980710.8324375\n",
            "2335721469.0901213\n",
            "2976351441.6313133\n",
            "3792690190.7322536\n",
            "4832930238.571753\n",
            "6158482110.6602545\n",
            "7847599703.514623\n",
            "10000000000.0\n",
            "Best l1_penalty: 100000000.0\n",
            "Best RSS: 627492659875074.625000\n"
          ],
          "name": "stdout"
        }
      ]
    },
    {
      "cell_type": "code",
      "metadata": {
        "id": "9XvQQOBoANaD",
        "colab_type": "code",
        "colab": {}
      },
      "source": [
        "# coef_dict = {}\n",
        "# for l1_penalty in np.logspace(8, 10, 20):\n",
        "#   model_new = turicreate.linear_regression.create(training,\n",
        "#                                                   target='price',\n",
        "#                                                   features=all_features,\n",
        "#                                                   l2_penalty=0,\n",
        "#                                                   l1_penalty=l1_penalty,\n",
        "#                                                   validation_set=None, verbose=None)\n",
        "#   validation_errors.append(RSS)\n",
        "#   if min_error is None or RSS < min_error:\n",
        "#     min_error = RSS\n",
        "#     best_l1_penalty = l1_penalty\n",
        "#   # coef_dict[l1_penalty] = model_new['coefficients']['value'].nnz()"
      ],
      "execution_count": 102,
      "outputs": []
    },
    {
      "cell_type": "code",
      "metadata": {
        "id": "qBWmPkQCB9_c",
        "colab_type": "code",
        "colab": {
          "base_uri": "https://localhost:8080/",
          "height": 425
        },
        "outputId": "2c4ec6e4-8d5b-4176-8e16-638984fdb448"
      },
      "source": [
        "model_new.coefficients.print_rows(num_rows=30)"
      ],
      "execution_count": 145,
      "outputs": [
        {
          "output_type": "stream",
          "text": [
            "+------------------+-------+-------------------+--------+\n",
            "|       name       | index |       value       | stderr |\n",
            "+------------------+-------+-------------------+--------+\n",
            "|   (intercept)    |  None | 564482.1368441752 |  None  |\n",
            "|     bedrooms     |  None |        0.0        |  None  |\n",
            "| bedrooms_square  |  None |        0.0        |  None  |\n",
            "|    bathrooms     |  None |        0.0        |  None  |\n",
            "|   sqft_living    |  None |        0.0        |  None  |\n",
            "| sqft_living_sqrt |  None |        0.0        |  None  |\n",
            "|     sqft_lot     |  None |        0.0        |  None  |\n",
            "|  sqft_lot_sqrt   |  None |        0.0        |  None  |\n",
            "|      floors      |  None |        0.0        |  None  |\n",
            "|  floors_square   |  None |        0.0        |  None  |\n",
            "|    waterfront    |  None |        0.0        |  None  |\n",
            "|       view       |  None |        0.0        |  None  |\n",
            "|    condition     |  None |        0.0        |  None  |\n",
            "|      grade       |  None |        0.0        |  None  |\n",
            "|    sqft_above    |  None |        0.0        |  None  |\n",
            "|  sqft_basement   |  None |        0.0        |  None  |\n",
            "|     yr_built     |  None |        0.0        |  None  |\n",
            "|   yr_renovated   |  None |        0.0        |  None  |\n",
            "+------------------+-------+-------------------+--------+\n",
            "[18 rows x 4 columns]\n",
            "\n"
          ],
          "name": "stdout"
        }
      ]
    },
    {
      "cell_type": "markdown",
      "metadata": {
        "id": "NE1tzp4zC639",
        "colab_type": "text"
      },
      "source": [
        "12. Out of this large range, we want to find the two ends of our desired narrow range of l1_penalty. At one end, we will have l1_penalty values that have too few non-zeros, and at the other end, we will have an l1_penalty that has too many non-zeros.\n",
        "\n",
        "More formally, find:\n",
        "\n",
        "> The largest l1_penalty that has more non-zeros than ‘max_nonzeros’ (if we pick a penalty smaller than this value, we will definitely have too many non-zero weights)Store this value in the variable ‘l1_penalty_min’ (we will use it later)\n",
        "\n",
        "> The smallest l1_penalty that has fewer non-zeros than ‘max_nonzeros’ (if we pick a penalty larger than this value, we will definitely have too few non-zero weights)Store this value in the variable ‘l1_penalty_max’ (we will use it later)\n",
        "\n",
        "Hint: there are many ways to do this, e.g.:\n",
        "\n",
        "> Programmatically within the loop above\n",
        "\n",
        "> Creating a list with the number of non-zeros for each value of l1_penalty and inspecting it to find the appropriate boundaries."
      ]
    },
    {
      "cell_type": "code",
      "metadata": {
        "id": "xWt9PIWjJaug",
        "colab_type": "code",
        "colab": {
          "base_uri": "https://localhost:8080/",
          "height": 34
        },
        "outputId": "0c149722-462e-4cae-f547-abb6709cad07"
      },
      "source": [
        "l1_penalty_min = max([t[0] for t in nz_penalty if t[1] > max_nonzeros])\n",
        "l1_penalty_max = min([t[0] for t in nz_penalty if t[1] < max_nonzeros])\n",
        "print(l1_penalty_min, l1_penalty_max)"
      ],
      "execution_count": 115,
      "outputs": [
        {
          "output_type": "stream",
          "text": [
            "2976351441.6313133 3792690190.7322536\n"
          ],
          "name": "stdout"
        }
      ]
    },
    {
      "cell_type": "code",
      "metadata": {
        "id": "REyAF_o0CpFz",
        "colab_type": "code",
        "colab": {}
      },
      "source": [
        "# min(model_new.coefficients['value'])"
      ],
      "execution_count": 117,
      "outputs": []
    },
    {
      "cell_type": "code",
      "metadata": {
        "id": "uEzc2vnJDXi-",
        "colab_type": "code",
        "colab": {}
      },
      "source": [
        "# max(model_new.coefficients[\"value\"])"
      ],
      "execution_count": 118,
      "outputs": []
    },
    {
      "cell_type": "markdown",
      "metadata": {
        "id": "VCxoH0vMD_eE",
        "colab_type": "text"
      },
      "source": [
        "13. **Quiz Question:** What values did you find for l1_penalty_min and l1_penalty_max?"
      ]
    },
    {
      "cell_type": "markdown",
      "metadata": {
        "id": "Kq37qjeLEFKp",
        "colab_type": "text"
      },
      "source": [
        "14. Exploring narrower range of l1_penalty\n",
        "\n",
        "We now explore the region of l1_penalty we found: between ‘l1_penalty_min’ and ‘l1_penalty_max’. We look for the L1 penalty in this range that produces exactly the right number of nonzeros and also minimizes RSS on the VALIDATION set."
      ]
    },
    {
      "cell_type": "code",
      "metadata": {
        "id": "bar2XxiQDpFR",
        "colab_type": "code",
        "colab": {}
      },
      "source": [
        "l1_penalty_min = 2976351441.6313128\n",
        "l1_penalty_max = 3792690190.7322536"
      ],
      "execution_count": 119,
      "outputs": []
    },
    {
      "cell_type": "code",
      "metadata": {
        "id": "_16uXkC_EhTy",
        "colab_type": "code",
        "colab": {
          "base_uri": "https://localhost:8080/",
          "height": 51
        },
        "outputId": "1d95c336-40c8-43fa-d5e6-13b3155ff268"
      },
      "source": [
        "# l1_penalty_values = np.linspace(l1_penalty_min,l1_penalty_max,20)\n",
        "\n",
        "# min_error = None\n",
        "# best_l1_penalty = None\n",
        "# validation_errors = []\n",
        "# for l1_penalty in l1_penalty_values:\n",
        "#     model = turicreate.linear_regression.create(training, target='price', features=all_features,\n",
        "#                                               validation_set=None, verbose=None,\n",
        "#                                               l2_penalty=0., l1_penalty=l1_penalty)\n",
        "    \n",
        "#     price_predicted = model.predict(validation)\n",
        "#     RSS = ((price_predicted-validation['price'])**2).sum()\n",
        "#     validation_errors.append(RSS)\n",
        "#     if min_error is None or RSS < min_error:\n",
        "#         min_error = RSS\n",
        "#         best_l1_penalty = l1_penalty\n",
        "\n",
        "# print(\"Best l1_penalty: \" + str(best_l1_penalty))\n",
        "# print(\"Best RSS: \" + str('{0:f}'.format(min_error)))"
      ],
      "execution_count": 129,
      "outputs": [
        {
          "output_type": "stream",
          "text": [
            "Best l1_penalty: 2976351441.631313\n",
            "Best RSS: 966925692362085.875000\n"
          ],
          "name": "stdout"
        }
      ]
    },
    {
      "cell_type": "code",
      "metadata": {
        "id": "uRGkucMJPJhQ",
        "colab_type": "code",
        "colab": {}
      },
      "source": [
        "validation_rss = {}\n",
        "for l1_penalty in l1_penalty_values:\n",
        "    model = turicreate.linear_regression.create(training, target='price', features=all_features,\n",
        "                                              validation_set=None, verbose = False,\n",
        "                                              l2_penalty=0., l1_penalty=l1_penalty)\n",
        "    predictions = model.predict(validation)\n",
        "    residuals = validation['price'] - predictions\n",
        "    rss = sum(residuals**2)\n",
        "    validation_rss[l1_penalty] = rss, model.coefficients['value'].nnz()"
      ],
      "execution_count": 132,
      "outputs": []
    },
    {
      "cell_type": "code",
      "metadata": {
        "id": "we2pQL52FlWk",
        "colab_type": "code",
        "colab": {
          "base_uri": "https://localhost:8080/",
          "height": 68
        },
        "outputId": "5da56e46-23e7-4f17-f5ad-c3357398d233"
      },
      "source": [
        "bestRSS = 966925692362085.875000\n",
        "for k,v in validation_rss.items():\n",
        "  \n",
        "  bestl1 = k\n",
        "  if (v[1] == max_nonzeros) and (v[0] < bestRSS):\n",
        "    bestRSS = v[0]\n",
        "    bestl1 = k\n",
        "        \n",
        "print(bestRSS, bestl1)\n",
        "print(min(validation_rss))\n",
        "print(max(validation_rss))"
      ],
      "execution_count": 137,
      "outputs": [
        {
          "output_type": "stream",
          "text": [
            "966925692362085.9 3792690190.7322536\n",
            "2976351441.631313\n",
            "3792690190.7322536\n"
          ],
          "name": "stdout"
        }
      ]
    },
    {
      "cell_type": "code",
      "metadata": {
        "id": "p93UgRG_GI_h",
        "colab_type": "code",
        "colab": {}
      },
      "source": [
        "model = turicreate.linear_regression.create(training, target='price', features=all_features,\n",
        "                                              validation_set=None, verbose = False,\n",
        "                                              l2_penalty=0., l1_penalty=3448968612.16)"
      ],
      "execution_count": 138,
      "outputs": []
    },
    {
      "cell_type": "code",
      "metadata": {
        "id": "lkCGHWCFMKvL",
        "colab_type": "code",
        "colab": {
          "base_uri": "https://localhost:8080/",
          "height": 459
        },
        "outputId": "3a74482b-7cc7-451e-ca4a-4bec27029c2c"
      },
      "source": [
        "price_predicted = model.predict(validation)\n",
        "RSS = ((price_predicted-validation['price'])**2).sum()\n",
        "print(RSS)\n",
        "print(model.coefficients.print_rows(num_rows=18))"
      ],
      "execution_count": 141,
      "outputs": [
        {
          "output_type": "stream",
          "text": [
            "1046937488751711.6\n",
            "+------------------+-------+--------------------+--------+\n",
            "|       name       | index |       value        | stderr |\n",
            "+------------------+-------+--------------------+--------+\n",
            "|   (intercept)    |  None | 222253.19254432796 |  None  |\n",
            "|     bedrooms     |  None | 661.7227177822556  |  None  |\n",
            "| bedrooms_square  |  None |        0.0         |  None  |\n",
            "|    bathrooms     |  None | 15873.957259267987 |  None  |\n",
            "|   sqft_living    |  None | 32.41022145125966  |  None  |\n",
            "| sqft_living_sqrt |  None | 690.1147733133253  |  None  |\n",
            "|     sqft_lot     |  None |        0.0         |  None  |\n",
            "|  sqft_lot_sqrt   |  None |        0.0         |  None  |\n",
            "|      floors      |  None |        0.0         |  None  |\n",
            "|  floors_square   |  None |        0.0         |  None  |\n",
            "|    waterfront    |  None |        0.0         |  None  |\n",
            "|       view       |  None |        0.0         |  None  |\n",
            "|    condition     |  None |        0.0         |  None  |\n",
            "|      grade       |  None | 2899.4202697498704 |  None  |\n",
            "|    sqft_above    |  None | 30.01157530220103  |  None  |\n",
            "|  sqft_basement   |  None |        0.0         |  None  |\n",
            "|     yr_built     |  None |        0.0         |  None  |\n",
            "|   yr_renovated   |  None |        0.0         |  None  |\n",
            "+------------------+-------+--------------------+--------+\n",
            "[18 rows x 4 columns]\n",
            "\n",
            "None\n"
          ],
          "name": "stdout"
        }
      ]
    },
    {
      "cell_type": "code",
      "metadata": {
        "id": "_WRtQhyVQHSX",
        "colab_type": "code",
        "colab": {
          "base_uri": "https://localhost:8080/",
          "height": 646
        },
        "outputId": "db30f4d5-930a-4968-d414-a0485c4ef804"
      },
      "source": [
        "model"
      ],
      "execution_count": 142,
      "outputs": [
        {
          "output_type": "execute_result",
          "data": {
            "text/plain": [
              "Class                          : LinearRegression\n",
              "\n",
              "Schema\n",
              "------\n",
              "Number of coefficients         : 18\n",
              "Number of examples             : 9761\n",
              "Number of feature columns      : 17\n",
              "Number of unpacked features    : 17\n",
              "\n",
              "Hyperparameters\n",
              "---------------\n",
              "L1 penalty                     : 3448968612.16\n",
              "L2 penalty                     : 0.0\n",
              "\n",
              "Training Summary\n",
              "----------------\n",
              "Solver                         : fista\n",
              "Solver iterations              : 10\n",
              "Solver status                  : Completed (Iteration limit reached).\n",
              "Training time (sec)            : 0.3073\n",
              "\n",
              "Settings\n",
              "--------\n",
              "Residual sum of squares        : 1188861688710811.0\n",
              "Training RMSE                  : 351567.8079\n",
              "\n",
              "Highest Positive Coefficients\n",
              "-----------------------------\n",
              "(intercept)                    : 222253.1925\n",
              "bathrooms                      : 15873.9573\n",
              "grade                          : 2899.4203\n",
              "sqft_living_sqrt               : 690.1148\n",
              "bedrooms                       : 661.7227\n",
              "\n",
              "Lowest Negative Coefficients\n",
              "----------------------------\n",
              "No Negative Coefficients       : "
            ]
          },
          "metadata": {
            "tags": []
          },
          "execution_count": 142
        }
      ]
    },
    {
      "cell_type": "code",
      "metadata": {
        "id": "ee4KiENgQRNp",
        "colab_type": "code",
        "colab": {}
      },
      "source": [
        ""
      ],
      "execution_count": null,
      "outputs": []
    }
  ]
}