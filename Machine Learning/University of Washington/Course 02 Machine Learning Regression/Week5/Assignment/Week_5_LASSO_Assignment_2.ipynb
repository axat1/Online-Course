{
  "nbformat": 4,
  "nbformat_minor": 0,
  "metadata": {
    "colab": {
      "name": "Week 5: LASSO Assignment 2.ipynb",
      "provenance": []
    },
    "kernelspec": {
      "name": "python3",
      "display_name": "Python 3"
    }
  },
  "cells": [
    {
      "cell_type": "code",
      "metadata": {
        "id": "0tgQRn6qaRYu",
        "colab_type": "code",
        "colab": {
          "base_uri": "https://localhost:8080/",
          "height": 1000
        },
        "outputId": "61a06ce7-f5f2-4431-f122-c6346f17ff95"
      },
      "source": [
        "!pip install turicreate"
      ],
      "execution_count": 1,
      "outputs": [
        {
          "output_type": "stream",
          "text": [
            "Collecting turicreate\n",
            "\u001b[?25l  Downloading https://files.pythonhosted.org/packages/e4/76/76c624d7ae1116b22cd559288596a1f9aa7a50f8f43f4481033fc047f5e9/turicreate-6.3-cp36-cp36m-manylinux1_x86_64.whl (91.9MB)\n",
            "\u001b[K     |████████████████████████████████| 91.9MB 44kB/s \n",
            "\u001b[?25hCollecting resampy==0.2.1\n",
            "\u001b[?25l  Downloading https://files.pythonhosted.org/packages/14/b6/66a06d85474190b50aee1a6c09cdc95bb405ac47338b27e9b21409da1760/resampy-0.2.1.tar.gz (322kB)\n",
            "\u001b[K     |████████████████████████████████| 327kB 16.9MB/s \n",
            "\u001b[?25hRequirement already satisfied: pandas>=0.23.2 in /usr/local/lib/python3.6/dist-packages (from turicreate) (1.0.4)\n",
            "Requirement already satisfied: pillow>=5.2.0 in /usr/local/lib/python3.6/dist-packages (from turicreate) (7.0.0)\n",
            "Requirement already satisfied: prettytable==0.7.2 in /usr/local/lib/python3.6/dist-packages (from turicreate) (0.7.2)\n",
            "Requirement already satisfied: decorator>=4.0.9 in /usr/local/lib/python3.6/dist-packages (from turicreate) (4.4.2)\n",
            "Requirement already satisfied: numpy in /usr/local/lib/python3.6/dist-packages (from turicreate) (1.18.5)\n",
            "Requirement already satisfied: scipy>=1.1.0 in /usr/local/lib/python3.6/dist-packages (from turicreate) (1.4.1)\n",
            "Requirement already satisfied: requests>=2.9.1 in /usr/local/lib/python3.6/dist-packages (from turicreate) (2.23.0)\n",
            "Collecting tensorflow<=2.0.1,>=2.0.0\n",
            "\u001b[?25l  Downloading https://files.pythonhosted.org/packages/43/16/b07e3f7a4a024b47918f7018967eb984b0c542458a6141d8c48515aa81d4/tensorflow-2.0.1-cp36-cp36m-manylinux2010_x86_64.whl (86.3MB)\n",
            "\u001b[K     |████████████████████████████████| 86.3MB 62kB/s \n",
            "\u001b[?25hRequirement already satisfied: six>=1.10.0 in /usr/local/lib/python3.6/dist-packages (from turicreate) (1.12.0)\n",
            "Collecting coremltools==3.3\n",
            "\u001b[?25l  Downloading https://files.pythonhosted.org/packages/77/19/611916d1ef326d38857d93af5ba184f6ad7491642e0fa4f9082e7d82f034/coremltools-3.3-cp36-none-manylinux1_x86_64.whl (3.4MB)\n",
            "\u001b[K     |████████████████████████████████| 3.4MB 39.3MB/s \n",
            "\u001b[?25hRequirement already satisfied: numba>=0.32 in /usr/local/lib/python3.6/dist-packages (from resampy==0.2.1->turicreate) (0.48.0)\n",
            "Requirement already satisfied: pytz>=2017.2 in /usr/local/lib/python3.6/dist-packages (from pandas>=0.23.2->turicreate) (2018.9)\n",
            "Requirement already satisfied: python-dateutil>=2.6.1 in /usr/local/lib/python3.6/dist-packages (from pandas>=0.23.2->turicreate) (2.8.1)\n",
            "Requirement already satisfied: certifi>=2017.4.17 in /usr/local/lib/python3.6/dist-packages (from requests>=2.9.1->turicreate) (2020.4.5.1)\n",
            "Requirement already satisfied: urllib3!=1.25.0,!=1.25.1,<1.26,>=1.21.1 in /usr/local/lib/python3.6/dist-packages (from requests>=2.9.1->turicreate) (1.24.3)\n",
            "Requirement already satisfied: idna<3,>=2.5 in /usr/local/lib/python3.6/dist-packages (from requests>=2.9.1->turicreate) (2.9)\n",
            "Requirement already satisfied: chardet<4,>=3.0.2 in /usr/local/lib/python3.6/dist-packages (from requests>=2.9.1->turicreate) (3.0.4)\n",
            "Requirement already satisfied: keras-applications>=1.0.8 in /usr/local/lib/python3.6/dist-packages (from tensorflow<=2.0.1,>=2.0.0->turicreate) (1.0.8)\n",
            "Requirement already satisfied: protobuf>=3.6.1 in /usr/local/lib/python3.6/dist-packages (from tensorflow<=2.0.1,>=2.0.0->turicreate) (3.10.0)\n",
            "Requirement already satisfied: wheel>=0.26; python_version >= \"3\" in /usr/local/lib/python3.6/dist-packages (from tensorflow<=2.0.1,>=2.0.0->turicreate) (0.34.2)\n",
            "Requirement already satisfied: astor>=0.6.0 in /usr/local/lib/python3.6/dist-packages (from tensorflow<=2.0.1,>=2.0.0->turicreate) (0.8.1)\n",
            "Requirement already satisfied: grpcio>=1.8.6 in /usr/local/lib/python3.6/dist-packages (from tensorflow<=2.0.1,>=2.0.0->turicreate) (1.29.0)\n",
            "Collecting gast==0.2.2\n",
            "  Downloading https://files.pythonhosted.org/packages/4e/35/11749bf99b2d4e3cceb4d55ca22590b0d7c2c62b9de38ac4a4a7f4687421/gast-0.2.2.tar.gz\n",
            "Collecting tensorflow-estimator<2.1.0,>=2.0.0\n",
            "\u001b[?25l  Downloading https://files.pythonhosted.org/packages/fc/08/8b927337b7019c374719145d1dceba21a8bb909b93b1ad6f8fb7d22c1ca1/tensorflow_estimator-2.0.1-py2.py3-none-any.whl (449kB)\n",
            "\u001b[K     |████████████████████████████████| 450kB 44.1MB/s \n",
            "\u001b[?25hRequirement already satisfied: wrapt>=1.11.1 in /usr/local/lib/python3.6/dist-packages (from tensorflow<=2.0.1,>=2.0.0->turicreate) (1.12.1)\n",
            "Collecting tensorboard<2.1.0,>=2.0.0\n",
            "\u001b[?25l  Downloading https://files.pythonhosted.org/packages/76/54/99b9d5d52d5cb732f099baaaf7740403e83fe6b0cedde940fabd2b13d75a/tensorboard-2.0.2-py3-none-any.whl (3.8MB)\n",
            "\u001b[K     |████████████████████████████████| 3.8MB 38.8MB/s \n",
            "\u001b[?25hRequirement already satisfied: opt-einsum>=2.3.2 in /usr/local/lib/python3.6/dist-packages (from tensorflow<=2.0.1,>=2.0.0->turicreate) (3.2.1)\n",
            "Requirement already satisfied: google-pasta>=0.1.6 in /usr/local/lib/python3.6/dist-packages (from tensorflow<=2.0.1,>=2.0.0->turicreate) (0.2.0)\n",
            "Requirement already satisfied: absl-py>=0.7.0 in /usr/local/lib/python3.6/dist-packages (from tensorflow<=2.0.1,>=2.0.0->turicreate) (0.9.0)\n",
            "Requirement already satisfied: termcolor>=1.1.0 in /usr/local/lib/python3.6/dist-packages (from tensorflow<=2.0.1,>=2.0.0->turicreate) (1.1.0)\n",
            "Requirement already satisfied: keras-preprocessing>=1.0.5 in /usr/local/lib/python3.6/dist-packages (from tensorflow<=2.0.1,>=2.0.0->turicreate) (1.1.2)\n",
            "Requirement already satisfied: setuptools in /usr/local/lib/python3.6/dist-packages (from numba>=0.32->resampy==0.2.1->turicreate) (47.1.1)\n",
            "Requirement already satisfied: llvmlite<0.32.0,>=0.31.0dev0 in /usr/local/lib/python3.6/dist-packages (from numba>=0.32->resampy==0.2.1->turicreate) (0.31.0)\n",
            "Requirement already satisfied: h5py in /usr/local/lib/python3.6/dist-packages (from keras-applications>=1.0.8->tensorflow<=2.0.1,>=2.0.0->turicreate) (2.10.0)\n",
            "Requirement already satisfied: google-auth<2,>=1.6.3 in /usr/local/lib/python3.6/dist-packages (from tensorboard<2.1.0,>=2.0.0->tensorflow<=2.0.1,>=2.0.0->turicreate) (1.7.2)\n",
            "Requirement already satisfied: werkzeug>=0.11.15 in /usr/local/lib/python3.6/dist-packages (from tensorboard<2.1.0,>=2.0.0->tensorflow<=2.0.1,>=2.0.0->turicreate) (1.0.1)\n",
            "Requirement already satisfied: google-auth-oauthlib<0.5,>=0.4.1 in /usr/local/lib/python3.6/dist-packages (from tensorboard<2.1.0,>=2.0.0->tensorflow<=2.0.1,>=2.0.0->turicreate) (0.4.1)\n",
            "Requirement already satisfied: markdown>=2.6.8 in /usr/local/lib/python3.6/dist-packages (from tensorboard<2.1.0,>=2.0.0->tensorflow<=2.0.1,>=2.0.0->turicreate) (3.2.2)\n",
            "Requirement already satisfied: rsa<4.1,>=3.1.4 in /usr/local/lib/python3.6/dist-packages (from google-auth<2,>=1.6.3->tensorboard<2.1.0,>=2.0.0->tensorflow<=2.0.1,>=2.0.0->turicreate) (4.0)\n",
            "Requirement already satisfied: cachetools<3.2,>=2.0.0 in /usr/local/lib/python3.6/dist-packages (from google-auth<2,>=1.6.3->tensorboard<2.1.0,>=2.0.0->tensorflow<=2.0.1,>=2.0.0->turicreate) (3.1.1)\n",
            "Requirement already satisfied: pyasn1-modules>=0.2.1 in /usr/local/lib/python3.6/dist-packages (from google-auth<2,>=1.6.3->tensorboard<2.1.0,>=2.0.0->tensorflow<=2.0.1,>=2.0.0->turicreate) (0.2.8)\n",
            "Requirement already satisfied: requests-oauthlib>=0.7.0 in /usr/local/lib/python3.6/dist-packages (from google-auth-oauthlib<0.5,>=0.4.1->tensorboard<2.1.0,>=2.0.0->tensorflow<=2.0.1,>=2.0.0->turicreate) (1.3.0)\n",
            "Requirement already satisfied: importlib-metadata; python_version < \"3.8\" in /usr/local/lib/python3.6/dist-packages (from markdown>=2.6.8->tensorboard<2.1.0,>=2.0.0->tensorflow<=2.0.1,>=2.0.0->turicreate) (1.6.0)\n",
            "Requirement already satisfied: pyasn1>=0.1.3 in /usr/local/lib/python3.6/dist-packages (from rsa<4.1,>=3.1.4->google-auth<2,>=1.6.3->tensorboard<2.1.0,>=2.0.0->tensorflow<=2.0.1,>=2.0.0->turicreate) (0.4.8)\n",
            "Requirement already satisfied: oauthlib>=3.0.0 in /usr/local/lib/python3.6/dist-packages (from requests-oauthlib>=0.7.0->google-auth-oauthlib<0.5,>=0.4.1->tensorboard<2.1.0,>=2.0.0->tensorflow<=2.0.1,>=2.0.0->turicreate) (3.1.0)\n",
            "Requirement already satisfied: zipp>=0.5 in /usr/local/lib/python3.6/dist-packages (from importlib-metadata; python_version < \"3.8\"->markdown>=2.6.8->tensorboard<2.1.0,>=2.0.0->tensorflow<=2.0.1,>=2.0.0->turicreate) (3.1.0)\n",
            "Building wheels for collected packages: resampy, gast\n",
            "  Building wheel for resampy (setup.py) ... \u001b[?25l\u001b[?25hdone\n",
            "  Created wheel for resampy: filename=resampy-0.2.1-cp36-none-any.whl size=320850 sha256=9731ff3768217270a8223166e504454601bc046ef7df5affd35cb55f5dab2c6b\n",
            "  Stored in directory: /root/.cache/pip/wheels/ff/4f/ed/2e6c676c23efe5394bb40ade50662e90eb46e29b48324c5f9b\n",
            "  Building wheel for gast (setup.py) ... \u001b[?25l\u001b[?25hdone\n",
            "  Created wheel for gast: filename=gast-0.2.2-cp36-none-any.whl size=7540 sha256=f6078a9ce35d697acc26574a70b9d595b95a46961226ff9349faeac226886d79\n",
            "  Stored in directory: /root/.cache/pip/wheels/5c/2e/7e/a1d4d4fcebe6c381f378ce7743a3ced3699feb89bcfbdadadd\n",
            "Successfully built resampy gast\n",
            "\u001b[31mERROR: tensorflow-probability 0.10.0 has requirement gast>=0.3.2, but you'll have gast 0.2.2 which is incompatible.\u001b[0m\n",
            "Installing collected packages: resampy, gast, tensorflow-estimator, tensorboard, tensorflow, coremltools, turicreate\n",
            "  Found existing installation: resampy 0.2.2\n",
            "    Uninstalling resampy-0.2.2:\n",
            "      Successfully uninstalled resampy-0.2.2\n",
            "  Found existing installation: gast 0.3.3\n",
            "    Uninstalling gast-0.3.3:\n",
            "      Successfully uninstalled gast-0.3.3\n",
            "  Found existing installation: tensorflow-estimator 2.2.0\n",
            "    Uninstalling tensorflow-estimator-2.2.0:\n",
            "      Successfully uninstalled tensorflow-estimator-2.2.0\n",
            "  Found existing installation: tensorboard 2.2.2\n",
            "    Uninstalling tensorboard-2.2.2:\n",
            "      Successfully uninstalled tensorboard-2.2.2\n",
            "  Found existing installation: tensorflow 2.2.0\n",
            "    Uninstalling tensorflow-2.2.0:\n",
            "      Successfully uninstalled tensorflow-2.2.0\n",
            "Successfully installed coremltools-3.3 gast-0.2.2 resampy-0.2.1 tensorboard-2.0.2 tensorflow-2.0.1 tensorflow-estimator-2.0.1 turicreate-6.3\n"
          ],
          "name": "stdout"
        }
      ]
    },
    {
      "cell_type": "code",
      "metadata": {
        "id": "-U5-sKmoacbe",
        "colab_type": "code",
        "colab": {}
      },
      "source": [
        "import turicreate\n",
        "import numpy as np"
      ],
      "execution_count": 2,
      "outputs": []
    },
    {
      "cell_type": "code",
      "metadata": {
        "id": "peMoozN2bTOc",
        "colab_type": "code",
        "colab": {}
      },
      "source": [
        "sales = turicreate.SFrame('/content/drive/My Drive/Colab Notebooks/Machine Learning/Course 2 Machine Learning Regression/Week2/Assignment1/home_data.sframe')"
      ],
      "execution_count": 3,
      "outputs": []
    },
    {
      "cell_type": "code",
      "metadata": {
        "id": "2d0-ErzEbfuJ",
        "colab_type": "code",
        "colab": {}
      },
      "source": [
        "# In the dataset, 'floors' was defined with type string, \n",
        "# so we'll convert them to float and then to int, before using it below\n",
        "sales['floors'] = sales['floors'].astype(int)"
      ],
      "execution_count": 5,
      "outputs": []
    },
    {
      "cell_type": "markdown",
      "metadata": {
        "id": "lDC3J-iycDA2",
        "colab_type": "text"
      },
      "source": [
        "#import all the usefull function from previous notebooks"
      ]
    },
    {
      "cell_type": "code",
      "metadata": {
        "id": "p7W3NyLjb8mq",
        "colab_type": "code",
        "colab": {}
      },
      "source": [
        "def get_numpy_data(data_sframe, features, output):\n",
        "    data_sframe['constant'] = 1 # this is how you add a constant column to an SFrame\n",
        "    # add the column 'constant' to the front of the features list so that we can extract it along with the others:\n",
        "    features = ['constant'] + features # this is how you combine two lists\n",
        "    # select the columns of data_SFrame given by the features list into the SFrame features_sframe (now including constant):\n",
        "    features_sframe = data_sframe[features]\n",
        "    # the following line will convert the features_SFrame into a numpy matrix:\n",
        "    feature_matrix = features_sframe.to_numpy()\n",
        "    # assign the column of data_sframe associated with the output to the SArray output_sarray\n",
        "    output_sarray = data_sframe[output]\n",
        "    # the following will convert the SArray into a numpy array by first converting it to a list\n",
        "    output_array = output_sarray.to_numpy()\n",
        "    return(feature_matrix, output_array)"
      ],
      "execution_count": 6,
      "outputs": []
    },
    {
      "cell_type": "code",
      "metadata": {
        "id": "ZiaN7rk8cOrR",
        "colab_type": "code",
        "colab": {}
      },
      "source": [
        "def predict_output(feature_matrix, weights):\n",
        "    # assume feature_matrix is a numpy matrix containing the features as columns and weights is a corresponding numpy array\n",
        "    # create the predictions vector by using np.dot()\n",
        "    predictions = np.dot(feature_matrix, weights)\n",
        "\n",
        "    return(predictions)"
      ],
      "execution_count": 7,
      "outputs": []
    },
    {
      "cell_type": "markdown",
      "metadata": {
        "id": "_4fh7lBRceKc",
        "colab_type": "text"
      },
      "source": [
        "# Normalize features\n",
        "In the house dataset, features vary wildly in their relative magnitude: `sqft_living` is very large overall compared to `bedrooms`, for instance. As a result, weight for `sqft_living` would be much smaller than weight for `bedrooms`. This is problematic because \"small\" weights are dropped first as `l1_penalty` goes up. \n",
        "\n",
        "To give equal considerations for all features, we need to **normalize features** as discussed in the lectures: we divide each feature by its 2-norm so that the transformed feature has norm 1.\n",
        "\n",
        "Let's see how we can do this normalization easily with Numpy: let us first consider a small matrix."
      ]
    },
    {
      "cell_type": "code",
      "metadata": {
        "id": "uhmkPeUYcQdf",
        "colab_type": "code",
        "colab": {
          "base_uri": "https://localhost:8080/",
          "height": 51
        },
        "outputId": "eb963049-2a69-49b1-ae95-55f06cb7c8a6"
      },
      "source": [
        "X = np.array([[3.,5.,8.],[4.,12.,15.]])\n",
        "print(X)"
      ],
      "execution_count": 9,
      "outputs": [
        {
          "output_type": "stream",
          "text": [
            "[[ 3.  5.  8.]\n",
            " [ 4. 12. 15.]]\n"
          ],
          "name": "stdout"
        }
      ]
    },
    {
      "cell_type": "markdown",
      "metadata": {
        "id": "fZMzUY8Mb3Y4",
        "colab_type": "text"
      },
      "source": [
        "Numpy provides a shorthand for computing 2-norms of each column:"
      ]
    },
    {
      "cell_type": "code",
      "metadata": {
        "id": "VrlFpf5Ob3Y5",
        "colab_type": "code",
        "colab": {
          "base_uri": "https://localhost:8080/",
          "height": 34
        },
        "outputId": "114323dc-67f4-4afd-c417-5062fb6cbb25"
      },
      "source": [
        "norms = np.linalg.norm(X, axis=0) # gives [norm(X[:,0]), norm(X[:,1]), norm(X[:,2])]\n",
        "print(norms)"
      ],
      "execution_count": 10,
      "outputs": [
        {
          "output_type": "stream",
          "text": [
            "[ 5. 13. 17.]\n"
          ],
          "name": "stdout"
        }
      ]
    },
    {
      "cell_type": "markdown",
      "metadata": {
        "id": "qyOq68rIdB7N",
        "colab_type": "text"
      },
      "source": [
        "To normalize, apply element-wise division:"
      ]
    },
    {
      "cell_type": "code",
      "metadata": {
        "id": "PyBF17y2cjZ6",
        "colab_type": "code",
        "colab": {
          "base_uri": "https://localhost:8080/",
          "height": 51
        },
        "outputId": "8a01c4fa-06ba-4466-9d9c-1ac42f93671f"
      },
      "source": [
        "print(X / norms) # gives [X[:,0]/norm(X[:,0]), X[:,1]/norm(X[:,1]), X[:,2]/norm(X[:,2])]"
      ],
      "execution_count": 12,
      "outputs": [
        {
          "output_type": "stream",
          "text": [
            "[[0.6        0.38461538 0.47058824]\n",
            " [0.8        0.92307692 0.88235294]]\n"
          ],
          "name": "stdout"
        }
      ]
    },
    {
      "cell_type": "markdown",
      "metadata": {
        "id": "GQsE7qQMdKxb",
        "colab_type": "text"
      },
      "source": [
        "Using the shorthand we just covered, write a short function called normalize_features(feature_matrix), which normalizes columns of a given feature matrix. The function should return a pair (normalized_features, norms), where the second item contains the norms of original features. As discussed in the lectures, we will use these norms to normalize the test data in the same way as we normalized the training data."
      ]
    },
    {
      "cell_type": "code",
      "metadata": {
        "id": "xbjGBgtAdF3H",
        "colab_type": "code",
        "colab": {}
      },
      "source": [
        "def normalize_features(features):\n",
        "    norms = np.linalg.norm(features, axis=0)\n",
        "    normalized_features = features/norms\n",
        "    return (normalized_features, norms)"
      ],
      "execution_count": 13,
      "outputs": []
    },
    {
      "cell_type": "markdown",
      "metadata": {
        "id": "G_9tDtoKd4T-",
        "colab_type": "text"
      },
      "source": [
        "To test the function, run the following:"
      ]
    },
    {
      "cell_type": "code",
      "metadata": {
        "id": "wJiDoOfJd1jE",
        "colab_type": "code",
        "colab": {
          "base_uri": "https://localhost:8080/",
          "height": 68
        },
        "outputId": "cbe95eda-cb9f-4597-a674-e428e075cb05"
      },
      "source": [
        "features, norms = normalize_features(np.array([[3.,6.,9.],[4.,8.,12.]]))\n",
        "print(features)\n",
        "# should print\n",
        "# [[ 0.6  0.6  0.6]\n",
        "#  [ 0.8  0.8  0.8]]\n",
        "print(norms)\n",
        "# should print\n",
        "# [5.  10.  15.]"
      ],
      "execution_count": 15,
      "outputs": [
        {
          "output_type": "stream",
          "text": [
            "[[0.6 0.6 0.6]\n",
            " [0.8 0.8 0.8]]\n",
            "[ 5. 10. 15.]\n"
          ],
          "name": "stdout"
        }
      ]
    },
    {
      "cell_type": "markdown",
      "metadata": {
        "id": "utLJ6XM9eGHf",
        "colab_type": "text"
      },
      "source": [
        "# Implementing Coordinate Descent with normalized features"
      ]
    },
    {
      "cell_type": "markdown",
      "metadata": {
        "id": "1LwLHXhJeI1O",
        "colab_type": "text"
      },
      "source": [
        "We seek to obtain a sparse set of weights by minimizing the LASSO cost function\n",
        "```\n",
        "SUM[ (prediction - output)^2 ] + lambda*( |w[1]| + ... + |w[k]|).\n",
        "```\n",
        "(By convention, we do not include `w[0]` in the L1 penalty term. We never want to push the intercept to zero.)\n",
        "\n",
        "The absolute value sign makes the cost function non-differentiable, so simple gradient descent is not viable (you would need to implement a method called subgradient descent). Instead, we will use **coordinate descent**: at each iteration, we will fix all weights but weight `i` and find the value of weight `i` that minimizes the objective. That is, we look for\n",
        "```\n",
        "argmin_{w[i]} [ SUM[ (prediction - output)^2 ] + lambda*( |w[1]| + ... + |w[k]|) ]\n",
        "```\n",
        "where all weights other than `w[i]` are held to be constant. We will optimize one `w[i]` at a time, circling through the weights multiple times.  \n",
        "  1. Pick a coordinate `i`\n",
        "  2. Compute `w[i]` that minimizes the cost function `SUM[ (prediction - output)^2 ] + lambda*( |w[1]| + ... + |w[k]|)`\n",
        "  3. Repeat Steps 1 and 2 for all coordinates, multiple times"
      ]
    },
    {
      "cell_type": "markdown",
      "metadata": {
        "id": "p6aKsQ4AeM5Z",
        "colab_type": "text"
      },
      "source": [
        "For this notebook, we use **cyclical coordinate descent with normalized features**, where we cycle through coordinates 0 to (d-1) in order, and assume the features were normalized as discussed above. The formula for optimizing each coordinate is as follows:\n",
        "```\n",
        "       ┌ (ro[i] + lambda/2)     if ro[i] < -lambda/2\n",
        "w[i] = ├ 0                      if -lambda/2 <= ro[i] <= lambda/2\n",
        "       └ (ro[i] - lambda/2)     if ro[i] > lambda/2\n",
        "```\n",
        "where\n",
        "```\n",
        "ro[i] = SUM[ [feature_i]*(output - prediction + w[i]*[feature_i]) ].\n",
        "```\n",
        "\n",
        "Note that we do not regularize the weight of the constant feature (intercept) `w[0]`, so, for this weight, the update is simply:\n",
        "```\n",
        "w[0] = ro[i]\n",
        "```"
      ]
    },
    {
      "cell_type": "markdown",
      "metadata": {
        "id": "itwnaEKXfQcH",
        "colab_type": "text"
      },
      "source": [
        "## Effect of L1 penalty"
      ]
    },
    {
      "cell_type": "markdown",
      "metadata": {
        "id": "TZChoDB0b3ZV",
        "colab_type": "text"
      },
      "source": [
        "Let us consider a simple model with 2 features:"
      ]
    },
    {
      "cell_type": "code",
      "metadata": {
        "id": "u4ygjlCDd66Q",
        "colab_type": "code",
        "colab": {}
      },
      "source": [
        "simple_features = ['sqft_living', 'bedrooms']\n",
        "my_output = 'price'\n",
        "(simple_feature_matrix, output) = get_numpy_data(sales, simple_features, my_output)"
      ],
      "execution_count": 16,
      "outputs": []
    },
    {
      "cell_type": "markdown",
      "metadata": {
        "id": "jaSX96ibb3ZZ",
        "colab_type": "text"
      },
      "source": [
        "Don't forget to normalize features:"
      ]
    },
    {
      "cell_type": "code",
      "metadata": {
        "id": "qgf_6m5ueJom",
        "colab_type": "code",
        "colab": {}
      },
      "source": [
        "simple_feature_matrix, norms = normalize_features(simple_feature_matrix)"
      ],
      "execution_count": 17,
      "outputs": []
    },
    {
      "cell_type": "markdown",
      "metadata": {
        "id": "3BdUUoPRb3Zf",
        "colab_type": "text"
      },
      "source": [
        "We assign some random set of initial weights and inspect the values of `ro[i]`:"
      ]
    },
    {
      "cell_type": "code",
      "metadata": {
        "id": "52bZB8VTfj8g",
        "colab_type": "code",
        "colab": {}
      },
      "source": [
        "weights = np.array([1., 4., 1.])"
      ],
      "execution_count": 18,
      "outputs": []
    },
    {
      "cell_type": "markdown",
      "metadata": {
        "id": "R5jxcKZLb3Zk",
        "colab_type": "text"
      },
      "source": [
        "Use `predict_output()` to make predictions on this data."
      ]
    },
    {
      "cell_type": "code",
      "metadata": {
        "id": "uXXS46aIfrAk",
        "colab_type": "code",
        "colab": {}
      },
      "source": [
        "prediction = predict_output(simple_feature_matrix, weights)"
      ],
      "execution_count": 20,
      "outputs": []
    },
    {
      "cell_type": "markdown",
      "metadata": {
        "id": "itz5Tn-eb3Zp",
        "colab_type": "text"
      },
      "source": [
        "Compute the values of `ro[i]` for each feature in this simple model, using the formula given above, using the formula:\n",
        "```\n",
        "ro[i] = SUM[ [feature_i]*(output - prediction + w[i]*[feature_i]) ]\n",
        "```\n",
        "\n",
        "*Hint: You can get a Numpy vector for feature_i using:*\n",
        "```\n",
        "simple_feature_matrix[:,i]\n",
        "```\n",
        "Discussion\n",
        "\n",
        "Slides 78\n",
        "\n",
        "https://www.coursera.org/learn/ml-regression/module/acwch/discussions/dmpYPKqjEeWF2Q53QdZUbw/replies/Y0tSyasdEeW2NBLvq9LZHQ\n",
        "\n",
        "https://www.coursera.org/learn/ml-regression/module/acwch/discussions/vpmynqQvEeWoGg6ulZMPEw\n",
        "\n",
        "```\n",
        "ro[i] = SUM[ [feature_i]*(output - prediction + w[i]*[feature_i]) ]\n",
        "```\n",
        "because\n",
        "```\n",
        "Yi(w-j) = (prediction - weight[i]*[feature_i])\n",
        "```"
      ]
    },
    {
      "cell_type": "code",
      "metadata": {
        "id": "8VWN3kFNf4sj",
        "colab_type": "code",
        "colab": {
          "base_uri": "https://localhost:8080/",
          "height": 34
        },
        "outputId": "f76c691b-f9cf-42b3-a0e6-2685b5d7685d"
      },
      "source": [
        "ro = [0 for i in range((simple_feature_matrix.shape)[1])]\n",
        "for j in range((simple_feature_matrix.shape)[1]):   \n",
        "    ro[j] = (simple_feature_matrix[:,j] * (output - prediction + (weights[j] * simple_feature_matrix[:,j]))).sum()\n",
        "print(ro)"
      ],
      "execution_count": 24,
      "outputs": [
        {
          "output_type": "stream",
          "text": [
            "[79400300.03492916, 87939470.77299108, 80966698.67596565]\n"
          ],
          "name": "stdout"
        }
      ]
    },
    {
      "cell_type": "markdown",
      "metadata": {
        "id": "DBJVM8jGb3Zt",
        "colab_type": "text"
      },
      "source": [
        "***QUIZ QUESTION***\n",
        "\n",
        "Recall that, whenever `ro[i]` falls between `-l1_penalty/2` and `l1_penalty/2`, the corresponding weight `w[i]` is sent to zero. Now suppose we were to take one step of coordinate descent on either feature 1 or feature 2. What range of values of `l1_penalty` **would not** set `w[1]` zero, but **would** set `w[2]` to zero, if we were to take a step in that coordinate? "
      ]
    },
    {
      "cell_type": "markdown",
      "metadata": {
        "id": "hSOJD6ORiFfu",
        "colab_type": "text"
      },
      "source": [
        "we have ro[0], ro[1], ro[2]\n",
        "\n",
        "For W1 to be zero, we need ro[1] in [-lambda/2, lambda/2]\n",
        "\n",
        "We have -lambda/2 <= ro[1] <= lambda/2\n",
        "\n",
        "This translates to lambda >= -2ro[1] and lambda >= 2ro[1]\n",
        "\n",
        "For both conditions to be satisfied, lambda >= 2ro[1] = 1.75e8\n",
        "\n",
        "Similarly for W2. lambda >= 2ro[2] = 1.62e8.\n",
        "\n",
        "So, w[i] = 0 if lambda >= 2 * abs(ro[i])"
      ]
    },
    {
      "cell_type": "code",
      "metadata": {
        "id": "za2PaEzojLe8",
        "colab_type": "code",
        "colab": {
          "base_uri": "https://localhost:8080/",
          "height": 34
        },
        "outputId": "ca228cf7-de91-4f61-c278-6487e05f5811"
      },
      "source": [
        "print(2*ro[1])"
      ],
      "execution_count": 25,
      "outputs": [
        {
          "output_type": "stream",
          "text": [
            "175878941.54598215\n"
          ],
          "name": "stdout"
        }
      ]
    },
    {
      "cell_type": "code",
      "metadata": {
        "id": "NlvG3iwrjQAd",
        "colab_type": "code",
        "colab": {
          "base_uri": "https://localhost:8080/",
          "height": 34
        },
        "outputId": "69897345-1b86-44a3-f0be-f43e2be567f7"
      },
      "source": [
        "print(2*ro[2])"
      ],
      "execution_count": 26,
      "outputs": [
        {
          "output_type": "stream",
          "text": [
            "161933397.3519313\n"
          ],
          "name": "stdout"
        }
      ]
    },
    {
      "cell_type": "markdown",
      "metadata": {
        "id": "_b8AtTmvb3Zy",
        "colab_type": "text"
      },
      "source": [
        "***QUIZ QUESTION***\n",
        "\n",
        "What range of values of `l1_penalty` would set **both** `w[1]` and `w[2]` to zero, if we were to take a step in that coordinate? "
      ]
    },
    {
      "cell_type": "markdown",
      "metadata": {
        "id": "qJTdOIkeiJ7s",
        "colab_type": "text"
      },
      "source": [
        "Simply calculate the value for lambda that will set w2 to zero\n",
        "\n",
        "i.e. a lambda value that is greater than 2*ro[2]\n",
        "\n",
        "but that is less than the value that will set w1 to zero\n",
        "\n",
        "i.e. a lambda value that is less then 2*ro[1]\n",
        "\n",
        "This will be a range of lambda values between 2ro[2] and 2ro[1]"
      ]
    },
    {
      "cell_type": "code",
      "metadata": {
        "id": "EwDzcBR_jfSC",
        "colab_type": "code",
        "colab": {
          "base_uri": "https://localhost:8080/",
          "height": 102
        },
        "outputId": "c6087ddb-27ff-4db2-a33d-e783153de529"
      },
      "source": [
        "# Return True if value is within the threshold ranges otherwise False\n",
        "# Looking for range -l1_penalty/2 <= ro <= l1_penalty/2\n",
        "def in_l1range(value, penalty):\n",
        "    return ( (value >= -penalty/2.) and (value <= penalty/2.) )\n",
        "\n",
        "for l1_penalty in [1.4e8, 1.64e8, 1.73e8, 1.9e8, 2.3e8]:\n",
        "    print(in_l1range(ro[1], l1_penalty), in_l1range(ro[2], l1_penalty))"
      ],
      "execution_count": 28,
      "outputs": [
        {
          "output_type": "stream",
          "text": [
            "False False\n",
            "False True\n",
            "False True\n",
            "True True\n",
            "True True\n"
          ],
          "name": "stdout"
        }
      ]
    },
    {
      "cell_type": "markdown",
      "metadata": {
        "id": "yIxejpUPb3Z2",
        "colab_type": "text"
      },
      "source": [
        "So we can say that `ro[i]` quantifies the significance of the i-th feature: the larger `ro[i]` is, the more likely it is for the i-th feature to be retained."
      ]
    },
    {
      "cell_type": "markdown",
      "metadata": {
        "id": "1mrezd7Nb3Z3",
        "colab_type": "text"
      },
      "source": [
        "## Single Coordinate Descent Step"
      ]
    },
    {
      "cell_type": "markdown",
      "metadata": {
        "id": "XdgDNyJhb3Z4",
        "colab_type": "text"
      },
      "source": [
        "Using the formula above, implement coordinate descent that minimizes the cost function over a single feature i. Note that the intercept (weight 0) is not regularized. The function should accept feature matrix, output, current weights, l1 penalty, and index of feature to optimize over. The function should return new weight for feature i."
      ]
    },
    {
      "cell_type": "code",
      "metadata": {
        "id": "gWSwRxYQgLam",
        "colab_type": "code",
        "colab": {}
      },
      "source": [
        "def lasso_coordinate_descent_step(i, feature_matrix, output, weights, l1_penalty):\n",
        "    # compute prediction\n",
        "    prediction = predict_output(feature_matrix, weights)\n",
        "    # compute ro[i] = SUM[ [feature_i]*(output - prediction + weight[i]*[feature_i]) ]\n",
        "    ro_i = (feature_matrix[:,i] * (output - prediction + (weights[i] * feature_matrix[:,i]))).sum()\n",
        "\n",
        "    if i == 0: # intercept -- do not regularize\n",
        "        new_weight_i = ro_i \n",
        "    elif ro_i < -l1_penalty/2.:\n",
        "        new_weight_i = (ro_i + l1_penalty/2.)\n",
        "    elif ro_i > l1_penalty/2.:\n",
        "        new_weight_i = (ro_i - l1_penalty/2.)\n",
        "    else:\n",
        "        new_weight_i = 0.\n",
        "    \n",
        "    return new_weight_i"
      ],
      "execution_count": 29,
      "outputs": []
    },
    {
      "cell_type": "markdown",
      "metadata": {
        "id": "3RGTGTn4b3Z8",
        "colab_type": "text"
      },
      "source": [
        "To test the function, run the following cell:"
      ]
    },
    {
      "cell_type": "code",
      "metadata": {
        "id": "5uqoD03akO1d",
        "colab_type": "code",
        "colab": {
          "base_uri": "https://localhost:8080/",
          "height": 34
        },
        "outputId": "610ab96c-4b9f-495e-9eec-33e6b68157ee"
      },
      "source": [
        "# should print 0.425558846691\n",
        "import math\n",
        "print(lasso_coordinate_descent_step(1, np.array([[3./math.sqrt(13),1./math.sqrt(10)],[2./math.sqrt(13),3./math.sqrt(10)]]), \n",
        "                                    np.array([1., 1.]), np.array([1., 4.]), 0.1))"
      ],
      "execution_count": 31,
      "outputs": [
        {
          "output_type": "stream",
          "text": [
            "0.4255588466910251\n"
          ],
          "name": "stdout"
        }
      ]
    },
    {
      "cell_type": "markdown",
      "metadata": {
        "collapsed": true,
        "id": "cdDkBbwfb3aB",
        "colab_type": "text"
      },
      "source": [
        "## Cyclical coordinate descent "
      ]
    },
    {
      "cell_type": "markdown",
      "metadata": {
        "id": "N1MSS-ZHb3aC",
        "colab_type": "text"
      },
      "source": [
        "Now that we have a function that optimizes the cost function over a single coordinate, let us implement cyclical coordinate descent where we optimize coordinates 0, 1, ..., (d-1) in order and repeat.\n",
        "\n",
        "When do we know to stop? Each time we scan all the coordinates (features) once, we measure the change in weight for each coordinate. If no coordinate changes by more than a specified threshold, we stop."
      ]
    },
    {
      "cell_type": "markdown",
      "metadata": {
        "id": "E7Awazw-b3aC",
        "colab_type": "text"
      },
      "source": [
        "For each iteration:\n",
        "1. As you loop over features in order and perform coordinate descent, measure how much each coordinate changes.\n",
        "2. After the loop, if the maximum change across all coordinates is falls below the tolerance, stop. Otherwise, go back to step 1.\n",
        "\n",
        "Return weights\n",
        "\n",
        "**IMPORTANT: when computing a new weight for coordinate i, make sure to incorporate the new weights for coordinates 0, 1, ..., i-1. One good way is to update your weights variable in-place. See following pseudocode for illustration.**\n",
        "```\n",
        "for i in range(len(weights)):\n",
        "    old_weights_i = weights[i] # remember old value of weight[i], as it will be overwritten\n",
        "    # the following line uses new values for weight[0], weight[1], ..., weight[i-1]\n",
        "    #     and old values for weight[i], ..., weight[d-1]\n",
        "    weights[i] = lasso_coordinate_descent_step(i, feature_matrix, output, weights, l1_penalty)\n",
        "    \n",
        "    # use old_weights_i to compute change in coordinate\n",
        "    ...\n",
        "```"
      ]
    },
    {
      "cell_type": "code",
      "metadata": {
        "id": "gGcVY7vbb3aD",
        "colab_type": "code",
        "colab": {}
      },
      "source": [
        "def lasso_cyclical_coordinate_descent(feature_matrix, output, initial_weights, l1_penalty, tolerance):\n",
        "    D = feature_matrix.shape[1]\n",
        "    weights = np.array(initial_weights)\n",
        "    change = np.array(initial_weights) * 0.0\n",
        "    converged = False\n",
        "\n",
        "    while not converged:\n",
        "\n",
        "    # Evaluate over all features\n",
        "        for idx in range(D):\n",
        "            # new weight for feature\n",
        "            new_weight = lasso_coordinate_descent_step(idx, feature_matrix,\n",
        "                                                       output, weights,\n",
        "                                                       l1_penalty)\n",
        "            # compute change in weight for feature\n",
        "            change[idx] = np.abs(new_weight - weights[idx])\n",
        "\n",
        "            # assign new weight\n",
        "            weights[idx] = new_weight\n",
        "\n",
        "        # maximum change in weight, after all changes have been computed\n",
        "        max_change = max(change)\n",
        "        if max_change < tolerance:\n",
        "            converged = True\n",
        "    return weights"
      ],
      "execution_count": 32,
      "outputs": []
    },
    {
      "cell_type": "markdown",
      "metadata": {
        "id": "Usejktreb3aH",
        "colab_type": "text"
      },
      "source": [
        "Using the following parameters, learn the weights on the sales dataset. "
      ]
    },
    {
      "cell_type": "code",
      "metadata": {
        "id": "tVqrey3yb3aI",
        "colab_type": "code",
        "colab": {}
      },
      "source": [
        "simple_features = ['sqft_living', 'bedrooms']\n",
        "my_output = 'price'\n",
        "initial_weights = np.zeros(3)\n",
        "l1_penalty = 1e7\n",
        "tolerance = 1.0"
      ],
      "execution_count": 33,
      "outputs": []
    },
    {
      "cell_type": "markdown",
      "metadata": {
        "id": "vyhKmTfib3aL",
        "colab_type": "text"
      },
      "source": [
        "First create a normalized version of the feature matrix, `normalized_simple_feature_matrix`."
      ]
    },
    {
      "cell_type": "code",
      "metadata": {
        "id": "Qiw-8Y0sb3aM",
        "colab_type": "code",
        "colab": {}
      },
      "source": [
        "(simple_feature_matrix, output) = get_numpy_data(sales, simple_features, my_output)\n",
        "(normalized_simple_feature_matrix, simple_norms) = normalize_features(simple_feature_matrix) # normalize features"
      ],
      "execution_count": 34,
      "outputs": []
    },
    {
      "cell_type": "markdown",
      "metadata": {
        "id": "1ZWO0NdUb3aQ",
        "colab_type": "text"
      },
      "source": [
        "Then, run your implementation of LASSO coordinate descent:"
      ]
    },
    {
      "cell_type": "code",
      "metadata": {
        "id": "1wLDAwfub3aQ",
        "colab_type": "code",
        "colab": {}
      },
      "source": [
        "weights = lasso_cyclical_coordinate_descent(normalized_simple_feature_matrix, output,\n",
        "                                            initial_weights, l1_penalty, tolerance)"
      ],
      "execution_count": 35,
      "outputs": []
    },
    {
      "cell_type": "code",
      "metadata": {
        "id": "_8H3Ib_UkTpq",
        "colab_type": "code",
        "colab": {
          "base_uri": "https://localhost:8080/",
          "height": 34
        },
        "outputId": "8214079f-6a5e-454f-eccc-b717b8840b99"
      },
      "source": [
        "print(weights)"
      ],
      "execution_count": 36,
      "outputs": [
        {
          "output_type": "stream",
          "text": [
            "[21624998.36636292 63157246.78545421        0.        ]\n"
          ],
          "name": "stdout"
        }
      ]
    },
    {
      "cell_type": "code",
      "metadata": {
        "id": "s7SJwBc-llrT",
        "colab_type": "code",
        "colab": {
          "base_uri": "https://localhost:8080/",
          "height": 34
        },
        "outputId": "370dfe1d-58f2-49dd-aabb-331e5b343267"
      },
      "source": [
        "prediction =  predict_output(normalized_simple_feature_matrix, weights)\n",
        "RSS = np.dot(output-prediction, output-prediction)\n",
        "print('RSS for normalized dataset = ', RSS)"
      ],
      "execution_count": 37,
      "outputs": [
        {
          "output_type": "stream",
          "text": [
            "RSS for normalized dataset =  1630492481484487.8\n"
          ],
          "name": "stdout"
        }
      ]
    },
    {
      "cell_type": "markdown",
      "metadata": {
        "id": "63Xeliusb3aU",
        "colab_type": "text"
      },
      "source": [
        "***QUIZ QUESTIONS***\n",
        "1. What is the RSS of the learned model on the normalized dataset? (Hint: use the normalized feature matrix when you make predictions.)\n",
        "2. Which features had weight zero at convergence?"
      ]
    },
    {
      "cell_type": "markdown",
      "metadata": {
        "id": "6lhoXFcAb3aV",
        "colab_type": "text"
      },
      "source": [
        "# Evaluating LASSO fit with more features"
      ]
    },
    {
      "cell_type": "markdown",
      "metadata": {
        "id": "h-dGu_H9b3aW",
        "colab_type": "text"
      },
      "source": [
        "Let us split the sales dataset into training and test sets."
      ]
    },
    {
      "cell_type": "code",
      "metadata": {
        "id": "pevuGwy7b3aW",
        "colab_type": "code",
        "colab": {}
      },
      "source": [
        "train_data,test_data = sales.random_split(.8,seed=0)"
      ],
      "execution_count": 39,
      "outputs": []
    },
    {
      "cell_type": "markdown",
      "metadata": {
        "id": "m5UlJYDlb3ac",
        "colab_type": "text"
      },
      "source": [
        "Let us consider the following set of features."
      ]
    },
    {
      "cell_type": "code",
      "metadata": {
        "id": "Mo9RgOrgb3ac",
        "colab_type": "code",
        "colab": {}
      },
      "source": [
        "all_features = ['bedrooms',\n",
        "                'bathrooms',\n",
        "                'sqft_living',\n",
        "                'sqft_lot',\n",
        "                'floors',\n",
        "                'waterfront', \n",
        "                'view', \n",
        "                'condition', \n",
        "                'grade',\n",
        "                'sqft_above',\n",
        "                'sqft_basement',\n",
        "                'yr_built', \n",
        "                'yr_renovated']"
      ],
      "execution_count": 40,
      "outputs": []
    },
    {
      "cell_type": "markdown",
      "metadata": {
        "id": "aCtyQPJYb3ah",
        "colab_type": "text"
      },
      "source": [
        "First, create a normalized feature matrix from the TRAINING data with these features.  (Make you store the norms for the normalization, since we'll use them later)"
      ]
    },
    {
      "cell_type": "code",
      "metadata": {
        "id": "Pgxth1svlXLz",
        "colab_type": "code",
        "colab": {}
      },
      "source": [
        "my_output = 'price'\n",
        "(feature_matrix, output) = get_numpy_data(train_data, all_features, my_output)\n",
        "normalized_feature_matrix, norms = normalize_features(feature_matrix)"
      ],
      "execution_count": 41,
      "outputs": []
    },
    {
      "cell_type": "markdown",
      "metadata": {
        "id": "5niLJ_bcb3al",
        "colab_type": "text"
      },
      "source": [
        "First, learn the weights with `l1_penalty=1e7`, on the training data. Initialize weights to all zeros, and set the `tolerance=1`.  Call resulting weights `weights1e7`, you will need them later."
      ]
    },
    {
      "cell_type": "code",
      "metadata": {
        "id": "dlgY8ogTmHAt",
        "colab_type": "code",
        "colab": {}
      },
      "source": [
        "initial_weights = np.zeros(len(all_features) + 1)\n",
        "l1_penalty = 1e7\n",
        "tolerance = 1.0\n",
        "\n",
        "weights1e7 = lasso_cyclical_coordinate_descent(normalized_feature_matrix, output,\n",
        "                                               initial_weights, l1_penalty, tolerance)"
      ],
      "execution_count": 42,
      "outputs": []
    },
    {
      "cell_type": "code",
      "metadata": {
        "id": "oCfXp6QDmMVO",
        "colab_type": "code",
        "colab": {
          "base_uri": "https://localhost:8080/",
          "height": 85
        },
        "outputId": "a4150c9b-3fd1-4778-ad84-4d7971db57b3"
      },
      "source": [
        "print(weights1e7)"
      ],
      "execution_count": 43,
      "outputs": [
        {
          "output_type": "stream",
          "text": [
            "[24429600.60933314        0.                0.         48389174.35227978\n",
            "        0.                0.          3317511.16271981  7329961.9848964\n",
            "        0.                0.                0.                0.\n",
            "        0.                0.        ]\n"
          ],
          "name": "stdout"
        }
      ]
    },
    {
      "cell_type": "markdown",
      "metadata": {
        "id": "eL5soFV6b3as",
        "colab_type": "text"
      },
      "source": [
        "***QUIZ QUESTION***\n",
        "\n",
        "What features had non-zero weight in this case?"
      ]
    },
    {
      "cell_type": "code",
      "metadata": {
        "id": "ulmNs1Komn0x",
        "colab_type": "code",
        "colab": {
          "base_uri": "https://localhost:8080/",
          "height": 85
        },
        "outputId": "a3ed4b2f-fd6f-4a4e-ee89-3762a06e4180"
      },
      "source": [
        "feature_list = ['constant'] + all_features\n",
        "\n",
        "feature_weights1e7 = dict(zip(feature_list, weights1e7))\n",
        "for k,v in feature_weights1e7.items():\n",
        "    if v != 0.0:\n",
        "        print(k, v)"
      ],
      "execution_count": 46,
      "outputs": [
        {
          "output_type": "stream",
          "text": [
            "constant 24429600.609333135\n",
            "sqft_living 48389174.35227978\n",
            "waterfront 3317511.162719814\n",
            "view 7329961.984896399\n"
          ],
          "name": "stdout"
        }
      ]
    },
    {
      "cell_type": "markdown",
      "metadata": {
        "collapsed": true,
        "id": "zmDJJhM6b3at",
        "colab_type": "text"
      },
      "source": [
        "Next, learn the weights with `l1_penalty=1e8`, on the training data. Initialize weights to all zeros, and set the `tolerance=1`.  Call resulting weights `weights1e8`, you will need them later."
      ]
    },
    {
      "cell_type": "code",
      "metadata": {
        "id": "n_r6_TetmO2r",
        "colab_type": "code",
        "colab": {
          "base_uri": "https://localhost:8080/",
          "height": 85
        },
        "outputId": "2b304c99-e26f-4d99-d2a8-d0a127536359"
      },
      "source": [
        "initial_weights = np.zeros(len(all_features) + 1)\n",
        "l1_penalty = 1e8\n",
        "tolerance = 1.0\n",
        "\n",
        "weights1e8 = lasso_cyclical_coordinate_descent(normalized_feature_matrix, output,\n",
        "                                               initial_weights, l1_penalty, tolerance)\n",
        "print(weights1e8)"
      ],
      "execution_count": 47,
      "outputs": [
        {
          "output_type": "stream",
          "text": [
            "[71114625.75280938        0.                0.                0.\n",
            "        0.                0.                0.                0.\n",
            "        0.                0.                0.                0.\n",
            "        0.                0.        ]\n"
          ],
          "name": "stdout"
        }
      ]
    },
    {
      "cell_type": "code",
      "metadata": {
        "id": "l_La9mXxnCd4",
        "colab_type": "code",
        "colab": {
          "base_uri": "https://localhost:8080/",
          "height": 34
        },
        "outputId": "53b3bef6-bf06-4c5e-8111-1126768e997b"
      },
      "source": [
        "feature_list2 = ['constant'] + all_features\n",
        "\n",
        "feature_weights1e8 = dict(zip(feature_list2, weights1e8))\n",
        "for k,v in feature_weights1e8.items():\n",
        "    if v != 0.0:\n",
        "        print(k, v)"
      ],
      "execution_count": 50,
      "outputs": [
        {
          "output_type": "stream",
          "text": [
            "constant 71114625.75280938\n"
          ],
          "name": "stdout"
        }
      ]
    },
    {
      "cell_type": "markdown",
      "metadata": {
        "id": "zXb9ax0fb3ax",
        "colab_type": "text"
      },
      "source": [
        "***QUIZ QUESTION***\n",
        "\n",
        "What features had non-zero weight in this case?"
      ]
    },
    {
      "cell_type": "markdown",
      "metadata": {
        "id": "dSjWuB0ob3ax",
        "colab_type": "text"
      },
      "source": [
        "Finally, learn the weights with `l1_penalty=1e4`, on the training data. Initialize weights to all zeros, and set the `tolerance=5e5`.  Call resulting weights `weights1e4`, you will need them later.  (This case will take quite a bit longer to converge than the others above.)"
      ]
    },
    {
      "cell_type": "code",
      "metadata": {
        "id": "F6rfPuN0nNGs",
        "colab_type": "code",
        "colab": {
          "base_uri": "https://localhost:8080/",
          "height": 102
        },
        "outputId": "e9d6510d-8470-45e4-f156-9f225bb69abb"
      },
      "source": [
        "l1_penalty = 1e4\n",
        "tolerance = 5e5\n",
        "\n",
        "weights1e4 = lasso_cyclical_coordinate_descent(normalized_feature_matrix, output,\n",
        "                                               initial_weights, l1_penalty, tolerance)\n",
        "print(weights1e4)"
      ],
      "execution_count": 51,
      "outputs": [
        {
          "output_type": "stream",
          "text": [
            "[ 77779073.91265225 -22884012.25023361  15348487.08089994\n",
            "  92166869.69883077  -2139328.08242779  -8818455.54409491\n",
            "   6494209.73310655   7065162.05053198   4119079.21006762\n",
            "  18436483.52618778 -14566678.54514345  -5528348.75179427\n",
            " -83591746.20730534   2784276.46012858]\n"
          ],
          "name": "stdout"
        }
      ]
    },
    {
      "cell_type": "code",
      "metadata": {
        "id": "boQ_lqa5niyh",
        "colab_type": "code",
        "colab": {
          "base_uri": "https://localhost:8080/",
          "height": 255
        },
        "outputId": "afad4ad0-bece-4dfa-bd8c-793da7e247ff"
      },
      "source": [
        "feature_weights1e4 = dict(zip(feature_list, weights1e4))\n",
        "for k,v in feature_weights1e4.items():\n",
        "    if v != 0.0:\n",
        "        print(k, v)"
      ],
      "execution_count": 54,
      "outputs": [
        {
          "output_type": "stream",
          "text": [
            "constant 77779073.91265225\n",
            "bedrooms -22884012.250233613\n",
            "bathrooms 15348487.080899937\n",
            "sqft_living 92166869.69883077\n",
            "sqft_lot -2139328.0824277927\n",
            "floors -8818455.544094905\n",
            "waterfront 6494209.733106551\n",
            "view 7065162.050531979\n",
            "condition 4119079.2100676238\n",
            "grade 18436483.526187778\n",
            "sqft_above -14566678.545143453\n",
            "sqft_basement -5528348.751794267\n",
            "yr_built -83591746.20730534\n",
            "yr_renovated 2784276.460128576\n"
          ],
          "name": "stdout"
        }
      ]
    },
    {
      "cell_type": "markdown",
      "metadata": {
        "id": "5YVdrRcRb3a2",
        "colab_type": "text"
      },
      "source": [
        "***QUIZ QUESTION***\n",
        "\n",
        "What features had non-zero weight in this case?"
      ]
    },
    {
      "cell_type": "markdown",
      "metadata": {
        "id": "cOp9ATEqb3a3",
        "colab_type": "text"
      },
      "source": [
        "## Rescaling learned weights"
      ]
    },
    {
      "cell_type": "markdown",
      "metadata": {
        "id": "fkxLojkqb3a3",
        "colab_type": "text"
      },
      "source": [
        "Recall that we normalized our feature matrix, before learning the weights.  To use these weights on a test set, we must normalize the test data in the same way.\n",
        "\n",
        "Alternatively, we can rescale the learned weights to include the normalization, so we never have to worry about normalizing the test data: \n",
        "\n",
        "In this case, we must scale the resulting weights so that we can make predictions with *original* features:\n",
        " 1. Store the norms of the original features to a vector called `norms`:\n",
        "```\n",
        "features, norms = normalize_features(features)\n",
        "```\n",
        " 2. Run Lasso on the normalized features and obtain a `weights` vector\n",
        " 3. Compute the weights for the original features by performing element-wise division, i.e.\n",
        "```\n",
        "weights_normalized = weights / norms\n",
        "```\n",
        "Now, we can apply `weights_normalized` to the test data, without normalizing it!"
      ]
    },
    {
      "cell_type": "markdown",
      "metadata": {
        "id": "Lr3IcKe5b3a4",
        "colab_type": "text"
      },
      "source": [
        "Create a normalized version of each of the weights learned above. (`weights1e4`, `weights1e7`, `weights1e8`)."
      ]
    },
    {
      "cell_type": "markdown",
      "metadata": {
        "id": "0Xlw-XBHb3a8",
        "colab_type": "text"
      },
      "source": [
        "To check your results, if you call `normalized_weights1e7` the normalized version of `weights1e7`, then:\n",
        "```\n",
        "print normalized_weights1e7[3]\n",
        "```\n",
        "should return 161.31745624837794."
      ]
    },
    {
      "cell_type": "code",
      "metadata": {
        "id": "7yCkYRNxnqQh",
        "colab_type": "code",
        "colab": {
          "base_uri": "https://localhost:8080/",
          "height": 34
        },
        "outputId": "3a3e9142-2aa8-49db-c20e-71bc916c1d18"
      },
      "source": [
        "my_output = 'price'\n",
        "(feature_matrix, output) = get_numpy_data(train_data, all_features, my_output)\n",
        "normalized_feature_matrix, norms = normalize_features(feature_matrix)\n",
        "\n",
        "normalized_weights1e7 = weights1e7 / norms\n",
        "normalized_weights1e8 = weights1e8 / norms\n",
        "normalized_weights1e4 = weights1e4 / norms\n",
        "print(normalized_weights1e7[3])"
      ],
      "execution_count": 56,
      "outputs": [
        {
          "output_type": "stream",
          "text": [
            "161.3174562483786\n"
          ],
          "name": "stdout"
        }
      ]
    },
    {
      "cell_type": "markdown",
      "metadata": {
        "id": "9-6yK_X7b3a9",
        "colab_type": "text"
      },
      "source": [
        "## Evaluating each of the learned models on the test data"
      ]
    },
    {
      "cell_type": "markdown",
      "metadata": {
        "id": "jjNFfMGEb3a-",
        "colab_type": "text"
      },
      "source": [
        "Let's now evaluate the three models on the test data:"
      ]
    },
    {
      "cell_type": "code",
      "metadata": {
        "id": "8tmqFW2Zb3a-",
        "colab_type": "code",
        "colab": {}
      },
      "source": [
        "(test_feature_matrix, test_output) = get_numpy_data(test_data, all_features, 'price')"
      ],
      "execution_count": null,
      "outputs": []
    },
    {
      "cell_type": "markdown",
      "metadata": {
        "id": "-tibs7eIb3bD",
        "colab_type": "text"
      },
      "source": [
        "Compute the RSS of each of the three normalized weights on the (unnormalized) `test_feature_matrix`:"
      ]
    },
    {
      "cell_type": "code",
      "metadata": {
        "id": "-BM402-noCEQ",
        "colab_type": "code",
        "colab": {}
      },
      "source": [
        "(test_feature_matrix, test_output) = get_numpy_data(test_data, all_features, 'price')"
      ],
      "execution_count": 57,
      "outputs": []
    },
    {
      "cell_type": "code",
      "metadata": {
        "id": "6avW1cEdoYO4",
        "colab_type": "code",
        "colab": {
          "base_uri": "https://localhost:8080/",
          "height": 34
        },
        "outputId": "57f679ba-948d-4af6-91cf-b377473060cb"
      },
      "source": [
        "prediction =  predict_output(test_feature_matrix, normalized_weights1e7)\n",
        "RSS1 = np.dot(test_output-prediction, test_output-prediction)\n",
        "print('RSS for model with weights1e7 = ', RSS1)"
      ],
      "execution_count": 58,
      "outputs": [
        {
          "output_type": "stream",
          "text": [
            "RSS for model with weights1e7 =  275962079909185.25\n"
          ],
          "name": "stdout"
        }
      ]
    },
    {
      "cell_type": "code",
      "metadata": {
        "id": "exEGsXX0omMR",
        "colab_type": "code",
        "colab": {
          "base_uri": "https://localhost:8080/",
          "height": 34
        },
        "outputId": "936ee62c-1fa2-4a90-eeb0-8f056addf8f5"
      },
      "source": [
        "prediction =  predict_output(test_feature_matrix, normalized_weights1e8)\n",
        "RSS2 = np.dot(test_output-prediction, test_output-prediction)\n",
        "print('RSS for model with weights1e7 = ', RSS2)"
      ],
      "execution_count": 59,
      "outputs": [
        {
          "output_type": "stream",
          "text": [
            "RSS for model with weights1e7 =  537166150034084.94\n"
          ],
          "name": "stdout"
        }
      ]
    },
    {
      "cell_type": "code",
      "metadata": {
        "id": "nzv9aES3oqz2",
        "colab_type": "code",
        "colab": {
          "base_uri": "https://localhost:8080/",
          "height": 34
        },
        "outputId": "4a92bbec-ad5c-4a69-80ce-1ee0a9a636ff"
      },
      "source": [
        "prediction =  predict_output(test_feature_matrix, normalized_weights1e4)\n",
        "RSS3 = np.dot(test_output-prediction, test_output-prediction)\n",
        "print('RSS for model with weights1e7 = ', RSS3)"
      ],
      "execution_count": 60,
      "outputs": [
        {
          "output_type": "stream",
          "text": [
            "RSS for model with weights1e7 =  227781004760225.3\n"
          ],
          "name": "stdout"
        }
      ]
    },
    {
      "cell_type": "markdown",
      "metadata": {
        "id": "NuTfzM2Ab3bT",
        "colab_type": "text"
      },
      "source": [
        "***QUIZ QUESTION***\n",
        "\n",
        "Which model performed best on the test data?"
      ]
    },
    {
      "cell_type": "code",
      "metadata": {
        "id": "UFhbtjBbotly",
        "colab_type": "code",
        "colab": {}
      },
      "source": [
        ""
      ],
      "execution_count": null,
      "outputs": []
    }
  ]
}