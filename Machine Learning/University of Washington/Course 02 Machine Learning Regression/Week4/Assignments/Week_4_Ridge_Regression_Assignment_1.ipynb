{
  "nbformat": 4,
  "nbformat_minor": 0,
  "metadata": {
    "colab": {
      "name": " Week 4: Ridge Regression Assignment 1.ipynb",
      "provenance": [],
      "collapsed_sections": []
    },
    "kernelspec": {
      "name": "python3",
      "display_name": "Python 3"
    }
  },
  "cells": [
    {
      "cell_type": "markdown",
      "metadata": {
        "id": "IqYkEsrAL7Sa",
        "colab_type": "text"
      },
      "source": [
        "Regression Week 4: Ridge Regression Assignment 1\n",
        "In this assignment, we will run ridge regression multiple times with different L2 penalties to see which one produces the best fit. We will revisit the example of polynomial regression as a means to see the effect of L2 regularization. In particular, we will:\n",
        "\n",
        "Use a pre-built implementation of regression to run polynomial regression\n",
        "Use matplotlib to visualize polynomial regressions\n",
        "Use a pre-built implementation of regression to run polynomial regression, this time with L2 penalty\n",
        "Use matplotlib to visualize polynomial regressions under L2 regularization\n",
        "Choose best L2 penalty using cross-validation.\n",
        "Assess the final fit using test data.\n",
        "We will continue to use the House data from previous assignments. (In the next programming assignment for this module, you will implement your own ridge regression learning algorithm using gradient descent.)"
      ]
    },
    {
      "cell_type": "code",
      "metadata": {
        "id": "58AoMC7DL6ej",
        "colab_type": "code",
        "colab": {
          "base_uri": "https://localhost:8080/",
          "height": 1000
        },
        "outputId": "f896b3c7-972f-4423-b9e2-ff9d2f530c4c"
      },
      "source": [
        "!pip install turicreate"
      ],
      "execution_count": 2,
      "outputs": [
        {
          "output_type": "stream",
          "text": [
            "Collecting turicreate\n",
            "\u001b[?25l  Downloading https://files.pythonhosted.org/packages/e4/76/76c624d7ae1116b22cd559288596a1f9aa7a50f8f43f4481033fc047f5e9/turicreate-6.3-cp36-cp36m-manylinux1_x86_64.whl (91.9MB)\n",
            "\u001b[K     |████████████████████████████████| 91.9MB 68kB/s \n",
            "\u001b[?25hRequirement already satisfied: requests>=2.9.1 in /usr/local/lib/python3.6/dist-packages (from turicreate) (2.23.0)\n",
            "Requirement already satisfied: numpy in /usr/local/lib/python3.6/dist-packages (from turicreate) (1.18.5)\n",
            "Requirement already satisfied: six>=1.10.0 in /usr/local/lib/python3.6/dist-packages (from turicreate) (1.12.0)\n",
            "Collecting tensorflow<=2.0.1,>=2.0.0\n",
            "\u001b[?25l  Downloading https://files.pythonhosted.org/packages/43/16/b07e3f7a4a024b47918f7018967eb984b0c542458a6141d8c48515aa81d4/tensorflow-2.0.1-cp36-cp36m-manylinux2010_x86_64.whl (86.3MB)\n",
            "\u001b[K     |████████████████████████████████| 86.3MB 72kB/s \n",
            "\u001b[?25hRequirement already satisfied: decorator>=4.0.9 in /usr/local/lib/python3.6/dist-packages (from turicreate) (4.4.2)\n",
            "Collecting coremltools==3.3\n",
            "\u001b[?25l  Downloading https://files.pythonhosted.org/packages/77/19/611916d1ef326d38857d93af5ba184f6ad7491642e0fa4f9082e7d82f034/coremltools-3.3-cp36-none-manylinux1_x86_64.whl (3.4MB)\n",
            "\u001b[K     |████████████████████████████████| 3.4MB 35.5MB/s \n",
            "\u001b[?25hRequirement already satisfied: scipy>=1.1.0 in /usr/local/lib/python3.6/dist-packages (from turicreate) (1.4.1)\n",
            "Requirement already satisfied: pandas>=0.23.2 in /usr/local/lib/python3.6/dist-packages (from turicreate) (1.0.4)\n",
            "Requirement already satisfied: prettytable==0.7.2 in /usr/local/lib/python3.6/dist-packages (from turicreate) (0.7.2)\n",
            "Requirement already satisfied: pillow>=5.2.0 in /usr/local/lib/python3.6/dist-packages (from turicreate) (7.0.0)\n",
            "Collecting resampy==0.2.1\n",
            "\u001b[?25l  Downloading https://files.pythonhosted.org/packages/14/b6/66a06d85474190b50aee1a6c09cdc95bb405ac47338b27e9b21409da1760/resampy-0.2.1.tar.gz (322kB)\n",
            "\u001b[K     |████████████████████████████████| 327kB 38.4MB/s \n",
            "\u001b[?25hRequirement already satisfied: urllib3!=1.25.0,!=1.25.1,<1.26,>=1.21.1 in /usr/local/lib/python3.6/dist-packages (from requests>=2.9.1->turicreate) (1.24.3)\n",
            "Requirement already satisfied: idna<3,>=2.5 in /usr/local/lib/python3.6/dist-packages (from requests>=2.9.1->turicreate) (2.9)\n",
            "Requirement already satisfied: certifi>=2017.4.17 in /usr/local/lib/python3.6/dist-packages (from requests>=2.9.1->turicreate) (2020.4.5.1)\n",
            "Requirement already satisfied: chardet<4,>=3.0.2 in /usr/local/lib/python3.6/dist-packages (from requests>=2.9.1->turicreate) (3.0.4)\n",
            "Collecting tensorflow-estimator<2.1.0,>=2.0.0\n",
            "\u001b[?25l  Downloading https://files.pythonhosted.org/packages/fc/08/8b927337b7019c374719145d1dceba21a8bb909b93b1ad6f8fb7d22c1ca1/tensorflow_estimator-2.0.1-py2.py3-none-any.whl (449kB)\n",
            "\u001b[K     |████████████████████████████████| 450kB 42.4MB/s \n",
            "\u001b[?25hRequirement already satisfied: opt-einsum>=2.3.2 in /usr/local/lib/python3.6/dist-packages (from tensorflow<=2.0.1,>=2.0.0->turicreate) (3.2.1)\n",
            "Requirement already satisfied: wheel>=0.26; python_version >= \"3\" in /usr/local/lib/python3.6/dist-packages (from tensorflow<=2.0.1,>=2.0.0->turicreate) (0.34.2)\n",
            "Requirement already satisfied: keras-preprocessing>=1.0.5 in /usr/local/lib/python3.6/dist-packages (from tensorflow<=2.0.1,>=2.0.0->turicreate) (1.1.2)\n",
            "Collecting tensorboard<2.1.0,>=2.0.0\n",
            "\u001b[?25l  Downloading https://files.pythonhosted.org/packages/76/54/99b9d5d52d5cb732f099baaaf7740403e83fe6b0cedde940fabd2b13d75a/tensorboard-2.0.2-py3-none-any.whl (3.8MB)\n",
            "\u001b[K     |████████████████████████████████| 3.8MB 34.2MB/s \n",
            "\u001b[?25hRequirement already satisfied: google-pasta>=0.1.6 in /usr/local/lib/python3.6/dist-packages (from tensorflow<=2.0.1,>=2.0.0->turicreate) (0.2.0)\n",
            "Requirement already satisfied: astor>=0.6.0 in /usr/local/lib/python3.6/dist-packages (from tensorflow<=2.0.1,>=2.0.0->turicreate) (0.8.1)\n",
            "Requirement already satisfied: protobuf>=3.6.1 in /usr/local/lib/python3.6/dist-packages (from tensorflow<=2.0.1,>=2.0.0->turicreate) (3.10.0)\n",
            "Requirement already satisfied: grpcio>=1.8.6 in /usr/local/lib/python3.6/dist-packages (from tensorflow<=2.0.1,>=2.0.0->turicreate) (1.29.0)\n",
            "Requirement already satisfied: keras-applications>=1.0.8 in /usr/local/lib/python3.6/dist-packages (from tensorflow<=2.0.1,>=2.0.0->turicreate) (1.0.8)\n",
            "Requirement already satisfied: absl-py>=0.7.0 in /usr/local/lib/python3.6/dist-packages (from tensorflow<=2.0.1,>=2.0.0->turicreate) (0.9.0)\n",
            "Requirement already satisfied: termcolor>=1.1.0 in /usr/local/lib/python3.6/dist-packages (from tensorflow<=2.0.1,>=2.0.0->turicreate) (1.1.0)\n",
            "Collecting gast==0.2.2\n",
            "  Downloading https://files.pythonhosted.org/packages/4e/35/11749bf99b2d4e3cceb4d55ca22590b0d7c2c62b9de38ac4a4a7f4687421/gast-0.2.2.tar.gz\n",
            "Requirement already satisfied: wrapt>=1.11.1 in /usr/local/lib/python3.6/dist-packages (from tensorflow<=2.0.1,>=2.0.0->turicreate) (1.12.1)\n",
            "Requirement already satisfied: pytz>=2017.2 in /usr/local/lib/python3.6/dist-packages (from pandas>=0.23.2->turicreate) (2018.9)\n",
            "Requirement already satisfied: python-dateutil>=2.6.1 in /usr/local/lib/python3.6/dist-packages (from pandas>=0.23.2->turicreate) (2.8.1)\n",
            "Requirement already satisfied: numba>=0.32 in /usr/local/lib/python3.6/dist-packages (from resampy==0.2.1->turicreate) (0.48.0)\n",
            "Requirement already satisfied: google-auth<2,>=1.6.3 in /usr/local/lib/python3.6/dist-packages (from tensorboard<2.1.0,>=2.0.0->tensorflow<=2.0.1,>=2.0.0->turicreate) (1.7.2)\n",
            "Requirement already satisfied: markdown>=2.6.8 in /usr/local/lib/python3.6/dist-packages (from tensorboard<2.1.0,>=2.0.0->tensorflow<=2.0.1,>=2.0.0->turicreate) (3.2.2)\n",
            "Requirement already satisfied: setuptools>=41.0.0 in /usr/local/lib/python3.6/dist-packages (from tensorboard<2.1.0,>=2.0.0->tensorflow<=2.0.1,>=2.0.0->turicreate) (47.1.1)\n",
            "Requirement already satisfied: werkzeug>=0.11.15 in /usr/local/lib/python3.6/dist-packages (from tensorboard<2.1.0,>=2.0.0->tensorflow<=2.0.1,>=2.0.0->turicreate) (1.0.1)\n",
            "Requirement already satisfied: google-auth-oauthlib<0.5,>=0.4.1 in /usr/local/lib/python3.6/dist-packages (from tensorboard<2.1.0,>=2.0.0->tensorflow<=2.0.1,>=2.0.0->turicreate) (0.4.1)\n",
            "Requirement already satisfied: h5py in /usr/local/lib/python3.6/dist-packages (from keras-applications>=1.0.8->tensorflow<=2.0.1,>=2.0.0->turicreate) (2.10.0)\n",
            "Requirement already satisfied: llvmlite<0.32.0,>=0.31.0dev0 in /usr/local/lib/python3.6/dist-packages (from numba>=0.32->resampy==0.2.1->turicreate) (0.31.0)\n",
            "Requirement already satisfied: rsa<4.1,>=3.1.4 in /usr/local/lib/python3.6/dist-packages (from google-auth<2,>=1.6.3->tensorboard<2.1.0,>=2.0.0->tensorflow<=2.0.1,>=2.0.0->turicreate) (4.0)\n",
            "Requirement already satisfied: pyasn1-modules>=0.2.1 in /usr/local/lib/python3.6/dist-packages (from google-auth<2,>=1.6.3->tensorboard<2.1.0,>=2.0.0->tensorflow<=2.0.1,>=2.0.0->turicreate) (0.2.8)\n",
            "Requirement already satisfied: cachetools<3.2,>=2.0.0 in /usr/local/lib/python3.6/dist-packages (from google-auth<2,>=1.6.3->tensorboard<2.1.0,>=2.0.0->tensorflow<=2.0.1,>=2.0.0->turicreate) (3.1.1)\n",
            "Requirement already satisfied: importlib-metadata; python_version < \"3.8\" in /usr/local/lib/python3.6/dist-packages (from markdown>=2.6.8->tensorboard<2.1.0,>=2.0.0->tensorflow<=2.0.1,>=2.0.0->turicreate) (1.6.0)\n",
            "Requirement already satisfied: requests-oauthlib>=0.7.0 in /usr/local/lib/python3.6/dist-packages (from google-auth-oauthlib<0.5,>=0.4.1->tensorboard<2.1.0,>=2.0.0->tensorflow<=2.0.1,>=2.0.0->turicreate) (1.3.0)\n",
            "Requirement already satisfied: pyasn1>=0.1.3 in /usr/local/lib/python3.6/dist-packages (from rsa<4.1,>=3.1.4->google-auth<2,>=1.6.3->tensorboard<2.1.0,>=2.0.0->tensorflow<=2.0.1,>=2.0.0->turicreate) (0.4.8)\n",
            "Requirement already satisfied: zipp>=0.5 in /usr/local/lib/python3.6/dist-packages (from importlib-metadata; python_version < \"3.8\"->markdown>=2.6.8->tensorboard<2.1.0,>=2.0.0->tensorflow<=2.0.1,>=2.0.0->turicreate) (3.1.0)\n",
            "Requirement already satisfied: oauthlib>=3.0.0 in /usr/local/lib/python3.6/dist-packages (from requests-oauthlib>=0.7.0->google-auth-oauthlib<0.5,>=0.4.1->tensorboard<2.1.0,>=2.0.0->tensorflow<=2.0.1,>=2.0.0->turicreate) (3.1.0)\n",
            "Building wheels for collected packages: resampy, gast\n",
            "  Building wheel for resampy (setup.py) ... \u001b[?25l\u001b[?25hdone\n",
            "  Created wheel for resampy: filename=resampy-0.2.1-cp36-none-any.whl size=320850 sha256=3df7a806fc65b2a5a4646a6668b53eef4eb3b43b6778cecd068c3a4d5a12ecb7\n",
            "  Stored in directory: /root/.cache/pip/wheels/ff/4f/ed/2e6c676c23efe5394bb40ade50662e90eb46e29b48324c5f9b\n",
            "  Building wheel for gast (setup.py) ... \u001b[?25l\u001b[?25hdone\n",
            "  Created wheel for gast: filename=gast-0.2.2-cp36-none-any.whl size=7540 sha256=b6773928748ecff2e00ceaf6fa4e1082ff3dc2688ecacfa1d93760810cb3857a\n",
            "  Stored in directory: /root/.cache/pip/wheels/5c/2e/7e/a1d4d4fcebe6c381f378ce7743a3ced3699feb89bcfbdadadd\n",
            "Successfully built resampy gast\n",
            "\u001b[31mERROR: tensorflow-probability 0.10.0 has requirement gast>=0.3.2, but you'll have gast 0.2.2 which is incompatible.\u001b[0m\n",
            "Installing collected packages: tensorflow-estimator, tensorboard, gast, tensorflow, coremltools, resampy, turicreate\n",
            "  Found existing installation: tensorflow-estimator 2.2.0\n",
            "    Uninstalling tensorflow-estimator-2.2.0:\n",
            "      Successfully uninstalled tensorflow-estimator-2.2.0\n",
            "  Found existing installation: tensorboard 2.2.2\n",
            "    Uninstalling tensorboard-2.2.2:\n",
            "      Successfully uninstalled tensorboard-2.2.2\n",
            "  Found existing installation: gast 0.3.3\n",
            "    Uninstalling gast-0.3.3:\n",
            "      Successfully uninstalled gast-0.3.3\n",
            "  Found existing installation: tensorflow 2.2.0\n",
            "    Uninstalling tensorflow-2.2.0:\n",
            "      Successfully uninstalled tensorflow-2.2.0\n",
            "  Found existing installation: resampy 0.2.2\n",
            "    Uninstalling resampy-0.2.2:\n",
            "      Successfully uninstalled resampy-0.2.2\n",
            "Successfully installed coremltools-3.3 gast-0.2.2 resampy-0.2.1 tensorboard-2.0.2 tensorflow-2.0.1 tensorflow-estimator-2.0.1 turicreate-6.3\n"
          ],
          "name": "stdout"
        }
      ]
    },
    {
      "cell_type": "code",
      "metadata": {
        "id": "9Gsr6L1LL-zC",
        "colab_type": "code",
        "colab": {}
      },
      "source": [
        "import turicreate\n",
        "from turicreate import SFrame\n",
        "import numpy as np\n",
        "import math"
      ],
      "execution_count": 0,
      "outputs": []
    },
    {
      "cell_type": "code",
      "metadata": {
        "id": "X7boml9-MZQT",
        "colab_type": "code",
        "colab": {}
      },
      "source": [
        "def polynomial_sframe(feature, degree):\n",
        "    # assume that degree >= 1\n",
        "    # initialize the SFrame:\n",
        "    poly_sframe = turicreate.SFrame()\n",
        "    # and set poly_sframe['power_1'] equal to the passed feature\n",
        "    poly_sframe['power_1'] = feature\n",
        "    # first check if degree > 1\n",
        "    if degree > 1:\n",
        "        # then loop over the remaining degrees:\n",
        "        for power in range(2, degree+1):\n",
        "            # first we'll give the column a name:\n",
        "            name = 'power_' + str(power)\n",
        "            # assign poly_sframe[name] to be feature^power\n",
        "            poly_sframe[name] = feature.apply(lambda x: x**power)\n",
        "    return poly_sframe"
      ],
      "execution_count": 0,
      "outputs": []
    },
    {
      "cell_type": "code",
      "metadata": {
        "id": "r1AAxLlIMiMR",
        "colab_type": "code",
        "colab": {
          "base_uri": "https://localhost:8080/",
          "height": 871
        },
        "outputId": "429b5077-e963-457d-c542-ad1052e5d06b"
      },
      "source": [
        "sales = turicreate.SFrame('/content/drive/My Drive/Colab Notebooks/Machine Learning/Course 2 Machine Learning Regression/Week2/Assignment1/home_data.sframe')\n",
        "sales = sales.sort(['sqft_living','price'])\n",
        "sales"
      ],
      "execution_count": 6,
      "outputs": [
        {
          "output_type": "execute_result",
          "data": {
            "text/html": [
              "<div style=\"max-height:1000px;max-width:1500px;overflow:auto;\"><table frame=\"box\" rules=\"cols\">\n",
              "    <tr>\n",
              "        <th style=\"padding-left: 1em; padding-right: 1em; text-align: center\">id</th>\n",
              "        <th style=\"padding-left: 1em; padding-right: 1em; text-align: center\">date</th>\n",
              "        <th style=\"padding-left: 1em; padding-right: 1em; text-align: center\">price</th>\n",
              "        <th style=\"padding-left: 1em; padding-right: 1em; text-align: center\">bedrooms</th>\n",
              "        <th style=\"padding-left: 1em; padding-right: 1em; text-align: center\">bathrooms</th>\n",
              "        <th style=\"padding-left: 1em; padding-right: 1em; text-align: center\">sqft_living</th>\n",
              "        <th style=\"padding-left: 1em; padding-right: 1em; text-align: center\">sqft_lot</th>\n",
              "        <th style=\"padding-left: 1em; padding-right: 1em; text-align: center\">floors</th>\n",
              "        <th style=\"padding-left: 1em; padding-right: 1em; text-align: center\">waterfront</th>\n",
              "    </tr>\n",
              "    <tr>\n",
              "        <td style=\"padding-left: 1em; padding-right: 1em; text-align: center; vertical-align: top\">3980300371</td>\n",
              "        <td style=\"padding-left: 1em; padding-right: 1em; text-align: center; vertical-align: top\">2014-09-26 00:00:00+00:00</td>\n",
              "        <td style=\"padding-left: 1em; padding-right: 1em; text-align: center; vertical-align: top\">142000.0</td>\n",
              "        <td style=\"padding-left: 1em; padding-right: 1em; text-align: center; vertical-align: top\">0.0</td>\n",
              "        <td style=\"padding-left: 1em; padding-right: 1em; text-align: center; vertical-align: top\">0.0</td>\n",
              "        <td style=\"padding-left: 1em; padding-right: 1em; text-align: center; vertical-align: top\">290.0</td>\n",
              "        <td style=\"padding-left: 1em; padding-right: 1em; text-align: center; vertical-align: top\">20875.0</td>\n",
              "        <td style=\"padding-left: 1em; padding-right: 1em; text-align: center; vertical-align: top\">1.0</td>\n",
              "        <td style=\"padding-left: 1em; padding-right: 1em; text-align: center; vertical-align: top\">0</td>\n",
              "    </tr>\n",
              "    <tr>\n",
              "        <td style=\"padding-left: 1em; padding-right: 1em; text-align: center; vertical-align: top\">2856101479</td>\n",
              "        <td style=\"padding-left: 1em; padding-right: 1em; text-align: center; vertical-align: top\">2014-07-01 00:00:00+00:00</td>\n",
              "        <td style=\"padding-left: 1em; padding-right: 1em; text-align: center; vertical-align: top\">276000.0</td>\n",
              "        <td style=\"padding-left: 1em; padding-right: 1em; text-align: center; vertical-align: top\">1.0</td>\n",
              "        <td style=\"padding-left: 1em; padding-right: 1em; text-align: center; vertical-align: top\">0.75</td>\n",
              "        <td style=\"padding-left: 1em; padding-right: 1em; text-align: center; vertical-align: top\">370.0</td>\n",
              "        <td style=\"padding-left: 1em; padding-right: 1em; text-align: center; vertical-align: top\">1801.0</td>\n",
              "        <td style=\"padding-left: 1em; padding-right: 1em; text-align: center; vertical-align: top\">1.0</td>\n",
              "        <td style=\"padding-left: 1em; padding-right: 1em; text-align: center; vertical-align: top\">0</td>\n",
              "    </tr>\n",
              "    <tr>\n",
              "        <td style=\"padding-left: 1em; padding-right: 1em; text-align: center; vertical-align: top\">1723049033</td>\n",
              "        <td style=\"padding-left: 1em; padding-right: 1em; text-align: center; vertical-align: top\">2014-06-20 00:00:00+00:00</td>\n",
              "        <td style=\"padding-left: 1em; padding-right: 1em; text-align: center; vertical-align: top\">245000.0</td>\n",
              "        <td style=\"padding-left: 1em; padding-right: 1em; text-align: center; vertical-align: top\">1.0</td>\n",
              "        <td style=\"padding-left: 1em; padding-right: 1em; text-align: center; vertical-align: top\">0.75</td>\n",
              "        <td style=\"padding-left: 1em; padding-right: 1em; text-align: center; vertical-align: top\">380.0</td>\n",
              "        <td style=\"padding-left: 1em; padding-right: 1em; text-align: center; vertical-align: top\">15000.0</td>\n",
              "        <td style=\"padding-left: 1em; padding-right: 1em; text-align: center; vertical-align: top\">1.0</td>\n",
              "        <td style=\"padding-left: 1em; padding-right: 1em; text-align: center; vertical-align: top\">0</td>\n",
              "    </tr>\n",
              "    <tr>\n",
              "        <td style=\"padding-left: 1em; padding-right: 1em; text-align: center; vertical-align: top\">1222029077</td>\n",
              "        <td style=\"padding-left: 1em; padding-right: 1em; text-align: center; vertical-align: top\">2014-10-29 00:00:00+00:00</td>\n",
              "        <td style=\"padding-left: 1em; padding-right: 1em; text-align: center; vertical-align: top\">265000.0</td>\n",
              "        <td style=\"padding-left: 1em; padding-right: 1em; text-align: center; vertical-align: top\">0.0</td>\n",
              "        <td style=\"padding-left: 1em; padding-right: 1em; text-align: center; vertical-align: top\">0.75</td>\n",
              "        <td style=\"padding-left: 1em; padding-right: 1em; text-align: center; vertical-align: top\">384.0</td>\n",
              "        <td style=\"padding-left: 1em; padding-right: 1em; text-align: center; vertical-align: top\">213444.0</td>\n",
              "        <td style=\"padding-left: 1em; padding-right: 1em; text-align: center; vertical-align: top\">1.0</td>\n",
              "        <td style=\"padding-left: 1em; padding-right: 1em; text-align: center; vertical-align: top\">0</td>\n",
              "    </tr>\n",
              "    <tr>\n",
              "        <td style=\"padding-left: 1em; padding-right: 1em; text-align: center; vertical-align: top\">6896300380</td>\n",
              "        <td style=\"padding-left: 1em; padding-right: 1em; text-align: center; vertical-align: top\">2014-10-02 00:00:00+00:00</td>\n",
              "        <td style=\"padding-left: 1em; padding-right: 1em; text-align: center; vertical-align: top\">228000.0</td>\n",
              "        <td style=\"padding-left: 1em; padding-right: 1em; text-align: center; vertical-align: top\">0.0</td>\n",
              "        <td style=\"padding-left: 1em; padding-right: 1em; text-align: center; vertical-align: top\">1.0</td>\n",
              "        <td style=\"padding-left: 1em; padding-right: 1em; text-align: center; vertical-align: top\">390.0</td>\n",
              "        <td style=\"padding-left: 1em; padding-right: 1em; text-align: center; vertical-align: top\">5900.0</td>\n",
              "        <td style=\"padding-left: 1em; padding-right: 1em; text-align: center; vertical-align: top\">1.0</td>\n",
              "        <td style=\"padding-left: 1em; padding-right: 1em; text-align: center; vertical-align: top\">0</td>\n",
              "    </tr>\n",
              "    <tr>\n",
              "        <td style=\"padding-left: 1em; padding-right: 1em; text-align: center; vertical-align: top\">9266700190</td>\n",
              "        <td style=\"padding-left: 1em; padding-right: 1em; text-align: center; vertical-align: top\">2015-05-11 00:00:00+00:00</td>\n",
              "        <td style=\"padding-left: 1em; padding-right: 1em; text-align: center; vertical-align: top\">245000.0</td>\n",
              "        <td style=\"padding-left: 1em; padding-right: 1em; text-align: center; vertical-align: top\">1.0</td>\n",
              "        <td style=\"padding-left: 1em; padding-right: 1em; text-align: center; vertical-align: top\">1.0</td>\n",
              "        <td style=\"padding-left: 1em; padding-right: 1em; text-align: center; vertical-align: top\">390.0</td>\n",
              "        <td style=\"padding-left: 1em; padding-right: 1em; text-align: center; vertical-align: top\">2000.0</td>\n",
              "        <td style=\"padding-left: 1em; padding-right: 1em; text-align: center; vertical-align: top\">1.0</td>\n",
              "        <td style=\"padding-left: 1em; padding-right: 1em; text-align: center; vertical-align: top\">0</td>\n",
              "    </tr>\n",
              "    <tr>\n",
              "        <td style=\"padding-left: 1em; padding-right: 1em; text-align: center; vertical-align: top\">6303400395</td>\n",
              "        <td style=\"padding-left: 1em; padding-right: 1em; text-align: center; vertical-align: top\">2015-01-30 00:00:00+00:00</td>\n",
              "        <td style=\"padding-left: 1em; padding-right: 1em; text-align: center; vertical-align: top\">325000.0</td>\n",
              "        <td style=\"padding-left: 1em; padding-right: 1em; text-align: center; vertical-align: top\">1.0</td>\n",
              "        <td style=\"padding-left: 1em; padding-right: 1em; text-align: center; vertical-align: top\">0.75</td>\n",
              "        <td style=\"padding-left: 1em; padding-right: 1em; text-align: center; vertical-align: top\">410.0</td>\n",
              "        <td style=\"padding-left: 1em; padding-right: 1em; text-align: center; vertical-align: top\">8636.0</td>\n",
              "        <td style=\"padding-left: 1em; padding-right: 1em; text-align: center; vertical-align: top\">1.0</td>\n",
              "        <td style=\"padding-left: 1em; padding-right: 1em; text-align: center; vertical-align: top\">0</td>\n",
              "    </tr>\n",
              "    <tr>\n",
              "        <td style=\"padding-left: 1em; padding-right: 1em; text-align: center; vertical-align: top\">4322200105</td>\n",
              "        <td style=\"padding-left: 1em; padding-right: 1em; text-align: center; vertical-align: top\">2015-03-31 00:00:00+00:00</td>\n",
              "        <td style=\"padding-left: 1em; padding-right: 1em; text-align: center; vertical-align: top\">229050.0</td>\n",
              "        <td style=\"padding-left: 1em; padding-right: 1em; text-align: center; vertical-align: top\">1.0</td>\n",
              "        <td style=\"padding-left: 1em; padding-right: 1em; text-align: center; vertical-align: top\">1.0</td>\n",
              "        <td style=\"padding-left: 1em; padding-right: 1em; text-align: center; vertical-align: top\">420.0</td>\n",
              "        <td style=\"padding-left: 1em; padding-right: 1em; text-align: center; vertical-align: top\">3298.0</td>\n",
              "        <td style=\"padding-left: 1em; padding-right: 1em; text-align: center; vertical-align: top\">1.0</td>\n",
              "        <td style=\"padding-left: 1em; padding-right: 1em; text-align: center; vertical-align: top\">0</td>\n",
              "    </tr>\n",
              "    <tr>\n",
              "        <td style=\"padding-left: 1em; padding-right: 1em; text-align: center; vertical-align: top\">7549801385</td>\n",
              "        <td style=\"padding-left: 1em; padding-right: 1em; text-align: center; vertical-align: top\">2014-06-12 00:00:00+00:00</td>\n",
              "        <td style=\"padding-left: 1em; padding-right: 1em; text-align: center; vertical-align: top\">280000.0</td>\n",
              "        <td style=\"padding-left: 1em; padding-right: 1em; text-align: center; vertical-align: top\">1.0</td>\n",
              "        <td style=\"padding-left: 1em; padding-right: 1em; text-align: center; vertical-align: top\">0.75</td>\n",
              "        <td style=\"padding-left: 1em; padding-right: 1em; text-align: center; vertical-align: top\">420.0</td>\n",
              "        <td style=\"padding-left: 1em; padding-right: 1em; text-align: center; vertical-align: top\">6720.0</td>\n",
              "        <td style=\"padding-left: 1em; padding-right: 1em; text-align: center; vertical-align: top\">1.0</td>\n",
              "        <td style=\"padding-left: 1em; padding-right: 1em; text-align: center; vertical-align: top\">0</td>\n",
              "    </tr>\n",
              "    <tr>\n",
              "        <td style=\"padding-left: 1em; padding-right: 1em; text-align: center; vertical-align: top\">8658300340</td>\n",
              "        <td style=\"padding-left: 1em; padding-right: 1em; text-align: center; vertical-align: top\">2014-05-23 00:00:00+00:00</td>\n",
              "        <td style=\"padding-left: 1em; padding-right: 1em; text-align: center; vertical-align: top\">80000.0</td>\n",
              "        <td style=\"padding-left: 1em; padding-right: 1em; text-align: center; vertical-align: top\">1.0</td>\n",
              "        <td style=\"padding-left: 1em; padding-right: 1em; text-align: center; vertical-align: top\">0.75</td>\n",
              "        <td style=\"padding-left: 1em; padding-right: 1em; text-align: center; vertical-align: top\">430.0</td>\n",
              "        <td style=\"padding-left: 1em; padding-right: 1em; text-align: center; vertical-align: top\">5050.0</td>\n",
              "        <td style=\"padding-left: 1em; padding-right: 1em; text-align: center; vertical-align: top\">1.0</td>\n",
              "        <td style=\"padding-left: 1em; padding-right: 1em; text-align: center; vertical-align: top\">0</td>\n",
              "    </tr>\n",
              "</table>\n",
              "<table frame=\"box\" rules=\"cols\">\n",
              "    <tr>\n",
              "        <th style=\"padding-left: 1em; padding-right: 1em; text-align: center\">view</th>\n",
              "        <th style=\"padding-left: 1em; padding-right: 1em; text-align: center\">condition</th>\n",
              "        <th style=\"padding-left: 1em; padding-right: 1em; text-align: center\">grade</th>\n",
              "        <th style=\"padding-left: 1em; padding-right: 1em; text-align: center\">sqft_above</th>\n",
              "        <th style=\"padding-left: 1em; padding-right: 1em; text-align: center\">sqft_basement</th>\n",
              "        <th style=\"padding-left: 1em; padding-right: 1em; text-align: center\">yr_built</th>\n",
              "        <th style=\"padding-left: 1em; padding-right: 1em; text-align: center\">yr_renovated</th>\n",
              "        <th style=\"padding-left: 1em; padding-right: 1em; text-align: center\">zipcode</th>\n",
              "        <th style=\"padding-left: 1em; padding-right: 1em; text-align: center\">lat</th>\n",
              "    </tr>\n",
              "    <tr>\n",
              "        <td style=\"padding-left: 1em; padding-right: 1em; text-align: center; vertical-align: top\">0</td>\n",
              "        <td style=\"padding-left: 1em; padding-right: 1em; text-align: center; vertical-align: top\">1</td>\n",
              "        <td style=\"padding-left: 1em; padding-right: 1em; text-align: center; vertical-align: top\">1.0</td>\n",
              "        <td style=\"padding-left: 1em; padding-right: 1em; text-align: center; vertical-align: top\">290.0</td>\n",
              "        <td style=\"padding-left: 1em; padding-right: 1em; text-align: center; vertical-align: top\">0.0</td>\n",
              "        <td style=\"padding-left: 1em; padding-right: 1em; text-align: center; vertical-align: top\">1963.0</td>\n",
              "        <td style=\"padding-left: 1em; padding-right: 1em; text-align: center; vertical-align: top\">0.0</td>\n",
              "        <td style=\"padding-left: 1em; padding-right: 1em; text-align: center; vertical-align: top\">98024</td>\n",
              "        <td style=\"padding-left: 1em; padding-right: 1em; text-align: center; vertical-align: top\">47.53077245</td>\n",
              "    </tr>\n",
              "    <tr>\n",
              "        <td style=\"padding-left: 1em; padding-right: 1em; text-align: center; vertical-align: top\">0</td>\n",
              "        <td style=\"padding-left: 1em; padding-right: 1em; text-align: center; vertical-align: top\">5</td>\n",
              "        <td style=\"padding-left: 1em; padding-right: 1em; text-align: center; vertical-align: top\">5.0</td>\n",
              "        <td style=\"padding-left: 1em; padding-right: 1em; text-align: center; vertical-align: top\">370.0</td>\n",
              "        <td style=\"padding-left: 1em; padding-right: 1em; text-align: center; vertical-align: top\">0.0</td>\n",
              "        <td style=\"padding-left: 1em; padding-right: 1em; text-align: center; vertical-align: top\">1923.0</td>\n",
              "        <td style=\"padding-left: 1em; padding-right: 1em; text-align: center; vertical-align: top\">0.0</td>\n",
              "        <td style=\"padding-left: 1em; padding-right: 1em; text-align: center; vertical-align: top\">98117</td>\n",
              "        <td style=\"padding-left: 1em; padding-right: 1em; text-align: center; vertical-align: top\">47.67782145</td>\n",
              "    </tr>\n",
              "    <tr>\n",
              "        <td style=\"padding-left: 1em; padding-right: 1em; text-align: center; vertical-align: top\">0</td>\n",
              "        <td style=\"padding-left: 1em; padding-right: 1em; text-align: center; vertical-align: top\">3</td>\n",
              "        <td style=\"padding-left: 1em; padding-right: 1em; text-align: center; vertical-align: top\">5.0</td>\n",
              "        <td style=\"padding-left: 1em; padding-right: 1em; text-align: center; vertical-align: top\">380.0</td>\n",
              "        <td style=\"padding-left: 1em; padding-right: 1em; text-align: center; vertical-align: top\">0.0</td>\n",
              "        <td style=\"padding-left: 1em; padding-right: 1em; text-align: center; vertical-align: top\">1963.0</td>\n",
              "        <td style=\"padding-left: 1em; padding-right: 1em; text-align: center; vertical-align: top\">0.0</td>\n",
              "        <td style=\"padding-left: 1em; padding-right: 1em; text-align: center; vertical-align: top\">98168</td>\n",
              "        <td style=\"padding-left: 1em; padding-right: 1em; text-align: center; vertical-align: top\">47.48103428</td>\n",
              "    </tr>\n",
              "    <tr>\n",
              "        <td style=\"padding-left: 1em; padding-right: 1em; text-align: center; vertical-align: top\">0</td>\n",
              "        <td style=\"padding-left: 1em; padding-right: 1em; text-align: center; vertical-align: top\">3</td>\n",
              "        <td style=\"padding-left: 1em; padding-right: 1em; text-align: center; vertical-align: top\">4.0</td>\n",
              "        <td style=\"padding-left: 1em; padding-right: 1em; text-align: center; vertical-align: top\">384.0</td>\n",
              "        <td style=\"padding-left: 1em; padding-right: 1em; text-align: center; vertical-align: top\">0.0</td>\n",
              "        <td style=\"padding-left: 1em; padding-right: 1em; text-align: center; vertical-align: top\">2003.0</td>\n",
              "        <td style=\"padding-left: 1em; padding-right: 1em; text-align: center; vertical-align: top\">0.0</td>\n",
              "        <td style=\"padding-left: 1em; padding-right: 1em; text-align: center; vertical-align: top\">98070</td>\n",
              "        <td style=\"padding-left: 1em; padding-right: 1em; text-align: center; vertical-align: top\">47.41772688</td>\n",
              "    </tr>\n",
              "    <tr>\n",
              "        <td style=\"padding-left: 1em; padding-right: 1em; text-align: center; vertical-align: top\">0</td>\n",
              "        <td style=\"padding-left: 1em; padding-right: 1em; text-align: center; vertical-align: top\">2</td>\n",
              "        <td style=\"padding-left: 1em; padding-right: 1em; text-align: center; vertical-align: top\">4.0</td>\n",
              "        <td style=\"padding-left: 1em; padding-right: 1em; text-align: center; vertical-align: top\">390.0</td>\n",
              "        <td style=\"padding-left: 1em; padding-right: 1em; text-align: center; vertical-align: top\">0.0</td>\n",
              "        <td style=\"padding-left: 1em; padding-right: 1em; text-align: center; vertical-align: top\">1953.0</td>\n",
              "        <td style=\"padding-left: 1em; padding-right: 1em; text-align: center; vertical-align: top\">0.0</td>\n",
              "        <td style=\"padding-left: 1em; padding-right: 1em; text-align: center; vertical-align: top\">98118</td>\n",
              "        <td style=\"padding-left: 1em; padding-right: 1em; text-align: center; vertical-align: top\">47.52604001</td>\n",
              "    </tr>\n",
              "    <tr>\n",
              "        <td style=\"padding-left: 1em; padding-right: 1em; text-align: center; vertical-align: top\">0</td>\n",
              "        <td style=\"padding-left: 1em; padding-right: 1em; text-align: center; vertical-align: top\">4</td>\n",
              "        <td style=\"padding-left: 1em; padding-right: 1em; text-align: center; vertical-align: top\">6.0</td>\n",
              "        <td style=\"padding-left: 1em; padding-right: 1em; text-align: center; vertical-align: top\">390.0</td>\n",
              "        <td style=\"padding-left: 1em; padding-right: 1em; text-align: center; vertical-align: top\">0.0</td>\n",
              "        <td style=\"padding-left: 1em; padding-right: 1em; text-align: center; vertical-align: top\">1920.0</td>\n",
              "        <td style=\"padding-left: 1em; padding-right: 1em; text-align: center; vertical-align: top\">0.0</td>\n",
              "        <td style=\"padding-left: 1em; padding-right: 1em; text-align: center; vertical-align: top\">98103</td>\n",
              "        <td style=\"padding-left: 1em; padding-right: 1em; text-align: center; vertical-align: top\">47.69377314</td>\n",
              "    </tr>\n",
              "    <tr>\n",
              "        <td style=\"padding-left: 1em; padding-right: 1em; text-align: center; vertical-align: top\">0</td>\n",
              "        <td style=\"padding-left: 1em; padding-right: 1em; text-align: center; vertical-align: top\">2</td>\n",
              "        <td style=\"padding-left: 1em; padding-right: 1em; text-align: center; vertical-align: top\">4.0</td>\n",
              "        <td style=\"padding-left: 1em; padding-right: 1em; text-align: center; vertical-align: top\">410.0</td>\n",
              "        <td style=\"padding-left: 1em; padding-right: 1em; text-align: center; vertical-align: top\">0.0</td>\n",
              "        <td style=\"padding-left: 1em; padding-right: 1em; text-align: center; vertical-align: top\">1953.0</td>\n",
              "        <td style=\"padding-left: 1em; padding-right: 1em; text-align: center; vertical-align: top\">0.0</td>\n",
              "        <td style=\"padding-left: 1em; padding-right: 1em; text-align: center; vertical-align: top\">98146</td>\n",
              "        <td style=\"padding-left: 1em; padding-right: 1em; text-align: center; vertical-align: top\">47.5076723</td>\n",
              "    </tr>\n",
              "    <tr>\n",
              "        <td style=\"padding-left: 1em; padding-right: 1em; text-align: center; vertical-align: top\">0</td>\n",
              "        <td style=\"padding-left: 1em; padding-right: 1em; text-align: center; vertical-align: top\">4</td>\n",
              "        <td style=\"padding-left: 1em; padding-right: 1em; text-align: center; vertical-align: top\">4.0</td>\n",
              "        <td style=\"padding-left: 1em; padding-right: 1em; text-align: center; vertical-align: top\">420.0</td>\n",
              "        <td style=\"padding-left: 1em; padding-right: 1em; text-align: center; vertical-align: top\">0.0</td>\n",
              "        <td style=\"padding-left: 1em; padding-right: 1em; text-align: center; vertical-align: top\">1949.0</td>\n",
              "        <td style=\"padding-left: 1em; padding-right: 1em; text-align: center; vertical-align: top\">0.0</td>\n",
              "        <td style=\"padding-left: 1em; padding-right: 1em; text-align: center; vertical-align: top\">98136</td>\n",
              "        <td style=\"padding-left: 1em; padding-right: 1em; text-align: center; vertical-align: top\">47.5374761</td>\n",
              "    </tr>\n",
              "    <tr>\n",
              "        <td style=\"padding-left: 1em; padding-right: 1em; text-align: center; vertical-align: top\">0</td>\n",
              "        <td style=\"padding-left: 1em; padding-right: 1em; text-align: center; vertical-align: top\">3</td>\n",
              "        <td style=\"padding-left: 1em; padding-right: 1em; text-align: center; vertical-align: top\">5.0</td>\n",
              "        <td style=\"padding-left: 1em; padding-right: 1em; text-align: center; vertical-align: top\">420.0</td>\n",
              "        <td style=\"padding-left: 1em; padding-right: 1em; text-align: center; vertical-align: top\">0.0</td>\n",
              "        <td style=\"padding-left: 1em; padding-right: 1em; text-align: center; vertical-align: top\">1922.0</td>\n",
              "        <td style=\"padding-left: 1em; padding-right: 1em; text-align: center; vertical-align: top\">0.0</td>\n",
              "        <td style=\"padding-left: 1em; padding-right: 1em; text-align: center; vertical-align: top\">98108</td>\n",
              "        <td style=\"padding-left: 1em; padding-right: 1em; text-align: center; vertical-align: top\">47.55198122</td>\n",
              "    </tr>\n",
              "    <tr>\n",
              "        <td style=\"padding-left: 1em; padding-right: 1em; text-align: center; vertical-align: top\">0</td>\n",
              "        <td style=\"padding-left: 1em; padding-right: 1em; text-align: center; vertical-align: top\">2</td>\n",
              "        <td style=\"padding-left: 1em; padding-right: 1em; text-align: center; vertical-align: top\">4.0</td>\n",
              "        <td style=\"padding-left: 1em; padding-right: 1em; text-align: center; vertical-align: top\">430.0</td>\n",
              "        <td style=\"padding-left: 1em; padding-right: 1em; text-align: center; vertical-align: top\">0.0</td>\n",
              "        <td style=\"padding-left: 1em; padding-right: 1em; text-align: center; vertical-align: top\">1912.0</td>\n",
              "        <td style=\"padding-left: 1em; padding-right: 1em; text-align: center; vertical-align: top\">0.0</td>\n",
              "        <td style=\"padding-left: 1em; padding-right: 1em; text-align: center; vertical-align: top\">98014</td>\n",
              "        <td style=\"padding-left: 1em; padding-right: 1em; text-align: center; vertical-align: top\">47.64994341</td>\n",
              "    </tr>\n",
              "</table>\n",
              "<table frame=\"box\" rules=\"cols\">\n",
              "    <tr>\n",
              "        <th style=\"padding-left: 1em; padding-right: 1em; text-align: center\">long</th>\n",
              "        <th style=\"padding-left: 1em; padding-right: 1em; text-align: center\">sqft_living15</th>\n",
              "        <th style=\"padding-left: 1em; padding-right: 1em; text-align: center\">sqft_lot15</th>\n",
              "    </tr>\n",
              "    <tr>\n",
              "        <td style=\"padding-left: 1em; padding-right: 1em; text-align: center; vertical-align: top\">-121.88842327</td>\n",
              "        <td style=\"padding-left: 1em; padding-right: 1em; text-align: center; vertical-align: top\">1620.0</td>\n",
              "        <td style=\"padding-left: 1em; padding-right: 1em; text-align: center; vertical-align: top\">22850.0</td>\n",
              "    </tr>\n",
              "    <tr>\n",
              "        <td style=\"padding-left: 1em; padding-right: 1em; text-align: center; vertical-align: top\">-122.38911208</td>\n",
              "        <td style=\"padding-left: 1em; padding-right: 1em; text-align: center; vertical-align: top\">1340.0</td>\n",
              "        <td style=\"padding-left: 1em; padding-right: 1em; text-align: center; vertical-align: top\">5000.0</td>\n",
              "    </tr>\n",
              "    <tr>\n",
              "        <td style=\"padding-left: 1em; padding-right: 1em; text-align: center; vertical-align: top\">-122.322601</td>\n",
              "        <td style=\"padding-left: 1em; padding-right: 1em; text-align: center; vertical-align: top\">1170.0</td>\n",
              "        <td style=\"padding-left: 1em; padding-right: 1em; text-align: center; vertical-align: top\">15000.0</td>\n",
              "    </tr>\n",
              "    <tr>\n",
              "        <td style=\"padding-left: 1em; padding-right: 1em; text-align: center; vertical-align: top\">-122.49121696</td>\n",
              "        <td style=\"padding-left: 1em; padding-right: 1em; text-align: center; vertical-align: top\">1920.0</td>\n",
              "        <td style=\"padding-left: 1em; padding-right: 1em; text-align: center; vertical-align: top\">224341.0</td>\n",
              "    </tr>\n",
              "    <tr>\n",
              "        <td style=\"padding-left: 1em; padding-right: 1em; text-align: center; vertical-align: top\">-122.26142752</td>\n",
              "        <td style=\"padding-left: 1em; padding-right: 1em; text-align: center; vertical-align: top\">2170.0</td>\n",
              "        <td style=\"padding-left: 1em; padding-right: 1em; text-align: center; vertical-align: top\">6000.0</td>\n",
              "    </tr>\n",
              "    <tr>\n",
              "        <td style=\"padding-left: 1em; padding-right: 1em; text-align: center; vertical-align: top\">-122.34662226</td>\n",
              "        <td style=\"padding-left: 1em; padding-right: 1em; text-align: center; vertical-align: top\">1340.0</td>\n",
              "        <td style=\"padding-left: 1em; padding-right: 1em; text-align: center; vertical-align: top\">5100.0</td>\n",
              "    </tr>\n",
              "    <tr>\n",
              "        <td style=\"padding-left: 1em; padding-right: 1em; text-align: center; vertical-align: top\">-122.35672193</td>\n",
              "        <td style=\"padding-left: 1em; padding-right: 1em; text-align: center; vertical-align: top\">1190.0</td>\n",
              "        <td style=\"padding-left: 1em; padding-right: 1em; text-align: center; vertical-align: top\">8636.0</td>\n",
              "    </tr>\n",
              "    <tr>\n",
              "        <td style=\"padding-left: 1em; padding-right: 1em; text-align: center; vertical-align: top\">-122.391385</td>\n",
              "        <td style=\"padding-left: 1em; padding-right: 1em; text-align: center; vertical-align: top\">1460.0</td>\n",
              "        <td style=\"padding-left: 1em; padding-right: 1em; text-align: center; vertical-align: top\">4975.0</td>\n",
              "    </tr>\n",
              "    <tr>\n",
              "        <td style=\"padding-left: 1em; padding-right: 1em; text-align: center; vertical-align: top\">-122.31082137</td>\n",
              "        <td style=\"padding-left: 1em; padding-right: 1em; text-align: center; vertical-align: top\">1420.0</td>\n",
              "        <td style=\"padding-left: 1em; padding-right: 1em; text-align: center; vertical-align: top\">6720.0</td>\n",
              "    </tr>\n",
              "    <tr>\n",
              "        <td style=\"padding-left: 1em; padding-right: 1em; text-align: center; vertical-align: top\">-121.90868353</td>\n",
              "        <td style=\"padding-left: 1em; padding-right: 1em; text-align: center; vertical-align: top\">1200.0</td>\n",
              "        <td style=\"padding-left: 1em; padding-right: 1em; text-align: center; vertical-align: top\">7500.0</td>\n",
              "    </tr>\n",
              "</table>\n",
              "[21613 rows x 21 columns]<br/>Note: Only the head of the SFrame is printed.<br/>You can use print_rows(num_rows=m, num_columns=n) to print more rows and columns.\n",
              "</div>"
            ],
            "text/plain": [
              "Columns:\n",
              "\tid\tstr\n",
              "\tdate\tdatetime\n",
              "\tprice\tfloat\n",
              "\tbedrooms\tfloat\n",
              "\tbathrooms\tfloat\n",
              "\tsqft_living\tfloat\n",
              "\tsqft_lot\tfloat\n",
              "\tfloors\tfloat\n",
              "\twaterfront\tint\n",
              "\tview\tint\n",
              "\tcondition\tint\n",
              "\tgrade\tfloat\n",
              "\tsqft_above\tfloat\n",
              "\tsqft_basement\tfloat\n",
              "\tyr_built\tfloat\n",
              "\tyr_renovated\tfloat\n",
              "\tzipcode\tstr\n",
              "\tlat\tfloat\n",
              "\tlong\tfloat\n",
              "\tsqft_living15\tfloat\n",
              "\tsqft_lot15\tfloat\n",
              "\n",
              "Rows: 21613\n",
              "\n",
              "Data:\n",
              "+------------+---------------------------+----------+----------+-----------+\n",
              "|     id     |            date           |  price   | bedrooms | bathrooms |\n",
              "+------------+---------------------------+----------+----------+-----------+\n",
              "| 3980300371 | 2014-09-26 00:00:00+00:00 | 142000.0 |   0.0    |    0.0    |\n",
              "| 2856101479 | 2014-07-01 00:00:00+00:00 | 276000.0 |   1.0    |    0.75   |\n",
              "| 1723049033 | 2014-06-20 00:00:00+00:00 | 245000.0 |   1.0    |    0.75   |\n",
              "| 1222029077 | 2014-10-29 00:00:00+00:00 | 265000.0 |   0.0    |    0.75   |\n",
              "| 6896300380 | 2014-10-02 00:00:00+00:00 | 228000.0 |   0.0    |    1.0    |\n",
              "| 9266700190 | 2015-05-11 00:00:00+00:00 | 245000.0 |   1.0    |    1.0    |\n",
              "| 6303400395 | 2015-01-30 00:00:00+00:00 | 325000.0 |   1.0    |    0.75   |\n",
              "| 4322200105 | 2015-03-31 00:00:00+00:00 | 229050.0 |   1.0    |    1.0    |\n",
              "| 7549801385 | 2014-06-12 00:00:00+00:00 | 280000.0 |   1.0    |    0.75   |\n",
              "| 8658300340 | 2014-05-23 00:00:00+00:00 | 80000.0  |   1.0    |    0.75   |\n",
              "+------------+---------------------------+----------+----------+-----------+\n",
              "+-------------+----------+--------+------------+------+-----------+-------+\n",
              "| sqft_living | sqft_lot | floors | waterfront | view | condition | grade |\n",
              "+-------------+----------+--------+------------+------+-----------+-------+\n",
              "|    290.0    | 20875.0  |  1.0   |     0      |  0   |     1     |  1.0  |\n",
              "|    370.0    |  1801.0  |  1.0   |     0      |  0   |     5     |  5.0  |\n",
              "|    380.0    | 15000.0  |  1.0   |     0      |  0   |     3     |  5.0  |\n",
              "|    384.0    | 213444.0 |  1.0   |     0      |  0   |     3     |  4.0  |\n",
              "|    390.0    |  5900.0  |  1.0   |     0      |  0   |     2     |  4.0  |\n",
              "|    390.0    |  2000.0  |  1.0   |     0      |  0   |     4     |  6.0  |\n",
              "|    410.0    |  8636.0  |  1.0   |     0      |  0   |     2     |  4.0  |\n",
              "|    420.0    |  3298.0  |  1.0   |     0      |  0   |     4     |  4.0  |\n",
              "|    420.0    |  6720.0  |  1.0   |     0      |  0   |     3     |  5.0  |\n",
              "|    430.0    |  5050.0  |  1.0   |     0      |  0   |     2     |  4.0  |\n",
              "+-------------+----------+--------+------------+------+-----------+-------+\n",
              "+------------+---------------+----------+--------------+---------+-------------+\n",
              "| sqft_above | sqft_basement | yr_built | yr_renovated | zipcode |     lat     |\n",
              "+------------+---------------+----------+--------------+---------+-------------+\n",
              "|   290.0    |      0.0      |  1963.0  |     0.0      |  98024  | 47.53077245 |\n",
              "|   370.0    |      0.0      |  1923.0  |     0.0      |  98117  | 47.67782145 |\n",
              "|   380.0    |      0.0      |  1963.0  |     0.0      |  98168  | 47.48103428 |\n",
              "|   384.0    |      0.0      |  2003.0  |     0.0      |  98070  | 47.41772688 |\n",
              "|   390.0    |      0.0      |  1953.0  |     0.0      |  98118  | 47.52604001 |\n",
              "|   390.0    |      0.0      |  1920.0  |     0.0      |  98103  | 47.69377314 |\n",
              "|   410.0    |      0.0      |  1953.0  |     0.0      |  98146  |  47.5076723 |\n",
              "|   420.0    |      0.0      |  1949.0  |     0.0      |  98136  |  47.5374761 |\n",
              "|   420.0    |      0.0      |  1922.0  |     0.0      |  98108  | 47.55198122 |\n",
              "|   430.0    |      0.0      |  1912.0  |     0.0      |  98014  | 47.64994341 |\n",
              "+------------+---------------+----------+--------------+---------+-------------+\n",
              "+---------------+---------------+-----+\n",
              "|      long     | sqft_living15 | ... |\n",
              "+---------------+---------------+-----+\n",
              "| -121.88842327 |     1620.0    | ... |\n",
              "| -122.38911208 |     1340.0    | ... |\n",
              "|  -122.322601  |     1170.0    | ... |\n",
              "| -122.49121696 |     1920.0    | ... |\n",
              "| -122.26142752 |     2170.0    | ... |\n",
              "| -122.34662226 |     1340.0    | ... |\n",
              "| -122.35672193 |     1190.0    | ... |\n",
              "|  -122.391385  |     1460.0    | ... |\n",
              "| -122.31082137 |     1420.0    | ... |\n",
              "| -121.90868353 |     1200.0    | ... |\n",
              "+---------------+---------------+-----+\n",
              "[21613 rows x 21 columns]\n",
              "Note: Only the head of the SFrame is printed.\n",
              "You can use print_rows(num_rows=m, num_columns=n) to print more rows and columns."
            ]
          },
          "metadata": {
            "tags": []
          },
          "execution_count": 6
        }
      ]
    },
    {
      "cell_type": "markdown",
      "metadata": {
        "id": "rk2pzsWvNSgk",
        "colab_type": "text"
      },
      "source": [
        "3. Let us revisit the 15th-order polynomial model using the 'sqft_living' input. Generate polynomial features up to degree 15 using `polynomial_sframe()` and fit a model with these features. When fitting the model, use an L2 penalty of 1.5e-5:\n",
        "    \n",
        "       l2_small_penalty = 1.5e-5\n"
      ]
    },
    {
      "cell_type": "code",
      "metadata": {
        "id": "QaUqVqvMMphX",
        "colab_type": "code",
        "colab": {}
      },
      "source": [
        "l2_small_penalty = 1.5e-5"
      ],
      "execution_count": 0,
      "outputs": []
    },
    {
      "cell_type": "markdown",
      "metadata": {
        "id": "-ZuWCpYtNjPm",
        "colab_type": "text"
      },
      "source": [
        "**Note:** When we have so many features and so few data points, the solution can become highly numerically unstable, which can sometimes lead to strange unpredictable results. Thus, rather than using no regularization, we will introduce a tiny amount of regularization (l2_penalty=1.5e-5) to make the solution numerically stable. (In lecture, we discussed the fact that regularization can also help with numerical stability, and here we are seeing a practical example.)\n",
        "\n",
        "With the L2 penalty specified above, fit the model and print out the learned weights. Add \"alpha=l2_small_penalty\" and \"normalize=True\" to the parameter list of linear_model.Ridge:\n",
        "\n",
        "      from sklearn import linear_model\n",
        "      import numpy as np\n",
        "\n",
        "      poly15_data = polynomial_sframe(sales['sqft_living'], 15) # use equivalent of `polynomial_sframe`\n",
        "      model = linear_model.Ridge(alpha=l2_small_penalty, normalize=True)\n",
        "      model.fit(poly15_data, sales['price'])\n"
      ]
    },
    {
      "cell_type": "code",
      "metadata": {
        "id": "o3H4W5Y6NijX",
        "colab_type": "code",
        "colab": {}
      },
      "source": [
        "from sklearn import linear_model\n",
        " \n",
        "poly15_data = polynomial_sframe(sales['sqft_living'], 15) # use equivalent of `polynomial_sframe`\n",
        "\n",
        "poly15_features = poly15_data.column_names() # get the name of the features\n",
        "poly15_data['price'] = sales['price']\n",
        "\n",
        "model15 = turicreate.linear_regression.create(poly15_data, \n",
        "                                             target = 'price',\n",
        "                                             features = poly15_features,\n",
        "                                             l2_penalty = l2_small_penalty,\n",
        "                                             validation_set = None,\n",
        "                                             verbose=False)"
      ],
      "execution_count": 0,
      "outputs": []
    },
    {
      "cell_type": "code",
      "metadata": {
        "id": "5i_BWxCHN4XZ",
        "colab_type": "code",
        "colab": {
          "base_uri": "https://localhost:8080/",
          "height": 391
        },
        "outputId": "7c8cfee4-46e2-42eb-cf1c-a6ad25c2a058"
      },
      "source": [
        "model15.coefficients.print_rows(num_rows = 16)"
      ],
      "execution_count": 75,
      "outputs": [
        {
          "output_type": "stream",
          "text": [
            "+-------------+-------+-------------------------+------------------------+\n",
            "|     name    | index |          value          |         stderr         |\n",
            "+-------------+-------+-------------------------+------------------------+\n",
            "| (intercept) |  None |    156896.99885983183   |   417122.0065470105    |\n",
            "|   power_1   |  None |    137.41232628138232   |   1916.0762344555162   |\n",
            "|   power_2   |  None |   0.09434563246344273   |   3.665300328218177    |\n",
            "|   power_3   |  None | -0.00010600651108376027 | 0.0038535958837442826  |\n",
            "|   power_4   |  None |  4.5049537061284684e-08 | 2.477988193277112e-06  |\n",
            "|   power_5   |  None |  -6.81277397623795e-12  | 1.0241627732196597e-09 |\n",
            "|   power_6   |  None |  1.4634053940705682e-16 | 2.7764872909301084e-13 |\n",
            "|   power_7   |  None |  3.8054538042389284e-20 | 5.000306084508913e-17  |\n",
            "|   power_8   |  None | -2.1542930879316397e-25 | 6.592225641745434e-21  |\n",
            "|   power_9   |  None |  -1.847953501322728e-28 | 8.424259529940343e-25  |\n",
            "|   power_10  |  None |  -7.197314034090871e-33 | 8.940119523888287e-29  |\n",
            "|   power_11  |  None |  4.382623237894828e-37  | 3.848042757336102e-33  |\n",
            "|   power_12  |  None |  5.324058440876756e-41  |          nan           |\n",
            "|   power_13  |  None |  5.712976528969431e-46  |  6.22869646278158e-42  |\n",
            "|   power_14  |  None | -2.2484114991437717e-49 | 1.042859737116227e-45  |\n",
            "|   power_15  |  None |  3.577177640970984e-54  | 2.1308746282729459e-50 |\n",
            "+-------------+-------+-------------------------+------------------------+\n",
            "[16 rows x 4 columns]\n",
            "\n"
          ],
          "name": "stdout"
        }
      ]
    },
    {
      "cell_type": "markdown",
      "metadata": {
        "id": "AgIa85rBPJl5",
        "colab_type": "text"
      },
      "source": [
        "4. **Quiz Question:** What’s the learned value for the coefficient of feature power_1?"
      ]
    },
    {
      "cell_type": "markdown",
      "metadata": {
        "id": "ik75h1nmPOcg",
        "colab_type": "text"
      },
      "source": [
        "#**Observe Overfitting**"
      ]
    },
    {
      "cell_type": "markdown",
      "metadata": {
        "id": "JNysoXO5PZAp",
        "colab_type": "text"
      },
      "source": [
        "5. Recall from Module 3 (Polynomial Regression) that the polynomial fit of degree 15 changed wildly whenever the data changed. In particular, when we split the sales data into four subsets and fit the model of degree 15, the result came out to be very different for each subset. The model had a high variance. We will see in a moment that ridge regression reduces such variance. But first, we must reproduce the experiment we did in Module 3.\n",
        "\n",
        "*   first split sales into 2 subsets with .random_split(.5) use seed = 0!\n",
        "*   next split these into 2 more subsets (4 total) using random_split(0.5) again set seed = 0!\n",
        "*   you should have 4 subsets of (approximately) equal size, call them set_1, set_2, set_3, and set_4"
      ]
    },
    {
      "cell_type": "code",
      "metadata": {
        "id": "XJlIoDKTO-B7",
        "colab_type": "code",
        "colab": {}
      },
      "source": [
        "set1_1, set2_2 = sales.random_split(.5, seed=0)\n",
        "set1, set2 = set1_1.random_split(.5, seed=0)\n",
        "set3, set4 = set2_2.random_split(.5, seed=0)"
      ],
      "execution_count": 0,
      "outputs": []
    },
    {
      "cell_type": "code",
      "metadata": {
        "id": "1LJiaaHWQH7t",
        "colab_type": "code",
        "colab": {}
      },
      "source": [
        "l2_poly_penalty=1e-9"
      ],
      "execution_count": 0,
      "outputs": []
    },
    {
      "cell_type": "code",
      "metadata": {
        "id": "2FEtOQz-QdTN",
        "colab_type": "code",
        "colab": {}
      },
      "source": [
        "import matplotlib.pyplot as plt\n",
        "%matplotlib inline"
      ],
      "execution_count": 0,
      "outputs": []
    },
    {
      "cell_type": "code",
      "metadata": {
        "id": "ipDFnrREQB7c",
        "colab_type": "code",
        "colab": {
          "base_uri": "https://localhost:8080/",
          "height": 684
        },
        "outputId": "0839cff4-69e5-4faa-99ab-6ec5818c7068"
      },
      "source": [
        "set1_data = polynomial_sframe(set1['sqft_living'], 15)\n",
        "set1_features = set1_data.column_names() # get the name of the features\n",
        "set1_data['price'] = set1['price']\n",
        "set1_model = turicreate.linear_regression.create(set1_data, \n",
        "                                             target = 'price',\n",
        "                                             features = set1_features,\n",
        "                                             l2_penalty = l2_poly_penalty,\n",
        "                                             validation_set = None,\n",
        "                                             verbose = False)\n",
        "set1_model.coefficients.print_rows(num_rows=16)\n",
        "plt.plot(set1_data['power_1'], set1_data['price'], '.', set1_data['power_1'], set1_model.predict(set1_data), '-')"
      ],
      "execution_count": 27,
      "outputs": [
        {
          "output_type": "stream",
          "text": [
            "+-------------+-------+-------------------------+------------------------+\n",
            "|     name    | index |          value          |         stderr         |\n",
            "+-------------+-------+-------------------------+------------------------+\n",
            "| (intercept) |  None |   -160126.25842047253   |   833320.8779053952    |\n",
            "|   power_1   |  None |    798.6999793442039    |   3595.7916573695425   |\n",
            "|   power_2   |  None |   0.022530792128448923  |   6.420905268875983    |\n",
            "|   power_3   |  None |  -0.000834993936569426  |  0.006274754003354131  |\n",
            "|   power_4   |  None |  7.433958635307228e-07  | 3.7514169376881496e-06 |\n",
            "|   power_5   |  None |  -2.927301447999671e-10 | 1.462338405232716e-09  |\n",
            "|   power_6   |  None |  5.827116669867331e-14  | 3.933935084383741e-13  |\n",
            "|   power_7   |  None |  -4.931259426267978e-18 | 7.824048006039244e-17  |\n",
            "|   power_8   |  None |  -8.110446776561954e-23 | 1.1871198981985578e-20 |\n",
            "|   power_9   |  None |  3.028853539111494e-26  | 1.2298744306907418e-24 |\n",
            "|   power_10  |  None |  8.535137404459767e-31  | 5.560774779685135e-29  |\n",
            "|   power_11  |  None | -1.5392099927229888e-34 | 1.946722686634921e-33  |\n",
            "|   power_12  |  None | -1.1466593065862203e-38 | 6.6568013428889316e-37 |\n",
            "|   power_13  |  None |  4.713431588823269e-43  | 4.760560699566766e-41  |\n",
            "|   power_14  |  None |  9.870687334976636e-47  | 1.7900939857735853e-45 |\n",
            "|   power_15  |  None |  -4.755211003356608e-51 | 3.095193153061373e-50  |\n",
            "+-------------+-------+-------------------------+------------------------+\n",
            "[16 rows x 4 columns]\n",
            "\n"
          ],
          "name": "stdout"
        },
        {
          "output_type": "execute_result",
          "data": {
            "text/plain": [
              "[<matplotlib.lines.Line2D at 0x7f1d8e9be390>,\n",
              " <matplotlib.lines.Line2D at 0x7f1d8e9be470>]"
            ]
          },
          "metadata": {
            "tags": []
          },
          "execution_count": 27
        },
        {
          "output_type": "display_data",
          "data": {
            "image/png": "[encoded data removed]",
            "text/plain": [
              "<Figure size 432x288 with 1 Axes>"
            ]
          },
          "metadata": {
            "tags": [],
            "needs_background": "light"
          }
        }
      ]
    },
    {
      "cell_type": "code",
      "metadata": {
        "id": "aBrn_ipeQSxx",
        "colab_type": "code",
        "colab": {
          "base_uri": "https://localhost:8080/",
          "height": 684
        },
        "outputId": "15e179af-9581-4eee-ed0d-232729c886dd"
      },
      "source": [
        "set2_data = polynomial_sframe(set2['sqft_living'], 15)\n",
        "set2_features = set2_data.column_names() # get the name of the features\n",
        "set2_data['price'] = set2['price']\n",
        "set2_model = turicreate.linear_regression.create(set2_data, \n",
        "                                             target = 'price',\n",
        "                                             features = set2_features,\n",
        "                                             l2_penalty = l2_poly_penalty,\n",
        "                                             validation_set = None,\n",
        "                                             verbose = False)\n",
        "set2_model.coefficients.print_rows(num_rows=16)\n",
        "plt.plot(set2_data['power_1'], set2_data['price'], '.', set2_data['power_1'], set2_model.predict(set2_data), '-')"
      ],
      "execution_count": 28,
      "outputs": [
        {
          "output_type": "stream",
          "text": [
            "+-------------+-------+-------------------------+------------------------+\n",
            "|     name    | index |          value          |         stderr         |\n",
            "+-------------+-------+-------------------------+------------------------+\n",
            "| (intercept) |  None |    1176600.9010029698   |   1248028.8701703902   |\n",
            "|   power_1   |  None |     -4232.7154324152    |   6443.1542973530995   |\n",
            "|   power_2   |  None |    7.361274934633805    |   13.669550924962937   |\n",
            "|   power_3   |  None |  -0.006194972938898392  |  0.015450315165577535  |\n",
            "|   power_4   |  None |   2.77621277554324e-06  | 9.776642978968516e-06  |\n",
            "|   power_5   |  None |  -6.019633172876006e-10 | 2.3990687896033535e-09 |\n",
            "|   power_6   |  None |  1.8590653448152327e-14 |          nan           |\n",
            "|   power_7   |  None |  1.6760580668322118e-17 |          nan           |\n",
            "|   power_8   |  None |  -2.263662696798525e-21 |          nan           |\n",
            "|   power_9   |  None | -1.3613485970670855e-25 | 1.741023140325115e-24  |\n",
            "|   power_10  |  None |  3.126822886402122e-29  | 2.7468513991186013e-27 |\n",
            "|   power_11  |  None |  2.0321478996390394e-33 | 3.565423935000703e-31  |\n",
            "|   power_12  |  None | -3.5557737785223864e-37 | 4.384983350888403e-35  |\n",
            "|   power_13  |  None |  -3.093528845967599e-41 |  4.32901196067984e-39  |\n",
            "|   power_14  |  None |  5.610488892603433e-45  | 2.3670296706404887e-43 |\n",
            "|   power_15  |  None | -1.9751019722759956e-49 | 5.3524856154925497e-48 |\n",
            "+-------------+-------+-------------------------+------------------------+\n",
            "[16 rows x 4 columns]\n",
            "\n"
          ],
          "name": "stdout"
        },
        {
          "output_type": "execute_result",
          "data": {
            "text/plain": [
              "[<matplotlib.lines.Line2D at 0x7f1d8e9a5ac8>,\n",
              " <matplotlib.lines.Line2D at 0x7f1d8e9a5ba8>]"
            ]
          },
          "metadata": {
            "tags": []
          },
          "execution_count": 28
        },
        {
          "output_type": "display_data",
          "data": {
            "image/png": "[encoded data removed]",
            "text/plain": [
              "<Figure size 432x288 with 1 Axes>"
            ]
          },
          "metadata": {
            "tags": [],
            "needs_background": "light"
          }
        }
      ]
    },
    {
      "cell_type": "code",
      "metadata": {
        "id": "3MDSAEU6QrpL",
        "colab_type": "code",
        "colab": {
          "base_uri": "https://localhost:8080/",
          "height": 684
        },
        "outputId": "6b55b9a3-eb7b-4cdf-d6a6-168ff6ccaf31"
      },
      "source": [
        "set3_data = polynomial_sframe(set3['sqft_living'], 15)\n",
        "set3_features = set3_data.column_names() # get the name of the features\n",
        "set3_data['price'] = set3['price']\n",
        "set3_model = turicreate.linear_regression.create(set3_data, \n",
        "                                             target = 'price',\n",
        "                                             features = set3_features,\n",
        "                                             l2_penalty = l2_poly_penalty,\n",
        "                                             validation_set = None,\n",
        "                                             verbose = False)\n",
        "set3_model.coefficients.print_rows(num_rows=16)\n",
        "plt.plot(set3_data['power_1'], set3_data['price'], '.', set3_data['power_1'], set3_model.predict(set3_data), '-')"
      ],
      "execution_count": 29,
      "outputs": [
        {
          "output_type": "stream",
          "text": [
            "+-------------+-------+-------------------------+------------------------+\n",
            "|     name    | index |          value          |         stderr         |\n",
            "+-------------+-------+-------------------------+------------------------+\n",
            "| (intercept) |  None |    -592338.0590682508   |   1148031.7615517778   |\n",
            "|   power_1   |  None |    2946.3792011012224   |   5263.431110276429    |\n",
            "|   power_2   |  None |   -3.8146358024887475   |    9.79025252786058    |\n",
            "|   power_3   |  None |   0.002378339458346896  |  0.009354706024803233  |\n",
            "|   power_4   |  None |  -5.675560436967293e-07 | 4.109084136572406e-06  |\n",
            "|   power_5   |  None |  -8.855156581618927e-11 |          nan           |\n",
            "|   power_6   |  None |  8.087488313293312e-14  |          nan           |\n",
            "|   power_7   |  None | -1.6297119633431805e-17 |          nan           |\n",
            "|   power_8   |  None |  7.123450169939974e-22  |          nan           |\n",
            "|   power_9   |  None |  1.4540643742614135e-25 |          nan           |\n",
            "|   power_10  |  None |  -9.558818173957329e-30 | 2.396739079249206e-28  |\n",
            "|   power_11  |  None | -1.5358090975662835e-33 |          nan           |\n",
            "|   power_12  |  None |  8.793906095090793e-38  |          nan           |\n",
            "|   power_13  |  None |  1.6562657363796873e-41 |          nan           |\n",
            "|   power_14  |  None | -1.7086128309288733e-45 | 2.1301440806101155e-44 |\n",
            "|   power_15  |  None |  4.443227124321585e-50  |  5.49867878724736e-49  |\n",
            "+-------------+-------+-------------------------+------------------------+\n",
            "[16 rows x 4 columns]\n",
            "\n"
          ],
          "name": "stdout"
        },
        {
          "output_type": "execute_result",
          "data": {
            "text/plain": [
              "[<matplotlib.lines.Line2D at 0x7f1d8e906c18>,\n",
              " <matplotlib.lines.Line2D at 0x7f1d8e906cf8>]"
            ]
          },
          "metadata": {
            "tags": []
          },
          "execution_count": 29
        },
        {
          "output_type": "display_data",
          "data": {
            "image/png": "[encoded data removed]",
            "text/plain": [
              "<Figure size 432x288 with 1 Axes>"
            ]
          },
          "metadata": {
            "tags": [],
            "needs_background": "light"
          }
        }
      ]
    },
    {
      "cell_type": "code",
      "metadata": {
        "id": "Io8sUk8oQxwW",
        "colab_type": "code",
        "colab": {
          "base_uri": "https://localhost:8080/",
          "height": 684
        },
        "outputId": "8a86fbba-92d6-457e-a651-238bcda962a8"
      },
      "source": [
        "set4_data = polynomial_sframe(set4['sqft_living'], 15)\n",
        "set4_features = set4_data.column_names() # get the name of the features\n",
        "set4_data['price'] = set4['price']\n",
        "set4_model = turicreate.linear_regression.create(set4_data, \n",
        "                                             target = 'price',\n",
        "                                             features = set4_features,\n",
        "                                             l2_penalty = l2_poly_penalty,\n",
        "                                             validation_set = None,\n",
        "                                             verbose = False)\n",
        "set4_model.coefficients.print_rows(num_rows=16)\n",
        "plt.plot(set4_data['power_1'], set4_data['price'], '.', set4_data['power_1'], set4_model.predict(set4_data), '-')"
      ],
      "execution_count": 30,
      "outputs": [
        {
          "output_type": "stream",
          "text": [
            "+-------------+-------+-------------------------+------------------------+\n",
            "|     name    | index |          value          |         stderr         |\n",
            "+-------------+-------+-------------------------+------------------------+\n",
            "| (intercept) |  None |    385268.39332467545   |   1523845.7723643421   |\n",
            "|   power_1   |  None |    -775.050633886195    |   9797.791050032085    |\n",
            "|   power_2   |  None |    1.2295276172771379   |   26.11514856058889    |\n",
            "|   power_3   |  None | -0.00026563251856433966 |  0.038216046299686876  |\n",
            "|   power_4   |  None |  -7.20826257151434e-07  |  3.42260833330979e-05  |\n",
            "|   power_5   |  None |  6.903829152850908e-10  | 1.9633171008624522e-08 |\n",
            "|   power_6   |  None |  -2.627732912762175e-13 | 7.196585500250679e-12  |\n",
            "|   power_7   |  None |  4.286825611631372e-17  | 1.5141478374315537e-15 |\n",
            "|   power_8   |  None |  -2.265575486298522e-22 |          nan           |\n",
            "|   power_9   |  None | -7.1918611736820245e-25 |          nan           |\n",
            "|   power_10  |  None |  2.089643723611736e-29  |          nan           |\n",
            "|   power_11  |  None |  1.142388389053258e-32  | 8.721655141443292e-31  |\n",
            "|   power_12  |  None |  -3.525373695969842e-37 | 9.447892448247997e-35  |\n",
            "|   power_13  |  None |  -1.844847908682799e-40 | 8.853547843598208e-39  |\n",
            "|   power_14  |  None |  1.9173457883083899e-44 |  5.79776944692586e-43  |\n",
            "|   power_15  |  None |  -5.552919213119418e-49 | 1.570544954536528e-47  |\n",
            "+-------------+-------+-------------------------+------------------------+\n",
            "[16 rows x 4 columns]\n",
            "\n"
          ],
          "name": "stdout"
        },
        {
          "output_type": "execute_result",
          "data": {
            "text/plain": [
              "[<matplotlib.lines.Line2D at 0x7f1d8e878080>,\n",
              " <matplotlib.lines.Line2D at 0x7f1d8e878160>]"
            ]
          },
          "metadata": {
            "tags": []
          },
          "execution_count": 30
        },
        {
          "output_type": "display_data",
          "data": {
            "image/png": "[encoded data removed]",
            "text/plain": [
              "<Figure size 432x288 with 1 Axes>"
            ]
          },
          "metadata": {
            "tags": [],
            "needs_background": "light"
          }
        }
      ]
    },
    {
      "cell_type": "markdown",
      "metadata": {
        "id": "fOJ-8HLfRvSV",
        "colab_type": "text"
      },
      "source": [
        "8. **Quiz Question:** For the models learned in each of these training sets, what are the smallest and largest values you learned for the coefficient of feature power_1? "
      ]
    },
    {
      "cell_type": "markdown",
      "metadata": {
        "id": "C5cBjzwcR7DV",
        "colab_type": "text"
      },
      "source": [
        "# **Ridge regression comes to rescue**"
      ]
    },
    {
      "cell_type": "markdown",
      "metadata": {
        "id": "xO4wKcHRTjpb",
        "colab_type": "text"
      },
      "source": [
        "9. Generally, whenever we see weights change so much in response to change in data, we believe the variance of our estimate to be large. Ridge regression aims to address this issue by penalizing \"large\" weights. (The weights looked quite small, but they are not that small because 'sqft_living' input is in the order of thousands.)\n",
        "\n",
        "10. Fit a 15th-order polynomial model on set_1, set_2, set_3, and set_4, this time with a large L2 penalty. Make sure to add \"alpha=l2_large_penalty\" and \"normalize=True\" to the parameter list, where the value of l2_large_penalty is given by"
      ]
    },
    {
      "cell_type": "code",
      "metadata": {
        "id": "tRa-VSpURJcn",
        "colab_type": "code",
        "colab": {}
      },
      "source": [
        "l2_large_penalty=1.23e2"
      ],
      "execution_count": 0,
      "outputs": []
    },
    {
      "cell_type": "code",
      "metadata": {
        "colab_type": "code",
        "outputId": "7e12e4c6-bab2-4bd7-afed-20a9f9f4075f",
        "id": "-iYhR2xuTxWD",
        "colab": {
          "base_uri": "https://localhost:8080/",
          "height": 684
        }
      },
      "source": [
        "set1_data = polynomial_sframe(set1['sqft_living'], 15)\n",
        "set1_features = set1_data.column_names() # get the name of the features\n",
        "set1_data['price'] = set1['price']\n",
        "set1_model = turicreate.linear_regression.create(set1_data, \n",
        "                                             target = 'price',\n",
        "                                             features = set1_features,\n",
        "                                             l2_penalty = l2_large_penalty,\n",
        "                                             validation_set = None,\n",
        "                                             verbose = False)\n",
        "set1_model.coefficients.print_rows(num_rows=16)\n",
        "plt.plot(set1_data['power_1'], set1_data['price'], '.', set1_data['power_1'], set1_model.predict(set1_data), '-')"
      ],
      "execution_count": 34,
      "outputs": [
        {
          "output_type": "stream",
          "text": [
            "+-------------+-------+-------------------------+------------------------+\n",
            "|     name    | index |          value          |         stderr         |\n",
            "+-------------+-------+-------------------------+------------------------+\n",
            "| (intercept) |  None |    216957.08928561368   |   841986.5108568087    |\n",
            "|   power_1   |  None |    74.22291916459729    |   3633.1839890615565   |\n",
            "|   power_2   |  None |   0.027254256714061162  |   6.487675716792436    |\n",
            "|   power_3   |  None |  1.7859653301341246e-06 |  0.006340004636687779  |\n",
            "|   power_4   |  None |  1.4828407457003815e-11 | 3.7904276034372575e-06 |\n",
            "|   power_5   |  None |  -5.190679080806875e-16 | 1.477545137964955e-09  |\n",
            "|   power_6   |  None |  4.7338651266248545e-20 | 3.974843740820676e-13  |\n",
            "|   power_7   |  None |  8.367021877089757e-24  | 7.905409615969138e-17  |\n",
            "|   power_8   |  None |  6.220569168819445e-28  | 1.1994646570781931e-20 |\n",
            "|   power_9   |  None |  2.469953059590888e-32  | 1.2426637903183117e-24 |\n",
            "|   power_10  |  None |  -7.279598798712886e-37 |  5.61860080378206e-29  |\n",
            "|   power_11  |  None | -2.7859067565669212e-40 | 1.9669664903218877e-33 |\n",
            "|   power_12  |  None |  -3.80687474730834e-44  | 6.726024854020618e-37  |\n",
            "|   power_13  |  None |  -4.088297982132555e-48 | 4.810065365487368e-41  |\n",
            "|   power_14  |  None |  -3.917308111755333e-52 | 1.8087090209185557e-45 |\n",
            "|   power_15  |  None | -3.5102759434040878e-56 | 3.1273798034733677e-50 |\n",
            "+-------------+-------+-------------------------+------------------------+\n",
            "[16 rows x 4 columns]\n",
            "\n"
          ],
          "name": "stdout"
        },
        {
          "output_type": "execute_result",
          "data": {
            "text/plain": [
              "[<matplotlib.lines.Line2D at 0x7f1d8e7870f0>,\n",
              " <matplotlib.lines.Line2D at 0x7f1d8e7871d0>]"
            ]
          },
          "metadata": {
            "tags": []
          },
          "execution_count": 34
        },
        {
          "output_type": "display_data",
          "data": {
            "image/png": "[encoded data removed]",
            "text/plain": [
              "<Figure size 432x288 with 1 Axes>"
            ]
          },
          "metadata": {
            "tags": [],
            "needs_background": "light"
          }
        }
      ]
    },
    {
      "cell_type": "code",
      "metadata": {
        "id": "9plRlOzXTpOB",
        "colab_type": "code",
        "colab": {
          "base_uri": "https://localhost:8080/",
          "height": 684
        },
        "outputId": "59175fd8-98d3-48f5-e281-ce454a3527b9"
      },
      "source": [
        "set2_data = polynomial_sframe(set2['sqft_living'], 15)\n",
        "set2_features = set2_data.column_names() # get the name of the features\n",
        "set2_data['price'] = set2['price']\n",
        "set2_model = turicreate.linear_regression.create(set2_data, \n",
        "                                             target = 'price',\n",
        "                                             features = set2_features,\n",
        "                                             l2_penalty = l2_large_penalty,\n",
        "                                             validation_set = None,\n",
        "                                             verbose = False)\n",
        "set2_model.coefficients.print_rows(num_rows=16)\n",
        "plt.plot(set2_data['power_1'], set2_data['price'], '.', set2_data['power_1'], set2_model.predict(set2_data), '-')"
      ],
      "execution_count": 35,
      "outputs": [
        {
          "output_type": "stream",
          "text": [
            "+-------------+-------+-------------------------+------------------------+\n",
            "|     name    | index |          value          |         stderr         |\n",
            "+-------------+-------+-------------------------+------------------------+\n",
            "| (intercept) |  None |    254573.0613592175    |   1254913.9874879296   |\n",
            "|   power_1   |  None |    49.72364380029556    |   6478.699847854849    |\n",
            "|   power_2   |  None |   0.022804636066077855  |   13.744963012011532   |\n",
            "|   power_3   |  None |  4.035622054941485e-06  |  0.015535551360869584  |\n",
            "|   power_4   |  None |  2.3146895628947213e-10 |   9.830578697517e-06   |\n",
            "|   power_5   |  None | -1.7444085740364216e-14 | 2.412303956244179e-09  |\n",
            "|   power_6   |  None |  -4.594695876114584e-18 |          nan           |\n",
            "|   power_7   |  None |  -5.238782412846056e-22 |          nan           |\n",
            "|   power_8   |  None |  -4.306525098396648e-26 |          nan           |\n",
            "|   power_9   |  None | -2.5737707268355443e-30 | 1.7506280051324915e-24 |\n",
            "|   power_10  |  None |  -5.465932923555641e-35 | 2.762005210531791e-27  |\n",
            "|   power_11  |  None |  1.516559894620125e-38  | 3.585093641900905e-31  |\n",
            "|   power_12  |  None |  3.510852324609021e-42  | 4.4091743976886273e-35 |\n",
            "|   power_13  |  None |   5.41245986257213e-46  | 4.352894224889194e-39  |\n",
            "|   power_14  |  None |  7.235205953615797e-50  | 2.3800880840842666e-43 |\n",
            "|   power_15  |  None |  9.007570599388942e-54  | 5.382014172310371e-48  |\n",
            "+-------------+-------+-------------------------+------------------------+\n",
            "[16 rows x 4 columns]\n",
            "\n"
          ],
          "name": "stdout"
        },
        {
          "output_type": "execute_result",
          "data": {
            "text/plain": [
              "[<matplotlib.lines.Line2D at 0x7f1d8e6f0828>,\n",
              " <matplotlib.lines.Line2D at 0x7f1d8e6f0908>]"
            ]
          },
          "metadata": {
            "tags": []
          },
          "execution_count": 35
        },
        {
          "output_type": "display_data",
          "data": {
            "image/png": "[encoded data removed]",
            "text/plain": [
              "<Figure size 432x288 with 1 Axes>"
            ]
          },
          "metadata": {
            "tags": [],
            "needs_background": "light"
          }
        }
      ]
    },
    {
      "cell_type": "code",
      "metadata": {
        "id": "fqYi7iRVUVzB",
        "colab_type": "code",
        "colab": {
          "base_uri": "https://localhost:8080/",
          "height": 684
        },
        "outputId": "56354774-4c5a-49c5-ed29-2a61e38413a0"
      },
      "source": [
        "set3_data = polynomial_sframe(set3['sqft_living'], 15)\n",
        "set3_features = set3_data.column_names() # get the name of the features\n",
        "set3_data['price'] = set3['price']\n",
        "set3_model = turicreate.linear_regression.create(set3_data, \n",
        "                                             target = 'price',\n",
        "                                             features = set3_features,\n",
        "                                             l2_penalty = l2_large_penalty,\n",
        "                                             validation_set = None,\n",
        "                                             verbose = False)\n",
        "set3_model.coefficients.print_rows(num_rows=16)\n",
        "plt.plot(set3_data['power_1'], set3_data['price'], '.', set3_data['power_1'], set3_model.predict(set3_data), '-')"
      ],
      "execution_count": 36,
      "outputs": [
        {
          "output_type": "stream",
          "text": [
            "+-------------+-------+-------------------------+------------------------+\n",
            "|     name    | index |          value          |         stderr         |\n",
            "+-------------+-------+-------------------------+------------------------+\n",
            "| (intercept) |  None |    241826.65396070518   |   1155101.1561749496   |\n",
            "|   power_1   |  None |    58.27505868890193    |   5295.842471038894    |\n",
            "|   power_2   |  None |   0.02527150979179223   |   9.850539325576351    |\n",
            "|   power_3   |  None |  3.2362340298055556e-06 |  0.009412310797325997  |\n",
            "|   power_4   |  None |  8.480025803231817e-11  | 4.134387214652737e-06  |\n",
            "|   power_5   |  None | -1.1250235262816766e-14 |          nan           |\n",
            "|   power_6   |  None | -1.6738796160900489e-18 |          nan           |\n",
            "|   power_7   |  None | -1.4577673588719048e-22 |          nan           |\n",
            "|   power_8   |  None |  -9.87634910523406e-27  |          nan           |\n",
            "|   power_9   |  None | -4.8592526043152835e-31 |          nan           |\n",
            "|   power_10  |  None | -2.5513205703789985e-36 | 2.4114978123500115e-28 |\n",
            "|   power_11  |  None |  3.804694830702767e-39  |          nan           |\n",
            "|   power_12  |  None |  7.384283197590155e-43  |          nan           |\n",
            "|   power_13  |  None |  1.058774609343958e-46  |          nan           |\n",
            "|   power_14  |  None |  1.3507890091005705e-50 | 2.143261164661598e-44  |\n",
            "|   power_15  |  None |  1.6214566156828803e-54 | 5.532538765302822e-49  |\n",
            "+-------------+-------+-------------------------+------------------------+\n",
            "[16 rows x 4 columns]\n",
            "\n"
          ],
          "name": "stdout"
        },
        {
          "output_type": "execute_result",
          "data": {
            "text/plain": [
              "[<matplotlib.lines.Line2D at 0x7f1d8e6ce978>,\n",
              " <matplotlib.lines.Line2D at 0x7f1d8e6cea58>]"
            ]
          },
          "metadata": {
            "tags": []
          },
          "execution_count": 36
        },
        {
          "output_type": "display_data",
          "data": {
            "image/png": "[encoded data removed]",
            "text/plain": [
              "<Figure size 432x288 with 1 Axes>"
            ]
          },
          "metadata": {
            "tags": [],
            "needs_background": "light"
          }
        }
      ]
    },
    {
      "cell_type": "code",
      "metadata": {
        "id": "rUQ8Fl5qUacX",
        "colab_type": "code",
        "colab": {
          "base_uri": "https://localhost:8080/",
          "height": 684
        },
        "outputId": "656f421d-7d7d-442d-c0a2-6ed18ae55153"
      },
      "source": [
        "set4_data = polynomial_sframe(set4['sqft_living'], 15)\n",
        "set4_features = set4_data.column_names() # get the name of the features\n",
        "set4_data['price'] = set4['price']\n",
        "set4_model = turicreate.linear_regression.create(set4_data, \n",
        "                                             target = 'price',\n",
        "                                             features = set4_features,\n",
        "                                             l2_penalty = l2_large_penalty,\n",
        "                                             validation_set = None,\n",
        "                                             verbose = False)\n",
        "set4_model.coefficients.print_rows(num_rows=16)\n",
        "plt.plot(set4_data['power_1'], set4_data['price'], '.', set4_data['power_1'], set4_model.predict(set4_data), '-')"
      ],
      "execution_count": 37,
      "outputs": [
        {
          "output_type": "stream",
          "text": [
            "+-------------+-------+-------------------------+------------------------+\n",
            "|     name    | index |          value          |         stderr         |\n",
            "+-------------+-------+-------------------------+------------------------+\n",
            "| (intercept) |  None |    258364.79445265414   |   1535890.6689697227   |\n",
            "|   power_1   |  None |    48.250267246966565   |   9875.235488504133    |\n",
            "|   power_2   |  None |   0.021421536200910463  |   26.32156988612657    |\n",
            "|   power_3   |  None |  4.081343673785995e-06  |  0.03851811645317226   |\n",
            "|   power_4   |  None |  3.3744050997890454e-10 | 3.4496615720581356e-05 |\n",
            "|   power_5   |  None | -2.4336676005843282e-15 | 1.978835699865271e-08  |\n",
            "|   power_6   |  None | -4.2132277869127885e-18 | 7.2534692937646425e-12 |\n",
            "|   power_7   |  None |  -6.610449092626798e-22 | 1.5261160788887101e-15 |\n",
            "|   power_8   |  None |  -6.790986328793984e-26 |          nan           |\n",
            "|   power_9   |  None |  -4.83291549329938e-30  |          nan           |\n",
            "|   power_10  |  None | -1.1766389872963829e-34 |          nan           |\n",
            "|   power_11  |  None |  3.503955956288681e-38  |  8.79059350535887e-31  |\n",
            "|   power_12  |  None |  8.325881576282967e-42  | 9.522571191820146e-35  |\n",
            "|   power_13  |  None |  1.2175304529932753e-45 | 8.923528723750844e-39  |\n",
            "|   power_14  |  None |  1.3657966627080188e-49 | 5.843596613163099e-43  |\n",
            "|   power_15  |  None |  1.1025204936171626e-53 | 1.5829589743373265e-47 |\n",
            "+-------------+-------+-------------------------+------------------------+\n",
            "[16 rows x 4 columns]\n",
            "\n"
          ],
          "name": "stdout"
        },
        {
          "output_type": "execute_result",
          "data": {
            "text/plain": [
              "[<matplotlib.lines.Line2D at 0x7f1d8e57eda0>,\n",
              " <matplotlib.lines.Line2D at 0x7f1d8e57ee80>]"
            ]
          },
          "metadata": {
            "tags": []
          },
          "execution_count": 37
        },
        {
          "output_type": "display_data",
          "data": {
            "image/png": "[encoded data removed]",
            "text/plain": [
              "<Figure size 432x288 with 1 Axes>"
            ]
          },
          "metadata": {
            "tags": [],
            "needs_background": "light"
          }
        }
      ]
    },
    {
      "cell_type": "markdown",
      "metadata": {
        "id": "3YzXyzf0VDvY",
        "colab_type": "text"
      },
      "source": [
        "These curves are varieng a lot less, now that we applied a high degree of regularization."
      ]
    },
    {
      "cell_type": "markdown",
      "metadata": {
        "id": "0XWcGGUMUmjK",
        "colab_type": "text"
      },
      "source": [
        "11. **QUIZ QUESTION:** For the models learned with regularization in each of these training sets, what are the smallest and largest values you learned for the coefficient of feature power_1?"
      ]
    },
    {
      "cell_type": "markdown",
      "metadata": {
        "id": "69q2cdXAUpe9",
        "colab_type": "text"
      },
      "source": [
        "#**Selecting an L2 penalty via cross-validation**"
      ]
    },
    {
      "cell_type": "markdown",
      "metadata": {
        "id": "RX-l46UNVTS-",
        "colab_type": "text"
      },
      "source": [
        "12. Just like the polynomial degree, the L2 penalty is a \"magic\" parameter we need to select. We could use the validation set approach as we did in the last module, but that approach has a major disadvantage: it leaves fewer observations available for training. Cross-validation seeks to overcome this issue by using all of the training set in a smart way.\n",
        "\n",
        "We will implement a kind of cross-validation called k-fold cross-validation. The method gets its name because it involves dividing the training set into k segments of roughtly equal size. Similar to the validation set method, we measure the validation error with one of the segments designated as the validation set. The major difference is that we repeat the process k times as follows:\n",
        "\n",
        "\n",
        "\n",
        "*   Set aside segment 0 as the validation set, and fit a model on rest of data, and evalutate it on this validation set\n",
        "\n",
        "*   Set aside segment 1 as the validation set, and fit a model on rest of data, and evalutate it on this validation set\n",
        "\n",
        "*   ...\n",
        "\n",
        "*   Set aside segment k-1 as the validation set, and fit a model on rest of data, and evalutate it on this validation set\n",
        "\n",
        "\n",
        "After this process, we compute the average of the k validation errors, and use it as an estimate of the generalization error. Notice that all observations are used for both training and validation, as we iterate over segments of data."
      ]
    },
    {
      "cell_type": "code",
      "metadata": {
        "id": "tb8egpOIYrQf",
        "colab_type": "code",
        "colab": {}
      },
      "source": [
        "import pandas as pd"
      ],
      "execution_count": 0,
      "outputs": []
    },
    {
      "cell_type": "code",
      "metadata": {
        "id": "rW2er2xLZpax",
        "colab_type": "code",
        "colab": {}
      },
      "source": [
        "dtype_dict = {'bathrooms':float, 'waterfront':int, 'sqft_above':int, 'sqft_living15':float, 'grade':int, 'yr_renovated':int, 'price':float, 'bedrooms':float, 'zipcode':str, 'long':float, 'sqft_lot15':float, 'sqft_living':float, 'floors':float, 'condition':int, 'lat':float, 'date':str, 'sqft_basement':int, 'yr_built':int, 'id':str, 'sqft_lot':int, 'view':int}"
      ],
      "execution_count": 0,
      "outputs": []
    },
    {
      "cell_type": "code",
      "metadata": {
        "id": "MCj92LezYuNB",
        "colab_type": "code",
        "colab": {}
      },
      "source": [
        "train_valid_shuffled = pd.read_csv('/content/drive/My Drive/Colab Notebooks/Machine Learning/Course 2 Machine Learning Regression/Week4/Assignment/wk3_kc_house_train_valid_shuffled.csv',dtype=dtype_dict)\n",
        "test = pd.read_csv('/content/drive/My Drive/Colab Notebooks/Machine Learning/Course 2 Machine Learning Regression/Week4/Assignment/wk3_kc_house_test_data.csv', dtype=dtype_dict)"
      ],
      "execution_count": 0,
      "outputs": []
    },
    {
      "cell_type": "markdown",
      "metadata": {
        "id": "ltNSSCrhaSDG",
        "colab_type": "text"
      },
      "source": [
        "14. Divide the combined training and validation set into equal segments. Each segment should receive n/k elements, where n is the number of observations in the training set and k is the number of segments. Since the segment 0 starts at index 0 and contains n/k elements, it ends at index (n/k)-1. The segment 1 starts where the segment 0 left off, at index (n/k). With n/k elements, the segment 1 ends at index (n*2/k)-1. Continuing in this fashion, we deduce that the segment i starts at index (n*i/k) and ends at (n*(i+1)/k)-1.\n",
        "\n",
        "With this pattern in mind, we write a short loop that prints the starting and ending indices of each segment, just to make sure you are getting the splits right."
      ]
    },
    {
      "cell_type": "code",
      "metadata": {
        "id": "8p1RIluVUfVO",
        "colab_type": "code",
        "colab": {
          "base_uri": "https://localhost:8080/",
          "height": 187
        },
        "outputId": "d7e9d68f-3edc-4ae4-ccba-973a0dab6def"
      },
      "source": [
        "n = len(train_valid_shuffled)\n",
        "k = 10 # 10-fold cross-validation\n",
        "\n",
        "for i in range(k):\n",
        "    start = (n*i)/k\n",
        "    end = (n*(i+1))/k-1\n",
        "    print(i, (start, end))"
      ],
      "execution_count": 51,
      "outputs": [
        {
          "output_type": "stream",
          "text": [
            "0 (0.0, 1938.6)\n",
            "1 (1939.6, 3878.2)\n",
            "2 (3879.2, 5817.8)\n",
            "3 (5818.8, 7757.4)\n",
            "4 (7758.4, 9697.0)\n",
            "5 (9698.0, 11636.6)\n",
            "6 (11637.6, 13576.2)\n",
            "7 (13577.2, 15515.8)\n",
            "8 (15516.8, 17455.4)\n",
            "9 (17456.4, 19395.0)\n"
          ],
          "name": "stdout"
        }
      ]
    },
    {
      "cell_type": "markdown",
      "metadata": {
        "id": "sGwivDhQaW0o",
        "colab_type": "text"
      },
      "source": [
        " Let us familiarize ourselves with array slicing with SFrame. To extract a continuous slice from an SFrame, use colon in square brackets. For instance, the following cell extracts rows 0 to 9 of `train_valid_shuffled`. Notice that the first index (0) is included in the slice but the last index (10) is omitted.\n"
      ]
    },
    {
      "cell_type": "code",
      "metadata": {
        "id": "qtYewq_CWC26",
        "colab_type": "code",
        "colab": {
          "base_uri": "https://localhost:8080/",
          "height": 379
        },
        "outputId": "2e919292-6159-4ac0-f815-a8ee2d8d3f4f"
      },
      "source": [
        "train_valid_shuffled[0:10] # select rows 0 to 9"
      ],
      "execution_count": 52,
      "outputs": [
        {
          "output_type": "execute_result",
          "data": {
            "text/html": [
              "<div>\n",
              "<style scoped>\n",
              "    .dataframe tbody tr th:only-of-type {\n",
              "        vertical-align: middle;\n",
              "    }\n",
              "\n",
              "    .dataframe tbody tr th {\n",
              "        vertical-align: top;\n",
              "    }\n",
              "\n",
              "    .dataframe thead th {\n",
              "        text-align: right;\n",
              "    }\n",
              "</style>\n",
              "<table border=\"1\" class=\"dataframe\">\n",
              "  <thead>\n",
              "    <tr style=\"text-align: right;\">\n",
              "      <th></th>\n",
              "      <th>id</th>\n",
              "      <th>date</th>\n",
              "      <th>price</th>\n",
              "      <th>bedrooms</th>\n",
              "      <th>bathrooms</th>\n",
              "      <th>sqft_living</th>\n",
              "      <th>sqft_lot</th>\n",
              "      <th>floors</th>\n",
              "      <th>waterfront</th>\n",
              "      <th>view</th>\n",
              "      <th>condition</th>\n",
              "      <th>grade</th>\n",
              "      <th>sqft_above</th>\n",
              "      <th>sqft_basement</th>\n",
              "      <th>yr_built</th>\n",
              "      <th>yr_renovated</th>\n",
              "      <th>zipcode</th>\n",
              "      <th>lat</th>\n",
              "      <th>long</th>\n",
              "      <th>sqft_living15</th>\n",
              "      <th>sqft_lot15</th>\n",
              "    </tr>\n",
              "  </thead>\n",
              "  <tbody>\n",
              "    <tr>\n",
              "      <th>0</th>\n",
              "      <td>2780400035</td>\n",
              "      <td>20140505T000000</td>\n",
              "      <td>665000.0</td>\n",
              "      <td>4.0</td>\n",
              "      <td>2.50</td>\n",
              "      <td>2800.0</td>\n",
              "      <td>5900</td>\n",
              "      <td>1.0</td>\n",
              "      <td>0</td>\n",
              "      <td>0</td>\n",
              "      <td>3</td>\n",
              "      <td>8</td>\n",
              "      <td>1660</td>\n",
              "      <td>1140</td>\n",
              "      <td>1963</td>\n",
              "      <td>0</td>\n",
              "      <td>98115</td>\n",
              "      <td>47.6809</td>\n",
              "      <td>-122.286</td>\n",
              "      <td>2580.0</td>\n",
              "      <td>5900.0</td>\n",
              "    </tr>\n",
              "    <tr>\n",
              "      <th>1</th>\n",
              "      <td>1703050500</td>\n",
              "      <td>20150321T000000</td>\n",
              "      <td>645000.0</td>\n",
              "      <td>3.0</td>\n",
              "      <td>2.50</td>\n",
              "      <td>2490.0</td>\n",
              "      <td>5978</td>\n",
              "      <td>2.0</td>\n",
              "      <td>0</td>\n",
              "      <td>0</td>\n",
              "      <td>3</td>\n",
              "      <td>9</td>\n",
              "      <td>2490</td>\n",
              "      <td>0</td>\n",
              "      <td>2003</td>\n",
              "      <td>0</td>\n",
              "      <td>98074</td>\n",
              "      <td>47.6298</td>\n",
              "      <td>-122.022</td>\n",
              "      <td>2710.0</td>\n",
              "      <td>6629.0</td>\n",
              "    </tr>\n",
              "    <tr>\n",
              "      <th>2</th>\n",
              "      <td>5700002325</td>\n",
              "      <td>20140605T000000</td>\n",
              "      <td>640000.0</td>\n",
              "      <td>3.0</td>\n",
              "      <td>1.75</td>\n",
              "      <td>2340.0</td>\n",
              "      <td>4206</td>\n",
              "      <td>1.0</td>\n",
              "      <td>0</td>\n",
              "      <td>0</td>\n",
              "      <td>5</td>\n",
              "      <td>7</td>\n",
              "      <td>1170</td>\n",
              "      <td>1170</td>\n",
              "      <td>1917</td>\n",
              "      <td>0</td>\n",
              "      <td>98144</td>\n",
              "      <td>47.5759</td>\n",
              "      <td>-122.288</td>\n",
              "      <td>1360.0</td>\n",
              "      <td>4725.0</td>\n",
              "    </tr>\n",
              "    <tr>\n",
              "      <th>3</th>\n",
              "      <td>0475000510</td>\n",
              "      <td>20141118T000000</td>\n",
              "      <td>594000.0</td>\n",
              "      <td>3.0</td>\n",
              "      <td>1.00</td>\n",
              "      <td>1320.0</td>\n",
              "      <td>5000</td>\n",
              "      <td>1.0</td>\n",
              "      <td>0</td>\n",
              "      <td>0</td>\n",
              "      <td>4</td>\n",
              "      <td>7</td>\n",
              "      <td>1090</td>\n",
              "      <td>230</td>\n",
              "      <td>1920</td>\n",
              "      <td>0</td>\n",
              "      <td>98107</td>\n",
              "      <td>47.6674</td>\n",
              "      <td>-122.365</td>\n",
              "      <td>1700.0</td>\n",
              "      <td>5000.0</td>\n",
              "    </tr>\n",
              "    <tr>\n",
              "      <th>4</th>\n",
              "      <td>0844001052</td>\n",
              "      <td>20150128T000000</td>\n",
              "      <td>365000.0</td>\n",
              "      <td>4.0</td>\n",
              "      <td>2.50</td>\n",
              "      <td>1904.0</td>\n",
              "      <td>8200</td>\n",
              "      <td>2.0</td>\n",
              "      <td>0</td>\n",
              "      <td>0</td>\n",
              "      <td>5</td>\n",
              "      <td>7</td>\n",
              "      <td>1904</td>\n",
              "      <td>0</td>\n",
              "      <td>1999</td>\n",
              "      <td>0</td>\n",
              "      <td>98010</td>\n",
              "      <td>47.3107</td>\n",
              "      <td>-122.001</td>\n",
              "      <td>1560.0</td>\n",
              "      <td>12426.0</td>\n",
              "    </tr>\n",
              "    <tr>\n",
              "      <th>5</th>\n",
              "      <td>2781280290</td>\n",
              "      <td>20150427T000000</td>\n",
              "      <td>305000.0</td>\n",
              "      <td>3.0</td>\n",
              "      <td>2.50</td>\n",
              "      <td>1610.0</td>\n",
              "      <td>3516</td>\n",
              "      <td>2.0</td>\n",
              "      <td>0</td>\n",
              "      <td>0</td>\n",
              "      <td>3</td>\n",
              "      <td>8</td>\n",
              "      <td>1610</td>\n",
              "      <td>0</td>\n",
              "      <td>2006</td>\n",
              "      <td>0</td>\n",
              "      <td>98055</td>\n",
              "      <td>47.4491</td>\n",
              "      <td>-122.188</td>\n",
              "      <td>1610.0</td>\n",
              "      <td>3056.0</td>\n",
              "    </tr>\n",
              "    <tr>\n",
              "      <th>6</th>\n",
              "      <td>2214800630</td>\n",
              "      <td>20141105T000000</td>\n",
              "      <td>239950.0</td>\n",
              "      <td>3.0</td>\n",
              "      <td>2.25</td>\n",
              "      <td>1560.0</td>\n",
              "      <td>8280</td>\n",
              "      <td>2.0</td>\n",
              "      <td>0</td>\n",
              "      <td>0</td>\n",
              "      <td>4</td>\n",
              "      <td>7</td>\n",
              "      <td>1560</td>\n",
              "      <td>0</td>\n",
              "      <td>1979</td>\n",
              "      <td>0</td>\n",
              "      <td>98001</td>\n",
              "      <td>47.3393</td>\n",
              "      <td>-122.259</td>\n",
              "      <td>1920.0</td>\n",
              "      <td>8120.0</td>\n",
              "    </tr>\n",
              "    <tr>\n",
              "      <th>7</th>\n",
              "      <td>2114700540</td>\n",
              "      <td>20141021T000000</td>\n",
              "      <td>366000.0</td>\n",
              "      <td>3.0</td>\n",
              "      <td>2.50</td>\n",
              "      <td>1320.0</td>\n",
              "      <td>4320</td>\n",
              "      <td>1.0</td>\n",
              "      <td>0</td>\n",
              "      <td>0</td>\n",
              "      <td>3</td>\n",
              "      <td>6</td>\n",
              "      <td>660</td>\n",
              "      <td>660</td>\n",
              "      <td>1918</td>\n",
              "      <td>0</td>\n",
              "      <td>98106</td>\n",
              "      <td>47.5327</td>\n",
              "      <td>-122.347</td>\n",
              "      <td>1190.0</td>\n",
              "      <td>4200.0</td>\n",
              "    </tr>\n",
              "    <tr>\n",
              "      <th>8</th>\n",
              "      <td>2596400050</td>\n",
              "      <td>20140730T000000</td>\n",
              "      <td>375000.0</td>\n",
              "      <td>3.0</td>\n",
              "      <td>1.00</td>\n",
              "      <td>1960.0</td>\n",
              "      <td>7955</td>\n",
              "      <td>1.0</td>\n",
              "      <td>0</td>\n",
              "      <td>0</td>\n",
              "      <td>4</td>\n",
              "      <td>7</td>\n",
              "      <td>1260</td>\n",
              "      <td>700</td>\n",
              "      <td>1963</td>\n",
              "      <td>0</td>\n",
              "      <td>98177</td>\n",
              "      <td>47.7641</td>\n",
              "      <td>-122.364</td>\n",
              "      <td>1850.0</td>\n",
              "      <td>8219.0</td>\n",
              "    </tr>\n",
              "    <tr>\n",
              "      <th>9</th>\n",
              "      <td>4140900050</td>\n",
              "      <td>20150126T000000</td>\n",
              "      <td>440000.0</td>\n",
              "      <td>4.0</td>\n",
              "      <td>1.75</td>\n",
              "      <td>2180.0</td>\n",
              "      <td>10200</td>\n",
              "      <td>1.0</td>\n",
              "      <td>0</td>\n",
              "      <td>2</td>\n",
              "      <td>3</td>\n",
              "      <td>8</td>\n",
              "      <td>2000</td>\n",
              "      <td>180</td>\n",
              "      <td>1966</td>\n",
              "      <td>0</td>\n",
              "      <td>98028</td>\n",
              "      <td>47.7638</td>\n",
              "      <td>-122.270</td>\n",
              "      <td>2590.0</td>\n",
              "      <td>10445.0</td>\n",
              "    </tr>\n",
              "  </tbody>\n",
              "</table>\n",
              "</div>"
            ],
            "text/plain": [
              "           id             date     price  ...     long  sqft_living15  sqft_lot15\n",
              "0  2780400035  20140505T000000  665000.0  ... -122.286         2580.0      5900.0\n",
              "1  1703050500  20150321T000000  645000.0  ... -122.022         2710.0      6629.0\n",
              "2  5700002325  20140605T000000  640000.0  ... -122.288         1360.0      4725.0\n",
              "3  0475000510  20141118T000000  594000.0  ... -122.365         1700.0      5000.0\n",
              "4  0844001052  20150128T000000  365000.0  ... -122.001         1560.0     12426.0\n",
              "5  2781280290  20150427T000000  305000.0  ... -122.188         1610.0      3056.0\n",
              "6  2214800630  20141105T000000  239950.0  ... -122.259         1920.0      8120.0\n",
              "7  2114700540  20141021T000000  366000.0  ... -122.347         1190.0      4200.0\n",
              "8  2596400050  20140730T000000  375000.0  ... -122.364         1850.0      8219.0\n",
              "9  4140900050  20150126T000000  440000.0  ... -122.270         2590.0     10445.0\n",
              "\n",
              "[10 rows x 21 columns]"
            ]
          },
          "metadata": {
            "tags": []
          },
          "execution_count": 52
        }
      ]
    },
    {
      "cell_type": "markdown",
      "metadata": {
        "id": "0yoI2jGFagTe",
        "colab_type": "text"
      },
      "source": [
        "Meanwhile, to choose the remainder of the data that's not part of the segment i, we select two slices (0:start) and (end+1:n) and paste them together."
      ]
    },
    {
      "cell_type": "code",
      "metadata": {
        "id": "u3gH-zqsadNi",
        "colab_type": "code",
        "colab": {}
      },
      "source": [
        "# train_valid_shuffled[0:start].append(train_valid_shuffled[end+1:n])\n",
        "validation4 = train_valid_shuffled[5818: 7758]"
      ],
      "execution_count": 0,
      "outputs": []
    },
    {
      "cell_type": "markdown",
      "metadata": {
        "id": "1h9Dl722bMGO",
        "colab_type": "text"
      },
      "source": [
        "# To verify that we have the right elements extracted, run the following cell, which computes the average price of the fourth segment. When rounded to nearest whole number, the average should be $536,234."
      ]
    },
    {
      "cell_type": "code",
      "metadata": {
        "id": "lvgPwC5Ha_Fa",
        "colab_type": "code",
        "colab": {
          "base_uri": "https://localhost:8080/",
          "height": 34
        },
        "outputId": "7407935f-29e8-4f6f-ef5d-31b58a1813c0"
      },
      "source": [
        "print(int(round(validation4['price'].mean(), 0)))"
      ],
      "execution_count": 55,
      "outputs": [
        {
          "output_type": "stream",
          "text": [
            "536234\n"
          ],
          "name": "stdout"
        }
      ]
    },
    {
      "cell_type": "markdown",
      "metadata": {
        "id": "xnzLbzmdbTzo",
        "colab_type": "text"
      },
      "source": [
        " After designating one of the k segments as the validation set, we train a model using the rest of the data. To choose the remainder, we slice (0:start) and (end+1:n) of the data and paste them together. SFrame has `append()` method that pastes together two disjoint sets of rows originating from a common dataset. For instance, the following cell pastes together the first and last two rows of the `train_valid_shuffled` dataframe.\n"
      ]
    },
    {
      "cell_type": "code",
      "metadata": {
        "id": "tc-QM5_xbP_W",
        "colab_type": "code",
        "colab": {
          "base_uri": "https://localhost:8080/",
          "height": 136
        },
        "outputId": "9debebf7-5c5f-4ca7-c156-58a25fac6dc6"
      },
      "source": [
        "n = len(train_valid_shuffled)\n",
        "first_two = train_valid_shuffled[0:2]\n",
        "last_two = train_valid_shuffled[n-2:n]\n",
        "print(first_two.append(last_two))"
      ],
      "execution_count": 57,
      "outputs": [
        {
          "output_type": "stream",
          "text": [
            "               id             date  ...  sqft_living15  sqft_lot15\n",
            "0      2780400035  20140505T000000  ...         2580.0      5900.0\n",
            "1      1703050500  20150321T000000  ...         2710.0      6629.0\n",
            "19394  4139480190  20140916T000000  ...         3850.0     11170.0\n",
            "19395  7237300290  20150326T000000  ...         1880.0      4319.0\n",
            "\n",
            "[4 rows x 21 columns]\n"
          ],
          "name": "stdout"
        }
      ]
    },
    {
      "cell_type": "markdown",
      "metadata": {
        "id": "9Ywai_IEbYxg",
        "colab_type": "text"
      },
      "source": [
        "Extract the remainder of the data after *excluding* fourth segment (segment 3) and assign the subset to `train4`."
      ]
    },
    {
      "cell_type": "code",
      "metadata": {
        "id": "2k4TLSXobWp0",
        "colab_type": "code",
        "colab": {}
      },
      "source": [
        "n = len(train_valid_shuffled)\n",
        "before_third = train_valid_shuffled[0:5818]\n",
        "after_third = train_valid_shuffled[7758:n]\n",
        "train4 = before_third.append(after_third) \n"
      ],
      "execution_count": 0,
      "outputs": []
    },
    {
      "cell_type": "markdown",
      "metadata": {
        "id": "pJruwsoWbfpb",
        "colab_type": "text"
      },
      "source": [
        "To verify that we have the right elements extracted, run the following cell, which computes the average price of the data with fourth segment excluded. When rounded to nearest whole number, the average should be $539,450.\n"
      ]
    },
    {
      "cell_type": "code",
      "metadata": {
        "id": "gbgLfJsZbdIe",
        "colab_type": "code",
        "colab": {
          "base_uri": "https://localhost:8080/",
          "height": 34
        },
        "outputId": "79b93b0f-1944-4a3c-e6af-52d9d7d4f606"
      },
      "source": [
        "print(int(round(train4['price'].mean(), 0)))"
      ],
      "execution_count": 59,
      "outputs": [
        {
          "output_type": "stream",
          "text": [
            "539450\n"
          ],
          "name": "stdout"
        }
      ]
    },
    {
      "cell_type": "markdown",
      "metadata": {
        "id": "EQWnynXtboBa",
        "colab_type": "text"
      },
      "source": [
        "Now we are ready to implement k-fold cross-validation. Write a function that computes k validation errors by designating each of the k segments as the validation set. It accepts as parameters (i) `k`, (ii) `l2_penalty`, (iii) dataframe, (iv) name of output column (e.g. `price`) and (v) list of feature names. The function returns the average validation error using k segments as validation sets.\n",
        " \n",
        "* For each i in [0, 1, ..., k-1]:\n",
        "* Compute starting and ending indices of segment i and call 'start' and 'end'\n",
        "* Form validation set by taking a slice (start:end+1) from the data.\n",
        "* Form training set by appending slice (end+1:n) to the end of slice (0:start).\n",
        "* Train a linear model using training set just formed, with a given l2_penalty\n",
        "* Compute validation error using validation set just formed"
      ]
    },
    {
      "cell_type": "code",
      "metadata": {
        "id": "ecbm7Lc0bjuG",
        "colab_type": "code",
        "colab": {}
      },
      "source": [
        "def k_fold_cross_validation(k, l2_penalty, data, output_name, features_list):\n",
        "    n = len(data)\n",
        "    errors = []\n",
        "    for i in range(0, k):\n",
        "        start = (n*i)/k\n",
        "        end = (n*(i+1)/k)-1\n",
        "        validation_set = data[start:end+1]\n",
        "        training_set = data[0:start].append(data[end+1:n])\n",
        "        \n",
        "        model = turicreate.linear_regression.create(training_set,\n",
        "                                                  target = output_name, features = features_list,\n",
        "                                                  l2_penalty=l2_penalty,\n",
        "                                                  validation_set = None,\n",
        "                                                  verbose = False)\n",
        "        \n",
        "        price_validation_predicted = model.predict(validation_set)\n",
        "        val_errors = price_validation_predicted - validation_set['price']\n",
        "        RSS = sum(val_errors * val_errors)\n",
        "        errors.append(RSS)\n",
        "        \n",
        "    return sum(errors)/len(errors)"
      ],
      "execution_count": 0,
      "outputs": []
    },
    {
      "cell_type": "markdown",
      "metadata": {
        "id": "mIgKRBVucpQQ",
        "colab_type": "text"
      },
      "source": [
        " Once we have a function to compute the average validation error for a model, we can write a loop to find the model that minimizes the average validation error. Write a loop that does the following:\n",
        "* We will again be aiming to fit a 15th-order polynomial model using the `sqft_living` input\n",
        "* For `l2_penalty` in [10^1, 10^1.5, 10^2, 10^2.5, ..., 10^7] (to get this in Python, you can use this Numpy function: `np.logspace(1, 7, num=13)`.)\n",
        "* Run 10-fold cross-validation with `l2_penalty`\n",
        "* Report which L2 penalty produced the lowest average validation error.\n",
        " \n",
        "Note: since the degree of the polynomial is now fixed to 15, to make things faster, you should generate polynomial features in advance and re-use them throughout the loop. Make sure to use `train_valid_shuffled` when generating polynomial features!\n"
      ]
    },
    {
      "cell_type": "code",
      "metadata": {
        "id": "CNhZXryFb8_T",
        "colab_type": "code",
        "colab": {
          "base_uri": "https://localhost:8080/",
          "height": 34
        },
        "outputId": "7db2606e-5eae-4b06-a46d-eb684b7b5663"
      },
      "source": [
        "min_error = None\n",
        "best_l2_penalty = None\n",
        "cross_val_error = []\n",
        "l2_penalty_values = np.logspace(1, 7, num=13)\n",
        "\n",
        "for l2_penalty in l2_penalty_values:\n",
        "  # print(l2_penalty)\n",
        "  avg_val_error = k_fold_cross_validation(10, l2_penalty, poly15_data, 'price', poly15_features)\n",
        "  # print(avg_val_error)\n",
        "  cross_val_error.append(avg_val_error)\n",
        "  if min_error is None or avg_val_error < min_error:\n",
        "    min_error = avg_val_error\n",
        "    best_l2_penalty = l2_penalty\n",
        "\n",
        "print(\"Best error : \", best_l2_penalty)"
      ],
      "execution_count": 64,
      "outputs": [
        {
          "output_type": "stream",
          "text": [
            "Best error :  10000000.0\n"
          ],
          "name": "stdout"
        }
      ]
    },
    {
      "cell_type": "markdown",
      "metadata": {
        "id": "QhjLWJavfgB0",
        "colab_type": "text"
      },
      "source": [
        "17. **Quiz Question:** What is the best value for the L2 penalty according to 10-fold validation?"
      ]
    },
    {
      "cell_type": "markdown",
      "metadata": {
        "id": "Vq2PFdL5fjaK",
        "colab_type": "text"
      },
      "source": [
        "18. Once you found the best value for the L2 penalty using cross-validation, it is important to retrain a final model on all of the training data using this value of l2_penalty. This way, your final model will be trained on the entire dataset."
      ]
    },
    {
      "cell_type": "code",
      "metadata": {
        "id": "UmzGGgZFe2Ks",
        "colab_type": "code",
        "colab": {
          "base_uri": "https://localhost:8080/",
          "height": 684
        },
        "outputId": "cce80dea-43a2-4d58-e4da-055512aa136a"
      },
      "source": [
        "train_data = polynomial_sframe(sales['sqft_living'], 15)\n",
        "train_features = train_data.column_names() # get the name of the features\n",
        "train_data['price'] = sales['price']\n",
        "train_model = turicreate.linear_regression.create(train_data, \n",
        "                                             target = 'price',\n",
        "                                             features = train_features,\n",
        "                                             l2_penalty = best_l2_penalty,\n",
        "                                             validation_set = None,\n",
        "                                             verbose = False)\n",
        "train_model.coefficients.print_rows(num_rows=16)\n",
        "plt.plot(train_data['power_1'], train_data['price'], '.', train_data['power_1'], train_model.predict(train_data), '-')"
      ],
      "execution_count": 67,
      "outputs": [
        {
          "output_type": "stream",
          "text": [
            "+-------------+-------+------------------------+------------------------+\n",
            "|     name    | index |         value          |         stderr         |\n",
            "+-------------+-------+------------------------+------------------------+\n",
            "| (intercept) |  None |   539339.3469613944    |   621956.2498978289    |\n",
            "|   power_1   |  None |  0.09858478063667375   |   2856.9952450255037   |\n",
            "|   power_2   |  None | 5.5488904056071746e-05 |   5.465203012804688    |\n",
            "|   power_3   |  None | 1.143515316214333e-08  |  0.005745964026966731  |\n",
            "|   power_4   |  None | 9.689113286115282e-13  | 3.694842803284301e-06  |\n",
            "|   power_5   |  None |  5.61179522014483e-17  | 1.5270938184002782e-09 |\n",
            "|   power_6   |  None | 3.1238390942512715e-21 | 4.1399245214871023e-13 |\n",
            "|   power_7   |  None | 1.8184098313486853e-25 | 7.455784091583188e-17  |\n",
            "|   power_8   |  None | 1.1102191229272479e-29 | 9.829440485677686e-21  |\n",
            "|   power_9   |  None | 7.029601422111965e-34  | 1.2561123084301327e-24 |\n",
            "|   power_10  |  None | 4.5693030219754554e-38 | 1.3330304144692153e-28 |\n",
            "|   power_11  |  None |  3.02759795882574e-42  | 5.737683951540762e-33  |\n",
            "|   power_12  |  None | 2.0353598960611524e-46 |          nan           |\n",
            "|   power_13  |  None |  1.38394049387086e-50  | 9.287394654175117e-42  |\n",
            "|   power_14  |  None | 9.497055632043782e-55  | 1.5549722169672777e-45 |\n",
            "|   power_15  |  None |  6.56731807149135e-59  | 3.177273728073386e-50  |\n",
            "+-------------+-------+------------------------+------------------------+\n",
            "[16 rows x 4 columns]\n",
            "\n"
          ],
          "name": "stdout"
        },
        {
          "output_type": "execute_result",
          "data": {
            "text/plain": [
              "[<matplotlib.lines.Line2D at 0x7f1d8df1eb70>,\n",
              " <matplotlib.lines.Line2D at 0x7f1d8e5989e8>]"
            ]
          },
          "metadata": {
            "tags": []
          },
          "execution_count": 67
        },
        {
          "output_type": "display_data",
          "data": {
            "image/png": "[encoded data removed]",
            "text/plain": [
              "<Figure size 432x288 with 1 Axes>"
            ]
          },
          "metadata": {
            "tags": [],
            "needs_background": "light"
          }
        }
      ]
    },
    {
      "cell_type": "markdown",
      "metadata": {
        "id": "eoLAbqClg_R_",
        "colab_type": "text"
      },
      "source": [
        "19. **Quiz Question:** Using the best L2 penalty found above, train a model using all training data. What is the RSS on the TEST data of the model you learn with this L2 penalty?"
      ]
    },
    {
      "cell_type": "code",
      "metadata": {
        "id": "Bu8BGzkBgpVc",
        "colab_type": "code",
        "colab": {
          "base_uri": "https://localhost:8080/",
          "height": 663
        },
        "outputId": "e4437791-3192-446b-a80a-98b77c6d3ff4"
      },
      "source": [
        "train_model.evaluate"
      ],
      "execution_count": 69,
      "outputs": [
        {
          "output_type": "execute_result",
          "data": {
            "text/plain": [
              "<bound method LinearRegression.evaluate of Class                          : LinearRegression\n",
              "\n",
              "Schema\n",
              "------\n",
              "Number of coefficients         : 16\n",
              "Number of examples             : 21613\n",
              "Number of feature columns      : 15\n",
              "Number of unpacked features    : 15\n",
              "\n",
              "Hyperparameters\n",
              "---------------\n",
              "L1 penalty                     : 0.0\n",
              "L2 penalty                     : 10000000.0\n",
              "\n",
              "Training Summary\n",
              "----------------\n",
              "Solver                         : newton\n",
              "Solver iterations              : 1\n",
              "Solver status                  : SUCCESS: Optimal solution found.\n",
              "Training time (sec)            : 0.036\n",
              "\n",
              "Settings\n",
              "--------\n",
              "Residual sum of squares        : 2899815356916758.5\n",
              "Training RMSE                  : 366292.1792\n",
              "\n",
              "Highest Positive Coefficients\n",
              "-----------------------------\n",
              "(intercept)                    : 539339.347\n",
              "power_1                        : 0.0986\n",
              "power_2                        : 0.0001\n",
              "power_3                        : 0.0\n",
              "power_4                        : 0.0\n",
              "\n",
              "Lowest Negative Coefficients\n",
              "----------------------------\n",
              "No Negative Coefficients       : \n",
              ">"
            ]
          },
          "metadata": {
            "tags": []
          },
          "execution_count": 69
        }
      ]
    },
    {
      "cell_type": "code",
      "metadata": {
        "id": "fxV6SWXNhAn_",
        "colab_type": "code",
        "colab": {
          "base_uri": "https://localhost:8080/",
          "height": 54
        },
        "outputId": "05dd17e5-3b0f-47f7-b95d-75c91cdee581"
      },
      "source": [
        "test_data = polynomial_sframe(sales['sqft_living'], 15)\n",
        "difference = train_model.predict(test_data) - test['price']\n",
        "error_square = (difference * difference)\n",
        "RSS = error_square.sum()\n",
        "print(RSS)"
      ],
      "execution_count": 71,
      "outputs": [
        {
          "output_type": "stream",
          "text": [
            "array('d', [1018634147068347.4, 2272215514347.8696, 2664153346016223.0, 469728668299354.4, 1946385821894362.5, 43667689304346.664, 286342892824348.4, 552410448307939.9, 589115393924346.5, 2420716080503047.5, 195492092384347.7, 393455387324351.1, 2426868097664364.0, 1417477748926325.0, 424523844907947.25, 1879820183804410.0, 1944099808694398.0, 192062855325488.44, 1462664403547967.8, 999952895024365.2, 12098130061347.895, 2312375169488365.0, 100270408790345.28, 286342892824348.4, 626071658166542.2, 954006219914344.0, 625336219034341.8, 1519141877133049.0, 2704139630152217.0, 1256295683596304.0, 1095088195244358.8, 1245896020574322.8, 822650094584347.0, 229757564560343.25, 1600125333278336.0, 11066949593228.094, 1882068096784308.2, 967676754197346.2, 4336181477438390.0, 922486534087351.0, 41135750501348.09, 121931691944350.4, 843867375889343.8, 2051541934070395.0, 1946385821894362.5, 1.9297421669504176e+16, 2646331807594428.0, 662637694144353.2, 1057585990944305.0, 2272215514347.8696, 1264894521970362.8, 1.789433099527405e+16, 739072886224365.2, 2497240207814367.0, 1653488765627305.2, 3285924206714338.0, 954006219914344.0, 607090725229345.0, 23735103020347.754, 8598833387948.018, 338252193044340.75, 1882068096784308.2, 2272215514347.8696, 44010591284347.43, 41135750501348.09, 238756192604340.4, 394484093264342.1, 1818831021674308.0, 391569836503346.3, 2.328291518445927e+16, 2196015074347.849, 91140088864347.44, 701019819254337.2, 863830810894317.0, 424221018374343.3, 7144007690348.032, 1819458043207925.5, 300849583754898.8, 17124087910348.27, 1377328671659691.0, 175481017274346.12, 13485689744348.084, 1462102221014363.0, 1518855396124331.0, 115526623900350.5, 1351848631125968.5, 106394752367946.34, 865354819694364.2, 1335670985011331.8, 1756674596564337.2, 238756192604340.4, 1460121009574363.0, 171608480252348.62, 1245896020574322.8, 80262376952346.25, 909140194804344.5, 430298081396346.94, 1341049123772358.0, 3960349247347.9287, 1362669743816338.5, 138700817054350.28, 2536717729079371.5, 3370736181604354.5, 560916801836344.0, 5304185827828736.0, 13676190844348.355, 1192755385124342.2, 485793811994350.5, 756570286408355.0, 4088135380724501.0, 26682091064347.43, 632710062056353.5, 424221018374343.3, 469728668299354.4, 781026019474369.8, 1194546095464345.5, 43667689304346.664, 296378944868345.2, 182654725270347.44, 1769019429586380.5, 19638815954347.79, 3.851421536092477e+16, 2497240207814367.0, 430298081396346.94, 1719899453498349.5, 2272215514347.8696, 118143661666345.62, 664091616010203.5, 781026019474369.8, 491814758423354.9, 2145822897224335.0, 3997954824754258.5, 16312870939347.607, 249428469179349.75, 822650094584347.0, 1439703532970359.0, 1789178096347.9016, 1207793117462923.0, 3031493264133224.0, 1635603696344373.0, 1.0257592683136124e+16, 760619225669355.0, 27062621882348.523, 7947498712348.068, 699648211334354.5, 1.089248099967438e+16, 311757217934345.0, 84260470169346.5, 553975218814341.75, 935930131870354.0, 34806016174347.79, 567901610858360.8, 72815294347.91222, 999952895024365.2, 1256295683596304.0, 1544746886986344.0, 1756674596564337.2, 781436911007958.2, 552756011774365.9, 1576689221234318.0, 127922920600350.39, 1.1357643674344568e+16, 781026019474369.8, 195492092384347.7, 610718210990354.2, 169477874764460.94, 594090184347.8923, 1235539583552350.5, 7.079952597547446e+16, 424221018374343.3, 1194546095464345.5, 3285924206714338.0, 338252193044340.75, 1.7116339195714496e+16, 1756674596564337.2, 487261258127949.5, 285466587764341.1, 131269125578347.0, 789264382496346.0, 3288896023874328.5, 453933687104347.2, 865787324227960.2, 215821813094343.12, 1635603696344373.0, 909140194804344.5, 3299421503016630.0, 805870786540327.8, 1225226372530383.0, 354667890110344.75, 739072886224365.2, 10928671049347.578, 8641814854347.92, 1045303810454367.2, 91635391724346.62, 3230807558347.993, 1046980220134342.2, 2.3678165094247418e+17, 9270094575884120.0, 552756011774365.9, 1144276820354363.2, 1174308707420347.2, 424523844907947.25, 43667689304346.664, 999952895024365.2, 954006219914344.0, 3.085942416400453e+16, 338252193044340.75, 3631656006274398.0, 632190404347.9252, 156550592164348.56, 954006219914344.0, 1417477748926325.0, 77651013974347.94, 4374990805394302.5, 865354819694364.2, 1635603696344373.0, 403291702547347.9, 18138857656348.145, 1818831021674308.0, 11494138128148.215, 1695598821454305.0, 266789500736346.62, 859515519155342.8, 716675251298326.2, 594090184347.8923, 44010591284347.43, 6800000365952548.0, 229757564560343.25, 2799746007374271.5, 909140194804344.5, 175481017274346.12, 545865274796354.4, 34501214414347.65, 701019819254337.2, 842362417199328.5, 781436911007958.2, 1635603696344373.0, 389093769653348.25, 756570286408355.0, 2196015074347.849, 1028039612090350.2, 1462102221014363.0, 2573874597884343.0, 552756011774365.9, 594090184347.8923, 781026019474369.8, 1507418309102340.0, 2646331807594428.0, 2.428040099197407e+16, 1518855396124331.0, 174795213314344.94, 801702975779355.2, 72815294347.91222, 2354985822554306.0, 338252193044340.75, 855211033916352.1, 4571631005174266.0, 321170918093955.1, 3097841917871364.0, 1484673813058343.5, 427254146635347.4, 2214463222334318.5, 1244067210014329.0, 1541859248168385.0, 986055424241373.5, 298914974129341.0, 365827818154360.1, 486936818594353.3, 952396937045961.5, 19410214634348.062, 256441575896348.56, 65242589084346.67, 1574631809354313.5, 747087499202334.9, 237956087984350.25, 2174646607947.854, 3811005806054260.0, 2326535494510395.0, 2.012296206906449e+16, 3883772815987880.0, 3202192881824385.0, 616717814576331.0, 138700817054350.28, 2267684656166361.0, 2281707683144323.0, 1815697534981356.0, 1.3283340208777406e+16, 54295816394347.484, 1462102221014363.0, 13676190844348.355, 27946102502347.836, 286342892824348.4, 36560479196347.95, 286342892824348.4, 1437737561618328.5, 453933687104347.2, 1635603696344373.0, 1095088195244358.8, 2196015074347.849, 2145822897224335.0, 1635603696344373.0, 19638815954347.79, 261171012874345.88, 2094378988860757.8, 262009217714345.06, 31426768130348.633, 195492092384347.7, 286591686857943.44, 506594465660353.6, 1756674596564337.2, 999952895024365.2, 44010591284347.43, 2354985822554306.0, 4088135380724501.0, 2075901008474277.5, 69282180787347.86, 506594465660353.6, 900296667782336.2, 51778937216348.26, 822650094584347.0, 257272160692339.12, 589115393924346.5, 2833706015258345.0, 207270685138347.38, 125199064966349.97, 26415389524348.29, 322225529978348.6, 495562576211359.4, 1882068096784308.2, 271613009758343.8, 4281682600084466.5, 4878589964347.897, 1256295683596304.0, 286342892824348.4, 221254070879348.84, 455038593484340.0, 322225529978348.6, 1914091878089317.0, 286342892824348.4, 155902888424344.75, 781026019474369.8, 394484093264342.1, 177433495535350.62, 2664153346016223.0, 1462102221014363.0, 640127131078344.5, 90234044963348.72, 13676190844348.355, 91635391724346.62, 1507418309102340.0, 814658364295935.0, 80199944951946.03, 603474045968340.4, 1349932809794344.5, 272829118851627.78, 2499831022774344.0, 1144276820354363.2, 1787617727869359.5, 1023331476329351.1, 2145822897224335.0, 1.2089782870838568e+16, 262009217714345.06, 1075715327200344.0, 149281004120345.62, 2474902379306938.0, 376154804390344.1, 7.883918097327269e+16, 216583817494351.2, 1083275255347.9575, 1162487002190343.5, 1448907672596361.0, 4992890624347.949, 342319645373348.25, 1047075357595864.8, 1245896020574322.8, 455038593484340.0, 1635603696344373.0, 999952895024365.2, 1843996173718382.0, 2214463222334318.5, 311757217934345.0, 668886539422351.8, 286342892824348.4, 2354985822554306.0, 1.52433748099463e+16, 245618631887344.44, 29520041480347.414, 78108216614347.44, 1204729628486297.2, 1075715327200344.0, 1635603696344373.0, 7908666076984270.0, 138700817054350.28, 2005195730243382.0, 27946102502347.836, 1507418309102340.0, 2354985822554306.0, 2242221934378351.0, 1138346886778912.2, 740482594364355.2, 3205126598764404.0, 311757217934345.0, 1850314477979305.0, 486936818594353.3, 1.4177275997473972e+16, 34501214414347.65, 533409825748349.5, 1894845189806360.5, 13485689744348.084, 1245896020574322.8, 1793838773630321.2, 537151024292951.56, 3413547412799283.0, 2009460083584339.8, 2957482807154250.0, 194768188204348.72, 1439703532970359.0, 424523844907947.25, 561265015669936.2, 6758471929348.079, 701019819254337.2, 365827818154360.1, 1756674596564337.2, 76351998850586.8, 91635391724346.62, 10449686810347.762, 1554585067122509.0, 238756192604340.4, 1.1673155374124206e+16, 2011784197004351.5, 278762360347.9225, 9129088800994452.0, 6184215378524294.0, 1920529053850350.0, 793399773757329.1, 661304186444350.8, 4144728397658298.0, 1194546095464345.5, 77651013974347.94, 7649348177204342.0, 781026019474369.8, 175481017274346.12, 2196015074347.849, 78108216614347.44, 34501214414347.65, 2011784197004351.5, 1246414977107956.5, 589472252957963.8, 1406429695904356.5, 557440607075363.06, 138091213534343.31, 699648211334354.5, 1293034908923347.0, 1245896020574322.8, 348565206749228.4, 424221018374343.3, 1046980220134342.2, 1574631809354313.5, 175481017274346.12, 1.7600557851689196e+16, 1095088195244358.8, 85614780908347.97, 1818831021674308.0, 9412181000774324.0, 2089318871452333.0, 2075901008474277.5, 486936818594353.3, 238756192604340.4, 2786945666192289.0, 1406429695904356.5, 8305747801654386.0, 2768717359418317.0, 91635391724346.62, 1093373685344345.5, 1247972495098734.8, 1460121009574363.0, 261171012874345.88, 556746664903154.4, 2648998822994387.0, 954006219914344.0, 423154212214360.9, 3631656006274398.0, 1144276820354363.2, 1095088195244358.8, 2545610738772539.0, 699648211334354.5, 91140088864347.44, 625703884567949.8, 365827818154360.1, 227534923799347.75, 393455387324351.1, 1944099808694398.0, 1600125333278336.0, 77651013974347.94, 3631656006274398.0, 61615403350947.83, 8072934834659467.0, 1946385821894362.5, 2196015074347.849, 138091213534343.31, 34979517306547.758, 1848085615109370.5, 1882068096784308.2, 155902888424344.75, 2145822897224335.0, 175481017274346.12, 50727208477347.9, 865354819694364.2, 1959379044916321.5, 203059960160348.7, 2031614436287340.8, 1406429695904356.5, 1046980220134342.2, 8440269676544380.0, 77651013974347.94, 625336219034341.8, 133386812752747.02, 1946385821894362.5, 91635391724346.62, 80727199636348.47, 1611908228300367.0, 1849349810737141.5, 1882068096784308.2, 2467940599858348.5, 53914814194347.766, 2976321266456389.0, 1164254852398329.5, 8305747801654386.0, 4362303602347.9316, 952406010674338.6, 364556487967952.6, 493446141616357.5, 253975925391030.3, 640127131078344.5, 223122061777346.25, 77651013974347.94, 2214463222334318.5, 216583817494351.2, 91140088864347.44, 44010591284347.43, 298019618959347.25, 109294459856349.9, 13676190844348.355, 311757217934345.0, 1.297842817324436e+16, 8794215734347.996, 486936818594353.3, 175675778807952.53, 1576689221234318.0, 65242589084346.67, 658858917383348.1, 1659472068388329.5, 4255622986347.764, 1406429695904356.5, 963109102936368.6, 3370736181604354.5, 286342892824348.4, 1247972495098734.8, 209392257377349.7, 2646331807594428.0, 175481017274346.12, 739072886224365.2, 2196015074347.849, 218752425755345.44, 1462102221014363.0, 822650094584347.0, 1317121709347.9443, 3823290992795379.0, 4992890624347.949, 429223655192344.1, 8039946001874371.0, 174795213314344.94, 952406010674338.6, 624040811554347.2, 2354985822554306.0, 90300270040948.78, 670227667166346.2, 78108216614347.44, 338252193044340.75, 3255258575830372.0, 453159064647750.44, 2455923589708278.0, 1635603696344373.0, 7802717876347.9375, 1385557482792554.2, 4878589964347.897, 59843672699348.53, 3279628489294762.0, 1911824914999340.5, 170930296336353.2, 2011784197004351.5, 858438384736217.8, 4772593804954388.0, 156550592164348.56, 779586420265942.5, 632190404347.9252, 238756192604340.4, 1635603696344373.0, 3.403630656268427e+16, 2215847051466537.2, 4397896948216280.0, 91140088864347.44, 1.79106613790684e+17, 1594250095517350.5, 421953263944240.06, 2356412877686552.0, 175481017274346.12, 216583817494351.2, 4255622986347.764, 8641814854347.92, 1080542334461368.8, 1756674596564337.2, 3255258575830372.0, 238756192604340.4, 1.331555287302419e+16, 47636861260347.234, 5187487204514312.0, 552756011774365.9, 26415389524348.29, 1434019534320422.0, 2078263222114319.8, 2514553285796326.0, 2105157414158395.0, 954460337447963.4, 195492092384347.7, 221369020248550.56, 1.183253219901464e+16, 9684158756347.936, 4571631005174266.0, 865354819694364.2, 689391713471359.1, 1854110647655901.8, 1360499901131925.8, 286342892824348.4, 2261755910689169.0, 4992890624347.949, 1384463267860368.0, 211524636116354.5, 175481017274346.12, 1352378390327950.5, 1574631809354313.5, 5619671004074402.0, 377160650198341.5, 900737817515950.2, 2880855398324230.5, 103777464283.91666, 2571245682704408.0, 1576689221234318.0, 9483629456968978.0, 2196015074347.849, 1.789433099527405e+16, 262009217714345.06, 1045303810454367.2, 412196570330343.6, 1070899126439335.8, 1655880789951757.5, 393455387324351.1, 77651013974347.94, 1214956387508333.0, 1460121009574363.0, 1000417819057954.6, 954006219914344.0, 54295816394347.484, 29005800347348.36, 205902873689357.4, 4.145339285982509e+16, 1152127523354361.0, 485793811994350.5, 73059490133947.19, 105709813754347.75, 2196015074347.849, 863830810894317.0, 5293912179404116.0, 748504827386348.2, 2427592377697950.0, 2428316765796515.0, 1264894521970362.8, 111840285710347.42, 424221018374343.3, 1770194437015781.2, 261171012874345.88, 1298326595684373.0, 2725203698104442.0, 295487399720347.4, 863822169525977.2, 519915693704351.6, 1577273016767931.0, 2424315382924344.0, 926956926848336.8, 1856643588740342.0, 377160650198341.5, 1330303652750374.5, 552756011774365.9, 3546688199204302.0, 1406429695904356.5, 298019618959347.25, 271613009758343.8, 105937444676336.95, 1.7406059901799284e+16, 3997954824754258.5, 2.226245856796422e+16, 286342892824348.4, 19410214634348.062, 781847910606561.1, 121931691944350.4, 285466587764341.1, 4278291680504396.0, 238756192604340.4, 261171012874345.88, 36560479196347.95, 1635603696344373.0, 1.5796458571484654e+16, 251755364918337.94, 338252193044340.75, 952406010674338.6, 2256166129400362.5, 5.777025535432474e+16, 640127131078344.5, 2352471208034315.0, 121931691944350.4, 2145822897224335.0, 138700817054350.28, 41747942326346.82, 256441575896348.56, 972255211958364.9, 1244067210014329.0, 741282872496558.6, 77651013974347.94, 72999928570348.53, 4878589964347.897, 781026019474369.8, 97348843768350.31, 34892712707948.703, 846634482938368.4, 1194546095464345.5, 1496024448080394.0, 1324947126989344.2, 175484911445985.0, 553975218814341.75, 3759924551468309.0, 1095088195244358.8, 999952895024365.2, 624040811554347.2, 216583817494351.2, 25186984042347.613, 624040811554347.2, 19410214634348.062, 195492092384347.7, 1298326595684373.0, 1395424868882337.5, 238756192604340.4, 822650094584347.0, 1.07395880747843e+16, 2648998822994387.0, 646269158488346.0, 1256295683596304.0, 8641814854347.92, 701019819254337.2, 1134352643332367.2, 417127995236343.9, 3139367030347.8823, 142184320076347.56, 1.5722636183528256e+16, 2.428040099197407e+16, 3268250988570024.0, 54404125927947.3, 80727199636348.47, 8365453973347.902, 1194546095464345.5, 502129118189348.25, 716675251298326.2, 155902888424344.75, 1194546095464345.5, 3037972182044323.0, 1075715327200344.0, 216583817494351.2, 1576689221234318.0, 677860866188344.2, 503291174899351.1, 179396780296346.0, 138700817054350.28, 1518855396124331.0, 1370822053145359.5, 2196015074347.849, 2152638300485326.0, 1.769821207038431e+16, 2215155082867919.5, 1.848917166994424e+16, 138091213534343.31, 1000417819057954.6, 1663351615439303.8, 1194546095464345.5, 78108216614347.44, 2896658311346374.5, 300562644698335.5, 2212024808254315.5, 1507418309102340.0, 216583817494351.2, 403291702547347.9, 1946385821894362.5, 999952895024365.2, 121360188644351.61, 156550592164348.56, 2500566109307939.0, 2961902182566577.0, 1606011377539339.2, 625703884567949.8, 2499831022774344.0, 2455923589708278.0, 781026019474369.8, 1600125333278336.0, 3122437823654285.0, 909140194804344.5, 181662830588345.0, 377160650198341.5, 1695598821454305.0, 1754502884024313.2, 72815294347.91222, 163330140380348.94, 78108216614347.44, 238756192604340.4, 823071792617922.1, 822650094584347.0, 29801983108347.53, 28335534809348.39, 1256295683596304.0, 7.883918097327269e+16, 4992890624347.949, 490186076855349.0, 205902873689357.4, 141567096512348.6, 2960302223434399.0, 961199401347.887, 424221018374343.3, 1095088195244358.8, 1789178096347.9016, 1075715327200344.0, 286342892824348.4, 3202192881824385.0, 34806016174347.79, 999952895024365.2, 1056515363156387.2, 156550592164348.56, 2426868097664364.0, 1756674596564337.2, 340961126305350.1, 2725203698104442.0, 286342892824348.4, 1245896020574322.8, 13485689744348.084, 1095088195244358.8, 1882068096784308.2, 2499831022774344.0, 216583817494351.2, 862966888026531.0, 1095088195244358.8, 3459676824094297.0, 954006219914344.0, 163993084208349.44, 895891114021387.0, 2880855398324230.5, 105709813754347.75, 2.3824404792194976e+16, 2159464510246302.0, 24601044513547.516, 1246934041706553.5, 19638815954347.79, 238756192604340.4, 662637694144353.2, 3905999584653054.5, 4088135380724501.0, 2573874597884343.0, 486936818594353.3, 589115393924346.5, 716675251298326.2, 1174812534853982.2, 1406429695904356.5, 5619671004074402.0, 1460121009574363.0, 1518855396124331.0, 34806016174347.79, 1677607240342861.5, 1341049123772358.0, 377160650198341.5, 474047850550348.25, 43667689304346.664, 1588385664256316.5, 2424315382924344.0, 424221018374343.3, 6069145203634314.0, 138700817054350.28, 2011784197004351.5, 395869226090152.8, 7144007690348.032, 393455387324351.1, 552756011774365.9, 175481017274346.12, 2298258070466342.0, 3402221269347.831, 423154212214360.9, 4278291680504396.0, 262009217714345.06, 54317469655868.586, 1818831021674308.0, 3667180158230319.5, 346055830205845.1, 45408659766283.58, 234235265582351.88, 1046980220134342.2, 594090184347.8923, 39871421348347.83, 34806016174347.79, 1051723318195757.0, 2558979430862299.5, 3390845792006397.0, 1319601407728354.0, 120314215183348.6, 804400118048355.0, 2974717416984158.0, 91635391724346.62, 2.8083984190214564e+16, 1576689221234318.0, 49169877556349.22, 8641814854347.92, 2078263222114319.8, 909140194804344.5, 625336219034341.8, 54295816394347.484, 2365507373283.86, 2078933469647965.2, 414131096497360.6, 13485689744348.084, 954714690469566.8, 1.0861815962696248e+16, 337299687544346.25, 585552747163355.5, 518734586884335.9, 781026019474369.8, 3205126598764404.0, 1972415493938320.0, 662637694144353.2, 2212024808254315.5, 88355821886347.84, 486936818594353.3, 125199064966349.97, 662637694144353.2, 393455387324351.1, 59843672699348.53, 365827818154360.1, 1754502884024313.2, 2648998822994387.0, 1.2480845998574472e+16, 1328413881838344.5, 149281004120345.62, 445679852701338.94, 1496024448080394.0, 3040829698544378.0, 224545845050351.12, 1998618069982342.5, 1349932809794344.5, 1426347314063939.0, 75082876996349.52, 138700817054350.28, 539017763818351.3, 2078263222114319.8, 238756192604340.4, 1462102221014363.0, 4878589964347.897, 1707727524476366.5, 6300366203414291.0, 34806016174347.79, 13730467877948.074, 2075901008474277.5, 739072886224365.2, 1653488765627305.2, 2196015074347.849, 1861714658029134.0, 8712555376324362.0, 701019819254337.2, 699648211334354.5, 3041640430577840.0, 646269158488346.0, 98804223029347.94, 821164186004345.2, 10617327778347.93, 91140088864347.44, 632190404347.9252, 262247205247947.3, 1693465209134358.2, 29801983108347.53, 479335335016342.3, 11919059027347.695, 1154743728209936.2, 1982875775875972.5, 1047931789266553.5, 5619671004074402.0, 2078263222114319.8, 1879820183804410.0, 144295170369547.78, 3631656006274398.0, 322225529978348.6, 3122437823654285.0, 519915693704351.6, 260933514407949.5, 8641814854347.92, 283415284296666.06, 117111681161349.81, 32797597436347.68, 36560479196347.95, 1576689221234318.0, 1944099808694398.0, 685537291210350.2, 2499831022774344.0, 2737861615462309.5, 423003029973022.9, 155169672948746.72, 1462102221014363.0, 121931691944350.4, 781026019474369.8, 1192755385124342.2, 724567806320351.0, 195492092384347.7, 954006219914344.0, 672907458817325.0, 2284184197444354.0, 909140194804344.5, 2028925053395974.0, 1095088195244358.8, 2011784197004351.5, 1576689221234318.0, 1.07395880747843e+16, 999952895024365.2, 1.2480845998574472e+16, 171608480252348.62, 76313533347.90996, 616717814576331.0, 653765059466375.2, 44010591284347.43, 952406010674338.6, 318666406871335.8, 1296459684904355.5, 34806016174347.79, 350909621347.9214, 266789500736346.62, 174795213314344.94, 54295816394347.484, 518734586884335.9, 1144774163887950.8, 394484093264342.1, 863830810894317.0, 9412181000774324.0, 156550592164348.56, 285466587764341.1, 29520041480347.414, 781026019474369.8, 282000152149757.5, 7908666076984270.0, 1351837820794352.0, 1.4385501615853709e+17, 797545971518348.5, 2957482807154250.0, 424221018374343.3, 1114633967288350.6, 3288896023874328.5, 237956087984350.25, 769907530861007.0, 2075901008474277.5, 1225226372530383.0, 78108216614347.44, 365827818154360.1, 781026019474369.8, 34806016174347.79, 935930131870354.0, 216583817494351.2, 846634482938368.4, 327524525000344.44, 4772593804954388.0, 1882068096784308.2, 1105182140347.9028, 26415389524348.29, 822650094584347.0, 311757217934345.0, 470852624789343.5, 113399919949348.88, 555706562132339.0, 193442355623351.94, 4339595257150423.0, 77651013974347.94, 266789500736346.62, 2235266046617355.0, 665089959683337.8, 74701384692148.98, 279291383104345.88, 34501214414347.65, 952406010674338.6, 470852624789343.5, 311757217934345.0, 290455380742347.1, 1756674596564337.2, 632190404347.9252, 701019819254337.2, 812760539026340.0, 724567806320351.0, 2.4740719791754084e+16, 3496089978470583.5, 216583817494351.2, 1565036004212333.5, 2.2703325667744724e+16, 3631656006274398.0, 2396545918948114.5, 7268476202534194.0, 34806016174347.79, 3774942580347.964, 175481017274346.12, 1246934041706553.5, 2957482807154250.0, 1553426013190355.2, 121931691944350.4, 2214463222334318.5, 310842812654349.94, 2024993550026395.0, 26415389524348.29, 156918610296551.75, 1462102221014363.0, 952406010674338.6, 461331786506357.9, 103235199812345.58, 77651013974347.94, 920912995001370.5, 175481017274346.12, 286342892824348.4, 1298326595684373.0, 2284184197444354.0, 234235265582351.88, 18359838932348.21, 2215155082867919.5, 863830810894317.0, 5564702460379400.0, 183355769318348.12, 1541859248168385.0, 65661691504346.63, 1194546095464345.5, 84736722919348.38, 1144276820354363.2, 2272215514347.8696, 625336219034341.8, 54295816394347.484, 8413278849566389.0, 44010591284347.43, 740482594364355.2, 4992890624347.949, 2664153346016223.0, 51778937216348.26, 1488074464834959.0, 216583817494351.2, 174795213314344.94, 2093033630868575.5, 247112379940346.44, 2514553285796326.0, 2573874597884343.0, 486936818594353.3, 618736718544555.5, 1633508184244312.5, 2196015074347.849, 1124471692310329.2, 1944099808694398.0, 720616125559353.6, 1505406617486334.5, 553975218814341.75, 216583817494351.2, 301461809890357.3, 519915693704351.6, 2679351095038338.0, 7830416834050149.0, 740482594364355.2, 72815294347.91222, 13485689744348.084, 1245906398646014.0, 1553426013190355.2, 337299687544346.25, 708825922276355.0, 354667890110344.75, 2619571831883949.0, 1635603696344373.0, 2960302223434399.0, 2377626843738129.0, 194768188204348.72, 1298326595684373.0, 424221018374343.3, 5.9550530978774264e+16, 171608480252348.62, 999952895024365.2, 121360188644351.61, 478614677364281.1, 19638815954347.79, 625336219034341.8, 1189521240778787.2, 1362669743816338.5, 34806016174347.79, 1756674596564337.2, 1.5981770996374504e+16, 2.5205361191533984e+16, 15725821700347.879, 155902888424344.75, 1456486339253316.2, 8794215734347.996, 314358086195348.94, 8216863115347.693, 20724797612347.766, 156550592164348.56, 2725203698104442.0, 999952895024365.2, 954006219914344.0, 1095088195244358.8, 195492092384347.7, 1.5981770996374504e+16, 238756192604340.4, 1.2480845998574472e+16, 216800192027951.25, 34806016174347.79, 423154212214360.9, 65661691504346.63, 2196015074347.849, 311757217934345.0, 121360188644351.61, 1119547426549341.2, 1576689221234318.0, 285466587764341.1, 1046980220134342.2, 394484093264342.1, 1806313284652342.2, 80727199636348.47, 29520041480347.414, 874025442716367.9, 1920529053850350.0, 1695598821454305.0, 9129088800994452.0, 2830947559330309.0, 2354985822554306.0, 1.838935615124947e+16, 424221018374343.3, 2608653663899338.0, 831104587606337.5, 77651013974347.94, 175481017274346.12, 2529318774818275.0, 122984661883352.47, 486936818594353.3, 895891114021387.0, 455038593484340.0, 3517396630667370.0, 1259971379347.9194, 1719899453498349.5, 423154212214360.9, 1883343860916532.0, 34501214414347.65, 8548665244456428.0, 823071792617922.1, 72815294347.91222, 30163790971423.566, 34806016174347.79, 717068852431960.6, 2725203698104442.0, 732503587342336.6, 2896658311346374.5, 65242589084346.67, 1124471692310329.2, 594090184347.8923, 2740574351126310.5, 2112043099930882.5, 821164186004345.2, 52841472455347.055, 2356412877686552.0, 53914814194347.766, 1.23171465736844e+16, 106243216834345.81, 13676190844348.355, 65661691504346.63, 13676190844348.355, 365827818154360.1, 1075715327200344.0, 252578329670346.44, 1045303810454367.2, 1.2911521945288412e+16, 77521580507948.25, 625336219034341.8, 519915693704351.6, 424523844907947.25, 1882068096784308.2, 1144276820354363.2, 2369275825576375.5, 1095088195244358.8, 1142524210234375.5, 589472252957963.8, 2078263222114319.8, 350909621347.9214, 53914814194347.766, 1351837820794352.0, 4878589964347.897, 109294459856349.9, 701019819254337.2, 1818831021674308.0, 376154804390344.1, 60985663460347.99, 1337014506592257.0, 1837688675957346.2, 1323061166099370.0, 781026019474369.8, 954006219914344.0, 2196015074347.849, 4541859409457309.0, 19410214634348.062, 2881644517357964.0, 91635391724346.62, 53914814194347.766, 76053677025187.48, 1382276134775922.2, 7649348177204342.0, 4182673205614339.0, 1665466177649371.8, 1695598821454305.0, 909140194804344.5, 999952895024365.2, 34806016174347.79, 19410214634348.062, 1897405795530778.0, 2.667321965385192e+16, 75532459592349.5, 3675882008347.8965, 781026019474369.8, 175481017274346.12, 1843996173718382.0, 411741358186153.25, 19638815954347.79, 433595931306720.5, 1095088195244358.8, 1108005374561349.6, 951952382207938.8, 4992890624347.949, 322225529978348.6, 942309296848742.0, 3.5544383943329184e+16, 5619671004074402.0, 2.204364599307407e+16, 5336784751360272.0, 433863382347.9353, 44010591284347.43, 62890582106346.11, 156550592164348.56, 424221018374343.3, 2.6625220990874692e+16, 26682091064347.43, 740482594364355.2, 220931840516345.88, 427254146635347.4, 1.4934294521527693e+17, 77651013974347.94, 2878074082264361.0, 34806016174347.79, 366109031687939.5, 1.0587775799894528e+16, 13676190844348.355, 44010591284347.43, 142184320076347.56, 1144276820354363.2, 525258906478162.0, 1946385821894362.5, 11919059027347.695, 4088135380724501.0, 19410214634348.062, 319592242217356.1, 138700817054350.28, 1606011377539339.2, 589115393924346.5, 5208685747492178.0, 13676190844348.355, 54295816394347.484, 77651013974347.94, 552756011774365.9, 4878589964347.897, 1192755385124342.2, 874894882448556.8, 34501214414347.65, 2.970821239574947e+16, 1666739731347.9429, 822650094584347.0, 2214463222334318.5, 215821813094343.12, 526641146726355.1, 873156435244166.0, 1882068096784308.2, 2196015074347.849, 486936818594353.3, 8039946001874371.0, 589115393924346.5, 662637694144353.2, 3.919229789423712e+16, 1417477748926325.0, 822650094584347.0, 1635603696344373.0, 2544127489840336.0, 138700817054350.28, 1225226372530383.0, 1946385821894362.5, 1869334229762359.8, 2212024808254315.5, 1349932809794344.5, 115684643333947.84, 1665466177649371.8, 155902888424344.75, 3037972182044323.0, 75014859005998.45, 560916801836344.0, 159594901402347.53, 1.013882287522449e+16, 2499831022774344.0, 26415389524348.29, 175675778807952.53, 981444546980355.9, 1.1884156563870638e+17, 662637694144353.2, 2011784197004351.5, 589115393924346.5, 1750518389803364.2, 175481017274346.12, 77651013974347.94, 1519428385157943.0, 311757217934345.0, 2145822897224335.0, 237956087984350.25, 175481017274346.12, 6872689056507994.0, 274040974019355.75, 6.135782285322496e+16, 2500566109307939.0, 1462102221014363.0, 485068313030270.7, 84260470169346.5, 2024993550026395.0, 2091688705136368.2, 3634780224314233.0, 59843672699348.53, 424221018374343.3, 810049403801331.8, 453933687104347.2, 13676190844348.355, 442581885440356.9, 2049194960518356.8, 1070899126439335.8, 44010591284347.43, 54295816394347.484, 32797597436347.68, 589115393924346.5, 394484093264342.1, 2078263222114319.8, 1045303810454367.2, 1626104760646761.2, 2196015074347.849, 121931691944350.4, 821164186004345.2, 2012443638037952.8, 262009217714345.06, 1462102221014363.0, 952406010674338.6, 1351837820794352.0, 999952895024365.2, 3202192881824385.0, 238756192604340.4, 34806016174347.79, 365827818154360.1, 215821813094343.12, 954006219914344.0, 424221018374343.3, 1415527017662332.5, 365827818154360.1, 999952895024365.2, 19410214634348.062, 1428569027948380.0, 338252193044340.75, 8641814854347.92, 2849379250280281.0, 2212024808254315.5, 486936818594353.3, 2984346997717348.0, 5401417804294391.0, 760619225669355.0, 1576689221234318.0, 1159244134637338.0, 1256295683596304.0, 311757217934345.0, 839602306628342.0, 145440493818146.8, 1695598821454305.0, 121931691944350.4, 458179786745354.25, 2881644517357964.0, 332330578750146.9, 77651013974347.94, 4355564528416290.0, 53914814194347.766, 43041504523348.05, 1404486584684349.0, 261171012874345.88, 1516836084464332.0, 952406010674338.6, 4031931397790430.0, 43667689304346.664, 250247623909347.2, 1080542334461368.8, 2.6147611791094684e+16, 3994678205834457.0, 121360188644351.61, 68064544526348.375, 36560479196347.95, 710392330000738.8, 441492219148357.2, 2355699296087863.0, 5283221052665314.0, 2011784197004351.5, 822650094584347.0, 1046980220134342.2, 740080347349563.8, 286342892824348.4, 822650094584347.0, 1406429695904356.5, 5.619110618606923e+16, 3285924206714338.0, 134999877084144.62, 54295816394347.484, 781026019474369.8, 91635391724346.62, 43667689304346.664, 205902873689357.4, 1985495168960381.8, 78368169746547.03, 1104839468266360.0, 2354985822554306.0, 2196015074347.849, 47995003328346.41, 4551772468196456.0, 75082876996349.52, 2196015074347.849, 88843504702349.84, 1384463267860368.0, 699648211334354.5, 553975218814341.75, 1609827956288369.2, 453933687104347.2, 237956087984350.25, 80727199636348.47, 828023162347.9148, 1245896020574322.8, 1482114557986975.0, 865354819694364.2, 2573874597884343.0, 2383609054598377.5, 2011784197004351.5, 162116251447348.0, 137573559330149.03, 423154212214360.9, 337299687544346.25, 19703899487948.17, 6775776002974343.0, 29801983108347.53, 71749872809346.98, 2354985822554306.0, 589115393924346.5, 865787324227960.2, 216800192027951.25, 952406010674338.6, 128509663988349.53, 424221018374343.3, 238756192604340.4, 152254101446348.0, 1695598821454305.0, 424221018374343.3, 34806016174347.79, 486936818594353.3, 181370871557346.25, 1754502884024313.2, 7268476202534194.0, 1818831021674308.0, 2426868097664364.0, 216583817494351.2, 78108216614347.44, 739072886224365.2, 215821813094343.12, 4992890624347.949, 4992890624347.949, 1596598893841744.0, 94470504746348.38, 360226241132351.3, 1.3657000172804956e+16, 121931691944350.4, 691892954356343.8, 1462102221014363.0, 554321271347948.25, 4453128173306363.0, 603474045968340.4, 1518855396124331.0, 485793811994350.5, 2957482807154250.0, 1093373685344345.5, 423154212214360.9, 2186877414290352.5, 1519428385157943.0, 1093373685344345.5, 523273016965355.4, 1.5981770996374504e+16, 2132224510202398.5, 285466587764341.1, 1850314477979305.0, 1.089248099967438e+16, 519915693704351.6, 179396780296346.0, 1818831021674308.0, 2196015074347.849, 1249257828253375.0, 1018634147068347.4, 587858086664341.2, 19410214634348.062, 16522422149348.129, 173539345513352.7, 1104839468266360.0, 954460337447963.4, 148648540468348.84, 187357984340349.97, 1695598821454305.0, 2648998822994387.0, 424221018374343.3, 5797385835898372.0, 158580041108952.6, 1576689221234318.0, 2075901008474277.5, 1695598821454305.0, 394484093264342.1, 121360188644351.61, 1462102221014363.0, 195492092384347.7, 2521930627057361.0, 27868540235947.773, 2338232051056337.0, 2880855398324230.5, 26415389524348.29, 2424315382924344.0, 3476992647116349.0, 112388928878346.34, 2664153346016223.0, 1818831021674308.0, 1222140838293720.5, 926956926848336.8, 1018934452464774.0, 1037488303112334.8, 998314585564312.4, 3.851421536092477e+16, 442581885440356.9, 1825106099935385.0, 195697660417950.8, 2145822897224335.0, 891496366760364.9, 265943675852348.34, 632710062056353.5, 238756192604340.4, 58540856478145.03, 1046980220134342.2, 781026019474369.8, 4007255723015371.0, 135260540032345.12, 1576689221234318.0, 393455387324351.1, 2145822897224335.0, 34806016174347.79, 237956087984350.25, 448788626462349.44, 8039946001874371.0, 34501214414347.65, 1162487002190343.5, 1959379044916321.5, 506594465660353.6, 1462102221014363.0, 1351837820794352.0, 3351581120925687.0, 4255622986347.764, 88843504702349.84, 1490343727319374.0, 2646331807594428.0, 1144276820354363.2, 1946385821894362.5, 2354985822554306.0, 10074280099147.76, 4917901427128158.0, 174795213314344.94, 900296667782336.2, 1246414977107956.5, 2880855398324230.5, 26682091064347.43, 105709813754347.75, 8.302110597217171e+16, 1046292264747.8933, 999952895024365.2, 109294459856349.9, 776923047713373.4, 779578211114330.5, 394484093264342.1, 999952895024365.2, 73059827947.91245, 237956087984350.25, 58712488438348.44, 155902888424344.75, 278762360347.9225, 195492092384347.7, 1214956387508333.0, 156550592164348.56, 1104839468266360.0, 552756011774365.9, 77651013974347.94, 952406010674338.6, 781026019474369.8, 310842812654349.94, 238756192604340.4, 286342892824348.4, 1920529053850350.0, 1144276820354363.2, 3238504690808392.0, 121931691944350.4, 53914814194347.766, 2437743644993450.0, 8641814854347.92, 1245896020574322.8, 1395424868882337.5, 1557315594747.919, 2326535494510395.0, 518734586884335.9, 2390791878859196.0, 1045303810454367.2, 36560479196347.95, 155719422457947.44, 1462102221014363.0, 34892712707948.703, 453933687104347.2, 2163889782581356.0, 430298081396346.94, 821164186004345.2, 670227667166346.2, 9555348075664300.0, 34501214414347.65, 4878589964347.897, 13676190844348.355, 77651013974347.94, 319592242217356.1, 944946562892309.8, 255275364835755.47, 175184082442149.12, 1588385664256316.5, 1404486584684349.0, 1946385821894362.5, 866219936826559.5, 1518855396124331.0, 19410214634348.062, 62890582106346.11, 121931691944350.4, 3122437823654285.0, 54295816394347.484, 1406429695904356.5, 312016818467943.9, 1635603696344373.0, 2482568790836265.0, 77651013974347.94, 1.4177275997473972e+16, 338252193044340.75, 4224956198577752.0, 2.6625220990874692e+16, 1882068096784308.2, 891496366760364.9, 187357984340349.97, 234235265582351.88, 194768188204348.72, 739072886224365.2, 2.204364599307407e+16, 113399919949348.88, 616717814576331.0, 998314585564312.4, 1920529053850350.0, 8555959986547.745, 740482594364355.2, 194768188204348.72, 1.3146450198134252e+16, 553975218814341.75, 1245896020574322.8, 2694592070060353.0, 8794215734347.996, 1448907672596361.0, 486936818594353.3, 513233466682347.1, 291339305846352.0, 1518855396124331.0, 276479744780344.8, 156550592164348.56, 3631656006274398.0, 86094843680348.12, 4878589964347.897, 1825106099935385.0, 2062526371496371.0, 1484673813058343.5, 2102779960430365.5, 2256166129400362.5, 130181173249346.38, 4088135380724501.0, 4278291680504396.0, 262009217714345.06, 3631656006274398.0, 1959379044916321.5, 2412405190642362.0, 3139367030347.8823, 105709813754347.75, 1.3146450198134252e+16, 1362669743816338.5, 2725203698104442.0, 4992890624347.949, 1144276820354363.2, 144118671820950.88, 121360188644351.61, 1245896020574322.8, 365827818154360.1, 1046980220134342.2, 145711049098349.28, 1756674596564337.2, 4182673205614339.0, 607090725229345.0, 1442721049747.8833, 149281004120345.62, 677860866188344.2, 1142524210234375.5, 589115393924346.5, 1068242485281542.0, 2.920358694596921e+16, 238756192604340.4, 739072886224365.2, 1095088195244358.8, 327524525000344.44, 1142524210234375.5, 910470452100140.5, 99752245798351.16, 740482594364355.2, 9728575023532294.0, 167779169230347.38, 1095088195244358.8, 80727199636348.47, 139394059578750.44, 6758471929348.079, 262009217714345.06, 455038593484340.0, 2145822897224335.0, 286342892824348.4, 394484093264342.1, 442581885440356.9, 262009217714345.06, 2238742639685312.8, 45981184306347.16, 3634780224314233.0, 1093373685344345.5, 3676088212469397.5, 1.9914955994174628e+16, 486936818594353.3, 688031535617378.9, 1349932809794344.5, 1184405788442339.0, 453933687104347.2, 1.089248099967438e+16, 3.0498924381158216e+16, 1683513344432327.5, 485793811994350.5, 418187181352337.7, 1194546095464345.5, 1448907672596361.0, 4515667432348363.0, 518734586884335.9, 2354985822554306.0, 1378998677099375.0, 72999928570348.53, 2011784197004351.5, 699648211334354.5, 7156111150883316.0, 394484093264342.1, 3040829698544378.0, 1574631809354313.5, 657727391622539.1, 1256295683596304.0, 1946385821894362.5, 2573874597884343.0, 800236117309343.8, 999952895024365.2, 1251090448835354.5, 138700817054350.28, 1695598821454305.0, 2.428040099197407e+16, 1462102221014363.0, 131269125578347.0, 1831391984696373.0, 1518855396124331.0, 919129387725736.2, 1611908228300367.0, 1328413881838344.5, 952406010674338.6, 2748275887387250.0, 1035819513476339.2, 30607347605938.64, 338252193044340.75, 261171012874345.88, 954006219914344.0, 9.897081416821205e+16, 106394752367946.34, 75532459592349.5, 8794215734347.996, 2084970560375375.0, 863830810894317.0, 393455387324351.1, 1959379044916321.5, 424221018374343.3, 3040829698544378.0, 995309598263322.5, 77651013974347.94, 1473366404036333.5, 781026019474369.8, 459754435813341.3, 1462102221014363.0, 3459676824094297.0, 1095088195244358.8, 424221018374343.3, 740482594364355.2, 17124087910348.27, 1406429695904356.5, 602201498620341.8, 1586320632332290.5, 3530946399714579.0, 44010591284347.43, 2426868097664364.0, 2075901008474277.5, 1818831021674308.0, 602201498620341.8, 704917467515369.0, 2011784197004351.5, 2281707683144323.0, 1507418309102340.0, 262009217714345.06, 760619225669355.0, 79212644641147.5, 15725821700347.879, 1793838773630321.2, 175481017274346.12, 2413127309376077.5, 1473366404036333.5, 310842812654349.94, 2263154436661361.5, 3285924206714338.0, 43667689304346.664, 16522422149348.129, 2238742639685312.8, 1.0270538816733274e+17, 393455387324351.1, 4571631005174266.0, 4878589964347.897, 285466587764341.1, 2.0695474751304344e+16, 1259671484231375.0, 1245896020574322.8, 828023162347.9148, 2424315382924344.0, 632190404347.9252, 708825922276355.0, 632190404347.9252, 19410214634348.062, 618005602012342.2, 1244067210014329.0, 138091213534343.31, 739072886224365.2, 155902888424344.75, 394484093264342.1, 6383742668347.835, 1144276820354363.2, 98238316347.91626, 1577273016767931.0, 1245896020574322.8, 311757217934345.0, 72815294347.91222, 831104587606337.5, 195492092384347.7, 13485689744348.084, 4992890624347.949, 1600125333278336.0, 3339676390940354.0, 34806016174347.79, 338252193044340.75, 3543602081384395.0, 701798484386562.0, 393455387324351.1, 972255211958364.9, 359243255456346.25, 326587259588351.1, 348603630016147.3, 171608480252348.62, 8039946001874371.0, 304019452151351.25, 312016818467943.9, 5420667103032100.0, 1940264361305415.0, 138700817054350.28, 3.7085150986474824e+16, 78238139147948.78, 393455387324351.1, 1244067210014329.0, 1943451663227934.8, 1659472068388329.5, 2193873364782.9434, 976339128172482.5, 1256295683596304.0, 311757217934345.0, 2.350777939934829e+16, 72815294347.91222, 377160650198341.5, 166887338347.91837, 338522600077956.6, 26415389524348.29, 3847394478010439.0, 315119578179268.25, 175675778807952.53, 2.9581650789553704e+16, 1.008294559677743e+17, 6775776002974343.0, 424221018374343.3, 2354985822554306.0, 455038593484340.0, 1493395387348849.0, 74955604829948.75, 701019819254337.2, 13676190844348.355, 90618272347.90881, 261171012874345.88, 2211886525315868.5, 34806016174347.79, 1.1405322869786196e+16, 44010591284347.43, 220460171919999.94, 856727422672329.5, 195492092384347.7, 34501214414347.65, 2887319291347.8164, 909140194804344.5, 1144276820354363.2, 286591686857943.44, 430298081396346.94, 2.314851536752517e+16, 1154244223376343.0, 560916801836344.0, 1.2500104203738554e+17, 3994678205834457.0, 533409825748349.5, 310842812654349.94, 1695598821454305.0, 779578211114330.5, 12817206290962.822, 175481017274346.12, 3.376292140732837e+16, 261171012874345.88, 1112671609403936.9, 34892712707948.703, 3119377988395919.0, 1.53375136164686e+17, 1202421475835942.5, 1117322415322956.8, 4992890624347.949, 1.3078393096117597e+17, 286342892824348.4, 423010792889941.75, 781436911007958.2, 848143251650368.9, 3.4308070987573256e+16, 9555348075664300.0, 34806016174347.79, 34806016174347.79, 313316442110954.9, 848143251650368.9, 34501214414347.65, 115526623900350.5, 1179351844681366.2, 102709416776346.81, 34785225086357.08, 53914814194347.766, 791940535331332.5, 71749872809346.98, 261171012874345.88, 2799746007374271.5, 589115393924346.5, 1.2154203644055532e+16, 27946102502347.836, 138700817054350.28, 1000417819057954.6, 142184320076347.56, 156550592164348.56, 831104587606337.5, 32797597436347.68, 3402221269347.831, 582000906902342.6, 1237645851465180.0, 194768188204348.72, 594090184347.8923, 1683513344432327.5, 73059827947.91245, 661304186444350.8, 554667431946558.56, 6.854888025911274e+16, 1519428385157943.0, 13431901777947.994, 920701402802957.0, 142184320076347.56, 13676190844348.355, 72815294347.91222, 1406429695904356.5, 952406010674338.6, 311757217934345.0, 455352226517932.75, 477253882811352.0, 220162216072344.94, 1045303810454367.2, 567901610858360.8, 513233466682347.1, 343680866066346.94, 127756745033946.73, 756570286408355.0, 954460337447963.4, 427254146635347.4, 1.1673155374124206e+16, 80727199636348.47, 479335335016342.3, 135260540032345.12, 138700817054350.28, 418187181352337.7, 4.235621878449339e+16, 8802901195868.115, 9524137832347.957, 30242416502947.41, 900296667782336.2, 3202192881824385.0, 91140088864347.44, 554321271347948.25, 276479744780344.8, 2078263222114319.8, 4992890624347.949, 369684191901128.9, 496075070644447.6, 34501214414347.65, 52649418592629.0, 1021674116759350.1, 1395424868882337.5, 1695598821454305.0, 10257631527187.598, 1224619243481896.0, 2799746007374271.5, 337029769577948.3, 1142474519924755.2, 589115393924346.5, 2159601144667824.2, 257272160692339.12, 640288681098037.0, 286342892824348.4, 1167919500128287.0, 518734586884335.9, 822650094584347.0, 1818831021674308.0, 552756011774365.9, 2497240207814367.0, 4992890624347.949, 326587259588351.1, 5619671004074402.0, 246188970064743.0, 394484093264342.1, 195492092384347.7, 1045303810454367.2, 1707727524476366.5, 40199083240348.09, 1364949939514250.5, 1256295683596304.0, 781436911007958.2, 373309196651339.56, 779167808647940.2, 1819458043207925.5, 2352471208034315.0, 662637694144353.2, 78108216614347.44, 163330140380348.94, 305681115676353.06, 12378836099947.723, 1763751741320322.0, 882739291738343.8, 8703226676794752.0, 3.242841366334438e+16, 99752245798351.16, 474047850550348.25, 1577273016767931.0, 756570286408355.0, 19265673110283.39, 6957531315840979.0, 119509529240346.12, 1797386921262.962, 1202931298102354.0, 625336219034341.8, 311757217934345.0, 3508508932909867.0, 1.5174479588858206e+16, 34415006947946.914, 2227414960219665.5, 632190404347.9252, 394484093264342.1, 499998690638347.25, 101225428037350.0, 2078263222114319.8, 340961126305350.1])\n"
          ],
          "name": "stdout"
        }
      ]
    },
    {
      "cell_type": "code",
      "metadata": {
        "id": "2C4LJ58Ah-jY",
        "colab_type": "code",
        "colab": {
          "base_uri": "https://localhost:8080/",
          "height": 54
        },
        "outputId": "35ee694a-2d82-4c49-a585-57ac73b0c310"
      },
      "source": [
        "test_data = polynomial_sframe(test['sqft_living'], 15)\n",
        "predictions_test = train_model.predict(test_data)\n",
        "test_errors = predictions_test - test['price']\n",
        "RSS_test = (test_errors * test_errors).sum()\n",
        "print(RSS_test)\n"
      ],
      "execution_count": 73,
      "outputs": [
        {
          "output_type": "stream",
          "text": [
            "array('d', [104457056130162.69, 226074192235.88177, 273233850167274.88, 48195091032943.734, 199613345168075.44, 4478821938197.385, 29352792131763.953, 56677828019756.97, 60404407817253.305, 248264695110216.12, 20035945857568.125, 40369713704316.24, 248895701147917.8, 145364675364844.44, 43524032132694.16, 192855743510749.6, 199449956942200.8, 19684283793627.273, 149999313777868.78, 102541023502743.17, 1232388677318.0552, 237152290638239.0, 10271576387403.734, 29352792131763.953, 64194671787173.39, 97828536934194.19, 64119244385802.19, 155792022631700.4, 277335218256387.88, 128832855659197.5, 112298546639840.88, 127766206345487.78, 84356177228547.1, 23549852367246.43, 164098248384201.16, 1126735657794.1318, 193016408599526.22, 99230643654758.62, 444840422513150.75, 94595752086209.97, 4208614951513.871, 12492699583372.27, 86532289262821.69, 210399011677753.7, 199613345168075.44, 1979580739599386.0, 271488841256711.44, 67944930954351.41, 108452138062185.28, 226074192235.88177, 129772139137368.64, 1835651545579233.0, 75828098018826.75, 256194264393809.38, 169571584045895.2, 337101148708318.9, 97828536934194.19, 62247969851527.945, 2424950407561.0693, 878589939127.6498, 34676315268861.83, 193016408599526.22, 226074192235.88177, 4503330172078.557, 4208614951513.871, 24472668994665.992, 40443238405959.69, 186530322030977.7, 40144361499104.86, 2388412337424373.0, 220627918040.06714, 9350775664001.576, 71881467522900.3, 88627188313179.89, 43492974974508.7, 724860701914.2092, 186594634189162.62, 30840505880048.11, 1747403839012.1133, 141246730245615.5, 17983859289019.16, 1380468212393.2026, 149941652619683.44, 155762639188232.56, 11835922955952.701, 138633338257116.6, 10899551173008.832, 88736113797096.03, 136974059262021.19, 180155085462428.53, 24472668994665.992, 149800049490592.25, 17586743975309.375, 127766206345487.78, 8234496918840.732, 93226900365645.05, 44116224288218.45, 137525674168875.72, 402023070055.7988, 139743218796295.6, 14212236151921.244, 260162874750741.38, 345801512139771.0, 57512350562414.234, 544141179255010.3, 1394083897882.7432, 122371482333337.05, 49843303998669.375, 77578846718868.81, 419395019591377.7, 2727007034980.65, 64875513699512.15, 43492974974508.7, 48195091032943.734, 80087090659998.19, 122499469776938.9, 4478821938197.385, 30382024759183.57, 18741286193837.258, 181421264776138.56, 2005120466431.6958, 3950830937252571.0, 256194264393809.38, 44116224288218.45, 176383151521299.16, 226074192235.88177, 12121791840613.455, 68094047366071.67, 80087090659998.19, 50425274409388.97, 220069254873722.3, 410042045950348.0, 1670768678118.73, 25592583581335.477, 84356177228547.1, 147644295992263.88, 178777231749.8578, 123858157514761.25, 311000522059450.0, 167737162325330.44, 1052270483909091.5, 77994116125723.72, 2766011175908.1006, 807162015623.998, 71783434587375.7, 1117398008321186.6, 31959128700312.844, 8644787698276.049, 56800421248704.516, 95974580306774.27, 3559743603529.6025, 58228713876124.19, 1651055137.9741488, 102541023502743.17, 128832855659197.5, 158418247956579.6, 180155085462428.53, 80129232818183.6, 56713280861571.47, 161694475756781.28, 13125275899484.082, 1165114848615539.5, 80087090659998.19, 20035945857568.125, 62620007758382.84, 17368258302625.422, 55714486589.0205, 126703991031777.97, 7262622463240428.0, 43492974974508.7, 122499469776938.9, 337101148708318.9, 34676315268861.83, 1755844991853425.5, 180155085462428.53, 49958272269792.14, 29290159978512.016, 13468638585774.285, 80932039973708.05, 337313553401955.5, 46574590567218.35, 88780472955281.61, 22144419684158.89, 167737162325330.44, 93226900365645.05, 338485757737351.06, 82635240601127.6, 125646209718068.3, 36359835209991.18, 75828098018826.75, 1117880246667.6814, 883004780942.1593, 107244542038984.03, 9386176446274.367, 324166819655.4634, 107364360071291.84, 2.428877399267571e+16, 950971710575226.2, 56713280861571.47, 117343583208390.03, 120423813149519.03, 43524032132694.16, 4478821938197.385, 102541023502743.17, 97828536934194.19, 3165607661171941.0, 34676315268861.83, 372567702434124.6, 58437623686.927795, 16042622720470.18, 97828536934194.19, 145364675364844.44, 7966512232550.53, 448821609885731.6, 88736113797096.03, 167737162325330.44, 41346520126524.31, 1858250957554.0447, 186530322030977.7, 1170504009092.1812, 173890698893879.3, 27347534876924.715, 88184478720034.72, 73487120150319.84, 55714486589.0205, 4503330172078.557, 697585340063944.9, 23549852367246.43, 287226818119613.44, 93226900365645.05, 17983859289019.16, 56006330175281.28, 3537958506746.343, 71881467522900.3, 86424725347454.42, 80129232818183.6, 167737162325330.44, 39922222502098.58, 77578846718868.81, 220627918040.06714, 105421723443872.66, 149941652619683.44, 263974024285015.75, 56713280861571.47, 55714486589.0205, 80087090659998.19, 154589573874522.75, 271488841256711.44, 2490734198522759.5, 155762639188232.56, 17934842821256.82, 82207777694272.75, 1651055137.9741488, 241522814579368.7, 34676315268861.83, 87742877626889.6, 468993586748634.6, 32924545944990.406, 317717130044294.0, 152256745247103.25, 43804045381363.59, 227109591442271.12, 127635495764788.47, 158122071815652.1, 101115638282178.16, 30642104166038.383, 37504351837410.75, 49924998111606.54, 97713234310612.58, 1988781643844.2573, 26312145860770.8, 6693098801099.489, 161547426353494.56, 76650332705116.75, 24415483115609.934, 218430076225.55627, 390966079297025.9, 238604697951949.7, 2064264693325188.5, 398430784827023.56, 328511635276868.44, 63275367038183.375, 14212236151921.244, 232645213413165.62, 234083774099455.97, 186208927515049.88, 1362654313833476.5, 5557766740627.508, 149941652619683.44, 1394083897882.7432, 2865079761585.505, 29352792131763.953, 3739592917239.3867, 29352792131763.953, 147503782118011.75, 46574590567218.35, 167737162325330.44, 112298546639840.88, 220627918040.06714, 220069254873722.3, 167737162325330.44, 2005120466431.6958, 26797396547060.938, 214792735561624.62, 26857305563214.984, 3213346976110.0215, 20035945857568.125, 29378306789949.426, 51941068052735.94, 180155085462428.53, 102541023502743.17, 4503330172078.557, 241522814579368.7, 419395019591377.7, 212970933805102.88, 7094255029741.155, 51941068052735.94, 92319875051935.2, 5311324683358.232, 84356177228547.1, 26371510249505.234, 60404407817253.305, 290624776618082.25, 21267032311578.445, 12827738897082.049, 2707945075295.2983, 33032701327732.39, 50845533778104.65, 193016408599526.22, 27842198190634.508, 439144255655994.56, 496391349491.1132, 128832855659197.5, 29352792131763.953, 22701793354521.652, 46653561543057.71, 33032701327732.39, 196301020633800.88, 29352792131763.953, 15996329389805.752, 80087090659998.19, 40443238405959.69, 18184079695874.047, 273233850167274.88, 149941652619683.44, 65636217013221.83, 9242489539419.46, 1394083897882.7432, 9386176446274.367, 154589573874522.75, 83536520873022.72, 8213658608693.252, 61877040444673.0, 138496072627690.31, 27993539481080.305, 256379437716466.94, 117343583208390.03, 183328847496702.78, 104938835537017.56, 220069254873722.3, 1240218328400213.5, 26857305563214.984, 110311570012421.56, 15297166093050.617, 253822529913160.12, 38594713645445.56, 8087319231869450.0, 22198882426117.086, 104501235179.06165, 119266282274466.38, 148649698804302.47, 504560760784.8358, 35093454066644.14, 107374117816129.06, 127766206345487.78, 46653561543057.71, 167737162325330.44, 102541023502743.17, 189111454658396.84, 227109591442271.12, 31959128700312.844, 68627515842214.76, 29352792131763.953, 241522814579368.7, 1563715700940284.5, 25176420715230.695, 3026648447875.715, 7999189877725.437, 123543949090648.73, 110311570012421.56, 167737162325330.44, 811314326260714.6, 14212236151921.244, 205645364829769.5, 2865079761585.505, 154589573874522.75, 241522814579368.7, 229956764069690.62, 116735378255858.14, 75928854091449.16, 328721316833407.3, 31959128700312.844, 189759509065251.7, 49924998111606.54, 1454354776950207.5, 3537958506746.343, 54691237307575.16, 194326927913236.0, 1380468212393.2026, 127766206345487.78, 183966925403557.7, 55074933622615.41, 350193262605496.4, 206155020373651.88, 303408194982515.0, 19984206252707.855, 147644295992263.88, 43524032132694.16, 57548063420599.86, 685372795059.3125, 71881467522900.3, 37504351837410.75, 180155085462428.53, 7819122645202.768, 9386176446274.367, 1068688153522.5786, 159427319730733.0, 24472668994665.992, 1197480325478443.8, 206321131736624.06, 22420996267.34633, 936507147143775.8, 634416788220400.5, 196961268540655.88, 81356177380562.84, 67849621155924.516, 425200525650249.1, 122499469776938.9, 7966512232550.53, 784713049397812.9, 80087090659998.19, 17983859289019.16, 220627918040.06714, 7999189877725.437, 3537958506746.343, 206321131736624.06, 127819433503673.25, 60441007475438.875, 144231516051134.5, 57155831655559.31, 14168665958354.744, 71783434587375.7, 132601046007181.62, 127766206345487.78, 35733970515147.42, 43492974974508.7, 107364360071291.84, 161547426353494.56, 17983859289019.16, 1805516244182051.8, 112298546639840.88, 8783768291421.146, 186530322030977.7, 965547124006676.5, 214347418491393.06, 212970933805102.88, 49924998111606.54, 24472668994665.992, 285828588676952.4, 144231516051134.5, 852047616555066.8, 284043750747033.25, 9386176446274.367, 112176005470435.14, 127979181488229.56, 149800049490592.25, 26797396547060.938, 57084660894188.414, 271679460853563.94, 97828536934194.19, 43416727135767.3, 372567702434124.6, 117343583208390.03, 112298546639840.88, 261075023258966.78, 71783434587375.7, 9350775664001.576, 64156952543987.98, 37504351837410.75, 23321919460391.523, 40369713704316.24, 199449956942200.8, 164098248384201.16, 7966512232550.53, 372567702434124.6, 6320848729849.652, 828165288362528.5, 199613345168075.44, 220627918040.06714, 14168665958354.744, 3577529004900.584, 189600205545023.8, 193016408599526.22, 15996329389805.752, 220069254873722.3, 17983859289019.16, 5203382090213.127, 88736113797096.03, 200946034481785.03, 20834989625288.25, 208355083457188.94, 144231516051134.5, 107364360071291.84, 865847079986519.5, 7966512232550.53, 64119244385802.19, 13667324408171.031, 199613345168075.44, 9386176446274.367, 8267719191435.204, 165306785697910.7, 189729894983653.28, 193016408599526.22, 253188557021228.53, 5530535369648.4375, 305252776441469.5, 119392635835809.53, 852047616555066.8, 439995447075.0452, 97714165176081.84, 37404748431050.58, 50592587425316.34, 26059164236093.43, 65636217013221.83, 22869379146681.766, 7966512232550.53, 227109591442271.12, 22198882426117.086, 9350775664001.576, 4503330172078.557, 30578110444237.54, 11196882328533.115, 1394083897882.7432, 31959128700312.844, 1331376232930048.8, 893897329333.7886, 49924998111606.54, 18003831447204.582, 161694475756781.28, 6693098801099.489, 67557374047496.375, 170185274952749.94, 432370663200.9033, 144231516051134.5, 98762166247903.89, 345801512139771.0, 29352792131763.953, 127979181488229.56, 21484716404723.586, 271488841256711.44, 17983859289019.16, 75828098018826.75, 220627918040.06714, 22421272832971.93, 149941652619683.44, 84356177228547.1, 128399657961.40497, 392126653220104.8, 504560760784.8358, 44039431822057.53, 824781239692166.5, 17934842821256.82, 97714165176081.84, 64026657724473.55, 241522814579368.7, 9264593888114.52, 68723370268061.266, 7999189877725.437, 34676315268861.83, 333863356774536.9, 46460800378944.664, 251875893775337.66, 167737162325330.44, 796814094651.9518, 142090729025086.06, 496391349491.1132, 6126553774901.996, 336362981271916.0, 196138993976475.38, 17538272134966.582, 206321131736624.06, 88073974524873.56, 489608963611535.9, 16042622720470.18, 79984453640181.03, 58437623686.927795, 24472668994665.992, 167737162325330.44, 3491490322349352.0, 227251528843641.94, 451064481538253.9, 9350775664001.576, 1.8372581802827412e+16, 163495642477345.94, 43260399622492.61, 241669185980740.16, 17983859289019.16, 22198882426117.086, 432370663200.9033, 883004780942.1593, 110806651419276.44, 180155085462428.53, 333863356774536.9, 24472668994665.992, 1365958709792951.8, 4886205310777.811, 532169917337340.1, 56713280861571.47, 2707945075295.2983, 147061308033972.06, 213139768305173.2, 257889487030176.5, 215898260932592.66, 97875113092379.56, 20035945857568.125, 22689604541197.84, 1213829338909892.5, 985066643043.5791, 468993586748634.6, 88736113797096.03, 70688867302335.48, 190148873789364.7, 139520666213553.69, 29352792131763.953, 231960337828884.3, 504560760784.8358, 141978499423714.94, 21703508997868.656, 17983859289019.16, 138687673640771.31, 161547426353494.56, 576504471063145.2, 38666604464830.34, 92365121010120.88, 295460870559211.75, 4695286031.26144, 263786127825259.97, 161694475756781.28, 972876399472402.0, 220627918040.06714, 1835651545579233.0, 26857305563214.984, 107244542038984.03, 42259778347089.09, 109817597105566.36, 169816927388637.06, 40369713704316.24, 7966512232550.53, 124592862404358.1, 149800049490592.25, 102588708160928.5, 97828536934194.19, 5557766740627.508, 2965188755545.3325, 21103557891842.562, 4252329321567071.5, 118148792584441.1, 49843303998669.375, 7495313477228.158, 10845889095452.61, 220627918040.06714, 88627188313179.89, 543087280768791.56, 76751633405159.06, 248969989806103.2, 249044289549289.16, 129772139137368.64, 11474972468033.047, 43492974974508.7, 181541782434365.2, 26797396547060.938, 133143792914036.44, 279495747422114.06, 30318303351092.375, 88626301787710.5, 53307284680155.516, 161754353914966.94, 248713250962358.06, 95054252993064.66, 190408671972106.8, 38666604464830.34, 136423552855165.97, 56713280861571.47, 363755363107602.94, 144231516051134.5, 30578110444237.54, 27842198190634.508, 10852659746755.639, 1785564605750601.2, 410042045950348.0, 2283734077639705.0, 29352792131763.953, 1988781643844.2573, 80171386061369.16, 12492699583372.27, 29290159978512.016, 438901896454280.5, 24472668994665.992, 26797396547060.938, 3739592917239.3867, 167737162325330.44, 1620451247833267.5, 25831329174480.62, 34676315268861.83, 97714165176081.84, 231387001383400.44, 5926096243139626.0, 65636217013221.83, 241343087530906.44, 12492699583372.27, 220069254873722.3, 14212236151921.244, 4281781251907.18, 26312145860770.8, 99700229561613.52, 127635495764788.47, 76010932492820.19, 7966512232550.53, 7475433250305.832, 496391349491.1132, 80087090659998.19, 9972009073693.947, 3568630761715.09, 86863000940599.4, 122499469776938.9, 153420942560813.2, 135874154948311.0, 17984258623549.84, 56800421248704.516, 385627118872120.5, 112298546639840.88, 102541023502743.17, 64026657724473.55, 22198882426117.086, 2573761721270.8574, 64026657724473.55, 1988781643844.2573, 20035945857568.125, 133143792914036.44, 143102790737424.62, 24472668994665.992, 84356177228547.1, 1101714094889735.2, 271679460853563.94, 66307133783344.16, 128832855659197.5, 883004780942.1593, 71881467522900.3, 116325707894679.81, 42798456449477.06, 317631290620.4857, 14569445465631.02, 1612878520460689.0, 2490734198522759.5, 335288155880215.25, 5568870898813.005, 8267719191435.204, 849975422478.8943, 122499469776938.9, 51519229464394.86, 73487120150319.84, 15996329389805.752, 122499469776938.9, 311665158413966.25, 110311570012421.56, 22198882426117.086, 161694475756781.28, 69506243581771.0, 51602285145881.06, 18385408602728.914, 14212236151921.244, 155762639188232.56, 140579370594077.53, 220627918040.06714, 220768300280576.44, 1815533632147775.5, 227180554600456.62, 1896670385873583.5, 14168665958354.744, 102588708160928.5, 170648940250670.94, 122499469776938.9, 7999189877725.437, 297081769872921.9, 30839026037382.73, 226935310668004.75, 154589573874522.75, 22198882426117.086, 41346520126524.31, 199613345168075.44, 102541023502743.17, 12451852526903.639, 16042622720470.18, 256454834874652.25, 303773814529131.1, 164701962791055.94, 64156952543987.98, 256379437716466.94, 251875893775337.66, 80087090659998.19, 164098248384201.16, 320239930264858.7, 93226900365645.05, 18639510834764.688, 38666604464830.34, 173890698893879.3, 179999866647847.47, 1651055137.9741488, 16758432762386.178, 7999189877725.437, 24472668994665.992, 84399427886732.58, 84356177228547.1, 3046799662400.2285, 2905056245658.0557, 128832855659197.5, 8087319231869450.0, 504560760784.8358, 50258238518461.5, 21103557891842.562, 14525330644644.926, 303609707127760.4, 93549266024.33456, 43492974974508.7, 112298546639840.88, 178777231749.8578, 110311570012421.56, 29352792131763.953, 328511635276868.44, 3559743603529.6025, 102541023502743.17, 108342329385001.53, 16042622720470.18, 248895701147917.8, 180155085462428.53, 34954130675716.72, 279495747422114.06, 29352792131763.953, 127766206345487.78, 1380468212393.2026, 112298546639840.88, 193016408599526.22, 256379437716466.94, 22198882426117.086, 88538557714550.78, 112298546639840.88, 354830576539054.9, 97828536934194.19, 16805815347889.781, 91868025145080.4, 295460870559211.75, 10845889095452.61, 2443958221659860.0, 221468454187432.0, 2513705115786.9395, 127872671746858.6, 2005120466431.6958, 24472668994665.992, 67944930954351.41, 400610128825267.06, 419395019591377.7, 263974024285015.75, 49924998111606.54, 60404407817253.305, 73487120150319.84, 120475488407704.56, 144231516051134.5, 576504471063145.2, 149800049490592.25, 155762639188232.56, 3559743603529.6025, 172045350308151.7, 137525674168875.72, 38666604464830.34, 48603121484186.99, 4478821938197.385, 162894145070491.12, 248713250962358.06, 43492974974508.7, 622612624788948.2, 14212236151921.244, 206321131736624.06, 40585293300981.984, 724860701914.2092, 40369713704316.24, 56713280861571.47, 17983859289019.16, 235704317324529.75, 344653383765.5902, 43416727135767.3, 438901896454280.5, 26857305563214.984, 5559986685464.61, 186530322030977.7, 376211905806704.5, 35476620090860.375, 4657510965671.094, 24009043680956.227, 107364360071291.84, 55714486589.0205, 4089174565616.964, 3559743603529.6025, 107850834548387.52, 262446238971306.25, 347770559284215.1, 135325865541456.1, 12326842676517.363, 82530127509148.42, 305088269980098.94, 9386176446274.367, 2880904413425980.0, 161694475756781.28, 5043546637995.465, 883004780942.1593, 213139768305173.2, 93226900365645.05, 64119244385802.19, 5557766740627.508, 238059936368.66754, 213208514463358.56, 42490983856332.03, 1380468212393.2026, 97901200582891.17, 1114252357634895.5, 34608236841414.133, 60039020910398.4, 53222867430120.5, 80087090659998.19, 328721316833407.3, 202283157795494.5, 67944930954351.41, 226935310668004.75, 9065054977711.367, 49924998111606.54, 12827738897082.049, 67944930954351.41, 40369713704316.24, 6126553774901.996, 37504351837410.75, 179999866647847.47, 271679460853563.94, 1280333892635695.5, 136288485255109.88, 15297166093050.617, 45693746322492.984, 153420942560813.2, 311869393696309.06, 23039543056739.305, 204970706422914.44, 138496072627690.31, 146274395295812.44, 7702961546260.318, 14212236151921.244, 55303813488991.03, 213139768305173.2, 24472668994665.992, 149941652619683.44, 496391349491.1132, 175134708207589.25, 646331801651852.5, 3559743603529.6025, 1399645556068.228, 212970933805102.88, 75828098018826.75, 169571584045895.2, 220627918040.06714, 190928800417590.44, 893778556849421.5, 71881467522900.3, 71783434587375.7, 311952550354494.75, 66307133783344.16, 10121238480548.844, 84249974881728.69, 1080669956753.3694, 9350775664001.576, 58437623686.927795, 26881711721400.355, 173738203216396.78, 3046799662400.2285, 49180693312379.28, 1219589932957.8909, 118417124380285.1, 203356048926462.56, 107461957472662.88, 576504471063145.2, 213139768305173.2, 192855743510749.6, 14785899373856.887, 372567702434124.6, 33032701327732.39, 320239930264858.7, 53307284680155.516, 26773028705246.45, 883004780942.1593, 29052556304375.203, 11998454362807.574, 3363087820456.137, 3739592917239.3867, 161694475756781.28, 199449956942200.8, 70293550895480.8, 256379437716466.94, 280878419374452.28, 43401216329234.92, 15921094532547.691, 149941652619683.44, 12492699583372.27, 80087090659998.19, 122371482333337.05, 74296597464029.75, 20035945857568.125, 97828536934194.19, 69040032876704.06, 234260778010819.8, 93226900365645.05, 208079238274858.8, 112298546639840.88, 206321131736624.06, 161694475756781.28, 1101714094889735.2, 102541023502743.17, 1280333892635695.5, 17586743975309.375, 2069148283.0787778, 63275367038183.375, 67076160469634.41, 4503330172078.557, 97714165176081.84, 32696473189398.453, 133010359196239.42, 3559743603529.6025, 29762403122.241726, 27347534876924.715, 17934842821256.82, 5557766740627.508, 53222867430120.5, 117394593366575.5, 40443238405959.69, 88627188313179.89, 965547124006676.5, 16042622720470.18, 29290159978512.016, 3026648447875.715, 80087090659998.19, 28934499928108.945, 811314326260714.6, 138632229482585.47, 1.4756537881683888e+16, 81781423287417.89, 303408194982515.0, 43492974974508.7, 114303259267260.62, 337313553401955.5, 24415483115609.934, 78946748689568.44, 212970933805102.88, 125646209718068.3, 7999189877725.437, 37504351837410.75, 80087090659998.19, 3559743603529.6025, 95974580306774.27, 22198882426117.086, 86863000940599.4, 33576138641442.234, 489608963611535.9, 193016408599526.22, 108377859169.43896, 2707945075295.2983, 84356177228547.1, 31959128700312.844, 48275423577332.14, 11635014561178.156, 56977987889631.93, 19825748950713.195, 445084415597124.1, 7966512232550.53, 27347534876924.715, 229243308162835.94, 68238014249069.72, 7663811375816.794, 28656576933149.312, 3537958506746.343, 97714165176081.84, 48275423577332.14, 31959128700312.844, 29802014664802.246, 180155085462428.53, 58437623686.927795, 71881467522900.3, 83387834195438.53, 74296597464029.75, 2537953575385661.0, 358565485367844.9, 22198882426117.086, 160499240443071.5, 2328958154502603.0, 372567702434124.6, 245785587259127.38, 745642509103458.5, 3559743603529.6025, 379864133365.25415, 17983859289019.16, 127872671746858.6, 303408194982515.0, 159308439129361.75, 12492699583372.27, 227109591442271.12, 31893773409963.11, 207675991050334.12, 2707945075295.2983, 16080361121841.18, 149941652619683.44, 97714165176081.84, 47298980856767.39, 10575577701113.547, 7966512232550.53, 94483286524066.12, 17983859289019.16, 29352792131763.953, 133143792914036.44, 234260778010819.8, 24009043680956.227, 1874045152721.9055, 227180554600456.62, 88627188313179.89, 570865658097420.0, 18791391916438.734, 158122071815652.1, 6723053309176.452, 122499469776938.9, 8678826911999.885, 117343583208390.03, 226074192235.88177, 64119244385802.19, 5557766740627.508, 863078319300229.0, 4503330172078.557, 75928854091449.16, 504560760784.8358, 273233850167274.88, 5311324683358.232, 152605538871216.2, 22198882426117.086, 17934842821256.82, 214654744420253.8, 25354946488190.363, 257889487030176.5, 263974024285015.75, 49924998111606.54, 63442393073463.56, 167587389784945.62, 220627918040.06714, 115312266580970.31, 199449956942200.8, 73891304557174.84, 154445792235753.2, 56800421248704.516, 22198882426117.086, 30903292072893.258, 53307284680155.516, 274792673480985.0, 803287386201845.2, 75928854091449.16, 1651055137.9741488, 1380468212393.2026, 127767270780018.31, 159308439129361.75, 34608236841414.133, 72682076836610.1, 36359835209991.18, 268661154984330.84, 167737162325330.44, 303609707127760.4, 243845078467884.25, 19984206252707.855, 133143792914036.44, 43492974974508.7, 6108714810296874.0, 17586743975309.375, 102541023502743.17, 12451852526903.639, 49106757029562.72, 2005120466431.6958, 64119244385802.19, 121984093152077.47, 139743218796295.6, 3559743603529.6025, 180155085462428.53, 1639460661264720.0, 2585616352248563.5, 1610491584973.6255, 15996329389805.752, 149365650712828.44, 893897329333.7886, 32225859107167.742, 839355187797.0559, 2123746330134.46, 16042622720470.18, 279495747422114.06, 102541023502743.17, 97828536934194.19, 112298546639840.88, 20035945857568.125, 1639460661264720.0, 24472668994665.992, 1280333892635695.5, 22221071584302.555, 3559743603529.6025, 43416727135767.3, 6723053309176.452, 220627918040.06714, 31959128700312.844, 12451852526903.639, 114807208674115.34, 161694475756781.28, 29290159978512.016, 107364360071291.84, 40443238405959.69, 185246406717267.5, 8267719191435.204, 3026648447875.715, 89625403110805.88, 196961268540655.88, 173890698893879.3, 936507147143775.8, 290427621492193.5, 241522814579368.7, 1886431297907854.0, 43492974974508.7, 267623628290985.84, 85223296542257.05, 7966512232550.53, 17983859289019.16, 259403970343886.25, 12618545620048.746, 49924998111606.54, 91868025145080.4, 46653561543057.71, 360846530723238.0, 124314952314.54346, 176383151521299.16, 43416727135767.3, 193147261000897.56, 3537958506746.343, 876966462731680.0, 84399427886732.58, 1651055137.9741488, 3083886218609.939, 3559743603529.6025, 73527488708505.33, 279495747422114.06, 75110508777739.61, 297081769872921.9, 6693098801099.489, 115312266580970.31, 55714486589.0205, 281072306735823.72, 216604514534284.25, 84249974881728.69, 5420375776503.335, 241669185980740.16, 5530535369648.4375, 1263541479204245.5, 10884013014823.316, 1394083897882.7432, 6723053309176.452, 1394083897882.7432, 37504351837410.75, 110311570012421.56, 25890148935795.39, 107244542038984.03, 1324512945557468.5, 7953229390736.023, 64119244385802.19, 53307284680155.516, 43524032132694.16, 193016408599526.22, 117343583208390.03, 242988523893078.75, 112298546639840.88, 117218318901886.16, 60441007475438.875, 213139768305173.2, 29762403122.241726, 5530535369648.4375, 138632229482585.47, 496391349491.1132, 11196882328533.115, 71881467522900.3, 186530322030977.7, 38594713645445.56, 6243636681756.892, 137111859066859.56, 188464508751542.25, 135739359661964.66, 80087090659998.19, 97828536934194.19, 220627918040.06714, 465939523469199.44, 1988781643844.2573, 295541810217397.0, 9386176446274.367, 5530535369648.4375, 7802588481850.618, 141754173240973.2, 784713049397812.9, 429093033022829.8, 170800074359604.7, 173890698893879.3, 93226900365645.05, 102541023502743.17, 3559743603529.6025, 1988781643844.2573, 194589563855978.0, 2736188767523561.0, 7735094564015.633, 372783976910.6953, 80087090659998.19, 17983859289019.16, 189111454658396.84, 42245803901815.8, 2005120466431.6958, 44488012307793.33, 112298546639840.88, 113677060249870.45, 97667627334267.34, 504560760784.8358, 33032701327732.39, 96628852983168.9, 3646187864972326.5, 576504471063145.2, 2261288314208247.0, 547485264141372.75, 38212309977.13701, 4503330172078.557, 6451718114809.273, 16042622720470.18, 43492974974508.7, 2731265082837270.0, 2727007034980.65, 75928854091449.16, 22644771739826.855, 43804045381363.59, 1.5319479795453022e+16, 7966512232550.53, 295262081551065.1, 3559743603529.6025, 37533191995596.28, 1086141031458283.8, 1394083897882.7432, 4503330172078.557, 14569445465631.02, 117343583208390.03, 53855282018979.82, 199613345168075.44, 1219589932957.8909, 419395019591377.7, 1988781643844.2573, 32762645420877.47, 14212236151921.244, 164701962791055.94, 60404407817253.305, 534344522023629.6, 1394083897882.7432, 5557766740627.508, 7966512232550.53, 56713280861571.47, 496391349491.1132, 122371482333337.05, 89714575912176.97, 3537958506746.343, 3047516969480407.5, 164143971671.19556, 84356177228547.1, 227109591442271.12, 22144419684158.89, 53997043993865.32, 89536274649435.03, 193016408599526.22, 220627918040.06714, 49924998111606.54, 824781239692166.5, 60404407817253.305, 67944930954351.41, 4020388099312166.0, 145364675364844.44, 84356177228547.1, 167737162325330.44, 260922887657595.8, 14212236151921.244, 125646209718068.3, 199613345168075.44, 191710323285816.47, 226935310668004.75, 138496072627690.31, 11852126214138.195, 170800074359604.7, 15996329389805.752, 311665158413966.25, 7682024626685.533, 57512350562414.234, 16375164076095.982, 1040086941163932.0, 256379437716466.94, 2707945075295.2983, 18003831447204.582, 100642726875323.47, 1.21907015004057e+16, 67944930954351.41, 206321131736624.06, 60404407817253.305, 179523658555573.25, 17983859289019.16, 7966512232550.53, 155821408846418.06, 31959128700312.844, 220069254873722.3, 24415483115609.934, 17983859289019.16, 705041893307653.0, 28091192597489.47, 6294104627454138.0, 256454834874652.25, 149941652619683.44, 49768871107852.95, 8644787698276.049, 207675991050334.12, 214516797618882.94, 372790999676152.75, 6126553774901.996, 43492974974508.7, 83063812007982.6, 46574590567218.35, 1394083897882.7432, 45376024915638.05, 210231266432522.53, 109817597105566.36, 4503330172078.557, 5557766740627.508, 3363087820456.137, 60404407817253.305, 40443238405959.69, 213139768305173.2, 107244542038984.03, 166762883354362.47, 220627918040.06714, 12492699583372.27, 84249974881728.69, 206388769394809.5, 26857305563214.984, 149941652619683.44, 97714165176081.84, 138632229482585.47, 102541023502743.17, 328511635276868.44, 24472668994665.992, 3559743603529.6025, 37504351837410.75, 22144419684158.89, 97828536934194.19, 43492974974508.7, 145225250745431.56, 37504351837410.75, 102541023502743.17, 1988781643844.2573, 146502268678554.22, 34676315268861.83, 883004780942.1593, 292232373931791.6, 226935310668004.75, 49924998111606.54, 306075973848324.9, 554115494200241.75, 77994116125723.72, 161694475756781.28, 118878709928954.77, 128832855659197.5, 31959128700312.844, 86094849855966.75, 14922783069564.148, 173890698893879.3, 12492699583372.27, 46975716949912.55, 295541810217397.0, 34069023293781.0, 7966512232550.53, 446828799199442.0, 5530535369648.4375, 4403983265223.666, 144092636059141.3, 26797396547060.938, 155618312922043.56, 97714165176081.84, 413629419532508.25, 4478821938197.385, 25651131028940.43, 110806651419276.44, 2682272105974366.0, 409807856159927.5, 12451852526903.639, 6969412622886.251, 3739592917239.3867, 72842730779352.02, 45298143194637.94, 241595994737554.5, 541990556175647.56, 206321131736624.06, 84356177228547.1, 107364360071291.84, 75931455444391.27, 29352792131763.953, 84356177228547.1, 144231516051134.5, 5764108951448102.0, 337101148708318.9, 13851458810693.5, 5557766740627.508, 80087090659998.19, 9386176446274.367, 4478821938197.385, 21103557891842.562, 203624715109204.3, 8025843279096.394, 113298685953550.4, 241522814579368.7, 220627918040.06714, 4911802799498.128, 466956436062343.75, 7702961546260.318, 220627918040.06714, 9099911132564.578, 141978499423714.94, 71783434587375.7, 56800421248704.516, 165158102412365.06, 46574590567218.35, 24415483115609.934, 8267719191435.204, 79829172879.2298, 127766206345487.78, 151994250931697.06, 88736113797096.03, 263974024285015.75, 244458667206788.44, 206321131736624.06, 16613354441034.844, 14115548687911.219, 43416727135767.3, 34608236841414.133, 2011790624617.1895, 695100355377656.2, 3046799662400.2285, 7347265343450.931, 241522814579368.7, 60404407817253.305, 88780472955281.61, 22221071584302.555, 97714165176081.84, 13167212210791.89, 43492974974508.7, 24472668994665.992, 15621928703515.52, 173890698893879.3, 43492974974508.7, 3559743603529.6025, 49924998111606.54, 18587846009583.805, 179999866647847.47, 745642509103458.5, 186530322030977.7, 248895701147917.8, 22198882426117.086, 7999189877725.437, 75828098018826.75, 22144419684158.89, 504560760784.8358, 504560760784.8358, 163736551820088.0, 9676875759984.166, 36929876523701.09, 1400984586655855.5, 12492699583372.27, 70987803901085.47, 149941652619683.44, 56835912406890.08, 456837192630892.4, 61877040444673.0, 155762639188232.56, 49843303998669.375, 303408194982515.0, 112176005470435.14, 43416727135767.3, 224280154814851.6, 155821408846418.06, 112176005470435.14, 53651610087010.5, 1639460661264720.0, 218674489560012.12, 29290159978512.016, 189759509065251.7, 1117398008321186.6, 53307284680155.516, 18385408602728.914, 186530322030977.7, 220627918040.06714, 128167993857933.19, 104457056130162.69, 60314544293022.55, 1988781643844.2573, 1685745932157.2183, 17784747382164.24, 113298685953550.4, 97875113092379.56, 15251962017225.316, 19201809230148.516, 173890698893879.3, 271679460853563.94, 43492974974508.7, 594734900553466.2, 16250732635510.549, 161694475756781.28, 212970933805102.88, 173890698893879.3, 40443238405959.69, 12451852526903.639, 149941652619683.44, 20035945857568.125, 258646174437031.44, 2857117719770.993, 239882356844616.62, 295460870559211.75, 2707945075295.2983, 248713250962358.06, 356606665852764.9, 11514185642242.89, 273233850167274.88, 186530322030977.7, 125329739953955.25, 95054252993064.66, 104487856810409.28, 106390824757582.06, 102423928607533.0, 3950830937252571.0, 45376024915638.05, 187173942437832.16, 20057026515753.59, 220069254873722.3, 91417283738225.56, 27287081233351.14, 64875513699512.15, 24472668994665.992, 6005310480857.873, 107364360071291.84, 80087090659998.19, 410996046357203.9, 13859460838211.453, 161694475756781.28, 40369713704316.24, 220069254873722.3, 3559743603529.6025, 24415483115609.934, 46012576229347.82, 824781239692166.5, 3537958506746.343, 119266282274466.38, 200946034481785.03, 51941068052735.94, 149941652619683.44, 138632229482585.47, 343743173692682.75, 432370663200.9033, 9099911132564.578, 152838289653958.16, 271488841256711.44, 117343583208390.03, 199613345168075.44, 241522814579368.7, 1030132599006.4954, 504515047154196.25, 17934842821256.82, 92319875051935.2, 127819433503673.25, 295460870559211.75, 2727007034980.65, 10845889095452.61, 8516295116183938.0, 102313401911.39728, 102541023502743.17, 11196882328533.115, 79666278753143.22, 79983611450277.81, 40443238405959.69, 102541023502743.17, 1670213323.463684, 24415483115609.934, 6010579368047.092, 15996329389805.752, 22420996267.34633, 20035945857568.125, 124592862404358.1, 16042622720470.18, 113298685953550.4, 56713280861571.47, 7966512232550.53, 97714165176081.84, 80087090659998.19, 31893773409963.11, 24472668994665.992, 29352792131763.953, 196961268540655.88, 117343583208390.03, 332144909460826.7, 12492699583372.27, 5530535369648.4375, 250011194945700.2, 883004780942.1593, 127766206345487.78, 143102790737424.62, 152955107558.25818, 238604697951949.7, 53222867430120.5, 245195401613643.4, 107244542038984.03, 3739592917239.3867, 15977504047991.25, 149941652619683.44, 3568630761715.09, 46574590567218.35, 221997342015989.2, 44116224288218.45, 84249974881728.69, 68723370268061.266, 980233387438127.2, 3537958506746.343, 496391349491.1132, 1394083897882.7432, 7966512232550.53, 32762645420877.47, 96899341620484.27, 26192489860938.81, 17974743759885.79, 162894145070491.12, 144092636059141.3, 199613345168075.44, 88824843198467.1, 155762639188232.56, 1988781643844.2573, 6451718114809.273, 12492699583372.27, 320239930264858.7, 5557766740627.508, 144231516051134.5, 31985751858498.406, 167737162325330.44, 254689193707519.53, 7966512232550.53, 1454354776950207.5, 34676315268861.83, 433430564895729.9, 2731265082837270.0, 193016408599526.22, 91417283738225.56, 19201809230148.516, 24009043680956.227, 19984206252707.855, 75828098018826.75, 2261288314208247.0, 11635014561178.156, 63275367038183.375, 102423928607533.0, 196961268540655.88, 874186182313.1399, 75928854091449.16, 19984206252707.855, 1348612046361500.8, 56800421248704.516, 127766206345487.78, 276355930794693.6, 893897329333.7886, 148649698804302.47, 49924998111606.54, 52621959366445.72, 29865191445473.67, 155762639188232.56, 28341295504344.34, 16042622720470.18, 372567702434124.6, 8818079818854.785, 496391349491.1132, 187173942437832.16, 211598883118812.88, 152256745247103.25, 215728337177683.47, 231387001383400.44, 13338611617646.766, 419395019591377.7, 438901896454280.5, 26857305563214.984, 372567702434124.6, 200946034481785.03, 247412255834208.25, 317631290620.4857, 10845889095452.61, 1348612046361500.8, 139743218796295.6, 279495747422114.06, 504560760784.8358, 117343583208390.03, 14767800580671.414, 12451852526903.639, 127766206345487.78, 37504351837410.75, 107364360071291.84, 14931088779340.807, 180155085462428.53, 429093033022829.8, 62247969851527.945, 143126072274.15894, 15297166093050.617, 69506243581771.0, 117218318901886.16, 60404407817253.305, 109597810406080.53, 2995752742617503.0, 24472668994665.992, 75828098018826.75, 112298546639840.88, 33576138641442.234, 117218318901886.16, 93363336595201.66, 10234541722872.209, 75928854091449.16, 998003225555869.5, 17194062661599.55, 112298546639840.88, 8267719191435.204, 14283323294663.176, 685372795059.3125, 26857305563214.984, 46653561543057.71, 220069254873722.3, 29352792131763.953, 40443238405959.69, 45376024915638.05, 26857305563214.984, 229599897553763.62, 4705349485788.346, 372790999676152.75, 112176005470435.14, 377125727899849.4, 2042927429893739.0, 49924998111606.54, 70591651307940.16, 138496072627690.31, 121459424463229.06, 46574590567218.35, 1117398008321186.6, 3128627790367911.0, 172651123580169.56, 49843303998669.375, 42874159660798.91, 122499469776938.9, 148649698804302.47, 463144331420512.7, 53222867430120.5, 241522814579368.7, 141418016516860.16, 7475433250305.832, 206321131736624.06, 71783434587375.7, 734115888765154.5, 40443238405959.69, 311869393696309.06, 161547426353494.56, 67441323132940.0, 128832855659197.5, 199613345168075.44, 263974024285015.75, 82102936916003.28, 102541023502743.17, 128298976752342.8, 14212236151921.244, 173890698893879.3, 2490734198522759.5, 149941652619683.44, 13468638585774.285, 187818671344686.94, 155762639188232.56, 94300305466808.22, 165306785697910.7, 136288485255109.88, 97714165176081.84, 281862249142678.44, 106271551352693.69, 3129352524158.4155, 34676315268861.83, 26797396547060.938, 97828536934194.19, 1.0152392099716164e+16, 10899551173008.832, 7735094564015.633, 893897329333.7886, 213827728712028.03, 88627188313179.89, 40369713704316.24, 200946034481785.03, 43492974974508.7, 311869393696309.06, 102064786595888.0, 7966512232550.53, 151096981933393.5, 80087090659998.19, 47137210340840.05, 149941652619683.44, 354830576539054.9, 112298546639840.88, 43492974974508.7, 75928854091449.16, 1747403839012.1133, 144231516051134.5, 61786087665602.84, 162746551039784.7, 362140720795264.25, 4503330172078.557, 248895701147917.8, 212970933805102.88, 186530322030977.7, 61786087665602.84, 72281217929755.28, 206321131736624.06, 234083774099455.97, 154589573874522.75, 26857305563214.984, 77994116125723.72, 8126770964324.664, 1610491584973.6255, 183966925403557.7, 17983859289019.16, 247486322792393.56, 151096981933393.5, 31893773409963.11, 232103782790255.25, 337101148708318.9, 4478821938197.385, 1685745932157.2183, 229599897553763.62, 1.05354788071678e+16, 40369713704316.24, 468993586748634.6, 496391349491.1132, 29290159978512.016, 2122993029376624.2, 129236315544223.62, 127766206345487.78, 79829172879.2298, 248713250962358.06, 58437623686.927795, 72682076836610.1, 58437623686.927795, 1988781643844.2573, 63367409072092.64, 127635495764788.47, 14168665958354.744, 75828098018826.75, 15996329389805.752, 40443238405959.69, 646993388204.4167, 117343583208390.03, 4140368847.764874, 161754353914966.94, 127766206345487.78, 31959128700312.844, 1651055137.9741488, 85223296542257.05, 20035945857568.125, 1380468212393.2026, 504560760784.8358, 164098248384201.16, 342522103343086.4, 3559743603529.6025, 34676315268861.83, 363534789002672.4, 71961328924271.28, 40369713704316.24, 99700229561613.52, 36859619586574.92, 33509149468833.79, 35737911034910.484, 17586743975309.375, 824781239692166.5, 31165588479748.15, 31985751858498.406, 556090137926739.75, 199056492591730.75, 14212236151921.244, 3804238620095308.0, 8012511035910.91, 40369713704316.24, 127635495764788.47, 199383466100386.28, 170185274952749.94, 220407635033.61572, 100119093322639.6, 128832855659197.5, 31959128700312.844, 2411478860855827.0, 1651055137.9741488, 38666604464830.34, 11063682557.55561, 34704046927047.32, 2707945075295.2983, 394698962669605.9, 32303953484541.355, 18003831447204.582, 3034534344014686.0, 1.0343048653441972e+16, 695100355377656.2, 43492974974508.7, 241522814579368.7, 46653561543057.71, 153213589423141.78, 7689900404445.818, 71881467522900.3, 1394083897882.7432, 3595741428.1834116, 26797396547060.938, 226921124812841.8, 3559743603529.6025, 1170005824855501.5, 4503330172078.557, 22596402117034.223, 87851258483386.38, 20035945857568.125, 3537958506746.343, 291717697475.3811, 93226900365645.05, 117343583208390.03, 29378306789949.426, 44116224288218.45, 2374625631365501.0, 118365892522099.53, 57512350562414.234, 1.2822530161583108e+16, 409807856159927.5, 54691237307575.16, 31893773409963.11, 173890698893879.3, 79983611450277.81, 1306067106771.359, 17983859289019.16, 3463446653076083.0, 26797396547060.938, 114101989884518.38, 3568630761715.09, 320016125590254.06, 1.5733094639332248e+16, 123363114977812.88, 114632888344346.0, 504560760784.8358, 1.3415728959329056e+16, 29352792131763.953, 43368857191766.734, 80129232818183.6, 86970837169676.69, 3519367735780802.0, 980233387438127.2, 3559743603529.6025, 3559743603529.6025, 32119033924425.723, 86970837169676.69, 3537958506746.343, 11835922955952.701, 120941064556373.92, 10537998409162.395, 3557612335013.079, 5530535369648.4375, 81251881229713.02, 7347265343450.931, 26797396547060.938, 287226818119613.44, 60404407817253.305, 1246826663717632.5, 2865079761585.505, 14212236151921.244, 102588708160928.5, 14569445465631.02, 16042622720470.18, 85223296542257.05, 3363087820456.137, 344653383765.5902, 59674742503543.734, 126976737614088.28, 19984206252707.855, 55714486589.0205, 172651123580169.56, 1670213323.463684, 67849621155924.516, 56871414650075.41, 7031754197338000.0, 155821408846418.06, 1374944870578.6953, 94412662103467.62, 14569445465631.02, 1394083897882.7432, 1651055137.9741488, 144231516051134.5, 97714165176081.84, 31959128700312.844, 46685727201243.12, 48931927891041.984, 22589764370449.12, 107244542038984.03, 58228713876124.19, 52621959366445.72, 35233054582571.586, 13108224157669.568, 77578846718868.81, 97875113092379.56, 43804045381363.59, 1197480325478443.8, 8267719191435.204, 49180693312379.28, 13859460838211.453, 14212236151921.244, 42874159660798.91, 4344940411861428.0, 894787074170.8865, 973629467232.3677, 3100800949206.317, 92319875051935.2, 328511635276868.44, 9350775664001.576, 56835912406890.08, 28341295504344.34, 213139768305173.2, 504560760784.8358, 37899846616740.25, 50862207839495.77, 3537958506746.343, 5400664772437.217, 104820379073258.42, 143102790737424.62, 173890698893879.3, 1043818372343.6494, 125583939140936.3, 287226818119613.44, 34580543499599.66, 117213221218879.56, 60404407817253.305, 221482468572269.3, 26371510249505.234, 65693578398207.44, 29352792131763.953, 119768501710138.6, 53222867430120.5, 84356177228547.1, 186530322030977.7, 56713280861571.47, 256194264393809.38, 504560760784.8358, 33509149468833.79, 576504471063145.2, 25260202030932.32, 40443238405959.69, 20035945857568.125, 107244542038984.03, 175134708207589.25, 4112593544658.9727, 139977089891874.34, 128832855659197.5, 80129232818183.6, 38302760052300.54, 79941507608463.22, 186594634189162.62, 241343087530906.44, 67944930954351.41, 7999189877725.437, 16758432762386.178, 31364182723672.855, 1266805884288.4863, 180948676975065.56, 90519126424515.78, 892821605121282.5, 3326553691760643.0, 10234541722872.209, 48603121484186.99, 161754353914966.94, 77578846718868.81, 1973941713027.7517, 713745181914581.0, 12244329910589.922, 177504503326.07312, 123415417019627.34, 64119244385802.19, 31959128700312.844, 359934795554930.5, 1556648400166333.0, 3529109664931.8296, 228514120297129.94, 58437623686.927795, 40443238405959.69, 51264610739026.125, 10385715816017.32, 213139768305173.2, 34954130675716.72])\n"
          ],
          "name": "stdout"
        }
      ]
    },
    {
      "cell_type": "code",
      "metadata": {
        "id": "CaB0J3rWiHgZ",
        "colab_type": "code",
        "colab": {}
      },
      "source": [
        ""
      ],
      "execution_count": 0,
      "outputs": []
    }
  ]
}