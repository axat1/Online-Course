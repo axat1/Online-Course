{
  "nbformat": 4,
  "nbformat_minor": 0,
  "metadata": {
    "colab": {
      "name": "Week 4: Ridge Regression Assignment 2.ipynb",
      "provenance": [],
      "collapsed_sections": [],
      "toc_visible": true
    },
    "kernelspec": {
      "name": "python3",
      "display_name": "Python 3"
    }
  },
  "cells": [
    {
      "cell_type": "code",
      "metadata": {
        "id": "l7rj-bbynyFf",
        "colab_type": "code",
        "colab": {
          "base_uri": "https://localhost:8080/",
          "height": 1000
        },
        "outputId": "3a53794f-0977-469f-f62b-6387852aa9de"
      },
      "source": [
        "!pip install turicreate"
      ],
      "execution_count": 2,
      "outputs": [
        {
          "output_type": "stream",
          "text": [
            "Collecting turicreate\n",
            "\u001b[?25l  Downloading https://files.pythonhosted.org/packages/e4/76/76c624d7ae1116b22cd559288596a1f9aa7a50f8f43f4481033fc047f5e9/turicreate-6.3-cp36-cp36m-manylinux1_x86_64.whl (91.9MB)\n",
            "\u001b[K     |████████████████████████████████| 91.9MB 101kB/s \n",
            "\u001b[?25hRequirement already satisfied: six>=1.10.0 in /usr/local/lib/python3.6/dist-packages (from turicreate) (1.12.0)\n",
            "Requirement already satisfied: pillow>=5.2.0 in /usr/local/lib/python3.6/dist-packages (from turicreate) (7.0.0)\n",
            "Requirement already satisfied: scipy>=1.1.0 in /usr/local/lib/python3.6/dist-packages (from turicreate) (1.4.1)\n",
            "Requirement already satisfied: prettytable==0.7.2 in /usr/local/lib/python3.6/dist-packages (from turicreate) (0.7.2)\n",
            "Requirement already satisfied: decorator>=4.0.9 in /usr/local/lib/python3.6/dist-packages (from turicreate) (4.4.2)\n",
            "Requirement already satisfied: numpy in /usr/local/lib/python3.6/dist-packages (from turicreate) (1.18.5)\n",
            "Collecting coremltools==3.3\n",
            "\u001b[?25l  Downloading https://files.pythonhosted.org/packages/77/19/611916d1ef326d38857d93af5ba184f6ad7491642e0fa4f9082e7d82f034/coremltools-3.3-cp36-none-manylinux1_x86_64.whl (3.4MB)\n",
            "\u001b[K     |████████████████████████████████| 3.4MB 48.6MB/s \n",
            "\u001b[?25hRequirement already satisfied: requests>=2.9.1 in /usr/local/lib/python3.6/dist-packages (from turicreate) (2.23.0)\n",
            "Requirement already satisfied: pandas>=0.23.2 in /usr/local/lib/python3.6/dist-packages (from turicreate) (1.0.4)\n",
            "Collecting tensorflow<=2.0.1,>=2.0.0\n",
            "\u001b[?25l  Downloading https://files.pythonhosted.org/packages/43/16/b07e3f7a4a024b47918f7018967eb984b0c542458a6141d8c48515aa81d4/tensorflow-2.0.1-cp36-cp36m-manylinux2010_x86_64.whl (86.3MB)\n",
            "\u001b[K     |████████████████████████████████| 86.3MB 70kB/s \n",
            "\u001b[?25hCollecting resampy==0.2.1\n",
            "\u001b[?25l  Downloading https://files.pythonhosted.org/packages/14/b6/66a06d85474190b50aee1a6c09cdc95bb405ac47338b27e9b21409da1760/resampy-0.2.1.tar.gz (322kB)\n",
            "\u001b[K     |████████████████████████████████| 327kB 50.4MB/s \n",
            "\u001b[?25hRequirement already satisfied: protobuf>=3.1.0 in /usr/local/lib/python3.6/dist-packages (from coremltools==3.3->turicreate) (3.10.0)\n",
            "Requirement already satisfied: idna<3,>=2.5 in /usr/local/lib/python3.6/dist-packages (from requests>=2.9.1->turicreate) (2.9)\n",
            "Requirement already satisfied: certifi>=2017.4.17 in /usr/local/lib/python3.6/dist-packages (from requests>=2.9.1->turicreate) (2020.4.5.1)\n",
            "Requirement already satisfied: urllib3!=1.25.0,!=1.25.1,<1.26,>=1.21.1 in /usr/local/lib/python3.6/dist-packages (from requests>=2.9.1->turicreate) (1.24.3)\n",
            "Requirement already satisfied: chardet<4,>=3.0.2 in /usr/local/lib/python3.6/dist-packages (from requests>=2.9.1->turicreate) (3.0.4)\n",
            "Requirement already satisfied: pytz>=2017.2 in /usr/local/lib/python3.6/dist-packages (from pandas>=0.23.2->turicreate) (2018.9)\n",
            "Requirement already satisfied: python-dateutil>=2.6.1 in /usr/local/lib/python3.6/dist-packages (from pandas>=0.23.2->turicreate) (2.8.1)\n",
            "Requirement already satisfied: astor>=0.6.0 in /usr/local/lib/python3.6/dist-packages (from tensorflow<=2.0.1,>=2.0.0->turicreate) (0.8.1)\n",
            "Requirement already satisfied: keras-preprocessing>=1.0.5 in /usr/local/lib/python3.6/dist-packages (from tensorflow<=2.0.1,>=2.0.0->turicreate) (1.1.2)\n",
            "Requirement already satisfied: termcolor>=1.1.0 in /usr/local/lib/python3.6/dist-packages (from tensorflow<=2.0.1,>=2.0.0->turicreate) (1.1.0)\n",
            "Requirement already satisfied: opt-einsum>=2.3.2 in /usr/local/lib/python3.6/dist-packages (from tensorflow<=2.0.1,>=2.0.0->turicreate) (3.2.1)\n",
            "Requirement already satisfied: keras-applications>=1.0.8 in /usr/local/lib/python3.6/dist-packages (from tensorflow<=2.0.1,>=2.0.0->turicreate) (1.0.8)\n",
            "Collecting tensorboard<2.1.0,>=2.0.0\n",
            "\u001b[?25l  Downloading https://files.pythonhosted.org/packages/76/54/99b9d5d52d5cb732f099baaaf7740403e83fe6b0cedde940fabd2b13d75a/tensorboard-2.0.2-py3-none-any.whl (3.8MB)\n",
            "\u001b[K     |████████████████████████████████| 3.8MB 21.1MB/s \n",
            "\u001b[?25hRequirement already satisfied: grpcio>=1.8.6 in /usr/local/lib/python3.6/dist-packages (from tensorflow<=2.0.1,>=2.0.0->turicreate) (1.29.0)\n",
            "Requirement already satisfied: google-pasta>=0.1.6 in /usr/local/lib/python3.6/dist-packages (from tensorflow<=2.0.1,>=2.0.0->turicreate) (0.2.0)\n",
            "Requirement already satisfied: wrapt>=1.11.1 in /usr/local/lib/python3.6/dist-packages (from tensorflow<=2.0.1,>=2.0.0->turicreate) (1.12.1)\n",
            "Collecting gast==0.2.2\n",
            "  Downloading https://files.pythonhosted.org/packages/4e/35/11749bf99b2d4e3cceb4d55ca22590b0d7c2c62b9de38ac4a4a7f4687421/gast-0.2.2.tar.gz\n",
            "Collecting tensorflow-estimator<2.1.0,>=2.0.0\n",
            "\u001b[?25l  Downloading https://files.pythonhosted.org/packages/fc/08/8b927337b7019c374719145d1dceba21a8bb909b93b1ad6f8fb7d22c1ca1/tensorflow_estimator-2.0.1-py2.py3-none-any.whl (449kB)\n",
            "\u001b[K     |████████████████████████████████| 450kB 46.4MB/s \n",
            "\u001b[?25hRequirement already satisfied: wheel>=0.26; python_version >= \"3\" in /usr/local/lib/python3.6/dist-packages (from tensorflow<=2.0.1,>=2.0.0->turicreate) (0.34.2)\n",
            "Requirement already satisfied: absl-py>=0.7.0 in /usr/local/lib/python3.6/dist-packages (from tensorflow<=2.0.1,>=2.0.0->turicreate) (0.9.0)\n",
            "Requirement already satisfied: numba>=0.32 in /usr/local/lib/python3.6/dist-packages (from resampy==0.2.1->turicreate) (0.48.0)\n",
            "Requirement already satisfied: setuptools in /usr/local/lib/python3.6/dist-packages (from protobuf>=3.1.0->coremltools==3.3->turicreate) (47.1.1)\n",
            "Requirement already satisfied: h5py in /usr/local/lib/python3.6/dist-packages (from keras-applications>=1.0.8->tensorflow<=2.0.1,>=2.0.0->turicreate) (2.10.0)\n",
            "Requirement already satisfied: werkzeug>=0.11.15 in /usr/local/lib/python3.6/dist-packages (from tensorboard<2.1.0,>=2.0.0->tensorflow<=2.0.1,>=2.0.0->turicreate) (1.0.1)\n",
            "Requirement already satisfied: google-auth-oauthlib<0.5,>=0.4.1 in /usr/local/lib/python3.6/dist-packages (from tensorboard<2.1.0,>=2.0.0->tensorflow<=2.0.1,>=2.0.0->turicreate) (0.4.1)\n",
            "Requirement already satisfied: markdown>=2.6.8 in /usr/local/lib/python3.6/dist-packages (from tensorboard<2.1.0,>=2.0.0->tensorflow<=2.0.1,>=2.0.0->turicreate) (3.2.2)\n",
            "Requirement already satisfied: google-auth<2,>=1.6.3 in /usr/local/lib/python3.6/dist-packages (from tensorboard<2.1.0,>=2.0.0->tensorflow<=2.0.1,>=2.0.0->turicreate) (1.7.2)\n",
            "Requirement already satisfied: llvmlite<0.32.0,>=0.31.0dev0 in /usr/local/lib/python3.6/dist-packages (from numba>=0.32->resampy==0.2.1->turicreate) (0.31.0)\n",
            "Requirement already satisfied: requests-oauthlib>=0.7.0 in /usr/local/lib/python3.6/dist-packages (from google-auth-oauthlib<0.5,>=0.4.1->tensorboard<2.1.0,>=2.0.0->tensorflow<=2.0.1,>=2.0.0->turicreate) (1.3.0)\n",
            "Requirement already satisfied: importlib-metadata; python_version < \"3.8\" in /usr/local/lib/python3.6/dist-packages (from markdown>=2.6.8->tensorboard<2.1.0,>=2.0.0->tensorflow<=2.0.1,>=2.0.0->turicreate) (1.6.0)\n",
            "Requirement already satisfied: pyasn1-modules>=0.2.1 in /usr/local/lib/python3.6/dist-packages (from google-auth<2,>=1.6.3->tensorboard<2.1.0,>=2.0.0->tensorflow<=2.0.1,>=2.0.0->turicreate) (0.2.8)\n",
            "Requirement already satisfied: cachetools<3.2,>=2.0.0 in /usr/local/lib/python3.6/dist-packages (from google-auth<2,>=1.6.3->tensorboard<2.1.0,>=2.0.0->tensorflow<=2.0.1,>=2.0.0->turicreate) (3.1.1)\n",
            "Requirement already satisfied: rsa<4.1,>=3.1.4 in /usr/local/lib/python3.6/dist-packages (from google-auth<2,>=1.6.3->tensorboard<2.1.0,>=2.0.0->tensorflow<=2.0.1,>=2.0.0->turicreate) (4.0)\n",
            "Requirement already satisfied: oauthlib>=3.0.0 in /usr/local/lib/python3.6/dist-packages (from requests-oauthlib>=0.7.0->google-auth-oauthlib<0.5,>=0.4.1->tensorboard<2.1.0,>=2.0.0->tensorflow<=2.0.1,>=2.0.0->turicreate) (3.1.0)\n",
            "Requirement already satisfied: zipp>=0.5 in /usr/local/lib/python3.6/dist-packages (from importlib-metadata; python_version < \"3.8\"->markdown>=2.6.8->tensorboard<2.1.0,>=2.0.0->tensorflow<=2.0.1,>=2.0.0->turicreate) (3.1.0)\n",
            "Requirement already satisfied: pyasn1<0.5.0,>=0.4.6 in /usr/local/lib/python3.6/dist-packages (from pyasn1-modules>=0.2.1->google-auth<2,>=1.6.3->tensorboard<2.1.0,>=2.0.0->tensorflow<=2.0.1,>=2.0.0->turicreate) (0.4.8)\n",
            "Building wheels for collected packages: resampy, gast\n",
            "  Building wheel for resampy (setup.py) ... \u001b[?25l\u001b[?25hdone\n",
            "  Created wheel for resampy: filename=resampy-0.2.1-cp36-none-any.whl size=320850 sha256=bc9883e2f9dbc50ca595320d390607d2a87007703fa807953694dfd1a3db6f64\n",
            "  Stored in directory: /root/.cache/pip/wheels/ff/4f/ed/2e6c676c23efe5394bb40ade50662e90eb46e29b48324c5f9b\n",
            "  Building wheel for gast (setup.py) ... \u001b[?25l\u001b[?25hdone\n",
            "  Created wheel for gast: filename=gast-0.2.2-cp36-none-any.whl size=7540 sha256=16b02d5d9e56edbd24538da1ef1d2e1c08eaf48790925f3ae89d26daba3c2cca\n",
            "  Stored in directory: /root/.cache/pip/wheels/5c/2e/7e/a1d4d4fcebe6c381f378ce7743a3ced3699feb89bcfbdadadd\n",
            "Successfully built resampy gast\n",
            "\u001b[31mERROR: tensorflow-probability 0.10.0 has requirement gast>=0.3.2, but you'll have gast 0.2.2 which is incompatible.\u001b[0m\n",
            "Installing collected packages: coremltools, tensorboard, gast, tensorflow-estimator, tensorflow, resampy, turicreate\n",
            "  Found existing installation: tensorboard 2.2.2\n",
            "    Uninstalling tensorboard-2.2.2:\n",
            "      Successfully uninstalled tensorboard-2.2.2\n",
            "  Found existing installation: gast 0.3.3\n",
            "    Uninstalling gast-0.3.3:\n",
            "      Successfully uninstalled gast-0.3.3\n",
            "  Found existing installation: tensorflow-estimator 2.2.0\n",
            "    Uninstalling tensorflow-estimator-2.2.0:\n",
            "      Successfully uninstalled tensorflow-estimator-2.2.0\n",
            "  Found existing installation: tensorflow 2.2.0\n",
            "    Uninstalling tensorflow-2.2.0:\n",
            "      Successfully uninstalled tensorflow-2.2.0\n",
            "  Found existing installation: resampy 0.2.2\n",
            "    Uninstalling resampy-0.2.2:\n",
            "      Successfully uninstalled resampy-0.2.2\n",
            "Successfully installed coremltools-3.3 gast-0.2.2 resampy-0.2.1 tensorboard-2.0.2 tensorflow-2.0.1 tensorflow-estimator-2.0.1 turicreate-6.3\n"
          ],
          "name": "stdout"
        }
      ]
    },
    {
      "cell_type": "markdown",
      "metadata": {
        "id": "v41diGz3o7PX",
        "colab_type": "text"
      },
      "source": [
        "In this notebook, you will implement ridge regression via gradient descent. You will:\n",
        "\n",
        "Convert an SFrame into a Numpy array\n",
        "\n",
        "Write a Numpy function to compute the derivative of the regression weights with respect to a single feature\n",
        "\n",
        "Write gradient descent function to compute the regression weights given an initial weight vector, step size, tolerance, and L2 penalty"
      ]
    },
    {
      "cell_type": "code",
      "metadata": {
        "id": "BTnm7IucoNte",
        "colab_type": "code",
        "colab": {}
      },
      "source": [
        "import turicreate\n",
        "from turicreate import SFrame"
      ],
      "execution_count": 0,
      "outputs": []
    },
    {
      "cell_type": "markdown",
      "metadata": {
        "id": "G2sg6d_jpFtP",
        "colab_type": "text"
      },
      "source": [
        "#2Load in house sales data"
      ]
    },
    {
      "cell_type": "code",
      "metadata": {
        "id": "_ZIarR2npC9B",
        "colab_type": "code",
        "colab": {}
      },
      "source": [
        "sales = turicreate.SFrame('/content/drive/My Drive/Colab Notebooks/Machine Learning/Course 2 Machine Learning Regression/Week2/Assignment1/home_data.sframe')"
      ],
      "execution_count": 0,
      "outputs": []
    },
    {
      "cell_type": "code",
      "metadata": {
        "id": "ER5M0lVNpRwO",
        "colab_type": "code",
        "colab": {}
      },
      "source": [
        "import numpy as np"
      ],
      "execution_count": 0,
      "outputs": []
    },
    {
      "cell_type": "markdown",
      "metadata": {
        "id": "opiT21HLprWR",
        "colab_type": "text"
      },
      "source": [
        "#3Import useful functions from previous notebook\n",
        "As in Week 2, we convert the SFrame into a 2D Numpy array. Copy and paste get_num_data() from the second notebook of Week 2."
      ]
    },
    {
      "cell_type": "code",
      "metadata": {
        "id": "eXE90hwxpUZf",
        "colab_type": "code",
        "colab": {}
      },
      "source": [
        "def get_numpy_data(data_sframe, features, output):\n",
        "    data_sframe['constant'] = 1 # this is how you add a constant column to an SFrame\n",
        "    # add the column 'constant' to the front of the features list so that we can extract it along with the others:\n",
        "    features = ['constant'] + features # this is how you combine two lists\n",
        "    # select the columns of data_SFrame given by the features list into the SFrame features_sframe (now including constant):\n",
        "    features_sframe = data_sframe[features]\n",
        "    # the following line will convert the features_SFrame into a numpy matrix:\n",
        "    feature_matrix = features_sframe.to_numpy()\n",
        "    # assign the column of data_sframe associated with the output to the SArray output_sarray\n",
        "    output_sarray = data_sframe[output]\n",
        "    # the following will convert the SArray into a numpy array by first converting it to a list\n",
        "    output_array = output_sarray.to_numpy()\n",
        "    return(feature_matrix, output_array)"
      ],
      "execution_count": 0,
      "outputs": []
    },
    {
      "cell_type": "markdown",
      "metadata": {
        "id": "-FzWLyQ7pzQ8",
        "colab_type": "text"
      },
      "source": [
        "4. Similarly, copy and paste the ‘predict_output’ function (or equivalent) from Module 2. This function accepts a 2D array ‘feature_matrix’ and a 1D array ‘weights’ and return a 1D array ‘predictions’."
      ]
    },
    {
      "cell_type": "code",
      "metadata": {
        "id": "x_Mn6H4HpmDc",
        "colab_type": "code",
        "colab": {}
      },
      "source": [
        "def predict_output(feature_matrix, weights):\n",
        "    # assume feature_matrix is a numpy matrix containing the features as columns and weights is a corresponding numpy array\n",
        "    # create the predictions vector by using np.dot()\n",
        "    predictions = np.dot(feature_matrix, weights)\n",
        "\n",
        "    return(predictions)"
      ],
      "execution_count": 0,
      "outputs": []
    },
    {
      "cell_type": "markdown",
      "metadata": {
        "id": "b5xPb_rcp-sP",
        "colab_type": "text"
      },
      "source": [
        "5. Computing the Derivative\n",
        "We are now going to move to computing the derivative of the regression cost function. Recall that the cost function is the sum over the data points of the squared difference between an observed output and a predicted output, plus the L2 penalty term.\n",
        "\n",
        "Cost(w)\n",
        "= SUM[ (prediction - output)^2 ] + l2_penalty*(w[0]^2 + w[1]^2 + ... + w[k]^2).\n",
        "\n",
        "Since the derivative of a sum is the sum of the derivatives, we can take the derivative of the first part (the RSS) as we did in the notebook for the unregularized case in Week 2 and add the derivative of the regularization part. As we saw, the derivative of the RSS with respect to w[i] can be \n",
        "written as:\n",
        "\n",
        "2 * SUM[ error * [feature_i] ].\n",
        "The derivative of the regularization term with respect to w[i] is:\n",
        "\n",
        "2 * l2_penalty * w[i].\n",
        "\n",
        "Summing both, we get\n",
        "\n",
        "2 * SUM[ error*[feature_i] ] + 2 * l2_penalty * w[i].\n",
        "\n",
        "That is, the derivative for the weight for feature i is the sum (over data points) of 2 times the product of the error and the feature itself, plus 2 * l2_penalty * w[i].\n",
        "\n",
        "**We will not regularize the constant.** Thus, in the case of the constant, the derivative is just twice the sum of the errors (without the 2 * l2_penalty * w[0] term).\n",
        "\n",
        "Recall that twice the sum of the product of two vectors is just twice the dot product of the two vectors. Therefore the derivative for the weight for feature_i is just two times the dot product between the values of feature_i and the current errors, plus 2 * l2_penalty * w[i].\n",
        "\n",
        "With this in mind complete the following derivative function which computes the derivative of the weight given the value of the feature (over all data points) and the errors (over all data points). To decide when to we are dealing with the constant (so we don't regularize it) we added the extra parameter to the call feature_is_constant which you should set to True when computing the derivative of the constant and False otherwise.\n"
      ]
    },
    {
      "cell_type": "code",
      "metadata": {
        "id": "du72ESPIp7pA",
        "colab_type": "code",
        "colab": {}
      },
      "source": [
        "def feature_derivative_ridge(errors, feature, weight, l2_penalty, feature_is_constant):\n",
        "    # If feature_is_constant is True, derivative is twice the dot product of errors and feature\n",
        "    if feature_is_constant == True:\n",
        "        derivative = 2 * np.dot(errors, feature)\n",
        "    # Otherwise, derivative is twice the dot product plus 2*l2_penalty*weight\n",
        "    else:\n",
        "        derivative = 2 * np.dot(errors, feature) + 2*(l2_penalty*weight)\n",
        "    return derivative"
      ],
      "execution_count": 0,
      "outputs": []
    },
    {
      "cell_type": "markdown",
      "metadata": {
        "id": "8YY-bd7SufNQ",
        "colab_type": "text"
      },
      "source": [
        "7. To test your feature derivative function, run the following:"
      ]
    },
    {
      "cell_type": "code",
      "metadata": {
        "id": "Zjyym0oEuTxI",
        "colab_type": "code",
        "colab": {
          "base_uri": "https://localhost:8080/",
          "height": 102
        },
        "outputId": "ec5ae9bb-7c74-44b0-ae69-9753953074c0"
      },
      "source": [
        "(example_features, example_output) = get_numpy_data(sales, ['sqft_living'], 'price') \n",
        "my_weights = np.array([1., 10.])\n",
        "test_predictions = predict_output(example_features, my_weights)\n",
        "\n",
        "errors = test_predictions - example_output # prediction errors\n",
        "\n",
        "# next two lines should print the same values\n",
        "print(feature_derivative_ridge(errors, example_features[:,1], my_weights[1], 1, False))\n",
        "print(np.sum(errors*example_features[:,1])*2+20.)\n",
        "print('')\n",
        "\n",
        "# next two lines should print the same values\n",
        "print(feature_derivative_ridge(errors, example_features[:,0], my_weights[0], 1, True))\n",
        "print(np.sum(errors)*2.)"
      ],
      "execution_count": 9,
      "outputs": [
        {
          "output_type": "stream",
          "text": [
            "-56554166782350.0\n",
            "-56554166782350.0\n",
            "\n",
            "-22446749334.0\n",
            "-22446749336.0\n"
          ],
          "name": "stdout"
        }
      ]
    },
    {
      "cell_type": "markdown",
      "metadata": {
        "id": "C0ibN1Hsbwbp",
        "colab_type": "text"
      },
      "source": [
        "8. Now we will write a function that performs a gradient descent. The basic premise is simple. Given a starting point we update the current weights by moving in the negative gradient direction. Recall that the gradient is the direction of increase and therefore the negative gradient is the direction of decrease and we're trying to minimize a cost function.\n",
        "\n",
        "The amount by which we move in the negative gradient direction is called the ‘step size’. We stop when we are ‘sufficiently close’ to the optimum. Unlike in Module 2, this time we will set a maximum number of iterations and take gradient steps until we reach this maximum number. If no maximum number is supplied, the maximum should be set 100 by default. (Use default parameter values in Python.)\n",
        "\n",
        "With this in mind, write a gradient descent function using your derivative function above. For each step in the gradient descent, we update the weight for each feature before computing our stopping criteria. The function will take the following parameters:\n",
        "\n",
        "\n",
        "\n",
        "*   2D feature matrix\n",
        "*   array of output values\n",
        "*   initial weights\n",
        "*   step size\n",
        "*   L2 penalty\n",
        "*   maximum number of iterations\n",
        "\n",
        "\n",
        "To make your job easier, we provide a skeleton in Python:\n",
        "        \n",
        "    def ridge_regression_gradient_descent(feature_matrix, output, initial_weights, step_size, l2_penalty, max_iterations=100):\n",
        "        weights = np.array(initial_weights) # make sure it's a numpy array\n",
        "            #while not reached maximum number of iterations:\n",
        "            # compute the predictions using your predict_output() function\n",
        "\n",
        "            # compute the errors as predictions - output\n",
        "            for i in xrange(len(weights)): # loop over each weight\n",
        "                # Recall that feature_matrix[:,i] is the feature column associated with weights[i]\n",
        "                # compute the derivative for weight[i].\n",
        "                #(Remember: when i=0, you are computing the derivative of the constant!)\n",
        "\n",
        "                # subtract the step size times the derivative from the current weight  \n",
        "                  return weights"
      ]
    },
    {
      "cell_type": "code",
      "metadata": {
        "id": "RphgDnPDvFuu",
        "colab_type": "code",
        "colab": {}
      },
      "source": [
        "def ridge_regression_gradient_descent(feature_matrix, output, initial_weights, step_size, l2_penalty, max_iterations=100):\n",
        "    weights = np.array(initial_weights) # make sure it's a numpy array\n",
        "    \n",
        "    #while not reached maximum number of iterations:\n",
        "    while max_iterations > 0:\n",
        "        # compute the predictions based on feature_matrix and weights using your predict_output() function\n",
        "        predictions = predict_output(feature_matrix, weights)\n",
        "        # compute the errors as predictions - output\n",
        "        errors = predictions - output\n",
        "        for i in range(len(weights)): # loop over each weight\n",
        "            # Recall that feature_matrix[:,i] is the feature column associated with weights[i]\n",
        "            # compute the derivative for weight[i].\n",
        "            #(Remember: when i=0, you are computing the derivative of the constant!)\n",
        "            if i == 0:\n",
        "                feature_is_constant = True\n",
        "            else:\n",
        "                feature_is_constant = False\n",
        "            derivative = feature_derivative_ridge(errors, feature_matrix[:,i], weights[i], l2_penalty, feature_is_constant)\n",
        "\n",
        "            # subtract the step size times the derivative from the current weight\n",
        "            weights[i] = weights[i] - (step_size * derivative)\n",
        "        max_iterations -= 1            \n",
        "    return weights"
      ],
      "execution_count": 0,
      "outputs": []
    },
    {
      "cell_type": "markdown",
      "metadata": {
        "id": "0ixE6USwkJYN",
        "colab_type": "text"
      },
      "source": [
        "9. The L2 penalty gets its name because it causes weights to have small L2 norms than otherwise. Let's see how large weights get penalized. Let us consider a simple model with 1 feature.\n",
        "\n",
        "\n",
        "*   features: ‘sqft_living’\n",
        "\n",
        "*   output: ‘price’\n",
        "\n"
      ]
    },
    {
      "cell_type": "code",
      "metadata": {
        "id": "acrYglnaeRxu",
        "colab_type": "code",
        "colab": {}
      },
      "source": [
        "simple_features = ['sqft_living']\n",
        "my_output = 'price'"
      ],
      "execution_count": 0,
      "outputs": []
    },
    {
      "cell_type": "markdown",
      "metadata": {
        "id": "9qB9xg7hkcjD",
        "colab_type": "text"
      },
      "source": [
        "10. Split the dataset into training set and test set."
      ]
    },
    {
      "cell_type": "code",
      "metadata": {
        "id": "6RebTKy2kYfH",
        "colab_type": "code",
        "colab": {}
      },
      "source": [
        "train_data,test_data = sales.random_split(.8,seed=0)"
      ],
      "execution_count": 0,
      "outputs": []
    },
    {
      "cell_type": "markdown",
      "metadata": {
        "id": "XqaJbyXRkjJL",
        "colab_type": "text"
      },
      "source": [
        "11. Convert the training set and test set using the ‘get_numpy_data’ function"
      ]
    },
    {
      "cell_type": "code",
      "metadata": {
        "id": "uSZ1bDHBkfSH",
        "colab_type": "code",
        "colab": {}
      },
      "source": [
        "(simple_feature_matrix, output) = get_numpy_data(train_data, simple_features, my_output)\n",
        "(simple_test_feature_matrix, test_output) = get_numpy_data(test_data, simple_features, my_output)"
      ],
      "execution_count": 0,
      "outputs": []
    },
    {
      "cell_type": "markdown",
      "metadata": {
        "id": "-cE1MYCWl1nK",
        "colab_type": "text"
      },
      "source": [
        "12. First, let’s consider no regularization. Set the L2 penalty to 0.0 and run your ridge regression algorithm to learn the weights of the simple model (described above). Use the following parameters:\n",
        "\n",
        "step_size = 1e-12\n",
        "\n",
        "max_iterations = 1000\n",
        "\n",
        "initial_weights = all zeros"
      ]
    },
    {
      "cell_type": "code",
      "metadata": {
        "id": "X0E5nMB5kwUs",
        "colab_type": "code",
        "colab": {}
      },
      "source": [
        "initial_weights = np.array([0., 0.])\n",
        "step_size = 1e-12\n",
        "max_iterations=1000"
      ],
      "execution_count": 0,
      "outputs": []
    },
    {
      "cell_type": "markdown",
      "metadata": {
        "id": "anqXlXocmpeG",
        "colab_type": "text"
      },
      "source": [
        "First, let's consider no regularization. Set the l2_penalty to 0.0 and run your ridge regression algorithm to learn the weights of your model. Call your weights:\n",
        "\n",
        "simple_weights_0_penalty\n",
        "\n",
        "we'll use them later."
      ]
    },
    {
      "cell_type": "code",
      "metadata": {
        "id": "BQir-U0Al6NE",
        "colab_type": "code",
        "colab": {
          "base_uri": "https://localhost:8080/",
          "height": 34
        },
        "outputId": "510a5903-449c-4c39-fc50-aaadaf6981f8"
      },
      "source": [
        "simple_weights_0_penalty = ridge_regression_gradient_descent(simple_feature_matrix, output, \n",
        "                                                             initial_weights, step_size, \n",
        "                                                             0.0, max_iterations)\n",
        "print(simple_weights_0_penalty)"
      ],
      "execution_count": 33,
      "outputs": [
        {
          "output_type": "stream",
          "text": [
            "[-1.63113501e-01  2.63024369e+02]\n"
          ],
          "name": "stdout"
        }
      ]
    },
    {
      "cell_type": "markdown",
      "metadata": {
        "id": "wNAbGm-NmsNC",
        "colab_type": "text"
      },
      "source": [
        "Next, let's consider high regularization. Set the l2_penalty to 1e11 and run your ridge regression algorithm to learn the weights of your model. Call your weights:\n",
        "\n",
        "simple_weights_high_penalty\n",
        "\n",
        "we'll use them later."
      ]
    },
    {
      "cell_type": "code",
      "metadata": {
        "id": "y6mM_O5LmGOB",
        "colab_type": "code",
        "colab": {
          "base_uri": "https://localhost:8080/",
          "height": 34
        },
        "outputId": "f878b121-0306-4e73-e304-6ed2800cdf9c"
      },
      "source": [
        "simple_weights_high_penalty = ridge_regression_gradient_descent(simple_feature_matrix, output, \n",
        "                                                             initial_weights, step_size, \n",
        "                                                             1e11, max_iterations)\n",
        "print(simple_weights_high_penalty)"
      ],
      "execution_count": 35,
      "outputs": [
        {
          "output_type": "stream",
          "text": [
            "[  9.76730383 124.57217565]\n"
          ],
          "name": "stdout"
        }
      ]
    },
    {
      "cell_type": "markdown",
      "metadata": {
        "id": "icdfeFc2m2B6",
        "colab_type": "text"
      },
      "source": [
        "14. If you have access to matplotlib, the following piece of code will plot the two learned models. (The blue line is for the model with no regularization and the red line is for the one with high regularization.)"
      ]
    },
    {
      "cell_type": "code",
      "metadata": {
        "id": "XJsWmciVmutg",
        "colab_type": "code",
        "colab": {
          "base_uri": "https://localhost:8080/",
          "height": 378
        },
        "outputId": "e80a70f5-91b5-4dc3-ad3d-fa9feecbd605"
      },
      "source": [
        "import matplotlib.pyplot as plt\n",
        "%matplotlib inline\n",
        "plt.plot(simple_feature_matrix,output,'k.',\n",
        "        simple_feature_matrix,predict_output(simple_feature_matrix, simple_weights_0_penalty),'b-',\n",
        "        simple_feature_matrix,predict_output(simple_feature_matrix, simple_weights_high_penalty),'r-')"
      ],
      "execution_count": 36,
      "outputs": [
        {
          "output_type": "execute_result",
          "data": {
            "text/plain": [
              "[<matplotlib.lines.Line2D at 0x7f3e840b3cf8>,\n",
              " <matplotlib.lines.Line2D at 0x7f3e840b3e48>,\n",
              " <matplotlib.lines.Line2D at 0x7f3e840b3f60>,\n",
              " <matplotlib.lines.Line2D at 0x7f3e840c4128>,\n",
              " <matplotlib.lines.Line2D at 0x7f3e840c4278>,\n",
              " <matplotlib.lines.Line2D at 0x7f3e840c43c8>]"
            ]
          },
          "metadata": {
            "tags": []
          },
          "execution_count": 36
        },
        {
          "output_type": "display_data",
          "data": {
            "image/png": "[encoded data removed]",
            "text/plain": [
              "<Figure size 432x288 with 1 Axes>"
            ]
          },
          "metadata": {
            "tags": [],
            "needs_background": "light"
          }
        }
      ]
    },
    {
      "cell_type": "markdown",
      "metadata": {
        "id": "NubxBbOtof5P",
        "colab_type": "text"
      },
      "source": [
        "#15. **Quiz Question:** What is the value of the coefficient for sqft_living that you learned with no regularization, rounded to 1 decimal place? What about the one with high regularization?\n",
        "\n",
        "#16. **Quiz Question:** Comparing the lines you fit with and with no regularization versus high regularization, which one is steeper?"
      ]
    },
    {
      "cell_type": "markdown",
      "metadata": {
        "id": "aYFM3LlFnEK_",
        "colab_type": "text"
      },
      "source": [
        "Compute the RSS on the TEST data for the following three sets of weights:\n",
        "\n",
        "The initial weights (all zeros)\n",
        "\n",
        "The weights learned with no regularization\n",
        "\n",
        "The weights learned with high regularization\n",
        "\n",
        "Which weights perform best?"
      ]
    },
    {
      "cell_type": "code",
      "metadata": {
        "id": "B3nP013Xm4YA",
        "colab_type": "code",
        "colab": {
          "base_uri": "https://localhost:8080/",
          "height": 34
        },
        "outputId": "c123545e-8dfd-4885-f984-8f902f9cf73e"
      },
      "source": [
        "initial_prediction = predict_output(simple_test_feature_matrix, initial_weights)\n",
        "initial_residual =  test_output - initial_prediction\n",
        "initial_RSS = (initial_residual*initial_residual).sum()\n",
        "print(initial_RSS)"
      ],
      "execution_count": 40,
      "outputs": [
        {
          "output_type": "stream",
          "text": [
            "1784273282524564.0\n"
          ],
          "name": "stdout"
        }
      ]
    },
    {
      "cell_type": "code",
      "metadata": {
        "id": "y8u3by3Un1dU",
        "colab_type": "code",
        "colab": {
          "base_uri": "https://localhost:8080/",
          "height": 34
        },
        "outputId": "4dc6c50a-a177-44d9-9637-6de9e99f55e6"
      },
      "source": [
        "no_regularization_predictions = predict_output(simple_test_feature_matrix, simple_weights_0_penalty)\n",
        "no_regularization_residuals = test_output - no_regularization_predictions\n",
        "no_regularization_RSS = (no_regularization_residuals **2).sum()\n",
        "print(no_regularization_RSS)"
      ],
      "execution_count": 41,
      "outputs": [
        {
          "output_type": "stream",
          "text": [
            "275723634597546.75\n"
          ],
          "name": "stdout"
        }
      ]
    },
    {
      "cell_type": "code",
      "metadata": {
        "id": "BBD9VkCnoMVE",
        "colab_type": "code",
        "colab": {
          "base_uri": "https://localhost:8080/",
          "height": 34
        },
        "outputId": "7ac8cd08-0b62-49e5-fff5-6cd190d29c81"
      },
      "source": [
        "regularization_predictions = predict_output(simple_test_feature_matrix, simple_weights_high_penalty)\n",
        "regularization_residuals = test_output - regularization_predictions\n",
        "regularization_RSS = (regularization_residuals **2).sum()\n",
        "print(regularization_RSS)"
      ],
      "execution_count": 43,
      "outputs": [
        {
          "output_type": "stream",
          "text": [
            "694642100913950.1\n"
          ],
          "name": "stdout"
        }
      ]
    },
    {
      "cell_type": "markdown",
      "metadata": {
        "id": "1mLpxJL1o1sq",
        "colab_type": "text"
      },
      "source": [
        "19. Let us now consider a model with 2 features: [ ‘sqft_living’, ‘sqft_living_15’]. First, create Numpy version of your training and test data with the two features."
      ]
    },
    {
      "cell_type": "code",
      "metadata": {
        "id": "eVO5D36GoUtd",
        "colab_type": "code",
        "colab": {}
      },
      "source": [
        "model_features = ['sqft_living', 'sqft_living15']\n",
        "my_output = 'price'\n",
        "(feature_matrix, output) = get_numpy_data(train_data, model_features, my_output)\n",
        "(test_feature_matrix, test_output) = get_numpy_data(test_data, model_features, my_output)"
      ],
      "execution_count": 0,
      "outputs": []
    },
    {
      "cell_type": "markdown",
      "metadata": {
        "id": "FqGFpqgEo8h5",
        "colab_type": "text"
      },
      "source": [
        "20. First, let’s consider no regularization. Set the L2 penalty to 0.0 and run your ridge regression algorithm. Use the following parameters:\n",
        "\n",
        "initial_weights = all zeros\n",
        "\n",
        "step size = 1e-12\n",
        "\n",
        "max_iterations = 1000"
      ]
    },
    {
      "cell_type": "code",
      "metadata": {
        "id": "kuAsywfYo4nu",
        "colab_type": "code",
        "colab": {}
      },
      "source": [
        "initial_weights = np.array([0.0,0.0,0.0])\n",
        "step_size = 1e-12\n",
        "max_iterations = 1000"
      ],
      "execution_count": 0,
      "outputs": []
    },
    {
      "cell_type": "code",
      "metadata": {
        "id": "994D1NRYpDDU",
        "colab_type": "code",
        "colab": {
          "base_uri": "https://localhost:8080/",
          "height": 34
        },
        "outputId": "c37ad118-3e20-43ad-8cde-122016573ce3"
      },
      "source": [
        "multiple_weights_0_penalty = ridge_regression_gradient_descent(feature_matrix, output, \n",
        "                                                               initial_weights, step_size, \n",
        "                                                               0.0, max_iterations)\n",
        "print(multiple_weights_0_penalty)"
      ],
      "execution_count": 52,
      "outputs": [
        {
          "output_type": "stream",
          "text": [
            "[ -0.35743482 243.0541689   22.41481594]\n"
          ],
          "name": "stdout"
        }
      ]
    },
    {
      "cell_type": "code",
      "metadata": {
        "id": "wcaqVpvZpU1y",
        "colab_type": "code",
        "colab": {
          "base_uri": "https://localhost:8080/",
          "height": 34
        },
        "outputId": "4d7dd373-9207-4503-9329-799e5c799765"
      },
      "source": [
        "multiple_weights_high_penalty = ridge_regression_gradient_descent(feature_matrix, output, \n",
        "                                                               initial_weights, step_size, \n",
        "                                                               1e11, max_iterations)\n",
        "print(multiple_weights_high_penalty)"
      ],
      "execution_count": 53,
      "outputs": [
        {
          "output_type": "stream",
          "text": [
            "[ 6.7429658  91.48927361 78.43658768]\n"
          ],
          "name": "stdout"
        }
      ]
    },
    {
      "cell_type": "markdown",
      "metadata": {
        "id": "0HS7Z-SGqA9p",
        "colab_type": "text"
      },
      "source": [
        "22. **Quiz Question:** What is the value of the coefficient for ‘sqft_living’ that you learned with no regularization, rounded to 1 decimal place? What about the one with high regularization?"
      ]
    },
    {
      "cell_type": "markdown",
      "metadata": {
        "id": "84N5s3PUqII6",
        "colab_type": "text"
      },
      "source": [
        "23. Compute the RSS on the TEST data for the following three sets of weights:\n",
        "\n",
        "The initial weights (all zeros)\n",
        "\n",
        "The weights learned with no regularization\n",
        "\n",
        "The weights learned with high regularization\n"
      ]
    },
    {
      "cell_type": "code",
      "metadata": {
        "id": "WzsT41Q3p-Oi",
        "colab_type": "code",
        "colab": {
          "base_uri": "https://localhost:8080/",
          "height": 34
        },
        "outputId": "16ec7b92-7bcd-4f9b-fec6-85b2506558dc"
      },
      "source": [
        "initial_predictions1 = predict_output(test_feature_matrix, initial_weights)\n",
        "initial_residuals1 = test_output - initial_predictions1\n",
        "initial_RSS1 = (initial_residuals1 **2).sum()\n",
        "print(initial_RSS1)"
      ],
      "execution_count": 54,
      "outputs": [
        {
          "output_type": "stream",
          "text": [
            "1784273282524564.0\n"
          ],
          "name": "stdout"
        }
      ]
    },
    {
      "cell_type": "code",
      "metadata": {
        "id": "zbDVaiOSqbxY",
        "colab_type": "code",
        "colab": {
          "base_uri": "https://localhost:8080/",
          "height": 34
        },
        "outputId": "cf2a033d-8db1-4ec5-be99-09b5b9bc3fbe"
      },
      "source": [
        "no_regularization_predictions1 = predict_output(test_feature_matrix, multiple_weights_0_penalty)\n",
        "no_regularization_residuals1 = test_output - no_regularization_predictions1\n",
        "no_regularization_RSS1 = (no_regularization_residuals1 **2).sum()\n",
        "print(no_regularization_RSS1)"
      ],
      "execution_count": 55,
      "outputs": [
        {
          "output_type": "stream",
          "text": [
            "274067618287245.2\n"
          ],
          "name": "stdout"
        }
      ]
    },
    {
      "cell_type": "code",
      "metadata": {
        "id": "EwwEumPTqr9E",
        "colab_type": "code",
        "colab": {
          "base_uri": "https://localhost:8080/",
          "height": 34
        },
        "outputId": "6842a984-2a4c-4f31-a915-d0fb92c33c37"
      },
      "source": [
        "regularization_predictions1 = predict_output(test_feature_matrix, multiple_weights_high_penalty)\n",
        "regularization_residuals1 = test_output - regularization_predictions1\n",
        "regularization_RSS1 = (regularization_residuals1 **2).sum()\n",
        "print(regularization_RSS1)"
      ],
      "execution_count": 56,
      "outputs": [
        {
          "output_type": "stream",
          "text": [
            "500404800579555.56\n"
          ],
          "name": "stdout"
        }
      ]
    },
    {
      "cell_type": "markdown",
      "metadata": {
        "id": "ULKO9dQdq69O",
        "colab_type": "text"
      },
      "source": [
        "24. **Quiz Question:** What are the RSS on the test data for each of the set of weights above (initial, no regularization, high regularization)?"
      ]
    },
    {
      "cell_type": "markdown",
      "metadata": {
        "id": "BNlxXCAwq-3e",
        "colab_type": "text"
      },
      "source": [
        "25. Predict the house price for the 1st house in the test set using the no regularization and high regularization models. (Remember that python starts indexing from 0.)"
      ]
    },
    {
      "cell_type": "code",
      "metadata": {
        "id": "eP1KP-XFq_q0",
        "colab_type": "code",
        "colab": {
          "base_uri": "https://localhost:8080/",
          "height": 51
        },
        "outputId": "26716117-caf7-4bdb-b411-e9a358d5e641"
      },
      "source": [
        "print(no_regularization_predictions[0])\n",
        "print(test_output[0] - no_regularization_predictions[0])"
      ],
      "execution_count": 57,
      "outputs": [
        {
          "output_type": "stream",
          "text": [
            "376124.68442291836\n",
            "-66124.68442291836\n"
          ],
          "name": "stdout"
        }
      ]
    },
    {
      "cell_type": "code",
      "metadata": {
        "id": "5ROh_043q3XO",
        "colab_type": "code",
        "colab": {
          "base_uri": "https://localhost:8080/",
          "height": 51
        },
        "outputId": "9ba4c166-ae17-4e9e-b5f1-4f8a87d70b64"
      },
      "source": [
        "print(regularization_predictions[0])\n",
        "print(test_output[0] - regularization_predictions[0])"
      ],
      "execution_count": 58,
      "outputs": [
        {
          "output_type": "stream",
          "text": [
            "178147.97847803097\n",
            "131852.02152196903\n"
          ],
          "name": "stdout"
        }
      ]
    },
    {
      "cell_type": "markdown",
      "metadata": {
        "id": "3iZk4xyfrhme",
        "colab_type": "text"
      },
      "source": [
        "26. **Quiz Question:** What's the error in predicting the price of the first house in the test set using the weights learned with no regularization? What about with high regularization?"
      ]
    },
    {
      "cell_type": "code",
      "metadata": {
        "id": "pAvAkj4tre8P",
        "colab_type": "code",
        "colab": {}
      },
      "source": [
        ""
      ],
      "execution_count": 0,
      "outputs": []
    }
  ]
}